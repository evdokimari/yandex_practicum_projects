{
 "cells": [
  {
   "cell_type": "markdown",
   "metadata": {
    "toc": true
   },
   "source": [
    "<h1>Содержание<span class=\"tocSkip\"></span></h1>\n",
    "<div class=\"toc\"><ul class=\"toc-item\"><li><span><a href=\"#Подготовка\" data-toc-modified-id=\"Подготовка-1\"><span class=\"toc-item-num\">1&nbsp;&nbsp;</span>Подготовка</a></span></li><li><span><a href=\"#Анализ\" data-toc-modified-id=\"Анализ-2\"><span class=\"toc-item-num\">2&nbsp;&nbsp;</span>Анализ</a></span><ul class=\"toc-item\"><li><span><a href=\"#Декомпозиция-ряда\" data-toc-modified-id=\"Декомпозиция-ряда-2.1\"><span class=\"toc-item-num\">2.1&nbsp;&nbsp;</span>Декомпозиция ряда</a></span></li></ul></li><li><span><a href=\"#Обучение-и-тестирование\" data-toc-modified-id=\"Обучение-и-тестирование-3\"><span class=\"toc-item-num\">3&nbsp;&nbsp;</span>Обучение и тестирование</a></span><ul class=\"toc-item\"><li><span><a href=\"#Dummy\" data-toc-modified-id=\"Dummy-3.1\"><span class=\"toc-item-num\">3.1&nbsp;&nbsp;</span>Dummy</a></span></li><li><span><a href=\"#Линейная-регрессия\" data-toc-modified-id=\"Линейная-регрессия-3.2\"><span class=\"toc-item-num\">3.2&nbsp;&nbsp;</span>Линейная регрессия</a></span></li><li><span><a href=\"#Дерево-решений\" data-toc-modified-id=\"Дерево-решений-3.3\"><span class=\"toc-item-num\">3.3&nbsp;&nbsp;</span>Дерево решений</a></span></li><li><span><a href=\"#Случайный-лес\" data-toc-modified-id=\"Случайный-лес-3.4\"><span class=\"toc-item-num\">3.4&nbsp;&nbsp;</span>Случайный лес</a></span></li><li><span><a href=\"#LightGBM\" data-toc-modified-id=\"LightGBM-3.5\"><span class=\"toc-item-num\">3.5&nbsp;&nbsp;</span>LightGBM</a></span></li></ul></li><li><span><a href=\"#Вывод\" data-toc-modified-id=\"Вывод-4\"><span class=\"toc-item-num\">4&nbsp;&nbsp;</span>Вывод</a></span></li></ul></div>"
   ]
  },
  {
   "cell_type": "markdown",
   "metadata": {},
   "source": [
    "#  Прогнозирование заказов такси"
   ]
  },
  {
   "cell_type": "markdown",
   "metadata": {},
   "source": [
    "Компания «Чётенькое такси» собрала исторические данные о заказах такси в аэропортах. Чтобы привлекать больше водителей в период пиковой нагрузки, нужно спрогнозировать количество заказов такси на следующий час. Постройте модель для такого предсказания.\n",
    "\n",
    "Значение метрики *RMSE* на тестовой выборке должно быть не больше 48.\n",
    "\n",
    "Вам нужно:\n",
    "\n",
    "1. Загрузить данные и выполнить их ресемплирование по одному часу.\n",
    "2. Проанализировать данные.\n",
    "3. Обучить разные модели с различными гиперпараметрами. Сделать тестовую выборку размером 10% от исходных данных.\n",
    "4. Проверить данные на тестовой выборке и сделать выводы.\n",
    "\n",
    "\n",
    "Данные лежат в файле `taxi.csv`. Количество заказов находится в столбце `num_orders` (от англ. *number of orders*, «число заказов»)."
   ]
  },
  {
   "cell_type": "markdown",
   "metadata": {},
   "source": [
    "## Подготовка"
   ]
  },
  {
   "cell_type": "markdown",
   "metadata": {},
   "source": [
    "Подключим нужные библиотеки, прочитаем файлы и посмотрим на их значения, размеры и типы данных."
   ]
  },
  {
   "cell_type": "code",
   "execution_count": 1,
   "metadata": {},
   "outputs": [
    {
     "name": "stdout",
     "output_type": "stream",
     "text": [
      "Defaulting to user installation because normal site-packages is not writeable\n",
      "Requirement already satisfied: lightgbm in /opt/conda/lib/python3.7/site-packages (2.3.1)\n",
      "Requirement already satisfied: scikit-learn in /opt/conda/lib/python3.7/site-packages (from lightgbm) (0.21.2)\n",
      "Requirement already satisfied: numpy in /opt/conda/lib/python3.7/site-packages (from lightgbm) (1.19.5)\n",
      "Requirement already satisfied: scipy in /opt/conda/lib/python3.7/site-packages (from lightgbm) (1.4.1)\n",
      "Requirement already satisfied: joblib>=0.11 in /opt/conda/lib/python3.7/site-packages (from scikit-learn->lightgbm) (1.0.1)\n",
      "Defaulting to user installation because normal site-packages is not writeable\n",
      "Requirement already satisfied: catboost in /opt/conda/lib/python3.7/site-packages (0.20.2)\n",
      "Requirement already satisfied: plotly in /opt/conda/lib/python3.7/site-packages (from catboost) (4.1.0)\n",
      "Requirement already satisfied: scipy in /opt/conda/lib/python3.7/site-packages (from catboost) (1.4.1)\n",
      "Requirement already satisfied: matplotlib in /opt/conda/lib/python3.7/site-packages (from catboost) (3.1.0)\n",
      "Requirement already satisfied: six in /opt/conda/lib/python3.7/site-packages (from catboost) (1.15.0)\n",
      "Requirement already satisfied: pandas>=0.24.0 in /opt/conda/lib/python3.7/site-packages (from catboost) (0.25.1)\n",
      "Requirement already satisfied: numpy>=1.16.0 in /opt/conda/lib/python3.7/site-packages (from catboost) (1.19.5)\n",
      "Requirement already satisfied: graphviz in /opt/conda/lib/python3.7/site-packages (from catboost) (0.16)\n",
      "Requirement already satisfied: retrying>=1.3.3 in /opt/conda/lib/python3.7/site-packages (from plotly->catboost) (1.3.3)\n",
      "Requirement already satisfied: pyparsing!=2.0.4,!=2.1.2,!=2.1.6,>=2.0.1 in /opt/conda/lib/python3.7/site-packages (from matplotlib->catboost) (2.4.7)\n",
      "Requirement already satisfied: cycler>=0.10 in /opt/conda/lib/python3.7/site-packages (from matplotlib->catboost) (0.10.0)\n",
      "Requirement already satisfied: python-dateutil>=2.1 in /opt/conda/lib/python3.7/site-packages (from matplotlib->catboost) (2.8.1)\n",
      "Requirement already satisfied: kiwisolver>=1.0.1 in /opt/conda/lib/python3.7/site-packages (from matplotlib->catboost) (1.3.1)\n",
      "Requirement already satisfied: pytz>=2017.2 in /opt/conda/lib/python3.7/site-packages (from pandas>=0.24.0->catboost) (2021.1)\n"
     ]
    }
   ],
   "source": [
    "!pip install lightgbm\n",
    "!pip install catboost\n",
    "\n",
    "import pandas as pd\n",
    "import numpy as np\n",
    "\n",
    "from sklearn.dummy import DummyRegressor\n",
    "from sklearn.linear_model import LinearRegression\n",
    "from sklearn.tree import DecisionTreeRegressor\n",
    "from sklearn.ensemble import RandomForestRegressor\n",
    "from lightgbm import LGBMRegressor\n",
    "from catboost import *\n",
    "\n",
    "\n",
    "from sklearn.feature_selection import RFE\n",
    "\n",
    "from sklearn.preprocessing import OrdinalEncoder\n",
    "from sklearn.preprocessing import StandardScaler\n",
    "pd.options.mode.chained_assignment = None\n",
    "\n",
    "from sklearn.model_selection import GridSearchCV\n",
    "from sklearn.model_selection import TimeSeriesSplit\n",
    "from sklearn.metrics import make_scorer\n",
    "\n",
    "from sklearn.model_selection import train_test_split\n",
    "from sklearn.metrics import mean_squared_error\n",
    "from sklearn.utils import shuffle\n",
    "from scipy import stats as st\n",
    "from scipy.stats import levene\n",
    "\n",
    "\n",
    "from IPython.display import display\n",
    "pd.set_option('display.float_format', '{:.2f}'.format)\n",
    "import warnings\n",
    "warnings.filterwarnings('ignore')\n",
    "import matplotlib.pyplot as plt\n",
    "import seaborn as sns\n",
    "\n",
    "from datetime import datetime\n",
    "from statsmodels.tsa.seasonal import seasonal_decompose"
   ]
  },
  {
   "cell_type": "code",
   "execution_count": 2,
   "metadata": {},
   "outputs": [],
   "source": [
    "df = pd.read_csv('https://code.s3.yandex.net/datasets/taxi.csv', index_col=[0], parse_dates=[0])"
   ]
  },
  {
   "cell_type": "code",
   "execution_count": 3,
   "metadata": {},
   "outputs": [
    {
     "name": "stdout",
     "output_type": "stream",
     "text": [
      "<class 'pandas.core.frame.DataFrame'>\n",
      "DatetimeIndex: 26496 entries, 2018-03-01 00:00:00 to 2018-08-31 23:50:00\n",
      "Data columns (total 1 columns):\n",
      "num_orders    26496 non-null int64\n",
      "dtypes: int64(1)\n",
      "memory usage: 414.0 KB\n"
     ]
    },
    {
     "data": {
      "text/html": [
       "<div>\n",
       "<style scoped>\n",
       "    .dataframe tbody tr th:only-of-type {\n",
       "        vertical-align: middle;\n",
       "    }\n",
       "\n",
       "    .dataframe tbody tr th {\n",
       "        vertical-align: top;\n",
       "    }\n",
       "\n",
       "    .dataframe thead th {\n",
       "        text-align: right;\n",
       "    }\n",
       "</style>\n",
       "<table border=\"1\" class=\"dataframe\">\n",
       "  <thead>\n",
       "    <tr style=\"text-align: right;\">\n",
       "      <th></th>\n",
       "      <th>num_orders</th>\n",
       "    </tr>\n",
       "    <tr>\n",
       "      <th>datetime</th>\n",
       "      <th></th>\n",
       "    </tr>\n",
       "  </thead>\n",
       "  <tbody>\n",
       "    <tr>\n",
       "      <td>2018-03-01 00:00:00</td>\n",
       "      <td>9</td>\n",
       "    </tr>\n",
       "    <tr>\n",
       "      <td>2018-03-01 00:10:00</td>\n",
       "      <td>14</td>\n",
       "    </tr>\n",
       "    <tr>\n",
       "      <td>2018-03-01 00:20:00</td>\n",
       "      <td>28</td>\n",
       "    </tr>\n",
       "    <tr>\n",
       "      <td>2018-03-01 00:30:00</td>\n",
       "      <td>20</td>\n",
       "    </tr>\n",
       "    <tr>\n",
       "      <td>2018-03-01 00:40:00</td>\n",
       "      <td>32</td>\n",
       "    </tr>\n",
       "  </tbody>\n",
       "</table>\n",
       "</div>"
      ],
      "text/plain": [
       "                     num_orders\n",
       "datetime                       \n",
       "2018-03-01 00:00:00           9\n",
       "2018-03-01 00:10:00          14\n",
       "2018-03-01 00:20:00          28\n",
       "2018-03-01 00:30:00          20\n",
       "2018-03-01 00:40:00          32"
      ]
     },
     "metadata": {},
     "output_type": "display_data"
    }
   ],
   "source": [
    "df.info()\n",
    "display(df.head(5))"
   ]
  },
  {
   "cell_type": "code",
   "execution_count": 4,
   "metadata": {},
   "outputs": [],
   "source": [
    "df_resampled = df.resample('1H').sum()"
   ]
  },
  {
   "cell_type": "markdown",
   "metadata": {},
   "source": [
    "## Анализ"
   ]
  },
  {
   "cell_type": "markdown",
   "metadata": {},
   "source": [
    "Посмотрим гистограммы и временные графики исходного и ресемплированного датасетов."
   ]
  },
  {
   "cell_type": "code",
   "execution_count": 5,
   "metadata": {},
   "outputs": [
    {
     "data": {
      "image/png": "[encoded data removed]",
      "text/plain": [
       "<Figure size 432x288 with 1 Axes>"
      ]
     },
     "metadata": {
      "needs_background": "light"
     },
     "output_type": "display_data"
    }
   ],
   "source": [
    "df['num_orders'].hist(bins=100)\n",
    "plt.show()"
   ]
  },
  {
   "cell_type": "code",
   "execution_count": 6,
   "metadata": {},
   "outputs": [
    {
     "data": {
      "image/png": "[encoded data removed]",
      "text/plain": [
       "<Figure size 432x288 with 1 Axes>"
      ]
     },
     "metadata": {
      "needs_background": "light"
     },
     "output_type": "display_data"
    }
   ],
   "source": [
    "df_resampled['num_orders'].hist(bins=100)\n",
    "plt.show()"
   ]
  },
  {
   "cell_type": "code",
   "execution_count": 7,
   "metadata": {},
   "outputs": [
    {
     "data": {
      "image/png": "[encoded data removed]",
      "text/plain": [
       "<Figure size 432x288 with 1 Axes>"
      ]
     },
     "metadata": {
      "needs_background": "light"
     },
     "output_type": "display_data"
    }
   ],
   "source": [
    "df.plot()\n",
    "plt.show()"
   ]
  },
  {
   "cell_type": "code",
   "execution_count": 8,
   "metadata": {},
   "outputs": [
    {
     "data": {
      "image/png": "[encoded data removed]",
      "text/plain": [
       "<Figure size 432x288 with 1 Axes>"
      ]
     },
     "metadata": {
      "needs_background": "light"
     },
     "output_type": "display_data"
    }
   ],
   "source": [
    "df_resampled.plot()\n",
    "plt.show()"
   ]
  },
  {
   "cell_type": "code",
   "execution_count": 9,
   "metadata": {},
   "outputs": [
    {
     "data": {
      "text/html": [
       "<div>\n",
       "<style scoped>\n",
       "    .dataframe tbody tr th:only-of-type {\n",
       "        vertical-align: middle;\n",
       "    }\n",
       "\n",
       "    .dataframe tbody tr th {\n",
       "        vertical-align: top;\n",
       "    }\n",
       "\n",
       "    .dataframe thead th {\n",
       "        text-align: right;\n",
       "    }\n",
       "</style>\n",
       "<table border=\"1\" class=\"dataframe\">\n",
       "  <thead>\n",
       "    <tr style=\"text-align: right;\">\n",
       "      <th></th>\n",
       "      <th>num_orders</th>\n",
       "    </tr>\n",
       "  </thead>\n",
       "  <tbody>\n",
       "    <tr>\n",
       "      <td>count</td>\n",
       "      <td>26496.00</td>\n",
       "    </tr>\n",
       "    <tr>\n",
       "      <td>mean</td>\n",
       "      <td>14.07</td>\n",
       "    </tr>\n",
       "    <tr>\n",
       "      <td>std</td>\n",
       "      <td>9.21</td>\n",
       "    </tr>\n",
       "    <tr>\n",
       "      <td>min</td>\n",
       "      <td>0.00</td>\n",
       "    </tr>\n",
       "    <tr>\n",
       "      <td>25%</td>\n",
       "      <td>8.00</td>\n",
       "    </tr>\n",
       "    <tr>\n",
       "      <td>50%</td>\n",
       "      <td>13.00</td>\n",
       "    </tr>\n",
       "    <tr>\n",
       "      <td>75%</td>\n",
       "      <td>19.00</td>\n",
       "    </tr>\n",
       "    <tr>\n",
       "      <td>max</td>\n",
       "      <td>119.00</td>\n",
       "    </tr>\n",
       "  </tbody>\n",
       "</table>\n",
       "</div>"
      ],
      "text/plain": [
       "       num_orders\n",
       "count    26496.00\n",
       "mean        14.07\n",
       "std          9.21\n",
       "min          0.00\n",
       "25%          8.00\n",
       "50%         13.00\n",
       "75%         19.00\n",
       "max        119.00"
      ]
     },
     "execution_count": 9,
     "metadata": {},
     "output_type": "execute_result"
    }
   ],
   "source": [
    "df.describe()"
   ]
  },
  {
   "cell_type": "markdown",
   "metadata": {},
   "source": [
    "75% количества заказов за 10 секунд не превышает 19. Максимальное число - 119. Можно было бы предположить, что такое возможно в периоды пиковой нагрузки. Однако, временные графики говорят, что значения, выше примерно 80 заказов за 10 секунд, являются выбросами, а не чем-то сезонным. Обрежем исходный датасет и заново применим ресемплирование."
   ]
  },
  {
   "cell_type": "code",
   "execution_count": 10,
   "metadata": {},
   "outputs": [],
   "source": [
    "df_resampled = df[df['num_orders'] <= 80].resample('1H').sum()"
   ]
  },
  {
   "cell_type": "code",
   "execution_count": 11,
   "metadata": {},
   "outputs": [
    {
     "data": {
      "image/png": "[encoded data removed]",
      "text/plain": [
       "<Figure size 432x288 with 1 Axes>"
      ]
     },
     "metadata": {
      "needs_background": "light"
     },
     "output_type": "display_data"
    }
   ],
   "source": [
    "df_resampled['num_orders'].hist(bins=100)\n",
    "plt.show()"
   ]
  },
  {
   "cell_type": "code",
   "execution_count": 12,
   "metadata": {},
   "outputs": [
    {
     "data": {
      "image/png": "[encoded data removed]",
      "text/plain": [
       "<Figure size 432x288 with 1 Axes>"
      ]
     },
     "metadata": {
      "needs_background": "light"
     },
     "output_type": "display_data"
    }
   ],
   "source": [
    "df_resampled.plot()\n",
    "plt.show()"
   ]
  },
  {
   "cell_type": "markdown",
   "metadata": {},
   "source": [
    "Теперь значения выглядят разумно. Перейдём к обучению."
   ]
  },
  {
   "cell_type": "markdown",
   "metadata": {},
   "source": [
    "### Декомпозиция ряда"
   ]
  },
  {
   "cell_type": "markdown",
   "metadata": {},
   "source": [
    "Посмотрим на графики трендасезонности и остатков."
   ]
  },
  {
   "cell_type": "code",
   "execution_count": 13,
   "metadata": {},
   "outputs": [],
   "source": [
    "decomposed = seasonal_decompose(df_resampled) "
   ]
  },
  {
   "cell_type": "code",
   "execution_count": 14,
   "metadata": {},
   "outputs": [
    {
     "data": {
      "image/png": "[encoded data removed]",
      "text/plain": [
       "<Figure size 864x576 with 3 Axes>"
      ]
     },
     "metadata": {
      "needs_background": "light"
     },
     "output_type": "display_data"
    }
   ],
   "source": [
    "plt.figure(figsize=(12, 8))\n",
    "plt.subplot(311)\n",
    "decomposed.trend.plot(ax=plt.gca())\n",
    "plt.title('Trend')\n",
    "plt.subplot(312)\n",
    "decomposed.seasonal.plot(ax=plt.gca())\n",
    "plt.title('Seasonality')\n",
    "plt.subplot(313)\n",
    "decomposed.resid.plot(ax=plt.gca())\n",
    "plt.title('Residuals')\n",
    "plt.tight_layout()"
   ]
  },
  {
   "cell_type": "markdown",
   "metadata": {},
   "source": [
    "получили медленно возрастающий тренд и очень частую сезонность. Построим эти же графики для августа."
   ]
  },
  {
   "cell_type": "code",
   "execution_count": 15,
   "metadata": {},
   "outputs": [
    {
     "data": {
      "image/png": "[encoded data removed]",
      "text/plain": [
       "<Figure size 864x576 with 3 Axes>"
      ]
     },
     "metadata": {
      "needs_background": "light"
     },
     "output_type": "display_data"
    }
   ],
   "source": [
    "decomposed = seasonal_decompose(df_resampled['2018-08']) \n",
    "plt.figure(figsize=(12, 8))\n",
    "plt.subplot(311)\n",
    "decomposed.trend.plot(ax=plt.gca())\n",
    "plt.title('Trend')\n",
    "plt.subplot(312)\n",
    "decomposed.seasonal.plot(ax=plt.gca())\n",
    "plt.title('Seasonality')\n",
    "plt.subplot(313)\n",
    "decomposed.resid.plot(ax=plt.gca())\n",
    "plt.title('Residuals')\n",
    "plt.tight_layout()"
   ]
  },
  {
   "cell_type": "markdown",
   "metadata": {},
   "source": [
    "Видна суточная цикличность - пики в определенное время. Значит, вероятно, наибольший вклад будут иметь признаки сдвигов на 24 часа. Также из графика сезонности прикинула, что скользящее среднее не должно включать несколько пиков. Однако, как точнее выбирать его - не очень представляю (если такое возможно). Взяла 6-часовое окно.\n",
    "\n",
    "На тренде стала прорисовываться периодичность."
   ]
  },
  {
   "cell_type": "markdown",
   "metadata": {},
   "source": [
    "Посмотрим на график скользящего среднего."
   ]
  },
  {
   "cell_type": "code",
   "execution_count": 16,
   "metadata": {},
   "outputs": [
    {
     "data": {
      "image/png": "[encoded data removed]",
      "text/plain": [
       "<Figure size 432x288 with 1 Axes>"
      ]
     },
     "metadata": {
      "needs_background": "light"
     },
     "output_type": "display_data"
    }
   ],
   "source": [
    "df_resampled['num_orders'].rolling(6).mean().plot()\n",
    "plt.title('Скользящее среднее')\n",
    "plt.ylabel('Количество заказов')\n",
    "plt.show()"
   ]
  },
  {
   "cell_type": "markdown",
   "metadata": {},
   "source": [
    "## Обучение и тестирование"
   ]
  },
  {
   "cell_type": "markdown",
   "metadata": {},
   "source": [
    "Создадим признаки для горизонта прогнозирования в один шаг.\n",
    "Напишем функцию для создания признаков."
   ]
  },
  {
   "cell_type": "code",
   "execution_count": 17,
   "metadata": {},
   "outputs": [],
   "source": [
    "def make_features(data, max_lag, rolling_mean_size):\n",
    "    data['year'] = data.index.year\n",
    "    data['month'] = data.index.month\n",
    "    data['day'] = data.index.day\n",
    "    data['dayofweek'] = data.index.dayofweek\n",
    "    \n",
    "    for lag in range(1, max_lag + 1):\n",
    "        data['lag_{}'.format(lag)] = data['num_orders'].shift(lag)\n",
    "\n",
    "    data['rolling_mean'] = data['num_orders'].shift().rolling(rolling_mean_size).mean()\n",
    "    return data"
   ]
  },
  {
   "cell_type": "code",
   "execution_count": 18,
   "metadata": {},
   "outputs": [],
   "source": [
    "df_resampled = make_features(df_resampled, 168, 6)"
   ]
  },
  {
   "cell_type": "code",
   "execution_count": 19,
   "metadata": {},
   "outputs": [
    {
     "data": {
      "text/html": [
       "<div>\n",
       "<style scoped>\n",
       "    .dataframe tbody tr th:only-of-type {\n",
       "        vertical-align: middle;\n",
       "    }\n",
       "\n",
       "    .dataframe tbody tr th {\n",
       "        vertical-align: top;\n",
       "    }\n",
       "\n",
       "    .dataframe thead th {\n",
       "        text-align: right;\n",
       "    }\n",
       "</style>\n",
       "<table border=\"1\" class=\"dataframe\">\n",
       "  <thead>\n",
       "    <tr style=\"text-align: right;\">\n",
       "      <th></th>\n",
       "      <th>num_orders</th>\n",
       "      <th>year</th>\n",
       "      <th>month</th>\n",
       "      <th>day</th>\n",
       "      <th>dayofweek</th>\n",
       "      <th>lag_1</th>\n",
       "      <th>lag_2</th>\n",
       "      <th>lag_3</th>\n",
       "      <th>lag_4</th>\n",
       "      <th>lag_5</th>\n",
       "      <th>...</th>\n",
       "      <th>lag_160</th>\n",
       "      <th>lag_161</th>\n",
       "      <th>lag_162</th>\n",
       "      <th>lag_163</th>\n",
       "      <th>lag_164</th>\n",
       "      <th>lag_165</th>\n",
       "      <th>lag_166</th>\n",
       "      <th>lag_167</th>\n",
       "      <th>lag_168</th>\n",
       "      <th>rolling_mean</th>\n",
       "    </tr>\n",
       "    <tr>\n",
       "      <th>datetime</th>\n",
       "      <th></th>\n",
       "      <th></th>\n",
       "      <th></th>\n",
       "      <th></th>\n",
       "      <th></th>\n",
       "      <th></th>\n",
       "      <th></th>\n",
       "      <th></th>\n",
       "      <th></th>\n",
       "      <th></th>\n",
       "      <th></th>\n",
       "      <th></th>\n",
       "      <th></th>\n",
       "      <th></th>\n",
       "      <th></th>\n",
       "      <th></th>\n",
       "      <th></th>\n",
       "      <th></th>\n",
       "      <th></th>\n",
       "      <th></th>\n",
       "      <th></th>\n",
       "    </tr>\n",
       "  </thead>\n",
       "  <tbody>\n",
       "    <tr>\n",
       "      <td>2018-03-01 00:00:00</td>\n",
       "      <td>124</td>\n",
       "      <td>2018</td>\n",
       "      <td>3</td>\n",
       "      <td>1</td>\n",
       "      <td>3</td>\n",
       "      <td>nan</td>\n",
       "      <td>nan</td>\n",
       "      <td>nan</td>\n",
       "      <td>nan</td>\n",
       "      <td>nan</td>\n",
       "      <td>...</td>\n",
       "      <td>nan</td>\n",
       "      <td>nan</td>\n",
       "      <td>nan</td>\n",
       "      <td>nan</td>\n",
       "      <td>nan</td>\n",
       "      <td>nan</td>\n",
       "      <td>nan</td>\n",
       "      <td>nan</td>\n",
       "      <td>nan</td>\n",
       "      <td>nan</td>\n",
       "    </tr>\n",
       "    <tr>\n",
       "      <td>2018-03-01 01:00:00</td>\n",
       "      <td>85</td>\n",
       "      <td>2018</td>\n",
       "      <td>3</td>\n",
       "      <td>1</td>\n",
       "      <td>3</td>\n",
       "      <td>124.00</td>\n",
       "      <td>nan</td>\n",
       "      <td>nan</td>\n",
       "      <td>nan</td>\n",
       "      <td>nan</td>\n",
       "      <td>...</td>\n",
       "      <td>nan</td>\n",
       "      <td>nan</td>\n",
       "      <td>nan</td>\n",
       "      <td>nan</td>\n",
       "      <td>nan</td>\n",
       "      <td>nan</td>\n",
       "      <td>nan</td>\n",
       "      <td>nan</td>\n",
       "      <td>nan</td>\n",
       "      <td>nan</td>\n",
       "    </tr>\n",
       "    <tr>\n",
       "      <td>2018-03-01 02:00:00</td>\n",
       "      <td>71</td>\n",
       "      <td>2018</td>\n",
       "      <td>3</td>\n",
       "      <td>1</td>\n",
       "      <td>3</td>\n",
       "      <td>85.00</td>\n",
       "      <td>124.00</td>\n",
       "      <td>nan</td>\n",
       "      <td>nan</td>\n",
       "      <td>nan</td>\n",
       "      <td>...</td>\n",
       "      <td>nan</td>\n",
       "      <td>nan</td>\n",
       "      <td>nan</td>\n",
       "      <td>nan</td>\n",
       "      <td>nan</td>\n",
       "      <td>nan</td>\n",
       "      <td>nan</td>\n",
       "      <td>nan</td>\n",
       "      <td>nan</td>\n",
       "      <td>nan</td>\n",
       "    </tr>\n",
       "    <tr>\n",
       "      <td>2018-03-01 03:00:00</td>\n",
       "      <td>66</td>\n",
       "      <td>2018</td>\n",
       "      <td>3</td>\n",
       "      <td>1</td>\n",
       "      <td>3</td>\n",
       "      <td>71.00</td>\n",
       "      <td>85.00</td>\n",
       "      <td>124.00</td>\n",
       "      <td>nan</td>\n",
       "      <td>nan</td>\n",
       "      <td>...</td>\n",
       "      <td>nan</td>\n",
       "      <td>nan</td>\n",
       "      <td>nan</td>\n",
       "      <td>nan</td>\n",
       "      <td>nan</td>\n",
       "      <td>nan</td>\n",
       "      <td>nan</td>\n",
       "      <td>nan</td>\n",
       "      <td>nan</td>\n",
       "      <td>nan</td>\n",
       "    </tr>\n",
       "    <tr>\n",
       "      <td>2018-03-01 04:00:00</td>\n",
       "      <td>43</td>\n",
       "      <td>2018</td>\n",
       "      <td>3</td>\n",
       "      <td>1</td>\n",
       "      <td>3</td>\n",
       "      <td>66.00</td>\n",
       "      <td>71.00</td>\n",
       "      <td>85.00</td>\n",
       "      <td>124.00</td>\n",
       "      <td>nan</td>\n",
       "      <td>...</td>\n",
       "      <td>nan</td>\n",
       "      <td>nan</td>\n",
       "      <td>nan</td>\n",
       "      <td>nan</td>\n",
       "      <td>nan</td>\n",
       "      <td>nan</td>\n",
       "      <td>nan</td>\n",
       "      <td>nan</td>\n",
       "      <td>nan</td>\n",
       "      <td>nan</td>\n",
       "    </tr>\n",
       "    <tr>\n",
       "      <td>...</td>\n",
       "      <td>...</td>\n",
       "      <td>...</td>\n",
       "      <td>...</td>\n",
       "      <td>...</td>\n",
       "      <td>...</td>\n",
       "      <td>...</td>\n",
       "      <td>...</td>\n",
       "      <td>...</td>\n",
       "      <td>...</td>\n",
       "      <td>...</td>\n",
       "      <td>...</td>\n",
       "      <td>...</td>\n",
       "      <td>...</td>\n",
       "      <td>...</td>\n",
       "      <td>...</td>\n",
       "      <td>...</td>\n",
       "      <td>...</td>\n",
       "      <td>...</td>\n",
       "      <td>...</td>\n",
       "      <td>...</td>\n",
       "      <td>...</td>\n",
       "    </tr>\n",
       "    <tr>\n",
       "      <td>2018-08-31 19:00:00</td>\n",
       "      <td>136</td>\n",
       "      <td>2018</td>\n",
       "      <td>8</td>\n",
       "      <td>31</td>\n",
       "      <td>4</td>\n",
       "      <td>207.00</td>\n",
       "      <td>217.00</td>\n",
       "      <td>197.00</td>\n",
       "      <td>116.00</td>\n",
       "      <td>133.00</td>\n",
       "      <td>...</td>\n",
       "      <td>187.00</td>\n",
       "      <td>160.00</td>\n",
       "      <td>246.00</td>\n",
       "      <td>273.00</td>\n",
       "      <td>173.00</td>\n",
       "      <td>242.00</td>\n",
       "      <td>166.00</td>\n",
       "      <td>179.00</td>\n",
       "      <td>113.00</td>\n",
       "      <td>172.67</td>\n",
       "    </tr>\n",
       "    <tr>\n",
       "      <td>2018-08-31 20:00:00</td>\n",
       "      <td>154</td>\n",
       "      <td>2018</td>\n",
       "      <td>8</td>\n",
       "      <td>31</td>\n",
       "      <td>4</td>\n",
       "      <td>136.00</td>\n",
       "      <td>207.00</td>\n",
       "      <td>217.00</td>\n",
       "      <td>197.00</td>\n",
       "      <td>116.00</td>\n",
       "      <td>...</td>\n",
       "      <td>196.00</td>\n",
       "      <td>187.00</td>\n",
       "      <td>160.00</td>\n",
       "      <td>246.00</td>\n",
       "      <td>273.00</td>\n",
       "      <td>173.00</td>\n",
       "      <td>242.00</td>\n",
       "      <td>166.00</td>\n",
       "      <td>179.00</td>\n",
       "      <td>167.67</td>\n",
       "    </tr>\n",
       "    <tr>\n",
       "      <td>2018-08-31 21:00:00</td>\n",
       "      <td>159</td>\n",
       "      <td>2018</td>\n",
       "      <td>8</td>\n",
       "      <td>31</td>\n",
       "      <td>4</td>\n",
       "      <td>154.00</td>\n",
       "      <td>136.00</td>\n",
       "      <td>207.00</td>\n",
       "      <td>217.00</td>\n",
       "      <td>197.00</td>\n",
       "      <td>...</td>\n",
       "      <td>118.00</td>\n",
       "      <td>196.00</td>\n",
       "      <td>187.00</td>\n",
       "      <td>160.00</td>\n",
       "      <td>246.00</td>\n",
       "      <td>273.00</td>\n",
       "      <td>173.00</td>\n",
       "      <td>242.00</td>\n",
       "      <td>166.00</td>\n",
       "      <td>171.17</td>\n",
       "    </tr>\n",
       "    <tr>\n",
       "      <td>2018-08-31 22:00:00</td>\n",
       "      <td>223</td>\n",
       "      <td>2018</td>\n",
       "      <td>8</td>\n",
       "      <td>31</td>\n",
       "      <td>4</td>\n",
       "      <td>159.00</td>\n",
       "      <td>154.00</td>\n",
       "      <td>136.00</td>\n",
       "      <td>207.00</td>\n",
       "      <td>217.00</td>\n",
       "      <td>...</td>\n",
       "      <td>74.00</td>\n",
       "      <td>118.00</td>\n",
       "      <td>196.00</td>\n",
       "      <td>187.00</td>\n",
       "      <td>160.00</td>\n",
       "      <td>246.00</td>\n",
       "      <td>273.00</td>\n",
       "      <td>173.00</td>\n",
       "      <td>242.00</td>\n",
       "      <td>178.33</td>\n",
       "    </tr>\n",
       "    <tr>\n",
       "      <td>2018-08-31 23:00:00</td>\n",
       "      <td>205</td>\n",
       "      <td>2018</td>\n",
       "      <td>8</td>\n",
       "      <td>31</td>\n",
       "      <td>4</td>\n",
       "      <td>223.00</td>\n",
       "      <td>159.00</td>\n",
       "      <td>154.00</td>\n",
       "      <td>136.00</td>\n",
       "      <td>207.00</td>\n",
       "      <td>...</td>\n",
       "      <td>22.00</td>\n",
       "      <td>74.00</td>\n",
       "      <td>118.00</td>\n",
       "      <td>196.00</td>\n",
       "      <td>187.00</td>\n",
       "      <td>160.00</td>\n",
       "      <td>246.00</td>\n",
       "      <td>273.00</td>\n",
       "      <td>173.00</td>\n",
       "      <td>182.67</td>\n",
       "    </tr>\n",
       "  </tbody>\n",
       "</table>\n",
       "<p>4416 rows × 174 columns</p>\n",
       "</div>"
      ],
      "text/plain": [
       "                     num_orders  year  month  day  dayofweek  lag_1  lag_2  \\\n",
       "datetime                                                                     \n",
       "2018-03-01 00:00:00         124  2018      3    1          3    nan    nan   \n",
       "2018-03-01 01:00:00          85  2018      3    1          3 124.00    nan   \n",
       "2018-03-01 02:00:00          71  2018      3    1          3  85.00 124.00   \n",
       "2018-03-01 03:00:00          66  2018      3    1          3  71.00  85.00   \n",
       "2018-03-01 04:00:00          43  2018      3    1          3  66.00  71.00   \n",
       "...                         ...   ...    ...  ...        ...    ...    ...   \n",
       "2018-08-31 19:00:00         136  2018      8   31          4 207.00 217.00   \n",
       "2018-08-31 20:00:00         154  2018      8   31          4 136.00 207.00   \n",
       "2018-08-31 21:00:00         159  2018      8   31          4 154.00 136.00   \n",
       "2018-08-31 22:00:00         223  2018      8   31          4 159.00 154.00   \n",
       "2018-08-31 23:00:00         205  2018      8   31          4 223.00 159.00   \n",
       "\n",
       "                     lag_3  lag_4  lag_5  ...  lag_160  lag_161  lag_162  \\\n",
       "datetime                                  ...                              \n",
       "2018-03-01 00:00:00    nan    nan    nan  ...      nan      nan      nan   \n",
       "2018-03-01 01:00:00    nan    nan    nan  ...      nan      nan      nan   \n",
       "2018-03-01 02:00:00    nan    nan    nan  ...      nan      nan      nan   \n",
       "2018-03-01 03:00:00 124.00    nan    nan  ...      nan      nan      nan   \n",
       "2018-03-01 04:00:00  85.00 124.00    nan  ...      nan      nan      nan   \n",
       "...                    ...    ...    ...  ...      ...      ...      ...   \n",
       "2018-08-31 19:00:00 197.00 116.00 133.00  ...   187.00   160.00   246.00   \n",
       "2018-08-31 20:00:00 217.00 197.00 116.00  ...   196.00   187.00   160.00   \n",
       "2018-08-31 21:00:00 207.00 217.00 197.00  ...   118.00   196.00   187.00   \n",
       "2018-08-31 22:00:00 136.00 207.00 217.00  ...    74.00   118.00   196.00   \n",
       "2018-08-31 23:00:00 154.00 136.00 207.00  ...    22.00    74.00   118.00   \n",
       "\n",
       "                     lag_163  lag_164  lag_165  lag_166  lag_167  lag_168  \\\n",
       "datetime                                                                    \n",
       "2018-03-01 00:00:00      nan      nan      nan      nan      nan      nan   \n",
       "2018-03-01 01:00:00      nan      nan      nan      nan      nan      nan   \n",
       "2018-03-01 02:00:00      nan      nan      nan      nan      nan      nan   \n",
       "2018-03-01 03:00:00      nan      nan      nan      nan      nan      nan   \n",
       "2018-03-01 04:00:00      nan      nan      nan      nan      nan      nan   \n",
       "...                      ...      ...      ...      ...      ...      ...   \n",
       "2018-08-31 19:00:00   273.00   173.00   242.00   166.00   179.00   113.00   \n",
       "2018-08-31 20:00:00   246.00   273.00   173.00   242.00   166.00   179.00   \n",
       "2018-08-31 21:00:00   160.00   246.00   273.00   173.00   242.00   166.00   \n",
       "2018-08-31 22:00:00   187.00   160.00   246.00   273.00   173.00   242.00   \n",
       "2018-08-31 23:00:00   196.00   187.00   160.00   246.00   273.00   173.00   \n",
       "\n",
       "                     rolling_mean  \n",
       "datetime                           \n",
       "2018-03-01 00:00:00           nan  \n",
       "2018-03-01 01:00:00           nan  \n",
       "2018-03-01 02:00:00           nan  \n",
       "2018-03-01 03:00:00           nan  \n",
       "2018-03-01 04:00:00           nan  \n",
       "...                           ...  \n",
       "2018-08-31 19:00:00        172.67  \n",
       "2018-08-31 20:00:00        167.67  \n",
       "2018-08-31 21:00:00        171.17  \n",
       "2018-08-31 22:00:00        178.33  \n",
       "2018-08-31 23:00:00        182.67  \n",
       "\n",
       "[4416 rows x 174 columns]"
      ]
     },
     "metadata": {},
     "output_type": "display_data"
    }
   ],
   "source": [
    "display(df_resampled)"
   ]
  },
  {
   "cell_type": "markdown",
   "metadata": {},
   "source": [
    "Разделим выборку на обучающую и тестовую, удалим пропуски в обучающей."
   ]
  },
  {
   "cell_type": "code",
   "execution_count": 20,
   "metadata": {},
   "outputs": [],
   "source": [
    "features = df_resampled.drop(columns=['num_orders'])\n",
    "target = df_resampled['num_orders']\n",
    "\n",
    "features_train, features_test, target_train, target_test = train_test_split(\n",
    "    features, target, test_size=0.1, shuffle=False)\n",
    "\n",
    "\n",
    "features_train = features_train.dropna()\n",
    "target_train = target_train[features_train.index]"
   ]
  },
  {
   "cell_type": "code",
   "execution_count": 21,
   "metadata": {},
   "outputs": [
    {
     "name": "stdout",
     "output_type": "stream",
     "text": [
      "Размер обучающих фич: (3806, 173)\n",
      "Размер тестовых фич: (442, 173)\n"
     ]
    }
   ],
   "source": [
    "print('Размер обучающих фич:', features_train.shape)\n",
    "print('Размер тестовых фич:', features_test.shape)"
   ]
  },
  {
   "cell_type": "code",
   "execution_count": 22,
   "metadata": {},
   "outputs": [],
   "source": [
    "mse_score = make_scorer(mean_squared_error, greater_is_better=False)"
   ]
  },
  {
   "cell_type": "code",
   "execution_count": 23,
   "metadata": {},
   "outputs": [],
   "source": [
    "tscv = TimeSeriesSplit(n_splits=5)"
   ]
  },
  {
   "cell_type": "markdown",
   "metadata": {},
   "source": [
    "### Dummy"
   ]
  },
  {
   "cell_type": "markdown",
   "metadata": {},
   "source": [
    "В качестве dummy модели примем предсказание в то же время в предыдущие сутки."
   ]
  },
  {
   "cell_type": "code",
   "execution_count": 24,
   "metadata": {},
   "outputs": [
    {
     "name": "stdout",
     "output_type": "stream",
     "text": [
      "RMSE_dr = 47.75677333692822\n"
     ]
    }
   ],
   "source": [
    "pred_previous = target_test.shift(24).fillna(target_train.mean())\n",
    "rmse_dr = mean_squared_error(target_test, pred_previous) ** 0.5\n",
    "print('RMSE_dr =', rmse_dr)"
   ]
  },
  {
   "cell_type": "markdown",
   "metadata": {},
   "source": [
    "### Линейная регрессия"
   ]
  },
  {
   "cell_type": "code",
   "execution_count": 25,
   "metadata": {},
   "outputs": [
    {
     "name": "stdout",
     "output_type": "stream",
     "text": [
      "Fitting 5 folds for each of 173 candidates, totalling 865 fits\n"
     ]
    },
    {
     "name": "stderr",
     "output_type": "stream",
     "text": [
      "[Parallel(n_jobs=1)]: Using backend SequentialBackend with 1 concurrent workers.\n",
      "[Parallel(n_jobs=1)]: Done 865 out of 865 | elapsed: 209.7min finished\n"
     ]
    },
    {
     "name": "stdout",
     "output_type": "stream",
     "text": [
      "Лучшие параметры: {'n_features_to_select': 21}\n",
      "RMSE = 21.86\n"
     ]
    }
   ],
   "source": [
    "lr = LinearRegression()\n",
    "hyper_params = [{'n_features_to_select': list(range(1, features.shape[1] + 1))}]\n",
    "\n",
    "lr.fit(features_train, target_train)\n",
    "rfe = RFE(lr)             \n",
    "\n",
    "lr_cv = GridSearchCV(estimator = rfe, \n",
    "                        param_grid = hyper_params, \n",
    "                        scoring = mse_score, \n",
    "                        cv = tscv, \n",
    "                        verbose = 1,\n",
    "                        return_train_score=True)      \n",
    "\n",
    "lr_cv.fit(features_train, target_train)\n",
    "print('Лучшие параметры:', lr_cv.best_params_)\n",
    "print('RMSE = {:.2f}'.format(np.abs(lr_cv.best_score_) ** 0.5))"
   ]
  },
  {
   "cell_type": "markdown",
   "metadata": {},
   "source": [
    "Посмотрим результат работы моделей на тестовой выборке:"
   ]
  },
  {
   "cell_type": "code",
   "execution_count": 26,
   "metadata": {},
   "outputs": [],
   "source": [
    "def get_predictions_and_rmse(model, features, target):\n",
    "    \n",
    "    preds = model.predict(features)\n",
    "    rmse = mean_squared_error(target, preds) ** 0.5\n",
    "    print('RMSE = {:.2f}'.format(rmse))\n",
    "    \n",
    "    return rmse, preds"
   ]
  },
  {
   "cell_type": "code",
   "execution_count": 27,
   "metadata": {},
   "outputs": [
    {
     "name": "stdout",
     "output_type": "stream",
     "text": [
      "RMSE = 32.85\n"
     ]
    }
   ],
   "source": [
    "rmse_lr_test, preds_lr = get_predictions_and_rmse(lr_cv, features_test, target_test)"
   ]
  },
  {
   "cell_type": "markdown",
   "metadata": {},
   "source": [
    "### Дерево решений"
   ]
  },
  {
   "cell_type": "code",
   "execution_count": 28,
   "metadata": {},
   "outputs": [],
   "source": [
    "dtr = DecisionTreeRegressor(random_state=12345)\n",
    "\n",
    "parameters = {\n",
    "    'max_depth' : range(1, 20, 1)\n",
    "}\n",
    "\n",
    "def find_best_model(X_train, y_train, model, parameters):\n",
    "    grid = GridSearchCV(model, parameters, scoring=mse_score, cv=tscv)\n",
    "    grid.fit(X_train, y_train)\n",
    "\n",
    "    print('Лучшие параметры:', grid.best_params_)\n",
    "    print('RMSE = {:.2f}'.format(np.abs(grid.best_score_) ** 0.5))\n",
    "    return grid, np.abs(grid.best_score_) ** 0.5"
   ]
  },
  {
   "cell_type": "code",
   "execution_count": 29,
   "metadata": {},
   "outputs": [
    {
     "name": "stdout",
     "output_type": "stream",
     "text": [
      "Лучшие параметры: {'max_depth': 4}\n",
      "RMSE = 25.99\n"
     ]
    }
   ],
   "source": [
    "grid_dtr, rmse_dtr_train = find_best_model(features_train, target_train, dtr, parameters)"
   ]
  },
  {
   "cell_type": "code",
   "execution_count": 30,
   "metadata": {},
   "outputs": [
    {
     "name": "stdout",
     "output_type": "stream",
     "text": [
      "RMSE = 39.21\n"
     ]
    }
   ],
   "source": [
    "rmse_dtr_test, preds_dtr = get_predictions_and_rmse(grid_dtr, features_test, target_test)"
   ]
  },
  {
   "cell_type": "markdown",
   "metadata": {},
   "source": [
    "Напишем функцию, рисующую график важности признаков."
   ]
  },
  {
   "cell_type": "code",
   "execution_count": 31,
   "metadata": {},
   "outputs": [],
   "source": [
    "def plot_importances(model):\n",
    "    model.fit(features_train, target_train)\n",
    "    importances = model.feature_importances_\n",
    "\n",
    "    feat_importances = pd.Series(importances, index=features.columns).sort_values(ascending=False)\n",
    "\n",
    "    plt.figure(figsize=(16, 6)) \n",
    "    feat_importances.nlargest(15).plot.bar(yerr=feat_importances).set_title(\"Feature importances\")\n",
    "    plt.ylabel('importances')\n",
    "    plt.show()"
   ]
  },
  {
   "cell_type": "code",
   "execution_count": 32,
   "metadata": {},
   "outputs": [
    {
     "data": {
      "image/png": "[encoded data removed]",
      "text/plain": [
       "<Figure size 1152x432 with 1 Axes>"
      ]
     },
     "metadata": {
      "needs_background": "light"
     },
     "output_type": "display_data"
    }
   ],
   "source": [
    "dtr = DecisionTreeRegressor(random_state=12345, \n",
    "                     max_depth=grid_dtr.best_params_['max_depth'], \n",
    "                    )\n",
    "\n",
    "plot_importances(dtr)"
   ]
  },
  {
   "cell_type": "markdown",
   "metadata": {},
   "source": [
    "### Случайный лес"
   ]
  },
  {
   "cell_type": "code",
   "execution_count": 33,
   "metadata": {},
   "outputs": [],
   "source": [
    "rfr = RandomForestRegressor(random_state=12345)\n",
    "\n",
    "parameters = {\n",
    "    'n_estimators' : range(20, 90, 10),\n",
    "    'max_depth' : range(1, 13, 1)\n",
    "}"
   ]
  },
  {
   "cell_type": "code",
   "execution_count": 34,
   "metadata": {},
   "outputs": [
    {
     "name": "stdout",
     "output_type": "stream",
     "text": [
      "Лучшие параметры: {'max_depth': 11, 'n_estimators': 70}\n",
      "RMSE = 22.60\n"
     ]
    }
   ],
   "source": [
    "grid_rfr, rmse_rfr_train = find_best_model(features_train, target_train, rfr, parameters)"
   ]
  },
  {
   "cell_type": "code",
   "execution_count": 35,
   "metadata": {},
   "outputs": [
    {
     "name": "stdout",
     "output_type": "stream",
     "text": [
      "RMSE = 33.61\n"
     ]
    }
   ],
   "source": [
    "rmse_rfr_test, preds_rfr = get_predictions_and_rmse(grid_rfr, features_test, target_test)"
   ]
  },
  {
   "cell_type": "code",
   "execution_count": 36,
   "metadata": {},
   "outputs": [
    {
     "data": {
      "image/png": "[encoded data removed]",
      "text/plain": [
       "<Figure size 1152x432 with 1 Axes>"
      ]
     },
     "metadata": {
      "needs_background": "light"
     },
     "output_type": "display_data"
    }
   ],
   "source": [
    "rfr = RandomForestRegressor(random_state=12345, \n",
    "                     max_depth=grid_rfr.best_params_['max_depth'], \n",
    "                     n_estimators=grid_rfr.best_params_['n_estimators']    \n",
    "                    )\n",
    "\n",
    "plot_importances(dtr)"
   ]
  },
  {
   "cell_type": "markdown",
   "metadata": {},
   "source": [
    "### LightGBM"
   ]
  },
  {
   "cell_type": "code",
   "execution_count": 37,
   "metadata": {},
   "outputs": [],
   "source": [
    "lgbm = LGBMRegressor(random_state=12345)\n",
    "\n",
    "#params = {}\n",
    "#params['learning_rate'] = 0.1\n",
    "#params['boosting_type'] = 'gbdt'\n",
    "#params['objective'] = 'gamma'\n",
    "#params['metric'] = 'l1'\n",
    "#params['sub_feature'] = 0.5\n",
    "#params['num_leaves'] = 40\n",
    "#params['min_data'] = 50\n",
    "#params['max_depth'] = 30\n",
    "\n",
    "#parameters = {\n",
    "#    'learning_rate' :\n",
    "#    'boosting_type' : 'gbdt'\n",
    "#    'objective' : 'gamma'\n",
    "#    'metric' : 'rmse'\n",
    "#    'sub_feature' : [0.1, 1, 0.1]\n",
    "#    'num_leaves' :\n",
    "#    'min_data' :  \n",
    "#    'max_depth' : range(1, 16, 3)\n",
    "#}\n",
    "\n",
    "parameters = {\n",
    "    'n_estimators': range(80, 130, 10), \n",
    "    'num_leaves': range(10,30,10),\n",
    "    'max_depth' : range(1, 10, 1)\n",
    "}\n"
   ]
  },
  {
   "cell_type": "code",
   "execution_count": 38,
   "metadata": {},
   "outputs": [
    {
     "name": "stdout",
     "output_type": "stream",
     "text": [
      "Лучшие параметры: {'max_depth': 2, 'n_estimators': 110, 'num_leaves': 10}\n",
      "RMSE = 22.05\n"
     ]
    }
   ],
   "source": [
    "grid_lgbm, rmse_lgbm_train = find_best_model(features_train, target_train, lgbm, parameters)"
   ]
  },
  {
   "cell_type": "code",
   "execution_count": 39,
   "metadata": {},
   "outputs": [
    {
     "name": "stdout",
     "output_type": "stream",
     "text": [
      "RMSE = 33.79\n"
     ]
    }
   ],
   "source": [
    "rmse_lgbm_test, preds_lgbm = get_predictions_and_rmse(grid_lgbm, features_test, target_test)"
   ]
  },
  {
   "cell_type": "code",
   "execution_count": 40,
   "metadata": {},
   "outputs": [
    {
     "data": {
      "image/png": "[encoded data removed]",
      "text/plain": [
       "<Figure size 1152x432 with 1 Axes>"
      ]
     },
     "metadata": {
      "needs_background": "light"
     },
     "output_type": "display_data"
    }
   ],
   "source": [
    "lgbm = LGBMRegressor(random_state=12345, \n",
    "                     max_depth=grid_lgbm.best_params_['max_depth'], \n",
    "                     n_estimators=grid_lgbm.best_params_['n_estimators'], \n",
    "                     num_leaves=grid_lgbm.best_params_['num_leaves']\n",
    "                    )\n",
    "    \n",
    "plot_importances(lgbm)\n",
    "\n",
    "#                     sub_feature=grid_lgbm.best_params_['sub_feature']"
   ]
  },
  {
   "cell_type": "markdown",
   "metadata": {},
   "source": [
    "<div class=\"alert alert-block alert-success\">\n",
    "<b>Успех:</b> Этот шаг был сделан восхитительно! Молодец, что анализируешь полученные модели.\n",
    "</div>\n",
    "\n",
    "<div class=\"alert alert-block alert-info\">\n",
    "<b>Совет: </b> Желательно было визуализировать предсказания.\n",
    "</div>"
   ]
  },
  {
   "cell_type": "markdown",
   "metadata": {},
   "source": [
    "<div class=\"alert alert-block alert-warning\">\n",
    "<b>Изменения:</b> Ниже добавила\n",
    "</div>"
   ]
  },
  {
   "cell_type": "code",
   "execution_count": 41,
   "metadata": {},
   "outputs": [],
   "source": [
    "df_pred_target = pd.concat([pd.Series(preds_lgbm), pd.Series(target_test).reset_index().drop('datetime', axis=1)], axis=1)\n",
    "df_pred_target.columns=['predictions', 'target']"
   ]
  },
  {
   "cell_type": "code",
   "execution_count": 42,
   "metadata": {},
   "outputs": [
    {
     "data": {
      "image/png": "[encoded data removed]",
      "text/plain": [
       "<Figure size 1080x864 with 1 Axes>"
      ]
     },
     "metadata": {
      "needs_background": "light"
     },
     "output_type": "display_data"
    }
   ],
   "source": [
    "fig, axes = plt.subplots(1,1, figsize=(15,12))\n",
    "    \n",
    "p1 = sns.scatterplot(data=df_pred_target, x='predictions', y = 'target')\n",
    "p1.set_title('Сравнение предсказаний и таргета', fontsize = 18)\n",
    "        \n",
    "p1.set(xlabel = 'predictions', ylabel = 'target')\n",
    "\n",
    "\n",
    "plt.show()"
   ]
  },
  {
   "cell_type": "markdown",
   "metadata": {},
   "source": [
    "В среднем, предсказания и таргет равны (корреляция около единицы, разброс вокруг прямой $y=x$), хотя \"облако\" имеет некоторый разброс, расширяющийся при большом количестве заказов."
   ]
  },
  {
   "cell_type": "markdown",
   "metadata": {},
   "source": [
    "## Вывод\n"
   ]
  },
  {
   "cell_type": "markdown",
   "metadata": {},
   "source": [
    "- Предварительный анализ показал сильную суточную зависимость.\n",
    "\n",
    "\n",
    "- Для прогноза количества заказов такси на следующий час построили несколько моделей. Исходные данные были приведены к ежечасным значениям, в признаки добавили исторические данные по количеству заказов за последние 3 суток. \n",
    "\n",
    "\n",
    "- **Наилучший результат дала модель LightGBM с параметрами max_depth = 3, n_estimators = 120, num_leaves = 10 и RMSE = 35.80**. \n",
    "\n",
    "\n",
    "- Для модели LightGBM важно довольно большое число признаков (в отличие от случайного леса). Наибольшее значение имеют признаки \"круглых часов\": трое суток, двое суток, одни сутки, один час до интересующего времени.\n",
    "\n",
    "\n",
    "- Прогноз может быть улучшен за счёт введения большего числа суток, однако, увеличится и время прогноза (на данный момент время не считалось, но при необходимости всегда можно учесть этот фактор). "
   ]
  }
 ],
 "metadata": {
  "ExecuteTimeLog": [
   {
    "duration": 3624,
    "start_time": "2021-10-05T13:15:05.271Z"
   },
   {
    "duration": 109,
    "start_time": "2021-10-05T13:15:25.808Z"
   },
   {
    "duration": 13,
    "start_time": "2021-10-05T13:15:39.264Z"
   },
   {
    "duration": 226,
    "start_time": "2021-10-05T13:31:54.868Z"
   },
   {
    "duration": 321,
    "start_time": "2021-10-05T13:32:10.628Z"
   },
   {
    "duration": 226,
    "start_time": "2021-10-05T13:32:17.994Z"
   },
   {
    "duration": 73,
    "start_time": "2021-10-05T13:34:20.676Z"
   },
   {
    "duration": 9,
    "start_time": "2021-10-05T13:34:21.706Z"
   },
   {
    "duration": 297,
    "start_time": "2021-10-05T13:34:45.747Z"
   },
   {
    "duration": 9,
    "start_time": "2021-10-05T13:47:45.929Z"
   },
   {
    "duration": 730,
    "start_time": "2021-10-05T13:48:11.710Z"
   },
   {
    "duration": 766,
    "start_time": "2021-10-05T13:48:53.682Z"
   },
   {
    "duration": 417,
    "start_time": "2021-10-05T13:49:08.393Z"
   },
   {
    "duration": 259,
    "start_time": "2021-10-05T13:49:17.504Z"
   },
   {
    "duration": 13,
    "start_time": "2021-10-05T14:03:43.581Z"
   },
   {
    "duration": 13,
    "start_time": "2021-10-05T14:04:03.909Z"
   },
   {
    "duration": 347,
    "start_time": "2021-10-05T14:08:48.076Z"
   },
   {
    "duration": 10,
    "start_time": "2021-10-05T14:17:50.209Z"
   },
   {
    "duration": 307,
    "start_time": "2021-10-05T14:18:01.340Z"
   },
   {
    "duration": 261,
    "start_time": "2021-10-05T14:18:12.577Z"
   },
   {
    "duration": 4,
    "start_time": "2021-10-05T14:48:09.147Z"
   },
   {
    "duration": 21,
    "start_time": "2021-10-05T14:48:46.251Z"
   },
   {
    "duration": 17,
    "start_time": "2021-10-05T14:48:54.012Z"
   },
   {
    "duration": 15,
    "start_time": "2021-10-05T14:49:52.490Z"
   },
   {
    "duration": 14,
    "start_time": "2021-10-05T14:49:54.043Z"
   },
   {
    "duration": 3700,
    "start_time": "2021-10-05T14:50:00.469Z"
   },
   {
    "duration": 170,
    "start_time": "2021-10-05T14:50:04.171Z"
   },
   {
    "duration": 11,
    "start_time": "2021-10-05T14:50:04.344Z"
   },
   {
    "duration": 9,
    "start_time": "2021-10-05T14:50:04.357Z"
   },
   {
    "duration": 320,
    "start_time": "2021-10-05T14:50:04.367Z"
   },
   {
    "duration": 305,
    "start_time": "2021-10-05T14:50:04.689Z"
   },
   {
    "duration": 689,
    "start_time": "2021-10-05T14:50:04.996Z"
   },
   {
    "duration": 278,
    "start_time": "2021-10-05T14:50:05.687Z"
   },
   {
    "duration": 13,
    "start_time": "2021-10-05T14:50:05.968Z"
   },
   {
    "duration": 9,
    "start_time": "2021-10-05T14:50:05.983Z"
   },
   {
    "duration": 350,
    "start_time": "2021-10-05T14:50:05.994Z"
   },
   {
    "duration": 288,
    "start_time": "2021-10-05T14:50:06.346Z"
   },
   {
    "duration": 11,
    "start_time": "2021-10-05T14:50:06.636Z"
   },
   {
    "duration": 24,
    "start_time": "2021-10-05T14:50:06.649Z"
   },
   {
    "duration": 14,
    "start_time": "2021-10-05T14:50:06.674Z"
   },
   {
    "duration": 606,
    "start_time": "2021-10-05T14:51:15.170Z"
   },
   {
    "duration": 274,
    "start_time": "2021-10-05T14:51:24.414Z"
   },
   {
    "duration": 10,
    "start_time": "2021-10-05T14:51:29.498Z"
   },
   {
    "duration": 8,
    "start_time": "2021-10-05T14:51:46.890Z"
   },
   {
    "duration": 252,
    "start_time": "2021-10-05T15:01:16.136Z"
   },
   {
    "duration": 2165,
    "start_time": "2021-10-05T15:01:19.618Z"
   },
   {
    "duration": 85,
    "start_time": "2021-10-05T15:01:21.785Z"
   },
   {
    "duration": 10,
    "start_time": "2021-10-05T15:01:21.872Z"
   },
   {
    "duration": 11,
    "start_time": "2021-10-05T15:01:21.884Z"
   },
   {
    "duration": 325,
    "start_time": "2021-10-05T15:01:21.897Z"
   },
   {
    "duration": 416,
    "start_time": "2021-10-05T15:01:22.224Z"
   },
   {
    "duration": 597,
    "start_time": "2021-10-05T15:01:22.644Z"
   },
   {
    "duration": 276,
    "start_time": "2021-10-05T15:01:23.245Z"
   },
   {
    "duration": 22,
    "start_time": "2021-10-05T15:01:23.523Z"
   },
   {
    "duration": 9,
    "start_time": "2021-10-05T15:01:23.547Z"
   },
   {
    "duration": 308,
    "start_time": "2021-10-05T15:01:23.558Z"
   },
   {
    "duration": 361,
    "start_time": "2021-10-05T15:01:23.868Z"
   },
   {
    "duration": 4,
    "start_time": "2021-10-05T15:01:24.230Z"
   },
   {
    "duration": 21,
    "start_time": "2021-10-05T15:01:24.243Z"
   },
   {
    "duration": 13,
    "start_time": "2021-10-05T15:01:24.265Z"
   },
   {
    "duration": 10,
    "start_time": "2021-10-05T15:01:24.279Z"
   },
   {
    "duration": 5,
    "start_time": "2021-10-05T15:01:24.291Z"
   },
   {
    "duration": 305,
    "start_time": "2021-10-05T15:01:24.298Z"
   },
   {
    "duration": 12,
    "start_time": "2021-10-05T15:04:54.222Z"
   },
   {
    "duration": 11,
    "start_time": "2021-10-05T15:05:07.047Z"
   },
   {
    "duration": 12,
    "start_time": "2021-10-05T15:05:21.047Z"
   },
   {
    "duration": 5,
    "start_time": "2021-10-05T15:05:49.895Z"
   },
   {
    "duration": 12,
    "start_time": "2021-10-05T15:05:58.078Z"
   },
   {
    "duration": 2128,
    "start_time": "2021-10-05T15:08:08.857Z"
   },
   {
    "duration": 80,
    "start_time": "2021-10-05T15:08:10.988Z"
   },
   {
    "duration": 9,
    "start_time": "2021-10-05T15:08:11.070Z"
   },
   {
    "duration": 14,
    "start_time": "2021-10-05T15:08:11.081Z"
   },
   {
    "duration": 311,
    "start_time": "2021-10-05T15:08:11.097Z"
   },
   {
    "duration": 299,
    "start_time": "2021-10-05T15:08:11.409Z"
   },
   {
    "duration": 576,
    "start_time": "2021-10-05T15:08:11.710Z"
   },
   {
    "duration": 264,
    "start_time": "2021-10-05T15:08:12.287Z"
   },
   {
    "duration": 11,
    "start_time": "2021-10-05T15:08:12.553Z"
   },
   {
    "duration": 17,
    "start_time": "2021-10-05T15:08:12.566Z"
   },
   {
    "duration": 397,
    "start_time": "2021-10-05T15:08:12.585Z"
   },
   {
    "duration": 278,
    "start_time": "2021-10-05T15:08:12.984Z"
   },
   {
    "duration": 4,
    "start_time": "2021-10-05T15:08:13.263Z"
   },
   {
    "duration": 35,
    "start_time": "2021-10-05T15:08:13.269Z"
   },
   {
    "duration": 13,
    "start_time": "2021-10-05T15:08:13.306Z"
   },
   {
    "duration": 73,
    "start_time": "2021-10-05T15:08:13.320Z"
   },
   {
    "duration": -44,
    "start_time": "2021-10-05T15:08:13.439Z"
   },
   {
    "duration": -47,
    "start_time": "2021-10-05T15:08:13.443Z"
   },
   {
    "duration": 561,
    "start_time": "2021-10-05T15:08:26.421Z"
   },
   {
    "duration": 234,
    "start_time": "2021-10-05T15:08:47.085Z"
   },
   {
    "duration": 2139,
    "start_time": "2021-10-05T15:08:54.257Z"
   },
   {
    "duration": 139,
    "start_time": "2021-10-05T15:08:56.399Z"
   },
   {
    "duration": 10,
    "start_time": "2021-10-05T15:08:56.540Z"
   },
   {
    "duration": 8,
    "start_time": "2021-10-05T15:08:56.551Z"
   },
   {
    "duration": 323,
    "start_time": "2021-10-05T15:08:56.560Z"
   },
   {
    "duration": 305,
    "start_time": "2021-10-05T15:08:56.884Z"
   },
   {
    "duration": 685,
    "start_time": "2021-10-05T15:08:57.190Z"
   },
   {
    "duration": 287,
    "start_time": "2021-10-05T15:08:57.876Z"
   },
   {
    "duration": 11,
    "start_time": "2021-10-05T15:08:58.165Z"
   },
   {
    "duration": 8,
    "start_time": "2021-10-05T15:08:58.178Z"
   },
   {
    "duration": 325,
    "start_time": "2021-10-05T15:08:58.188Z"
   },
   {
    "duration": 360,
    "start_time": "2021-10-05T15:08:58.515Z"
   },
   {
    "duration": 4,
    "start_time": "2021-10-05T15:08:58.876Z"
   },
   {
    "duration": 21,
    "start_time": "2021-10-05T15:08:58.882Z"
   },
   {
    "duration": 12,
    "start_time": "2021-10-05T15:08:58.905Z"
   },
   {
    "duration": 335,
    "start_time": "2021-10-05T15:08:58.919Z"
   },
   {
    "duration": 12,
    "start_time": "2021-10-05T15:09:08.885Z"
   },
   {
    "duration": 13,
    "start_time": "2021-10-05T15:09:12.142Z"
   },
   {
    "duration": 5,
    "start_time": "2021-10-05T15:09:13.454Z"
   },
   {
    "duration": 3,
    "start_time": "2021-10-05T15:09:42.134Z"
   },
   {
    "duration": 2115,
    "start_time": "2021-10-05T15:10:06.040Z"
   },
   {
    "duration": 87,
    "start_time": "2021-10-05T15:10:08.157Z"
   },
   {
    "duration": 13,
    "start_time": "2021-10-05T15:10:08.246Z"
   },
   {
    "duration": 9,
    "start_time": "2021-10-05T15:10:08.262Z"
   },
   {
    "duration": 325,
    "start_time": "2021-10-05T15:10:08.273Z"
   },
   {
    "duration": 299,
    "start_time": "2021-10-05T15:10:08.600Z"
   },
   {
    "duration": 694,
    "start_time": "2021-10-05T15:10:08.900Z"
   },
   {
    "duration": 270,
    "start_time": "2021-10-05T15:10:09.597Z"
   },
   {
    "duration": 12,
    "start_time": "2021-10-05T15:10:09.870Z"
   },
   {
    "duration": 9,
    "start_time": "2021-10-05T15:10:09.883Z"
   },
   {
    "duration": 320,
    "start_time": "2021-10-05T15:10:09.894Z"
   },
   {
    "duration": 280,
    "start_time": "2021-10-05T15:10:10.216Z"
   },
   {
    "duration": 3,
    "start_time": "2021-10-05T15:10:10.498Z"
   },
   {
    "duration": 34,
    "start_time": "2021-10-05T15:10:10.503Z"
   },
   {
    "duration": 15,
    "start_time": "2021-10-05T15:10:10.538Z"
   },
   {
    "duration": 12,
    "start_time": "2021-10-05T15:10:10.555Z"
   },
   {
    "duration": 14,
    "start_time": "2021-10-05T15:10:10.568Z"
   },
   {
    "duration": 19,
    "start_time": "2021-10-05T15:10:10.584Z"
   },
   {
    "duration": 422,
    "start_time": "2021-10-05T15:10:10.605Z"
   },
   {
    "duration": 222,
    "start_time": "2021-10-05T15:10:26.864Z"
   },
   {
    "duration": 6,
    "start_time": "2021-10-05T15:11:12.716Z"
   },
   {
    "duration": 7386,
    "start_time": "2021-10-05T15:15:28.068Z"
   },
   {
    "duration": 4,
    "start_time": "2021-10-05T15:15:52.659Z"
   },
   {
    "duration": 8,
    "start_time": "2021-10-05T15:16:17.029Z"
   },
   {
    "duration": 4,
    "start_time": "2021-10-05T15:16:36.331Z"
   },
   {
    "duration": 582,
    "start_time": "2021-10-05T15:16:37.052Z"
   },
   {
    "duration": 3,
    "start_time": "2021-10-05T15:16:45.558Z"
   },
   {
    "duration": 285,
    "start_time": "2021-10-05T15:16:46.333Z"
   },
   {
    "duration": 3,
    "start_time": "2021-10-05T15:16:50.620Z"
   },
   {
    "duration": 5,
    "start_time": "2021-10-05T15:16:51.548Z"
   },
   {
    "duration": 15149,
    "start_time": "2021-10-05T15:17:01.596Z"
   },
   {
    "duration": 3,
    "start_time": "2021-10-05T15:17:20.479Z"
   },
   {
    "duration": 6,
    "start_time": "2021-10-05T15:17:20.995Z"
   },
   {
    "duration": 4,
    "start_time": "2021-10-05T15:18:29.507Z"
   },
   {
    "duration": 4,
    "start_time": "2021-10-05T15:18:49.036Z"
   },
   {
    "duration": 4419,
    "start_time": "2021-10-05T15:18:52.628Z"
   },
   {
    "duration": 5,
    "start_time": "2021-10-05T15:19:10.412Z"
   },
   {
    "duration": 3,
    "start_time": "2021-10-05T15:19:45.324Z"
   },
   {
    "duration": 15293,
    "start_time": "2021-10-05T15:20:00.691Z"
   },
   {
    "duration": 9,
    "start_time": "2021-10-05T15:20:19.924Z"
   },
   {
    "duration": 3,
    "start_time": "2021-10-05T15:21:18.851Z"
   },
   {
    "duration": 543,
    "start_time": "2021-10-05T15:21:19.715Z"
   },
   {
    "duration": 3,
    "start_time": "2021-10-05T15:21:26.668Z"
   },
   {
    "duration": 101400,
    "start_time": "2021-10-05T15:21:27.548Z"
   },
   {
    "duration": 10,
    "start_time": "2021-10-05T15:24:47.115Z"
   },
   {
    "duration": 3,
    "start_time": "2021-10-05T15:25:01.771Z"
   },
   {
    "duration": 94501,
    "start_time": "2021-10-05T15:25:04.010Z"
   },
   {
    "duration": 13,
    "start_time": "2021-10-05T15:27:10.834Z"
   },
   {
    "duration": 3,
    "start_time": "2021-10-05T15:27:26.396Z"
   },
   {
    "duration": 407759,
    "start_time": "2021-10-05T15:27:27.345Z"
   },
   {
    "duration": 12,
    "start_time": "2021-10-05T15:34:49.320Z"
   },
   {
    "duration": 3,
    "start_time": "2021-10-05T15:35:01.457Z"
   },
   {
    "duration": 144268,
    "start_time": "2021-10-05T15:35:16.377Z"
   },
   {
    "duration": 10,
    "start_time": "2021-10-05T15:38:16.511Z"
   },
   {
    "duration": 5063,
    "start_time": "2021-10-06T12:42:01.050Z"
   },
   {
    "duration": 73,
    "start_time": "2021-10-06T12:42:06.116Z"
   },
   {
    "duration": 18,
    "start_time": "2021-10-06T12:42:06.192Z"
   },
   {
    "duration": 22,
    "start_time": "2021-10-06T12:42:06.212Z"
   },
   {
    "duration": 542,
    "start_time": "2021-10-06T12:42:06.236Z"
   },
   {
    "duration": 502,
    "start_time": "2021-10-06T12:42:06.783Z"
   },
   {
    "duration": 949,
    "start_time": "2021-10-06T12:42:07.288Z"
   },
   {
    "duration": 429,
    "start_time": "2021-10-06T12:42:08.241Z"
   },
   {
    "duration": 22,
    "start_time": "2021-10-06T12:42:08.673Z"
   },
   {
    "duration": 16,
    "start_time": "2021-10-06T12:42:08.698Z"
   },
   {
    "duration": 535,
    "start_time": "2021-10-06T12:42:08.717Z"
   },
   {
    "duration": 453,
    "start_time": "2021-10-06T12:42:09.255Z"
   },
   {
    "duration": 5,
    "start_time": "2021-10-06T12:42:09.711Z"
   },
   {
    "duration": 33,
    "start_time": "2021-10-06T12:42:09.718Z"
   },
   {
    "duration": 43,
    "start_time": "2021-10-06T12:42:09.753Z"
   },
   {
    "duration": 19,
    "start_time": "2021-10-06T12:42:09.798Z"
   },
   {
    "duration": 5,
    "start_time": "2021-10-06T12:42:09.819Z"
   },
   {
    "duration": 6,
    "start_time": "2021-10-06T12:42:09.827Z"
   },
   {
    "duration": 484,
    "start_time": "2021-10-06T12:42:09.835Z"
   },
   {
    "duration": 533,
    "start_time": "2021-10-06T12:42:09.789Z"
   },
   {
    "duration": 528,
    "start_time": "2021-10-06T12:42:09.796Z"
   },
   {
    "duration": 523,
    "start_time": "2021-10-06T12:42:09.802Z"
   },
   {
    "duration": 508,
    "start_time": "2021-10-06T12:42:09.818Z"
   },
   {
    "duration": 506,
    "start_time": "2021-10-06T12:42:09.822Z"
   },
   {
    "duration": 505,
    "start_time": "2021-10-06T12:42:09.825Z"
   },
   {
    "duration": 503,
    "start_time": "2021-10-06T12:42:09.829Z"
   },
   {
    "duration": 502,
    "start_time": "2021-10-06T12:42:09.831Z"
   },
   {
    "duration": 501,
    "start_time": "2021-10-06T12:42:09.834Z"
   },
   {
    "duration": 500,
    "start_time": "2021-10-06T12:42:09.836Z"
   },
   {
    "duration": 499,
    "start_time": "2021-10-06T12:42:09.838Z"
   },
   {
    "duration": 500,
    "start_time": "2021-10-06T12:42:09.839Z"
   },
   {
    "duration": 4462,
    "start_time": "2021-10-06T12:43:13.817Z"
   },
   {
    "duration": 74,
    "start_time": "2021-10-06T12:43:18.281Z"
   },
   {
    "duration": 19,
    "start_time": "2021-10-06T12:43:18.360Z"
   },
   {
    "duration": 17,
    "start_time": "2021-10-06T12:43:18.383Z"
   },
   {
    "duration": 553,
    "start_time": "2021-10-06T12:43:18.404Z"
   },
   {
    "duration": 508,
    "start_time": "2021-10-06T12:43:18.960Z"
   },
   {
    "duration": 931,
    "start_time": "2021-10-06T12:43:19.472Z"
   },
   {
    "duration": 600,
    "start_time": "2021-10-06T12:43:20.407Z"
   },
   {
    "duration": 20,
    "start_time": "2021-10-06T12:43:21.010Z"
   },
   {
    "duration": 14,
    "start_time": "2021-10-06T12:43:21.033Z"
   },
   {
    "duration": 655,
    "start_time": "2021-10-06T12:43:21.050Z"
   },
   {
    "duration": 464,
    "start_time": "2021-10-06T12:43:21.707Z"
   },
   {
    "duration": 11,
    "start_time": "2021-10-06T12:43:22.173Z"
   },
   {
    "duration": 29,
    "start_time": "2021-10-06T12:43:22.187Z"
   },
   {
    "duration": 21,
    "start_time": "2021-10-06T12:43:22.218Z"
   },
   {
    "duration": 51,
    "start_time": "2021-10-06T12:43:22.242Z"
   },
   {
    "duration": 5,
    "start_time": "2021-10-06T12:43:22.296Z"
   },
   {
    "duration": 6,
    "start_time": "2021-10-06T12:43:22.303Z"
   },
   {
    "duration": 481,
    "start_time": "2021-10-06T12:43:22.311Z"
   },
   {
    "duration": 539,
    "start_time": "2021-10-06T12:43:22.256Z"
   },
   {
    "duration": 540,
    "start_time": "2021-10-06T12:43:22.257Z"
   },
   {
    "duration": 541,
    "start_time": "2021-10-06T12:43:22.258Z"
   },
   {
    "duration": 540,
    "start_time": "2021-10-06T12:43:22.260Z"
   },
   {
    "duration": 541,
    "start_time": "2021-10-06T12:43:22.261Z"
   },
   {
    "duration": 540,
    "start_time": "2021-10-06T12:43:22.263Z"
   },
   {
    "duration": 540,
    "start_time": "2021-10-06T12:43:22.265Z"
   },
   {
    "duration": 540,
    "start_time": "2021-10-06T12:43:22.266Z"
   },
   {
    "duration": 539,
    "start_time": "2021-10-06T12:43:22.269Z"
   },
   {
    "duration": 539,
    "start_time": "2021-10-06T12:43:22.270Z"
   },
   {
    "duration": 540,
    "start_time": "2021-10-06T12:43:22.271Z"
   },
   {
    "duration": 539,
    "start_time": "2021-10-06T12:43:22.273Z"
   },
   {
    "duration": 8,
    "start_time": "2021-10-06T12:43:46.406Z"
   },
   {
    "duration": 4428,
    "start_time": "2021-10-06T12:43:53.354Z"
   },
   {
    "duration": 72,
    "start_time": "2021-10-06T12:43:57.785Z"
   },
   {
    "duration": 17,
    "start_time": "2021-10-06T12:43:57.860Z"
   },
   {
    "duration": 14,
    "start_time": "2021-10-06T12:43:57.883Z"
   },
   {
    "duration": 529,
    "start_time": "2021-10-06T12:43:57.900Z"
   },
   {
    "duration": 496,
    "start_time": "2021-10-06T12:43:58.431Z"
   },
   {
    "duration": 931,
    "start_time": "2021-10-06T12:43:58.929Z"
   },
   {
    "duration": 455,
    "start_time": "2021-10-06T12:43:59.864Z"
   },
   {
    "duration": 18,
    "start_time": "2021-10-06T12:44:00.322Z"
   },
   {
    "duration": 41,
    "start_time": "2021-10-06T12:44:00.342Z"
   },
   {
    "duration": 534,
    "start_time": "2021-10-06T12:44:00.386Z"
   },
   {
    "duration": 483,
    "start_time": "2021-10-06T12:44:00.923Z"
   },
   {
    "duration": 6,
    "start_time": "2021-10-06T12:44:01.408Z"
   },
   {
    "duration": 55,
    "start_time": "2021-10-06T12:44:01.416Z"
   },
   {
    "duration": 59,
    "start_time": "2021-10-06T12:44:01.473Z"
   },
   {
    "duration": 19,
    "start_time": "2021-10-06T12:44:01.535Z"
   },
   {
    "duration": 60,
    "start_time": "2021-10-06T12:44:01.556Z"
   },
   {
    "duration": 27,
    "start_time": "2021-10-06T12:44:01.618Z"
   },
   {
    "duration": 30,
    "start_time": "2021-10-06T12:44:01.648Z"
   },
   {
    "duration": 21516,
    "start_time": "2021-10-06T12:44:01.681Z"
   },
   {
    "duration": 5,
    "start_time": "2021-10-06T12:44:23.201Z"
   },
   {
    "duration": 74,
    "start_time": "2021-10-06T12:44:23.210Z"
   },
   {
    "duration": 93,
    "start_time": "2021-10-06T12:44:23.292Z"
   },
   {
    "duration": 6501,
    "start_time": "2021-10-06T12:44:23.388Z"
   },
   {
    "duration": 7,
    "start_time": "2021-10-06T12:44:29.892Z"
   },
   {
    "duration": 11,
    "start_time": "2021-10-06T12:44:29.901Z"
   },
   {
    "duration": 204959,
    "start_time": "2021-10-06T12:44:29.914Z"
   },
   {
    "duration": 22,
    "start_time": "2021-10-06T12:47:54.883Z"
   },
   {
    "duration": 5,
    "start_time": "2021-10-06T12:47:54.907Z"
   },
   {
    "duration": 449476,
    "start_time": "2021-10-06T12:47:54.914Z"
   },
   {
    "duration": 94,
    "start_time": "2021-10-06T12:55:24.393Z"
   },
   {
    "duration": 5613,
    "start_time": "2021-10-06T12:58:00.182Z"
   },
   {
    "duration": 68,
    "start_time": "2021-10-06T12:58:05.798Z"
   },
   {
    "duration": 17,
    "start_time": "2021-10-06T12:58:05.869Z"
   },
   {
    "duration": 12,
    "start_time": "2021-10-06T12:58:05.889Z"
   },
   {
    "duration": 528,
    "start_time": "2021-10-06T12:58:05.904Z"
   },
   {
    "duration": 630,
    "start_time": "2021-10-06T12:58:06.434Z"
   },
   {
    "duration": 943,
    "start_time": "2021-10-06T12:58:07.066Z"
   },
   {
    "duration": 427,
    "start_time": "2021-10-06T12:58:08.013Z"
   },
   {
    "duration": 16,
    "start_time": "2021-10-06T12:58:08.443Z"
   },
   {
    "duration": 30,
    "start_time": "2021-10-06T12:58:08.462Z"
   },
   {
    "duration": 534,
    "start_time": "2021-10-06T12:58:08.495Z"
   },
   {
    "duration": 467,
    "start_time": "2021-10-06T12:58:09.032Z"
   },
   {
    "duration": 5,
    "start_time": "2021-10-06T12:58:09.502Z"
   },
   {
    "duration": 40,
    "start_time": "2021-10-06T12:58:09.510Z"
   },
   {
    "duration": 39,
    "start_time": "2021-10-06T12:58:09.552Z"
   },
   {
    "duration": 20,
    "start_time": "2021-10-06T12:58:09.594Z"
   },
   {
    "duration": 6,
    "start_time": "2021-10-06T12:58:09.617Z"
   },
   {
    "duration": 14,
    "start_time": "2021-10-06T12:58:09.625Z"
   },
   {
    "duration": 8,
    "start_time": "2021-10-06T12:58:09.642Z"
   },
   {
    "duration": 21850,
    "start_time": "2021-10-06T12:58:09.652Z"
   },
   {
    "duration": 4,
    "start_time": "2021-10-06T12:58:31.505Z"
   },
   {
    "duration": 75,
    "start_time": "2021-10-06T12:58:31.511Z"
   },
   {
    "duration": 9,
    "start_time": "2021-10-06T12:58:31.683Z"
   },
   {
    "duration": 6833,
    "start_time": "2021-10-06T12:58:31.784Z"
   },
   {
    "duration": 6,
    "start_time": "2021-10-06T12:58:38.620Z"
   },
   {
    "duration": 5,
    "start_time": "2021-10-06T12:58:38.629Z"
   },
   {
    "duration": 214780,
    "start_time": "2021-10-06T12:58:38.636Z"
   },
   {
    "duration": 20,
    "start_time": "2021-10-06T13:02:13.419Z"
   },
   {
    "duration": 5,
    "start_time": "2021-10-06T13:02:13.441Z"
   },
   {
    "duration": 471940,
    "start_time": "2021-10-06T13:02:13.448Z"
   },
   {
    "duration": 97,
    "start_time": "2021-10-06T13:10:05.390Z"
   },
   {
    "duration": 4832,
    "start_time": "2021-10-06T13:11:04.357Z"
   },
   {
    "duration": 119,
    "start_time": "2021-10-06T13:11:09.191Z"
   },
   {
    "duration": 20,
    "start_time": "2021-10-06T13:11:09.313Z"
   },
   {
    "duration": 15,
    "start_time": "2021-10-06T13:11:09.336Z"
   },
   {
    "duration": 548,
    "start_time": "2021-10-06T13:11:09.353Z"
   },
   {
    "duration": 512,
    "start_time": "2021-10-06T13:11:09.903Z"
   },
   {
    "duration": 915,
    "start_time": "2021-10-06T13:11:10.418Z"
   },
   {
    "duration": 447,
    "start_time": "2021-10-06T13:11:11.337Z"
   },
   {
    "duration": 18,
    "start_time": "2021-10-06T13:11:11.787Z"
   },
   {
    "duration": 13,
    "start_time": "2021-10-06T13:11:11.807Z"
   },
   {
    "duration": 560,
    "start_time": "2021-10-06T13:11:11.822Z"
   },
   {
    "duration": 483,
    "start_time": "2021-10-06T13:11:12.384Z"
   },
   {
    "duration": 14,
    "start_time": "2021-10-06T13:11:12.869Z"
   },
   {
    "duration": 38,
    "start_time": "2021-10-06T13:11:12.885Z"
   },
   {
    "duration": 23,
    "start_time": "2021-10-06T13:11:12.925Z"
   },
   {
    "duration": 42,
    "start_time": "2021-10-06T13:11:12.951Z"
   },
   {
    "duration": 4,
    "start_time": "2021-10-06T13:11:12.996Z"
   },
   {
    "duration": 10,
    "start_time": "2021-10-06T13:11:13.002Z"
   },
   {
    "duration": 18,
    "start_time": "2021-10-06T13:11:13.014Z"
   },
   {
    "duration": 32873,
    "start_time": "2021-10-06T13:11:13.034Z"
   },
   {
    "duration": 75,
    "start_time": "2021-10-06T13:11:45.910Z"
   },
   {
    "duration": 93,
    "start_time": "2021-10-06T13:11:45.988Z"
   },
   {
    "duration": 96,
    "start_time": "2021-10-06T13:11:46.089Z"
   },
   {
    "duration": 7718,
    "start_time": "2021-10-06T13:11:46.188Z"
   },
   {
    "duration": 7,
    "start_time": "2021-10-06T13:11:53.909Z"
   },
   {
    "duration": 6,
    "start_time": "2021-10-06T13:11:53.918Z"
   },
   {
    "duration": 253794,
    "start_time": "2021-10-06T13:11:53.926Z"
   },
   {
    "duration": 23,
    "start_time": "2021-10-06T13:16:07.723Z"
   },
   {
    "duration": 5,
    "start_time": "2021-10-06T13:16:07.749Z"
   },
   {
    "duration": 531009,
    "start_time": "2021-10-06T13:16:07.782Z"
   },
   {
    "duration": 95,
    "start_time": "2021-10-06T13:24:58.793Z"
   },
   {
    "duration": 4809,
    "start_time": "2021-10-06T13:25:23.421Z"
   },
   {
    "duration": 164,
    "start_time": "2021-10-06T13:25:28.233Z"
   },
   {
    "duration": 20,
    "start_time": "2021-10-06T13:25:28.400Z"
   },
   {
    "duration": 14,
    "start_time": "2021-10-06T13:25:28.424Z"
   },
   {
    "duration": 520,
    "start_time": "2021-10-06T13:25:28.441Z"
   },
   {
    "duration": 662,
    "start_time": "2021-10-06T13:25:28.963Z"
   },
   {
    "duration": 936,
    "start_time": "2021-10-06T13:25:29.628Z"
   },
   {
    "duration": 425,
    "start_time": "2021-10-06T13:25:30.567Z"
   },
   {
    "duration": 17,
    "start_time": "2021-10-06T13:25:30.995Z"
   },
   {
    "duration": 13,
    "start_time": "2021-10-06T13:25:31.015Z"
   },
   {
    "duration": 524,
    "start_time": "2021-10-06T13:25:31.031Z"
   },
   {
    "duration": 453,
    "start_time": "2021-10-06T13:25:31.558Z"
   },
   {
    "duration": 6,
    "start_time": "2021-10-06T13:25:32.015Z"
   },
   {
    "duration": 40,
    "start_time": "2021-10-06T13:25:32.024Z"
   },
   {
    "duration": 31,
    "start_time": "2021-10-06T13:25:32.067Z"
   },
   {
    "duration": 19,
    "start_time": "2021-10-06T13:25:32.100Z"
   },
   {
    "duration": 5,
    "start_time": "2021-10-06T13:25:32.121Z"
   },
   {
    "duration": 9,
    "start_time": "2021-10-06T13:25:32.128Z"
   },
   {
    "duration": 44,
    "start_time": "2021-10-06T13:25:32.139Z"
   },
   {
    "duration": 21943,
    "start_time": "2021-10-06T13:25:32.185Z"
   },
   {
    "duration": 6,
    "start_time": "2021-10-06T13:25:54.185Z"
   },
   {
    "duration": 11,
    "start_time": "2021-10-06T13:25:54.194Z"
   },
   {
    "duration": 9,
    "start_time": "2021-10-06T13:25:54.285Z"
   },
   {
    "duration": 6664,
    "start_time": "2021-10-06T13:25:54.382Z"
   },
   {
    "duration": 7,
    "start_time": "2021-10-06T13:26:01.048Z"
   },
   {
    "duration": 25,
    "start_time": "2021-10-06T13:26:01.058Z"
   },
   {
    "duration": 214362,
    "start_time": "2021-10-06T13:26:01.085Z"
   },
   {
    "duration": 34,
    "start_time": "2021-10-06T13:29:35.449Z"
   },
   {
    "duration": 5,
    "start_time": "2021-10-06T13:29:35.485Z"
   },
   {
    "duration": 524701,
    "start_time": "2021-10-06T13:29:35.492Z"
   },
   {
    "duration": 100,
    "start_time": "2021-10-06T13:38:20.196Z"
   },
   {
    "duration": 4536,
    "start_time": "2021-10-06T13:41:36.656Z"
   },
   {
    "duration": 75,
    "start_time": "2021-10-06T13:41:41.195Z"
   },
   {
    "duration": 17,
    "start_time": "2021-10-06T13:41:41.273Z"
   },
   {
    "duration": 13,
    "start_time": "2021-10-06T13:41:41.293Z"
   },
   {
    "duration": 510,
    "start_time": "2021-10-06T13:41:41.308Z"
   },
   {
    "duration": 543,
    "start_time": "2021-10-06T13:41:41.821Z"
   },
   {
    "duration": 1139,
    "start_time": "2021-10-06T13:41:42.366Z"
   },
   {
    "duration": 442,
    "start_time": "2021-10-06T13:41:43.511Z"
   },
   {
    "duration": 27,
    "start_time": "2021-10-06T13:41:43.958Z"
   },
   {
    "duration": 14,
    "start_time": "2021-10-06T13:41:43.988Z"
   },
   {
    "duration": 545,
    "start_time": "2021-10-06T13:41:44.005Z"
   },
   {
    "duration": 462,
    "start_time": "2021-10-06T13:41:44.553Z"
   },
   {
    "duration": 7,
    "start_time": "2021-10-06T13:41:45.018Z"
   },
   {
    "duration": 38,
    "start_time": "2021-10-06T13:41:45.029Z"
   },
   {
    "duration": 23,
    "start_time": "2021-10-06T13:41:45.084Z"
   },
   {
    "duration": 31,
    "start_time": "2021-10-06T13:41:45.109Z"
   },
   {
    "duration": 12,
    "start_time": "2021-10-06T13:41:45.143Z"
   },
   {
    "duration": 29,
    "start_time": "2021-10-06T13:41:45.157Z"
   },
   {
    "duration": 13,
    "start_time": "2021-10-06T13:41:45.188Z"
   },
   {
    "duration": 16080,
    "start_time": "2021-10-06T13:41:45.203Z"
   },
   {
    "duration": 4,
    "start_time": "2021-10-06T13:42:01.285Z"
   },
   {
    "duration": 12,
    "start_time": "2021-10-06T13:42:01.292Z"
   },
   {
    "duration": 95,
    "start_time": "2021-10-06T13:42:01.388Z"
   },
   {
    "duration": 5689,
    "start_time": "2021-10-06T13:42:01.486Z"
   },
   {
    "duration": 8,
    "start_time": "2021-10-06T13:42:07.178Z"
   },
   {
    "duration": 5,
    "start_time": "2021-10-06T13:42:07.189Z"
   },
   {
    "duration": 172104,
    "start_time": "2021-10-06T13:42:07.196Z"
   },
   {
    "duration": 22,
    "start_time": "2021-10-06T13:44:59.303Z"
   },
   {
    "duration": 6,
    "start_time": "2021-10-06T13:44:59.328Z"
   },
   {
    "duration": 437457,
    "start_time": "2021-10-06T13:44:59.336Z"
   },
   {
    "duration": 101,
    "start_time": "2021-10-06T13:52:16.795Z"
   },
   {
    "duration": 807,
    "start_time": "2021-10-06T13:55:55.171Z"
   },
   {
    "duration": 499,
    "start_time": "2021-10-06T13:56:09.168Z"
   },
   {
    "duration": 6,
    "start_time": "2021-10-06T13:56:21.358Z"
   },
   {
    "duration": 1036,
    "start_time": "2021-10-06T13:56:29.850Z"
   },
   {
    "duration": 98,
    "start_time": "2021-10-06T13:57:12.606Z"
   },
   {
    "duration": 5,
    "start_time": "2021-10-06T13:57:31.546Z"
   },
   {
    "duration": 6,
    "start_time": "2021-10-06T13:57:47.154Z"
   },
   {
    "duration": 995,
    "start_time": "2021-10-06T13:58:54.570Z"
   },
   {
    "duration": 993,
    "start_time": "2021-10-06T14:00:54.931Z"
   },
   {
    "duration": 6,
    "start_time": "2021-10-06T14:01:43.823Z"
   },
   {
    "duration": 363,
    "start_time": "2021-10-06T14:03:15.858Z"
   },
   {
    "duration": 672,
    "start_time": "2021-10-06T14:05:14.713Z"
   },
   {
    "duration": 421,
    "start_time": "2021-10-06T14:06:32.336Z"
   },
   {
    "duration": 324,
    "start_time": "2021-10-06T14:07:29.130Z"
   },
   {
    "duration": 421,
    "start_time": "2021-10-06T14:07:49.665Z"
   },
   {
    "duration": 4660,
    "start_time": "2021-10-06T14:13:32.239Z"
   },
   {
    "duration": 125,
    "start_time": "2021-10-06T14:13:36.902Z"
   },
   {
    "duration": 17,
    "start_time": "2021-10-06T14:13:37.030Z"
   },
   {
    "duration": 13,
    "start_time": "2021-10-06T14:13:37.050Z"
   },
   {
    "duration": 529,
    "start_time": "2021-10-06T14:13:37.065Z"
   },
   {
    "duration": 517,
    "start_time": "2021-10-06T14:13:37.596Z"
   },
   {
    "duration": 1102,
    "start_time": "2021-10-06T14:13:38.116Z"
   },
   {
    "duration": 439,
    "start_time": "2021-10-06T14:13:39.224Z"
   },
   {
    "duration": 25,
    "start_time": "2021-10-06T14:13:39.667Z"
   },
   {
    "duration": 12,
    "start_time": "2021-10-06T14:13:39.695Z"
   },
   {
    "duration": 548,
    "start_time": "2021-10-06T14:13:39.709Z"
   },
   {
    "duration": 465,
    "start_time": "2021-10-06T14:13:40.260Z"
   },
   {
    "duration": 5,
    "start_time": "2021-10-06T14:13:40.728Z"
   },
   {
    "duration": 48,
    "start_time": "2021-10-06T14:13:40.735Z"
   },
   {
    "duration": 22,
    "start_time": "2021-10-06T14:13:40.786Z"
   },
   {
    "duration": 26,
    "start_time": "2021-10-06T14:13:40.811Z"
   },
   {
    "duration": 5,
    "start_time": "2021-10-06T14:13:40.839Z"
   },
   {
    "duration": 37,
    "start_time": "2021-10-06T14:13:40.847Z"
   },
   {
    "duration": 15,
    "start_time": "2021-10-06T14:13:40.887Z"
   },
   {
    "duration": 16783,
    "start_time": "2021-10-06T14:13:40.905Z"
   },
   {
    "duration": 6,
    "start_time": "2021-10-06T14:13:57.691Z"
   },
   {
    "duration": 84,
    "start_time": "2021-10-06T14:13:57.700Z"
   },
   {
    "duration": 97,
    "start_time": "2021-10-06T14:13:57.792Z"
   },
   {
    "duration": 5727,
    "start_time": "2021-10-06T14:13:57.892Z"
   },
   {
    "duration": 8,
    "start_time": "2021-10-06T14:14:03.622Z"
   },
   {
    "duration": 14,
    "start_time": "2021-10-06T14:14:03.633Z"
   },
   {
    "duration": 448,
    "start_time": "2021-10-06T14:14:03.649Z"
   },
   {
    "duration": 6,
    "start_time": "2021-10-06T14:14:04.100Z"
   },
   {
    "duration": 169900,
    "start_time": "2021-10-06T14:14:04.108Z"
   },
   {
    "duration": 23,
    "start_time": "2021-10-06T14:16:54.010Z"
   },
   {
    "duration": 454,
    "start_time": "2021-10-06T14:16:54.035Z"
   },
   {
    "duration": 112,
    "start_time": "2021-10-06T14:16:54.492Z"
   },
   {
    "duration": 500,
    "start_time": "2021-10-06T14:16:54.106Z"
   },
   {
    "duration": 497,
    "start_time": "2021-10-06T14:16:54.111Z"
   },
   {
    "duration": 497,
    "start_time": "2021-10-06T14:16:54.113Z"
   },
   {
    "duration": 497,
    "start_time": "2021-10-06T14:16:54.114Z"
   },
   {
    "duration": 451,
    "start_time": "2021-10-06T14:17:09.164Z"
   },
   {
    "duration": 359,
    "start_time": "2021-10-06T14:19:01.540Z"
   },
   {
    "duration": 4,
    "start_time": "2021-10-06T14:20:10.107Z"
   },
   {
    "duration": 1640427,
    "start_time": "2021-10-06T14:20:14.962Z"
   },
   {
    "duration": 14,
    "start_time": "2021-10-06T14:48:15.378Z"
   },
   {
    "duration": 6,
    "start_time": "2021-10-06T14:48:24.205Z"
   },
   {
    "duration": 1198,
    "start_time": "2021-10-06T14:48:30.955Z"
   },
   {
    "duration": 5,
    "start_time": "2021-10-06T14:49:16.486Z"
   },
   {
    "duration": 214589,
    "start_time": "2021-10-06T14:49:17.795Z"
   },
   {
    "duration": 30,
    "start_time": "2021-10-06T14:53:24.291Z"
   },
   {
    "duration": 906,
    "start_time": "2021-10-06T14:53:25.842Z"
   },
   {
    "duration": 3154,
    "start_time": "2021-10-07T11:12:31.379Z"
   },
   {
    "duration": 143,
    "start_time": "2021-10-07T11:12:34.535Z"
   },
   {
    "duration": 11,
    "start_time": "2021-10-07T11:12:34.680Z"
   },
   {
    "duration": 9,
    "start_time": "2021-10-07T11:12:34.693Z"
   },
   {
    "duration": 315,
    "start_time": "2021-10-07T11:12:34.703Z"
   },
   {
    "duration": 332,
    "start_time": "2021-10-07T11:12:35.020Z"
   },
   {
    "duration": 653,
    "start_time": "2021-10-07T11:12:35.354Z"
   },
   {
    "duration": 273,
    "start_time": "2021-10-07T11:12:36.010Z"
   },
   {
    "duration": 20,
    "start_time": "2021-10-07T11:12:36.285Z"
   },
   {
    "duration": 9,
    "start_time": "2021-10-07T11:12:36.306Z"
   },
   {
    "duration": 351,
    "start_time": "2021-10-07T11:12:36.317Z"
   },
   {
    "duration": 301,
    "start_time": "2021-10-07T11:12:36.670Z"
   },
   {
    "duration": 4,
    "start_time": "2021-10-07T11:12:36.972Z"
   },
   {
    "duration": 30,
    "start_time": "2021-10-07T11:12:36.978Z"
   },
   {
    "duration": 14,
    "start_time": "2021-10-07T11:12:37.010Z"
   },
   {
    "duration": 13,
    "start_time": "2021-10-07T11:12:37.026Z"
   },
   {
    "duration": 4,
    "start_time": "2021-10-07T11:12:37.041Z"
   },
   {
    "duration": 4,
    "start_time": "2021-10-07T11:12:37.047Z"
   },
   {
    "duration": 5,
    "start_time": "2021-10-07T11:12:37.052Z"
   },
   {
    "duration": 44,
    "start_time": "2021-10-07T11:12:37.058Z"
   },
   {
    "duration": 5502,
    "start_time": "2021-10-07T11:12:37.104Z"
   },
   {
    "duration": 1775,
    "start_time": "2021-10-07T11:14:02.860Z"
   },
   {
    "duration": 92,
    "start_time": "2021-10-07T11:14:04.637Z"
   },
   {
    "duration": 9,
    "start_time": "2021-10-07T11:14:04.731Z"
   },
   {
    "duration": 7,
    "start_time": "2021-10-07T11:14:04.742Z"
   },
   {
    "duration": 448,
    "start_time": "2021-10-07T11:14:04.751Z"
   },
   {
    "duration": 322,
    "start_time": "2021-10-07T11:14:05.201Z"
   },
   {
    "duration": 601,
    "start_time": "2021-10-07T11:14:05.524Z"
   },
   {
    "duration": 275,
    "start_time": "2021-10-07T11:14:06.126Z"
   },
   {
    "duration": 11,
    "start_time": "2021-10-07T11:14:06.404Z"
   },
   {
    "duration": 8,
    "start_time": "2021-10-07T11:14:06.417Z"
   },
   {
    "duration": 343,
    "start_time": "2021-10-07T11:14:06.427Z"
   },
   {
    "duration": 370,
    "start_time": "2021-10-07T11:14:06.771Z"
   },
   {
    "duration": 4,
    "start_time": "2021-10-07T11:14:07.142Z"
   },
   {
    "duration": 20,
    "start_time": "2021-10-07T11:14:07.147Z"
   },
   {
    "duration": 12,
    "start_time": "2021-10-07T11:14:07.169Z"
   },
   {
    "duration": 21,
    "start_time": "2021-10-07T11:14:07.183Z"
   },
   {
    "duration": 4,
    "start_time": "2021-10-07T11:14:07.205Z"
   },
   {
    "duration": 7,
    "start_time": "2021-10-07T11:14:07.210Z"
   },
   {
    "duration": 5,
    "start_time": "2021-10-07T11:14:07.219Z"
   },
   {
    "duration": 8,
    "start_time": "2021-10-07T11:14:07.225Z"
   },
   {
    "duration": 2368,
    "start_time": "2021-10-07T11:14:07.235Z"
   },
   {
    "duration": 4,
    "start_time": "2021-10-07T11:14:26.731Z"
   },
   {
    "duration": 4,
    "start_time": "2021-10-07T11:14:27.855Z"
   },
   {
    "duration": 4,
    "start_time": "2021-10-07T11:14:36.366Z"
   },
   {
    "duration": 1150,
    "start_time": "2021-10-07T11:14:36.372Z"
   },
   {
    "duration": 4,
    "start_time": "2021-10-07T11:14:37.524Z"
   },
   {
    "duration": 16,
    "start_time": "2021-10-07T11:14:37.529Z"
   },
   {
    "duration": 255,
    "start_time": "2021-10-07T11:14:37.547Z"
   },
   {
    "duration": 3,
    "start_time": "2021-10-07T11:14:37.803Z"
   },
   {
    "duration": 5006,
    "start_time": "2021-10-07T11:14:37.808Z"
   },
   {
    "duration": -429,
    "start_time": "2021-10-07T11:14:43.245Z"
   },
   {
    "duration": -430,
    "start_time": "2021-10-07T11:14:43.247Z"
   },
   {
    "duration": -432,
    "start_time": "2021-10-07T11:14:43.250Z"
   },
   {
    "duration": -433,
    "start_time": "2021-10-07T11:14:43.252Z"
   },
   {
    "duration": -438,
    "start_time": "2021-10-07T11:14:43.258Z"
   },
   {
    "duration": -439,
    "start_time": "2021-10-07T11:14:43.260Z"
   },
   {
    "duration": 3107,
    "start_time": "2021-10-07T11:15:10.612Z"
   },
   {
    "duration": 77,
    "start_time": "2021-10-07T11:15:13.721Z"
   },
   {
    "duration": 13,
    "start_time": "2021-10-07T11:15:13.800Z"
   },
   {
    "duration": 10,
    "start_time": "2021-10-07T11:15:13.815Z"
   },
   {
    "duration": 341,
    "start_time": "2021-10-07T11:15:13.826Z"
   },
   {
    "duration": 316,
    "start_time": "2021-10-07T11:15:14.169Z"
   },
   {
    "duration": 645,
    "start_time": "2021-10-07T11:15:14.486Z"
   },
   {
    "duration": 282,
    "start_time": "2021-10-07T11:15:15.132Z"
   },
   {
    "duration": 11,
    "start_time": "2021-10-07T11:15:15.417Z"
   },
   {
    "duration": 8,
    "start_time": "2021-10-07T11:15:15.430Z"
   },
   {
    "duration": 336,
    "start_time": "2021-10-07T11:15:15.439Z"
   },
   {
    "duration": 297,
    "start_time": "2021-10-07T11:15:15.777Z"
   },
   {
    "duration": 3,
    "start_time": "2021-10-07T11:15:16.076Z"
   },
   {
    "duration": 22,
    "start_time": "2021-10-07T11:15:16.081Z"
   },
   {
    "duration": 12,
    "start_time": "2021-10-07T11:15:16.104Z"
   },
   {
    "duration": 8,
    "start_time": "2021-10-07T11:15:16.118Z"
   },
   {
    "duration": 3,
    "start_time": "2021-10-07T11:15:16.127Z"
   },
   {
    "duration": 4,
    "start_time": "2021-10-07T11:15:16.132Z"
   },
   {
    "duration": 5,
    "start_time": "2021-10-07T11:15:16.137Z"
   },
   {
    "duration": 6,
    "start_time": "2021-10-07T11:15:16.144Z"
   },
   {
    "duration": 2256,
    "start_time": "2021-10-07T11:15:16.152Z"
   },
   {
    "duration": 4,
    "start_time": "2021-10-07T11:15:18.499Z"
   },
   {
    "duration": 8,
    "start_time": "2021-10-07T11:15:18.504Z"
   },
   {
    "duration": 5,
    "start_time": "2021-10-07T11:15:18.514Z"
   },
   {
    "duration": 929,
    "start_time": "2021-10-07T11:15:18.520Z"
   },
   {
    "duration": 4,
    "start_time": "2021-10-07T11:15:19.451Z"
   },
   {
    "duration": 3,
    "start_time": "2021-10-07T11:15:19.458Z"
   },
   {
    "duration": 270,
    "start_time": "2021-10-07T11:15:19.463Z"
   },
   {
    "duration": 2,
    "start_time": "2021-10-07T11:15:19.735Z"
   },
   {
    "duration": 25333,
    "start_time": "2021-10-07T11:15:19.739Z"
   },
   {
    "duration": 8,
    "start_time": "2021-10-07T11:15:45.074Z"
   },
   {
    "duration": 257,
    "start_time": "2021-10-07T11:15:45.084Z"
   },
   {
    "duration": 3,
    "start_time": "2021-10-07T11:15:45.343Z"
   },
   {
    "duration": 100361,
    "start_time": "2021-10-07T11:15:45.347Z"
   },
   {
    "duration": 96,
    "start_time": "2021-10-07T11:17:25.709Z"
   },
   {
    "duration": 495,
    "start_time": "2021-10-07T11:17:25.807Z"
   },
   {
    "duration": 2938,
    "start_time": "2021-10-07T11:21:44.999Z"
   },
   {
    "duration": 92,
    "start_time": "2021-10-07T11:21:47.939Z"
   },
   {
    "duration": 13,
    "start_time": "2021-10-07T11:21:48.035Z"
   },
   {
    "duration": 9,
    "start_time": "2021-10-07T11:21:48.049Z"
   },
   {
    "duration": 324,
    "start_time": "2021-10-07T11:21:48.059Z"
   },
   {
    "duration": 308,
    "start_time": "2021-10-07T11:21:48.385Z"
   },
   {
    "duration": 669,
    "start_time": "2021-10-07T11:21:48.696Z"
   },
   {
    "duration": 279,
    "start_time": "2021-10-07T11:21:49.368Z"
   },
   {
    "duration": 12,
    "start_time": "2021-10-07T11:21:49.649Z"
   },
   {
    "duration": 8,
    "start_time": "2021-10-07T11:21:49.662Z"
   },
   {
    "duration": 346,
    "start_time": "2021-10-07T11:21:49.671Z"
   },
   {
    "duration": 314,
    "start_time": "2021-10-07T11:21:50.019Z"
   },
   {
    "duration": 4,
    "start_time": "2021-10-07T11:21:50.335Z"
   },
   {
    "duration": 22,
    "start_time": "2021-10-07T11:21:50.340Z"
   },
   {
    "duration": 16,
    "start_time": "2021-10-07T11:21:50.364Z"
   },
   {
    "duration": 25,
    "start_time": "2021-10-07T11:21:50.381Z"
   },
   {
    "duration": 5,
    "start_time": "2021-10-07T11:21:50.407Z"
   },
   {
    "duration": 9,
    "start_time": "2021-10-07T11:21:50.413Z"
   },
   {
    "duration": 11,
    "start_time": "2021-10-07T11:21:50.424Z"
   },
   {
    "duration": 12,
    "start_time": "2021-10-07T11:21:50.437Z"
   },
   {
    "duration": 8555,
    "start_time": "2021-10-07T11:21:50.451Z"
   },
   {
    "duration": 89,
    "start_time": "2021-10-07T11:21:59.011Z"
   },
   {
    "duration": 96,
    "start_time": "2021-10-07T11:21:59.103Z"
   },
   {
    "duration": 4,
    "start_time": "2021-10-07T11:21:59.201Z"
   },
   {
    "duration": 1470,
    "start_time": "2021-10-07T11:21:59.206Z"
   },
   {
    "duration": 4,
    "start_time": "2021-10-07T11:22:00.678Z"
   },
   {
    "duration": 21,
    "start_time": "2021-10-07T11:22:00.684Z"
   },
   {
    "duration": 402,
    "start_time": "2021-10-07T11:22:00.706Z"
   },
   {
    "duration": 2,
    "start_time": "2021-10-07T11:22:01.110Z"
   },
   {
    "duration": 65895,
    "start_time": "2021-10-07T11:22:01.114Z"
   },
   {
    "duration": 10,
    "start_time": "2021-10-07T11:23:07.011Z"
   },
   {
    "duration": 299,
    "start_time": "2021-10-07T11:23:07.022Z"
   },
   {
    "duration": 3,
    "start_time": "2021-10-07T11:23:07.323Z"
   },
   {
    "duration": 110074,
    "start_time": "2021-10-07T11:23:07.327Z"
   },
   {
    "duration": 10,
    "start_time": "2021-10-07T11:24:57.402Z"
   },
   {
    "duration": 727,
    "start_time": "2021-10-07T11:24:57.414Z"
   },
   {
    "duration": 3003,
    "start_time": "2021-10-07T11:27:22.772Z"
   },
   {
    "duration": 94,
    "start_time": "2021-10-07T11:27:25.777Z"
   },
   {
    "duration": 13,
    "start_time": "2021-10-07T11:27:25.873Z"
   },
   {
    "duration": 10,
    "start_time": "2021-10-07T11:27:25.888Z"
   },
   {
    "duration": 362,
    "start_time": "2021-10-07T11:27:25.900Z"
   },
   {
    "duration": 342,
    "start_time": "2021-10-07T11:27:26.264Z"
   },
   {
    "duration": 702,
    "start_time": "2021-10-07T11:27:26.608Z"
   },
   {
    "duration": 293,
    "start_time": "2021-10-07T11:27:27.313Z"
   },
   {
    "duration": 12,
    "start_time": "2021-10-07T11:27:27.607Z"
   },
   {
    "duration": 11,
    "start_time": "2021-10-07T11:27:27.620Z"
   },
   {
    "duration": 345,
    "start_time": "2021-10-07T11:27:27.632Z"
   },
   {
    "duration": 297,
    "start_time": "2021-10-07T11:27:27.979Z"
   },
   {
    "duration": 4,
    "start_time": "2021-10-07T11:27:28.278Z"
   },
   {
    "duration": 33,
    "start_time": "2021-10-07T11:27:28.283Z"
   },
   {
    "duration": 19,
    "start_time": "2021-10-07T11:27:28.318Z"
   },
   {
    "duration": 10,
    "start_time": "2021-10-07T11:27:28.339Z"
   },
   {
    "duration": 3,
    "start_time": "2021-10-07T11:27:28.350Z"
   },
   {
    "duration": 4,
    "start_time": "2021-10-07T11:27:28.355Z"
   },
   {
    "duration": 5,
    "start_time": "2021-10-07T11:27:28.360Z"
   },
   {
    "duration": 6,
    "start_time": "2021-10-07T11:27:28.367Z"
   },
   {
    "duration": 54604,
    "start_time": "2021-10-07T11:27:28.399Z"
   },
   {
    "duration": 4,
    "start_time": "2021-10-07T11:28:23.005Z"
   },
   {
    "duration": 96,
    "start_time": "2021-10-07T11:28:23.013Z"
   },
   {
    "duration": 5,
    "start_time": "2021-10-07T11:28:23.111Z"
   },
   {
    "duration": 2841,
    "start_time": "2021-10-07T11:28:23.203Z"
   },
   {
    "duration": 6,
    "start_time": "2021-10-07T11:28:26.046Z"
   },
   {
    "duration": 8,
    "start_time": "2021-10-07T11:28:26.053Z"
   },
   {
    "duration": 487,
    "start_time": "2021-10-07T11:28:26.062Z"
   },
   {
    "duration": 4,
    "start_time": "2021-10-07T11:28:26.551Z"
   },
   {
    "duration": 126332,
    "start_time": "2021-10-07T11:28:26.557Z"
   },
   {
    "duration": 16,
    "start_time": "2021-10-07T11:30:32.891Z"
   },
   {
    "duration": 393,
    "start_time": "2021-10-07T11:30:32.908Z"
   },
   {
    "duration": 2,
    "start_time": "2021-10-07T11:30:33.303Z"
   },
   {
    "duration": 127601,
    "start_time": "2021-10-07T11:30:33.307Z"
   },
   {
    "duration": 94,
    "start_time": "2021-10-07T11:32:40.910Z"
   },
   {
    "duration": 1174,
    "start_time": "2021-10-07T11:32:41.005Z"
   },
   {
    "duration": 3447,
    "start_time": "2021-10-07T11:33:23.498Z"
   },
   {
    "duration": 81,
    "start_time": "2021-10-07T11:33:26.947Z"
   },
   {
    "duration": 12,
    "start_time": "2021-10-07T11:33:27.030Z"
   },
   {
    "duration": 8,
    "start_time": "2021-10-07T11:33:27.043Z"
   },
   {
    "duration": 327,
    "start_time": "2021-10-07T11:33:27.052Z"
   },
   {
    "duration": 321,
    "start_time": "2021-10-07T11:33:27.380Z"
   },
   {
    "duration": 646,
    "start_time": "2021-10-07T11:33:27.703Z"
   },
   {
    "duration": 274,
    "start_time": "2021-10-07T11:33:28.352Z"
   },
   {
    "duration": 12,
    "start_time": "2021-10-07T11:33:28.628Z"
   },
   {
    "duration": 8,
    "start_time": "2021-10-07T11:33:28.642Z"
   },
   {
    "duration": 330,
    "start_time": "2021-10-07T11:33:28.652Z"
   },
   {
    "duration": 285,
    "start_time": "2021-10-07T11:33:28.984Z"
   },
   {
    "duration": 3,
    "start_time": "2021-10-07T11:33:29.271Z"
   },
   {
    "duration": 131,
    "start_time": "2021-10-07T11:33:29.276Z"
   },
   {
    "duration": 19,
    "start_time": "2021-10-07T11:33:29.409Z"
   },
   {
    "duration": 25,
    "start_time": "2021-10-07T11:33:29.429Z"
   },
   {
    "duration": 3,
    "start_time": "2021-10-07T11:33:29.456Z"
   },
   {
    "duration": 10,
    "start_time": "2021-10-07T11:33:29.460Z"
   },
   {
    "duration": 13,
    "start_time": "2021-10-07T11:33:29.471Z"
   },
   {
    "duration": 25,
    "start_time": "2021-10-07T11:33:29.485Z"
   },
   {
    "duration": 9091117,
    "start_time": "2021-10-07T11:33:29.511Z"
   },
   {
    "duration": -496,
    "start_time": "2021-10-07T14:05:01.126Z"
   },
   {
    "duration": -498,
    "start_time": "2021-10-07T14:05:01.129Z"
   },
   {
    "duration": -500,
    "start_time": "2021-10-07T14:05:01.132Z"
   },
   {
    "duration": -501,
    "start_time": "2021-10-07T14:05:01.134Z"
   },
   {
    "duration": -505,
    "start_time": "2021-10-07T14:05:01.139Z"
   },
   {
    "duration": -507,
    "start_time": "2021-10-07T14:05:01.141Z"
   },
   {
    "duration": -507,
    "start_time": "2021-10-07T14:05:01.143Z"
   },
   {
    "duration": -507,
    "start_time": "2021-10-07T14:05:01.144Z"
   },
   {
    "duration": -508,
    "start_time": "2021-10-07T14:05:01.145Z"
   },
   {
    "duration": -509,
    "start_time": "2021-10-07T14:05:01.147Z"
   },
   {
    "duration": -509,
    "start_time": "2021-10-07T14:05:01.148Z"
   },
   {
    "duration": -509,
    "start_time": "2021-10-07T14:05:01.149Z"
   },
   {
    "duration": -525,
    "start_time": "2021-10-07T14:05:01.166Z"
   },
   {
    "duration": -527,
    "start_time": "2021-10-07T14:05:01.169Z"
   },
   {
    "duration": -529,
    "start_time": "2021-10-07T14:05:01.171Z"
   },
   {
    "duration": 3061,
    "start_time": "2021-10-07T14:05:15.502Z"
   },
   {
    "duration": 140,
    "start_time": "2021-10-07T14:05:18.565Z"
   },
   {
    "duration": 13,
    "start_time": "2021-10-07T14:05:18.708Z"
   },
   {
    "duration": 8,
    "start_time": "2021-10-07T14:05:18.723Z"
   },
   {
    "duration": 346,
    "start_time": "2021-10-07T14:05:18.732Z"
   },
   {
    "duration": 339,
    "start_time": "2021-10-07T14:05:19.080Z"
   },
   {
    "duration": 714,
    "start_time": "2021-10-07T14:05:19.421Z"
   },
   {
    "duration": 299,
    "start_time": "2021-10-07T14:05:20.139Z"
   },
   {
    "duration": 11,
    "start_time": "2021-10-07T14:05:20.440Z"
   },
   {
    "duration": 8,
    "start_time": "2021-10-07T14:05:20.452Z"
   },
   {
    "duration": 367,
    "start_time": "2021-10-07T14:05:20.461Z"
   },
   {
    "duration": 321,
    "start_time": "2021-10-07T14:05:20.830Z"
   },
   {
    "duration": 4,
    "start_time": "2021-10-07T14:05:21.153Z"
   },
   {
    "duration": 51,
    "start_time": "2021-10-07T14:05:21.158Z"
   },
   {
    "duration": 22,
    "start_time": "2021-10-07T14:05:21.211Z"
   },
   {
    "duration": 14,
    "start_time": "2021-10-07T14:05:21.234Z"
   },
   {
    "duration": 3,
    "start_time": "2021-10-07T14:05:21.249Z"
   },
   {
    "duration": 8,
    "start_time": "2021-10-07T14:05:21.254Z"
   },
   {
    "duration": 9,
    "start_time": "2021-10-07T14:05:21.264Z"
   },
   {
    "duration": 9,
    "start_time": "2021-10-07T14:05:21.275Z"
   },
   {
    "duration": 286309,
    "start_time": "2021-10-07T14:05:21.300Z"
   },
   {
    "duration": 7,
    "start_time": "2021-10-07T14:10:07.701Z"
   },
   {
    "duration": 7,
    "start_time": "2021-10-07T14:10:07.800Z"
   },
   {
    "duration": 90,
    "start_time": "2021-10-07T14:10:07.810Z"
   },
   {
    "duration": 4753,
    "start_time": "2021-10-07T14:10:07.904Z"
   },
   {
    "duration": 4,
    "start_time": "2021-10-07T14:10:12.659Z"
   },
   {
    "duration": 8,
    "start_time": "2021-10-07T14:10:12.664Z"
   },
   {
    "duration": 880,
    "start_time": "2021-10-07T14:10:12.673Z"
   },
   {
    "duration": 3,
    "start_time": "2021-10-07T14:10:13.554Z"
   },
   {
    "duration": 225187,
    "start_time": "2021-10-07T14:10:13.558Z"
   },
   {
    "duration": 10,
    "start_time": "2021-10-07T14:13:58.747Z"
   },
   {
    "duration": 812,
    "start_time": "2021-10-07T14:13:58.759Z"
   },
   {
    "duration": 3,
    "start_time": "2021-10-07T14:13:59.573Z"
   },
   {
    "duration": 192423,
    "start_time": "2021-10-07T14:13:59.578Z"
   },
   {
    "duration": 14,
    "start_time": "2021-10-07T14:17:12.004Z"
   },
   {
    "duration": 1769,
    "start_time": "2021-10-07T14:17:12.019Z"
   },
   {
    "duration": 3589,
    "start_time": "2021-10-07T14:17:47.923Z"
   },
   {
    "duration": 3,
    "start_time": "2021-10-07T14:22:57.437Z"
   },
   {
    "duration": 532692,
    "start_time": "2021-10-07T14:22:58.465Z"
   },
   {
    "duration": 4736,
    "start_time": "2021-10-07T14:33:17.115Z"
   },
   {
    "duration": 83,
    "start_time": "2021-10-07T14:33:21.853Z"
   },
   {
    "duration": 14,
    "start_time": "2021-10-07T14:33:21.940Z"
   },
   {
    "duration": 8,
    "start_time": "2021-10-07T14:33:21.955Z"
   },
   {
    "duration": 324,
    "start_time": "2021-10-07T14:33:21.965Z"
   },
   {
    "duration": 318,
    "start_time": "2021-10-07T14:33:22.291Z"
   },
   {
    "duration": 676,
    "start_time": "2021-10-07T14:33:22.612Z"
   },
   {
    "duration": 316,
    "start_time": "2021-10-07T14:33:23.290Z"
   },
   {
    "duration": 12,
    "start_time": "2021-10-07T14:33:23.607Z"
   },
   {
    "duration": 8,
    "start_time": "2021-10-07T14:33:23.620Z"
   },
   {
    "duration": 554,
    "start_time": "2021-10-07T14:33:23.630Z"
   },
   {
    "duration": 289,
    "start_time": "2021-10-07T14:33:24.185Z"
   },
   {
    "duration": 4,
    "start_time": "2021-10-07T14:33:24.475Z"
   },
   {
    "duration": 33,
    "start_time": "2021-10-07T14:33:24.481Z"
   },
   {
    "duration": 21,
    "start_time": "2021-10-07T14:33:24.516Z"
   },
   {
    "duration": 10,
    "start_time": "2021-10-07T14:33:24.538Z"
   },
   {
    "duration": 3,
    "start_time": "2021-10-07T14:33:24.550Z"
   },
   {
    "duration": 5,
    "start_time": "2021-10-07T14:33:24.554Z"
   },
   {
    "duration": 5,
    "start_time": "2021-10-07T14:33:24.560Z"
   },
   {
    "duration": 6,
    "start_time": "2021-10-07T14:33:24.567Z"
   },
   {
    "duration": 54927,
    "start_time": "2021-10-07T14:33:24.575Z"
   },
   {
    "duration": 4,
    "start_time": "2021-10-07T14:34:19.507Z"
   },
   {
    "duration": 105,
    "start_time": "2021-10-07T14:34:19.514Z"
   },
   {
    "duration": 84,
    "start_time": "2021-10-07T14:34:19.623Z"
   },
   {
    "duration": 2776,
    "start_time": "2021-10-07T14:34:19.709Z"
   },
   {
    "duration": 4,
    "start_time": "2021-10-07T14:34:22.487Z"
   },
   {
    "duration": 26,
    "start_time": "2021-10-07T14:34:22.500Z"
   },
   {
    "duration": 465,
    "start_time": "2021-10-07T14:34:22.528Z"
   },
   {
    "duration": 5,
    "start_time": "2021-10-07T14:34:22.999Z"
   },
   {
    "duration": 124882,
    "start_time": "2021-10-07T14:34:23.005Z"
   },
   {
    "duration": 19,
    "start_time": "2021-10-07T14:36:27.889Z"
   },
   {
    "duration": 390,
    "start_time": "2021-10-07T14:36:27.910Z"
   },
   {
    "duration": 4,
    "start_time": "2021-10-07T14:36:28.301Z"
   },
   {
    "duration": 129100,
    "start_time": "2021-10-07T14:36:28.307Z"
   },
   {
    "duration": 93,
    "start_time": "2021-10-07T14:38:37.409Z"
   },
   {
    "duration": 1025,
    "start_time": "2021-10-07T14:38:37.504Z"
   },
   {
    "duration": 3,
    "start_time": "2021-10-07T14:38:38.531Z"
   },
   {
    "duration": 329095,
    "start_time": "2021-10-07T14:38:38.535Z"
   },
   {
    "duration": -455,
    "start_time": "2021-10-07T14:44:08.088Z"
   },
   {
    "duration": -458,
    "start_time": "2021-10-07T14:44:08.092Z"
   },
   {
    "duration": 4831,
    "start_time": "2021-10-07T14:44:37.919Z"
   },
   {
    "duration": 89,
    "start_time": "2021-10-07T14:44:42.752Z"
   },
   {
    "duration": 13,
    "start_time": "2021-10-07T14:44:42.843Z"
   },
   {
    "duration": 9,
    "start_time": "2021-10-07T14:44:42.857Z"
   },
   {
    "duration": 319,
    "start_time": "2021-10-07T14:44:42.867Z"
   },
   {
    "duration": 319,
    "start_time": "2021-10-07T14:44:43.187Z"
   },
   {
    "duration": 646,
    "start_time": "2021-10-07T14:44:43.507Z"
   },
   {
    "duration": 273,
    "start_time": "2021-10-07T14:44:44.155Z"
   },
   {
    "duration": 11,
    "start_time": "2021-10-07T14:44:44.431Z"
   },
   {
    "duration": 8,
    "start_time": "2021-10-07T14:44:44.444Z"
   },
   {
    "duration": 334,
    "start_time": "2021-10-07T14:44:44.453Z"
   },
   {
    "duration": 296,
    "start_time": "2021-10-07T14:44:44.789Z"
   },
   {
    "duration": 4,
    "start_time": "2021-10-07T14:44:45.087Z"
   },
   {
    "duration": 59,
    "start_time": "2021-10-07T14:44:45.092Z"
   },
   {
    "duration": 20,
    "start_time": "2021-10-07T14:44:45.152Z"
   },
   {
    "duration": 39,
    "start_time": "2021-10-07T14:44:45.174Z"
   },
   {
    "duration": 4,
    "start_time": "2021-10-07T14:44:45.214Z"
   },
   {
    "duration": 4,
    "start_time": "2021-10-07T14:44:45.220Z"
   },
   {
    "duration": 5,
    "start_time": "2021-10-07T14:44:45.225Z"
   },
   {
    "duration": 8,
    "start_time": "2021-10-07T14:44:45.231Z"
   },
   {
    "duration": 960360,
    "start_time": "2021-10-07T14:44:45.240Z"
   },
   {
    "duration": 7,
    "start_time": "2021-10-07T15:00:45.602Z"
   },
   {
    "duration": 6,
    "start_time": "2021-10-07T15:00:45.702Z"
   },
   {
    "duration": 91,
    "start_time": "2021-10-07T15:00:45.711Z"
   },
   {
    "duration": 6702,
    "start_time": "2021-10-07T15:00:45.805Z"
   },
   {
    "duration": 5,
    "start_time": "2021-10-07T15:00:52.509Z"
   },
   {
    "duration": 5,
    "start_time": "2021-10-07T15:00:52.515Z"
   },
   {
    "duration": 1140,
    "start_time": "2021-10-07T15:00:52.522Z"
   },
   {
    "duration": 4,
    "start_time": "2021-10-07T15:00:53.664Z"
   },
   {
    "duration": 119923,
    "start_time": "2021-10-07T15:00:53.669Z"
   },
   {
    "duration": -500,
    "start_time": "2021-10-07T15:02:54.094Z"
   },
   {
    "duration": -504,
    "start_time": "2021-10-07T15:02:54.099Z"
   },
   {
    "duration": -505,
    "start_time": "2021-10-07T15:02:54.101Z"
   },
   {
    "duration": -527,
    "start_time": "2021-10-07T15:02:54.124Z"
   },
   {
    "duration": -529,
    "start_time": "2021-10-07T15:02:54.126Z"
   },
   {
    "duration": -530,
    "start_time": "2021-10-07T15:02:54.128Z"
   },
   {
    "duration": 5011,
    "start_time": "2021-10-07T15:03:20.154Z"
   },
   {
    "duration": 90,
    "start_time": "2021-10-07T15:03:25.167Z"
   },
   {
    "duration": 13,
    "start_time": "2021-10-07T15:03:25.259Z"
   },
   {
    "duration": 10,
    "start_time": "2021-10-07T15:03:25.274Z"
   },
   {
    "duration": 341,
    "start_time": "2021-10-07T15:03:25.285Z"
   },
   {
    "duration": 322,
    "start_time": "2021-10-07T15:03:25.627Z"
   },
   {
    "duration": 692,
    "start_time": "2021-10-07T15:03:25.951Z"
   },
   {
    "duration": 290,
    "start_time": "2021-10-07T15:03:26.646Z"
   },
   {
    "duration": 11,
    "start_time": "2021-10-07T15:03:26.938Z"
   },
   {
    "duration": 18,
    "start_time": "2021-10-07T15:03:26.951Z"
   },
   {
    "duration": 346,
    "start_time": "2021-10-07T15:03:26.971Z"
   },
   {
    "duration": 309,
    "start_time": "2021-10-07T15:03:27.319Z"
   },
   {
    "duration": 3,
    "start_time": "2021-10-07T15:03:27.630Z"
   },
   {
    "duration": 89,
    "start_time": "2021-10-07T15:03:27.635Z"
   },
   {
    "duration": 17,
    "start_time": "2021-10-07T15:03:27.726Z"
   },
   {
    "duration": 21,
    "start_time": "2021-10-07T15:03:27.745Z"
   },
   {
    "duration": 4,
    "start_time": "2021-10-07T15:03:27.767Z"
   },
   {
    "duration": 13,
    "start_time": "2021-10-07T15:03:27.772Z"
   },
   {
    "duration": 8,
    "start_time": "2021-10-07T15:03:27.800Z"
   },
   {
    "duration": 18,
    "start_time": "2021-10-07T15:03:27.809Z"
   },
   {
    "duration": 2155479,
    "start_time": "2021-10-07T15:03:27.829Z"
   },
   {
    "duration": 93,
    "start_time": "2021-10-07T15:39:23.310Z"
   },
   {
    "duration": 94,
    "start_time": "2021-10-07T15:39:23.408Z"
   },
   {
    "duration": 9,
    "start_time": "2021-10-07T15:39:23.505Z"
   },
   {
    "duration": 8686,
    "start_time": "2021-10-07T15:39:23.604Z"
   },
   {
    "duration": 11,
    "start_time": "2021-10-07T15:39:32.291Z"
   },
   {
    "duration": 4,
    "start_time": "2021-10-07T15:39:32.303Z"
   },
   {
    "duration": 474,
    "start_time": "2021-10-07T15:39:32.308Z"
   },
   {
    "duration": -463,
    "start_time": "2021-10-07T15:39:33.247Z"
   },
   {
    "duration": -464,
    "start_time": "2021-10-07T15:39:33.250Z"
   },
   {
    "duration": -466,
    "start_time": "2021-10-07T15:39:33.253Z"
   },
   {
    "duration": -467,
    "start_time": "2021-10-07T15:39:33.255Z"
   },
   {
    "duration": -468,
    "start_time": "2021-10-07T15:39:33.257Z"
   },
   {
    "duration": -472,
    "start_time": "2021-10-07T15:39:33.261Z"
   },
   {
    "duration": -473,
    "start_time": "2021-10-07T15:39:33.263Z"
   },
   {
    "duration": -474,
    "start_time": "2021-10-07T15:39:33.265Z"
   },
   {
    "duration": 4,
    "start_time": "2021-10-07T15:50:02.674Z"
   },
   {
    "duration": 380,
    "start_time": "2021-10-07T15:50:03.304Z"
   },
   {
    "duration": 4,
    "start_time": "2021-10-07T15:51:41.247Z"
   },
   {
    "duration": 423,
    "start_time": "2021-10-07T15:51:41.848Z"
   },
   {
    "duration": 4,
    "start_time": "2021-10-07T15:51:50.329Z"
   },
   {
    "duration": 434,
    "start_time": "2021-10-07T15:51:51.104Z"
   },
   {
    "duration": 4,
    "start_time": "2021-10-07T15:52:00.650Z"
   },
   {
    "duration": 309811,
    "start_time": "2021-10-07T15:52:00.656Z"
   },
   {
    "duration": -512,
    "start_time": "2021-10-07T15:57:10.981Z"
   },
   {
    "duration": -514,
    "start_time": "2021-10-07T15:57:10.984Z"
   },
   {
    "duration": -513,
    "start_time": "2021-10-07T15:57:10.985Z"
   },
   {
    "duration": -515,
    "start_time": "2021-10-07T15:57:10.988Z"
   },
   {
    "duration": -515,
    "start_time": "2021-10-07T15:57:10.989Z"
   },
   {
    "duration": -517,
    "start_time": "2021-10-07T15:57:10.991Z"
   },
   {
    "duration": 8248,
    "start_time": "2021-10-08T13:18:17.555Z"
   },
   {
    "duration": 187,
    "start_time": "2021-10-08T13:18:25.806Z"
   },
   {
    "duration": 22,
    "start_time": "2021-10-08T13:18:25.995Z"
   },
   {
    "duration": 19,
    "start_time": "2021-10-08T13:18:26.020Z"
   },
   {
    "duration": 533,
    "start_time": "2021-10-08T13:18:26.042Z"
   },
   {
    "duration": 513,
    "start_time": "2021-10-08T13:18:26.577Z"
   },
   {
    "duration": 938,
    "start_time": "2021-10-08T13:18:27.093Z"
   },
   {
    "duration": 436,
    "start_time": "2021-10-08T13:18:28.034Z"
   },
   {
    "duration": 17,
    "start_time": "2021-10-08T13:18:28.473Z"
   },
   {
    "duration": 37,
    "start_time": "2021-10-08T13:18:28.492Z"
   },
   {
    "duration": 534,
    "start_time": "2021-10-08T13:18:28.532Z"
   },
   {
    "duration": 476,
    "start_time": "2021-10-08T13:18:29.068Z"
   },
   {
    "duration": 5,
    "start_time": "2021-10-08T13:18:29.546Z"
   },
   {
    "duration": 141,
    "start_time": "2021-10-08T13:18:29.553Z"
   },
   {
    "duration": 34,
    "start_time": "2021-10-08T13:18:29.696Z"
   },
   {
    "duration": 29,
    "start_time": "2021-10-08T13:18:29.733Z"
   },
   {
    "duration": 5,
    "start_time": "2021-10-08T13:18:29.764Z"
   },
   {
    "duration": 13,
    "start_time": "2021-10-08T13:18:29.771Z"
   },
   {
    "duration": 13,
    "start_time": "2021-10-08T13:18:29.786Z"
   },
   {
    "duration": 26,
    "start_time": "2021-10-08T13:18:29.801Z"
   },
   {
    "duration": 1940663,
    "start_time": "2021-10-08T13:18:29.830Z"
   },
   {
    "duration": -781,
    "start_time": "2021-10-08T13:50:51.277Z"
   },
   {
    "duration": -782,
    "start_time": "2021-10-08T13:50:51.280Z"
   },
   {
    "duration": -784,
    "start_time": "2021-10-08T13:50:51.283Z"
   },
   {
    "duration": -784,
    "start_time": "2021-10-08T13:50:51.285Z"
   },
   {
    "duration": -789,
    "start_time": "2021-10-08T13:50:51.292Z"
   },
   {
    "duration": -790,
    "start_time": "2021-10-08T13:50:51.294Z"
   },
   {
    "duration": -789,
    "start_time": "2021-10-08T13:50:51.295Z"
   },
   {
    "duration": -790,
    "start_time": "2021-10-08T13:50:51.297Z"
   },
   {
    "duration": -789,
    "start_time": "2021-10-08T13:50:51.298Z"
   },
   {
    "duration": -790,
    "start_time": "2021-10-08T13:50:51.300Z"
   },
   {
    "duration": -789,
    "start_time": "2021-10-08T13:50:51.301Z"
   },
   {
    "duration": -790,
    "start_time": "2021-10-08T13:50:51.303Z"
   },
   {
    "duration": -805,
    "start_time": "2021-10-08T13:50:51.320Z"
   },
   {
    "duration": -811,
    "start_time": "2021-10-08T13:50:51.327Z"
   },
   {
    "duration": -811,
    "start_time": "2021-10-08T13:50:51.328Z"
   },
   {
    "duration": 7560,
    "start_time": "2021-10-08T13:51:03.489Z"
   },
   {
    "duration": 104,
    "start_time": "2021-10-08T13:51:11.052Z"
   },
   {
    "duration": 20,
    "start_time": "2021-10-08T13:51:11.159Z"
   },
   {
    "duration": 13,
    "start_time": "2021-10-08T13:51:11.182Z"
   },
   {
    "duration": 544,
    "start_time": "2021-10-08T13:51:11.197Z"
   },
   {
    "duration": 523,
    "start_time": "2021-10-08T13:51:11.744Z"
   },
   {
    "duration": 1103,
    "start_time": "2021-10-08T13:51:12.270Z"
   },
   {
    "duration": 459,
    "start_time": "2021-10-08T13:51:13.377Z"
   },
   {
    "duration": 18,
    "start_time": "2021-10-08T13:51:13.841Z"
   },
   {
    "duration": 12,
    "start_time": "2021-10-08T13:51:13.861Z"
   },
   {
    "duration": 549,
    "start_time": "2021-10-08T13:51:13.876Z"
   },
   {
    "duration": 471,
    "start_time": "2021-10-08T13:51:14.428Z"
   },
   {
    "duration": 5,
    "start_time": "2021-10-08T13:51:14.902Z"
   },
   {
    "duration": 96,
    "start_time": "2021-10-08T13:51:14.910Z"
   },
   {
    "duration": 48,
    "start_time": "2021-10-08T13:51:15.008Z"
   },
   {
    "duration": 27,
    "start_time": "2021-10-08T13:51:15.059Z"
   },
   {
    "duration": 5,
    "start_time": "2021-10-08T13:51:15.088Z"
   },
   {
    "duration": 28,
    "start_time": "2021-10-08T13:51:15.096Z"
   },
   {
    "duration": 13,
    "start_time": "2021-10-08T13:51:15.127Z"
   },
   {
    "duration": 9,
    "start_time": "2021-10-08T13:51:15.143Z"
   },
   {
    "duration": 1167971,
    "start_time": "2021-10-08T13:51:15.155Z"
   },
   {
    "duration": 92,
    "start_time": "2021-10-08T14:10:43.131Z"
   },
   {
    "duration": 13,
    "start_time": "2021-10-08T14:10:43.228Z"
   },
   {
    "duration": 82,
    "start_time": "2021-10-08T14:10:43.246Z"
   },
   {
    "duration": 8745,
    "start_time": "2021-10-08T14:10:43.421Z"
   },
   {
    "duration": 7,
    "start_time": "2021-10-08T14:10:52.168Z"
   },
   {
    "duration": 11,
    "start_time": "2021-10-08T14:10:52.177Z"
   },
   {
    "duration": 683,
    "start_time": "2021-10-08T14:10:52.190Z"
   },
   {
    "duration": 5,
    "start_time": "2021-10-08T14:10:52.876Z"
   },
   {
    "duration": 452941,
    "start_time": "2021-10-08T14:10:52.884Z"
   },
   {
    "duration": 24,
    "start_time": "2021-10-08T14:18:25.828Z"
   },
   {
    "duration": 574,
    "start_time": "2021-10-08T14:18:25.854Z"
   },
   {
    "duration": 5,
    "start_time": "2021-10-08T14:18:26.431Z"
   },
   {
    "duration": 451296,
    "start_time": "2021-10-08T14:18:26.439Z"
   },
   {
    "duration": 96,
    "start_time": "2021-10-08T14:25:57.738Z"
   },
   {
    "duration": 1529,
    "start_time": "2021-10-08T14:25:57.837Z"
   },
   {
    "duration": 7557,
    "start_time": "2021-10-08T14:31:29.201Z"
   },
   {
    "duration": 169,
    "start_time": "2021-10-08T14:31:36.761Z"
   },
   {
    "duration": 17,
    "start_time": "2021-10-08T14:31:36.933Z"
   },
   {
    "duration": 13,
    "start_time": "2021-10-08T14:31:36.953Z"
   },
   {
    "duration": 545,
    "start_time": "2021-10-08T14:31:36.969Z"
   },
   {
    "duration": 531,
    "start_time": "2021-10-08T14:31:37.522Z"
   },
   {
    "duration": 941,
    "start_time": "2021-10-08T14:31:38.056Z"
   },
   {
    "duration": 519,
    "start_time": "2021-10-08T14:31:39.002Z"
   },
   {
    "duration": 37,
    "start_time": "2021-10-08T14:31:39.528Z"
   },
   {
    "duration": 67,
    "start_time": "2021-10-08T14:31:39.568Z"
   },
   {
    "duration": 730,
    "start_time": "2021-10-08T14:31:39.638Z"
   },
   {
    "duration": 498,
    "start_time": "2021-10-08T14:31:40.371Z"
   },
   {
    "duration": 6,
    "start_time": "2021-10-08T14:31:40.871Z"
   },
   {
    "duration": 116,
    "start_time": "2021-10-08T14:31:40.880Z"
   },
   {
    "duration": 57,
    "start_time": "2021-10-08T14:31:40.999Z"
   },
   {
    "duration": 26,
    "start_time": "2021-10-08T14:31:41.058Z"
   },
   {
    "duration": 5,
    "start_time": "2021-10-08T14:31:41.087Z"
   },
   {
    "duration": 26,
    "start_time": "2021-10-08T14:31:41.095Z"
   },
   {
    "duration": 5,
    "start_time": "2021-10-08T14:31:41.124Z"
   },
   {
    "duration": 10,
    "start_time": "2021-10-08T14:31:41.132Z"
   },
   {
    "duration": 1184184,
    "start_time": "2021-10-08T14:31:41.145Z"
   },
   {
    "duration": 190,
    "start_time": "2021-10-08T14:51:25.332Z"
   },
   {
    "duration": 7,
    "start_time": "2021-10-08T14:51:25.529Z"
   },
   {
    "duration": 87,
    "start_time": "2021-10-08T14:51:25.540Z"
   },
   {
    "duration": 8802,
    "start_time": "2021-10-08T14:51:25.632Z"
   },
   {
    "duration": 6,
    "start_time": "2021-10-08T14:51:34.437Z"
   },
   {
    "duration": 6,
    "start_time": "2021-10-08T14:51:34.446Z"
   },
   {
    "duration": 623,
    "start_time": "2021-10-08T14:51:34.454Z"
   },
   {
    "duration": 4,
    "start_time": "2021-10-08T14:51:35.080Z"
   },
   {
    "duration": 894239,
    "start_time": "2021-10-08T14:51:35.086Z"
   },
   {
    "duration": 22,
    "start_time": "2021-10-08T15:06:29.327Z"
   },
   {
    "duration": 556,
    "start_time": "2021-10-08T15:06:29.352Z"
   },
   {
    "duration": 14,
    "start_time": "2021-10-08T15:06:29.911Z"
   },
   {
    "duration": 670207,
    "start_time": "2021-10-08T15:06:29.927Z"
   },
   {
    "duration": 113,
    "start_time": "2021-10-08T15:17:40.136Z"
   },
   {
    "duration": 1917,
    "start_time": "2021-10-08T15:17:40.251Z"
   },
   {
    "duration": 96,
    "start_time": "2021-10-11T13:15:20.147Z"
   },
   {
    "duration": 8086,
    "start_time": "2021-10-11T13:15:30.859Z"
   },
   {
    "duration": 122,
    "start_time": "2021-10-11T13:15:38.948Z"
   },
   {
    "duration": 19,
    "start_time": "2021-10-11T13:15:39.073Z"
   },
   {
    "duration": 13,
    "start_time": "2021-10-11T13:15:39.095Z"
   },
   {
    "duration": 528,
    "start_time": "2021-10-11T13:15:39.110Z"
   },
   {
    "duration": 527,
    "start_time": "2021-10-11T13:15:39.640Z"
   },
   {
    "duration": 932,
    "start_time": "2021-10-11T13:15:40.170Z"
   },
   {
    "duration": 438,
    "start_time": "2021-10-11T13:15:41.105Z"
   },
   {
    "duration": 17,
    "start_time": "2021-10-11T13:15:41.546Z"
   },
   {
    "duration": 12,
    "start_time": "2021-10-11T13:15:41.582Z"
   },
   {
    "duration": 532,
    "start_time": "2021-10-11T13:15:41.597Z"
   },
   {
    "duration": 459,
    "start_time": "2021-10-11T13:15:42.132Z"
   },
   {
    "duration": 867,
    "start_time": "2021-10-11T13:16:03.262Z"
   },
   {
    "duration": 733,
    "start_time": "2021-10-11T13:16:49.335Z"
   },
   {
    "duration": 412,
    "start_time": "2021-10-11T13:17:06.279Z"
   },
   {
    "duration": 393,
    "start_time": "2021-10-11T13:17:14.246Z"
   },
   {
    "duration": 465,
    "start_time": "2021-10-11T13:17:23.574Z"
   },
   {
    "duration": 514,
    "start_time": "2021-10-11T13:17:30.872Z"
   },
   {
    "duration": 398,
    "start_time": "2021-10-11T13:17:36.230Z"
   },
   {
    "duration": 409,
    "start_time": "2021-10-11T13:17:41.517Z"
   },
   {
    "duration": 8414,
    "start_time": "2021-10-11T13:19:15.877Z"
   },
   {
    "duration": 75,
    "start_time": "2021-10-11T13:19:24.294Z"
   },
   {
    "duration": 18,
    "start_time": "2021-10-11T13:19:24.372Z"
   },
   {
    "duration": 12,
    "start_time": "2021-10-11T13:19:24.393Z"
   },
   {
    "duration": 540,
    "start_time": "2021-10-11T13:19:24.407Z"
   },
   {
    "duration": 505,
    "start_time": "2021-10-11T13:19:24.949Z"
   },
   {
    "duration": 953,
    "start_time": "2021-10-11T13:19:25.456Z"
   },
   {
    "duration": 471,
    "start_time": "2021-10-11T13:19:26.413Z"
   },
   {
    "duration": 15,
    "start_time": "2021-10-11T13:19:26.888Z"
   },
   {
    "duration": 11,
    "start_time": "2021-10-11T13:19:26.906Z"
   },
   {
    "duration": 537,
    "start_time": "2021-10-11T13:19:26.920Z"
   },
   {
    "duration": 498,
    "start_time": "2021-10-11T13:19:27.459Z"
   },
   {
    "duration": 514,
    "start_time": "2021-10-11T13:19:27.959Z"
   },
   {
    "duration": 10,
    "start_time": "2021-10-11T13:19:28.475Z"
   },
   {
    "duration": 116,
    "start_time": "2021-10-11T13:19:28.487Z"
   },
   {
    "duration": 33,
    "start_time": "2021-10-11T13:19:28.605Z"
   },
   {
    "duration": 43,
    "start_time": "2021-10-11T13:19:28.640Z"
   },
   {
    "duration": 6,
    "start_time": "2021-10-11T13:19:28.685Z"
   },
   {
    "duration": 12,
    "start_time": "2021-10-11T13:19:28.693Z"
   },
   {
    "duration": 23,
    "start_time": "2021-10-11T13:19:28.708Z"
   },
   {
    "duration": 19,
    "start_time": "2021-10-11T13:19:28.734Z"
   },
   {
    "duration": 1527628,
    "start_time": "2021-10-11T13:19:28.756Z"
   },
   {
    "duration": 91,
    "start_time": "2021-10-11T13:44:56.392Z"
   },
   {
    "duration": 15,
    "start_time": "2021-10-11T13:44:56.486Z"
   },
   {
    "duration": 98,
    "start_time": "2021-10-11T13:44:56.585Z"
   },
   {
    "duration": 8836,
    "start_time": "2021-10-11T13:44:56.686Z"
   },
   {
    "duration": 7,
    "start_time": "2021-10-11T13:45:05.525Z"
   },
   {
    "duration": 15,
    "start_time": "2021-10-11T13:45:05.535Z"
   },
   {
    "duration": 529,
    "start_time": "2021-10-11T13:45:05.553Z"
   },
   {
    "duration": 4,
    "start_time": "2021-10-11T13:45:06.085Z"
   },
   {
    "duration": 881964,
    "start_time": "2021-10-11T13:45:06.091Z"
   },
   {
    "duration": 37,
    "start_time": "2021-10-11T13:59:48.057Z"
   },
   {
    "duration": 555,
    "start_time": "2021-10-11T13:59:48.097Z"
   },
   {
    "duration": 5,
    "start_time": "2021-10-11T13:59:48.654Z"
   },
   {
    "duration": 1595967,
    "start_time": "2021-10-11T13:59:48.662Z"
   },
   {
    "duration": -2248,
    "start_time": "2021-10-11T14:26:26.880Z"
   },
   {
    "duration": -2249,
    "start_time": "2021-10-11T14:26:26.882Z"
   },
   {
    "duration": 8519,
    "start_time": "2021-10-12T13:18:02.893Z"
   },
   {
    "duration": 143,
    "start_time": "2021-10-12T13:18:11.414Z"
   },
   {
    "duration": 18,
    "start_time": "2021-10-12T13:18:11.561Z"
   },
   {
    "duration": 13,
    "start_time": "2021-10-12T13:18:11.582Z"
   },
   {
    "duration": 565,
    "start_time": "2021-10-12T13:18:11.597Z"
   },
   {
    "duration": 554,
    "start_time": "2021-10-12T13:18:12.164Z"
   },
   {
    "duration": 941,
    "start_time": "2021-10-12T13:18:12.721Z"
   },
   {
    "duration": 453,
    "start_time": "2021-10-12T13:18:13.666Z"
   },
   {
    "duration": 17,
    "start_time": "2021-10-12T13:18:14.122Z"
   },
   {
    "duration": 30,
    "start_time": "2021-10-12T13:18:14.142Z"
   },
   {
    "duration": 549,
    "start_time": "2021-10-12T13:18:14.174Z"
   },
   {
    "duration": 487,
    "start_time": "2021-10-12T13:18:14.725Z"
   },
   {
    "duration": 492,
    "start_time": "2021-10-12T13:18:15.214Z"
   },
   {
    "duration": 427,
    "start_time": "2021-10-12T13:18:21.001Z"
   },
   {
    "duration": 109,
    "start_time": "2021-10-12T13:20:27.908Z"
   },
   {
    "duration": 6444,
    "start_time": "2021-10-12T13:21:52.655Z"
   },
   {
    "duration": 516,
    "start_time": "2021-10-12T13:22:16.423Z"
   },
   {
    "duration": 358,
    "start_time": "2021-10-12T13:22:22.326Z"
   },
   {
    "duration": 14,
    "start_time": "2021-10-12T13:22:32.063Z"
   },
   {
    "duration": 2936,
    "start_time": "2021-10-12T13:23:39.118Z"
   },
   {
    "duration": 827,
    "start_time": "2021-10-12T13:24:14.222Z"
   },
   {
    "duration": 2933,
    "start_time": "2021-10-12T13:24:43.230Z"
   },
   {
    "duration": 1754,
    "start_time": "2021-10-12T13:24:54.990Z"
   },
   {
    "duration": 1826,
    "start_time": "2021-10-12T13:26:36.715Z"
   },
   {
    "duration": 1874,
    "start_time": "2021-10-12T13:26:46.110Z"
   },
   {
    "duration": 115,
    "start_time": "2021-10-12T13:27:11.438Z"
   },
   {
    "duration": 15,
    "start_time": "2021-10-12T13:27:30.942Z"
   },
   {
    "duration": 327,
    "start_time": "2021-10-12T13:28:34.910Z"
   },
   {
    "duration": 14,
    "start_time": "2021-10-12T13:28:45.212Z"
   },
   {
    "duration": 13,
    "start_time": "2021-10-12T13:29:21.171Z"
   },
   {
    "duration": 2289,
    "start_time": "2021-10-12T13:29:33.941Z"
   },
   {
    "duration": 1624,
    "start_time": "2021-10-12T13:29:56.678Z"
   },
   {
    "duration": 7931,
    "start_time": "2021-10-12T13:33:19.265Z"
   },
   {
    "duration": 84,
    "start_time": "2021-10-12T13:33:27.199Z"
   },
   {
    "duration": 20,
    "start_time": "2021-10-12T13:33:27.286Z"
   },
   {
    "duration": 14,
    "start_time": "2021-10-12T13:33:27.310Z"
   },
   {
    "duration": 567,
    "start_time": "2021-10-12T13:33:27.326Z"
   },
   {
    "duration": 584,
    "start_time": "2021-10-12T13:33:27.895Z"
   },
   {
    "duration": 882,
    "start_time": "2021-10-12T13:33:28.482Z"
   },
   {
    "duration": 473,
    "start_time": "2021-10-12T13:33:29.368Z"
   },
   {
    "duration": 25,
    "start_time": "2021-10-12T13:33:29.844Z"
   },
   {
    "duration": 12,
    "start_time": "2021-10-12T13:33:29.872Z"
   },
   {
    "duration": 715,
    "start_time": "2021-10-12T13:33:29.887Z"
   },
   {
    "duration": 522,
    "start_time": "2021-10-12T13:33:30.605Z"
   },
   {
    "duration": 592,
    "start_time": "2021-10-12T13:33:31.129Z"
   },
   {
    "duration": 11,
    "start_time": "2021-10-12T13:33:31.723Z"
   },
   {
    "duration": 2058,
    "start_time": "2021-10-12T13:33:31.736Z"
   },
   {
    "duration": 1585,
    "start_time": "2021-10-12T13:33:33.796Z"
   },
   {
    "duration": 5,
    "start_time": "2021-10-12T13:33:35.384Z"
   },
   {
    "duration": 112,
    "start_time": "2021-10-12T13:33:35.391Z"
   },
   {
    "duration": 37,
    "start_time": "2021-10-12T13:33:35.505Z"
   },
   {
    "duration": 38,
    "start_time": "2021-10-12T13:33:35.544Z"
   },
   {
    "duration": 5,
    "start_time": "2021-10-12T13:33:35.584Z"
   },
   {
    "duration": 6,
    "start_time": "2021-10-12T13:33:35.591Z"
   },
   {
    "duration": 9,
    "start_time": "2021-10-12T13:33:35.604Z"
   },
   {
    "duration": 9,
    "start_time": "2021-10-12T13:33:35.616Z"
   },
   {
    "duration": 481600,
    "start_time": "2021-10-12T13:33:35.627Z"
   },
   {
    "duration": -207,
    "start_time": "2021-10-12T13:41:37.436Z"
   },
   {
    "duration": -211,
    "start_time": "2021-10-12T13:41:37.441Z"
   },
   {
    "duration": -211,
    "start_time": "2021-10-12T13:41:37.443Z"
   },
   {
    "duration": -213,
    "start_time": "2021-10-12T13:41:37.446Z"
   },
   {
    "duration": -215,
    "start_time": "2021-10-12T13:41:37.449Z"
   },
   {
    "duration": -215,
    "start_time": "2021-10-12T13:41:37.451Z"
   },
   {
    "duration": -216,
    "start_time": "2021-10-12T13:41:37.453Z"
   },
   {
    "duration": -217,
    "start_time": "2021-10-12T13:41:37.455Z"
   },
   {
    "duration": -218,
    "start_time": "2021-10-12T13:41:37.458Z"
   },
   {
    "duration": -219,
    "start_time": "2021-10-12T13:41:37.460Z"
   },
   {
    "duration": -219,
    "start_time": "2021-10-12T13:41:37.462Z"
   },
   {
    "duration": -219,
    "start_time": "2021-10-12T13:41:37.463Z"
   },
   {
    "duration": -221,
    "start_time": "2021-10-12T13:41:37.466Z"
   },
   {
    "duration": -220,
    "start_time": "2021-10-12T13:41:37.467Z"
   },
   {
    "duration": -221,
    "start_time": "2021-10-12T13:41:37.469Z"
   },
   {
    "duration": 8,
    "start_time": "2021-10-12T13:43:47.106Z"
   },
   {
    "duration": 792,
    "start_time": "2021-10-12T13:44:39.649Z"
   },
   {
    "duration": 8,
    "start_time": "2021-10-12T13:45:29.748Z"
   },
   {
    "duration": 7,
    "start_time": "2021-10-12T13:45:44.217Z"
   },
   {
    "duration": 8,
    "start_time": "2021-10-12T13:45:59.354Z"
   },
   {
    "duration": 8,
    "start_time": "2021-10-12T13:46:02.920Z"
   },
   {
    "duration": 322,
    "start_time": "2021-10-12T13:46:12.777Z"
   },
   {
    "duration": 5,
    "start_time": "2021-10-12T13:46:24.249Z"
   },
   {
    "duration": 8,
    "start_time": "2021-10-12T13:46:32.664Z"
   },
   {
    "duration": 7,
    "start_time": "2021-10-12T13:46:41.229Z"
   },
   {
    "duration": 9,
    "start_time": "2021-10-12T13:47:35.413Z"
   },
   {
    "duration": 8,
    "start_time": "2021-10-12T13:47:46.514Z"
   },
   {
    "duration": 6,
    "start_time": "2021-10-12T13:47:55.241Z"
   },
   {
    "duration": 7,
    "start_time": "2021-10-12T13:48:02.377Z"
   },
   {
    "duration": 308,
    "start_time": "2021-10-12T13:48:31.721Z"
   },
   {
    "duration": 349,
    "start_time": "2021-10-12T13:48:34.753Z"
   },
   {
    "duration": 12489,
    "start_time": "2021-10-12T13:48:45.487Z"
   },
   {
    "duration": 7,
    "start_time": "2021-10-12T13:49:30.209Z"
   },
   {
    "duration": 6,
    "start_time": "2021-10-12T13:49:59.105Z"
   },
   {
    "duration": 7,
    "start_time": "2021-10-12T13:50:08.928Z"
   },
   {
    "duration": 7,
    "start_time": "2021-10-12T13:50:16.177Z"
   },
   {
    "duration": 499,
    "start_time": "2021-10-12T13:50:20.848Z"
   },
   {
    "duration": 8,
    "start_time": "2021-10-12T13:50:29.360Z"
   },
   {
    "duration": 8,
    "start_time": "2021-10-12T13:50:44.376Z"
   },
   {
    "duration": 8,
    "start_time": "2021-10-12T13:51:27.815Z"
   },
   {
    "duration": 8,
    "start_time": "2021-10-12T13:52:44.361Z"
   },
   {
    "duration": 10802,
    "start_time": "2021-10-12T13:54:43.914Z"
   },
   {
    "duration": 90,
    "start_time": "2021-10-12T13:54:54.719Z"
   },
   {
    "duration": 17,
    "start_time": "2021-10-12T13:54:54.812Z"
   },
   {
    "duration": 12,
    "start_time": "2021-10-12T13:54:54.832Z"
   },
   {
    "duration": 614,
    "start_time": "2021-10-12T13:54:54.847Z"
   },
   {
    "duration": 778,
    "start_time": "2021-10-12T13:54:55.464Z"
   },
   {
    "duration": 886,
    "start_time": "2021-10-12T13:54:56.245Z"
   },
   {
    "duration": 469,
    "start_time": "2021-10-12T13:54:57.135Z"
   },
   {
    "duration": 18,
    "start_time": "2021-10-12T13:54:57.607Z"
   },
   {
    "duration": 36,
    "start_time": "2021-10-12T13:54:57.627Z"
   },
   {
    "duration": 550,
    "start_time": "2021-10-12T13:54:57.666Z"
   },
   {
    "duration": 476,
    "start_time": "2021-10-12T13:54:58.219Z"
   },
   {
    "duration": 523,
    "start_time": "2021-10-12T13:54:58.698Z"
   },
   {
    "duration": 11,
    "start_time": "2021-10-12T13:54:59.223Z"
   },
   {
    "duration": 1716,
    "start_time": "2021-10-12T13:54:59.237Z"
   },
   {
    "duration": 1645,
    "start_time": "2021-10-12T13:55:00.962Z"
   },
   {
    "duration": 5,
    "start_time": "2021-10-12T13:55:02.609Z"
   },
   {
    "duration": 112,
    "start_time": "2021-10-12T13:55:02.617Z"
   },
   {
    "duration": 45,
    "start_time": "2021-10-12T13:55:02.732Z"
   },
   {
    "duration": 26,
    "start_time": "2021-10-12T13:55:02.779Z"
   },
   {
    "duration": 6,
    "start_time": "2021-10-12T13:55:02.807Z"
   },
   {
    "duration": 4,
    "start_time": "2021-10-12T13:55:02.816Z"
   },
   {
    "duration": 38,
    "start_time": "2021-10-12T13:55:02.825Z"
   },
   {
    "duration": 14,
    "start_time": "2021-10-12T13:55:02.866Z"
   },
   {
    "duration": 1078689,
    "start_time": "2021-10-12T13:55:02.883Z"
   },
   {
    "duration": 7,
    "start_time": "2021-10-12T14:13:01.664Z"
   },
   {
    "duration": 9,
    "start_time": "2021-10-12T14:13:01.762Z"
   },
   {
    "duration": 92,
    "start_time": "2021-10-12T14:13:01.774Z"
   },
   {
    "duration": 8857,
    "start_time": "2021-10-12T14:13:01.869Z"
   },
   {
    "duration": 7,
    "start_time": "2021-10-12T14:13:10.729Z"
   },
   {
    "duration": 26,
    "start_time": "2021-10-12T14:13:10.739Z"
   },
   {
    "duration": 582,
    "start_time": "2021-10-12T14:13:10.768Z"
   },
   {
    "duration": 9,
    "start_time": "2021-10-12T14:13:11.352Z"
   },
   {
    "duration": 881700,
    "start_time": "2021-10-12T14:13:11.364Z"
   },
   {
    "duration": 22,
    "start_time": "2021-10-12T14:27:53.066Z"
   },
   {
    "duration": 566,
    "start_time": "2021-10-12T14:27:53.090Z"
   },
   {
    "duration": 5,
    "start_time": "2021-10-12T14:27:53.662Z"
   },
   {
    "duration": 365095,
    "start_time": "2021-10-12T14:27:53.669Z"
   },
   {
    "duration": 26,
    "start_time": "2021-10-12T14:33:58.766Z"
   },
   {
    "duration": 1709,
    "start_time": "2021-10-12T14:33:58.795Z"
   },
   {
    "duration": 445,
    "start_time": "2021-10-12T14:37:10.789Z"
   },
   {
    "duration": 12,
    "start_time": "2021-10-12T14:39:38.268Z"
   },
   {
    "duration": 7,
    "start_time": "2021-10-12T14:39:50.029Z"
   },
   {
    "duration": 4,
    "start_time": "2021-10-12T14:41:04.420Z"
   },
   {
    "duration": 10,
    "start_time": "2021-10-12T14:41:08.734Z"
   },
   {
    "duration": 489,
    "start_time": "2021-10-12T14:41:42.662Z"
   },
   {
    "duration": 11,
    "start_time": "2021-10-12T14:41:43.261Z"
   },
   {
    "duration": 304,
    "start_time": "2021-10-12T14:42:26.894Z"
   },
   {
    "duration": 380,
    "start_time": "2021-10-12T14:43:39.308Z"
   },
   {
    "duration": 14,
    "start_time": "2021-10-12T14:44:02.654Z"
   },
   {
    "duration": 11,
    "start_time": "2021-10-12T14:44:04.213Z"
   },
   {
    "duration": 7,
    "start_time": "2021-10-12T14:44:23.596Z"
   },
   {
    "duration": 8,
    "start_time": "2021-10-12T14:44:29.867Z"
   },
   {
    "duration": 17,
    "start_time": "2021-10-12T14:44:40.214Z"
   },
   {
    "duration": 366,
    "start_time": "2021-10-12T14:44:55.284Z"
   },
   {
    "duration": 14,
    "start_time": "2021-10-12T14:45:07.500Z"
   },
   {
    "duration": 8,
    "start_time": "2021-10-12T14:45:16.407Z"
   },
   {
    "duration": 21,
    "start_time": "2021-10-12T14:45:17.397Z"
   },
   {
    "duration": 12,
    "start_time": "2021-10-12T14:45:22.420Z"
   },
   {
    "duration": 4,
    "start_time": "2021-10-12T14:45:50.423Z"
   },
   {
    "duration": 13,
    "start_time": "2021-10-12T14:45:57.962Z"
   },
   {
    "duration": 683,
    "start_time": "2021-10-12T14:48:07.042Z"
   },
   {
    "duration": 8176,
    "start_time": "2021-10-12T15:06:39.658Z"
   },
   {
    "duration": 80,
    "start_time": "2021-10-12T15:06:47.836Z"
   },
   {
    "duration": 19,
    "start_time": "2021-10-12T15:06:47.919Z"
   },
   {
    "duration": 12,
    "start_time": "2021-10-12T15:06:47.940Z"
   },
   {
    "duration": 533,
    "start_time": "2021-10-12T15:06:47.955Z"
   },
   {
    "duration": 583,
    "start_time": "2021-10-12T15:06:48.490Z"
   },
   {
    "duration": 901,
    "start_time": "2021-10-12T15:06:49.076Z"
   },
   {
    "duration": 450,
    "start_time": "2021-10-12T15:06:49.983Z"
   },
   {
    "duration": 26,
    "start_time": "2021-10-12T15:06:50.437Z"
   },
   {
    "duration": 12,
    "start_time": "2021-10-12T15:06:50.465Z"
   },
   {
    "duration": 581,
    "start_time": "2021-10-12T15:06:50.480Z"
   },
   {
    "duration": 506,
    "start_time": "2021-10-12T15:06:51.064Z"
   },
   {
    "duration": 9,
    "start_time": "2021-10-12T15:06:51.573Z"
   },
   {
    "duration": 1769,
    "start_time": "2021-10-12T15:06:51.584Z"
   },
   {
    "duration": 1627,
    "start_time": "2021-10-12T15:06:53.356Z"
   },
   {
    "duration": 478,
    "start_time": "2021-10-12T15:06:54.986Z"
   },
   {
    "duration": 5,
    "start_time": "2021-10-12T15:06:55.467Z"
   },
   {
    "duration": 102,
    "start_time": "2021-10-12T15:06:55.475Z"
   },
   {
    "duration": 35,
    "start_time": "2021-10-12T15:06:55.580Z"
   },
   {
    "duration": 45,
    "start_time": "2021-10-12T15:06:55.618Z"
   },
   {
    "duration": 5,
    "start_time": "2021-10-12T15:06:55.666Z"
   },
   {
    "duration": 6,
    "start_time": "2021-10-12T15:06:55.673Z"
   },
   {
    "duration": 19,
    "start_time": "2021-10-12T15:06:55.684Z"
   },
   {
    "duration": 8,
    "start_time": "2021-10-12T15:06:55.706Z"
   },
   {
    "duration": 1042746,
    "start_time": "2021-10-12T15:06:55.717Z"
   },
   {
    "duration": 5,
    "start_time": "2021-10-12T15:24:18.465Z"
   },
   {
    "duration": 105,
    "start_time": "2021-10-12T15:24:18.472Z"
   },
   {
    "duration": 6,
    "start_time": "2021-10-12T15:24:18.665Z"
   },
   {
    "duration": 8972,
    "start_time": "2021-10-12T15:24:18.763Z"
   },
   {
    "duration": 6,
    "start_time": "2021-10-12T15:24:27.738Z"
   },
   {
    "duration": 16,
    "start_time": "2021-10-12T15:24:27.747Z"
   },
   {
    "duration": 556,
    "start_time": "2021-10-12T15:24:27.765Z"
   },
   {
    "duration": 4,
    "start_time": "2021-10-12T15:24:28.324Z"
   },
   {
    "duration": 877165,
    "start_time": "2021-10-12T15:24:28.330Z"
   },
   {
    "duration": 23,
    "start_time": "2021-10-12T15:39:05.499Z"
   },
   {
    "duration": 581,
    "start_time": "2021-10-12T15:39:05.524Z"
   },
   {
    "duration": 5,
    "start_time": "2021-10-12T15:39:06.107Z"
   },
   {
    "duration": 487052,
    "start_time": "2021-10-12T15:39:06.114Z"
   },
   {
    "duration": 96,
    "start_time": "2021-10-12T15:47:13.169Z"
   },
   {
    "duration": 1448,
    "start_time": "2021-10-12T15:47:13.268Z"
   },
   {
    "duration": 10,
    "start_time": "2021-10-12T15:47:14.719Z"
   },
   {
    "duration": 701,
    "start_time": "2021-10-12T15:47:14.732Z"
   },
   {
    "duration": 6677,
    "start_time": "2021-10-18T12:12:03.340Z"
   },
   {
    "duration": 96,
    "start_time": "2021-10-18T12:12:10.019Z"
   },
   {
    "duration": 14,
    "start_time": "2021-10-18T12:12:10.117Z"
   },
   {
    "duration": 10,
    "start_time": "2021-10-18T12:12:10.133Z"
   },
   {
    "duration": 303,
    "start_time": "2021-10-18T12:12:10.145Z"
   },
   {
    "duration": 391,
    "start_time": "2021-10-18T12:12:10.450Z"
   },
   {
    "duration": 648,
    "start_time": "2021-10-18T12:12:10.844Z"
   },
   {
    "duration": 284,
    "start_time": "2021-10-18T12:12:11.496Z"
   },
   {
    "duration": 15,
    "start_time": "2021-10-18T12:12:11.783Z"
   },
   {
    "duration": 11,
    "start_time": "2021-10-18T12:12:11.800Z"
   },
   {
    "duration": 350,
    "start_time": "2021-10-18T12:12:11.813Z"
   },
   {
    "duration": 303,
    "start_time": "2021-10-18T12:12:12.165Z"
   },
   {
    "duration": 8,
    "start_time": "2021-10-18T12:12:12.471Z"
   },
   {
    "duration": 1246,
    "start_time": "2021-10-18T12:12:12.481Z"
   },
   {
    "duration": 988,
    "start_time": "2021-10-18T12:12:13.729Z"
   },
   {
    "duration": 288,
    "start_time": "2021-10-18T12:12:14.719Z"
   },
   {
    "duration": 4,
    "start_time": "2021-10-18T12:12:15.009Z"
   },
   {
    "duration": 148,
    "start_time": "2021-10-18T12:12:15.015Z"
   },
   {
    "duration": 21,
    "start_time": "2021-10-18T12:12:15.165Z"
   },
   {
    "duration": 26,
    "start_time": "2021-10-18T12:12:15.187Z"
   },
   {
    "duration": 3,
    "start_time": "2021-10-18T12:12:15.215Z"
   },
   {
    "duration": 7,
    "start_time": "2021-10-18T12:12:15.220Z"
   },
   {
    "duration": 3,
    "start_time": "2021-10-18T12:12:15.230Z"
   },
   {
    "duration": 34,
    "start_time": "2021-10-18T12:12:15.235Z"
   },
   {
    "duration": 12611219,
    "start_time": "2021-10-18T12:12:15.271Z"
   },
   {
    "duration": 6,
    "start_time": "2021-10-18T15:42:26.571Z"
   },
   {
    "duration": 100,
    "start_time": "2021-10-18T15:42:26.582Z"
   },
   {
    "duration": 79,
    "start_time": "2021-10-18T15:42:26.685Z"
   },
   {
    "duration": 16886,
    "start_time": "2021-10-18T15:42:26.767Z"
   },
   {
    "duration": 8,
    "start_time": "2021-10-18T15:42:43.663Z"
   },
   {
    "duration": 6,
    "start_time": "2021-10-18T15:42:43.674Z"
   },
   {
    "duration": 485,
    "start_time": "2021-10-18T15:42:43.682Z"
   },
   {
    "duration": 3,
    "start_time": "2021-10-18T15:42:44.169Z"
   },
   {
    "duration": 1612220,
    "start_time": "2021-10-18T15:42:44.173Z"
   },
   {
    "duration": 23,
    "start_time": "2021-10-18T16:09:36.395Z"
   },
   {
    "duration": 449,
    "start_time": "2021-10-18T16:09:36.420Z"
   },
   {
    "duration": 6,
    "start_time": "2021-10-18T16:09:36.871Z"
   },
   {
    "duration": 1404890,
    "start_time": "2021-10-18T16:09:36.879Z"
   },
   {
    "duration": 92,
    "start_time": "2021-10-18T16:33:01.771Z"
   },
   {
    "duration": 1339,
    "start_time": "2021-10-18T16:33:01.865Z"
   },
   {
    "duration": 7,
    "start_time": "2021-10-18T16:33:03.206Z"
   },
   {
    "duration": 442,
    "start_time": "2021-10-18T16:33:03.215Z"
   }
  ],
  "kernelspec": {
   "display_name": "Python 3 (ipykernel)",
   "language": "python",
   "name": "python3"
  },
  "language_info": {
   "codemirror_mode": {
    "name": "ipython",
    "version": 3
   },
   "file_extension": ".py",
   "mimetype": "text/x-python",
   "name": "python",
   "nbconvert_exporter": "python",
   "pygments_lexer": "ipython3",
   "version": "3.9.5"
  },
  "toc": {
   "base_numbering": 1,
   "nav_menu": {},
   "number_sections": true,
   "sideBar": true,
   "skip_h1_title": true,
   "title_cell": "Содержание",
   "title_sidebar": "Contents",
   "toc_cell": true,
   "toc_position": {
    "height": "calc(100% - 180px)",
    "left": "10px",
    "top": "150px",
    "width": "366.391px"
   },
   "toc_section_display": true,
   "toc_window_display": true
  }
 },
 "nbformat": 4,
 "nbformat_minor": 2
}
