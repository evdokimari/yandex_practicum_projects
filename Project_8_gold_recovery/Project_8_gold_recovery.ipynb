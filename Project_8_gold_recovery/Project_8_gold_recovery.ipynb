{
 "cells": [
  {
   "cell_type": "markdown",
   "metadata": {
    "toc": true
   },
   "source": [
    "<h1>Содержание<span class=\"tocSkip\"></span></h1>\n",
    "<div class=\"toc\"><ul class=\"toc-item\"><li><span><a href=\"#Описание-данных\" data-toc-modified-id=\"Описание-данных-1\"><span class=\"toc-item-num\">1&nbsp;&nbsp;</span>Описание данных</a></span><ul class=\"toc-item\"><li><span><a href=\"#Наименование-признаков:\" data-toc-modified-id=\"Наименование-признаков:-1.1\"><span class=\"toc-item-num\">1.1&nbsp;&nbsp;</span>Наименование признаков:</a></span></li></ul></li><li><span><a href=\"#Подготовка-данных\" data-toc-modified-id=\"Подготовка-данных-2\"><span class=\"toc-item-num\">2&nbsp;&nbsp;</span>Подготовка данных</a></span><ul class=\"toc-item\"><li><span><a href=\"#Вывод\" data-toc-modified-id=\"Вывод-2.1\"><span class=\"toc-item-num\">2.1&nbsp;&nbsp;</span>Вывод</a></span></li></ul></li><li><span><a href=\"#Анализ-данных\" data-toc-modified-id=\"Анализ-данных-3\"><span class=\"toc-item-num\">3&nbsp;&nbsp;</span>Анализ данных</a></span><ul class=\"toc-item\"><li><span><a href=\"#Вывод\" data-toc-modified-id=\"Вывод-3.1\"><span class=\"toc-item-num\">3.1&nbsp;&nbsp;</span>Вывод</a></span></li></ul></li><li><span><a href=\"#Модель\" data-toc-modified-id=\"Модель-4\"><span class=\"toc-item-num\">4&nbsp;&nbsp;</span>Модель</a></span><ul class=\"toc-item\"><li><span><a href=\"#Dummy-модель\" data-toc-modified-id=\"Dummy-модель-4.1\"><span class=\"toc-item-num\">4.1&nbsp;&nbsp;</span>Dummy модель</a></span></li><li><span><a href=\"#Линейная-регрессия\" data-toc-modified-id=\"Линейная-регрессия-4.2\"><span class=\"toc-item-num\">4.2&nbsp;&nbsp;</span>Линейная регрессия</a></span></li><li><span><a href=\"#Дерево-решений\" data-toc-modified-id=\"Дерево-решений-4.3\"><span class=\"toc-item-num\">4.3&nbsp;&nbsp;</span>Дерево решений</a></span></li><li><span><a href=\"#Случайный-лес\" data-toc-modified-id=\"Случайный-лес-4.4\"><span class=\"toc-item-num\">4.4&nbsp;&nbsp;</span>Случайный лес</a></span></li><li><span><a href=\"#Проверка-статистической-значимости-различий-предсказаний-моделей-на-обучающей-выборке\" data-toc-modified-id=\"Проверка-статистической-значимости-различий-предсказаний-моделей-на-обучающей-выборке-4.5\"><span class=\"toc-item-num\">4.5&nbsp;&nbsp;</span>Проверка статистической значимости различий предсказаний моделей на обучающей выборке</a></span></li></ul></li><li><span><a href=\"#Общий-вывод\" data-toc-modified-id=\"Общий-вывод-5\"><span class=\"toc-item-num\">5&nbsp;&nbsp;</span>Общий вывод</a></span></li></ul></div>"
   ]
  },
  {
   "cell_type": "markdown",
   "metadata": {},
   "source": [
    "# Восстановление золота из руды"
   ]
  },
  {
   "cell_type": "markdown",
   "metadata": {},
   "source": [
    "Подготовим прототип модели машинного обучения для «Цифры». Компания разрабатывает решения для эффективной работы промышленных предприятий.\n",
    "\n",
    "Модель должна предсказать коэффициент восстановления золота из золотосодержащей руды. Используем данные с параметрами добычи и очистки. \n",
    "\n",
    "Модель поможет оптимизировать производство, чтобы не запускать предприятие с убыточными характеристиками.\n",
    "\n",
    "Нужно:\n",
    "\n",
    "1. Подготовить данные;\n",
    "2. Провести исследовательский анализ данных;\n",
    "3. Построить и обучить модель."
   ]
  },
  {
   "cell_type": "markdown",
   "metadata": {},
   "source": [
    "# Технологический процесс"
   ]
  },
  {
   "cell_type": "markdown",
   "metadata": {},
   "source": [
    "Когда добытая руда проходит первичную обработку, получается дроблёная смесь. Её отправляют на флотацию (обогащение) и двухэтапную очистку.\n",
    "\n",
    "Опишем каждую стадию:\n",
    "\n",
    "\n",
    "**1. Флотация**\n",
    "\n",
    "Во флотационную установку подаётся смесь золотосодержащей руды. После обогащения получается черновой концентрат и «отвальные хвосты», то есть остатки продукта с низкой концентрацией ценных металлов.\n",
    "На стабильность этого процесса влияет непостоянное и неоптимальное физико-химическое состояние флотационной пульпы (смеси твёрдых частиц и жидкости).\n",
    "\n",
    "\n",
    "**2. Очистка**\n",
    "\n",
    "Черновой концентрат проходит две очистки. На выходе получается финальный концентрат и новые отвальные хвосты."
   ]
  },
  {
   "cell_type": "markdown",
   "metadata": {},
   "source": [
    "# Расчёт эффективности"
   ]
  },
  {
   "cell_type": "markdown",
   "metadata": {},
   "source": [
    "Эффективность обогащения рассчитывается по формуле\n",
    "\n",
    "$Recovery = \\frac{C \\times (F - T)}{F \\times (C - T)} \\times 100\\% $\n",
    "\n",
    "где:\n",
    "\n",
    "***C*** — доля золота в концентрате после флотации/очистки;\n",
    "\n",
    "***F*** — доля золота в сырье/концентрате до флотации/очистки;\n",
    "\n",
    "***T*** — доля золота в отвальных хвостах после флотации/очистки.\n",
    "\n",
    "Для прогноза коэффициента нужно найти долю золота в концентратах и хвостах. Причём важен не только финальный продукт, но и черновой концентрат."
   ]
  },
  {
   "cell_type": "markdown",
   "metadata": {},
   "source": [
    "## Описание данных"
   ]
  },
  {
   "cell_type": "markdown",
   "metadata": {},
   "source": [
    "Данные находятся в трёх файлах:\n",
    "\n",
    "\n",
    "- gold_recovery_train_new.csv — обучающая выборка;\n",
    "\n",
    "\n",
    "- gold_recovery_test_new.csv — тестовая выборка;\n",
    "\n",
    "\n",
    "- gold_recovery_full_new.csv — исходные данные.\n",
    "\n",
    "\n",
    "Данные индексируются датой и временем получения информации (признак date). Соседние по времени параметры часто похожи.\n",
    "\n",
    "Некоторые параметры недоступны, потому что замеряются и/или рассчитываются значительно позже. Из-за этого в тестовой выборке отсутствуют некоторые признаки, которые могут быть в обучающей. Также в тестовом наборе нет целевых признаков.\n",
    "\n",
    "Исходный датасет содержит обучающую и тестовую выборки со всеми признаками."
   ]
  },
  {
   "cell_type": "markdown",
   "metadata": {},
   "source": [
    "**Технологический процесс**\n",
    "\n",
    "- *Rougher feed* — исходное сырье\n",
    "- *Rougher additions (или reagent additions)* — флотационные реагенты: Xanthate, Sulphate, Depressant\n",
    "- *Xanthate* — ксантогенат (промотер, или активатор флотации);\n",
    "- *Sulphate* — сульфат (на данном производстве сульфид натрия);\n",
    "- *Depressant* — депрессант (силикат натрия).\n",
    "- *Rougher process* (англ. «грубый процесс») — флотация\n",
    "- *Rougher tails* — отвальные хвосты\n",
    "- *Float banks* — флотационная установка\n",
    "- *Cleaner process* — очистка\n",
    "- *Rougher Au* — черновой концентрат золота\n",
    "- *Final Au* — финальный концентрат золота\n",
    "\n",
    "**Параметры этапов**\n",
    "\n",
    "- *air amount* — объём воздуха\n",
    "- *fluid levels* — уровень жидкости\n",
    "- *feed size* — размер гранул сырья\n",
    "- *feed rate* — скорость подачи"
   ]
  },
  {
   "cell_type": "markdown",
   "metadata": {},
   "source": [
    "### Наименование признаков:"
   ]
  },
  {
   "cell_type": "markdown",
   "metadata": {},
   "source": [
    "[этап].[тип_параметра].[название_параметра]\n",
    "\n",
    "Пример: *rougher.input.feed_ag*\n",
    "\n",
    "**Возможные значения для блока [этап]:**\n",
    "\n",
    "*rougher* — флотация\n",
    "\n",
    "*primary_cleaner* — первичная очистка\n",
    "\n",
    "*secondary_cleaner* — вторичная очистка\n",
    "\n",
    "*final* — финальные характеристики\n",
    "\n",
    "\n",
    "**Возможные значения для блока [тип_параметра]:**\n",
    "\n",
    "*input* — параметры сырья\n",
    "\n",
    "*output* — параметры продукта\n",
    "\n",
    "*state* — параметры, характеризующие текущее состояние этапа\n",
    "\n",
    "*calculation* — расчётные характеристики"
   ]
  },
  {
   "cell_type": "markdown",
   "metadata": {},
   "source": [
    "## Подготовка данных"
   ]
  },
  {
   "cell_type": "markdown",
   "metadata": {},
   "source": [
    "Подключим нужные библиотеки, прочитаем файлы и посмотрим на их значения, размеры и типы данных."
   ]
  },
  {
   "cell_type": "code",
   "execution_count": 1,
   "metadata": {},
   "outputs": [],
   "source": [
    "import pandas as pd\n",
    "import numpy as np\n",
    "\n",
    "from sklearn.dummy import DummyRegressor\n",
    "from sklearn.linear_model import LinearRegression\n",
    "from sklearn.tree import DecisionTreeRegressor\n",
    "from sklearn.ensemble import RandomForestRegressor\n",
    "\n",
    "from sklearn.feature_selection import RFE\n",
    "\n",
    "from sklearn.preprocessing import StandardScaler\n",
    "pd.options.mode.chained_assignment = None\n",
    "\n",
    "from sklearn.model_selection import cross_val_score, GridSearchCV, cross_val_predict\n",
    "\n",
    "from sklearn.model_selection import train_test_split\n",
    "from sklearn.metrics import mean_absolute_error\n",
    "from sklearn.utils import shuffle\n",
    "from scipy import stats as st\n",
    "from scipy.stats import levene\n",
    "\n",
    "from sklearn.metrics import make_scorer\n",
    "\n",
    "from IPython.display import display\n",
    "pd.set_option('display.float_format', '{:.2f}'.format)\n",
    "import warnings\n",
    "warnings.filterwarnings('ignore')\n",
    "import matplotlib.pyplot as plt\n",
    "import seaborn as sns"
   ]
  },
  {
   "cell_type": "code",
   "execution_count": 2,
   "metadata": {},
   "outputs": [],
   "source": [
    "df_train = pd.read_csv('/datasets/gold_recovery_train_new.csv')\n",
    "df_test = pd.read_csv('/datasets/gold_recovery_test_new.csv')\n",
    "df_full = pd.read_csv('/datasets/gold_recovery_full_new.csv')"
   ]
  },
  {
   "cell_type": "code",
   "execution_count": 3,
   "metadata": {},
   "outputs": [
    {
     "name": "stdout",
     "output_type": "stream",
     "text": [
      "<class 'pandas.core.frame.DataFrame'>\n",
      "RangeIndex: 14149 entries, 0 to 14148\n",
      "Data columns (total 87 columns):\n",
      " #   Column                                              Non-Null Count  Dtype  \n",
      "---  ------                                              --------------  -----  \n",
      " 0   date                                                14149 non-null  object \n",
      " 1   final.output.concentrate_ag                         14148 non-null  float64\n",
      " 2   final.output.concentrate_pb                         14148 non-null  float64\n",
      " 3   final.output.concentrate_sol                        13938 non-null  float64\n",
      " 4   final.output.concentrate_au                         14149 non-null  float64\n",
      " 5   final.output.recovery                               14149 non-null  float64\n",
      " 6   final.output.tail_ag                                14149 non-null  float64\n",
      " 7   final.output.tail_pb                                14049 non-null  float64\n",
      " 8   final.output.tail_sol                               14144 non-null  float64\n",
      " 9   final.output.tail_au                                14149 non-null  float64\n",
      " 10  primary_cleaner.input.sulfate                       14129 non-null  float64\n",
      " 11  primary_cleaner.input.depressant                    14117 non-null  float64\n",
      " 12  primary_cleaner.input.feed_size                     14149 non-null  float64\n",
      " 13  primary_cleaner.input.xanthate                      14049 non-null  float64\n",
      " 14  primary_cleaner.output.concentrate_ag               14149 non-null  float64\n",
      " 15  primary_cleaner.output.concentrate_pb               14063 non-null  float64\n",
      " 16  primary_cleaner.output.concentrate_sol              13863 non-null  float64\n",
      " 17  primary_cleaner.output.concentrate_au               14149 non-null  float64\n",
      " 18  primary_cleaner.output.tail_ag                      14148 non-null  float64\n",
      " 19  primary_cleaner.output.tail_pb                      14134 non-null  float64\n",
      " 20  primary_cleaner.output.tail_sol                     14103 non-null  float64\n",
      " 21  primary_cleaner.output.tail_au                      14149 non-null  float64\n",
      " 22  primary_cleaner.state.floatbank8_a_air              14145 non-null  float64\n",
      " 23  primary_cleaner.state.floatbank8_a_level            14148 non-null  float64\n",
      " 24  primary_cleaner.state.floatbank8_b_air              14145 non-null  float64\n",
      " 25  primary_cleaner.state.floatbank8_b_level            14148 non-null  float64\n",
      " 26  primary_cleaner.state.floatbank8_c_air              14147 non-null  float64\n",
      " 27  primary_cleaner.state.floatbank8_c_level            14148 non-null  float64\n",
      " 28  primary_cleaner.state.floatbank8_d_air              14146 non-null  float64\n",
      " 29  primary_cleaner.state.floatbank8_d_level            14148 non-null  float64\n",
      " 30  rougher.calculation.sulfate_to_au_concentrate       14148 non-null  float64\n",
      " 31  rougher.calculation.floatbank10_sulfate_to_au_feed  14148 non-null  float64\n",
      " 32  rougher.calculation.floatbank11_sulfate_to_au_feed  14148 non-null  float64\n",
      " 33  rougher.calculation.au_pb_ratio                     14149 non-null  float64\n",
      " 34  rougher.input.feed_ag                               14149 non-null  float64\n",
      " 35  rougher.input.feed_pb                               14049 non-null  float64\n",
      " 36  rougher.input.feed_rate                             14141 non-null  float64\n",
      " 37  rougher.input.feed_size                             14005 non-null  float64\n",
      " 38  rougher.input.feed_sol                              14071 non-null  float64\n",
      " 39  rougher.input.feed_au                               14149 non-null  float64\n",
      " 40  rougher.input.floatbank10_sulfate                   14120 non-null  float64\n",
      " 41  rougher.input.floatbank10_xanthate                  14141 non-null  float64\n",
      " 42  rougher.input.floatbank11_sulfate                   14113 non-null  float64\n",
      " 43  rougher.input.floatbank11_xanthate                  13721 non-null  float64\n",
      " 44  rougher.output.concentrate_ag                       14149 non-null  float64\n",
      " 45  rougher.output.concentrate_pb                       14149 non-null  float64\n",
      " 46  rougher.output.concentrate_sol                      14127 non-null  float64\n",
      " 47  rougher.output.concentrate_au                       14149 non-null  float64\n",
      " 48  rougher.output.recovery                             14149 non-null  float64\n",
      " 49  rougher.output.tail_ag                              14148 non-null  float64\n",
      " 50  rougher.output.tail_pb                              14149 non-null  float64\n",
      " 51  rougher.output.tail_sol                             14149 non-null  float64\n",
      " 52  rougher.output.tail_au                              14149 non-null  float64\n",
      " 53  rougher.state.floatbank10_a_air                     14148 non-null  float64\n",
      " 54  rougher.state.floatbank10_a_level                   14148 non-null  float64\n",
      " 55  rougher.state.floatbank10_b_air                     14148 non-null  float64\n",
      " 56  rougher.state.floatbank10_b_level                   14148 non-null  float64\n",
      " 57  rougher.state.floatbank10_c_air                     14148 non-null  float64\n",
      " 58  rougher.state.floatbank10_c_level                   14148 non-null  float64\n",
      " 59  rougher.state.floatbank10_d_air                     14149 non-null  float64\n",
      " 60  rougher.state.floatbank10_d_level                   14149 non-null  float64\n",
      " 61  rougher.state.floatbank10_e_air                     13713 non-null  float64\n",
      " 62  rougher.state.floatbank10_e_level                   14149 non-null  float64\n",
      " 63  rougher.state.floatbank10_f_air                     14149 non-null  float64\n",
      " 64  rougher.state.floatbank10_f_level                   14149 non-null  float64\n",
      " 65  secondary_cleaner.output.tail_ag                    14147 non-null  float64\n",
      " 66  secondary_cleaner.output.tail_pb                    14139 non-null  float64\n",
      " 67  secondary_cleaner.output.tail_sol                   12544 non-null  float64\n",
      " 68  secondary_cleaner.output.tail_au                    14149 non-null  float64\n",
      " 69  secondary_cleaner.state.floatbank2_a_air            13932 non-null  float64\n",
      " 70  secondary_cleaner.state.floatbank2_a_level          14148 non-null  float64\n",
      " 71  secondary_cleaner.state.floatbank2_b_air            14128 non-null  float64\n",
      " 72  secondary_cleaner.state.floatbank2_b_level          14148 non-null  float64\n",
      " 73  secondary_cleaner.state.floatbank3_a_air            14145 non-null  float64\n",
      " 74  secondary_cleaner.state.floatbank3_a_level          14148 non-null  float64\n",
      " 75  secondary_cleaner.state.floatbank3_b_air            14148 non-null  float64\n",
      " 76  secondary_cleaner.state.floatbank3_b_level          14148 non-null  float64\n",
      " 77  secondary_cleaner.state.floatbank4_a_air            14143 non-null  float64\n",
      " 78  secondary_cleaner.state.floatbank4_a_level          14148 non-null  float64\n",
      " 79  secondary_cleaner.state.floatbank4_b_air            14148 non-null  float64\n",
      " 80  secondary_cleaner.state.floatbank4_b_level          14148 non-null  float64\n",
      " 81  secondary_cleaner.state.floatbank5_a_air            14148 non-null  float64\n",
      " 82  secondary_cleaner.state.floatbank5_a_level          14148 non-null  float64\n",
      " 83  secondary_cleaner.state.floatbank5_b_air            14148 non-null  float64\n",
      " 84  secondary_cleaner.state.floatbank5_b_level          14148 non-null  float64\n",
      " 85  secondary_cleaner.state.floatbank6_a_air            14147 non-null  float64\n",
      " 86  secondary_cleaner.state.floatbank6_a_level          14148 non-null  float64\n",
      "dtypes: float64(86), object(1)\n",
      "memory usage: 9.4+ MB\n"
     ]
    },
    {
     "data": {
      "text/html": [
       "<div>\n",
       "<style scoped>\n",
       "    .dataframe tbody tr th:only-of-type {\n",
       "        vertical-align: middle;\n",
       "    }\n",
       "\n",
       "    .dataframe tbody tr th {\n",
       "        vertical-align: top;\n",
       "    }\n",
       "\n",
       "    .dataframe thead th {\n",
       "        text-align: right;\n",
       "    }\n",
       "</style>\n",
       "<table border=\"1\" class=\"dataframe\">\n",
       "  <thead>\n",
       "    <tr style=\"text-align: right;\">\n",
       "      <th></th>\n",
       "      <th>date</th>\n",
       "      <th>final.output.concentrate_ag</th>\n",
       "      <th>final.output.concentrate_pb</th>\n",
       "      <th>final.output.concentrate_sol</th>\n",
       "      <th>final.output.concentrate_au</th>\n",
       "      <th>final.output.recovery</th>\n",
       "      <th>final.output.tail_ag</th>\n",
       "      <th>final.output.tail_pb</th>\n",
       "      <th>final.output.tail_sol</th>\n",
       "      <th>final.output.tail_au</th>\n",
       "      <th>...</th>\n",
       "      <th>secondary_cleaner.state.floatbank4_a_air</th>\n",
       "      <th>secondary_cleaner.state.floatbank4_a_level</th>\n",
       "      <th>secondary_cleaner.state.floatbank4_b_air</th>\n",
       "      <th>secondary_cleaner.state.floatbank4_b_level</th>\n",
       "      <th>secondary_cleaner.state.floatbank5_a_air</th>\n",
       "      <th>secondary_cleaner.state.floatbank5_a_level</th>\n",
       "      <th>secondary_cleaner.state.floatbank5_b_air</th>\n",
       "      <th>secondary_cleaner.state.floatbank5_b_level</th>\n",
       "      <th>secondary_cleaner.state.floatbank6_a_air</th>\n",
       "      <th>secondary_cleaner.state.floatbank6_a_level</th>\n",
       "    </tr>\n",
       "  </thead>\n",
       "  <tbody>\n",
       "    <tr>\n",
       "      <th>0</th>\n",
       "      <td>2016-01-15 00:00:00</td>\n",
       "      <td>6.06</td>\n",
       "      <td>9.89</td>\n",
       "      <td>5.51</td>\n",
       "      <td>42.19</td>\n",
       "      <td>70.54</td>\n",
       "      <td>10.41</td>\n",
       "      <td>0.90</td>\n",
       "      <td>16.90</td>\n",
       "      <td>2.14</td>\n",
       "      <td>...</td>\n",
       "      <td>14.02</td>\n",
       "      <td>-502.49</td>\n",
       "      <td>12.10</td>\n",
       "      <td>-504.72</td>\n",
       "      <td>9.93</td>\n",
       "      <td>-498.31</td>\n",
       "      <td>8.08</td>\n",
       "      <td>-500.47</td>\n",
       "      <td>14.15</td>\n",
       "      <td>-605.84</td>\n",
       "    </tr>\n",
       "    <tr>\n",
       "      <th>1</th>\n",
       "      <td>2016-01-15 01:00:00</td>\n",
       "      <td>6.03</td>\n",
       "      <td>9.97</td>\n",
       "      <td>5.26</td>\n",
       "      <td>42.70</td>\n",
       "      <td>69.27</td>\n",
       "      <td>10.46</td>\n",
       "      <td>0.93</td>\n",
       "      <td>16.63</td>\n",
       "      <td>2.22</td>\n",
       "      <td>...</td>\n",
       "      <td>13.99</td>\n",
       "      <td>-505.50</td>\n",
       "      <td>11.95</td>\n",
       "      <td>-501.33</td>\n",
       "      <td>10.04</td>\n",
       "      <td>-500.17</td>\n",
       "      <td>7.98</td>\n",
       "      <td>-500.58</td>\n",
       "      <td>14.00</td>\n",
       "      <td>-599.79</td>\n",
       "    </tr>\n",
       "    <tr>\n",
       "      <th>2</th>\n",
       "      <td>2016-01-15 02:00:00</td>\n",
       "      <td>6.06</td>\n",
       "      <td>10.21</td>\n",
       "      <td>5.38</td>\n",
       "      <td>42.66</td>\n",
       "      <td>68.12</td>\n",
       "      <td>10.51</td>\n",
       "      <td>0.95</td>\n",
       "      <td>16.21</td>\n",
       "      <td>2.26</td>\n",
       "      <td>...</td>\n",
       "      <td>14.02</td>\n",
       "      <td>-502.52</td>\n",
       "      <td>11.91</td>\n",
       "      <td>-501.13</td>\n",
       "      <td>10.07</td>\n",
       "      <td>-500.13</td>\n",
       "      <td>8.01</td>\n",
       "      <td>-500.52</td>\n",
       "      <td>14.03</td>\n",
       "      <td>-601.43</td>\n",
       "    </tr>\n",
       "    <tr>\n",
       "      <th>3</th>\n",
       "      <td>2016-01-15 03:00:00</td>\n",
       "      <td>6.05</td>\n",
       "      <td>9.98</td>\n",
       "      <td>4.86</td>\n",
       "      <td>42.69</td>\n",
       "      <td>68.35</td>\n",
       "      <td>10.42</td>\n",
       "      <td>0.88</td>\n",
       "      <td>16.53</td>\n",
       "      <td>2.15</td>\n",
       "      <td>...</td>\n",
       "      <td>14.04</td>\n",
       "      <td>-500.86</td>\n",
       "      <td>12.00</td>\n",
       "      <td>-501.19</td>\n",
       "      <td>9.97</td>\n",
       "      <td>-499.20</td>\n",
       "      <td>7.98</td>\n",
       "      <td>-500.26</td>\n",
       "      <td>14.01</td>\n",
       "      <td>-600.00</td>\n",
       "    </tr>\n",
       "    <tr>\n",
       "      <th>4</th>\n",
       "      <td>2016-01-15 04:00:00</td>\n",
       "      <td>6.15</td>\n",
       "      <td>10.14</td>\n",
       "      <td>4.94</td>\n",
       "      <td>42.77</td>\n",
       "      <td>66.93</td>\n",
       "      <td>10.36</td>\n",
       "      <td>0.79</td>\n",
       "      <td>16.53</td>\n",
       "      <td>2.06</td>\n",
       "      <td>...</td>\n",
       "      <td>14.03</td>\n",
       "      <td>-499.84</td>\n",
       "      <td>11.95</td>\n",
       "      <td>-501.05</td>\n",
       "      <td>9.93</td>\n",
       "      <td>-501.69</td>\n",
       "      <td>7.89</td>\n",
       "      <td>-500.36</td>\n",
       "      <td>14.00</td>\n",
       "      <td>-601.50</td>\n",
       "    </tr>\n",
       "  </tbody>\n",
       "</table>\n",
       "<p>5 rows × 87 columns</p>\n",
       "</div>"
      ],
      "text/plain": [
       "                  date  final.output.concentrate_ag  \\\n",
       "0  2016-01-15 00:00:00                         6.06   \n",
       "1  2016-01-15 01:00:00                         6.03   \n",
       "2  2016-01-15 02:00:00                         6.06   \n",
       "3  2016-01-15 03:00:00                         6.05   \n",
       "4  2016-01-15 04:00:00                         6.15   \n",
       "\n",
       "   final.output.concentrate_pb  final.output.concentrate_sol  \\\n",
       "0                         9.89                          5.51   \n",
       "1                         9.97                          5.26   \n",
       "2                        10.21                          5.38   \n",
       "3                         9.98                          4.86   \n",
       "4                        10.14                          4.94   \n",
       "\n",
       "   final.output.concentrate_au  final.output.recovery  final.output.tail_ag  \\\n",
       "0                        42.19                  70.54                 10.41   \n",
       "1                        42.70                  69.27                 10.46   \n",
       "2                        42.66                  68.12                 10.51   \n",
       "3                        42.69                  68.35                 10.42   \n",
       "4                        42.77                  66.93                 10.36   \n",
       "\n",
       "   final.output.tail_pb  final.output.tail_sol  final.output.tail_au  ...  \\\n",
       "0                  0.90                  16.90                  2.14  ...   \n",
       "1                  0.93                  16.63                  2.22  ...   \n",
       "2                  0.95                  16.21                  2.26  ...   \n",
       "3                  0.88                  16.53                  2.15  ...   \n",
       "4                  0.79                  16.53                  2.06  ...   \n",
       "\n",
       "   secondary_cleaner.state.floatbank4_a_air  \\\n",
       "0                                     14.02   \n",
       "1                                     13.99   \n",
       "2                                     14.02   \n",
       "3                                     14.04   \n",
       "4                                     14.03   \n",
       "\n",
       "   secondary_cleaner.state.floatbank4_a_level  \\\n",
       "0                                     -502.49   \n",
       "1                                     -505.50   \n",
       "2                                     -502.52   \n",
       "3                                     -500.86   \n",
       "4                                     -499.84   \n",
       "\n",
       "   secondary_cleaner.state.floatbank4_b_air  \\\n",
       "0                                     12.10   \n",
       "1                                     11.95   \n",
       "2                                     11.91   \n",
       "3                                     12.00   \n",
       "4                                     11.95   \n",
       "\n",
       "   secondary_cleaner.state.floatbank4_b_level  \\\n",
       "0                                     -504.72   \n",
       "1                                     -501.33   \n",
       "2                                     -501.13   \n",
       "3                                     -501.19   \n",
       "4                                     -501.05   \n",
       "\n",
       "   secondary_cleaner.state.floatbank5_a_air  \\\n",
       "0                                      9.93   \n",
       "1                                     10.04   \n",
       "2                                     10.07   \n",
       "3                                      9.97   \n",
       "4                                      9.93   \n",
       "\n",
       "   secondary_cleaner.state.floatbank5_a_level  \\\n",
       "0                                     -498.31   \n",
       "1                                     -500.17   \n",
       "2                                     -500.13   \n",
       "3                                     -499.20   \n",
       "4                                     -501.69   \n",
       "\n",
       "   secondary_cleaner.state.floatbank5_b_air  \\\n",
       "0                                      8.08   \n",
       "1                                      7.98   \n",
       "2                                      8.01   \n",
       "3                                      7.98   \n",
       "4                                      7.89   \n",
       "\n",
       "   secondary_cleaner.state.floatbank5_b_level  \\\n",
       "0                                     -500.47   \n",
       "1                                     -500.58   \n",
       "2                                     -500.52   \n",
       "3                                     -500.26   \n",
       "4                                     -500.36   \n",
       "\n",
       "   secondary_cleaner.state.floatbank6_a_air  \\\n",
       "0                                     14.15   \n",
       "1                                     14.00   \n",
       "2                                     14.03   \n",
       "3                                     14.01   \n",
       "4                                     14.00   \n",
       "\n",
       "   secondary_cleaner.state.floatbank6_a_level  \n",
       "0                                     -605.84  \n",
       "1                                     -599.79  \n",
       "2                                     -601.43  \n",
       "3                                     -600.00  \n",
       "4                                     -601.50  \n",
       "\n",
       "[5 rows x 87 columns]"
      ]
     },
     "metadata": {},
     "output_type": "display_data"
    }
   ],
   "source": [
    "df_train.info()\n",
    "display(df_train.head(5))"
   ]
  },
  {
   "cell_type": "code",
   "execution_count": 4,
   "metadata": {},
   "outputs": [
    {
     "name": "stdout",
     "output_type": "stream",
     "text": [
      "<class 'pandas.core.frame.DataFrame'>\n",
      "RangeIndex: 5290 entries, 0 to 5289\n",
      "Data columns (total 53 columns):\n",
      " #   Column                                      Non-Null Count  Dtype  \n",
      "---  ------                                      --------------  -----  \n",
      " 0   date                                        5290 non-null   object \n",
      " 1   primary_cleaner.input.sulfate               5286 non-null   float64\n",
      " 2   primary_cleaner.input.depressant            5285 non-null   float64\n",
      " 3   primary_cleaner.input.feed_size             5290 non-null   float64\n",
      " 4   primary_cleaner.input.xanthate              5286 non-null   float64\n",
      " 5   primary_cleaner.state.floatbank8_a_air      5290 non-null   float64\n",
      " 6   primary_cleaner.state.floatbank8_a_level    5290 non-null   float64\n",
      " 7   primary_cleaner.state.floatbank8_b_air      5290 non-null   float64\n",
      " 8   primary_cleaner.state.floatbank8_b_level    5290 non-null   float64\n",
      " 9   primary_cleaner.state.floatbank8_c_air      5290 non-null   float64\n",
      " 10  primary_cleaner.state.floatbank8_c_level    5290 non-null   float64\n",
      " 11  primary_cleaner.state.floatbank8_d_air      5290 non-null   float64\n",
      " 12  primary_cleaner.state.floatbank8_d_level    5290 non-null   float64\n",
      " 13  rougher.input.feed_ag                       5290 non-null   float64\n",
      " 14  rougher.input.feed_pb                       5290 non-null   float64\n",
      " 15  rougher.input.feed_rate                     5287 non-null   float64\n",
      " 16  rougher.input.feed_size                     5289 non-null   float64\n",
      " 17  rougher.input.feed_sol                      5269 non-null   float64\n",
      " 18  rougher.input.feed_au                       5290 non-null   float64\n",
      " 19  rougher.input.floatbank10_sulfate           5285 non-null   float64\n",
      " 20  rougher.input.floatbank10_xanthate          5290 non-null   float64\n",
      " 21  rougher.input.floatbank11_sulfate           5282 non-null   float64\n",
      " 22  rougher.input.floatbank11_xanthate          5265 non-null   float64\n",
      " 23  rougher.state.floatbank10_a_air             5290 non-null   float64\n",
      " 24  rougher.state.floatbank10_a_level           5290 non-null   float64\n",
      " 25  rougher.state.floatbank10_b_air             5290 non-null   float64\n",
      " 26  rougher.state.floatbank10_b_level           5290 non-null   float64\n",
      " 27  rougher.state.floatbank10_c_air             5290 non-null   float64\n",
      " 28  rougher.state.floatbank10_c_level           5290 non-null   float64\n",
      " 29  rougher.state.floatbank10_d_air             5290 non-null   float64\n",
      " 30  rougher.state.floatbank10_d_level           5290 non-null   float64\n",
      " 31  rougher.state.floatbank10_e_air             5290 non-null   float64\n",
      " 32  rougher.state.floatbank10_e_level           5290 non-null   float64\n",
      " 33  rougher.state.floatbank10_f_air             5290 non-null   float64\n",
      " 34  rougher.state.floatbank10_f_level           5290 non-null   float64\n",
      " 35  secondary_cleaner.state.floatbank2_a_air    5287 non-null   float64\n",
      " 36  secondary_cleaner.state.floatbank2_a_level  5290 non-null   float64\n",
      " 37  secondary_cleaner.state.floatbank2_b_air    5288 non-null   float64\n",
      " 38  secondary_cleaner.state.floatbank2_b_level  5290 non-null   float64\n",
      " 39  secondary_cleaner.state.floatbank3_a_air    5281 non-null   float64\n",
      " 40  secondary_cleaner.state.floatbank3_a_level  5290 non-null   float64\n",
      " 41  secondary_cleaner.state.floatbank3_b_air    5290 non-null   float64\n",
      " 42  secondary_cleaner.state.floatbank3_b_level  5290 non-null   float64\n",
      " 43  secondary_cleaner.state.floatbank4_a_air    5290 non-null   float64\n",
      " 44  secondary_cleaner.state.floatbank4_a_level  5290 non-null   float64\n",
      " 45  secondary_cleaner.state.floatbank4_b_air    5290 non-null   float64\n",
      " 46  secondary_cleaner.state.floatbank4_b_level  5290 non-null   float64\n",
      " 47  secondary_cleaner.state.floatbank5_a_air    5290 non-null   float64\n",
      " 48  secondary_cleaner.state.floatbank5_a_level  5290 non-null   float64\n",
      " 49  secondary_cleaner.state.floatbank5_b_air    5290 non-null   float64\n",
      " 50  secondary_cleaner.state.floatbank5_b_level  5290 non-null   float64\n",
      " 51  secondary_cleaner.state.floatbank6_a_air    5290 non-null   float64\n",
      " 52  secondary_cleaner.state.floatbank6_a_level  5290 non-null   float64\n",
      "dtypes: float64(52), object(1)\n",
      "memory usage: 2.1+ MB\n"
     ]
    },
    {
     "data": {
      "text/html": [
       "<div>\n",
       "<style scoped>\n",
       "    .dataframe tbody tr th:only-of-type {\n",
       "        vertical-align: middle;\n",
       "    }\n",
       "\n",
       "    .dataframe tbody tr th {\n",
       "        vertical-align: top;\n",
       "    }\n",
       "\n",
       "    .dataframe thead th {\n",
       "        text-align: right;\n",
       "    }\n",
       "</style>\n",
       "<table border=\"1\" class=\"dataframe\">\n",
       "  <thead>\n",
       "    <tr style=\"text-align: right;\">\n",
       "      <th></th>\n",
       "      <th>date</th>\n",
       "      <th>primary_cleaner.input.sulfate</th>\n",
       "      <th>primary_cleaner.input.depressant</th>\n",
       "      <th>primary_cleaner.input.feed_size</th>\n",
       "      <th>primary_cleaner.input.xanthate</th>\n",
       "      <th>primary_cleaner.state.floatbank8_a_air</th>\n",
       "      <th>primary_cleaner.state.floatbank8_a_level</th>\n",
       "      <th>primary_cleaner.state.floatbank8_b_air</th>\n",
       "      <th>primary_cleaner.state.floatbank8_b_level</th>\n",
       "      <th>primary_cleaner.state.floatbank8_c_air</th>\n",
       "      <th>...</th>\n",
       "      <th>secondary_cleaner.state.floatbank4_a_air</th>\n",
       "      <th>secondary_cleaner.state.floatbank4_a_level</th>\n",
       "      <th>secondary_cleaner.state.floatbank4_b_air</th>\n",
       "      <th>secondary_cleaner.state.floatbank4_b_level</th>\n",
       "      <th>secondary_cleaner.state.floatbank5_a_air</th>\n",
       "      <th>secondary_cleaner.state.floatbank5_a_level</th>\n",
       "      <th>secondary_cleaner.state.floatbank5_b_air</th>\n",
       "      <th>secondary_cleaner.state.floatbank5_b_level</th>\n",
       "      <th>secondary_cleaner.state.floatbank6_a_air</th>\n",
       "      <th>secondary_cleaner.state.floatbank6_a_level</th>\n",
       "    </tr>\n",
       "  </thead>\n",
       "  <tbody>\n",
       "    <tr>\n",
       "      <th>0</th>\n",
       "      <td>2016-09-01 00:59:59</td>\n",
       "      <td>210.80</td>\n",
       "      <td>14.99</td>\n",
       "      <td>8.08</td>\n",
       "      <td>1.01</td>\n",
       "      <td>1398.98</td>\n",
       "      <td>-500.23</td>\n",
       "      <td>1399.14</td>\n",
       "      <td>-499.92</td>\n",
       "      <td>1400.10</td>\n",
       "      <td>...</td>\n",
       "      <td>12.02</td>\n",
       "      <td>-497.80</td>\n",
       "      <td>8.02</td>\n",
       "      <td>-501.29</td>\n",
       "      <td>7.95</td>\n",
       "      <td>-432.32</td>\n",
       "      <td>4.87</td>\n",
       "      <td>-500.04</td>\n",
       "      <td>26.71</td>\n",
       "      <td>-499.71</td>\n",
       "    </tr>\n",
       "    <tr>\n",
       "      <th>1</th>\n",
       "      <td>2016-09-01 01:59:59</td>\n",
       "      <td>215.39</td>\n",
       "      <td>14.99</td>\n",
       "      <td>8.08</td>\n",
       "      <td>0.99</td>\n",
       "      <td>1398.78</td>\n",
       "      <td>-500.06</td>\n",
       "      <td>1398.06</td>\n",
       "      <td>-499.78</td>\n",
       "      <td>1396.15</td>\n",
       "      <td>...</td>\n",
       "      <td>12.06</td>\n",
       "      <td>-498.70</td>\n",
       "      <td>8.13</td>\n",
       "      <td>-499.63</td>\n",
       "      <td>7.96</td>\n",
       "      <td>-525.84</td>\n",
       "      <td>4.88</td>\n",
       "      <td>-500.16</td>\n",
       "      <td>25.02</td>\n",
       "      <td>-499.82</td>\n",
       "    </tr>\n",
       "    <tr>\n",
       "      <th>2</th>\n",
       "      <td>2016-09-01 02:59:59</td>\n",
       "      <td>215.26</td>\n",
       "      <td>12.88</td>\n",
       "      <td>7.79</td>\n",
       "      <td>1.00</td>\n",
       "      <td>1398.49</td>\n",
       "      <td>-500.87</td>\n",
       "      <td>1398.86</td>\n",
       "      <td>-499.76</td>\n",
       "      <td>1398.08</td>\n",
       "      <td>...</td>\n",
       "      <td>11.96</td>\n",
       "      <td>-498.77</td>\n",
       "      <td>8.10</td>\n",
       "      <td>-500.83</td>\n",
       "      <td>8.07</td>\n",
       "      <td>-500.80</td>\n",
       "      <td>4.91</td>\n",
       "      <td>-499.83</td>\n",
       "      <td>24.99</td>\n",
       "      <td>-500.62</td>\n",
       "    </tr>\n",
       "    <tr>\n",
       "      <th>3</th>\n",
       "      <td>2016-09-01 03:59:59</td>\n",
       "      <td>215.34</td>\n",
       "      <td>12.01</td>\n",
       "      <td>7.64</td>\n",
       "      <td>0.86</td>\n",
       "      <td>1399.62</td>\n",
       "      <td>-498.86</td>\n",
       "      <td>1397.44</td>\n",
       "      <td>-499.21</td>\n",
       "      <td>1400.13</td>\n",
       "      <td>...</td>\n",
       "      <td>12.03</td>\n",
       "      <td>-498.35</td>\n",
       "      <td>8.07</td>\n",
       "      <td>-499.47</td>\n",
       "      <td>7.90</td>\n",
       "      <td>-500.87</td>\n",
       "      <td>4.93</td>\n",
       "      <td>-499.96</td>\n",
       "      <td>24.95</td>\n",
       "      <td>-498.71</td>\n",
       "    </tr>\n",
       "    <tr>\n",
       "      <th>4</th>\n",
       "      <td>2016-09-01 04:59:59</td>\n",
       "      <td>199.10</td>\n",
       "      <td>10.68</td>\n",
       "      <td>7.53</td>\n",
       "      <td>0.81</td>\n",
       "      <td>1401.27</td>\n",
       "      <td>-500.81</td>\n",
       "      <td>1398.13</td>\n",
       "      <td>-499.50</td>\n",
       "      <td>1402.17</td>\n",
       "      <td>...</td>\n",
       "      <td>12.03</td>\n",
       "      <td>-500.79</td>\n",
       "      <td>8.05</td>\n",
       "      <td>-500.40</td>\n",
       "      <td>8.11</td>\n",
       "      <td>-509.53</td>\n",
       "      <td>4.96</td>\n",
       "      <td>-500.36</td>\n",
       "      <td>25.00</td>\n",
       "      <td>-500.86</td>\n",
       "    </tr>\n",
       "  </tbody>\n",
       "</table>\n",
       "<p>5 rows × 53 columns</p>\n",
       "</div>"
      ],
      "text/plain": [
       "                  date  primary_cleaner.input.sulfate  \\\n",
       "0  2016-09-01 00:59:59                         210.80   \n",
       "1  2016-09-01 01:59:59                         215.39   \n",
       "2  2016-09-01 02:59:59                         215.26   \n",
       "3  2016-09-01 03:59:59                         215.34   \n",
       "4  2016-09-01 04:59:59                         199.10   \n",
       "\n",
       "   primary_cleaner.input.depressant  primary_cleaner.input.feed_size  \\\n",
       "0                             14.99                             8.08   \n",
       "1                             14.99                             8.08   \n",
       "2                             12.88                             7.79   \n",
       "3                             12.01                             7.64   \n",
       "4                             10.68                             7.53   \n",
       "\n",
       "   primary_cleaner.input.xanthate  primary_cleaner.state.floatbank8_a_air  \\\n",
       "0                            1.01                                 1398.98   \n",
       "1                            0.99                                 1398.78   \n",
       "2                            1.00                                 1398.49   \n",
       "3                            0.86                                 1399.62   \n",
       "4                            0.81                                 1401.27   \n",
       "\n",
       "   primary_cleaner.state.floatbank8_a_level  \\\n",
       "0                                   -500.23   \n",
       "1                                   -500.06   \n",
       "2                                   -500.87   \n",
       "3                                   -498.86   \n",
       "4                                   -500.81   \n",
       "\n",
       "   primary_cleaner.state.floatbank8_b_air  \\\n",
       "0                                 1399.14   \n",
       "1                                 1398.06   \n",
       "2                                 1398.86   \n",
       "3                                 1397.44   \n",
       "4                                 1398.13   \n",
       "\n",
       "   primary_cleaner.state.floatbank8_b_level  \\\n",
       "0                                   -499.92   \n",
       "1                                   -499.78   \n",
       "2                                   -499.76   \n",
       "3                                   -499.21   \n",
       "4                                   -499.50   \n",
       "\n",
       "   primary_cleaner.state.floatbank8_c_air  ...  \\\n",
       "0                                 1400.10  ...   \n",
       "1                                 1396.15  ...   \n",
       "2                                 1398.08  ...   \n",
       "3                                 1400.13  ...   \n",
       "4                                 1402.17  ...   \n",
       "\n",
       "   secondary_cleaner.state.floatbank4_a_air  \\\n",
       "0                                     12.02   \n",
       "1                                     12.06   \n",
       "2                                     11.96   \n",
       "3                                     12.03   \n",
       "4                                     12.03   \n",
       "\n",
       "   secondary_cleaner.state.floatbank4_a_level  \\\n",
       "0                                     -497.80   \n",
       "1                                     -498.70   \n",
       "2                                     -498.77   \n",
       "3                                     -498.35   \n",
       "4                                     -500.79   \n",
       "\n",
       "   secondary_cleaner.state.floatbank4_b_air  \\\n",
       "0                                      8.02   \n",
       "1                                      8.13   \n",
       "2                                      8.10   \n",
       "3                                      8.07   \n",
       "4                                      8.05   \n",
       "\n",
       "   secondary_cleaner.state.floatbank4_b_level  \\\n",
       "0                                     -501.29   \n",
       "1                                     -499.63   \n",
       "2                                     -500.83   \n",
       "3                                     -499.47   \n",
       "4                                     -500.40   \n",
       "\n",
       "   secondary_cleaner.state.floatbank5_a_air  \\\n",
       "0                                      7.95   \n",
       "1                                      7.96   \n",
       "2                                      8.07   \n",
       "3                                      7.90   \n",
       "4                                      8.11   \n",
       "\n",
       "   secondary_cleaner.state.floatbank5_a_level  \\\n",
       "0                                     -432.32   \n",
       "1                                     -525.84   \n",
       "2                                     -500.80   \n",
       "3                                     -500.87   \n",
       "4                                     -509.53   \n",
       "\n",
       "   secondary_cleaner.state.floatbank5_b_air  \\\n",
       "0                                      4.87   \n",
       "1                                      4.88   \n",
       "2                                      4.91   \n",
       "3                                      4.93   \n",
       "4                                      4.96   \n",
       "\n",
       "   secondary_cleaner.state.floatbank5_b_level  \\\n",
       "0                                     -500.04   \n",
       "1                                     -500.16   \n",
       "2                                     -499.83   \n",
       "3                                     -499.96   \n",
       "4                                     -500.36   \n",
       "\n",
       "   secondary_cleaner.state.floatbank6_a_air  \\\n",
       "0                                     26.71   \n",
       "1                                     25.02   \n",
       "2                                     24.99   \n",
       "3                                     24.95   \n",
       "4                                     25.00   \n",
       "\n",
       "   secondary_cleaner.state.floatbank6_a_level  \n",
       "0                                     -499.71  \n",
       "1                                     -499.82  \n",
       "2                                     -500.62  \n",
       "3                                     -498.71  \n",
       "4                                     -500.86  \n",
       "\n",
       "[5 rows x 53 columns]"
      ]
     },
     "metadata": {},
     "output_type": "display_data"
    }
   ],
   "source": [
    "df_test.info()\n",
    "display(df_test.head(5))"
   ]
  },
  {
   "cell_type": "code",
   "execution_count": 5,
   "metadata": {},
   "outputs": [
    {
     "name": "stdout",
     "output_type": "stream",
     "text": [
      "<class 'pandas.core.frame.DataFrame'>\n",
      "RangeIndex: 19439 entries, 0 to 19438\n",
      "Data columns (total 87 columns):\n",
      " #   Column                                              Non-Null Count  Dtype  \n",
      "---  ------                                              --------------  -----  \n",
      " 0   date                                                19439 non-null  object \n",
      " 1   final.output.concentrate_ag                         19438 non-null  float64\n",
      " 2   final.output.concentrate_pb                         19438 non-null  float64\n",
      " 3   final.output.concentrate_sol                        19228 non-null  float64\n",
      " 4   final.output.concentrate_au                         19439 non-null  float64\n",
      " 5   final.output.recovery                               19439 non-null  float64\n",
      " 6   final.output.tail_ag                                19438 non-null  float64\n",
      " 7   final.output.tail_pb                                19338 non-null  float64\n",
      " 8   final.output.tail_sol                               19433 non-null  float64\n",
      " 9   final.output.tail_au                                19439 non-null  float64\n",
      " 10  primary_cleaner.input.sulfate                       19415 non-null  float64\n",
      " 11  primary_cleaner.input.depressant                    19402 non-null  float64\n",
      " 12  primary_cleaner.input.feed_size                     19439 non-null  float64\n",
      " 13  primary_cleaner.input.xanthate                      19335 non-null  float64\n",
      " 14  primary_cleaner.output.concentrate_ag               19439 non-null  float64\n",
      " 15  primary_cleaner.output.concentrate_pb               19323 non-null  float64\n",
      " 16  primary_cleaner.output.concentrate_sol              19069 non-null  float64\n",
      " 17  primary_cleaner.output.concentrate_au               19439 non-null  float64\n",
      " 18  primary_cleaner.output.tail_ag                      19435 non-null  float64\n",
      " 19  primary_cleaner.output.tail_pb                      19418 non-null  float64\n",
      " 20  primary_cleaner.output.tail_sol                     19377 non-null  float64\n",
      " 21  primary_cleaner.output.tail_au                      19439 non-null  float64\n",
      " 22  primary_cleaner.state.floatbank8_a_air              19435 non-null  float64\n",
      " 23  primary_cleaner.state.floatbank8_a_level            19438 non-null  float64\n",
      " 24  primary_cleaner.state.floatbank8_b_air              19435 non-null  float64\n",
      " 25  primary_cleaner.state.floatbank8_b_level            19438 non-null  float64\n",
      " 26  primary_cleaner.state.floatbank8_c_air              19437 non-null  float64\n",
      " 27  primary_cleaner.state.floatbank8_c_level            19438 non-null  float64\n",
      " 28  primary_cleaner.state.floatbank8_d_air              19436 non-null  float64\n",
      " 29  primary_cleaner.state.floatbank8_d_level            19438 non-null  float64\n",
      " 30  rougher.calculation.sulfate_to_au_concentrate       19437 non-null  float64\n",
      " 31  rougher.calculation.floatbank10_sulfate_to_au_feed  19437 non-null  float64\n",
      " 32  rougher.calculation.floatbank11_sulfate_to_au_feed  19437 non-null  float64\n",
      " 33  rougher.calculation.au_pb_ratio                     19439 non-null  float64\n",
      " 34  rougher.input.feed_ag                               19439 non-null  float64\n",
      " 35  rougher.input.feed_pb                               19339 non-null  float64\n",
      " 36  rougher.input.feed_rate                             19428 non-null  float64\n",
      " 37  rougher.input.feed_size                             19294 non-null  float64\n",
      " 38  rougher.input.feed_sol                              19340 non-null  float64\n",
      " 39  rougher.input.feed_au                               19439 non-null  float64\n",
      " 40  rougher.input.floatbank10_sulfate                   19405 non-null  float64\n",
      " 41  rougher.input.floatbank10_xanthate                  19431 non-null  float64\n",
      " 42  rougher.input.floatbank11_sulfate                   19395 non-null  float64\n",
      " 43  rougher.input.floatbank11_xanthate                  18986 non-null  float64\n",
      " 44  rougher.output.concentrate_ag                       19439 non-null  float64\n",
      " 45  rougher.output.concentrate_pb                       19439 non-null  float64\n",
      " 46  rougher.output.concentrate_sol                      19416 non-null  float64\n",
      " 47  rougher.output.concentrate_au                       19439 non-null  float64\n",
      " 48  rougher.output.recovery                             19439 non-null  float64\n",
      " 49  rougher.output.tail_ag                              19438 non-null  float64\n",
      " 50  rougher.output.tail_pb                              19439 non-null  float64\n",
      " 51  rougher.output.tail_sol                             19439 non-null  float64\n",
      " 52  rougher.output.tail_au                              19439 non-null  float64\n",
      " 53  rougher.state.floatbank10_a_air                     19438 non-null  float64\n",
      " 54  rougher.state.floatbank10_a_level                   19438 non-null  float64\n",
      " 55  rougher.state.floatbank10_b_air                     19438 non-null  float64\n",
      " 56  rougher.state.floatbank10_b_level                   19438 non-null  float64\n",
      " 57  rougher.state.floatbank10_c_air                     19438 non-null  float64\n",
      " 58  rougher.state.floatbank10_c_level                   19438 non-null  float64\n",
      " 59  rougher.state.floatbank10_d_air                     19439 non-null  float64\n",
      " 60  rougher.state.floatbank10_d_level                   19439 non-null  float64\n",
      " 61  rougher.state.floatbank10_e_air                     19003 non-null  float64\n",
      " 62  rougher.state.floatbank10_e_level                   19439 non-null  float64\n",
      " 63  rougher.state.floatbank10_f_air                     19439 non-null  float64\n",
      " 64  rougher.state.floatbank10_f_level                   19439 non-null  float64\n",
      " 65  secondary_cleaner.output.tail_ag                    19437 non-null  float64\n",
      " 66  secondary_cleaner.output.tail_pb                    19427 non-null  float64\n",
      " 67  secondary_cleaner.output.tail_sol                   17691 non-null  float64\n",
      " 68  secondary_cleaner.output.tail_au                    19439 non-null  float64\n",
      " 69  secondary_cleaner.state.floatbank2_a_air            19219 non-null  float64\n",
      " 70  secondary_cleaner.state.floatbank2_a_level          19438 non-null  float64\n",
      " 71  secondary_cleaner.state.floatbank2_b_air            19416 non-null  float64\n",
      " 72  secondary_cleaner.state.floatbank2_b_level          19438 non-null  float64\n",
      " 73  secondary_cleaner.state.floatbank3_a_air            19426 non-null  float64\n",
      " 74  secondary_cleaner.state.floatbank3_a_level          19438 non-null  float64\n",
      " 75  secondary_cleaner.state.floatbank3_b_air            19438 non-null  float64\n",
      " 76  secondary_cleaner.state.floatbank3_b_level          19438 non-null  float64\n",
      " 77  secondary_cleaner.state.floatbank4_a_air            19433 non-null  float64\n",
      " 78  secondary_cleaner.state.floatbank4_a_level          19438 non-null  float64\n",
      " 79  secondary_cleaner.state.floatbank4_b_air            19438 non-null  float64\n",
      " 80  secondary_cleaner.state.floatbank4_b_level          19438 non-null  float64\n",
      " 81  secondary_cleaner.state.floatbank5_a_air            19438 non-null  float64\n",
      " 82  secondary_cleaner.state.floatbank5_a_level          19438 non-null  float64\n",
      " 83  secondary_cleaner.state.floatbank5_b_air            19438 non-null  float64\n",
      " 84  secondary_cleaner.state.floatbank5_b_level          19438 non-null  float64\n",
      " 85  secondary_cleaner.state.floatbank6_a_air            19437 non-null  float64\n",
      " 86  secondary_cleaner.state.floatbank6_a_level          19438 non-null  float64\n",
      "dtypes: float64(86), object(1)\n",
      "memory usage: 12.9+ MB\n"
     ]
    },
    {
     "data": {
      "text/html": [
       "<div>\n",
       "<style scoped>\n",
       "    .dataframe tbody tr th:only-of-type {\n",
       "        vertical-align: middle;\n",
       "    }\n",
       "\n",
       "    .dataframe tbody tr th {\n",
       "        vertical-align: top;\n",
       "    }\n",
       "\n",
       "    .dataframe thead th {\n",
       "        text-align: right;\n",
       "    }\n",
       "</style>\n",
       "<table border=\"1\" class=\"dataframe\">\n",
       "  <thead>\n",
       "    <tr style=\"text-align: right;\">\n",
       "      <th></th>\n",
       "      <th>date</th>\n",
       "      <th>final.output.concentrate_ag</th>\n",
       "      <th>final.output.concentrate_pb</th>\n",
       "      <th>final.output.concentrate_sol</th>\n",
       "      <th>final.output.concentrate_au</th>\n",
       "      <th>final.output.recovery</th>\n",
       "      <th>final.output.tail_ag</th>\n",
       "      <th>final.output.tail_pb</th>\n",
       "      <th>final.output.tail_sol</th>\n",
       "      <th>final.output.tail_au</th>\n",
       "      <th>...</th>\n",
       "      <th>secondary_cleaner.state.floatbank4_a_air</th>\n",
       "      <th>secondary_cleaner.state.floatbank4_a_level</th>\n",
       "      <th>secondary_cleaner.state.floatbank4_b_air</th>\n",
       "      <th>secondary_cleaner.state.floatbank4_b_level</th>\n",
       "      <th>secondary_cleaner.state.floatbank5_a_air</th>\n",
       "      <th>secondary_cleaner.state.floatbank5_a_level</th>\n",
       "      <th>secondary_cleaner.state.floatbank5_b_air</th>\n",
       "      <th>secondary_cleaner.state.floatbank5_b_level</th>\n",
       "      <th>secondary_cleaner.state.floatbank6_a_air</th>\n",
       "      <th>secondary_cleaner.state.floatbank6_a_level</th>\n",
       "    </tr>\n",
       "  </thead>\n",
       "  <tbody>\n",
       "    <tr>\n",
       "      <th>0</th>\n",
       "      <td>2016-01-15 00:00:00</td>\n",
       "      <td>6.06</td>\n",
       "      <td>9.89</td>\n",
       "      <td>5.51</td>\n",
       "      <td>42.19</td>\n",
       "      <td>70.54</td>\n",
       "      <td>10.41</td>\n",
       "      <td>0.90</td>\n",
       "      <td>16.90</td>\n",
       "      <td>2.14</td>\n",
       "      <td>...</td>\n",
       "      <td>14.02</td>\n",
       "      <td>-502.49</td>\n",
       "      <td>12.10</td>\n",
       "      <td>-504.72</td>\n",
       "      <td>9.93</td>\n",
       "      <td>-498.31</td>\n",
       "      <td>8.08</td>\n",
       "      <td>-500.47</td>\n",
       "      <td>14.15</td>\n",
       "      <td>-605.84</td>\n",
       "    </tr>\n",
       "    <tr>\n",
       "      <th>1</th>\n",
       "      <td>2016-01-15 01:00:00</td>\n",
       "      <td>6.03</td>\n",
       "      <td>9.97</td>\n",
       "      <td>5.26</td>\n",
       "      <td>42.70</td>\n",
       "      <td>69.27</td>\n",
       "      <td>10.46</td>\n",
       "      <td>0.93</td>\n",
       "      <td>16.63</td>\n",
       "      <td>2.22</td>\n",
       "      <td>...</td>\n",
       "      <td>13.99</td>\n",
       "      <td>-505.50</td>\n",
       "      <td>11.95</td>\n",
       "      <td>-501.33</td>\n",
       "      <td>10.04</td>\n",
       "      <td>-500.17</td>\n",
       "      <td>7.98</td>\n",
       "      <td>-500.58</td>\n",
       "      <td>14.00</td>\n",
       "      <td>-599.79</td>\n",
       "    </tr>\n",
       "    <tr>\n",
       "      <th>2</th>\n",
       "      <td>2016-01-15 02:00:00</td>\n",
       "      <td>6.06</td>\n",
       "      <td>10.21</td>\n",
       "      <td>5.38</td>\n",
       "      <td>42.66</td>\n",
       "      <td>68.12</td>\n",
       "      <td>10.51</td>\n",
       "      <td>0.95</td>\n",
       "      <td>16.21</td>\n",
       "      <td>2.26</td>\n",
       "      <td>...</td>\n",
       "      <td>14.02</td>\n",
       "      <td>-502.52</td>\n",
       "      <td>11.91</td>\n",
       "      <td>-501.13</td>\n",
       "      <td>10.07</td>\n",
       "      <td>-500.13</td>\n",
       "      <td>8.01</td>\n",
       "      <td>-500.52</td>\n",
       "      <td>14.03</td>\n",
       "      <td>-601.43</td>\n",
       "    </tr>\n",
       "    <tr>\n",
       "      <th>3</th>\n",
       "      <td>2016-01-15 03:00:00</td>\n",
       "      <td>6.05</td>\n",
       "      <td>9.98</td>\n",
       "      <td>4.86</td>\n",
       "      <td>42.69</td>\n",
       "      <td>68.35</td>\n",
       "      <td>10.42</td>\n",
       "      <td>0.88</td>\n",
       "      <td>16.53</td>\n",
       "      <td>2.15</td>\n",
       "      <td>...</td>\n",
       "      <td>14.04</td>\n",
       "      <td>-500.86</td>\n",
       "      <td>12.00</td>\n",
       "      <td>-501.19</td>\n",
       "      <td>9.97</td>\n",
       "      <td>-499.20</td>\n",
       "      <td>7.98</td>\n",
       "      <td>-500.26</td>\n",
       "      <td>14.01</td>\n",
       "      <td>-600.00</td>\n",
       "    </tr>\n",
       "    <tr>\n",
       "      <th>4</th>\n",
       "      <td>2016-01-15 04:00:00</td>\n",
       "      <td>6.15</td>\n",
       "      <td>10.14</td>\n",
       "      <td>4.94</td>\n",
       "      <td>42.77</td>\n",
       "      <td>66.93</td>\n",
       "      <td>10.36</td>\n",
       "      <td>0.79</td>\n",
       "      <td>16.53</td>\n",
       "      <td>2.06</td>\n",
       "      <td>...</td>\n",
       "      <td>14.03</td>\n",
       "      <td>-499.84</td>\n",
       "      <td>11.95</td>\n",
       "      <td>-501.05</td>\n",
       "      <td>9.93</td>\n",
       "      <td>-501.69</td>\n",
       "      <td>7.89</td>\n",
       "      <td>-500.36</td>\n",
       "      <td>14.00</td>\n",
       "      <td>-601.50</td>\n",
       "    </tr>\n",
       "  </tbody>\n",
       "</table>\n",
       "<p>5 rows × 87 columns</p>\n",
       "</div>"
      ],
      "text/plain": [
       "                  date  final.output.concentrate_ag  \\\n",
       "0  2016-01-15 00:00:00                         6.06   \n",
       "1  2016-01-15 01:00:00                         6.03   \n",
       "2  2016-01-15 02:00:00                         6.06   \n",
       "3  2016-01-15 03:00:00                         6.05   \n",
       "4  2016-01-15 04:00:00                         6.15   \n",
       "\n",
       "   final.output.concentrate_pb  final.output.concentrate_sol  \\\n",
       "0                         9.89                          5.51   \n",
       "1                         9.97                          5.26   \n",
       "2                        10.21                          5.38   \n",
       "3                         9.98                          4.86   \n",
       "4                        10.14                          4.94   \n",
       "\n",
       "   final.output.concentrate_au  final.output.recovery  final.output.tail_ag  \\\n",
       "0                        42.19                  70.54                 10.41   \n",
       "1                        42.70                  69.27                 10.46   \n",
       "2                        42.66                  68.12                 10.51   \n",
       "3                        42.69                  68.35                 10.42   \n",
       "4                        42.77                  66.93                 10.36   \n",
       "\n",
       "   final.output.tail_pb  final.output.tail_sol  final.output.tail_au  ...  \\\n",
       "0                  0.90                  16.90                  2.14  ...   \n",
       "1                  0.93                  16.63                  2.22  ...   \n",
       "2                  0.95                  16.21                  2.26  ...   \n",
       "3                  0.88                  16.53                  2.15  ...   \n",
       "4                  0.79                  16.53                  2.06  ...   \n",
       "\n",
       "   secondary_cleaner.state.floatbank4_a_air  \\\n",
       "0                                     14.02   \n",
       "1                                     13.99   \n",
       "2                                     14.02   \n",
       "3                                     14.04   \n",
       "4                                     14.03   \n",
       "\n",
       "   secondary_cleaner.state.floatbank4_a_level  \\\n",
       "0                                     -502.49   \n",
       "1                                     -505.50   \n",
       "2                                     -502.52   \n",
       "3                                     -500.86   \n",
       "4                                     -499.84   \n",
       "\n",
       "   secondary_cleaner.state.floatbank4_b_air  \\\n",
       "0                                     12.10   \n",
       "1                                     11.95   \n",
       "2                                     11.91   \n",
       "3                                     12.00   \n",
       "4                                     11.95   \n",
       "\n",
       "   secondary_cleaner.state.floatbank4_b_level  \\\n",
       "0                                     -504.72   \n",
       "1                                     -501.33   \n",
       "2                                     -501.13   \n",
       "3                                     -501.19   \n",
       "4                                     -501.05   \n",
       "\n",
       "   secondary_cleaner.state.floatbank5_a_air  \\\n",
       "0                                      9.93   \n",
       "1                                     10.04   \n",
       "2                                     10.07   \n",
       "3                                      9.97   \n",
       "4                                      9.93   \n",
       "\n",
       "   secondary_cleaner.state.floatbank5_a_level  \\\n",
       "0                                     -498.31   \n",
       "1                                     -500.17   \n",
       "2                                     -500.13   \n",
       "3                                     -499.20   \n",
       "4                                     -501.69   \n",
       "\n",
       "   secondary_cleaner.state.floatbank5_b_air  \\\n",
       "0                                      8.08   \n",
       "1                                      7.98   \n",
       "2                                      8.01   \n",
       "3                                      7.98   \n",
       "4                                      7.89   \n",
       "\n",
       "   secondary_cleaner.state.floatbank5_b_level  \\\n",
       "0                                     -500.47   \n",
       "1                                     -500.58   \n",
       "2                                     -500.52   \n",
       "3                                     -500.26   \n",
       "4                                     -500.36   \n",
       "\n",
       "   secondary_cleaner.state.floatbank6_a_air  \\\n",
       "0                                     14.15   \n",
       "1                                     14.00   \n",
       "2                                     14.03   \n",
       "3                                     14.01   \n",
       "4                                     14.00   \n",
       "\n",
       "   secondary_cleaner.state.floatbank6_a_level  \n",
       "0                                     -605.84  \n",
       "1                                     -599.79  \n",
       "2                                     -601.43  \n",
       "3                                     -600.00  \n",
       "4                                     -601.50  \n",
       "\n",
       "[5 rows x 87 columns]"
      ]
     },
     "metadata": {},
     "output_type": "display_data"
    }
   ],
   "source": [
    "df_full.info()\n",
    "display(df_full.head(5))"
   ]
  },
  {
   "cell_type": "code",
   "execution_count": null,
   "metadata": {},
   "outputs": [],
   "source": []
  },
  {
   "cell_type": "markdown",
   "metadata": {},
   "source": [
    "Интересно, что в тестовой выборке почти нет пропусков в данных. Посмотрим, как сильно изменится датасет, если просто удалить все пропуска в тестовой выборке. напишем функцию, считающую изменение выборки, так как она нам понадобится при исследовании того, как лучше обработать пропуски."
   ]
  },
  {
   "cell_type": "code",
   "execution_count": 6,
   "metadata": {},
   "outputs": [],
   "source": [
    "def how_change_df_size_if_we_do_this(df_test, df_train, df_full):\n",
    "    print('Размер тестовой выборки уменьшится на {:.2%}'.format((len(df_test) - len(df_test.dropna())) / len(df_test)))\n",
    "    print('Размер обучающей выборки уменьшится на {:.2%}'.format((len(df_train) - len(df_train.dropna())) / len(df_train)))\n",
    "    print('Размер всего датасета уменьшится на {:.2%}'.format((len(df_full) - len(df_full.dropna())) / len(df_full)))"
   ]
  },
  {
   "cell_type": "code",
   "execution_count": 7,
   "metadata": {},
   "outputs": [
    {
     "name": "stdout",
     "output_type": "stream",
     "text": [
      "Размер тестовой выборки уменьшится на 1.15%\n",
      "Размер обучающей выборки уменьшится на 22.14%\n",
      "Размер всего датасета уменьшится на 17.21%\n"
     ]
    }
   ],
   "source": [
    "how_change_df_size_if_we_do_this(df_test, df_train, df_full)"
   ]
  },
  {
   "cell_type": "markdown",
   "metadata": {},
   "source": [
    "Первый вариант работы с пропусками - удалить их. Тогда удалится пятая часть обучающей выборки. \n",
    "\n",
    "Второй вариант - можно заметить, что прилично много пропусков в колонках с sol. Посмотрим, как поменяются посчитанные выше соотношения в датасете, если сперва удалим колонки с sol."
   ]
  },
  {
   "cell_type": "code",
   "execution_count": 8,
   "metadata": {},
   "outputs": [
    {
     "name": "stdout",
     "output_type": "stream",
     "text": [
      "Размер тестовой выборки уменьшится на 0.83%\n",
      "Размер обучающей выборки уменьшится на 12.06%\n",
      "Размер всего датасета уменьшится на 9.49%\n"
     ]
    }
   ],
   "source": [
    "df_test_without_sol = df_test.drop(['rougher.input.feed_sol'], axis=1)\n",
    "\n",
    "columns_to_delete = ['final.output.concentrate_sol', 'final.output.tail_sol', 'primary_cleaner.output.tail_sol',\\\n",
    "                     'rougher.output.tail_sol', 'secondary_cleaner.output.tail_sol']\n",
    "df_train_without_sol = df_train.drop(columns_to_delete, axis=1)\n",
    "df_full_without_sol = df_full.drop(columns_to_delete, axis=1)\n",
    "\n",
    "how_change_df_size_if_we_do_this(df_test_without_sol, df_train_without_sol, df_full_without_sol)"
   ]
  },
  {
   "cell_type": "markdown",
   "metadata": {},
   "source": [
    "Если мы не будем учитывать sol, количество \"мешающих\" нам пропусков значительно уменьшается. На этом этапе стоит уточнить у компании, что такое sol, критично ли его удалять. Также при обучении моделей посмотрим, насколько признаки с sol важны.\n",
    "\n",
    "Пока будем действовать по первому варианту - удалим все пропуски. Однако, будем держать в уме возможность отбрасывания некоторых признаков (например, sol) и того, что некоторые пропуски могут оказаться нулевыми значениями."
   ]
  },
  {
   "cell_type": "code",
   "execution_count": 9,
   "metadata": {},
   "outputs": [
    {
     "name": "stdout",
     "output_type": "stream",
     "text": [
      "Размер обучающей выборки: 11017\n"
     ]
    }
   ],
   "source": [
    "df_test.dropna(inplace=True)\n",
    "df_train.dropna(inplace=True)\n",
    "df_full.dropna(inplace=True)\n",
    "\n",
    "print('Размер обучающей выборки:', len(df_train))"
   ]
  },
  {
   "cell_type": "markdown",
   "metadata": {},
   "source": [
    "Проверим данные на наличие дубликатов."
   ]
  },
  {
   "cell_type": "code",
   "execution_count": 10,
   "metadata": {},
   "outputs": [
    {
     "name": "stdout",
     "output_type": "stream",
     "text": [
      "Число дубликатов в обучающей выборке: 0\n",
      "Число дубликатов в тестовой выборке: 0\n",
      "Число дубликатов во всём датасете: 0\n"
     ]
    }
   ],
   "source": [
    "print('Число дубликатов в обучающей выборке:', df_train.duplicated().sum())\n",
    "print('Число дубликатов в тестовой выборке:', df_test.duplicated().sum())\n",
    "print('Число дубликатов во всём датасете:', df_full.duplicated().sum())"
   ]
  },
  {
   "cell_type": "markdown",
   "metadata": {},
   "source": [
    "Преобразуем даты в нужный формат и переименуем индексы на даты - так будет удобнее работать в дальнейшем."
   ]
  },
  {
   "cell_type": "code",
   "execution_count": 11,
   "metadata": {},
   "outputs": [],
   "source": [
    "df_train['date'] = pd.to_datetime(df_train['date'], format='%Y-%m-%d %H:%M:%S')\n",
    "df_test['date'] = pd.to_datetime(df_test['date'], format='%Y-%m-%d %H:%M:%S')\n",
    "df_full['date'] = pd.to_datetime(df_full['date'], format='%Y-%m-%d %H:%M:%S')"
   ]
  },
  {
   "cell_type": "code",
   "execution_count": 12,
   "metadata": {},
   "outputs": [],
   "source": [
    "df_train.index = df_train['date']\n",
    "df_test.index = df_test['date']\n",
    "df_full.index = df_full['date']"
   ]
  },
  {
   "cell_type": "code",
   "execution_count": 13,
   "metadata": {},
   "outputs": [
    {
     "data": {
      "text/plain": [
       "count   11017.00\n",
       "mean       82.74\n",
       "std        13.59\n",
       "min         0.00\n",
       "25%        80.00\n",
       "50%        84.85\n",
       "75%        89.64\n",
       "max       100.00\n",
       "Name: rougher.output.recovery, dtype: float64"
      ]
     },
     "execution_count": 13,
     "metadata": {},
     "output_type": "execute_result"
    }
   ],
   "source": [
    "df_train['rougher.output.recovery'].describe()"
   ]
  },
  {
   "cell_type": "markdown",
   "metadata": {},
   "source": [
    "Проверим формулу вычисления эффективности обогащения. Напишем функцию."
   ]
  },
  {
   "cell_type": "code",
   "execution_count": 14,
   "metadata": {},
   "outputs": [],
   "source": [
    "def recovery(c, f, t):\n",
    "    \"\"\"\n",
    "    Считает Recovery по данной формуле.\n",
    "    \"\"\"\n",
    "    recovery = c * (f - t) / f / (c - t) * 100\n",
    "    return recovery"
   ]
  },
  {
   "cell_type": "markdown",
   "metadata": {},
   "source": [
    "Посчитаем Recovery с помощью функции и выведем MAE для обучающей выборки для значений Recovery после флотации:"
   ]
  },
  {
   "cell_type": "code",
   "execution_count": 15,
   "metadata": {},
   "outputs": [
    {
     "name": "stdout",
     "output_type": "stream",
     "text": [
      "MAE = 1.0808737141330234e-14\n"
     ]
    }
   ],
   "source": [
    "df_train['rougher.output.recovery_check'] =\\\n",
    "    recovery(df_train['rougher.output.concentrate_au'], df_train['rougher.input.feed_au'],\\\n",
    "                   df_train['rougher.output.tail_au'])\n",
    "print('MAE =', mean_absolute_error(df_train['rougher.output.recovery'], df_train['rougher.output.recovery_check']))"
   ]
  },
  {
   "cell_type": "markdown",
   "metadata": {},
   "source": [
    "MAE пренебрежимо мало в сравнении со средним значением Recovery (82.7) , что говорит о том, что эффективность обогащения рассчитана правильно.\n",
    "\n",
    "Проанализируем признаки, недоступные в тестовой выборке."
   ]
  },
  {
   "cell_type": "code",
   "execution_count": 16,
   "metadata": {},
   "outputs": [
    {
     "name": "stdout",
     "output_type": "stream",
     "text": [
      "final.output.concentrate_ag\n",
      "final.output.concentrate_au\n",
      "final.output.concentrate_pb\n",
      "final.output.concentrate_sol\n",
      "final.output.recovery\n",
      "final.output.tail_ag\n",
      "final.output.tail_au\n",
      "final.output.tail_pb\n",
      "final.output.tail_sol\n",
      "primary_cleaner.output.concentrate_ag\n",
      "primary_cleaner.output.concentrate_au\n",
      "primary_cleaner.output.concentrate_pb\n",
      "primary_cleaner.output.concentrate_sol\n",
      "primary_cleaner.output.tail_ag\n",
      "primary_cleaner.output.tail_au\n",
      "primary_cleaner.output.tail_pb\n",
      "primary_cleaner.output.tail_sol\n",
      "rougher.calculation.au_pb_ratio\n",
      "rougher.calculation.floatbank10_sulfate_to_au_feed\n",
      "rougher.calculation.floatbank11_sulfate_to_au_feed\n",
      "rougher.calculation.sulfate_to_au_concentrate\n",
      "rougher.output.concentrate_ag\n",
      "rougher.output.concentrate_au\n",
      "rougher.output.concentrate_pb\n",
      "rougher.output.concentrate_sol\n",
      "rougher.output.recovery\n",
      "rougher.output.recovery_check\n",
      "rougher.output.tail_ag\n",
      "rougher.output.tail_au\n",
      "rougher.output.tail_pb\n",
      "rougher.output.tail_sol\n",
      "secondary_cleaner.output.tail_ag\n",
      "secondary_cleaner.output.tail_au\n",
      "secondary_cleaner.output.tail_pb\n",
      "secondary_cleaner.output.tail_sol\n"
     ]
    }
   ],
   "source": [
    "differences = pd.Series(list(set(df_train.columns) - set(df_test.columns))).sort_values()\n",
    "for difference in differences:\n",
    "    print(difference)"
   ]
  },
  {
   "cell_type": "markdown",
   "metadata": {},
   "source": [
    "В тестовой выборке недоступны все *output* значения, среди которых - необходимые для вычисления Recovery и само Recovery. А также недоступны *rougher.calculation* или *рассчётные характеристики*. Все фичи, которых нет в тестовой выборке, стоит удалить и из обучающей, так как при работе модели эти фичи не будут доступны."
   ]
  },
  {
   "cell_type": "markdown",
   "metadata": {},
   "source": [
    "### Вывод"
   ]
  },
  {
   "cell_type": "markdown",
   "metadata": {},
   "source": [
    "- В данных есть пропуски, о которых стоит поговорить с заказчиком, например, нет ли таких пропусков, которые являются нулевым значением признака?\n",
    "        \n",
    "- До выяснения вопросов - удалили все пропуски.\n",
    "\n",
    "\n",
    "- Провели проверку на дубликаты. Их нет.\n",
    "\n",
    "\n",
    "- Преобразовали даты в правильный формат.\n",
    "\n",
    "\n",
    "- Проверили, что эффективность обогащения (Recovery), указанная в датасете, соответствуют посчитанным по формуле значениям.\n",
    "\n",
    "\n",
    "- Переименовали индексы в даты для удобства дальнейшей работы.\n",
    "\n",
    "\n",
    "- Выяснили, что в тестовой выборке нет некоторых фичей. Их следует удалить и из обучающей выборки."
   ]
  },
  {
   "cell_type": "markdown",
   "metadata": {},
   "source": [
    "## Анализ данных"
   ]
  },
  {
   "cell_type": "markdown",
   "metadata": {},
   "source": [
    "Посмотрим, как меняется концентрация металлов (Au, Ag, Pb) на различных этапах очистки и суммарная концентрация веществ. Посчитаем среднюю концентрацию каждого металла и среднюю суммарную концентрацию веществ на каждом этапе."
   ]
  },
  {
   "cell_type": "code",
   "execution_count": 17,
   "metadata": {
    "scrolled": true
   },
   "outputs": [
    {
     "data": {
      "image/png": "[encoded data removed]",
      "text/plain": [
       "<Figure size 1152x1152 with 12 Axes>"
      ]
     },
     "metadata": {
      "needs_background": "light"
     },
     "output_type": "display_data"
    }
   ],
   "source": [
    "stages = ['rougher.input.feed', 'rougher.output.concentrate', 'primary_cleaner.output.concentrate', 'final.output.concentrate']\n",
    "metals = ['au', 'ag', 'pb']\n",
    "\n",
    "fig, axes = plt.subplots(len(stages), len(metals), figsize=(16,16))\n",
    "\n",
    "data = []\n",
    "for i in range(len(stages)):\n",
    "    stage = stages[i]\n",
    "    row = [] # создаём строку со средними концентрациями металлов и средней суммарной концентрацией в-в на стадии\n",
    "    name_of_column = stage  + '_sol' # создаем название столбца, содержащего концентрацию sol на стадии\n",
    "    total_concentrate_name = stage + '_total' # имя столбца с суммарной концентрацией в-в на стадии\n",
    "    df_train[total_concentrate_name] = df_train[name_of_column] # создали столбец со средней суммарной концентрацией в-в.\n",
    "                                                                #Записали в него sol\n",
    "\n",
    "    for j in range(len(metals)):\n",
    "        metal = metals[j]\n",
    "        name_of_column = stage + '_' + metal # создаем название столбца, содержащего концентрацию металла на стадии\n",
    "        df_train[total_concentrate_name] += df_train[name_of_column] # добавляем к столбцу со средней суммарной концентрацией\n",
    "                                                                        # концентрацию  металла\n",
    "        row.append(df_train[name_of_column].apply('mean')) # вписываем в row среднюю концентрацию металла на стадии\n",
    "        df_train[name_of_column].hist(bins=30, density=True,figure=fig, ax=axes[i][j]).set_title(name_of_column)\n",
    "        \n",
    "    row.append(df_train[total_concentrate_name].apply('mean')) # вписываем в row среднюю суммарную концентрацию в-в на стадии\n",
    "    data.append(row) # вписываем в data строку со средними концентрациями металлов и средней суммарной кон-ей в-в на стадии\n",
    "    \n",
    "metals.append('total')\n",
    "df_concentrate_stages = pd.DataFrame(data, index = stages, columns = metals)"
   ]
  },
  {
   "cell_type": "code",
   "execution_count": 18,
   "metadata": {
    "scrolled": false
   },
   "outputs": [
    {
     "data": {
      "text/html": [
       "<div>\n",
       "<style scoped>\n",
       "    .dataframe tbody tr th:only-of-type {\n",
       "        vertical-align: middle;\n",
       "    }\n",
       "\n",
       "    .dataframe tbody tr th {\n",
       "        vertical-align: top;\n",
       "    }\n",
       "\n",
       "    .dataframe thead th {\n",
       "        text-align: right;\n",
       "    }\n",
       "</style>\n",
       "<table border=\"1\" class=\"dataframe\">\n",
       "  <thead>\n",
       "    <tr style=\"text-align: right;\">\n",
       "      <th></th>\n",
       "      <th>au</th>\n",
       "      <th>ag</th>\n",
       "      <th>pb</th>\n",
       "      <th>total</th>\n",
       "    </tr>\n",
       "  </thead>\n",
       "  <tbody>\n",
       "    <tr>\n",
       "      <th>rougher.input.feed</th>\n",
       "      <td>8.11</td>\n",
       "      <td>8.77</td>\n",
       "      <td>3.55</td>\n",
       "      <td>56.99</td>\n",
       "    </tr>\n",
       "    <tr>\n",
       "      <th>rougher.output.concentrate</th>\n",
       "      <td>19.78</td>\n",
       "      <td>11.84</td>\n",
       "      <td>7.61</td>\n",
       "      <td>67.90</td>\n",
       "    </tr>\n",
       "    <tr>\n",
       "      <th>primary_cleaner.output.concentrate</th>\n",
       "      <td>32.38</td>\n",
       "      <td>8.44</td>\n",
       "      <td>9.57</td>\n",
       "      <td>60.75</td>\n",
       "    </tr>\n",
       "    <tr>\n",
       "      <th>final.output.concentrate</th>\n",
       "      <td>44.13</td>\n",
       "      <td>5.16</td>\n",
       "      <td>10.17</td>\n",
       "      <td>69.06</td>\n",
       "    </tr>\n",
       "  </tbody>\n",
       "</table>\n",
       "</div>"
      ],
      "text/plain": [
       "                                      au    ag    pb  total\n",
       "rougher.input.feed                  8.11  8.77  3.55  56.99\n",
       "rougher.output.concentrate         19.78 11.84  7.61  67.90\n",
       "primary_cleaner.output.concentrate 32.38  8.44  9.57  60.75\n",
       "final.output.concentrate           44.13  5.16 10.17  69.06"
      ]
     },
     "metadata": {},
     "output_type": "display_data"
    }
   ],
   "source": [
    "display(df_concentrate_stages)"
   ]
  },
  {
   "cell_type": "markdown",
   "metadata": {},
   "source": [
    "В среднем, концентрация золота с каждым этапом значительно растет (от 8% до почти половины!). Концентрация свинца - также растет, но не настолько стремительно (с 3.6% до 10%). Концентрация серебра, в среднем, имеет максимум на стадии после флотации, а потом снижается и становится даже меньше начальной. \n",
    "\n",
    "Таким образом, технологический процесс хорошо находит куски с высокой концентрацией золота. Если нам нужны другие металлы - их стоит искать в хвостах каким-то другим способом.\n",
    "\n",
    "Суммарная концентрация всех веществ значительно растёт после флотации, падает после превичной очистки и снова растет после вторичной. Значительный вклад в суммарную концентрацию вносит золото.\n",
    "\n",
    "Гистограммы хорошо иллюстрируют, как концентрация золота в среднем растет (с каждым этапом происходит сдвиг вправо), а также, уменьшается разброс (гистограмма становится всё тоньше) - концентрация стремится к среднему значению. Для остальных металлов также происходит утоньшение гистограммы. Возможно, если мы ищем золото, то стоит ожидать, что при этом концентрация серебра и свинца будет небольшой. Также можно заметить пики в районе нулевых значений. Это странно и может служить поводом для разговора с тем, кто понимает технологический процесс лучше. Возможно, это сбой в работе приборов или их поломка. Нули в концентрациях могут ухудшать работу модели, так как в формуле Recovery в знаменателе может получиться 0. Стоит ли удалять нулевые концентрации - так же тема для разговора о целях бизнеса. Если выбросы будут появляться в процессе работы модели, то модель должна с ними как-то справляться на реальных данных.\n",
    "\n",
    "Построим гистограммы для суммарной концентрации веществ."
   ]
  },
  {
   "cell_type": "code",
   "execution_count": 19,
   "metadata": {},
   "outputs": [
    {
     "data": {
      "image/png": "[encoded data removed]",
      "text/plain": [
       "<Figure size 1152x360 with 4 Axes>"
      ]
     },
     "metadata": {
      "needs_background": "light"
     },
     "output_type": "display_data"
    }
   ],
   "source": [
    "fig, axes = plt.subplots(1, len(stages), figsize=(16,5))\n",
    "\n",
    "for i in range(len(stages)):\n",
    "    stage = stages[i]\n",
    "    total_concentrate_name = stage + '_total'\n",
    "    df_train[total_concentrate_name].hist(bins=30, density=True,figure=fig, ax=axes[i]).set_title(stage)"
   ]
  },
  {
   "cell_type": "code",
   "execution_count": 20,
   "metadata": {},
   "outputs": [],
   "source": [
    "for stage in stages:\n",
    "    for metal in metals:\n",
    "        name_of_column = stage + '_' + metal\n",
    "        df_train = df_train[df_train[name_of_column] != 0]"
   ]
  },
  {
   "cell_type": "code",
   "execution_count": 21,
   "metadata": {},
   "outputs": [
    {
     "name": "stdout",
     "output_type": "stream",
     "text": [
      "Размер обучающей выборки после удаления нулевых концентраций 10737\n"
     ]
    }
   ],
   "source": [
    "print('Размер обучающей выборки после удаления нулевых концентраций', len(df_train))"
   ]
  },
  {
   "cell_type": "markdown",
   "metadata": {},
   "source": [
    "На гистограммах суммарной концентрации также видны выбросы в нулевых значениях. Также от стадии к стадии происходит уменьшение дисперсии - гистограмма становится тоньше.\n",
    "\n",
    "Проанализируем распределения размеров гранул на обучающей и тестовой выборках. За нулевую гипотезу примем то, что средние распределений равны, за альтернативную - что нет. Чтобы проверить гипотезу о равенстве среднего двух генеральных совокупностей по взятым из них выборкам, применим метод t-test.\n",
    "\n",
    "Для этого сперва построим гистограммы для каждой выборки. "
   ]
  },
  {
   "cell_type": "code",
   "execution_count": 22,
   "metadata": {},
   "outputs": [
    {
     "data": {
      "image/png": "[encoded data removed]",
      "text/plain": [
       "<Figure size 432x288 with 1 Axes>"
      ]
     },
     "metadata": {
      "needs_background": "light"
     },
     "output_type": "display_data"
    }
   ],
   "source": [
    "df_train['rougher.input.feed_size'].hist(bins=30).set_title('Гистограмма размера зерен в обучающей выборке')\n",
    "plt.xlabel('Размер зерен')\n",
    "plt.show()"
   ]
  },
  {
   "cell_type": "code",
   "execution_count": 23,
   "metadata": {},
   "outputs": [
    {
     "data": {
      "image/png": "[encoded data removed]",
      "text/plain": [
       "<Figure size 432x288 with 1 Axes>"
      ]
     },
     "metadata": {
      "needs_background": "light"
     },
     "output_type": "display_data"
    }
   ],
   "source": [
    "df_test['rougher.input.feed_size'].hist(bins=30).set_title('Гистограмма размера зерен в тестовой выборке')\n",
    "plt.xlabel('Размер зерен')\n",
    "plt.show()"
   ]
  },
  {
   "cell_type": "markdown",
   "metadata": {},
   "source": [
    "Чаще всего встречаются зерна размером не больше 100. Однако, выбросы могут быть важны для модели (насчёт этого момента тоже стоит поговорить с заказчиком - насколько это нормальное явление). А для сравнения распределений - ограничим размеры от 20 до 120.\n",
    "\n",
    "Построим гистограммы в оговоренном интервале."
   ]
  },
  {
   "cell_type": "code",
   "execution_count": 24,
   "metadata": {
    "scrolled": true
   },
   "outputs": [
    {
     "data": {
      "image/png": "[encoded data removed]",
      "text/plain": [
       "<Figure size 432x288 with 1 Axes>"
      ]
     },
     "metadata": {
      "needs_background": "light"
     },
     "output_type": "display_data"
    }
   ],
   "source": [
    "df_train['rougher.input.feed_size'].hist(range=(20, 120), bins=30).set_title('Гистограмма размера зерен в обучающей выборке')\n",
    "plt.xlabel('Размер зерен')\n",
    "plt.show()"
   ]
  },
  {
   "cell_type": "code",
   "execution_count": 25,
   "metadata": {},
   "outputs": [
    {
     "data": {
      "image/png": "[encoded data removed]",
      "text/plain": [
       "<Figure size 432x288 with 1 Axes>"
      ]
     },
     "metadata": {
      "needs_background": "light"
     },
     "output_type": "display_data"
    }
   ],
   "source": [
    "df_test['rougher.input.feed_size'].hist(range=(20, 120), bins=30).set_title('Гистограмма размера зерен в тестовой выборке')\n",
    "plt.xlabel('Размер зерен')\n",
    "plt.show()"
   ]
  },
  {
   "cell_type": "markdown",
   "metadata": {},
   "source": [
    "Визуально распределения похожи (близки к нормальным). Однако, тестовая выборка немного смещена влево. Посмотрим, что покажет ttest. Проведём предварительный статистический тест на равенство дисперсий тестом Левене. Напишем функцию, которая считает дисперсии каждой из выборок, проводит тест Левене, считает equal_var для ttest и проводит его."
   ]
  },
  {
   "cell_type": "code",
   "execution_count": 26,
   "metadata": {},
   "outputs": [
    {
     "name": "stdout",
     "output_type": "stream",
     "text": [
      "Дисперсия рейтинга первой выборки: 134.0\n",
      "\n",
      "Дисперсия рейтинга второй выборки: 186.0\n",
      "\n",
      "Проверка тестом Левене:\n",
      "\n",
      "p-Левене = 4.3981538746450733e-44\n",
      "\n",
      "Дисперсии неоднородны\n",
      "\n",
      "p-значение: 5.276474655386791e-11\n",
      "Отвергаем нулевую гипотезу\n"
     ]
    }
   ],
   "source": [
    "def check_variance_and_test_hypothesis(df_1, df_2):\n",
    "    #Считает дисперсии каждой из выборок, проводит тест Левене, считает equal_var для ttest и проводит его.\n",
    "\n",
    "    print('Дисперсия рейтинга первой выборки:', np.var(df_1, ddof=1).round())\n",
    "    print()\n",
    "    print('Дисперсия рейтинга второй выборки:', np.var(df_2, ddof=1).round())\n",
    "\n",
    "    stat, p = levene(df_1, df_2)\n",
    "    print()\n",
    "    print('Проверка тестом Левене:')\n",
    "    print()\n",
    "    print('p-Левене =', p)\n",
    "    print()\n",
    "    if p > 0.05:\n",
    "        print('Дисперсии однородны')\n",
    "        equal_var_for_ttest = True\n",
    "    else:\n",
    "        print('Дисперсии неоднородны')\n",
    "        equal_var_for_ttest = False\n",
    "        \n",
    "    alpha = 0.05  # критический уровень статистической значимости\n",
    "    # если p-value окажется меньше него - отвергнем гипотезу\n",
    "\n",
    "    results = st.ttest_ind(df_1, df_2, equal_var = equal_var_for_ttest)\n",
    "    \n",
    "    print()\n",
    "    print('p-значение:', results.pvalue)\n",
    "\n",
    "    if results.pvalue < alpha:\n",
    "        print('Отвергаем нулевую гипотезу')\n",
    "    else:\n",
    "        print('Не получилось отвергнуть нулевую гипотезу')\n",
    "        \n",
    "df_1 = df_train[(20 <= df_train['rougher.input.feed_size'])\\\n",
    "                & (df_train['rougher.input.feed_size'] <= 120)]['rougher.input.feed_size']   \n",
    "\n",
    "df_2 = df_test[(20 <= df_test['rougher.input.feed_size'])\\\n",
    "                & (df_test['rougher.input.feed_size'] <= 120)]['rougher.input.feed_size']  \n",
    "\n",
    "check_variance_and_test_hypothesis(df_1, df_2)"
   ]
  },
  {
   "cell_type": "markdown",
   "metadata": {},
   "source": [
    "Для выбранного уровня значимости отвергаем нулевую гипотезу, что средние размеры гранул равны. Это может ухудшить точность модели."
   ]
  },
  {
   "cell_type": "markdown",
   "metadata": {},
   "source": [
    "Удалим те признаки, которых нет в тестовой выборке. Проверим признаки на мультиколлинеарность."
   ]
  },
  {
   "cell_type": "code",
   "execution_count": 27,
   "metadata": {},
   "outputs": [
    {
     "data": {
      "text/html": [
       "<div>\n",
       "<style scoped>\n",
       "    .dataframe tbody tr th:only-of-type {\n",
       "        vertical-align: middle;\n",
       "    }\n",
       "\n",
       "    .dataframe tbody tr th {\n",
       "        vertical-align: top;\n",
       "    }\n",
       "\n",
       "    .dataframe thead th {\n",
       "        text-align: right;\n",
       "    }\n",
       "</style>\n",
       "<table border=\"1\" class=\"dataframe\">\n",
       "  <thead>\n",
       "    <tr style=\"text-align: right;\">\n",
       "      <th></th>\n",
       "      <th>index</th>\n",
       "      <th>index_2</th>\n",
       "      <th>value</th>\n",
       "    </tr>\n",
       "  </thead>\n",
       "  <tbody>\n",
       "    <tr>\n",
       "      <th>12</th>\n",
       "      <td>rougher.state.floatbank10_c_level</td>\n",
       "      <td>rougher.state.floatbank10_f_level</td>\n",
       "      <td>0.97</td>\n",
       "    </tr>\n",
       "    <tr>\n",
       "      <th>20</th>\n",
       "      <td>rougher.state.floatbank10_d_level</td>\n",
       "      <td>rougher.state.floatbank10_f_level</td>\n",
       "      <td>0.97</td>\n",
       "    </tr>\n",
       "    <tr>\n",
       "      <th>42</th>\n",
       "      <td>rougher.state.floatbank10_e_level</td>\n",
       "      <td>rougher.state.floatbank10_f_level</td>\n",
       "      <td>0.99</td>\n",
       "    </tr>\n",
       "    <tr>\n",
       "      <th>47</th>\n",
       "      <td>rougher.state.floatbank10_b_level</td>\n",
       "      <td>rougher.state.floatbank10_f_level</td>\n",
       "      <td>0.96</td>\n",
       "    </tr>\n",
       "    <tr>\n",
       "      <th>369</th>\n",
       "      <td>primary_cleaner.state.floatbank8_a_air</td>\n",
       "      <td>primary_cleaner.state.floatbank8_b_air</td>\n",
       "      <td>0.96</td>\n",
       "    </tr>\n",
       "    <tr>\n",
       "      <th>481</th>\n",
       "      <td>primary_cleaner.state.floatbank8_a_level</td>\n",
       "      <td>primary_cleaner.state.floatbank8_b_level</td>\n",
       "      <td>0.98</td>\n",
       "    </tr>\n",
       "    <tr>\n",
       "      <th>671</th>\n",
       "      <td>rougher.state.floatbank10_b_level</td>\n",
       "      <td>rougher.state.floatbank10_c_level</td>\n",
       "      <td>0.98</td>\n",
       "    </tr>\n",
       "    <tr>\n",
       "      <th>997</th>\n",
       "      <td>primary_cleaner.state.floatbank8_b_level</td>\n",
       "      <td>primary_cleaner.state.floatbank8_c_level</td>\n",
       "      <td>0.97</td>\n",
       "    </tr>\n",
       "    <tr>\n",
       "      <th>1001</th>\n",
       "      <td>primary_cleaner.state.floatbank8_a_level</td>\n",
       "      <td>primary_cleaner.state.floatbank8_c_level</td>\n",
       "      <td>0.97</td>\n",
       "    </tr>\n",
       "    <tr>\n",
       "      <th>1052</th>\n",
       "      <td>rougher.state.floatbank10_c_level</td>\n",
       "      <td>rougher.state.floatbank10_d_level</td>\n",
       "      <td>0.99</td>\n",
       "    </tr>\n",
       "    <tr>\n",
       "      <th>1087</th>\n",
       "      <td>rougher.state.floatbank10_b_level</td>\n",
       "      <td>rougher.state.floatbank10_d_level</td>\n",
       "      <td>0.98</td>\n",
       "    </tr>\n",
       "    <tr>\n",
       "      <th>1990</th>\n",
       "      <td>rougher.input.floatbank10_sulfate</td>\n",
       "      <td>rougher.input.floatbank11_sulfate</td>\n",
       "      <td>0.99</td>\n",
       "    </tr>\n",
       "    <tr>\n",
       "      <th>2113</th>\n",
       "      <td>rougher.input.floatbank10_xanthate</td>\n",
       "      <td>rougher.input.floatbank11_xanthate</td>\n",
       "      <td>0.97</td>\n",
       "    </tr>\n",
       "    <tr>\n",
       "      <th>2196</th>\n",
       "      <td>rougher.state.floatbank10_c_level</td>\n",
       "      <td>rougher.state.floatbank10_e_level</td>\n",
       "      <td>0.98</td>\n",
       "    </tr>\n",
       "    <tr>\n",
       "      <th>2204</th>\n",
       "      <td>rougher.state.floatbank10_d_level</td>\n",
       "      <td>rougher.state.floatbank10_e_level</td>\n",
       "      <td>0.98</td>\n",
       "    </tr>\n",
       "    <tr>\n",
       "      <th>2231</th>\n",
       "      <td>rougher.state.floatbank10_b_level</td>\n",
       "      <td>rougher.state.floatbank10_e_level</td>\n",
       "      <td>0.96</td>\n",
       "    </tr>\n",
       "    <tr>\n",
       "      <th>2503</th>\n",
       "      <td>primary_cleaner.state.floatbank8_b_air</td>\n",
       "      <td>primary_cleaner.state.floatbank8_c_air</td>\n",
       "      <td>0.96</td>\n",
       "    </tr>\n",
       "  </tbody>\n",
       "</table>\n",
       "</div>"
      ],
      "text/plain": [
       "                                         index  \\\n",
       "12           rougher.state.floatbank10_c_level   \n",
       "20           rougher.state.floatbank10_d_level   \n",
       "42           rougher.state.floatbank10_e_level   \n",
       "47           rougher.state.floatbank10_b_level   \n",
       "369     primary_cleaner.state.floatbank8_a_air   \n",
       "481   primary_cleaner.state.floatbank8_a_level   \n",
       "671          rougher.state.floatbank10_b_level   \n",
       "997   primary_cleaner.state.floatbank8_b_level   \n",
       "1001  primary_cleaner.state.floatbank8_a_level   \n",
       "1052         rougher.state.floatbank10_c_level   \n",
       "1087         rougher.state.floatbank10_b_level   \n",
       "1990         rougher.input.floatbank10_sulfate   \n",
       "2113        rougher.input.floatbank10_xanthate   \n",
       "2196         rougher.state.floatbank10_c_level   \n",
       "2204         rougher.state.floatbank10_d_level   \n",
       "2231         rougher.state.floatbank10_b_level   \n",
       "2503    primary_cleaner.state.floatbank8_b_air   \n",
       "\n",
       "                                       index_2  value  \n",
       "12           rougher.state.floatbank10_f_level   0.97  \n",
       "20           rougher.state.floatbank10_f_level   0.97  \n",
       "42           rougher.state.floatbank10_f_level   0.99  \n",
       "47           rougher.state.floatbank10_f_level   0.96  \n",
       "369     primary_cleaner.state.floatbank8_b_air   0.96  \n",
       "481   primary_cleaner.state.floatbank8_b_level   0.98  \n",
       "671          rougher.state.floatbank10_c_level   0.98  \n",
       "997   primary_cleaner.state.floatbank8_c_level   0.97  \n",
       "1001  primary_cleaner.state.floatbank8_c_level   0.97  \n",
       "1052         rougher.state.floatbank10_d_level   0.99  \n",
       "1087         rougher.state.floatbank10_d_level   0.98  \n",
       "1990         rougher.input.floatbank11_sulfate   0.99  \n",
       "2113        rougher.input.floatbank11_xanthate   0.97  \n",
       "2196         rougher.state.floatbank10_e_level   0.98  \n",
       "2204         rougher.state.floatbank10_e_level   0.98  \n",
       "2231         rougher.state.floatbank10_e_level   0.96  \n",
       "2503    primary_cleaner.state.floatbank8_c_air   0.96  "
      ]
     },
     "metadata": {},
     "output_type": "display_data"
    }
   ],
   "source": [
    "corr_level = 0.95\n",
    "\n",
    "features_names = list(set(df_train.columns) - set(differences) - set(['final.output.concentrate_total', 'date',\\\n",
    "                                                                      'rougher.output.concentrate_total',\\\n",
    "                                                                      'rougher.input.feed_total',\\\n",
    "                                                                      'primary_cleaner.output.concentrate_total']))\n",
    "\n",
    "corr = df_train[features_names].corr().reset_index().melt(id_vars = ['index'], var_name = ['index_2'])\n",
    "corr = corr[(corr['value'] != 1) & (corr['value'] > corr_level) & (corr['index'] < corr['index_2'])]\n",
    "\n",
    "display(corr)"
   ]
  },
  {
   "cell_type": "markdown",
   "metadata": {},
   "source": [
    "В таблице представлены сильноскоррелированные признаки. Таким образом, признаки в одном из столбцов (например, столбец index_2) можно удалить, уменьшив корреляционную связь."
   ]
  },
  {
   "cell_type": "code",
   "execution_count": 28,
   "metadata": {},
   "outputs": [
    {
     "name": "stdout",
     "output_type": "stream",
     "text": [
      "Было признаков: 52\n",
      "Осталось признаков: 42\n"
     ]
    }
   ],
   "source": [
    "print('Было признаков:', len(features_names))\n",
    "features_names = list(set(features_names) - set(corr['index_2']))\n",
    "print('Осталось признаков:', len(features_names))"
   ]
  },
  {
   "cell_type": "markdown",
   "metadata": {},
   "source": [
    "### Вывод"
   ]
  },
  {
   "cell_type": "markdown",
   "metadata": {},
   "source": [
    "- В среднем, **концентрация золота с каждым этапом значительно растет** (от 8% до почти половины!). Концентрация свинца - также растет, но не настолько стремительно (с 3.6% до 10%). Концентрация серебра, в среднем, имеет максимум на стадии после флотации, а потом снижается и становится даже меньше начальной.\n",
    "\n",
    "\n",
    "- Значительный вклад в суммарную концентрацию вносит золото.\n",
    "\n",
    "\n",
    "- Гистограммы хорошо иллюстрируют, как уменьшается разброс концентрации с каждым этапом (гистограмма становится всё тоньше) - концентрация стремится к среднему значению. Также **можно заметить пики концентрации в районе нулевых значений**. Это может служить поводом для разговора с тем, кто понимает технологический процесс лучше. **Возможно, это сбой в работе приборов или их поломка**. Нули в концентрациях могут ухудшать работу модели, так как в формуле Recovery в знаменателе может получиться 0. Стоит ли удалять нулевые концентрации - так же тема для разговора о целях бизнеса. Если выбросы будут появляться в процессе работы модели, то модель должна с ними как-то справляться на реальных данных. **Принято решение не удалять нулевые выбросы в концентрациях до разговора с заказчиком.**\n",
    "\n",
    "\n",
    "- Чаще всего встречаются зерна размером не больше 100. Однако, выбросы могут быть важны для модели (насчёт этого момента тоже стоит поговорить с заказчиком - насколько это нормальное явление).\n",
    "\n",
    "\n",
    "- Визуально распределения размеров зерен в обучающей и тестовой выборке похожи (близки к нормальным). Однако, тестовая выборка немного смещена влево. Провели ttest. Для выбранного уровня значимости отвергаем нулевую гипотезу, что средние размеры гранул равны. Это может ухудшить точность модели.\n",
    "\n",
    "\n",
    "- Удалили те признаки, которых нет в тестовой выборке. Проверили признаки на мультиколлинеарность и удалили сильнокоррелирующие."
   ]
  },
  {
   "cell_type": "markdown",
   "metadata": {},
   "source": [
    "## Модель"
   ]
  },
  {
   "cell_type": "markdown",
   "metadata": {},
   "source": [
    "Для оценки качества модели нам понадобится метрика sMAPE и итоговая sMAPE, которые можно найти по формулам:\n",
    "\n",
    "\n",
    "<div style=\"font-size: 20px\">\n",
    "\n",
    "$sMAPE = \\frac{1}{N} \\sum\\limits_{i=1}^n \\frac{\\left | y_i - \\widehat{y_i} \\right |}{\\left ( \\left | y_i \\right | + \\left |\\widehat{y_i} \\right | \\right ) / 2} \\times 100\\% $\n",
    "    \n",
    "    \n",
    "    \n",
    "$ \\begin{matrix} Итоговое\\\\ sMAPE \\end{matrix} =  25\\% \\times sMAPE_{rougher} + 75\\% \\times sMAPE_{final} $\n",
    "    \n",
    "</div >   \n",
    "\n",
    "Напишем функции, вычисляющие sMAPE и итоговую sMAPE."
   ]
  },
  {
   "cell_type": "code",
   "execution_count": 29,
   "metadata": {},
   "outputs": [],
   "source": [
    "def smape(target, preds):\n",
    "    return 1/len(target) * np.sum(np.abs(preds-target) / ((np.abs(target) + np.abs(preds))/2)) * 100"
   ]
  },
  {
   "cell_type": "code",
   "execution_count": 30,
   "metadata": {},
   "outputs": [],
   "source": [
    "smape_score = make_scorer(smape, greater_is_better=False)"
   ]
  },
  {
   "cell_type": "code",
   "execution_count": 31,
   "metadata": {},
   "outputs": [],
   "source": [
    "def smape_total(smape_rougher, smape_final):\n",
    "    \"\"\"\n",
    "    Считает итоговую метрику sMAPE.\n",
    "    \"\"\"\n",
    "    smape_total = 0.25 * smape_rougher + 0.75 * smape_final\n",
    "    return smape_total"
   ]
  },
  {
   "cell_type": "markdown",
   "metadata": {},
   "source": [
    "Разделим признаки в зависимости от стадии: rougher или final."
   ]
  },
  {
   "cell_type": "code",
   "execution_count": 32,
   "metadata": {},
   "outputs": [
    {
     "data": {
      "text/plain": [
       "['rougher.state.floatbank10_d_air',\n",
       " 'rougher.state.floatbank10_c_air',\n",
       " 'rougher.input.floatbank10_xanthate',\n",
       " 'rougher.input.feed_pb',\n",
       " 'rougher.input.feed_au',\n",
       " 'rougher.input.floatbank10_sulfate',\n",
       " 'rougher.input.feed_sol',\n",
       " 'rougher.state.floatbank10_a_air',\n",
       " 'rougher.state.floatbank10_a_level',\n",
       " 'rougher.input.feed_ag',\n",
       " 'rougher.state.floatbank10_b_air',\n",
       " 'rougher.state.floatbank10_b_level',\n",
       " 'rougher.input.feed_rate',\n",
       " 'rougher.input.feed_size',\n",
       " 'rougher.state.floatbank10_f_air',\n",
       " 'rougher.state.floatbank10_e_air']"
      ]
     },
     "metadata": {},
     "output_type": "display_data"
    }
   ],
   "source": [
    "features_rougher_names = list(set(pd.Series(features_names)[pd.Series(features_names).str.startswith('rougher')]))\n",
    "display(features_rougher_names)"
   ]
  },
  {
   "cell_type": "code",
   "execution_count": 33,
   "metadata": {},
   "outputs": [
    {
     "data": {
      "text/plain": [
       "['secondary_cleaner.state.floatbank5_a_air',\n",
       " 'secondary_cleaner.state.floatbank5_b_air',\n",
       " 'secondary_cleaner.state.floatbank4_a_level',\n",
       " 'primary_cleaner.state.floatbank8_a_air',\n",
       " 'primary_cleaner.state.floatbank8_d_air',\n",
       " 'primary_cleaner.state.floatbank8_a_level',\n",
       " 'secondary_cleaner.state.floatbank3_b_level',\n",
       " 'primary_cleaner.input.sulfate',\n",
       " 'secondary_cleaner.state.floatbank3_b_air',\n",
       " 'primary_cleaner.input.feed_size',\n",
       " 'secondary_cleaner.state.floatbank5_b_level',\n",
       " 'secondary_cleaner.state.floatbank4_b_air',\n",
       " 'secondary_cleaner.state.floatbank3_a_level',\n",
       " 'secondary_cleaner.state.floatbank3_a_air',\n",
       " 'secondary_cleaner.state.floatbank6_a_level',\n",
       " 'primary_cleaner.input.xanthate',\n",
       " 'secondary_cleaner.state.floatbank2_a_level',\n",
       " 'secondary_cleaner.state.floatbank2_b_air',\n",
       " 'primary_cleaner.state.floatbank8_d_level',\n",
       " 'primary_cleaner.input.depressant',\n",
       " 'secondary_cleaner.state.floatbank2_a_air',\n",
       " 'secondary_cleaner.state.floatbank4_a_air',\n",
       " 'secondary_cleaner.state.floatbank5_a_level',\n",
       " 'secondary_cleaner.state.floatbank4_b_level',\n",
       " 'secondary_cleaner.state.floatbank2_b_level',\n",
       " 'secondary_cleaner.state.floatbank6_a_air']"
      ]
     },
     "metadata": {},
     "output_type": "display_data"
    }
   ],
   "source": [
    "features_final_names = list(set(features_names) - set(features_rougher_names))\n",
    "display(features_final_names)"
   ]
  },
  {
   "cell_type": "code",
   "execution_count": 34,
   "metadata": {},
   "outputs": [],
   "source": [
    "features_rougher_train = df_train[features_rougher_names]\n",
    "features_final_train = df_train[features_final_names]\n",
    "target_rougher_train = df_train['rougher.output.recovery']\n",
    "target_final_train = df_train['final.output.recovery']"
   ]
  },
  {
   "cell_type": "markdown",
   "metadata": {},
   "source": [
    "Выделим фичи и целевые признаки для тестовой выборки."
   ]
  },
  {
   "cell_type": "code",
   "execution_count": 35,
   "metadata": {},
   "outputs": [
    {
     "ename": "KeyError",
     "evalue": "\"[Timestamp('2016-09-04 04:59:59'), Timestamp('2016-09-04 05:59:59'), Timestamp('2016-09-12 02:59:59'), Timestamp('2016-09-14 17:59:59'), Timestamp('2016-09-14 18:59:59'), Timestamp('2016-10-17 15:59:59'), Timestamp('2016-10-23 13:59:59'), Timestamp('2016-10-23 14:59:59'), Timestamp('2016-10-28 21:59:59'), Timestamp('2016-11-01 18:59:59'), Timestamp('2016-11-06 12:59:59'), Timestamp('2016-11-06 15:59:59'), Timestamp('2016-11-06 16:59:59'), Timestamp('2016-11-06 17:59:59'), Timestamp('2016-11-06 18:59:59'), Timestamp('2016-11-06 19:59:59'), Timestamp('2016-11-10 23:59:59'), Timestamp('2016-11-26 19:59:59'), Timestamp('2016-11-27 08:59:59'), Timestamp('2016-12-28 11:59:59'), Timestamp('2016-12-28 12:59:59'), Timestamp('2016-12-28 13:59:59'), Timestamp('2016-12-28 23:59:59'), Timestamp('2016-12-29 00:59:59'), Timestamp('2016-12-29 20:59:59'), Timestamp('2016-12-29 21:59:59'), Timestamp('2016-12-29 22:59:59'), Timestamp('2017-09-02 22:59:59'), Timestamp('2017-09-02 23:59:59'), Timestamp('2017-09-03 00:59:59'), Timestamp('2017-09-03 01:59:59'), Timestamp('2017-09-03 02:59:59'), Timestamp('2017-09-03 03:59:59'), Timestamp('2017-09-03 04:59:59'), Timestamp('2017-09-03 05:59:59'), Timestamp('2017-09-03 06:59:59'), Timestamp('2017-09-03 07:59:59'), Timestamp('2017-09-03 08:59:59'), Timestamp('2017-09-03 09:59:59'), Timestamp('2017-09-03 10:59:59'), Timestamp('2017-09-03 11:59:59'), Timestamp('2017-09-03 12:59:59'), Timestamp('2017-09-03 13:59:59'), Timestamp('2017-09-03 14:59:59'), Timestamp('2017-09-03 15:59:59'), Timestamp('2017-09-03 16:59:59'), Timestamp('2017-09-03 17:59:59'), Timestamp('2017-09-03 18:59:59'), Timestamp('2017-09-03 19:59:59'), Timestamp('2017-09-03 20:59:59'), Timestamp('2017-09-03 21:59:59'), Timestamp('2017-09-03 22:59:59'), Timestamp('2017-09-03 23:59:59'), Timestamp('2017-09-04 00:59:59'), Timestamp('2017-09-04 01:59:59'), Timestamp('2017-09-04 02:59:59'), Timestamp('2017-09-04 03:59:59'), Timestamp('2017-09-04 04:59:59'), Timestamp('2017-09-04 05:59:59'), Timestamp('2017-09-04 06:59:59'), Timestamp('2017-09-07 19:59:59'), Timestamp('2017-09-07 21:59:59'), Timestamp('2017-09-07 22:59:59'), Timestamp('2017-09-07 23:59:59'), Timestamp('2017-09-08 00:59:59'), Timestamp('2017-09-08 01:59:59'), Timestamp('2017-09-08 02:59:59'), Timestamp('2017-09-08 03:59:59'), Timestamp('2017-09-08 04:59:59'), Timestamp('2017-09-14 10:59:59'), Timestamp('2017-09-14 11:59:59'), Timestamp('2017-09-14 17:59:59'), Timestamp('2017-09-14 18:59:59'), Timestamp('2017-09-17 12:59:59'), Timestamp('2017-09-19 19:59:59'), Timestamp('2017-09-19 20:59:59'), Timestamp('2017-09-19 21:59:59'), Timestamp('2017-09-22 19:59:59'), Timestamp('2017-09-23 02:59:59'), Timestamp('2017-09-23 03:59:59'), Timestamp('2017-09-25 02:59:59'), Timestamp('2017-09-26 13:59:59'), Timestamp('2017-09-27 03:59:59'), Timestamp('2017-09-27 04:59:59'), Timestamp('2017-09-27 05:59:59'), Timestamp('2017-09-27 06:59:59'), Timestamp('2017-09-27 07:59:59'), Timestamp('2017-09-27 08:59:59'), Timestamp('2017-09-27 09:59:59'), Timestamp('2017-09-27 10:59:59'), Timestamp('2017-09-27 11:59:59'), Timestamp('2017-09-27 12:59:59'), Timestamp('2017-09-27 13:59:59'), Timestamp('2017-09-27 16:59:59'), Timestamp('2017-09-27 17:59:59'), Timestamp('2017-10-04 11:59:59'), Timestamp('2017-10-05 06:59:59'), Timestamp('2017-10-05 07:59:59'), Timestamp('2017-10-05 08:59:59'), Timestamp('2017-10-07 05:59:59'), Timestamp('2017-10-07 06:59:59'), Timestamp('2017-10-09 07:59:59'), Timestamp('2017-10-11 18:59:59'), Timestamp('2017-10-11 19:59:59'), Timestamp('2017-10-11 20:59:59'), Timestamp('2017-10-12 14:59:59'), Timestamp('2017-10-12 16:59:59'), Timestamp('2017-10-12 17:59:59'), Timestamp('2017-10-12 22:59:59'), Timestamp('2017-10-12 23:59:59'), Timestamp('2017-10-13 12:59:59'), Timestamp('2017-10-13 13:59:59'), Timestamp('2017-10-13 14:59:59'), Timestamp('2017-10-13 15:59:59'), Timestamp('2017-10-17 22:59:59'), Timestamp('2017-10-17 23:59:59'), Timestamp('2017-10-25 16:59:59'), Timestamp('2017-11-03 07:59:59'), Timestamp('2017-11-05 03:59:59'), Timestamp('2017-11-06 13:59:59'), Timestamp('2017-11-06 14:59:59'), Timestamp('2017-11-07 22:59:59'), Timestamp('2017-11-12 13:59:59'), Timestamp('2017-11-12 14:59:59'), Timestamp('2017-11-12 15:59:59'), Timestamp('2017-11-12 16:59:59'), Timestamp('2017-11-12 17:59:59'), Timestamp('2017-11-12 18:59:59'), Timestamp('2017-11-12 19:59:59'), Timestamp('2017-11-12 22:59:59'), Timestamp('2017-11-22 12:59:59'), Timestamp('2017-11-30 01:59:59'), Timestamp('2017-12-02 07:59:59'), Timestamp('2017-12-04 19:59:59'), Timestamp('2017-12-05 23:59:59'), Timestamp('2017-12-12 02:59:59'), Timestamp('2017-12-12 05:59:59'), Timestamp('2017-12-13 16:59:59'), Timestamp('2017-12-13 17:59:59'), Timestamp('2017-12-15 05:59:59'), Timestamp('2017-12-15 06:59:59'), Timestamp('2017-12-15 09:59:59'), Timestamp('2017-12-15 10:59:59'), Timestamp('2017-12-15 11:59:59'), Timestamp('2017-12-15 12:59:59'), Timestamp('2017-12-17 08:59:59'), Timestamp('2017-12-17 11:59:59'), Timestamp('2017-12-17 12:59:59'), Timestamp('2017-12-17 13:59:59'), Timestamp('2017-12-17 14:59:59'), Timestamp('2017-12-26 18:59:59'), Timestamp('2017-12-26 19:59:59')] not in index\"",
     "output_type": "error",
     "traceback": [
      "\u001b[1;31m---------------------------------------------------------------------------\u001b[0m",
      "\u001b[1;31mKeyError\u001b[0m                                  Traceback (most recent call last)",
      "\u001b[1;32m~\\AppData\\Local\\Temp/ipykernel_28972/1929400161.py\u001b[0m in \u001b[0;36m<module>\u001b[1;34m\u001b[0m\n\u001b[0;32m      2\u001b[0m \u001b[0mfeatures_final_test\u001b[0m \u001b[1;33m=\u001b[0m \u001b[0mdf_test\u001b[0m\u001b[1;33m[\u001b[0m\u001b[0mfeatures_final_names\u001b[0m\u001b[1;33m]\u001b[0m\u001b[1;33m\u001b[0m\u001b[1;33m\u001b[0m\u001b[0m\n\u001b[0;32m      3\u001b[0m \u001b[1;33m\u001b[0m\u001b[0m\n\u001b[1;32m----> 4\u001b[1;33m \u001b[0mtargets\u001b[0m \u001b[1;33m=\u001b[0m \u001b[0mdf_full\u001b[0m\u001b[1;33m.\u001b[0m\u001b[0mloc\u001b[0m\u001b[1;33m[\u001b[0m\u001b[0mdf_test\u001b[0m\u001b[1;33m.\u001b[0m\u001b[0mindex\u001b[0m\u001b[1;33m,\u001b[0m \u001b[1;33m[\u001b[0m\u001b[1;34m'rougher.output.recovery'\u001b[0m\u001b[1;33m,\u001b[0m \u001b[1;34m'final.output.recovery'\u001b[0m\u001b[1;33m]\u001b[0m\u001b[1;33m]\u001b[0m\u001b[1;33m\u001b[0m\u001b[1;33m\u001b[0m\u001b[0m\n\u001b[0m\u001b[0;32m      5\u001b[0m \u001b[1;31m#display(targets.info())\u001b[0m\u001b[1;33m\u001b[0m\u001b[1;33m\u001b[0m\u001b[1;33m\u001b[0m\u001b[0m\n\u001b[0;32m      6\u001b[0m \u001b[0mtargets\u001b[0m\u001b[1;33m.\u001b[0m\u001b[0mdropna\u001b[0m\u001b[1;33m(\u001b[0m\u001b[0minplace\u001b[0m\u001b[1;33m=\u001b[0m\u001b[1;32mTrue\u001b[0m\u001b[1;33m)\u001b[0m \u001b[1;31m# нашли пропуски, удалим их\u001b[0m\u001b[1;33m\u001b[0m\u001b[1;33m\u001b[0m\u001b[0m\n",
      "\u001b[1;32mc:\\users\\admin\\miniconda3\\lib\\site-packages\\pandas\\core\\indexing.py\u001b[0m in \u001b[0;36m__getitem__\u001b[1;34m(self, key)\u001b[0m\n\u001b[0;32m    923\u001b[0m                 \u001b[1;32mwith\u001b[0m \u001b[0msuppress\u001b[0m\u001b[1;33m(\u001b[0m\u001b[0mKeyError\u001b[0m\u001b[1;33m,\u001b[0m \u001b[0mIndexError\u001b[0m\u001b[1;33m)\u001b[0m\u001b[1;33m:\u001b[0m\u001b[1;33m\u001b[0m\u001b[1;33m\u001b[0m\u001b[0m\n\u001b[0;32m    924\u001b[0m                     \u001b[1;32mreturn\u001b[0m \u001b[0mself\u001b[0m\u001b[1;33m.\u001b[0m\u001b[0mobj\u001b[0m\u001b[1;33m.\u001b[0m\u001b[0m_get_value\u001b[0m\u001b[1;33m(\u001b[0m\u001b[1;33m*\u001b[0m\u001b[0mkey\u001b[0m\u001b[1;33m,\u001b[0m \u001b[0mtakeable\u001b[0m\u001b[1;33m=\u001b[0m\u001b[0mself\u001b[0m\u001b[1;33m.\u001b[0m\u001b[0m_takeable\u001b[0m\u001b[1;33m)\u001b[0m\u001b[1;33m\u001b[0m\u001b[1;33m\u001b[0m\u001b[0m\n\u001b[1;32m--> 925\u001b[1;33m             \u001b[1;32mreturn\u001b[0m \u001b[0mself\u001b[0m\u001b[1;33m.\u001b[0m\u001b[0m_getitem_tuple\u001b[0m\u001b[1;33m(\u001b[0m\u001b[0mkey\u001b[0m\u001b[1;33m)\u001b[0m\u001b[1;33m\u001b[0m\u001b[1;33m\u001b[0m\u001b[0m\n\u001b[0m\u001b[0;32m    926\u001b[0m         \u001b[1;32melse\u001b[0m\u001b[1;33m:\u001b[0m\u001b[1;33m\u001b[0m\u001b[1;33m\u001b[0m\u001b[0m\n\u001b[0;32m    927\u001b[0m             \u001b[1;31m# we by definition only have the 0th axis\u001b[0m\u001b[1;33m\u001b[0m\u001b[1;33m\u001b[0m\u001b[1;33m\u001b[0m\u001b[0m\n",
      "\u001b[1;32mc:\\users\\admin\\miniconda3\\lib\\site-packages\\pandas\\core\\indexing.py\u001b[0m in \u001b[0;36m_getitem_tuple\u001b[1;34m(self, tup)\u001b[0m\n\u001b[0;32m   1105\u001b[0m         \u001b[1;31m# ugly hack for GH #836\u001b[0m\u001b[1;33m\u001b[0m\u001b[1;33m\u001b[0m\u001b[1;33m\u001b[0m\u001b[0m\n\u001b[0;32m   1106\u001b[0m         \u001b[1;32mif\u001b[0m \u001b[0mself\u001b[0m\u001b[1;33m.\u001b[0m\u001b[0m_multi_take_opportunity\u001b[0m\u001b[1;33m(\u001b[0m\u001b[0mtup\u001b[0m\u001b[1;33m)\u001b[0m\u001b[1;33m:\u001b[0m\u001b[1;33m\u001b[0m\u001b[1;33m\u001b[0m\u001b[0m\n\u001b[1;32m-> 1107\u001b[1;33m             \u001b[1;32mreturn\u001b[0m \u001b[0mself\u001b[0m\u001b[1;33m.\u001b[0m\u001b[0m_multi_take\u001b[0m\u001b[1;33m(\u001b[0m\u001b[0mtup\u001b[0m\u001b[1;33m)\u001b[0m\u001b[1;33m\u001b[0m\u001b[1;33m\u001b[0m\u001b[0m\n\u001b[0m\u001b[0;32m   1108\u001b[0m \u001b[1;33m\u001b[0m\u001b[0m\n\u001b[0;32m   1109\u001b[0m         \u001b[1;32mreturn\u001b[0m \u001b[0mself\u001b[0m\u001b[1;33m.\u001b[0m\u001b[0m_getitem_tuple_same_dim\u001b[0m\u001b[1;33m(\u001b[0m\u001b[0mtup\u001b[0m\u001b[1;33m)\u001b[0m\u001b[1;33m\u001b[0m\u001b[1;33m\u001b[0m\u001b[0m\n",
      "\u001b[1;32mc:\\users\\admin\\miniconda3\\lib\\site-packages\\pandas\\core\\indexing.py\u001b[0m in \u001b[0;36m_multi_take\u001b[1;34m(self, tup)\u001b[0m\n\u001b[0;32m   1057\u001b[0m         \"\"\"\n\u001b[0;32m   1058\u001b[0m         \u001b[1;31m# GH 836\u001b[0m\u001b[1;33m\u001b[0m\u001b[1;33m\u001b[0m\u001b[1;33m\u001b[0m\u001b[0m\n\u001b[1;32m-> 1059\u001b[1;33m         d = {\n\u001b[0m\u001b[0;32m   1060\u001b[0m             \u001b[0maxis\u001b[0m\u001b[1;33m:\u001b[0m \u001b[0mself\u001b[0m\u001b[1;33m.\u001b[0m\u001b[0m_get_listlike_indexer\u001b[0m\u001b[1;33m(\u001b[0m\u001b[0mkey\u001b[0m\u001b[1;33m,\u001b[0m \u001b[0maxis\u001b[0m\u001b[1;33m)\u001b[0m\u001b[1;33m\u001b[0m\u001b[1;33m\u001b[0m\u001b[0m\n\u001b[0;32m   1061\u001b[0m             \u001b[1;32mfor\u001b[0m \u001b[1;33m(\u001b[0m\u001b[0mkey\u001b[0m\u001b[1;33m,\u001b[0m \u001b[0maxis\u001b[0m\u001b[1;33m)\u001b[0m \u001b[1;32min\u001b[0m \u001b[0mzip\u001b[0m\u001b[1;33m(\u001b[0m\u001b[0mtup\u001b[0m\u001b[1;33m,\u001b[0m \u001b[0mself\u001b[0m\u001b[1;33m.\u001b[0m\u001b[0mobj\u001b[0m\u001b[1;33m.\u001b[0m\u001b[0m_AXIS_ORDERS\u001b[0m\u001b[1;33m)\u001b[0m\u001b[1;33m\u001b[0m\u001b[1;33m\u001b[0m\u001b[0m\n",
      "\u001b[1;32mc:\\users\\admin\\miniconda3\\lib\\site-packages\\pandas\\core\\indexing.py\u001b[0m in \u001b[0;36m<dictcomp>\u001b[1;34m(.0)\u001b[0m\n\u001b[0;32m   1058\u001b[0m         \u001b[1;31m# GH 836\u001b[0m\u001b[1;33m\u001b[0m\u001b[1;33m\u001b[0m\u001b[1;33m\u001b[0m\u001b[0m\n\u001b[0;32m   1059\u001b[0m         d = {\n\u001b[1;32m-> 1060\u001b[1;33m             \u001b[0maxis\u001b[0m\u001b[1;33m:\u001b[0m \u001b[0mself\u001b[0m\u001b[1;33m.\u001b[0m\u001b[0m_get_listlike_indexer\u001b[0m\u001b[1;33m(\u001b[0m\u001b[0mkey\u001b[0m\u001b[1;33m,\u001b[0m \u001b[0maxis\u001b[0m\u001b[1;33m)\u001b[0m\u001b[1;33m\u001b[0m\u001b[1;33m\u001b[0m\u001b[0m\n\u001b[0m\u001b[0;32m   1061\u001b[0m             \u001b[1;32mfor\u001b[0m \u001b[1;33m(\u001b[0m\u001b[0mkey\u001b[0m\u001b[1;33m,\u001b[0m \u001b[0maxis\u001b[0m\u001b[1;33m)\u001b[0m \u001b[1;32min\u001b[0m \u001b[0mzip\u001b[0m\u001b[1;33m(\u001b[0m\u001b[0mtup\u001b[0m\u001b[1;33m,\u001b[0m \u001b[0mself\u001b[0m\u001b[1;33m.\u001b[0m\u001b[0mobj\u001b[0m\u001b[1;33m.\u001b[0m\u001b[0m_AXIS_ORDERS\u001b[0m\u001b[1;33m)\u001b[0m\u001b[1;33m\u001b[0m\u001b[1;33m\u001b[0m\u001b[0m\n\u001b[0;32m   1062\u001b[0m         }\n",
      "\u001b[1;32mc:\\users\\admin\\miniconda3\\lib\\site-packages\\pandas\\core\\indexing.py\u001b[0m in \u001b[0;36m_get_listlike_indexer\u001b[1;34m(self, key, axis)\u001b[0m\n\u001b[0;32m   1312\u001b[0m             \u001b[0mkeyarr\u001b[0m\u001b[1;33m,\u001b[0m \u001b[0mindexer\u001b[0m\u001b[1;33m,\u001b[0m \u001b[0mnew_indexer\u001b[0m \u001b[1;33m=\u001b[0m \u001b[0max\u001b[0m\u001b[1;33m.\u001b[0m\u001b[0m_reindex_non_unique\u001b[0m\u001b[1;33m(\u001b[0m\u001b[0mkeyarr\u001b[0m\u001b[1;33m)\u001b[0m\u001b[1;33m\u001b[0m\u001b[1;33m\u001b[0m\u001b[0m\n\u001b[0;32m   1313\u001b[0m \u001b[1;33m\u001b[0m\u001b[0m\n\u001b[1;32m-> 1314\u001b[1;33m         \u001b[0mself\u001b[0m\u001b[1;33m.\u001b[0m\u001b[0m_validate_read_indexer\u001b[0m\u001b[1;33m(\u001b[0m\u001b[0mkeyarr\u001b[0m\u001b[1;33m,\u001b[0m \u001b[0mindexer\u001b[0m\u001b[1;33m,\u001b[0m \u001b[0maxis\u001b[0m\u001b[1;33m)\u001b[0m\u001b[1;33m\u001b[0m\u001b[1;33m\u001b[0m\u001b[0m\n\u001b[0m\u001b[0;32m   1315\u001b[0m \u001b[1;33m\u001b[0m\u001b[0m\n\u001b[0;32m   1316\u001b[0m         if needs_i8_conversion(ax.dtype) or isinstance(\n",
      "\u001b[1;32mc:\\users\\admin\\miniconda3\\lib\\site-packages\\pandas\\core\\indexing.py\u001b[0m in \u001b[0;36m_validate_read_indexer\u001b[1;34m(self, key, indexer, axis)\u001b[0m\n\u001b[0;32m   1375\u001b[0m \u001b[1;33m\u001b[0m\u001b[0m\n\u001b[0;32m   1376\u001b[0m             \u001b[0mnot_found\u001b[0m \u001b[1;33m=\u001b[0m \u001b[0mlist\u001b[0m\u001b[1;33m(\u001b[0m\u001b[0mensure_index\u001b[0m\u001b[1;33m(\u001b[0m\u001b[0mkey\u001b[0m\u001b[1;33m)\u001b[0m\u001b[1;33m[\u001b[0m\u001b[0mmissing_mask\u001b[0m\u001b[1;33m.\u001b[0m\u001b[0mnonzero\u001b[0m\u001b[1;33m(\u001b[0m\u001b[1;33m)\u001b[0m\u001b[1;33m[\u001b[0m\u001b[1;36m0\u001b[0m\u001b[1;33m]\u001b[0m\u001b[1;33m]\u001b[0m\u001b[1;33m.\u001b[0m\u001b[0munique\u001b[0m\u001b[1;33m(\u001b[0m\u001b[1;33m)\u001b[0m\u001b[1;33m)\u001b[0m\u001b[1;33m\u001b[0m\u001b[1;33m\u001b[0m\u001b[0m\n\u001b[1;32m-> 1377\u001b[1;33m             \u001b[1;32mraise\u001b[0m \u001b[0mKeyError\u001b[0m\u001b[1;33m(\u001b[0m\u001b[1;34mf\"{not_found} not in index\"\u001b[0m\u001b[1;33m)\u001b[0m\u001b[1;33m\u001b[0m\u001b[1;33m\u001b[0m\u001b[0m\n\u001b[0m\u001b[0;32m   1378\u001b[0m \u001b[1;33m\u001b[0m\u001b[0m\n\u001b[0;32m   1379\u001b[0m \u001b[1;33m\u001b[0m\u001b[0m\n",
      "\u001b[1;31mKeyError\u001b[0m: \"[Timestamp('2016-09-04 04:59:59'), Timestamp('2016-09-04 05:59:59'), Timestamp('2016-09-12 02:59:59'), Timestamp('2016-09-14 17:59:59'), Timestamp('2016-09-14 18:59:59'), Timestamp('2016-10-17 15:59:59'), Timestamp('2016-10-23 13:59:59'), Timestamp('2016-10-23 14:59:59'), Timestamp('2016-10-28 21:59:59'), Timestamp('2016-11-01 18:59:59'), Timestamp('2016-11-06 12:59:59'), Timestamp('2016-11-06 15:59:59'), Timestamp('2016-11-06 16:59:59'), Timestamp('2016-11-06 17:59:59'), Timestamp('2016-11-06 18:59:59'), Timestamp('2016-11-06 19:59:59'), Timestamp('2016-11-10 23:59:59'), Timestamp('2016-11-26 19:59:59'), Timestamp('2016-11-27 08:59:59'), Timestamp('2016-12-28 11:59:59'), Timestamp('2016-12-28 12:59:59'), Timestamp('2016-12-28 13:59:59'), Timestamp('2016-12-28 23:59:59'), Timestamp('2016-12-29 00:59:59'), Timestamp('2016-12-29 20:59:59'), Timestamp('2016-12-29 21:59:59'), Timestamp('2016-12-29 22:59:59'), Timestamp('2017-09-02 22:59:59'), Timestamp('2017-09-02 23:59:59'), Timestamp('2017-09-03 00:59:59'), Timestamp('2017-09-03 01:59:59'), Timestamp('2017-09-03 02:59:59'), Timestamp('2017-09-03 03:59:59'), Timestamp('2017-09-03 04:59:59'), Timestamp('2017-09-03 05:59:59'), Timestamp('2017-09-03 06:59:59'), Timestamp('2017-09-03 07:59:59'), Timestamp('2017-09-03 08:59:59'), Timestamp('2017-09-03 09:59:59'), Timestamp('2017-09-03 10:59:59'), Timestamp('2017-09-03 11:59:59'), Timestamp('2017-09-03 12:59:59'), Timestamp('2017-09-03 13:59:59'), Timestamp('2017-09-03 14:59:59'), Timestamp('2017-09-03 15:59:59'), Timestamp('2017-09-03 16:59:59'), Timestamp('2017-09-03 17:59:59'), Timestamp('2017-09-03 18:59:59'), Timestamp('2017-09-03 19:59:59'), Timestamp('2017-09-03 20:59:59'), Timestamp('2017-09-03 21:59:59'), Timestamp('2017-09-03 22:59:59'), Timestamp('2017-09-03 23:59:59'), Timestamp('2017-09-04 00:59:59'), Timestamp('2017-09-04 01:59:59'), Timestamp('2017-09-04 02:59:59'), Timestamp('2017-09-04 03:59:59'), Timestamp('2017-09-04 04:59:59'), Timestamp('2017-09-04 05:59:59'), Timestamp('2017-09-04 06:59:59'), Timestamp('2017-09-07 19:59:59'), Timestamp('2017-09-07 21:59:59'), Timestamp('2017-09-07 22:59:59'), Timestamp('2017-09-07 23:59:59'), Timestamp('2017-09-08 00:59:59'), Timestamp('2017-09-08 01:59:59'), Timestamp('2017-09-08 02:59:59'), Timestamp('2017-09-08 03:59:59'), Timestamp('2017-09-08 04:59:59'), Timestamp('2017-09-14 10:59:59'), Timestamp('2017-09-14 11:59:59'), Timestamp('2017-09-14 17:59:59'), Timestamp('2017-09-14 18:59:59'), Timestamp('2017-09-17 12:59:59'), Timestamp('2017-09-19 19:59:59'), Timestamp('2017-09-19 20:59:59'), Timestamp('2017-09-19 21:59:59'), Timestamp('2017-09-22 19:59:59'), Timestamp('2017-09-23 02:59:59'), Timestamp('2017-09-23 03:59:59'), Timestamp('2017-09-25 02:59:59'), Timestamp('2017-09-26 13:59:59'), Timestamp('2017-09-27 03:59:59'), Timestamp('2017-09-27 04:59:59'), Timestamp('2017-09-27 05:59:59'), Timestamp('2017-09-27 06:59:59'), Timestamp('2017-09-27 07:59:59'), Timestamp('2017-09-27 08:59:59'), Timestamp('2017-09-27 09:59:59'), Timestamp('2017-09-27 10:59:59'), Timestamp('2017-09-27 11:59:59'), Timestamp('2017-09-27 12:59:59'), Timestamp('2017-09-27 13:59:59'), Timestamp('2017-09-27 16:59:59'), Timestamp('2017-09-27 17:59:59'), Timestamp('2017-10-04 11:59:59'), Timestamp('2017-10-05 06:59:59'), Timestamp('2017-10-05 07:59:59'), Timestamp('2017-10-05 08:59:59'), Timestamp('2017-10-07 05:59:59'), Timestamp('2017-10-07 06:59:59'), Timestamp('2017-10-09 07:59:59'), Timestamp('2017-10-11 18:59:59'), Timestamp('2017-10-11 19:59:59'), Timestamp('2017-10-11 20:59:59'), Timestamp('2017-10-12 14:59:59'), Timestamp('2017-10-12 16:59:59'), Timestamp('2017-10-12 17:59:59'), Timestamp('2017-10-12 22:59:59'), Timestamp('2017-10-12 23:59:59'), Timestamp('2017-10-13 12:59:59'), Timestamp('2017-10-13 13:59:59'), Timestamp('2017-10-13 14:59:59'), Timestamp('2017-10-13 15:59:59'), Timestamp('2017-10-17 22:59:59'), Timestamp('2017-10-17 23:59:59'), Timestamp('2017-10-25 16:59:59'), Timestamp('2017-11-03 07:59:59'), Timestamp('2017-11-05 03:59:59'), Timestamp('2017-11-06 13:59:59'), Timestamp('2017-11-06 14:59:59'), Timestamp('2017-11-07 22:59:59'), Timestamp('2017-11-12 13:59:59'), Timestamp('2017-11-12 14:59:59'), Timestamp('2017-11-12 15:59:59'), Timestamp('2017-11-12 16:59:59'), Timestamp('2017-11-12 17:59:59'), Timestamp('2017-11-12 18:59:59'), Timestamp('2017-11-12 19:59:59'), Timestamp('2017-11-12 22:59:59'), Timestamp('2017-11-22 12:59:59'), Timestamp('2017-11-30 01:59:59'), Timestamp('2017-12-02 07:59:59'), Timestamp('2017-12-04 19:59:59'), Timestamp('2017-12-05 23:59:59'), Timestamp('2017-12-12 02:59:59'), Timestamp('2017-12-12 05:59:59'), Timestamp('2017-12-13 16:59:59'), Timestamp('2017-12-13 17:59:59'), Timestamp('2017-12-15 05:59:59'), Timestamp('2017-12-15 06:59:59'), Timestamp('2017-12-15 09:59:59'), Timestamp('2017-12-15 10:59:59'), Timestamp('2017-12-15 11:59:59'), Timestamp('2017-12-15 12:59:59'), Timestamp('2017-12-17 08:59:59'), Timestamp('2017-12-17 11:59:59'), Timestamp('2017-12-17 12:59:59'), Timestamp('2017-12-17 13:59:59'), Timestamp('2017-12-17 14:59:59'), Timestamp('2017-12-26 18:59:59'), Timestamp('2017-12-26 19:59:59')] not in index\""
     ]
    }
   ],
   "source": [
    "features_rougher_test = df_test[features_rougher_names]\n",
    "features_final_test = df_test[features_final_names]\n",
    "\n",
    "targets = df_full.loc[df_test.index, ['rougher.output.recovery', 'final.output.recovery']]\n",
    "#display(targets.info()) \n",
    "targets.dropna(inplace=True) # нашли пропуски, удалим их\n",
    "\n",
    "target_rougher_test = targets['rougher.output.recovery']\n",
    "target_final_test = targets['final.output.recovery']\n",
    "\n",
    "#display(targets.info())"
   ]
  },
  {
   "cell_type": "code",
   "execution_count": null,
   "metadata": {},
   "outputs": [],
   "source": [
    "features_rougher_test = features_rougher_test.loc[target_rougher_test.index]\n",
    "features_final_test = features_final_test.loc[target_final_test.index]"
   ]
  },
  {
   "cell_type": "markdown",
   "metadata": {},
   "source": [
    "Масштабируем признаки."
   ]
  },
  {
   "cell_type": "code",
   "execution_count": null,
   "metadata": {},
   "outputs": [],
   "source": [
    "def scalar_each_dataset(features_train, features_test):\n",
    "\n",
    "    scaler = StandardScaler()\n",
    "    scaler.fit(features_train)\n",
    "\n",
    "    features_train = scaler.transform(features_train).astype('float32')\n",
    "    features_test = scaler.transform(features_test).astype('float32')\n",
    "    \n",
    "    return features_train, features_test\n",
    "\n",
    "features_rougher_train, features_rougher_test = scalar_each_dataset(features_rougher_train, features_rougher_test)\n",
    "features_final_train, features_final_test = scalar_each_dataset(features_final_train, features_final_test)"
   ]
  },
  {
   "cell_type": "markdown",
   "metadata": {},
   "source": [
    "### Dummy модель"
   ]
  },
  {
   "cell_type": "markdown",
   "metadata": {},
   "source": [
    "Построим dummy-модель, с которой потом сможем сравнить наши модели."
   ]
  },
  {
   "cell_type": "code",
   "execution_count": null,
   "metadata": {},
   "outputs": [],
   "source": [
    "dummy_regr_rougher = DummyRegressor(strategy=\"mean\")\n",
    "dummy_regr_final = DummyRegressor(strategy=\"mean\")\n",
    "\n",
    "dummy_regr_rougher.fit(features_rougher_train, target_rougher_train)\n",
    "preds_dummy_rougher = dummy_regr_rougher.predict(features_rougher_test)\n",
    "smape_rougher = smape(target_rougher_test, preds_dummy_rougher)\n",
    "print('smape_dummy_rougher =', smape_rougher)\n",
    "\n",
    "dummy_regr_final.fit(features_final_train, target_final_train)\n",
    "preds_dummy_final = dummy_regr_final.predict(features_final_test)\n",
    "smape_final = smape(target_final_test, preds_dummy_final)\n",
    "print('smape_dummy_final =', smape_final)\n",
    "\n",
    "print('smape_dummy_total =', smape_total(smape_rougher, smape_final))"
   ]
  },
  {
   "cell_type": "markdown",
   "metadata": {},
   "source": [
    "### Линейная регрессия"
   ]
  },
  {
   "cell_type": "markdown",
   "metadata": {},
   "source": [
    "Обучим модели линейной регрессии для процессов флотации и очистки. "
   ]
  },
  {
   "cell_type": "code",
   "execution_count": null,
   "metadata": {},
   "outputs": [],
   "source": [
    "lr = LinearRegression()\n",
    "\n",
    "def create_model(X_train, y_train, features_names):\n",
    "    \n",
    "    hyper_params = [{'n_features_to_select': list(range(1, len(features_names) + 1))}]\n",
    "\n",
    "    lr.fit(X_train, y_train)\n",
    "    rfe = RFE(lr)             \n",
    "\n",
    "    model_cv = GridSearchCV(estimator = rfe, \n",
    "                            param_grid = hyper_params, \n",
    "                            scoring = smape_score, \n",
    "                            cv = 10, \n",
    "                            verbose = 1,\n",
    "                            return_train_score=True)      \n",
    "\n",
    "    model_cv.fit(X_train, y_train)\n",
    "    print('Лучшие параметры:', model_cv.best_params_)\n",
    "    print('sMAPE = {:.2f}'.format(np.abs(model_cv.best_score_)))\n",
    "    return model_cv.best_estimator_, np.abs(model_cv.best_score_)"
   ]
  },
  {
   "cell_type": "code",
   "execution_count": null,
   "metadata": {},
   "outputs": [],
   "source": [
    "lr_cv_rougher, smape_lr_rougher = create_model(features_rougher_train, target_rougher_train, features_rougher_names)"
   ]
  },
  {
   "cell_type": "code",
   "execution_count": null,
   "metadata": {},
   "outputs": [],
   "source": [
    "lr_cv_final, smape_lr_final = create_model(features_final_train, target_final_train, features_final_names)"
   ]
  },
  {
   "cell_type": "code",
   "execution_count": null,
   "metadata": {},
   "outputs": [],
   "source": [
    "smape_total_lr_train = smape_total(smape_lr_rougher, smape_lr_final)\n",
    "print('sMAPE_total_lr_train = {:.2f}'.format(smape_total_lr_train))"
   ]
  },
  {
   "cell_type": "markdown",
   "metadata": {},
   "source": [
    "Посмотрим результат работы моделей на тестовой выборке:"
   ]
  },
  {
   "cell_type": "code",
   "execution_count": null,
   "metadata": {},
   "outputs": [],
   "source": [
    "def get_predictions_and_smape(model_rougher, model_final, features_rougher, features_final, target_rougher, target_final):\n",
    "\n",
    "    preds_rougher = model_rougher.predict(features_rougher)\n",
    "    preds_final = model_final.predict(features_final)\n",
    "\n",
    "    smape_rougher = smape(target_rougher, preds_rougher)\n",
    "    smape_final = smape(target_final_test, preds_final)\n",
    "    smape_total_model = smape_total(smape_rougher, smape_final)\n",
    "    print('sMAPE_rougher = {:.2f}'.format(smape_rougher))\n",
    "    print('sMAPE_final = {:.2f}'.format(smape_final))\n",
    "    print('sMAPE_total = {:.2f}'.format(smape_total_model))\n",
    "    \n",
    "    return smape_rougher, smape_final, smape_total_model, preds_rougher, preds_final"
   ]
  },
  {
   "cell_type": "code",
   "execution_count": null,
   "metadata": {},
   "outputs": [],
   "source": [
    "smape_lr_rougher_test, smape_lr_final_test, smape_total_lr, preds_rougher_lr, preds_final_lr =\\\n",
    "    get_predictions_and_smape(lr_cv_rougher, lr_cv_final, features_rougher_test, features_final_test,\\\n",
    "                              target_rougher_test, target_final_test)"
   ]
  },
  {
   "cell_type": "markdown",
   "metadata": {},
   "source": [
    "### Дерево решений"
   ]
  },
  {
   "cell_type": "code",
   "execution_count": null,
   "metadata": {},
   "outputs": [],
   "source": [
    "dtr = RandomForestRegressor(random_state=12345)\n",
    "\n",
    "parameters = {\n",
    "    'max_depth' : range(1, 20, 1)\n",
    "}\n",
    "\n",
    "def find_best_model_dtr_or_rfr(X_train, y_train, model, parameters):\n",
    "    grid = GridSearchCV(model, parameters, scoring=smape_score, cv=10)\n",
    "    grid.fit(X_train, y_train)\n",
    "\n",
    "    print('Лучшие параметры:', grid.best_params_)\n",
    "    print('sMAPE = {:.2f}'.format(np.abs(grid.best_score_)))\n",
    "    return grid, np.abs(grid.best_score_)"
   ]
  },
  {
   "cell_type": "code",
   "execution_count": null,
   "metadata": {},
   "outputs": [],
   "source": [
    "grid_tree_rough, smape_dtr_rough = find_best_model_dtr_or_rfr(features_rougher_train, target_rougher_train, dtr, parameters)"
   ]
  },
  {
   "cell_type": "code",
   "execution_count": null,
   "metadata": {},
   "outputs": [],
   "source": [
    "grid_tree_final, smape_dtr_final = find_best_model_dtr_or_rfr(features_final_train, target_final_train, dtr, parameters)"
   ]
  },
  {
   "cell_type": "code",
   "execution_count": null,
   "metadata": {},
   "outputs": [],
   "source": [
    "smape_total_dtr_train = smape_total(smape_dtr_rough, smape_dtr_final)\n",
    "print('sMAPE_total_dtr_train = {:.2f}'.format(smape_total_dtr_train))"
   ]
  },
  {
   "cell_type": "markdown",
   "metadata": {},
   "source": [
    "Посмотрим результат работы моделей на тестовой выборке:"
   ]
  },
  {
   "cell_type": "code",
   "execution_count": null,
   "metadata": {},
   "outputs": [],
   "source": [
    "smape_dtr_rougher_test, smape_dtr_final_test, smape_total_dtr, preds_rougher_dtr, preds_final_dtr =\\\n",
    "    get_predictions_and_smape(grid_tree_rough, grid_tree_final, features_rougher_test, features_final_test,\\\n",
    "                              target_rougher_test, target_final_test)"
   ]
  },
  {
   "cell_type": "markdown",
   "metadata": {},
   "source": [
    "### Случайный лес"
   ]
  },
  {
   "cell_type": "code",
   "execution_count": null,
   "metadata": {
    "scrolled": true
   },
   "outputs": [],
   "source": [
    "rfr = RandomForestRegressor(random_state=12345)\n",
    "\n",
    "parameters = {\n",
    "    'n_estimators' : range(10, 60, 10),\n",
    "    'max_depth' : range(1, 20, 2)\n",
    "}\n"
   ]
  },
  {
   "cell_type": "code",
   "execution_count": null,
   "metadata": {},
   "outputs": [],
   "source": [
    "grid_forest_rough, smape_rfr_rough = find_best_model_dtr_or_rfr(features_rougher_train, target_rougher_train, rfr, parameters)"
   ]
  },
  {
   "cell_type": "code",
   "execution_count": null,
   "metadata": {
    "scrolled": true
   },
   "outputs": [],
   "source": [
    "grid_forest_final, smape_rfr_final = find_best_model_dtr_or_rfr(features_final_train, target_final_train, rfr, parameters)"
   ]
  },
  {
   "cell_type": "code",
   "execution_count": null,
   "metadata": {},
   "outputs": [],
   "source": [
    "smape_total_rfr_train = smape_total(smape_rfr_rough, smape_rfr_final)\n",
    "print('sMAPE_total_rfr_train = {:.2f}'.format(smape_total_rfr_train))"
   ]
  },
  {
   "cell_type": "markdown",
   "metadata": {},
   "source": [
    "Посмотрим результат работы моделей на тестовой выборке:"
   ]
  },
  {
   "cell_type": "code",
   "execution_count": null,
   "metadata": {},
   "outputs": [],
   "source": [
    "smape_rfr_rougher_test, smape_rfr_final_test, smape_total_rfr, preds_rougher_rfr, preds_final_rfr =\\\n",
    "    get_predictions_and_smape(grid_forest_rough, grid_forest_final, features_rougher_test, features_final_test,\\\n",
    "                              target_rougher_test, target_final_test)"
   ]
  },
  {
   "cell_type": "markdown",
   "metadata": {},
   "source": [
    "### Проверка статистической значимости различий предсказаний моделей на обучающей выборке"
   ]
  },
  {
   "cell_type": "markdown",
   "metadata": {},
   "source": [
    "Получили совсем не большую разницу в метриках, проверим эту разницу на статистическую значимость. За нулевую гипотезу примем, что средние распределений предсказанных значений равны, за альтернативную - что нет (сравним dummy со всеми моделями и модели между собой)."
   ]
  },
  {
   "cell_type": "code",
   "execution_count": null,
   "metadata": {},
   "outputs": [],
   "source": [
    "preds_dummy_rougher_train = dummy_regr_rougher.predict(features_rougher_train)\n",
    "preds_dummy_final_train = dummy_regr_final.predict(features_final_train)\n",
    "\n",
    "preds_rougher_lr_train = lr_cv_rougher.predict(features_rougher_train)\n",
    "preds_final_lr_train = lr_cv_final.predict(features_final_train)\n",
    "\n",
    "preds_rougher_dtr_train = grid_tree_rough.predict(features_rougher_train)\n",
    "preds_final_dtr_train = grid_tree_final.predict(features_final_train)\n",
    "\n",
    "preds_rougher_rfr_train = grid_forest_rough.predict(features_rougher_train)\n",
    "preds_final_rfr_train = grid_forest_final.predict(features_final_train)"
   ]
  },
  {
   "cell_type": "code",
   "execution_count": null,
   "metadata": {},
   "outputs": [],
   "source": [
    "smape_rougher_train = smape(target_rougher_train, preds_dummy_rougher_train)\n",
    "print('smape_dummy_rougher_train =', smape_rougher_train)\n",
    "\n",
    "smape_final_train = smape(target_final_train, preds_dummy_final_train)\n",
    "print('smape_dummy_final_train =', smape_final)\n",
    "\n",
    "print('smape_dummy_total_train =', smape_total(smape_rougher_train, smape_final_train))"
   ]
  },
  {
   "cell_type": "code",
   "execution_count": null,
   "metadata": {
    "scrolled": true
   },
   "outputs": [],
   "source": [
    "df_preds_rougher = [preds_dummy_rougher_train, preds_rougher_lr_train, preds_rougher_dtr_train, preds_rougher_rfr_train]\n",
    "df_preds_rougher_names = ['preds_dummy_rougher', 'preds_rougher_lr', 'preds_rougher_dtr', 'preds_rougher_rfr']\n",
    "\n",
    "df_preds_final = [preds_dummy_final_train, preds_final_lr_train, preds_final_dtr_train, preds_final_rfr_train]\n",
    "df_preds_final_names = ['preds_dummy_final', 'preds_final_lr', 'preds_final_dtr', 'preds_final_rfr']\n",
    "\n",
    "for i in range(len(df_preds_rougher) - 1):\n",
    "    for j in range(1, len(df_preds_rougher) - i):\n",
    "        print('Сравниваем', df_preds_rougher_names[i], 'и', df_preds_rougher_names[i + j])\n",
    "        print()\n",
    "        check_variance_and_test_hypothesis(df_preds_rougher[i], df_preds_rougher[i + j])\n",
    "        print('----------------------------------------------------')"
   ]
  },
  {
   "cell_type": "code",
   "execution_count": null,
   "metadata": {},
   "outputs": [],
   "source": [
    "for i in range(len(df_preds_final) - 1):\n",
    "    for j in range(1, len(df_preds_final) - i):\n",
    "        print('Сравниваем', df_preds_final_names[i], 'и', df_preds_final_names[i + j])\n",
    "        print()\n",
    "        check_variance_and_test_hypothesis(df_preds_final[i], df_preds_final[i + j])\n",
    "        print('----------------------------------------------------')"
   ]
  },
  {
   "cell_type": "markdown",
   "metadata": {},
   "source": [
    "## Общий вывод"
   ]
  },
  {
   "cell_type": "markdown",
   "metadata": {},
   "source": [
    "- В данных есть пропуски, о которых стоит поговорить с заказчиком, например, нет ли таких пропусков, которые являются нулевым значением признака?\n",
    "\n",
    "        \n",
    "- До выяснения вопросов - удалили все пропуски.\n",
    "\n",
    "\n",
    "- Проверили, что эффективность обогащения (Recovery), указанная в датасете, соответствуют посчитанным по формуле значениям.\n",
    "\n",
    "\n",
    "- Предварительный анализ показал, что можно заметить пики концентрации в районе нулевых значений. Возможно, это сбой в работе приборов или их поломка. Нули в концентрациях могут ухудшать работу модели, так как в формуле Recovery в знаменателе может получиться 0. Если выбросы будут появляться в процессе работы модели, то модель должна с ними как-то справляться на реальных данных. Принято решение не удалять нулевые выбросы в концентрациях до разговора с заказчиком.\n",
    "\n",
    "\n",
    "- Удалили те признаки, которых нет в тестовой выборке. Проверили признаки на мультиколлинеарность и удалили сильнокоррелирующие.\n",
    "\n",
    "\n",
    "- Построили dummy-модель, итоговое sMAPE которой равно 8.70.\n",
    "\n",
    "\n",
    "- Построили модели линейной регрессии, решающего дерева и случайного леса. **Наилучший результат на обучающей выборке показала модель линейной регрессии (sMAPE_total = 7.40)**. На тестовой выборке она показала худший результат среди рассмотренных моделей (sMAPE_total = 8.20), однако, лучше, чем dummy-модель (sMAPE_dummy_total = 8.70). Разница метрик посчитанных моделей - небольшая. Стоит посмотреть на статистическую значимость этой разницы (эта проверка есть, но нужны прояснения, и выводов по ней пока нет)."
   ]
  }
 ],
 "metadata": {
  "ExecuteTimeLog": [
   {
    "duration": 1424,
    "start_time": "2021-08-23T10:25:48.556Z"
   },
   {
    "duration": 485,
    "start_time": "2021-08-23T10:26:35.784Z"
   },
   {
    "duration": 4946,
    "start_time": "2021-08-23T10:28:49.357Z"
   },
   {
    "duration": 42,
    "start_time": "2021-08-23T10:29:37.982Z"
   },
   {
    "duration": 52,
    "start_time": "2021-08-23T10:29:57.619Z"
   },
   {
    "duration": 1725,
    "start_time": "2021-08-23T14:06:38.009Z"
   },
   {
    "duration": 7498,
    "start_time": "2021-08-23T14:06:39.736Z"
   },
   {
    "duration": 53,
    "start_time": "2021-08-23T14:07:15.384Z"
   },
   {
    "duration": 49,
    "start_time": "2021-08-23T14:07:35.039Z"
   },
   {
    "duration": 84,
    "start_time": "2021-08-23T14:07:41.687Z"
   },
   {
    "duration": 674,
    "start_time": "2021-08-23T14:14:51.114Z"
   },
   {
    "duration": 28,
    "start_time": "2021-08-23T14:15:08.210Z"
   },
   {
    "duration": 8,
    "start_time": "2021-08-23T14:17:08.155Z"
   },
   {
    "duration": 3156,
    "start_time": "2021-08-23T14:17:08.167Z"
   },
   {
    "duration": 57,
    "start_time": "2021-08-23T14:17:11.326Z"
   },
   {
    "duration": 42,
    "start_time": "2021-08-23T14:17:11.385Z"
   },
   {
    "duration": 51,
    "start_time": "2021-08-23T14:17:11.456Z"
   },
   {
    "duration": 28,
    "start_time": "2021-08-23T14:17:19.155Z"
   },
   {
    "duration": 6,
    "start_time": "2021-08-23T14:17:34.509Z"
   },
   {
    "duration": 2832,
    "start_time": "2021-08-23T14:17:34.517Z"
   },
   {
    "duration": 48,
    "start_time": "2021-08-23T14:17:37.352Z"
   },
   {
    "duration": 66,
    "start_time": "2021-08-23T14:17:37.402Z"
   },
   {
    "duration": 52,
    "start_time": "2021-08-23T14:17:37.471Z"
   },
   {
    "duration": 28,
    "start_time": "2021-08-23T14:17:42.121Z"
   },
   {
    "duration": 8,
    "start_time": "2021-08-23T14:23:22.945Z"
   },
   {
    "duration": 4037,
    "start_time": "2021-08-23T14:23:22.956Z"
   },
   {
    "duration": 62,
    "start_time": "2021-08-23T14:23:26.995Z"
   },
   {
    "duration": 45,
    "start_time": "2021-08-23T14:23:27.060Z"
   },
   {
    "duration": 84,
    "start_time": "2021-08-23T14:23:27.108Z"
   },
   {
    "duration": 27,
    "start_time": "2021-08-23T14:23:46.794Z"
   },
   {
    "duration": 6,
    "start_time": "2021-08-23T14:25:05.567Z"
   },
   {
    "duration": 2910,
    "start_time": "2021-08-23T14:25:05.575Z"
   },
   {
    "duration": 85,
    "start_time": "2021-08-23T14:25:08.489Z"
   },
   {
    "duration": 82,
    "start_time": "2021-08-23T14:25:08.578Z"
   },
   {
    "duration": 96,
    "start_time": "2021-08-23T14:25:08.663Z"
   },
   {
    "duration": 384,
    "start_time": "2021-08-23T14:25:16.512Z"
   },
   {
    "duration": 8,
    "start_time": "2021-08-23T15:13:12.945Z"
   },
   {
    "duration": 9,
    "start_time": "2021-08-23T15:13:27.559Z"
   },
   {
    "duration": 8,
    "start_time": "2021-08-23T15:13:41.413Z"
   },
   {
    "duration": 5,
    "start_time": "2021-08-23T15:14:02.635Z"
   },
   {
    "duration": 385,
    "start_time": "2021-08-23T15:15:59.028Z"
   },
   {
    "duration": 137,
    "start_time": "2021-08-23T15:17:01.169Z"
   },
   {
    "duration": 14,
    "start_time": "2021-08-23T15:17:05.837Z"
   },
   {
    "duration": 9,
    "start_time": "2021-08-23T15:17:47.455Z"
   },
   {
    "duration": 7,
    "start_time": "2021-08-23T15:18:05.487Z"
   },
   {
    "duration": 10,
    "start_time": "2021-08-23T15:20:07.130Z"
   },
   {
    "duration": 11,
    "start_time": "2021-08-23T15:20:16.777Z"
   },
   {
    "duration": 12,
    "start_time": "2021-08-23T15:46:07.444Z"
   },
   {
    "duration": 18,
    "start_time": "2021-08-23T15:46:25.961Z"
   },
   {
    "duration": 12,
    "start_time": "2021-08-23T15:46:41.660Z"
   },
   {
    "duration": 147,
    "start_time": "2021-08-23T15:51:44.970Z"
   },
   {
    "duration": 15,
    "start_time": "2021-08-23T15:51:49.666Z"
   },
   {
    "duration": 16,
    "start_time": "2021-08-23T15:52:09.020Z"
   },
   {
    "duration": 18,
    "start_time": "2021-08-23T15:52:22.795Z"
   },
   {
    "duration": 303,
    "start_time": "2021-08-25T11:39:59.248Z"
   },
   {
    "duration": 1378,
    "start_time": "2021-08-25T11:40:05.997Z"
   },
   {
    "duration": 1880,
    "start_time": "2021-08-25T11:40:07.378Z"
   },
   {
    "duration": 60,
    "start_time": "2021-08-25T11:40:09.261Z"
   },
   {
    "duration": 60,
    "start_time": "2021-08-25T11:40:09.324Z"
   },
   {
    "duration": 48,
    "start_time": "2021-08-25T11:40:09.387Z"
   },
   {
    "duration": 6,
    "start_time": "2021-08-25T11:40:09.438Z"
   },
   {
    "duration": 42,
    "start_time": "2021-08-25T11:40:09.447Z"
   },
   {
    "duration": 340,
    "start_time": "2021-08-25T11:40:13.872Z"
   },
   {
    "duration": 16,
    "start_time": "2021-08-25T11:40:26.778Z"
   },
   {
    "duration": 5,
    "start_time": "2021-08-25T11:44:08.274Z"
   },
   {
    "duration": 5,
    "start_time": "2021-08-25T11:45:12.217Z"
   },
   {
    "duration": 4,
    "start_time": "2021-08-25T11:45:21.216Z"
   },
   {
    "duration": 5,
    "start_time": "2021-08-25T11:46:38.825Z"
   },
   {
    "duration": 6,
    "start_time": "2021-08-25T11:46:52.250Z"
   },
   {
    "duration": 9,
    "start_time": "2021-08-25T11:47:40.489Z"
   },
   {
    "duration": 11,
    "start_time": "2021-08-25T11:48:22.043Z"
   },
   {
    "duration": 349,
    "start_time": "2021-08-26T20:45:19.287Z"
   },
   {
    "duration": 1361,
    "start_time": "2021-08-26T20:45:24.013Z"
   },
   {
    "duration": 2802,
    "start_time": "2021-08-26T20:45:25.376Z"
   },
   {
    "duration": 51,
    "start_time": "2021-08-26T20:45:28.181Z"
   },
   {
    "duration": 56,
    "start_time": "2021-08-26T20:45:28.235Z"
   },
   {
    "duration": 48,
    "start_time": "2021-08-26T20:45:28.293Z"
   },
   {
    "duration": 13,
    "start_time": "2021-08-26T20:45:28.362Z"
   },
   {
    "duration": 6,
    "start_time": "2021-08-26T20:51:22.962Z"
   },
   {
    "duration": 9,
    "start_time": "2021-08-26T20:51:40.537Z"
   },
   {
    "duration": 10,
    "start_time": "2021-08-26T20:51:50.963Z"
   },
   {
    "duration": 17,
    "start_time": "2021-08-26T20:52:41.082Z"
   },
   {
    "duration": 39,
    "start_time": "2021-08-26T20:52:45.316Z"
   },
   {
    "duration": 8,
    "start_time": "2021-08-26T20:52:54.903Z"
   },
   {
    "duration": 9,
    "start_time": "2021-08-26T20:53:02.610Z"
   },
   {
    "duration": 5,
    "start_time": "2021-08-26T20:55:52.585Z"
   },
   {
    "duration": 40,
    "start_time": "2021-08-26T20:56:04.359Z"
   },
   {
    "duration": 7,
    "start_time": "2021-08-26T20:56:26.187Z"
   },
   {
    "duration": 90,
    "start_time": "2021-08-26T20:57:58.183Z"
   },
   {
    "duration": 43,
    "start_time": "2021-08-26T21:00:34.914Z"
   },
   {
    "duration": 70,
    "start_time": "2021-08-26T21:02:20.231Z"
   },
   {
    "duration": 29,
    "start_time": "2021-08-26T21:02:31.002Z"
   },
   {
    "duration": 394,
    "start_time": "2021-08-26T21:06:11.434Z"
   },
   {
    "duration": 1510,
    "start_time": "2021-08-27T10:49:01.794Z"
   },
   {
    "duration": 1428,
    "start_time": "2021-08-27T10:51:23.448Z"
   },
   {
    "duration": 3541,
    "start_time": "2021-08-27T10:51:24.879Z"
   },
   {
    "duration": 53,
    "start_time": "2021-08-27T10:51:28.423Z"
   },
   {
    "duration": 71,
    "start_time": "2021-08-27T10:51:28.479Z"
   },
   {
    "duration": 70,
    "start_time": "2021-08-27T10:51:28.553Z"
   },
   {
    "duration": 369,
    "start_time": "2021-08-27T10:51:28.625Z"
   },
   {
    "duration": 30,
    "start_time": "2021-08-27T10:51:28.997Z"
   },
   {
    "duration": 9,
    "start_time": "2021-08-27T10:51:29.030Z"
   },
   {
    "duration": 13,
    "start_time": "2021-08-27T10:51:29.041Z"
   },
   {
    "duration": 4,
    "start_time": "2021-08-27T10:51:29.056Z"
   },
   {
    "duration": 59,
    "start_time": "2021-08-27T10:51:29.062Z"
   },
   {
    "duration": 12,
    "start_time": "2021-08-27T10:51:29.124Z"
   },
   {
    "duration": 20,
    "start_time": "2021-08-27T10:58:22.584Z"
   },
   {
    "duration": 6,
    "start_time": "2021-08-27T11:02:37.499Z"
   },
   {
    "duration": 8073,
    "start_time": "2021-08-27T11:02:37.507Z"
   },
   {
    "duration": 63,
    "start_time": "2021-08-27T11:02:45.584Z"
   },
   {
    "duration": 67,
    "start_time": "2021-08-27T11:02:45.651Z"
   },
   {
    "duration": 50,
    "start_time": "2021-08-27T11:02:45.720Z"
   },
   {
    "duration": 534,
    "start_time": "2021-08-27T11:03:29.745Z"
   },
   {
    "duration": 5,
    "start_time": "2021-08-27T11:06:31.402Z"
   },
   {
    "duration": 2993,
    "start_time": "2021-08-27T11:06:31.410Z"
   },
   {
    "duration": 53,
    "start_time": "2021-08-27T11:06:34.406Z"
   },
   {
    "duration": 65,
    "start_time": "2021-08-27T11:06:34.461Z"
   },
   {
    "duration": 90,
    "start_time": "2021-08-27T11:06:34.528Z"
   },
   {
    "duration": 667,
    "start_time": "2021-08-27T11:06:47.547Z"
   },
   {
    "duration": 159,
    "start_time": "2021-08-27T11:07:12.097Z"
   },
   {
    "duration": 6,
    "start_time": "2021-08-27T11:07:31.130Z"
   },
   {
    "duration": 5125,
    "start_time": "2021-08-27T11:07:31.138Z"
   },
   {
    "duration": 63,
    "start_time": "2021-08-27T11:07:36.266Z"
   },
   {
    "duration": 49,
    "start_time": "2021-08-27T11:07:36.332Z"
   },
   {
    "duration": 84,
    "start_time": "2021-08-27T11:07:36.383Z"
   },
   {
    "duration": 130,
    "start_time": "2021-08-27T11:07:43.514Z"
   },
   {
    "duration": 10,
    "start_time": "2021-08-27T11:08:07.107Z"
   },
   {
    "duration": 6,
    "start_time": "2021-08-27T11:08:38.690Z"
   },
   {
    "duration": 11,
    "start_time": "2021-08-27T11:08:54.571Z"
   },
   {
    "duration": 6,
    "start_time": "2021-08-27T11:09:08.302Z"
   },
   {
    "duration": 3419,
    "start_time": "2021-08-27T11:09:08.311Z"
   },
   {
    "duration": 48,
    "start_time": "2021-08-27T11:09:11.734Z"
   },
   {
    "duration": 68,
    "start_time": "2021-08-27T11:09:11.785Z"
   },
   {
    "duration": 66,
    "start_time": "2021-08-27T11:09:11.855Z"
   },
   {
    "duration": 13,
    "start_time": "2021-08-27T11:09:22.036Z"
   },
   {
    "duration": 7,
    "start_time": "2021-08-27T11:10:23.442Z"
   },
   {
    "duration": 2714,
    "start_time": "2021-08-27T11:10:23.452Z"
   },
   {
    "duration": 64,
    "start_time": "2021-08-27T11:10:26.169Z"
   },
   {
    "duration": 40,
    "start_time": "2021-08-27T11:10:26.235Z"
   },
   {
    "duration": 83,
    "start_time": "2021-08-27T11:10:26.277Z"
   },
   {
    "duration": 9,
    "start_time": "2021-08-27T11:10:32.262Z"
   },
   {
    "duration": 17,
    "start_time": "2021-08-27T11:12:08.176Z"
   },
   {
    "duration": 21,
    "start_time": "2021-08-27T11:13:07.520Z"
   },
   {
    "duration": 6,
    "start_time": "2021-08-27T11:25:52.442Z"
   },
   {
    "duration": 5553,
    "start_time": "2021-08-27T11:25:52.451Z"
   },
   {
    "duration": 48,
    "start_time": "2021-08-27T11:25:58.007Z"
   },
   {
    "duration": 66,
    "start_time": "2021-08-27T11:25:58.058Z"
   },
   {
    "duration": 49,
    "start_time": "2021-08-27T11:25:58.126Z"
   },
   {
    "duration": 5,
    "start_time": "2021-08-27T11:25:58.177Z"
   },
   {
    "duration": 60,
    "start_time": "2021-08-27T11:25:58.184Z"
   },
   {
    "duration": 44,
    "start_time": "2021-08-27T11:27:59.347Z"
   },
   {
    "duration": 63,
    "start_time": "2021-08-27T14:19:14.097Z"
   },
   {
    "duration": 20,
    "start_time": "2021-08-27T14:19:28.586Z"
   },
   {
    "duration": 1018,
    "start_time": "2021-08-28T11:54:25.141Z"
   },
   {
    "duration": 2034,
    "start_time": "2021-08-28T11:54:26.161Z"
   },
   {
    "duration": 31,
    "start_time": "2021-08-28T11:54:28.197Z"
   },
   {
    "duration": 24,
    "start_time": "2021-08-28T11:54:28.229Z"
   },
   {
    "duration": 51,
    "start_time": "2021-08-28T11:54:28.254Z"
   },
   {
    "duration": 3,
    "start_time": "2021-08-28T11:54:28.307Z"
   },
   {
    "duration": 26,
    "start_time": "2021-08-28T11:54:28.311Z"
   },
   {
    "duration": 52,
    "start_time": "2021-08-28T11:54:28.339Z"
   },
   {
    "duration": 26,
    "start_time": "2021-08-28T11:55:23.768Z"
   },
   {
    "duration": 9,
    "start_time": "2021-08-28T12:16:55.375Z"
   },
   {
    "duration": 15,
    "start_time": "2021-08-28T12:18:12.514Z"
   },
   {
    "duration": 18,
    "start_time": "2021-08-28T12:18:28.015Z"
   },
   {
    "duration": 19,
    "start_time": "2021-08-28T12:18:42.416Z"
   },
   {
    "duration": 5,
    "start_time": "2021-08-28T12:35:52.936Z"
   },
   {
    "duration": 393,
    "start_time": "2021-08-28T12:40:18.870Z"
   },
   {
    "duration": 8,
    "start_time": "2021-08-28T12:41:04.151Z"
   },
   {
    "duration": 26,
    "start_time": "2021-08-28T12:41:08.391Z"
   },
   {
    "duration": 5,
    "start_time": "2021-08-28T12:41:41.672Z"
   },
   {
    "duration": 25,
    "start_time": "2021-08-28T12:42:22.880Z"
   },
   {
    "duration": 7,
    "start_time": "2021-08-28T12:42:26.232Z"
   },
   {
    "duration": 7,
    "start_time": "2021-08-28T12:42:27.124Z"
   },
   {
    "duration": 254,
    "start_time": "2021-08-28T12:56:38.414Z"
   },
   {
    "duration": 235,
    "start_time": "2021-08-28T12:56:50.767Z"
   },
   {
    "duration": 7,
    "start_time": "2021-08-28T12:57:23.183Z"
   },
   {
    "duration": 7,
    "start_time": "2021-08-28T12:57:32.663Z"
   },
   {
    "duration": 7,
    "start_time": "2021-08-28T12:58:16.995Z"
   },
   {
    "duration": 7,
    "start_time": "2021-08-28T12:58:18.793Z"
   },
   {
    "duration": 9,
    "start_time": "2021-08-28T12:59:53.778Z"
   },
   {
    "duration": 7,
    "start_time": "2021-08-28T12:59:55.084Z"
   },
   {
    "duration": 8,
    "start_time": "2021-08-28T13:00:09.803Z"
   },
   {
    "duration": 7,
    "start_time": "2021-08-28T13:00:11.217Z"
   },
   {
    "duration": 6,
    "start_time": "2021-08-28T13:02:23.038Z"
   },
   {
    "duration": 7,
    "start_time": "2021-08-28T13:02:24.327Z"
   },
   {
    "duration": 53,
    "start_time": "2021-08-28T18:05:10.924Z"
   },
   {
    "duration": 1963,
    "start_time": "2021-08-28T18:05:10.979Z"
   },
   {
    "duration": 34,
    "start_time": "2021-08-28T18:05:12.944Z"
   },
   {
    "duration": 33,
    "start_time": "2021-08-28T18:05:12.980Z"
   },
   {
    "duration": 30,
    "start_time": "2021-08-28T18:05:13.015Z"
   },
   {
    "duration": 4,
    "start_time": "2021-08-28T18:05:13.046Z"
   },
   {
    "duration": 61,
    "start_time": "2021-08-28T18:05:13.051Z"
   },
   {
    "duration": 34,
    "start_time": "2021-08-28T18:05:13.114Z"
   },
   {
    "duration": 51,
    "start_time": "2021-08-28T18:05:13.151Z"
   },
   {
    "duration": 187,
    "start_time": "2021-08-28T18:05:13.204Z"
   },
   {
    "duration": 12,
    "start_time": "2021-08-28T18:05:13.393Z"
   },
   {
    "duration": 13,
    "start_time": "2021-08-28T18:05:13.407Z"
   },
   {
    "duration": 14,
    "start_time": "2021-08-28T18:05:13.422Z"
   },
   {
    "duration": 15,
    "start_time": "2021-08-28T18:05:13.437Z"
   },
   {
    "duration": 28,
    "start_time": "2021-08-28T18:05:13.453Z"
   },
   {
    "duration": 9,
    "start_time": "2021-08-28T18:05:13.482Z"
   },
   {
    "duration": 20,
    "start_time": "2021-08-28T18:05:13.492Z"
   },
   {
    "duration": 21,
    "start_time": "2021-08-28T18:05:13.513Z"
   },
   {
    "duration": 425,
    "start_time": "2021-08-28T18:05:13.535Z"
   },
   {
    "duration": 4,
    "start_time": "2021-08-28T18:08:07.187Z"
   },
   {
    "duration": 1582,
    "start_time": "2021-08-28T18:08:07.193Z"
   },
   {
    "duration": 33,
    "start_time": "2021-08-28T18:08:08.778Z"
   },
   {
    "duration": 23,
    "start_time": "2021-08-28T18:08:08.813Z"
   },
   {
    "duration": 62,
    "start_time": "2021-08-28T18:08:08.837Z"
   },
   {
    "duration": 3,
    "start_time": "2021-08-28T18:08:08.900Z"
   },
   {
    "duration": 29,
    "start_time": "2021-08-28T18:08:08.905Z"
   },
   {
    "duration": 59,
    "start_time": "2021-08-28T18:08:08.935Z"
   },
   {
    "duration": 22,
    "start_time": "2021-08-28T18:08:08.995Z"
   },
   {
    "duration": 199,
    "start_time": "2021-08-28T18:08:09.019Z"
   },
   {
    "duration": 12,
    "start_time": "2021-08-28T18:08:09.220Z"
   },
   {
    "duration": 16,
    "start_time": "2021-08-28T18:08:09.234Z"
   },
   {
    "duration": 16,
    "start_time": "2021-08-28T18:08:09.252Z"
   },
   {
    "duration": 18,
    "start_time": "2021-08-28T18:08:09.269Z"
   },
   {
    "duration": 14,
    "start_time": "2021-08-28T18:08:09.289Z"
   },
   {
    "duration": 14,
    "start_time": "2021-08-28T18:08:09.305Z"
   },
   {
    "duration": 9,
    "start_time": "2021-08-28T18:08:09.321Z"
   },
   {
    "duration": 21,
    "start_time": "2021-08-28T18:08:09.331Z"
   },
   {
    "duration": 195,
    "start_time": "2021-08-28T18:08:27.200Z"
   },
   {
    "duration": 196,
    "start_time": "2021-08-28T18:08:34.215Z"
   },
   {
    "duration": 208,
    "start_time": "2021-08-28T18:15:24.302Z"
   },
   {
    "duration": 194,
    "start_time": "2021-08-28T18:15:42.565Z"
   },
   {
    "duration": 282,
    "start_time": "2021-08-28T18:17:12.170Z"
   },
   {
    "duration": 199,
    "start_time": "2021-08-28T18:17:16.182Z"
   },
   {
    "duration": 277,
    "start_time": "2021-08-28T18:22:06.934Z"
   },
   {
    "duration": 14,
    "start_time": "2021-08-28T18:24:01.389Z"
   },
   {
    "duration": 5,
    "start_time": "2021-08-28T18:24:07.069Z"
   },
   {
    "duration": 266,
    "start_time": "2021-08-28T18:24:35.032Z"
   },
   {
    "duration": 17,
    "start_time": "2021-08-28T18:24:50.007Z"
   },
   {
    "duration": 17,
    "start_time": "2021-08-28T18:25:24.213Z"
   },
   {
    "duration": 24,
    "start_time": "2021-08-28T18:26:03.560Z"
   },
   {
    "duration": 16,
    "start_time": "2021-08-28T18:26:16.153Z"
   },
   {
    "duration": 16,
    "start_time": "2021-08-28T18:26:30.938Z"
   },
   {
    "duration": 17,
    "start_time": "2021-08-28T18:27:40.603Z"
   },
   {
    "duration": 15,
    "start_time": "2021-08-28T18:27:49.734Z"
   },
   {
    "duration": 16,
    "start_time": "2021-08-28T18:28:01.321Z"
   },
   {
    "duration": 15,
    "start_time": "2021-08-28T18:28:07.754Z"
   },
   {
    "duration": 17,
    "start_time": "2021-08-28T18:28:13.105Z"
   },
   {
    "duration": 16,
    "start_time": "2021-08-28T18:28:17.249Z"
   },
   {
    "duration": 16,
    "start_time": "2021-08-28T18:28:24.924Z"
   },
   {
    "duration": 16,
    "start_time": "2021-08-28T18:28:31.334Z"
   },
   {
    "duration": 17,
    "start_time": "2021-08-28T18:28:35.242Z"
   },
   {
    "duration": 17,
    "start_time": "2021-08-28T18:28:39.370Z"
   },
   {
    "duration": 17,
    "start_time": "2021-08-28T18:28:47.748Z"
   },
   {
    "duration": 17,
    "start_time": "2021-08-28T18:28:51.267Z"
   },
   {
    "duration": 16,
    "start_time": "2021-08-28T18:28:56.670Z"
   },
   {
    "duration": 17,
    "start_time": "2021-08-28T18:29:15.028Z"
   },
   {
    "duration": 16,
    "start_time": "2021-08-28T18:29:20.619Z"
   },
   {
    "duration": 15,
    "start_time": "2021-08-28T18:29:24.731Z"
   },
   {
    "duration": 15,
    "start_time": "2021-08-28T18:29:28.209Z"
   },
   {
    "duration": 15,
    "start_time": "2021-08-28T18:29:36.245Z"
   },
   {
    "duration": 420,
    "start_time": "2021-08-28T21:26:17.352Z"
   },
   {
    "duration": 15,
    "start_time": "2021-08-28T21:26:44.713Z"
   },
   {
    "duration": 16,
    "start_time": "2021-08-28T21:26:58.167Z"
   },
   {
    "duration": 16,
    "start_time": "2021-08-28T21:27:31.132Z"
   },
   {
    "duration": 15,
    "start_time": "2021-08-28T21:27:40.689Z"
   },
   {
    "duration": 1597,
    "start_time": "2021-08-30T10:04:08.961Z"
   },
   {
    "duration": 4572,
    "start_time": "2021-08-30T10:04:10.561Z"
   },
   {
    "duration": 67,
    "start_time": "2021-08-30T10:04:15.136Z"
   },
   {
    "duration": 43,
    "start_time": "2021-08-30T10:04:15.205Z"
   },
   {
    "duration": 63,
    "start_time": "2021-08-30T10:04:15.251Z"
   },
   {
    "duration": 6,
    "start_time": "2021-08-30T10:04:15.317Z"
   },
   {
    "duration": 69,
    "start_time": "2021-08-30T10:04:15.325Z"
   },
   {
    "duration": 72,
    "start_time": "2021-08-30T10:04:15.396Z"
   },
   {
    "duration": 37,
    "start_time": "2021-08-30T10:04:15.471Z"
   },
   {
    "duration": 362,
    "start_time": "2021-08-30T10:04:15.510Z"
   },
   {
    "duration": 19,
    "start_time": "2021-08-30T10:04:15.874Z"
   },
   {
    "duration": 4,
    "start_time": "2021-08-30T10:04:15.896Z"
   },
   {
    "duration": 16,
    "start_time": "2021-08-30T10:04:15.902Z"
   },
   {
    "duration": 4,
    "start_time": "2021-08-30T10:04:15.921Z"
   },
   {
    "duration": 53,
    "start_time": "2021-08-30T10:04:15.927Z"
   },
   {
    "duration": 15,
    "start_time": "2021-08-30T10:04:15.982Z"
   },
   {
    "duration": 479,
    "start_time": "2021-08-30T10:04:24.857Z"
   },
   {
    "duration": 4031,
    "start_time": "2021-08-30T10:05:12.564Z"
   },
   {
    "duration": 4597,
    "start_time": "2021-08-30T10:07:13.066Z"
   },
   {
    "duration": 79,
    "start_time": "2021-08-30T10:26:50.612Z"
   },
   {
    "duration": 290,
    "start_time": "2021-08-30T10:27:09.047Z"
   },
   {
    "duration": 295,
    "start_time": "2021-08-30T10:28:35.769Z"
   },
   {
    "duration": 380,
    "start_time": "2021-08-30T10:28:44.296Z"
   },
   {
    "duration": 6,
    "start_time": "2021-08-30T10:28:55.944Z"
   },
   {
    "duration": 4,
    "start_time": "2021-08-30T10:31:58.351Z"
   },
   {
    "duration": 128,
    "start_time": "2021-08-30T10:33:06.390Z"
   },
   {
    "duration": 9,
    "start_time": "2021-08-30T10:33:13.983Z"
   },
   {
    "duration": 5,
    "start_time": "2021-08-30T10:39:01.741Z"
   },
   {
    "duration": 7,
    "start_time": "2021-08-30T10:39:03.956Z"
   },
   {
    "duration": 5,
    "start_time": "2021-08-30T10:39:43.652Z"
   },
   {
    "duration": 6,
    "start_time": "2021-08-30T10:40:03.292Z"
   },
   {
    "duration": 7,
    "start_time": "2021-08-30T10:40:04.364Z"
   },
   {
    "duration": 4,
    "start_time": "2021-08-30T10:41:26.686Z"
   },
   {
    "duration": 4,
    "start_time": "2021-08-30T10:42:28.996Z"
   },
   {
    "duration": 5,
    "start_time": "2021-08-30T13:47:38.902Z"
   },
   {
    "duration": 10,
    "start_time": "2021-08-30T14:11:15.382Z"
   },
   {
    "duration": 3214,
    "start_time": "2021-08-30T14:11:15.394Z"
   },
   {
    "duration": 61,
    "start_time": "2021-08-30T14:11:18.611Z"
   },
   {
    "duration": 41,
    "start_time": "2021-08-30T14:11:18.675Z"
   },
   {
    "duration": 79,
    "start_time": "2021-08-30T14:11:18.719Z"
   },
   {
    "duration": 5,
    "start_time": "2021-08-30T14:11:18.800Z"
   },
   {
    "duration": 37,
    "start_time": "2021-08-30T14:11:18.807Z"
   },
   {
    "duration": 84,
    "start_time": "2021-08-30T14:11:18.849Z"
   },
   {
    "duration": 74,
    "start_time": "2021-08-30T14:11:18.937Z"
   },
   {
    "duration": 478,
    "start_time": "2021-08-30T14:11:19.015Z"
   },
   {
    "duration": 33,
    "start_time": "2021-08-30T14:11:19.496Z"
   },
   {
    "duration": 7,
    "start_time": "2021-08-30T14:11:19.532Z"
   },
   {
    "duration": 34,
    "start_time": "2021-08-30T14:11:19.541Z"
   },
   {
    "duration": 5,
    "start_time": "2021-08-30T14:11:19.577Z"
   },
   {
    "duration": 13,
    "start_time": "2021-08-30T14:11:19.584Z"
   },
   {
    "duration": 11,
    "start_time": "2021-08-30T14:11:19.599Z"
   },
   {
    "duration": 4721,
    "start_time": "2021-08-30T14:11:43.018Z"
   },
   {
    "duration": 4681,
    "start_time": "2021-08-30T14:12:28.936Z"
   },
   {
    "duration": 12,
    "start_time": "2021-08-30T14:12:37.369Z"
   },
   {
    "duration": 5,
    "start_time": "2021-08-30T14:12:58.185Z"
   },
   {
    "duration": 4,
    "start_time": "2021-08-30T14:13:09.431Z"
   },
   {
    "duration": 4,
    "start_time": "2021-08-30T14:13:16.007Z"
   },
   {
    "duration": 5,
    "start_time": "2021-08-30T14:13:27.592Z"
   },
   {
    "duration": 4536,
    "start_time": "2021-08-30T14:14:17.098Z"
   },
   {
    "duration": 12,
    "start_time": "2021-08-30T14:14:26.097Z"
   },
   {
    "duration": 5,
    "start_time": "2021-08-30T14:14:52.713Z"
   },
   {
    "duration": 5,
    "start_time": "2021-08-30T14:15:06.201Z"
   },
   {
    "duration": 4221,
    "start_time": "2021-08-30T14:15:31.930Z"
   },
   {
    "duration": 5,
    "start_time": "2021-08-30T14:15:39.697Z"
   },
   {
    "duration": 4380,
    "start_time": "2021-08-30T14:16:12.037Z"
   },
   {
    "duration": 5,
    "start_time": "2021-08-30T14:16:18.882Z"
   },
   {
    "duration": 12,
    "start_time": "2021-08-30T14:16:20.724Z"
   },
   {
    "duration": 13,
    "start_time": "2021-08-30T14:16:34.939Z"
   },
   {
    "duration": 8,
    "start_time": "2021-08-30T14:17:56.146Z"
   },
   {
    "duration": 6070,
    "start_time": "2021-08-30T14:17:56.158Z"
   },
   {
    "duration": 57,
    "start_time": "2021-08-30T14:18:02.231Z"
   },
   {
    "duration": 36,
    "start_time": "2021-08-30T14:18:02.290Z"
   },
   {
    "duration": 74,
    "start_time": "2021-08-30T14:18:02.329Z"
   },
   {
    "duration": 7,
    "start_time": "2021-08-30T14:18:02.406Z"
   },
   {
    "duration": 53,
    "start_time": "2021-08-30T14:18:02.415Z"
   },
   {
    "duration": 49,
    "start_time": "2021-08-30T14:18:02.470Z"
   },
   {
    "duration": 64,
    "start_time": "2021-08-30T14:18:02.524Z"
   },
   {
    "duration": 364,
    "start_time": "2021-08-30T14:18:02.591Z"
   },
   {
    "duration": 24,
    "start_time": "2021-08-30T14:18:02.958Z"
   },
   {
    "duration": 13,
    "start_time": "2021-08-30T14:18:02.985Z"
   },
   {
    "duration": 18,
    "start_time": "2021-08-30T14:18:03.000Z"
   },
   {
    "duration": 5,
    "start_time": "2021-08-30T14:18:03.020Z"
   },
   {
    "duration": 17,
    "start_time": "2021-08-30T14:18:03.028Z"
   },
   {
    "duration": 11,
    "start_time": "2021-08-30T14:18:03.068Z"
   },
   {
    "duration": 4507,
    "start_time": "2021-08-30T14:18:03.083Z"
   },
   {
    "duration": 5,
    "start_time": "2021-08-30T14:18:07.593Z"
   },
   {
    "duration": 11,
    "start_time": "2021-08-30T14:18:24.021Z"
   },
   {
    "duration": 4554,
    "start_time": "2021-08-30T14:29:36.970Z"
   },
   {
    "duration": 10,
    "start_time": "2021-08-30T14:29:46.642Z"
   },
   {
    "duration": 7,
    "start_time": "2021-08-30T14:30:35.844Z"
   },
   {
    "duration": 3346,
    "start_time": "2021-08-30T14:30:35.854Z"
   },
   {
    "duration": 81,
    "start_time": "2021-08-30T14:30:39.204Z"
   },
   {
    "duration": 77,
    "start_time": "2021-08-30T14:30:39.289Z"
   },
   {
    "duration": 68,
    "start_time": "2021-08-30T14:30:39.370Z"
   },
   {
    "duration": 5,
    "start_time": "2021-08-30T14:30:39.440Z"
   },
   {
    "duration": 33,
    "start_time": "2021-08-30T14:30:39.468Z"
   },
   {
    "duration": 76,
    "start_time": "2021-08-30T14:30:39.504Z"
   },
   {
    "duration": 35,
    "start_time": "2021-08-30T14:30:39.582Z"
   },
   {
    "duration": 363,
    "start_time": "2021-08-30T14:30:39.619Z"
   },
   {
    "duration": 21,
    "start_time": "2021-08-30T14:30:39.984Z"
   },
   {
    "duration": 26,
    "start_time": "2021-08-30T14:30:40.007Z"
   },
   {
    "duration": 28,
    "start_time": "2021-08-30T14:30:40.035Z"
   },
   {
    "duration": 14,
    "start_time": "2021-08-30T14:30:40.065Z"
   },
   {
    "duration": 19,
    "start_time": "2021-08-30T14:30:40.082Z"
   },
   {
    "duration": 12,
    "start_time": "2021-08-30T14:30:40.104Z"
   },
   {
    "duration": 4428,
    "start_time": "2021-08-30T14:30:44.228Z"
   },
   {
    "duration": 10,
    "start_time": "2021-08-30T14:30:48.667Z"
   },
   {
    "duration": 6,
    "start_time": "2021-08-30T14:30:58.307Z"
   },
   {
    "duration": 2878,
    "start_time": "2021-08-30T14:30:58.316Z"
   },
   {
    "duration": 44,
    "start_time": "2021-08-30T14:31:01.197Z"
   },
   {
    "duration": 55,
    "start_time": "2021-08-30T14:31:01.244Z"
   },
   {
    "duration": 70,
    "start_time": "2021-08-30T14:31:01.302Z"
   },
   {
    "duration": 6,
    "start_time": "2021-08-30T14:31:01.375Z"
   },
   {
    "duration": 68,
    "start_time": "2021-08-30T14:31:01.383Z"
   },
   {
    "duration": 51,
    "start_time": "2021-08-30T14:31:01.454Z"
   },
   {
    "duration": 36,
    "start_time": "2021-08-30T14:31:01.509Z"
   },
   {
    "duration": 375,
    "start_time": "2021-08-30T14:31:01.567Z"
   },
   {
    "duration": 35,
    "start_time": "2021-08-30T14:31:01.945Z"
   },
   {
    "duration": 5,
    "start_time": "2021-08-30T14:31:01.982Z"
   },
   {
    "duration": 40,
    "start_time": "2021-08-30T14:31:01.989Z"
   },
   {
    "duration": 21,
    "start_time": "2021-08-30T14:31:02.032Z"
   },
   {
    "duration": 43,
    "start_time": "2021-08-30T14:31:02.056Z"
   },
   {
    "duration": 22,
    "start_time": "2021-08-30T14:31:02.101Z"
   },
   {
    "duration": 4665,
    "start_time": "2021-08-30T14:31:02.126Z"
   },
   {
    "duration": 11,
    "start_time": "2021-08-30T14:31:14.244Z"
   },
   {
    "duration": 1560,
    "start_time": "2021-08-30T14:34:34.007Z"
   },
   {
    "duration": 1162,
    "start_time": "2021-08-30T14:35:00.860Z"
   },
   {
    "duration": 1599,
    "start_time": "2021-08-30T14:35:33.952Z"
   },
   {
    "duration": 1341,
    "start_time": "2021-08-30T14:36:35.752Z"
   },
   {
    "duration": 338,
    "start_time": "2021-08-30T14:36:46.129Z"
   },
   {
    "duration": 1289,
    "start_time": "2021-08-30T14:36:52.817Z"
   },
   {
    "duration": 1963,
    "start_time": "2021-08-30T14:37:05.985Z"
   },
   {
    "duration": 1812,
    "start_time": "2021-08-30T14:37:17.538Z"
   },
   {
    "duration": 1914,
    "start_time": "2021-08-30T14:39:04.436Z"
   },
   {
    "duration": 1355,
    "start_time": "2021-08-30T14:39:12.427Z"
   },
   {
    "duration": 1391,
    "start_time": "2021-08-30T14:39:23.483Z"
   },
   {
    "duration": 1562,
    "start_time": "2021-08-30T14:39:29.954Z"
   },
   {
    "duration": 1301,
    "start_time": "2021-08-30T14:39:36.444Z"
   },
   {
    "duration": 1289,
    "start_time": "2021-08-30T14:40:03.814Z"
   },
   {
    "duration": 1586,
    "start_time": "2021-08-30T14:41:08.781Z"
   },
   {
    "duration": 1477,
    "start_time": "2021-08-30T14:41:45.934Z"
   },
   {
    "duration": 303,
    "start_time": "2021-08-30T22:26:43.417Z"
   },
   {
    "duration": 8,
    "start_time": "2021-08-30T22:26:47.036Z"
   },
   {
    "duration": 3826,
    "start_time": "2021-08-30T22:26:47.048Z"
   },
   {
    "duration": 43,
    "start_time": "2021-08-30T22:26:50.877Z"
   },
   {
    "duration": 62,
    "start_time": "2021-08-30T22:26:50.923Z"
   },
   {
    "duration": 44,
    "start_time": "2021-08-30T22:26:50.988Z"
   },
   {
    "duration": 33,
    "start_time": "2021-08-30T22:26:51.035Z"
   },
   {
    "duration": 35,
    "start_time": "2021-08-30T22:26:51.070Z"
   },
   {
    "duration": 78,
    "start_time": "2021-08-30T22:26:51.107Z"
   },
   {
    "duration": 35,
    "start_time": "2021-08-30T22:26:51.189Z"
   },
   {
    "duration": 423,
    "start_time": "2021-08-30T22:26:51.228Z"
   },
   {
    "duration": 32,
    "start_time": "2021-08-30T22:26:51.654Z"
   },
   {
    "duration": 21,
    "start_time": "2021-08-30T22:26:51.689Z"
   },
   {
    "duration": 22,
    "start_time": "2021-08-30T22:26:51.713Z"
   },
   {
    "duration": 8,
    "start_time": "2021-08-30T22:26:51.738Z"
   },
   {
    "duration": 24,
    "start_time": "2021-08-30T22:26:51.749Z"
   },
   {
    "duration": 311,
    "start_time": "2021-08-30T22:26:54.057Z"
   },
   {
    "duration": 37,
    "start_time": "2021-08-30T22:28:15.386Z"
   },
   {
    "duration": 12,
    "start_time": "2021-08-30T22:28:46.588Z"
   },
   {
    "duration": 7,
    "start_time": "2021-08-30T22:29:18.243Z"
   },
   {
    "duration": 72,
    "start_time": "2021-08-30T22:30:45.420Z"
   },
   {
    "duration": 28,
    "start_time": "2021-08-30T22:31:40.198Z"
   },
   {
    "duration": 58,
    "start_time": "2021-08-30T22:32:03.624Z"
   },
   {
    "duration": 9,
    "start_time": "2021-08-30T22:32:30.792Z"
   },
   {
    "duration": 823,
    "start_time": "2021-08-31T08:48:47.362Z"
   },
   {
    "duration": 1175,
    "start_time": "2021-08-31T08:48:52.650Z"
   },
   {
    "duration": 2328,
    "start_time": "2021-08-31T08:48:53.827Z"
   },
   {
    "duration": 28,
    "start_time": "2021-08-31T08:48:56.157Z"
   },
   {
    "duration": 19,
    "start_time": "2021-08-31T08:48:56.192Z"
   },
   {
    "duration": 25,
    "start_time": "2021-08-31T08:48:56.212Z"
   },
   {
    "duration": 3,
    "start_time": "2021-08-31T08:48:56.238Z"
   },
   {
    "duration": 53,
    "start_time": "2021-08-31T08:48:56.242Z"
   },
   {
    "duration": 51,
    "start_time": "2021-08-31T08:48:56.298Z"
   },
   {
    "duration": 42,
    "start_time": "2021-08-31T08:48:56.352Z"
   },
   {
    "duration": 196,
    "start_time": "2021-08-31T08:48:56.396Z"
   },
   {
    "duration": 12,
    "start_time": "2021-08-31T08:48:56.594Z"
   },
   {
    "duration": 4,
    "start_time": "2021-08-31T08:48:56.607Z"
   },
   {
    "duration": 11,
    "start_time": "2021-08-31T08:48:56.612Z"
   },
   {
    "duration": 3,
    "start_time": "2021-08-31T08:48:56.624Z"
   },
   {
    "duration": 14,
    "start_time": "2021-08-31T08:48:56.628Z"
   },
   {
    "duration": 7,
    "start_time": "2021-08-31T08:48:56.644Z"
   },
   {
    "duration": 2264,
    "start_time": "2021-08-31T08:48:56.653Z"
   },
   {
    "duration": 7,
    "start_time": "2021-08-31T08:48:58.919Z"
   },
   {
    "duration": 701,
    "start_time": "2021-08-31T08:48:58.928Z"
   },
   {
    "duration": 205,
    "start_time": "2021-08-31T08:48:59.630Z"
   },
   {
    "duration": 224,
    "start_time": "2021-08-31T08:48:59.836Z"
   },
   {
    "duration": 206,
    "start_time": "2021-08-31T08:49:00.061Z"
   },
   {
    "duration": 325,
    "start_time": "2021-08-31T08:49:00.270Z"
   },
   {
    "duration": 24,
    "start_time": "2021-08-31T08:49:00.597Z"
   },
   {
    "duration": 2361,
    "start_time": "2021-08-31T08:49:00.623Z"
   },
   {
    "duration": 6,
    "start_time": "2021-08-31T08:49:02.986Z"
   },
   {
    "duration": 15,
    "start_time": "2021-08-31T08:49:02.993Z"
   },
   {
    "duration": 297100,
    "start_time": "2021-08-31T08:49:42.460Z"
   },
   {
    "duration": 242,
    "start_time": "2021-08-31T08:56:42.130Z"
   },
   {
    "duration": 16,
    "start_time": "2021-08-31T08:57:12.033Z"
   },
   {
    "duration": 252,
    "start_time": "2021-08-31T09:02:08.679Z"
   },
   {
    "duration": 25,
    "start_time": "2021-08-31T09:02:22.241Z"
   },
   {
    "duration": 87,
    "start_time": "2021-08-31T09:05:20.578Z"
   },
   {
    "duration": 88,
    "start_time": "2021-08-31T09:05:59.352Z"
   },
   {
    "duration": 67,
    "start_time": "2021-08-31T09:07:00.272Z"
   },
   {
    "duration": 69,
    "start_time": "2021-08-31T09:07:27.507Z"
   },
   {
    "duration": 66,
    "start_time": "2021-08-31T09:07:55.149Z"
   },
   {
    "duration": 299,
    "start_time": "2021-08-31T09:08:42.695Z"
   },
   {
    "duration": 69,
    "start_time": "2021-08-31T09:08:50.988Z"
   },
   {
    "duration": 70,
    "start_time": "2021-08-31T09:09:02.157Z"
   },
   {
    "duration": 69,
    "start_time": "2021-08-31T09:09:13.507Z"
   },
   {
    "duration": 78,
    "start_time": "2021-08-31T09:09:29.941Z"
   },
   {
    "duration": 72,
    "start_time": "2021-08-31T09:16:41.110Z"
   },
   {
    "duration": 71,
    "start_time": "2021-08-31T09:17:25.770Z"
   },
   {
    "duration": 68,
    "start_time": "2021-08-31T09:18:48.560Z"
   },
   {
    "duration": 70,
    "start_time": "2021-08-31T09:19:11.473Z"
   },
   {
    "duration": 68,
    "start_time": "2021-08-31T09:19:25.098Z"
   },
   {
    "duration": 66,
    "start_time": "2021-08-31T09:19:54.752Z"
   },
   {
    "duration": 66,
    "start_time": "2021-08-31T09:21:59.011Z"
   },
   {
    "duration": 85,
    "start_time": "2021-08-31T09:22:07.098Z"
   },
   {
    "duration": 66,
    "start_time": "2021-08-31T09:22:17.587Z"
   },
   {
    "duration": 73,
    "start_time": "2021-08-31T09:22:22.236Z"
   },
   {
    "duration": 65,
    "start_time": "2021-08-31T09:22:26.743Z"
   },
   {
    "duration": 70,
    "start_time": "2021-08-31T09:23:15.772Z"
   },
   {
    "duration": 70,
    "start_time": "2021-08-31T09:23:45.581Z"
   },
   {
    "duration": 4,
    "start_time": "2021-08-31T09:32:28.730Z"
   },
   {
    "duration": 71,
    "start_time": "2021-08-31T09:33:39.235Z"
   },
   {
    "duration": 70,
    "start_time": "2021-08-31T09:35:26.057Z"
   },
   {
    "duration": 4,
    "start_time": "2021-08-31T09:35:29.582Z"
   },
   {
    "duration": 77,
    "start_time": "2021-08-31T09:35:40.418Z"
   },
   {
    "duration": 4,
    "start_time": "2021-08-31T09:35:43.425Z"
   },
   {
    "duration": 3,
    "start_time": "2021-08-31T09:36:11.586Z"
   },
   {
    "duration": 73,
    "start_time": "2021-08-31T09:36:50.347Z"
   },
   {
    "duration": 4,
    "start_time": "2021-08-31T09:36:53.138Z"
   },
   {
    "duration": 242,
    "start_time": "2021-08-31T10:17:15.209Z"
   },
   {
    "duration": 4,
    "start_time": "2021-08-31T10:17:59.245Z"
   },
   {
    "duration": 5,
    "start_time": "2021-08-31T10:18:06.386Z"
   },
   {
    "duration": 247,
    "start_time": "2021-08-31T10:19:29.779Z"
   },
   {
    "duration": 266,
    "start_time": "2021-08-31T10:19:39.903Z"
   },
   {
    "duration": 70,
    "start_time": "2021-08-31T10:19:50.408Z"
   },
   {
    "duration": 4,
    "start_time": "2021-08-31T10:19:53.609Z"
   },
   {
    "duration": 5,
    "start_time": "2021-08-31T10:20:00.025Z"
   },
   {
    "duration": 273,
    "start_time": "2021-08-31T10:20:20.591Z"
   },
   {
    "duration": 278,
    "start_time": "2021-08-31T10:20:35.864Z"
   },
   {
    "duration": 6,
    "start_time": "2021-08-31T10:21:07.760Z"
   },
   {
    "duration": 70,
    "start_time": "2021-08-31T10:21:30.163Z"
   },
   {
    "duration": 4,
    "start_time": "2021-08-31T10:21:32.647Z"
   },
   {
    "duration": 6,
    "start_time": "2021-08-31T10:21:46.976Z"
   },
   {
    "duration": 258,
    "start_time": "2021-08-31T10:22:56.851Z"
   },
   {
    "duration": 6,
    "start_time": "2021-08-31T10:23:04.138Z"
   },
   {
    "duration": 253,
    "start_time": "2021-08-31T10:24:29.868Z"
   },
   {
    "duration": 6,
    "start_time": "2021-08-31T10:24:46.997Z"
   },
   {
    "duration": 7,
    "start_time": "2021-08-31T10:25:39.566Z"
   },
   {
    "duration": 7,
    "start_time": "2021-08-31T10:26:05.988Z"
   },
   {
    "duration": 8,
    "start_time": "2021-08-31T10:27:40.111Z"
   },
   {
    "duration": 89,
    "start_time": "2021-08-31T10:28:09.431Z"
   },
   {
    "duration": 3,
    "start_time": "2021-08-31T10:28:14.455Z"
   },
   {
    "duration": 5,
    "start_time": "2021-08-31T10:28:23.735Z"
   },
   {
    "duration": 6,
    "start_time": "2021-08-31T10:28:42.147Z"
   },
   {
    "duration": 108,
    "start_time": "2021-08-31T10:29:09.086Z"
   },
   {
    "duration": 6,
    "start_time": "2021-08-31T10:29:12.585Z"
   },
   {
    "duration": 5,
    "start_time": "2021-08-31T10:29:16.409Z"
   },
   {
    "duration": 5,
    "start_time": "2021-08-31T10:29:18.834Z"
   },
   {
    "duration": 69,
    "start_time": "2021-08-31T10:30:20.906Z"
   },
   {
    "duration": 5,
    "start_time": "2021-08-31T10:30:23.529Z"
   },
   {
    "duration": 7,
    "start_time": "2021-08-31T10:30:26.274Z"
   },
   {
    "duration": 5,
    "start_time": "2021-08-31T10:30:27.865Z"
   },
   {
    "duration": 6,
    "start_time": "2021-08-31T10:31:10.427Z"
   },
   {
    "duration": 4,
    "start_time": "2021-08-31T10:31:19.484Z"
   },
   {
    "duration": 6,
    "start_time": "2021-08-31T10:34:14.609Z"
   },
   {
    "duration": 259,
    "start_time": "2021-08-31T11:31:07.336Z"
   },
   {
    "duration": 68,
    "start_time": "2021-08-31T11:32:12.024Z"
   },
   {
    "duration": 4,
    "start_time": "2021-08-31T11:32:15.164Z"
   },
   {
    "duration": 6,
    "start_time": "2021-08-31T11:32:19.491Z"
   },
   {
    "duration": 5,
    "start_time": "2021-08-31T11:32:22.220Z"
   },
   {
    "duration": 6,
    "start_time": "2021-08-31T11:32:29.907Z"
   },
   {
    "duration": 248,
    "start_time": "2021-08-31T11:32:31.612Z"
   },
   {
    "duration": 66,
    "start_time": "2021-08-31T11:32:58.854Z"
   },
   {
    "duration": 5,
    "start_time": "2021-08-31T11:33:00.980Z"
   },
   {
    "duration": 6,
    "start_time": "2021-08-31T11:33:03.940Z"
   },
   {
    "duration": 4,
    "start_time": "2021-08-31T11:33:05.860Z"
   },
   {
    "duration": 7,
    "start_time": "2021-08-31T11:33:08.668Z"
   },
   {
    "duration": 9,
    "start_time": "2021-08-31T11:33:09.748Z"
   },
   {
    "duration": 4,
    "start_time": "2021-08-31T12:07:57.462Z"
   },
   {
    "duration": 1559,
    "start_time": "2021-08-31T12:07:57.468Z"
   },
   {
    "duration": 29,
    "start_time": "2021-08-31T12:07:59.029Z"
   },
   {
    "duration": 40,
    "start_time": "2021-08-31T12:07:59.060Z"
   },
   {
    "duration": 29,
    "start_time": "2021-08-31T12:07:59.101Z"
   },
   {
    "duration": 3,
    "start_time": "2021-08-31T12:07:59.132Z"
   },
   {
    "duration": 63,
    "start_time": "2021-08-31T12:07:59.137Z"
   },
   {
    "duration": 42,
    "start_time": "2021-08-31T12:07:59.201Z"
   },
   {
    "duration": 54,
    "start_time": "2021-08-31T12:07:59.247Z"
   },
   {
    "duration": 205,
    "start_time": "2021-08-31T12:07:59.304Z"
   },
   {
    "duration": 17,
    "start_time": "2021-08-31T12:07:59.511Z"
   },
   {
    "duration": 8,
    "start_time": "2021-08-31T12:07:59.529Z"
   },
   {
    "duration": 14,
    "start_time": "2021-08-31T12:07:59.538Z"
   },
   {
    "duration": 3,
    "start_time": "2021-08-31T12:07:59.554Z"
   },
   {
    "duration": 11,
    "start_time": "2021-08-31T12:07:59.558Z"
   },
   {
    "duration": 6,
    "start_time": "2021-08-31T12:07:59.592Z"
   },
   {
    "duration": 2503,
    "start_time": "2021-08-31T12:07:59.601Z"
   },
   {
    "duration": 9,
    "start_time": "2021-08-31T12:08:02.106Z"
   },
   {
    "duration": 767,
    "start_time": "2021-08-31T12:08:02.117Z"
   },
   {
    "duration": 223,
    "start_time": "2021-08-31T12:08:02.890Z"
   },
   {
    "duration": 236,
    "start_time": "2021-08-31T12:08:03.114Z"
   },
   {
    "duration": 358,
    "start_time": "2021-08-31T12:08:03.353Z"
   },
   {
    "duration": 222,
    "start_time": "2021-08-31T12:08:03.713Z"
   },
   {
    "duration": 21,
    "start_time": "2021-08-31T12:08:03.938Z"
   },
   {
    "duration": 84,
    "start_time": "2021-08-31T12:08:03.961Z"
   },
   {
    "duration": 4,
    "start_time": "2021-08-31T12:08:04.046Z"
   },
   {
    "duration": 5,
    "start_time": "2021-08-31T12:08:04.053Z"
   },
   {
    "duration": 6,
    "start_time": "2021-08-31T12:08:04.060Z"
   },
   {
    "duration": 24,
    "start_time": "2021-08-31T12:08:04.068Z"
   },
   {
    "duration": 4,
    "start_time": "2021-08-31T12:08:04.093Z"
   },
   {
    "duration": 8,
    "start_time": "2021-08-31T12:08:04.099Z"
   },
   {
    "duration": 12,
    "start_time": "2021-08-31T12:08:04.109Z"
   },
   {
    "duration": 18,
    "start_time": "2021-08-31T12:08:23.300Z"
   },
   {
    "duration": 279,
    "start_time": "2021-08-31T12:35:58.445Z"
   },
   {
    "duration": 255,
    "start_time": "2021-08-31T12:36:03.113Z"
   },
   {
    "duration": 150,
    "start_time": "2021-08-31T12:36:03.222Z"
   },
   {
    "duration": 145,
    "start_time": "2021-08-31T12:36:03.228Z"
   },
   {
    "duration": 141,
    "start_time": "2021-08-31T12:36:03.233Z"
   },
   {
    "duration": 140,
    "start_time": "2021-08-31T12:36:03.236Z"
   },
   {
    "duration": 137,
    "start_time": "2021-08-31T12:36:03.240Z"
   },
   {
    "duration": 136,
    "start_time": "2021-08-31T12:36:03.243Z"
   },
   {
    "duration": 134,
    "start_time": "2021-08-31T12:36:03.246Z"
   },
   {
    "duration": 132,
    "start_time": "2021-08-31T12:36:03.250Z"
   },
   {
    "duration": 130,
    "start_time": "2021-08-31T12:36:03.253Z"
   },
   {
    "duration": 128,
    "start_time": "2021-08-31T12:36:03.256Z"
   },
   {
    "duration": 127,
    "start_time": "2021-08-31T12:36:03.259Z"
   },
   {
    "duration": 125,
    "start_time": "2021-08-31T12:36:03.262Z"
   },
   {
    "duration": 117,
    "start_time": "2021-08-31T12:36:03.272Z"
   },
   {
    "duration": 115,
    "start_time": "2021-08-31T12:36:03.275Z"
   },
   {
    "duration": 111,
    "start_time": "2021-08-31T12:36:03.281Z"
   },
   {
    "duration": 109,
    "start_time": "2021-08-31T12:36:03.284Z"
   },
   {
    "duration": 106,
    "start_time": "2021-08-31T12:36:03.288Z"
   },
   {
    "duration": 105,
    "start_time": "2021-08-31T12:36:03.291Z"
   },
   {
    "duration": 104,
    "start_time": "2021-08-31T12:36:03.294Z"
   },
   {
    "duration": 102,
    "start_time": "2021-08-31T12:36:03.297Z"
   },
   {
    "duration": 101,
    "start_time": "2021-08-31T12:36:03.300Z"
   },
   {
    "duration": 99,
    "start_time": "2021-08-31T12:36:03.303Z"
   },
   {
    "duration": 95,
    "start_time": "2021-08-31T12:36:03.308Z"
   },
   {
    "duration": 93,
    "start_time": "2021-08-31T12:36:03.311Z"
   },
   {
    "duration": 90,
    "start_time": "2021-08-31T12:36:03.315Z"
   },
   {
    "duration": 88,
    "start_time": "2021-08-31T12:36:03.318Z"
   },
   {
    "duration": 85,
    "start_time": "2021-08-31T12:36:03.322Z"
   },
   {
    "duration": 83,
    "start_time": "2021-08-31T12:36:03.325Z"
   },
   {
    "duration": 81,
    "start_time": "2021-08-31T12:36:03.328Z"
   },
   {
    "duration": 79,
    "start_time": "2021-08-31T12:36:03.331Z"
   },
   {
    "duration": 77,
    "start_time": "2021-08-31T12:36:03.334Z"
   },
   {
    "duration": 76,
    "start_time": "2021-08-31T12:36:03.336Z"
   },
   {
    "duration": 75,
    "start_time": "2021-08-31T12:36:03.339Z"
   },
   {
    "duration": 5,
    "start_time": "2021-08-31T12:37:22.375Z"
   },
   {
    "duration": 5,
    "start_time": "2021-08-31T12:37:31.158Z"
   },
   {
    "duration": 1601,
    "start_time": "2021-08-31T12:37:31.166Z"
   },
   {
    "duration": 33,
    "start_time": "2021-08-31T12:37:32.769Z"
   },
   {
    "duration": 24,
    "start_time": "2021-08-31T12:37:32.804Z"
   },
   {
    "duration": 62,
    "start_time": "2021-08-31T12:37:32.830Z"
   },
   {
    "duration": 5,
    "start_time": "2021-08-31T12:37:32.894Z"
   },
   {
    "duration": 32,
    "start_time": "2021-08-31T12:37:32.901Z"
   },
   {
    "duration": 56,
    "start_time": "2021-08-31T12:37:32.936Z"
   },
   {
    "duration": 31,
    "start_time": "2021-08-31T12:37:32.994Z"
   },
   {
    "duration": 216,
    "start_time": "2021-08-31T12:37:33.027Z"
   },
   {
    "duration": 16,
    "start_time": "2021-08-31T12:37:33.244Z"
   },
   {
    "duration": 10,
    "start_time": "2021-08-31T12:37:33.261Z"
   },
   {
    "duration": 19,
    "start_time": "2021-08-31T12:37:33.273Z"
   },
   {
    "duration": 3,
    "start_time": "2021-08-31T12:37:33.294Z"
   },
   {
    "duration": 14,
    "start_time": "2021-08-31T12:37:33.298Z"
   },
   {
    "duration": 7,
    "start_time": "2021-08-31T12:37:33.314Z"
   },
   {
    "duration": 2440,
    "start_time": "2021-08-31T12:37:33.324Z"
   },
   {
    "duration": 7,
    "start_time": "2021-08-31T12:37:35.766Z"
   },
   {
    "duration": 968,
    "start_time": "2021-08-31T12:37:35.775Z"
   },
   {
    "duration": 220,
    "start_time": "2021-08-31T12:37:36.745Z"
   },
   {
    "duration": 237,
    "start_time": "2021-08-31T12:37:36.967Z"
   },
   {
    "duration": 225,
    "start_time": "2021-08-31T12:37:37.207Z"
   },
   {
    "duration": 257,
    "start_time": "2021-08-31T12:37:37.435Z"
   },
   {
    "duration": 26,
    "start_time": "2021-08-31T12:37:37.694Z"
   },
   {
    "duration": 79,
    "start_time": "2021-08-31T12:37:37.722Z"
   },
   {
    "duration": 4,
    "start_time": "2021-08-31T12:37:37.803Z"
   },
   {
    "duration": 5,
    "start_time": "2021-08-31T12:37:37.809Z"
   },
   {
    "duration": 5,
    "start_time": "2021-08-31T12:37:37.816Z"
   },
   {
    "duration": 8,
    "start_time": "2021-08-31T12:37:37.823Z"
   },
   {
    "duration": 5,
    "start_time": "2021-08-31T12:37:37.833Z"
   },
   {
    "duration": 8,
    "start_time": "2021-08-31T12:37:37.839Z"
   },
   {
    "duration": 17,
    "start_time": "2021-08-31T12:37:37.849Z"
   },
   {
    "duration": 38,
    "start_time": "2021-08-31T12:37:37.868Z"
   },
   {
    "duration": 281,
    "start_time": "2021-08-31T12:37:37.908Z"
   },
   {
    "duration": 3,
    "start_time": "2021-08-31T12:38:38.730Z"
   },
   {
    "duration": 290,
    "start_time": "2021-08-31T12:38:41.628Z"
   },
   {
    "duration": 297,
    "start_time": "2021-08-31T12:42:17.157Z"
   },
   {
    "duration": 14,
    "start_time": "2021-08-31T12:43:02.790Z"
   },
   {
    "duration": 5,
    "start_time": "2021-08-31T12:43:11.741Z"
   },
   {
    "duration": 1662,
    "start_time": "2021-08-31T12:43:11.748Z"
   },
   {
    "duration": 27,
    "start_time": "2021-08-31T12:43:13.413Z"
   },
   {
    "duration": 24,
    "start_time": "2021-08-31T12:43:13.442Z"
   },
   {
    "duration": 50,
    "start_time": "2021-08-31T12:43:13.468Z"
   },
   {
    "duration": 4,
    "start_time": "2021-08-31T12:43:13.519Z"
   },
   {
    "duration": 39,
    "start_time": "2021-08-31T12:43:13.525Z"
   },
   {
    "duration": 50,
    "start_time": "2021-08-31T12:43:13.566Z"
   },
   {
    "duration": 31,
    "start_time": "2021-08-31T12:43:13.618Z"
   },
   {
    "duration": 226,
    "start_time": "2021-08-31T12:43:13.651Z"
   },
   {
    "duration": 23,
    "start_time": "2021-08-31T12:43:13.878Z"
   },
   {
    "duration": 4,
    "start_time": "2021-08-31T12:43:13.903Z"
   },
   {
    "duration": 11,
    "start_time": "2021-08-31T12:43:13.909Z"
   },
   {
    "duration": 3,
    "start_time": "2021-08-31T12:43:13.922Z"
   },
   {
    "duration": 16,
    "start_time": "2021-08-31T12:43:13.927Z"
   },
   {
    "duration": 10,
    "start_time": "2021-08-31T12:43:13.945Z"
   },
   {
    "duration": 2726,
    "start_time": "2021-08-31T12:43:13.956Z"
   },
   {
    "duration": 11,
    "start_time": "2021-08-31T12:43:16.692Z"
   },
   {
    "duration": 1269,
    "start_time": "2021-08-31T12:43:16.706Z"
   },
   {
    "duration": 355,
    "start_time": "2021-08-31T12:43:17.978Z"
   },
   {
    "duration": 245,
    "start_time": "2021-08-31T12:43:18.336Z"
   },
   {
    "duration": 232,
    "start_time": "2021-08-31T12:43:18.583Z"
   },
   {
    "duration": 229,
    "start_time": "2021-08-31T12:43:18.819Z"
   },
   {
    "duration": 25,
    "start_time": "2021-08-31T12:43:19.051Z"
   },
   {
    "duration": 74,
    "start_time": "2021-08-31T12:43:19.093Z"
   },
   {
    "duration": 5,
    "start_time": "2021-08-31T12:43:19.170Z"
   },
   {
    "duration": 5,
    "start_time": "2021-08-31T12:43:19.193Z"
   },
   {
    "duration": 8,
    "start_time": "2021-08-31T12:43:19.200Z"
   },
   {
    "duration": 9,
    "start_time": "2021-08-31T12:43:19.210Z"
   },
   {
    "duration": 8,
    "start_time": "2021-08-31T12:43:19.221Z"
   },
   {
    "duration": 10,
    "start_time": "2021-08-31T12:43:19.231Z"
   },
   {
    "duration": 12,
    "start_time": "2021-08-31T12:43:19.243Z"
   },
   {
    "duration": 51,
    "start_time": "2021-08-31T12:43:19.257Z"
   },
   {
    "duration": 5,
    "start_time": "2021-08-31T12:48:15.873Z"
   },
   {
    "duration": 5,
    "start_time": "2021-08-31T12:48:31.219Z"
   },
   {
    "duration": 1861,
    "start_time": "2021-08-31T12:48:31.226Z"
   },
   {
    "duration": 27,
    "start_time": "2021-08-31T12:48:33.091Z"
   },
   {
    "duration": 28,
    "start_time": "2021-08-31T12:48:33.121Z"
   },
   {
    "duration": 61,
    "start_time": "2021-08-31T12:48:33.150Z"
   },
   {
    "duration": 5,
    "start_time": "2021-08-31T12:48:33.213Z"
   },
   {
    "duration": 33,
    "start_time": "2021-08-31T12:48:33.221Z"
   },
   {
    "duration": 64,
    "start_time": "2021-08-31T12:48:33.257Z"
   },
   {
    "duration": 31,
    "start_time": "2021-08-31T12:48:33.323Z"
   },
   {
    "duration": 218,
    "start_time": "2021-08-31T12:48:33.356Z"
   },
   {
    "duration": 23,
    "start_time": "2021-08-31T12:48:33.576Z"
   },
   {
    "duration": 6,
    "start_time": "2021-08-31T12:48:33.602Z"
   },
   {
    "duration": 15,
    "start_time": "2021-08-31T12:48:33.610Z"
   },
   {
    "duration": 4,
    "start_time": "2021-08-31T12:48:33.627Z"
   },
   {
    "duration": 8,
    "start_time": "2021-08-31T12:48:33.633Z"
   },
   {
    "duration": 8,
    "start_time": "2021-08-31T12:48:33.643Z"
   },
   {
    "duration": 2470,
    "start_time": "2021-08-31T12:48:33.653Z"
   },
   {
    "duration": 7,
    "start_time": "2021-08-31T12:48:36.125Z"
   },
   {
    "duration": 827,
    "start_time": "2021-08-31T12:48:36.136Z"
   },
   {
    "duration": 232,
    "start_time": "2021-08-31T12:48:36.965Z"
   },
   {
    "duration": 362,
    "start_time": "2021-08-31T12:48:37.200Z"
   },
   {
    "duration": 237,
    "start_time": "2021-08-31T12:48:37.564Z"
   },
   {
    "duration": 209,
    "start_time": "2021-08-31T12:48:37.803Z"
   },
   {
    "duration": 24,
    "start_time": "2021-08-31T12:48:38.013Z"
   },
   {
    "duration": 85,
    "start_time": "2021-08-31T12:48:38.039Z"
   },
   {
    "duration": 4,
    "start_time": "2021-08-31T12:48:38.126Z"
   },
   {
    "duration": 18,
    "start_time": "2021-08-31T12:48:38.132Z"
   },
   {
    "duration": 5,
    "start_time": "2021-08-31T12:48:38.152Z"
   },
   {
    "duration": 10,
    "start_time": "2021-08-31T12:48:38.159Z"
   },
   {
    "duration": 6,
    "start_time": "2021-08-31T12:48:38.171Z"
   },
   {
    "duration": 17,
    "start_time": "2021-08-31T12:48:38.179Z"
   },
   {
    "duration": 12,
    "start_time": "2021-08-31T12:48:38.198Z"
   },
   {
    "duration": 18,
    "start_time": "2021-08-31T12:48:38.212Z"
   },
   {
    "duration": 3,
    "start_time": "2021-08-31T12:48:38.232Z"
   },
   {
    "duration": 13,
    "start_time": "2021-08-31T12:48:38.237Z"
   },
   {
    "duration": 244,
    "start_time": "2021-08-31T12:51:13.819Z"
   },
   {
    "duration": 247,
    "start_time": "2021-08-31T12:51:23.753Z"
   },
   {
    "duration": 408,
    "start_time": "2021-08-31T12:51:42.399Z"
   },
   {
    "duration": 5,
    "start_time": "2021-08-31T12:57:08.639Z"
   },
   {
    "duration": 787,
    "start_time": "2021-08-31T12:57:17.775Z"
   },
   {
    "duration": 259,
    "start_time": "2021-08-31T12:58:09.576Z"
   },
   {
    "duration": 651,
    "start_time": "2021-08-31T12:58:28.904Z"
   },
   {
    "duration": 251,
    "start_time": "2021-08-31T12:58:35.392Z"
   },
   {
    "duration": 5,
    "start_time": "2021-08-31T13:03:50.345Z"
   },
   {
    "duration": 5,
    "start_time": "2021-08-31T13:05:46.889Z"
   },
   {
    "duration": 2101,
    "start_time": "2021-08-31T13:05:46.896Z"
   },
   {
    "duration": 41,
    "start_time": "2021-08-31T13:05:49.000Z"
   },
   {
    "duration": 32,
    "start_time": "2021-08-31T13:05:49.044Z"
   },
   {
    "duration": 46,
    "start_time": "2021-08-31T13:05:49.078Z"
   },
   {
    "duration": 4,
    "start_time": "2021-08-31T13:05:49.126Z"
   },
   {
    "duration": 40,
    "start_time": "2021-08-31T13:05:49.133Z"
   },
   {
    "duration": 41,
    "start_time": "2021-08-31T13:05:49.175Z"
   },
   {
    "duration": 31,
    "start_time": "2021-08-31T13:05:49.217Z"
   },
   {
    "duration": 202,
    "start_time": "2021-08-31T13:05:49.249Z"
   },
   {
    "duration": 14,
    "start_time": "2021-08-31T13:05:49.453Z"
   },
   {
    "duration": 22,
    "start_time": "2021-08-31T13:05:49.469Z"
   },
   {
    "duration": 15,
    "start_time": "2021-08-31T13:05:49.493Z"
   },
   {
    "duration": 4,
    "start_time": "2021-08-31T13:05:49.510Z"
   },
   {
    "duration": 12,
    "start_time": "2021-08-31T13:05:49.516Z"
   },
   {
    "duration": 6,
    "start_time": "2021-08-31T13:05:49.529Z"
   },
   {
    "duration": 2663,
    "start_time": "2021-08-31T13:05:49.537Z"
   },
   {
    "duration": 7,
    "start_time": "2021-08-31T13:05:52.206Z"
   },
   {
    "duration": 894,
    "start_time": "2021-08-31T13:05:52.216Z"
   },
   {
    "duration": 291,
    "start_time": "2021-08-31T13:05:53.112Z"
   },
   {
    "duration": 344,
    "start_time": "2021-08-31T13:05:53.405Z"
   },
   {
    "duration": 339,
    "start_time": "2021-08-31T13:05:53.752Z"
   },
   {
    "duration": 320,
    "start_time": "2021-08-31T13:05:54.094Z"
   },
   {
    "duration": 27,
    "start_time": "2021-08-31T13:05:54.416Z"
   },
   {
    "duration": 108,
    "start_time": "2021-08-31T13:05:54.445Z"
   },
   {
    "duration": 5,
    "start_time": "2021-08-31T13:05:54.555Z"
   },
   {
    "duration": 16,
    "start_time": "2021-08-31T13:05:54.563Z"
   },
   {
    "duration": 17,
    "start_time": "2021-08-31T13:05:54.581Z"
   },
   {
    "duration": 3,
    "start_time": "2021-08-31T13:06:04.135Z"
   },
   {
    "duration": 6,
    "start_time": "2021-08-31T13:06:05.246Z"
   },
   {
    "duration": 5,
    "start_time": "2021-08-31T13:06:06.630Z"
   },
   {
    "duration": 7,
    "start_time": "2021-08-31T13:06:10.414Z"
   },
   {
    "duration": 9,
    "start_time": "2021-08-31T13:06:11.374Z"
   },
   {
    "duration": 19,
    "start_time": "2021-08-31T13:06:12.487Z"
   },
   {
    "duration": 253,
    "start_time": "2021-08-31T13:06:24.815Z"
   },
   {
    "duration": 637,
    "start_time": "2021-08-31T13:06:31.038Z"
   },
   {
    "duration": 4,
    "start_time": "2021-08-31T13:07:03.392Z"
   },
   {
    "duration": 2,
    "start_time": "2021-08-31T13:07:04.334Z"
   },
   {
    "duration": 541387,
    "start_time": "2021-08-31T13:07:09.068Z"
   },
   {
    "duration": 5,
    "start_time": "2021-08-31T13:16:28.386Z"
   },
   {
    "duration": 5,
    "start_time": "2021-08-31T13:16:40.775Z"
   },
   {
    "duration": 1308286,
    "start_time": "2021-08-31T13:17:09.854Z"
   },
   {
    "duration": 4,
    "start_time": "2021-08-31T14:26:18.076Z"
   },
   {
    "duration": 4,
    "start_time": "2021-08-31T14:26:20.338Z"
   },
   {
    "duration": 1545,
    "start_time": "2021-08-31T20:00:40.737Z"
   },
   {
    "duration": 8,
    "start_time": "2021-08-31T20:03:37.735Z"
   },
   {
    "duration": 2592,
    "start_time": "2021-08-31T20:03:37.746Z"
   },
   {
    "duration": 53,
    "start_time": "2021-08-31T20:03:40.341Z"
   },
   {
    "duration": 32,
    "start_time": "2021-08-31T20:03:40.397Z"
   },
   {
    "duration": 65,
    "start_time": "2021-08-31T20:03:40.432Z"
   },
   {
    "duration": 6,
    "start_time": "2021-08-31T20:03:40.499Z"
   },
   {
    "duration": 62,
    "start_time": "2021-08-31T20:03:40.507Z"
   },
   {
    "duration": 46,
    "start_time": "2021-08-31T20:03:40.572Z"
   },
   {
    "duration": 58,
    "start_time": "2021-08-31T20:03:40.621Z"
   },
   {
    "duration": 330,
    "start_time": "2021-08-31T20:03:40.682Z"
   },
   {
    "duration": 17,
    "start_time": "2021-08-31T20:03:41.015Z"
   },
   {
    "duration": 4,
    "start_time": "2021-08-31T20:03:41.035Z"
   },
   {
    "duration": 13,
    "start_time": "2021-08-31T20:03:41.063Z"
   },
   {
    "duration": 4,
    "start_time": "2021-08-31T20:03:41.078Z"
   },
   {
    "duration": 21,
    "start_time": "2021-08-31T20:03:41.084Z"
   },
   {
    "duration": 13,
    "start_time": "2021-08-31T20:03:41.108Z"
   },
   {
    "duration": 3985,
    "start_time": "2021-08-31T20:03:41.123Z"
   },
   {
    "duration": 9,
    "start_time": "2021-08-31T20:03:45.111Z"
   },
   {
    "duration": 1267,
    "start_time": "2021-08-31T20:03:45.122Z"
   },
   {
    "duration": 350,
    "start_time": "2021-08-31T20:03:46.391Z"
   },
   {
    "duration": 364,
    "start_time": "2021-08-31T20:03:46.743Z"
   },
   {
    "duration": 473,
    "start_time": "2021-08-31T20:03:47.110Z"
   },
   {
    "duration": 340,
    "start_time": "2021-08-31T20:03:47.588Z"
   },
   {
    "duration": 46,
    "start_time": "2021-08-31T20:03:47.931Z"
   },
   {
    "duration": 101,
    "start_time": "2021-08-31T20:03:47.980Z"
   },
   {
    "duration": 5,
    "start_time": "2021-08-31T20:03:48.083Z"
   },
   {
    "duration": 26,
    "start_time": "2021-08-31T20:03:48.090Z"
   },
   {
    "duration": 14,
    "start_time": "2021-08-31T20:03:48.119Z"
   },
   {
    "duration": 10,
    "start_time": "2021-08-31T20:03:48.136Z"
   },
   {
    "duration": 19,
    "start_time": "2021-08-31T20:03:48.148Z"
   },
   {
    "duration": 28,
    "start_time": "2021-08-31T20:03:48.169Z"
   },
   {
    "duration": 8,
    "start_time": "2021-08-31T20:03:48.200Z"
   },
   {
    "duration": 12,
    "start_time": "2021-08-31T20:03:48.211Z"
   },
   {
    "duration": 28,
    "start_time": "2021-08-31T20:03:48.225Z"
   },
   {
    "duration": 24,
    "start_time": "2021-08-31T20:03:48.255Z"
   },
   {
    "duration": 385,
    "start_time": "2021-08-31T20:09:23.749Z"
   },
   {
    "duration": 222,
    "start_time": "2021-08-31T20:41:23.574Z"
   },
   {
    "duration": 5,
    "start_time": "2021-08-31T20:41:41.266Z"
   },
   {
    "duration": 5,
    "start_time": "2021-08-31T20:41:49.202Z"
   },
   {
    "duration": 6,
    "start_time": "2021-08-31T20:41:57.603Z"
   },
   {
    "duration": 13,
    "start_time": "2021-08-31T20:42:09.451Z"
   },
   {
    "duration": 253,
    "start_time": "2021-08-31T20:42:33.406Z"
   },
   {
    "duration": 12,
    "start_time": "2021-08-31T20:42:41.651Z"
   },
   {
    "duration": 287,
    "start_time": "2021-08-31T21:13:06.239Z"
   },
   {
    "duration": 11,
    "start_time": "2021-08-31T21:13:28.300Z"
   },
   {
    "duration": 278,
    "start_time": "2021-08-31T21:14:09.404Z"
   },
   {
    "duration": 85,
    "start_time": "2021-08-31T21:14:28.977Z"
   },
   {
    "duration": 13,
    "start_time": "2021-08-31T21:14:33.251Z"
   },
   {
    "duration": 15,
    "start_time": "2021-08-31T21:14:57.047Z"
   },
   {
    "duration": 247,
    "start_time": "2021-08-31T21:48:15.334Z"
   },
   {
    "duration": 268,
    "start_time": "2021-08-31T21:48:32.415Z"
   },
   {
    "duration": 275,
    "start_time": "2021-08-31T21:49:44.616Z"
   },
   {
    "duration": 8,
    "start_time": "2021-08-31T21:49:55.622Z"
   },
   {
    "duration": 3698,
    "start_time": "2021-08-31T21:49:55.632Z"
   },
   {
    "duration": 49,
    "start_time": "2021-08-31T21:49:59.333Z"
   },
   {
    "duration": 34,
    "start_time": "2021-08-31T21:49:59.385Z"
   },
   {
    "duration": 70,
    "start_time": "2021-08-31T21:49:59.421Z"
   },
   {
    "duration": 6,
    "start_time": "2021-08-31T21:49:59.493Z"
   },
   {
    "duration": 44,
    "start_time": "2021-08-31T21:49:59.501Z"
   },
   {
    "duration": 61,
    "start_time": "2021-08-31T21:49:59.548Z"
   },
   {
    "duration": 66,
    "start_time": "2021-08-31T21:49:59.612Z"
   },
   {
    "duration": 349,
    "start_time": "2021-08-31T21:49:59.681Z"
   },
   {
    "duration": 31,
    "start_time": "2021-08-31T21:50:00.033Z"
   },
   {
    "duration": 11,
    "start_time": "2021-08-31T21:50:00.067Z"
   },
   {
    "duration": 26,
    "start_time": "2021-08-31T21:50:00.080Z"
   },
   {
    "duration": 16,
    "start_time": "2021-08-31T21:50:00.109Z"
   },
   {
    "duration": 26,
    "start_time": "2021-08-31T21:50:00.128Z"
   },
   {
    "duration": 19,
    "start_time": "2021-08-31T21:50:00.157Z"
   },
   {
    "duration": 4282,
    "start_time": "2021-08-31T21:50:00.179Z"
   },
   {
    "duration": 11,
    "start_time": "2021-08-31T21:50:04.464Z"
   },
   {
    "duration": 1529,
    "start_time": "2021-08-31T21:50:04.479Z"
   },
   {
    "duration": 400,
    "start_time": "2021-08-31T21:50:06.011Z"
   },
   {
    "duration": 392,
    "start_time": "2021-08-31T21:50:06.415Z"
   },
   {
    "duration": 378,
    "start_time": "2021-08-31T21:50:06.810Z"
   },
   {
    "duration": 372,
    "start_time": "2021-08-31T21:50:07.190Z"
   },
   {
    "duration": 32,
    "start_time": "2021-08-31T21:50:07.564Z"
   },
   {
    "duration": 125,
    "start_time": "2021-08-31T21:50:07.600Z"
   },
   {
    "duration": 7,
    "start_time": "2021-08-31T21:50:07.728Z"
   },
   {
    "duration": 23,
    "start_time": "2021-08-31T21:50:07.740Z"
   },
   {
    "duration": 11,
    "start_time": "2021-08-31T21:50:07.765Z"
   },
   {
    "duration": 6,
    "start_time": "2021-08-31T21:50:07.779Z"
   },
   {
    "duration": 9,
    "start_time": "2021-08-31T21:50:07.788Z"
   },
   {
    "duration": 12,
    "start_time": "2021-08-31T21:50:07.800Z"
   },
   {
    "duration": 8,
    "start_time": "2021-08-31T21:50:07.815Z"
   },
   {
    "duration": 39,
    "start_time": "2021-08-31T21:50:07.825Z"
   },
   {
    "duration": 25,
    "start_time": "2021-08-31T21:50:07.867Z"
   },
   {
    "duration": 25,
    "start_time": "2021-08-31T21:50:07.895Z"
   },
   {
    "duration": 227,
    "start_time": "2021-08-31T21:50:12.027Z"
   },
   {
    "duration": 245,
    "start_time": "2021-08-31T22:40:32.194Z"
   },
   {
    "duration": 230,
    "start_time": "2021-08-31T22:40:42.940Z"
   },
   {
    "duration": 16,
    "start_time": "2021-08-31T22:42:11.975Z"
   },
   {
    "duration": 208,
    "start_time": "2021-08-31T22:42:13.576Z"
   },
   {
    "duration": 5,
    "start_time": "2021-08-31T22:42:35.294Z"
   },
   {
    "duration": 1281,
    "start_time": "2021-09-01T08:47:41.087Z"
   },
   {
    "duration": 1929,
    "start_time": "2021-09-01T08:47:42.370Z"
   },
   {
    "duration": 30,
    "start_time": "2021-09-01T08:47:44.301Z"
   },
   {
    "duration": 22,
    "start_time": "2021-09-01T08:47:44.333Z"
   },
   {
    "duration": 54,
    "start_time": "2021-09-01T08:47:44.357Z"
   },
   {
    "duration": 3,
    "start_time": "2021-09-01T08:47:44.413Z"
   },
   {
    "duration": 32,
    "start_time": "2021-09-01T08:47:44.418Z"
   },
   {
    "duration": 60,
    "start_time": "2021-09-01T08:47:44.453Z"
   },
   {
    "duration": 35,
    "start_time": "2021-09-01T08:47:44.516Z"
   },
   {
    "duration": 237,
    "start_time": "2021-09-01T08:47:44.554Z"
   },
   {
    "duration": 14,
    "start_time": "2021-09-01T08:47:44.793Z"
   },
   {
    "duration": 6,
    "start_time": "2021-09-01T08:47:44.809Z"
   },
   {
    "duration": 11,
    "start_time": "2021-09-01T08:47:44.817Z"
   },
   {
    "duration": 13,
    "start_time": "2021-09-01T08:47:44.830Z"
   },
   {
    "duration": 17,
    "start_time": "2021-09-01T08:47:44.846Z"
   },
   {
    "duration": 32,
    "start_time": "2021-09-01T08:47:44.865Z"
   },
   {
    "duration": 4184,
    "start_time": "2021-09-01T08:47:44.900Z"
   },
   {
    "duration": 10,
    "start_time": "2021-09-01T08:47:49.090Z"
   },
   {
    "duration": 1244,
    "start_time": "2021-09-01T08:47:49.102Z"
   },
   {
    "duration": 354,
    "start_time": "2021-09-01T08:47:50.349Z"
   },
   {
    "duration": 369,
    "start_time": "2021-09-01T08:47:50.705Z"
   },
   {
    "duration": 554,
    "start_time": "2021-09-01T08:47:51.076Z"
   },
   {
    "duration": 350,
    "start_time": "2021-09-01T08:47:51.635Z"
   },
   {
    "duration": 31,
    "start_time": "2021-09-01T08:47:51.992Z"
   },
   {
    "duration": 126,
    "start_time": "2021-09-01T08:47:52.025Z"
   },
   {
    "duration": 5,
    "start_time": "2021-09-01T08:47:52.153Z"
   },
   {
    "duration": 14,
    "start_time": "2021-09-01T08:47:52.160Z"
   },
   {
    "duration": 14,
    "start_time": "2021-09-01T08:47:52.175Z"
   },
   {
    "duration": 13,
    "start_time": "2021-09-01T08:47:52.191Z"
   },
   {
    "duration": 16,
    "start_time": "2021-09-01T08:47:52.206Z"
   },
   {
    "duration": 22,
    "start_time": "2021-09-01T08:47:52.224Z"
   },
   {
    "duration": 28,
    "start_time": "2021-09-01T08:47:52.248Z"
   },
   {
    "duration": 27,
    "start_time": "2021-09-01T08:47:52.277Z"
   },
   {
    "duration": 20,
    "start_time": "2021-09-01T08:47:52.306Z"
   },
   {
    "duration": 39,
    "start_time": "2021-09-01T08:47:52.327Z"
   },
   {
    "duration": 4,
    "start_time": "2021-09-01T08:47:52.367Z"
   },
   {
    "duration": 439,
    "start_time": "2021-09-01T08:48:41.145Z"
   },
   {
    "duration": 301,
    "start_time": "2021-09-01T08:48:48.139Z"
   },
   {
    "duration": 293,
    "start_time": "2021-09-01T08:48:59.208Z"
   },
   {
    "duration": 255,
    "start_time": "2021-09-01T08:49:09.986Z"
   },
   {
    "duration": 277,
    "start_time": "2021-09-01T08:51:00.464Z"
   },
   {
    "duration": 251,
    "start_time": "2021-09-01T08:51:14.329Z"
   },
   {
    "duration": 8,
    "start_time": "2021-09-01T08:51:25.169Z"
   },
   {
    "duration": 4,
    "start_time": "2021-09-01T08:51:46.466Z"
   },
   {
    "duration": 5,
    "start_time": "2021-09-01T08:51:55.563Z"
   },
   {
    "duration": 5,
    "start_time": "2021-09-01T08:52:01.658Z"
   },
   {
    "duration": 5,
    "start_time": "2021-09-01T08:52:07.546Z"
   },
   {
    "duration": 4,
    "start_time": "2021-09-01T08:52:25.395Z"
   },
   {
    "duration": 4,
    "start_time": "2021-09-01T08:52:37.155Z"
   },
   {
    "duration": 11,
    "start_time": "2021-09-01T08:56:22.346Z"
   },
   {
    "duration": 12,
    "start_time": "2021-09-01T08:57:24.431Z"
   },
   {
    "duration": 5,
    "start_time": "2021-09-01T08:58:56.793Z"
   },
   {
    "duration": 5,
    "start_time": "2021-09-01T08:59:08.801Z"
   },
   {
    "duration": 7,
    "start_time": "2021-09-01T08:59:22.995Z"
   },
   {
    "duration": 8,
    "start_time": "2021-09-01T08:59:36.585Z"
   },
   {
    "duration": 5,
    "start_time": "2021-09-01T08:59:44.378Z"
   },
   {
    "duration": 7,
    "start_time": "2021-09-01T09:00:01.401Z"
   },
   {
    "duration": 7,
    "start_time": "2021-09-01T09:00:06.746Z"
   },
   {
    "duration": 6,
    "start_time": "2021-09-01T09:00:24.258Z"
   },
   {
    "duration": 7,
    "start_time": "2021-09-01T09:01:32.452Z"
   },
   {
    "duration": 10,
    "start_time": "2021-09-01T09:02:10.012Z"
   },
   {
    "duration": 12,
    "start_time": "2021-09-01T09:03:00.430Z"
   },
   {
    "duration": 10,
    "start_time": "2021-09-01T09:03:18.684Z"
   },
   {
    "duration": 14,
    "start_time": "2021-09-01T09:03:38.759Z"
   },
   {
    "duration": 8,
    "start_time": "2021-09-01T09:04:05.078Z"
   },
   {
    "duration": 10,
    "start_time": "2021-09-01T09:05:07.504Z"
   },
   {
    "duration": 7,
    "start_time": "2021-09-01T09:05:14.775Z"
   },
   {
    "duration": 9,
    "start_time": "2021-09-01T09:05:43.223Z"
   },
   {
    "duration": 414,
    "start_time": "2021-09-01T09:05:47.803Z"
   },
   {
    "duration": 11,
    "start_time": "2021-09-01T09:06:15.161Z"
   },
   {
    "duration": 13,
    "start_time": "2021-09-01T09:06:16.711Z"
   },
   {
    "duration": 11,
    "start_time": "2021-09-01T09:06:20.840Z"
   },
   {
    "duration": 23,
    "start_time": "2021-09-01T09:06:33.339Z"
   },
   {
    "duration": 9,
    "start_time": "2021-09-01T09:06:44.514Z"
   },
   {
    "duration": 8,
    "start_time": "2021-09-01T09:07:35.146Z"
   },
   {
    "duration": 247,
    "start_time": "2021-09-01T09:10:19.205Z"
   },
   {
    "duration": 246,
    "start_time": "2021-09-01T09:13:41.086Z"
   },
   {
    "duration": 263,
    "start_time": "2021-09-01T09:13:57.041Z"
   },
   {
    "duration": 512,
    "start_time": "2021-09-01T09:14:34.761Z"
   },
   {
    "duration": 251,
    "start_time": "2021-09-01T09:15:35.715Z"
   },
   {
    "duration": 6,
    "start_time": "2021-09-01T09:16:12.578Z"
   },
   {
    "duration": 10,
    "start_time": "2021-09-01T09:16:13.674Z"
   },
   {
    "duration": 11,
    "start_time": "2021-09-01T09:16:15.429Z"
   },
   {
    "duration": 267,
    "start_time": "2021-09-01T09:16:17.298Z"
   },
   {
    "duration": 12,
    "start_time": "2021-09-01T09:17:05.620Z"
   },
   {
    "duration": 263,
    "start_time": "2021-09-01T09:18:09.063Z"
   },
   {
    "duration": 10,
    "start_time": "2021-09-01T09:18:29.309Z"
   },
   {
    "duration": 14,
    "start_time": "2021-09-01T09:18:30.358Z"
   },
   {
    "duration": 271,
    "start_time": "2021-09-01T09:18:32.988Z"
   },
   {
    "duration": 461,
    "start_time": "2021-09-01T09:21:23.552Z"
   },
   {
    "duration": 13,
    "start_time": "2021-09-01T09:21:37.376Z"
   },
   {
    "duration": 11,
    "start_time": "2021-09-01T09:22:28.557Z"
   },
   {
    "duration": 284,
    "start_time": "2021-09-01T09:23:25.338Z"
   },
   {
    "duration": 12,
    "start_time": "2021-09-01T09:23:41.356Z"
   },
   {
    "duration": 13,
    "start_time": "2021-09-01T09:23:51.428Z"
   },
   {
    "duration": 11,
    "start_time": "2021-09-01T09:24:01.394Z"
   },
   {
    "duration": 13,
    "start_time": "2021-09-01T09:24:12.145Z"
   },
   {
    "duration": 12,
    "start_time": "2021-09-01T09:24:19.922Z"
   },
   {
    "duration": 11,
    "start_time": "2021-09-01T09:24:39.579Z"
   },
   {
    "duration": 14,
    "start_time": "2021-09-01T09:24:50.411Z"
   },
   {
    "duration": 18,
    "start_time": "2021-09-01T09:25:08.124Z"
   },
   {
    "duration": 18,
    "start_time": "2021-09-01T09:26:00.637Z"
   },
   {
    "duration": 492,
    "start_time": "2021-09-01T09:26:02.742Z"
   },
   {
    "duration": 8,
    "start_time": "2021-09-01T09:26:34.785Z"
   },
   {
    "duration": 762,
    "start_time": "2021-09-01T09:27:03.141Z"
   },
   {
    "duration": 18,
    "start_time": "2021-09-01T09:28:02.440Z"
   },
   {
    "duration": 16,
    "start_time": "2021-09-01T09:28:39.911Z"
   },
   {
    "duration": 9,
    "start_time": "2021-09-01T09:28:52.135Z"
   },
   {
    "duration": 4,
    "start_time": "2021-09-01T09:29:04.759Z"
   },
   {
    "duration": 6,
    "start_time": "2021-09-01T09:29:12.992Z"
   },
   {
    "duration": 5,
    "start_time": "2021-09-01T09:29:23.071Z"
   },
   {
    "duration": 6314,
    "start_time": "2021-09-01T09:29:37.095Z"
   },
   {
    "duration": 7,
    "start_time": "2021-09-01T09:29:56.211Z"
   },
   {
    "duration": 3,
    "start_time": "2021-09-01T09:30:29.410Z"
   },
   {
    "duration": 4,
    "start_time": "2021-09-01T09:30:42.009Z"
   },
   {
    "duration": 5,
    "start_time": "2021-09-01T09:31:11.353Z"
   },
   {
    "duration": 13,
    "start_time": "2021-09-01T09:31:13.170Z"
   },
   {
    "duration": 10,
    "start_time": "2021-09-01T09:31:14.995Z"
   },
   {
    "duration": 8,
    "start_time": "2021-09-01T09:32:16.178Z"
   },
   {
    "duration": 1114275,
    "start_time": "2021-09-01T09:33:27.780Z"
   },
   {
    "duration": 4,
    "start_time": "2021-09-01T09:52:47.296Z"
   },
   {
    "duration": 4,
    "start_time": "2021-09-01T09:52:51.280Z"
   },
   {
    "duration": 1772104,
    "start_time": "2021-09-01T09:54:45.042Z"
   },
   {
    "duration": 3,
    "start_time": "2021-09-01T10:38:40.080Z"
   },
   {
    "duration": 4,
    "start_time": "2021-09-01T10:38:53.479Z"
   },
   {
    "duration": 5,
    "start_time": "2021-09-01T10:43:09.411Z"
   },
   {
    "duration": 144455,
    "start_time": "2021-09-01T10:44:25.888Z"
   },
   {
    "duration": 3,
    "start_time": "2021-09-01T10:48:14.306Z"
   },
   {
    "duration": 4,
    "start_time": "2021-09-01T10:48:15.929Z"
   },
   {
    "duration": 143072,
    "start_time": "2021-09-01T10:49:22.067Z"
   },
   {
    "duration": 4,
    "start_time": "2021-09-01T10:52:28.711Z"
   },
   {
    "duration": 4,
    "start_time": "2021-09-01T10:52:30.871Z"
   },
   {
    "duration": 246052,
    "start_time": "2021-09-01T10:52:51.645Z"
   },
   {
    "duration": 4,
    "start_time": "2021-09-01T10:59:12.577Z"
   },
   {
    "duration": 4,
    "start_time": "2021-09-01T10:59:14.031Z"
   },
   {
    "duration": 5,
    "start_time": "2021-09-01T10:59:56.455Z"
   },
   {
    "duration": 556,
    "start_time": "2021-09-01T11:05:15.352Z"
   },
   {
    "duration": 258,
    "start_time": "2021-09-01T11:17:06.385Z"
   },
   {
    "duration": 615,
    "start_time": "2021-09-01T11:18:01.177Z"
   },
   {
    "duration": 515,
    "start_time": "2021-09-01T11:19:09.482Z"
   },
   {
    "duration": 4,
    "start_time": "2021-09-01T11:20:02.981Z"
   },
   {
    "duration": 360,
    "start_time": "2021-09-01T11:20:14.031Z"
   },
   {
    "duration": 507,
    "start_time": "2021-09-01T11:20:29.309Z"
   },
   {
    "duration": 4,
    "start_time": "2021-09-01T11:21:47.581Z"
   },
   {
    "duration": 4,
    "start_time": "2021-09-01T11:21:54.405Z"
   },
   {
    "duration": 5,
    "start_time": "2021-09-01T11:22:04.404Z"
   },
   {
    "duration": 4,
    "start_time": "2021-09-01T11:22:21.662Z"
   },
   {
    "duration": 5,
    "start_time": "2021-09-01T11:22:32.245Z"
   },
   {
    "duration": 5,
    "start_time": "2021-09-01T11:22:41.966Z"
   },
   {
    "duration": 4,
    "start_time": "2021-09-01T11:22:48.606Z"
   },
   {
    "duration": 13,
    "start_time": "2021-09-01T11:23:24.287Z"
   },
   {
    "duration": 5,
    "start_time": "2021-09-01T11:23:27.828Z"
   },
   {
    "duration": 5,
    "start_time": "2021-09-01T11:23:33.102Z"
   },
   {
    "duration": 9,
    "start_time": "2021-09-01T11:23:36.605Z"
   },
   {
    "duration": 9,
    "start_time": "2021-09-01T11:23:39.897Z"
   },
   {
    "duration": 6,
    "start_time": "2021-09-01T11:23:59.399Z"
   },
   {
    "duration": 25,
    "start_time": "2021-09-01T11:25:12.952Z"
   },
   {
    "duration": 15,
    "start_time": "2021-09-01T11:25:45.946Z"
   },
   {
    "duration": 10,
    "start_time": "2021-09-01T11:25:56.001Z"
   },
   {
    "duration": 20,
    "start_time": "2021-09-01T11:25:57.499Z"
   },
   {
    "duration": 6,
    "start_time": "2021-09-01T11:26:00.624Z"
   },
   {
    "duration": 14,
    "start_time": "2021-09-01T11:26:02.636Z"
   },
   {
    "duration": 13,
    "start_time": "2021-09-01T11:26:11.825Z"
   },
   {
    "duration": 7,
    "start_time": "2021-09-01T11:26:17.020Z"
   },
   {
    "duration": 3,
    "start_time": "2021-09-01T11:28:19.947Z"
   },
   {
    "duration": 4,
    "start_time": "2021-09-01T11:37:13.703Z"
   },
   {
    "duration": 486,
    "start_time": "2021-09-01T11:37:17.516Z"
   },
   {
    "duration": 52,
    "start_time": "2021-09-01T11:38:16.591Z"
   },
   {
    "duration": 6,
    "start_time": "2021-09-01T11:38:22.406Z"
   },
   {
    "duration": 504,
    "start_time": "2021-09-01T11:38:24.422Z"
   },
   {
    "duration": 4,
    "start_time": "2021-09-01T11:38:35.527Z"
   },
   {
    "duration": 547,
    "start_time": "2021-09-01T11:38:36.942Z"
   },
   {
    "duration": 3,
    "start_time": "2021-09-01T12:17:53.450Z"
   },
   {
    "duration": 18689,
    "start_time": "2021-09-01T12:17:56.325Z"
   },
   {
    "duration": 4,
    "start_time": "2021-09-01T12:19:09.705Z"
   },
   {
    "duration": 44026,
    "start_time": "2021-09-01T12:19:12.066Z"
   },
   {
    "duration": 22,
    "start_time": "2021-09-01T12:20:50.897Z"
   },
   {
    "duration": 237,
    "start_time": "2021-09-01T12:23:03.693Z"
   },
   {
    "duration": 3,
    "start_time": "2021-09-01T12:29:17.750Z"
   },
   {
    "duration": 2,
    "start_time": "2021-09-01T12:31:00.203Z"
   },
   {
    "duration": 146,
    "start_time": "2021-09-01T12:31:09.950Z"
   },
   {
    "duration": 496,
    "start_time": "2021-09-01T12:31:23.102Z"
   },
   {
    "duration": 4,
    "start_time": "2021-09-01T12:31:28.902Z"
   },
   {
    "duration": 34368,
    "start_time": "2021-09-01T12:31:31.623Z"
   },
   {
    "duration": 22,
    "start_time": "2021-09-01T12:33:15.550Z"
   },
   {
    "duration": 237,
    "start_time": "2021-09-01T12:33:20.032Z"
   },
   {
    "duration": 258,
    "start_time": "2021-09-01T12:33:33.168Z"
   },
   {
    "duration": 4,
    "start_time": "2021-09-01T12:33:41.017Z"
   },
   {
    "duration": 144561,
    "start_time": "2021-09-01T12:34:08.546Z"
   },
   {
    "duration": 4,
    "start_time": "2021-09-01T12:37:01.164Z"
   },
   {
    "duration": 4,
    "start_time": "2021-09-01T12:37:06.533Z"
   },
   {
    "duration": 9,
    "start_time": "2021-09-01T12:47:15.663Z"
   },
   {
    "duration": 239369,
    "start_time": "2021-09-01T12:47:37.984Z"
   },
   {
    "duration": 5,
    "start_time": "2021-09-01T12:51:42.181Z"
   },
   {
    "duration": 4,
    "start_time": "2021-09-01T12:51:45.667Z"
   },
   {
    "duration": 1128994,
    "start_time": "2021-09-01T12:51:51.412Z"
   },
   {
    "duration": 4,
    "start_time": "2021-09-01T13:24:43.570Z"
   },
   {
    "duration": 4,
    "start_time": "2021-09-01T13:24:46.045Z"
   },
   {
    "duration": 4,
    "start_time": "2021-09-01T13:25:04.710Z"
   },
   {
    "duration": 36073,
    "start_time": "2021-09-01T13:25:07.630Z"
   },
   {
    "duration": 129767,
    "start_time": "2021-09-01T13:26:33.535Z"
   },
   {
    "duration": 4,
    "start_time": "2021-09-01T13:30:23.987Z"
   },
   {
    "duration": 146112,
    "start_time": "2021-09-01T13:31:06.765Z"
   },
   {
    "duration": 226668,
    "start_time": "2021-09-01T13:39:43.728Z"
   },
   {
    "duration": 5,
    "start_time": "2021-09-01T13:49:02.673Z"
   },
   {
    "duration": 144237,
    "start_time": "2021-09-01T13:49:05.687Z"
   },
   {
    "duration": 385,
    "start_time": "2021-09-01T13:57:34.047Z"
   },
   {
    "duration": 4,
    "start_time": "2021-09-01T13:57:44.124Z"
   },
   {
    "duration": 148742,
    "start_time": "2021-09-01T13:58:04.772Z"
   },
   {
    "duration": 3,
    "start_time": "2021-09-01T14:03:33.370Z"
   },
   {
    "duration": 1121133,
    "start_time": "2021-09-01T14:03:36.342Z"
   },
   {
    "duration": 1858949,
    "start_time": "2021-09-01T16:40:58.943Z"
   },
   {
    "duration": 139,
    "start_time": "2021-09-01T17:38:10.608Z"
   },
   {
    "duration": 455,
    "start_time": "2021-09-01T17:38:30.251Z"
   },
   {
    "duration": 8,
    "start_time": "2021-09-01T17:38:59.052Z"
   },
   {
    "duration": 126,
    "start_time": "2021-09-01T17:44:24.025Z"
   },
   {
    "duration": 4,
    "start_time": "2021-09-01T17:44:29.447Z"
   },
   {
    "duration": 10,
    "start_time": "2021-09-01T17:45:56.922Z"
   },
   {
    "duration": 9,
    "start_time": "2021-09-01T17:47:50.073Z"
   },
   {
    "duration": 133,
    "start_time": "2021-09-01T17:48:53.468Z"
   },
   {
    "duration": 14,
    "start_time": "2021-09-01T17:49:26.646Z"
   },
   {
    "duration": 4,
    "start_time": "2021-09-01T17:56:27.176Z"
   },
   {
    "duration": 765,
    "start_time": "2021-09-01T17:56:28.548Z"
   },
   {
    "duration": 4,
    "start_time": "2021-09-01T18:02:05.916Z"
   },
   {
    "duration": 33385,
    "start_time": "2021-09-01T18:02:14.025Z"
   },
   {
    "duration": 142739,
    "start_time": "2021-09-01T18:03:02.659Z"
   },
   {
    "duration": 4,
    "start_time": "2021-09-01T18:06:05.592Z"
   },
   {
    "duration": 4,
    "start_time": "2021-09-01T18:06:16.926Z"
   },
   {
    "duration": 13,
    "start_time": "2021-09-01T18:06:18.414Z"
   },
   {
    "duration": 361,
    "start_time": "2021-09-01T18:07:18.462Z"
   },
   {
    "duration": 4,
    "start_time": "2021-09-01T18:07:26.616Z"
   },
   {
    "duration": 4,
    "start_time": "2021-09-01T18:08:04.351Z"
   },
   {
    "duration": 5,
    "start_time": "2021-09-01T18:08:27.968Z"
   },
   {
    "duration": 8,
    "start_time": "2021-09-01T18:09:02.897Z"
   },
   {
    "duration": 13,
    "start_time": "2021-09-01T18:09:15.353Z"
   },
   {
    "duration": 6,
    "start_time": "2021-09-01T18:22:56.926Z"
   },
   {
    "duration": 719,
    "start_time": "2021-09-01T18:23:02.199Z"
   },
   {
    "duration": 4,
    "start_time": "2021-09-01T18:23:25.087Z"
   },
   {
    "duration": 34897,
    "start_time": "2021-09-01T18:23:26.095Z"
   },
   {
    "duration": 11,
    "start_time": "2021-09-01T18:30:39.835Z"
   },
   {
    "duration": 2,
    "start_time": "2021-09-01T18:31:09.737Z"
   },
   {
    "duration": 10,
    "start_time": "2021-09-01T18:31:13.191Z"
   },
   {
    "duration": 3,
    "start_time": "2021-09-01T18:31:55.490Z"
   },
   {
    "duration": 10,
    "start_time": "2021-09-01T18:32:01.315Z"
   },
   {
    "duration": 3,
    "start_time": "2021-09-01T18:33:13.258Z"
   },
   {
    "duration": 3,
    "start_time": "2021-09-01T18:33:36.713Z"
   },
   {
    "duration": 9,
    "start_time": "2021-09-01T18:35:18.261Z"
   },
   {
    "duration": 4,
    "start_time": "2021-09-01T18:36:40.038Z"
   },
   {
    "duration": 94,
    "start_time": "2021-09-01T18:36:41.405Z"
   },
   {
    "duration": 446,
    "start_time": "2021-09-01T18:37:51.432Z"
   },
   {
    "duration": 4,
    "start_time": "2021-09-01T18:37:55.206Z"
   },
   {
    "duration": 13,
    "start_time": "2021-09-01T18:37:56.110Z"
   },
   {
    "duration": 817,
    "start_time": "2021-09-01T18:38:55.368Z"
   },
   {
    "duration": 4,
    "start_time": "2021-09-01T18:39:09.585Z"
   },
   {
    "duration": 917,
    "start_time": "2021-09-01T18:39:11.200Z"
   },
   {
    "duration": 4,
    "start_time": "2021-09-01T18:39:50.911Z"
   },
   {
    "duration": 720,
    "start_time": "2021-09-01T18:39:52.203Z"
   },
   {
    "duration": 3,
    "start_time": "2021-09-01T18:40:33.233Z"
   },
   {
    "duration": 4,
    "start_time": "2021-09-01T18:41:12.651Z"
   },
   {
    "duration": 755,
    "start_time": "2021-09-01T18:41:13.954Z"
   },
   {
    "duration": 5,
    "start_time": "2021-09-01T18:41:33.825Z"
   },
   {
    "duration": 9,
    "start_time": "2021-09-01T18:41:34.757Z"
   },
   {
    "duration": 14,
    "start_time": "2021-09-01T18:41:48.563Z"
   },
   {
    "duration": 10,
    "start_time": "2021-09-01T18:41:52.530Z"
   },
   {
    "duration": 3,
    "start_time": "2021-09-01T19:03:10.009Z"
   },
   {
    "duration": 1049726,
    "start_time": "2021-09-01T19:03:16.377Z"
   },
   {
    "duration": 592,
    "start_time": "2021-09-01T19:20:45.514Z"
   },
   {
    "duration": 587,
    "start_time": "2021-09-01T19:20:45.520Z"
   },
   {
    "duration": 584,
    "start_time": "2021-09-01T19:20:45.523Z"
   },
   {
    "duration": 580,
    "start_time": "2021-09-01T19:20:45.528Z"
   },
   {
    "duration": 576,
    "start_time": "2021-09-01T19:20:45.533Z"
   },
   {
    "duration": 547,
    "start_time": "2021-09-01T19:20:45.563Z"
   },
   {
    "duration": 543,
    "start_time": "2021-09-01T19:20:45.567Z"
   },
   {
    "duration": 539,
    "start_time": "2021-09-01T19:20:45.573Z"
   },
   {
    "duration": 537,
    "start_time": "2021-09-01T19:20:45.576Z"
   },
   {
    "duration": 533,
    "start_time": "2021-09-01T19:20:45.580Z"
   },
   {
    "duration": 532,
    "start_time": "2021-09-01T19:20:45.583Z"
   },
   {
    "duration": 528,
    "start_time": "2021-09-01T19:20:45.587Z"
   },
   {
    "duration": 527,
    "start_time": "2021-09-01T19:20:45.589Z"
   },
   {
    "duration": 524,
    "start_time": "2021-09-01T19:20:45.593Z"
   },
   {
    "duration": 522,
    "start_time": "2021-09-01T19:20:45.596Z"
   },
   {
    "duration": 520,
    "start_time": "2021-09-01T19:20:45.599Z"
   },
   {
    "duration": 515,
    "start_time": "2021-09-01T19:20:45.605Z"
   },
   {
    "duration": 510,
    "start_time": "2021-09-01T19:20:45.610Z"
   },
   {
    "duration": 508,
    "start_time": "2021-09-01T19:20:45.613Z"
   },
   {
    "duration": 505,
    "start_time": "2021-09-01T19:20:45.617Z"
   },
   {
    "duration": 503,
    "start_time": "2021-09-01T19:20:45.620Z"
   },
   {
    "duration": 501,
    "start_time": "2021-09-01T19:20:45.623Z"
   },
   {
    "duration": 499,
    "start_time": "2021-09-01T19:20:45.626Z"
   },
   {
    "duration": 498,
    "start_time": "2021-09-01T19:20:45.629Z"
   },
   {
    "duration": 496,
    "start_time": "2021-09-01T19:20:45.632Z"
   },
   {
    "duration": 493,
    "start_time": "2021-09-01T19:20:45.636Z"
   },
   {
    "duration": 492,
    "start_time": "2021-09-01T19:20:45.639Z"
   },
   {
    "duration": 491,
    "start_time": "2021-09-01T19:20:45.642Z"
   },
   {
    "duration": 489,
    "start_time": "2021-09-01T19:20:45.645Z"
   },
   {
    "duration": 487,
    "start_time": "2021-09-01T19:20:45.648Z"
   },
   {
    "duration": 485,
    "start_time": "2021-09-01T19:20:45.651Z"
   },
   {
    "duration": 483,
    "start_time": "2021-09-01T19:20:45.654Z"
   },
   {
    "duration": 482,
    "start_time": "2021-09-01T19:20:45.657Z"
   },
   {
    "duration": 472,
    "start_time": "2021-09-01T19:20:45.668Z"
   },
   {
    "duration": 520,
    "start_time": "2021-09-01T19:20:45.671Z"
   },
   {
    "duration": 519,
    "start_time": "2021-09-01T19:20:45.674Z"
   },
   {
    "duration": 5,
    "start_time": "2021-09-01T19:20:55.549Z"
   },
   {
    "duration": 1715,
    "start_time": "2021-09-01T19:20:55.555Z"
   },
   {
    "duration": 25,
    "start_time": "2021-09-01T19:20:57.272Z"
   },
   {
    "duration": 19,
    "start_time": "2021-09-01T19:20:57.298Z"
   },
   {
    "duration": 25,
    "start_time": "2021-09-01T19:20:57.319Z"
   },
   {
    "duration": 3,
    "start_time": "2021-09-01T19:20:57.345Z"
   },
   {
    "duration": 53,
    "start_time": "2021-09-01T19:20:57.350Z"
   },
   {
    "duration": 33,
    "start_time": "2021-09-01T19:20:57.406Z"
   },
   {
    "duration": 27,
    "start_time": "2021-09-01T19:20:57.441Z"
   },
   {
    "duration": 208,
    "start_time": "2021-09-01T19:20:57.470Z"
   },
   {
    "duration": 23,
    "start_time": "2021-09-01T19:20:57.680Z"
   },
   {
    "duration": 6,
    "start_time": "2021-09-01T19:20:57.704Z"
   },
   {
    "duration": 11,
    "start_time": "2021-09-01T19:20:57.711Z"
   },
   {
    "duration": 3,
    "start_time": "2021-09-01T19:20:57.724Z"
   },
   {
    "duration": 9,
    "start_time": "2021-09-01T19:20:57.729Z"
   },
   {
    "duration": 7,
    "start_time": "2021-09-01T19:20:57.740Z"
   },
   {
    "duration": 2534,
    "start_time": "2021-09-01T19:20:57.749Z"
   },
   {
    "duration": 11,
    "start_time": "2021-09-01T19:21:00.285Z"
   },
   {
    "duration": 700,
    "start_time": "2021-09-01T19:21:00.298Z"
   },
   {
    "duration": 261,
    "start_time": "2021-09-01T19:21:01.000Z"
   },
   {
    "duration": 207,
    "start_time": "2021-09-01T19:21:01.262Z"
   },
   {
    "duration": 217,
    "start_time": "2021-09-01T19:21:01.471Z"
   },
   {
    "duration": 203,
    "start_time": "2021-09-01T19:21:01.693Z"
   },
   {
    "duration": 22,
    "start_time": "2021-09-01T19:21:01.898Z"
   },
   {
    "duration": 81,
    "start_time": "2021-09-01T19:21:01.921Z"
   },
   {
    "duration": 4,
    "start_time": "2021-09-01T19:21:02.003Z"
   },
   {
    "duration": 22,
    "start_time": "2021-09-01T19:21:02.008Z"
   },
   {
    "duration": 19,
    "start_time": "2021-09-01T19:21:02.031Z"
   },
   {
    "duration": 28,
    "start_time": "2021-09-01T19:21:02.052Z"
   },
   {
    "duration": 22,
    "start_time": "2021-09-01T19:21:02.082Z"
   },
   {
    "duration": 12,
    "start_time": "2021-09-01T19:21:02.106Z"
   },
   {
    "duration": 18,
    "start_time": "2021-09-01T19:21:02.120Z"
   },
   {
    "duration": 27,
    "start_time": "2021-09-01T19:21:02.139Z"
   },
   {
    "duration": 16,
    "start_time": "2021-09-01T19:21:02.168Z"
   },
   {
    "duration": 20,
    "start_time": "2021-09-01T19:21:02.186Z"
   },
   {
    "duration": 7,
    "start_time": "2021-09-01T19:21:02.208Z"
   },
   {
    "duration": 4,
    "start_time": "2021-09-01T19:21:26.815Z"
   },
   {
    "duration": 35890,
    "start_time": "2021-09-01T19:21:29.115Z"
   },
   {
    "duration": 130153,
    "start_time": "2021-09-01T19:22:13.444Z"
   },
   {
    "duration": 4,
    "start_time": "2021-09-01T19:24:27.823Z"
   },
   {
    "duration": 10,
    "start_time": "2021-09-01T19:24:29.256Z"
   },
   {
    "duration": 5,
    "start_time": "2021-09-01T19:26:45.084Z"
   },
   {
    "duration": 137291,
    "start_time": "2021-09-01T19:26:47.721Z"
   },
   {
    "duration": 216858,
    "start_time": "2021-09-01T19:29:52.664Z"
   },
   {
    "duration": 10,
    "start_time": "2021-09-01T19:33:37.560Z"
   },
   {
    "duration": 4,
    "start_time": "2021-09-01T19:33:52.127Z"
   },
   {
    "duration": 1081129,
    "start_time": "2021-09-01T19:34:01.802Z"
   },
   {
    "duration": 1691806,
    "start_time": "2021-09-01T19:53:43.664Z"
   },
   {
    "duration": 14,
    "start_time": "2021-09-01T20:32:10.643Z"
   },
   {
    "duration": 1195,
    "start_time": "2021-09-01T20:34:08.934Z"
   },
   {
    "duration": 1716,
    "start_time": "2021-09-01T20:34:10.131Z"
   },
   {
    "duration": 41,
    "start_time": "2021-09-01T20:34:11.851Z"
   },
   {
    "duration": 21,
    "start_time": "2021-09-01T20:34:11.894Z"
   },
   {
    "duration": 25,
    "start_time": "2021-09-01T20:34:11.917Z"
   },
   {
    "duration": 3,
    "start_time": "2021-09-01T20:34:11.944Z"
   },
   {
    "duration": 55,
    "start_time": "2021-09-01T20:34:11.950Z"
   },
   {
    "duration": 38,
    "start_time": "2021-09-01T20:34:12.007Z"
   },
   {
    "duration": 46,
    "start_time": "2021-09-01T20:34:12.047Z"
   },
   {
    "duration": 200,
    "start_time": "2021-09-01T20:34:12.095Z"
   },
   {
    "duration": 13,
    "start_time": "2021-09-01T20:34:12.297Z"
   },
   {
    "duration": 6,
    "start_time": "2021-09-01T20:34:12.312Z"
   },
   {
    "duration": 10,
    "start_time": "2021-09-01T20:34:12.320Z"
   },
   {
    "duration": 3,
    "start_time": "2021-09-01T20:34:12.332Z"
   },
   {
    "duration": 13,
    "start_time": "2021-09-01T20:34:12.336Z"
   },
   {
    "duration": 7,
    "start_time": "2021-09-01T20:34:12.350Z"
   },
   {
    "duration": 2346,
    "start_time": "2021-09-01T20:34:12.358Z"
   },
   {
    "duration": 7,
    "start_time": "2021-09-01T20:34:14.705Z"
   },
   {
    "duration": 797,
    "start_time": "2021-09-01T20:34:14.713Z"
   },
   {
    "duration": 207,
    "start_time": "2021-09-01T20:34:15.511Z"
   },
   {
    "duration": 207,
    "start_time": "2021-09-01T20:34:15.719Z"
   },
   {
    "duration": 317,
    "start_time": "2021-09-01T20:34:15.929Z"
   },
   {
    "duration": 200,
    "start_time": "2021-09-01T20:34:16.248Z"
   },
   {
    "duration": 22,
    "start_time": "2021-09-01T20:34:16.449Z"
   },
   {
    "duration": 77,
    "start_time": "2021-09-01T20:34:16.472Z"
   },
   {
    "duration": 3,
    "start_time": "2021-09-01T20:34:16.551Z"
   },
   {
    "duration": 5,
    "start_time": "2021-09-01T20:34:16.555Z"
   },
   {
    "duration": 5,
    "start_time": "2021-09-01T20:34:16.561Z"
   },
   {
    "duration": 7,
    "start_time": "2021-09-01T20:34:16.568Z"
   },
   {
    "duration": 16,
    "start_time": "2021-09-01T20:34:16.576Z"
   },
   {
    "duration": 3,
    "start_time": "2021-09-01T20:34:16.594Z"
   },
   {
    "duration": 10,
    "start_time": "2021-09-01T20:34:16.598Z"
   },
   {
    "duration": 13,
    "start_time": "2021-09-01T20:34:16.610Z"
   },
   {
    "duration": 9,
    "start_time": "2021-09-01T20:34:16.624Z"
   },
   {
    "duration": 20,
    "start_time": "2021-09-01T20:34:16.635Z"
   },
   {
    "duration": 7,
    "start_time": "2021-09-01T20:34:16.656Z"
   },
   {
    "duration": 5,
    "start_time": "2021-09-01T20:34:16.665Z"
   },
   {
    "duration": 32438,
    "start_time": "2021-09-01T20:34:16.671Z"
   },
   {
    "duration": 131381,
    "start_time": "2021-09-01T20:34:49.111Z"
   },
   {
    "duration": 5,
    "start_time": "2021-09-01T20:37:00.495Z"
   },
   {
    "duration": 97,
    "start_time": "2021-09-01T20:37:00.502Z"
   },
   {
    "duration": 97,
    "start_time": "2021-09-01T20:37:00.602Z"
   },
   {
    "duration": 137447,
    "start_time": "2021-09-01T20:37:00.701Z"
   },
   {
    "duration": 218195,
    "start_time": "2021-09-01T20:39:18.150Z"
   },
   {
    "duration": 10,
    "start_time": "2021-09-01T20:42:56.347Z"
   },
   {
    "duration": 3,
    "start_time": "2021-09-01T20:42:56.358Z"
   },
   {
    "duration": 1068271,
    "start_time": "2021-09-01T20:42:56.363Z"
   },
   {
    "duration": 1694251,
    "start_time": "2021-09-01T21:00:44.636Z"
   },
   {
    "duration": 15,
    "start_time": "2021-09-01T21:28:58.892Z"
   },
   {
    "duration": 443,
    "start_time": "2021-09-01T22:04:33.627Z"
   },
   {
    "duration": 4,
    "start_time": "2021-09-01T22:22:23.723Z"
   },
   {
    "duration": 39291,
    "start_time": "2021-09-01T22:22:25.015Z"
   },
   {
    "duration": 159001,
    "start_time": "2021-09-01T22:23:08.793Z"
   },
   {
    "duration": 3,
    "start_time": "2021-09-01T22:25:57.403Z"
   },
   {
    "duration": 4,
    "start_time": "2021-09-01T22:26:37.620Z"
   },
   {
    "duration": 4,
    "start_time": "2021-09-01T22:27:48.734Z"
   },
   {
    "duration": 126851,
    "start_time": "2021-09-01T22:27:51.645Z"
   },
   {
    "duration": 1205,
    "start_time": "2021-09-01T22:30:25.629Z"
   },
   {
    "duration": 1881,
    "start_time": "2021-09-01T22:30:26.836Z"
   },
   {
    "duration": 29,
    "start_time": "2021-09-01T22:30:28.721Z"
   },
   {
    "duration": 43,
    "start_time": "2021-09-01T22:30:28.752Z"
   },
   {
    "duration": 27,
    "start_time": "2021-09-01T22:30:28.797Z"
   },
   {
    "duration": 3,
    "start_time": "2021-09-01T22:30:28.826Z"
   },
   {
    "duration": 27,
    "start_time": "2021-09-01T22:30:28.831Z"
   },
   {
    "duration": 59,
    "start_time": "2021-09-01T22:30:28.860Z"
   },
   {
    "duration": 28,
    "start_time": "2021-09-01T22:30:28.921Z"
   },
   {
    "duration": 211,
    "start_time": "2021-09-01T22:30:28.951Z"
   },
   {
    "duration": 12,
    "start_time": "2021-09-01T22:30:29.164Z"
   },
   {
    "duration": 20,
    "start_time": "2021-09-01T22:30:29.178Z"
   },
   {
    "duration": 9,
    "start_time": "2021-09-01T22:30:29.200Z"
   },
   {
    "duration": 3,
    "start_time": "2021-09-01T22:30:29.210Z"
   },
   {
    "duration": 13,
    "start_time": "2021-09-01T22:30:29.215Z"
   },
   {
    "duration": 6,
    "start_time": "2021-09-01T22:30:29.229Z"
   },
   {
    "duration": 2394,
    "start_time": "2021-09-01T22:30:29.237Z"
   },
   {
    "duration": 6,
    "start_time": "2021-09-01T22:30:31.632Z"
   },
   {
    "duration": 714,
    "start_time": "2021-09-01T22:30:31.640Z"
   },
   {
    "duration": 211,
    "start_time": "2021-09-01T22:30:32.355Z"
   },
   {
    "duration": 218,
    "start_time": "2021-09-01T22:30:32.567Z"
   },
   {
    "duration": 333,
    "start_time": "2021-09-01T22:30:32.788Z"
   },
   {
    "duration": 204,
    "start_time": "2021-09-01T22:30:33.123Z"
   },
   {
    "duration": 22,
    "start_time": "2021-09-01T22:30:33.329Z"
   },
   {
    "duration": 80,
    "start_time": "2021-09-01T22:30:33.352Z"
   },
   {
    "duration": 4,
    "start_time": "2021-09-01T22:30:33.433Z"
   },
   {
    "duration": 6,
    "start_time": "2021-09-01T22:30:33.438Z"
   },
   {
    "duration": 5,
    "start_time": "2021-09-01T22:30:33.445Z"
   },
   {
    "duration": 5,
    "start_time": "2021-09-01T22:30:33.451Z"
   },
   {
    "duration": 8,
    "start_time": "2021-09-01T22:30:33.457Z"
   },
   {
    "duration": 25,
    "start_time": "2021-09-01T22:30:33.466Z"
   },
   {
    "duration": 8,
    "start_time": "2021-09-01T22:30:33.493Z"
   },
   {
    "duration": 14,
    "start_time": "2021-09-01T22:30:33.503Z"
   },
   {
    "duration": 11,
    "start_time": "2021-09-01T22:30:33.518Z"
   },
   {
    "duration": 20,
    "start_time": "2021-09-01T22:30:33.531Z"
   },
   {
    "duration": 9,
    "start_time": "2021-09-01T22:30:33.552Z"
   },
   {
    "duration": 4,
    "start_time": "2021-09-01T22:30:33.562Z"
   },
   {
    "duration": 38553,
    "start_time": "2021-09-01T22:30:33.568Z"
   },
   {
    "duration": 157511,
    "start_time": "2021-09-01T22:31:12.191Z"
   },
   {
    "duration": 90,
    "start_time": "2021-09-01T22:33:49.712Z"
   },
   {
    "duration": 4,
    "start_time": "2021-09-01T22:33:49.804Z"
   },
   {
    "duration": 14,
    "start_time": "2021-09-01T22:33:49.810Z"
   },
   {
    "duration": 73,
    "start_time": "2021-09-01T22:33:49.827Z"
   },
   {
    "duration": 142564,
    "start_time": "2021-09-01T22:33:49.902Z"
   },
   {
    "duration": 227541,
    "start_time": "2021-09-01T22:36:12.468Z"
   },
   {
    "duration": 4,
    "start_time": "2021-09-01T22:40:00.011Z"
   },
   {
    "duration": 30,
    "start_time": "2021-09-01T22:40:00.016Z"
   },
   {
    "duration": 7,
    "start_time": "2021-09-01T22:40:00.048Z"
   },
   {
    "duration": 1054912,
    "start_time": "2021-09-01T22:40:00.057Z"
   },
   {
    "duration": 1675696,
    "start_time": "2021-09-01T22:57:34.971Z"
   },
   {
    "duration": 3,
    "start_time": "2021-09-01T23:25:30.669Z"
   },
   {
    "duration": 24,
    "start_time": "2021-09-01T23:25:30.673Z"
   },
   {
    "duration": 3,
    "start_time": "2021-09-01T23:50:41.535Z"
   },
   {
    "duration": 14,
    "start_time": "2021-09-01T23:50:42.668Z"
   },
   {
    "duration": 1599,
    "start_time": "2021-09-02T06:04:50.109Z"
   },
   {
    "duration": 3041,
    "start_time": "2021-09-02T06:04:51.711Z"
   },
   {
    "duration": 48,
    "start_time": "2021-09-02T06:05:23.679Z"
   },
   {
    "duration": 37,
    "start_time": "2021-09-02T06:05:24.238Z"
   },
   {
    "duration": 45,
    "start_time": "2021-09-02T06:05:24.806Z"
   },
   {
    "duration": 5,
    "start_time": "2021-09-02T06:05:34.422Z"
   },
   {
    "duration": 33,
    "start_time": "2021-09-02T06:05:35.125Z"
   },
   {
    "duration": 48,
    "start_time": "2021-09-02T06:05:36.876Z"
   },
   {
    "duration": 35,
    "start_time": "2021-09-02T06:05:38.269Z"
   },
   {
    "duration": 333,
    "start_time": "2021-09-02T06:05:39.060Z"
   },
   {
    "duration": 19,
    "start_time": "2021-09-02T06:05:40.300Z"
   },
   {
    "duration": 6,
    "start_time": "2021-09-02T06:05:40.956Z"
   },
   {
    "duration": 11,
    "start_time": "2021-09-02T06:05:41.164Z"
   },
   {
    "duration": 5,
    "start_time": "2021-09-02T06:05:43.196Z"
   },
   {
    "duration": 17,
    "start_time": "2021-09-02T06:05:43.948Z"
   },
   {
    "duration": 14,
    "start_time": "2021-09-02T06:05:44.988Z"
   },
   {
    "duration": 1350,
    "start_time": "2021-09-02T07:03:25.668Z"
   },
   {
    "duration": 14643,
    "start_time": "2021-09-02T07:03:27.019Z"
   },
   {
    "duration": 34,
    "start_time": "2021-09-02T07:03:41.664Z"
   },
   {
    "duration": 19,
    "start_time": "2021-09-02T07:03:41.699Z"
   },
   {
    "duration": 25,
    "start_time": "2021-09-02T07:03:41.720Z"
   },
   {
    "duration": 4,
    "start_time": "2021-09-02T07:03:41.746Z"
   },
   {
    "duration": 50,
    "start_time": "2021-09-02T07:03:41.751Z"
   },
   {
    "duration": 34,
    "start_time": "2021-09-02T07:03:41.803Z"
   },
   {
    "duration": 46,
    "start_time": "2021-09-02T07:03:41.839Z"
   },
   {
    "duration": 188,
    "start_time": "2021-09-02T07:03:41.887Z"
   },
   {
    "duration": 17,
    "start_time": "2021-09-02T07:03:42.077Z"
   },
   {
    "duration": 3,
    "start_time": "2021-09-02T07:03:42.096Z"
   },
   {
    "duration": 12,
    "start_time": "2021-09-02T07:03:42.101Z"
   },
   {
    "duration": 3,
    "start_time": "2021-09-02T07:03:42.114Z"
   },
   {
    "duration": 12,
    "start_time": "2021-09-02T07:03:42.119Z"
   },
   {
    "duration": 20,
    "start_time": "2021-09-02T07:03:42.133Z"
   },
   {
    "duration": 2499,
    "start_time": "2021-09-02T07:03:42.155Z"
   },
   {
    "duration": 6,
    "start_time": "2021-09-02T07:03:44.656Z"
   },
   {
    "duration": 782,
    "start_time": "2021-09-02T07:03:44.664Z"
   },
   {
    "duration": 42,
    "start_time": "2021-09-02T07:08:33.502Z"
   },
   {
    "duration": 16,
    "start_time": "2021-09-02T07:08:44.125Z"
   },
   {
    "duration": 4,
    "start_time": "2021-09-02T07:10:33.114Z"
   },
   {
    "duration": 1343,
    "start_time": "2021-09-02T07:10:54.768Z"
   },
   {
    "duration": 4740,
    "start_time": "2021-09-02T07:10:56.113Z"
   },
   {
    "duration": 40,
    "start_time": "2021-09-02T07:11:00.858Z"
   },
   {
    "duration": 19,
    "start_time": "2021-09-02T07:11:00.900Z"
   },
   {
    "duration": 33,
    "start_time": "2021-09-02T07:11:00.920Z"
   },
   {
    "duration": 3,
    "start_time": "2021-09-02T07:11:00.955Z"
   },
   {
    "duration": 45,
    "start_time": "2021-09-02T07:11:00.961Z"
   },
   {
    "duration": 42,
    "start_time": "2021-09-02T07:11:01.008Z"
   },
   {
    "duration": 37,
    "start_time": "2021-09-02T07:11:01.052Z"
   },
   {
    "duration": 194,
    "start_time": "2021-09-02T07:11:01.091Z"
   },
   {
    "duration": 14,
    "start_time": "2021-09-02T07:11:01.287Z"
   },
   {
    "duration": 25,
    "start_time": "2021-09-02T07:11:01.303Z"
   },
   {
    "duration": 30,
    "start_time": "2021-09-02T07:11:01.329Z"
   },
   {
    "duration": 26,
    "start_time": "2021-09-02T07:11:01.360Z"
   },
   {
    "duration": 40,
    "start_time": "2021-09-02T07:11:01.387Z"
   },
   {
    "duration": 30,
    "start_time": "2021-09-02T07:11:01.429Z"
   },
   {
    "duration": 2509,
    "start_time": "2021-09-02T07:11:01.461Z"
   },
   {
    "duration": 18,
    "start_time": "2021-09-02T07:11:03.972Z"
   },
   {
    "duration": 784,
    "start_time": "2021-09-02T07:11:03.992Z"
   },
   {
    "duration": 22068,
    "start_time": "2021-09-02T07:11:04.778Z"
   },
   {
    "duration": 1392,
    "start_time": "2021-09-02T07:11:25.457Z"
   },
   {
    "duration": 1388,
    "start_time": "2021-09-02T07:11:25.462Z"
   },
   {
    "duration": 1385,
    "start_time": "2021-09-02T07:11:25.466Z"
   },
   {
    "duration": 1381,
    "start_time": "2021-09-02T07:11:25.471Z"
   },
   {
    "duration": 1378,
    "start_time": "2021-09-02T07:11:25.475Z"
   },
   {
    "duration": 1374,
    "start_time": "2021-09-02T07:11:25.480Z"
   },
   {
    "duration": 1371,
    "start_time": "2021-09-02T07:11:25.484Z"
   },
   {
    "duration": 1366,
    "start_time": "2021-09-02T07:11:25.490Z"
   },
   {
    "duration": 1363,
    "start_time": "2021-09-02T07:11:25.494Z"
   },
   {
    "duration": 1361,
    "start_time": "2021-09-02T07:11:25.497Z"
   },
   {
    "duration": 1358,
    "start_time": "2021-09-02T07:11:25.501Z"
   },
   {
    "duration": 1355,
    "start_time": "2021-09-02T07:11:25.505Z"
   },
   {
    "duration": 1098,
    "start_time": "2021-09-02T07:11:25.763Z"
   },
   {
    "duration": 1092,
    "start_time": "2021-09-02T07:11:25.770Z"
   },
   {
    "duration": 1085,
    "start_time": "2021-09-02T07:11:25.778Z"
   },
   {
    "duration": 1082,
    "start_time": "2021-09-02T07:11:25.782Z"
   },
   {
    "duration": 1079,
    "start_time": "2021-09-02T07:11:25.786Z"
   },
   {
    "duration": 1076,
    "start_time": "2021-09-02T07:11:25.790Z"
   },
   {
    "duration": 1073,
    "start_time": "2021-09-02T07:11:25.794Z"
   },
   {
    "duration": 1070,
    "start_time": "2021-09-02T07:11:25.798Z"
   },
   {
    "duration": 1067,
    "start_time": "2021-09-02T07:11:25.802Z"
   },
   {
    "duration": 1064,
    "start_time": "2021-09-02T07:11:25.806Z"
   },
   {
    "duration": 1062,
    "start_time": "2021-09-02T07:11:25.809Z"
   },
   {
    "duration": 1059,
    "start_time": "2021-09-02T07:11:25.813Z"
   },
   {
    "duration": 1057,
    "start_time": "2021-09-02T07:11:25.816Z"
   },
   {
    "duration": 1052,
    "start_time": "2021-09-02T07:11:25.821Z"
   },
   {
    "duration": 1050,
    "start_time": "2021-09-02T07:11:25.824Z"
   },
   {
    "duration": 1047,
    "start_time": "2021-09-02T07:11:25.828Z"
   },
   {
    "duration": 1045,
    "start_time": "2021-09-02T07:11:25.831Z"
   },
   {
    "duration": 1042,
    "start_time": "2021-09-02T07:11:25.835Z"
   },
   {
    "duration": 1039,
    "start_time": "2021-09-02T07:11:25.839Z"
   },
   {
    "duration": 1036,
    "start_time": "2021-09-02T07:11:25.843Z"
   },
   {
    "duration": 1033,
    "start_time": "2021-09-02T07:11:25.847Z"
   },
   {
    "duration": 1030,
    "start_time": "2021-09-02T07:11:25.851Z"
   },
   {
    "duration": 1561,
    "start_time": "2021-09-02T07:40:00.872Z"
   },
   {
    "duration": 6612,
    "start_time": "2021-09-02T07:40:02.435Z"
   },
   {
    "duration": 27,
    "start_time": "2021-09-02T07:40:09.049Z"
   },
   {
    "duration": 18,
    "start_time": "2021-09-02T07:40:09.085Z"
   },
   {
    "duration": 24,
    "start_time": "2021-09-02T07:40:09.104Z"
   },
   {
    "duration": 3,
    "start_time": "2021-09-02T07:40:09.130Z"
   },
   {
    "duration": 27,
    "start_time": "2021-09-02T07:40:09.135Z"
   },
   {
    "duration": 34,
    "start_time": "2021-09-02T07:40:09.184Z"
   },
   {
    "duration": 23,
    "start_time": "2021-09-02T07:40:09.220Z"
   },
   {
    "duration": 202,
    "start_time": "2021-09-02T07:40:09.245Z"
   },
   {
    "duration": 14,
    "start_time": "2021-09-02T07:40:09.448Z"
   },
   {
    "duration": 8,
    "start_time": "2021-09-02T07:40:09.464Z"
   },
   {
    "duration": 22,
    "start_time": "2021-09-02T07:40:09.474Z"
   },
   {
    "duration": 7,
    "start_time": "2021-09-02T07:40:09.497Z"
   },
   {
    "duration": 24,
    "start_time": "2021-09-02T07:40:09.506Z"
   },
   {
    "duration": 11,
    "start_time": "2021-09-02T07:40:09.532Z"
   },
   {
    "duration": 2409,
    "start_time": "2021-09-02T07:40:09.544Z"
   },
   {
    "duration": 7,
    "start_time": "2021-09-02T07:40:11.955Z"
   },
   {
    "duration": 772,
    "start_time": "2021-09-02T07:40:11.963Z"
   },
   {
    "duration": 24358,
    "start_time": "2021-09-02T07:40:12.736Z"
   },
   {
    "duration": 1470,
    "start_time": "2021-09-02T07:40:35.628Z"
   },
   {
    "duration": 1467,
    "start_time": "2021-09-02T07:40:35.633Z"
   },
   {
    "duration": 1464,
    "start_time": "2021-09-02T07:40:35.637Z"
   },
   {
    "duration": 1460,
    "start_time": "2021-09-02T07:40:35.642Z"
   },
   {
    "duration": 1457,
    "start_time": "2021-09-02T07:40:35.646Z"
   },
   {
    "duration": 1453,
    "start_time": "2021-09-02T07:40:35.651Z"
   },
   {
    "duration": 1448,
    "start_time": "2021-09-02T07:40:35.657Z"
   },
   {
    "duration": 1442,
    "start_time": "2021-09-02T07:40:35.664Z"
   },
   {
    "duration": 1438,
    "start_time": "2021-09-02T07:40:35.669Z"
   },
   {
    "duration": 1433,
    "start_time": "2021-09-02T07:40:35.675Z"
   },
   {
    "duration": 1426,
    "start_time": "2021-09-02T07:40:35.684Z"
   },
   {
    "duration": 1422,
    "start_time": "2021-09-02T07:40:35.689Z"
   },
   {
    "duration": 1417,
    "start_time": "2021-09-02T07:40:35.694Z"
   },
   {
    "duration": 1413,
    "start_time": "2021-09-02T07:40:35.699Z"
   },
   {
    "duration": 1409,
    "start_time": "2021-09-02T07:40:35.704Z"
   },
   {
    "duration": 1405,
    "start_time": "2021-09-02T07:40:35.709Z"
   },
   {
    "duration": 1402,
    "start_time": "2021-09-02T07:40:35.713Z"
   },
   {
    "duration": 1399,
    "start_time": "2021-09-02T07:40:35.717Z"
   },
   {
    "duration": 1390,
    "start_time": "2021-09-02T07:40:35.727Z"
   },
   {
    "duration": 1387,
    "start_time": "2021-09-02T07:40:35.731Z"
   },
   {
    "duration": 1383,
    "start_time": "2021-09-02T07:40:35.736Z"
   },
   {
    "duration": 1379,
    "start_time": "2021-09-02T07:40:35.741Z"
   },
   {
    "duration": 1377,
    "start_time": "2021-09-02T07:40:35.744Z"
   },
   {
    "duration": 1374,
    "start_time": "2021-09-02T07:40:35.748Z"
   },
   {
    "duration": 1371,
    "start_time": "2021-09-02T07:40:35.752Z"
   },
   {
    "duration": 1368,
    "start_time": "2021-09-02T07:40:35.756Z"
   },
   {
    "duration": 1365,
    "start_time": "2021-09-02T07:40:35.760Z"
   },
   {
    "duration": 1362,
    "start_time": "2021-09-02T07:40:35.764Z"
   },
   {
    "duration": 1359,
    "start_time": "2021-09-02T07:40:35.768Z"
   },
   {
    "duration": 1355,
    "start_time": "2021-09-02T07:40:35.772Z"
   },
   {
    "duration": 1352,
    "start_time": "2021-09-02T07:40:35.776Z"
   },
   {
    "duration": 1349,
    "start_time": "2021-09-02T07:40:35.780Z"
   },
   {
    "duration": 1346,
    "start_time": "2021-09-02T07:40:35.784Z"
   },
   {
    "duration": 1343,
    "start_time": "2021-09-02T07:40:35.788Z"
   },
   {
    "duration": 12,
    "start_time": "2021-09-02T08:10:34.986Z"
   },
   {
    "duration": 39,
    "start_time": "2021-09-02T08:10:59.176Z"
   },
   {
    "duration": 39636,
    "start_time": "2021-09-02T08:11:36.747Z"
   },
   {
    "duration": 1408,
    "start_time": "2021-09-02T08:12:30.210Z"
   },
   {
    "duration": 7039,
    "start_time": "2021-09-02T08:12:31.622Z"
   },
   {
    "duration": 42,
    "start_time": "2021-09-02T08:12:38.663Z"
   },
   {
    "duration": 23,
    "start_time": "2021-09-02T08:12:38.707Z"
   },
   {
    "duration": 26,
    "start_time": "2021-09-02T08:12:38.732Z"
   },
   {
    "duration": 28,
    "start_time": "2021-09-02T08:12:38.759Z"
   },
   {
    "duration": 29,
    "start_time": "2021-09-02T08:12:38.790Z"
   },
   {
    "duration": 33,
    "start_time": "2021-09-02T08:12:38.822Z"
   },
   {
    "duration": 57,
    "start_time": "2021-09-02T08:12:38.857Z"
   },
   {
    "duration": 209,
    "start_time": "2021-09-02T08:12:38.916Z"
   },
   {
    "duration": 15,
    "start_time": "2021-09-02T08:12:39.127Z"
   },
   {
    "duration": 3,
    "start_time": "2021-09-02T08:12:39.145Z"
   },
   {
    "duration": 10,
    "start_time": "2021-09-02T08:12:39.150Z"
   },
   {
    "duration": 3,
    "start_time": "2021-09-02T08:12:39.161Z"
   },
   {
    "duration": 27,
    "start_time": "2021-09-02T08:12:39.166Z"
   },
   {
    "duration": 9,
    "start_time": "2021-09-02T08:12:39.195Z"
   },
   {
    "duration": 2648,
    "start_time": "2021-09-02T08:12:39.206Z"
   },
   {
    "duration": 7,
    "start_time": "2021-09-02T08:12:41.856Z"
   },
   {
    "duration": 827,
    "start_time": "2021-09-02T08:12:41.865Z"
   },
   {
    "duration": 37,
    "start_time": "2021-09-02T08:12:42.694Z"
   },
   {
    "duration": 24555,
    "start_time": "2021-09-02T08:12:42.733Z"
   },
   {
    "duration": 1513,
    "start_time": "2021-09-02T08:13:05.781Z"
   },
   {
    "duration": 1509,
    "start_time": "2021-09-02T08:13:05.787Z"
   },
   {
    "duration": 1505,
    "start_time": "2021-09-02T08:13:05.792Z"
   },
   {
    "duration": 1501,
    "start_time": "2021-09-02T08:13:05.797Z"
   },
   {
    "duration": 1498,
    "start_time": "2021-09-02T08:13:05.801Z"
   },
   {
    "duration": 1494,
    "start_time": "2021-09-02T08:13:05.806Z"
   },
   {
    "duration": 1490,
    "start_time": "2021-09-02T08:13:05.812Z"
   },
   {
    "duration": 1487,
    "start_time": "2021-09-02T08:13:05.816Z"
   },
   {
    "duration": 1483,
    "start_time": "2021-09-02T08:13:05.822Z"
   },
   {
    "duration": 1479,
    "start_time": "2021-09-02T08:13:05.827Z"
   },
   {
    "duration": 1474,
    "start_time": "2021-09-02T08:13:05.833Z"
   },
   {
    "duration": 1468,
    "start_time": "2021-09-02T08:13:05.840Z"
   },
   {
    "duration": 1463,
    "start_time": "2021-09-02T08:13:05.846Z"
   },
   {
    "duration": 1460,
    "start_time": "2021-09-02T08:13:05.850Z"
   },
   {
    "duration": 1457,
    "start_time": "2021-09-02T08:13:05.854Z"
   },
   {
    "duration": 1454,
    "start_time": "2021-09-02T08:13:05.858Z"
   },
   {
    "duration": 1451,
    "start_time": "2021-09-02T08:13:05.862Z"
   },
   {
    "duration": 1448,
    "start_time": "2021-09-02T08:13:05.866Z"
   },
   {
    "duration": 1445,
    "start_time": "2021-09-02T08:13:05.870Z"
   },
   {
    "duration": 1435,
    "start_time": "2021-09-02T08:13:05.881Z"
   },
   {
    "duration": 1431,
    "start_time": "2021-09-02T08:13:05.886Z"
   },
   {
    "duration": 1428,
    "start_time": "2021-09-02T08:13:05.890Z"
   },
   {
    "duration": 1423,
    "start_time": "2021-09-02T08:13:05.895Z"
   },
   {
    "duration": 1420,
    "start_time": "2021-09-02T08:13:05.899Z"
   },
   {
    "duration": 1416,
    "start_time": "2021-09-02T08:13:05.904Z"
   },
   {
    "duration": 1413,
    "start_time": "2021-09-02T08:13:05.908Z"
   },
   {
    "duration": 1409,
    "start_time": "2021-09-02T08:13:05.913Z"
   },
   {
    "duration": 1406,
    "start_time": "2021-09-02T08:13:05.917Z"
   },
   {
    "duration": 1403,
    "start_time": "2021-09-02T08:13:05.921Z"
   },
   {
    "duration": 1400,
    "start_time": "2021-09-02T08:13:05.925Z"
   },
   {
    "duration": 1396,
    "start_time": "2021-09-02T08:13:05.930Z"
   },
   {
    "duration": 1393,
    "start_time": "2021-09-02T08:13:05.934Z"
   },
   {
    "duration": 1391,
    "start_time": "2021-09-02T08:13:05.937Z"
   },
   {
    "duration": 1388,
    "start_time": "2021-09-02T08:13:05.941Z"
   },
   {
    "duration": 1799,
    "start_time": "2021-09-02T08:40:26.739Z"
   },
   {
    "duration": 3705,
    "start_time": "2021-09-02T08:40:28.539Z"
   },
   {
    "duration": 28,
    "start_time": "2021-09-02T08:40:32.246Z"
   },
   {
    "duration": 35,
    "start_time": "2021-09-02T08:40:32.276Z"
   },
   {
    "duration": 27,
    "start_time": "2021-09-02T08:40:32.312Z"
   },
   {
    "duration": 4,
    "start_time": "2021-09-02T08:40:32.341Z"
   },
   {
    "duration": 59,
    "start_time": "2021-09-02T08:40:32.347Z"
   },
   {
    "duration": 34,
    "start_time": "2021-09-02T08:40:32.409Z"
   },
   {
    "duration": 53,
    "start_time": "2021-09-02T08:40:32.446Z"
   },
   {
    "duration": 211,
    "start_time": "2021-09-02T08:40:32.500Z"
   },
   {
    "duration": 13,
    "start_time": "2021-09-02T08:40:32.712Z"
   },
   {
    "duration": 7,
    "start_time": "2021-09-02T08:40:32.727Z"
   },
   {
    "duration": 10,
    "start_time": "2021-09-02T08:40:32.735Z"
   },
   {
    "duration": 3,
    "start_time": "2021-09-02T08:40:32.746Z"
   },
   {
    "duration": 10,
    "start_time": "2021-09-02T08:40:32.751Z"
   },
   {
    "duration": 29,
    "start_time": "2021-09-02T08:40:32.762Z"
   },
   {
    "duration": 2702,
    "start_time": "2021-09-02T08:40:32.794Z"
   },
   {
    "duration": 8,
    "start_time": "2021-09-02T08:40:35.498Z"
   },
   {
    "duration": 765,
    "start_time": "2021-09-02T08:40:35.507Z"
   },
   {
    "duration": 42,
    "start_time": "2021-09-02T08:40:36.274Z"
   },
   {
    "duration": 3,
    "start_time": "2021-09-02T08:40:36.318Z"
   },
   {
    "duration": 236,
    "start_time": "2021-09-02T08:40:36.323Z"
   },
   {
    "duration": 238,
    "start_time": "2021-09-02T08:40:36.562Z"
   },
   {
    "duration": 404,
    "start_time": "2021-09-02T08:40:36.803Z"
   },
   {
    "duration": 224,
    "start_time": "2021-09-02T08:40:37.209Z"
   },
   {
    "duration": 15,
    "start_time": "2021-09-02T08:40:37.435Z"
   },
   {
    "duration": 82,
    "start_time": "2021-09-02T08:40:37.451Z"
   },
   {
    "duration": 4,
    "start_time": "2021-09-02T08:40:37.534Z"
   },
   {
    "duration": 8,
    "start_time": "2021-09-02T08:40:37.539Z"
   },
   {
    "duration": 5,
    "start_time": "2021-09-02T08:40:37.548Z"
   },
   {
    "duration": 5,
    "start_time": "2021-09-02T08:40:37.554Z"
   },
   {
    "duration": 9,
    "start_time": "2021-09-02T08:40:37.560Z"
   },
   {
    "duration": 18,
    "start_time": "2021-09-02T08:40:37.571Z"
   },
   {
    "duration": 6,
    "start_time": "2021-09-02T08:40:37.600Z"
   },
   {
    "duration": 12,
    "start_time": "2021-09-02T08:40:37.607Z"
   },
   {
    "duration": 6,
    "start_time": "2021-09-02T08:40:37.620Z"
   },
   {
    "duration": 17,
    "start_time": "2021-09-02T08:40:37.628Z"
   },
   {
    "duration": 9,
    "start_time": "2021-09-02T08:40:37.646Z"
   },
   {
    "duration": 30,
    "start_time": "2021-09-02T08:40:37.657Z"
   },
   {
    "duration": 9268,
    "start_time": "2021-09-02T08:40:37.691Z"
   },
   {
    "duration": 1532,
    "start_time": "2021-09-02T08:40:45.429Z"
   },
   {
    "duration": 1528,
    "start_time": "2021-09-02T08:40:45.434Z"
   },
   {
    "duration": 1524,
    "start_time": "2021-09-02T08:40:45.439Z"
   },
   {
    "duration": 1519,
    "start_time": "2021-09-02T08:40:45.445Z"
   },
   {
    "duration": 1514,
    "start_time": "2021-09-02T08:40:45.450Z"
   },
   {
    "duration": 1511,
    "start_time": "2021-09-02T08:40:45.454Z"
   },
   {
    "duration": 1508,
    "start_time": "2021-09-02T08:40:45.458Z"
   },
   {
    "duration": 1505,
    "start_time": "2021-09-02T08:40:45.462Z"
   },
   {
    "duration": 1502,
    "start_time": "2021-09-02T08:40:45.466Z"
   },
   {
    "duration": 1499,
    "start_time": "2021-09-02T08:40:45.470Z"
   },
   {
    "duration": 1495,
    "start_time": "2021-09-02T08:40:45.475Z"
   },
   {
    "duration": 1492,
    "start_time": "2021-09-02T08:40:45.479Z"
   },
   {
    "duration": 1488,
    "start_time": "2021-09-02T08:40:45.483Z"
   },
   {
    "duration": 1486,
    "start_time": "2021-09-02T08:40:45.486Z"
   },
   {
    "duration": 1442,
    "start_time": "2021-09-02T08:41:11.119Z"
   },
   {
    "duration": 2932,
    "start_time": "2021-09-02T08:41:12.563Z"
   },
   {
    "duration": 26,
    "start_time": "2021-09-02T08:41:15.498Z"
   },
   {
    "duration": 18,
    "start_time": "2021-09-02T08:41:15.526Z"
   },
   {
    "duration": 24,
    "start_time": "2021-09-02T08:41:15.546Z"
   },
   {
    "duration": 15,
    "start_time": "2021-09-02T08:41:15.571Z"
   },
   {
    "duration": 25,
    "start_time": "2021-09-02T08:41:15.587Z"
   },
   {
    "duration": 31,
    "start_time": "2021-09-02T08:41:15.614Z"
   },
   {
    "duration": 23,
    "start_time": "2021-09-02T08:41:15.647Z"
   },
   {
    "duration": 198,
    "start_time": "2021-09-02T08:41:15.671Z"
   },
   {
    "duration": 20,
    "start_time": "2021-09-02T08:41:15.871Z"
   },
   {
    "duration": 13,
    "start_time": "2021-09-02T08:41:15.893Z"
   },
   {
    "duration": 10,
    "start_time": "2021-09-02T08:41:15.907Z"
   },
   {
    "duration": 2,
    "start_time": "2021-09-02T08:41:15.918Z"
   },
   {
    "duration": 11,
    "start_time": "2021-09-02T08:41:15.922Z"
   },
   {
    "duration": 7,
    "start_time": "2021-09-02T08:41:15.934Z"
   },
   {
    "duration": 2589,
    "start_time": "2021-09-02T08:41:15.942Z"
   },
   {
    "duration": 6,
    "start_time": "2021-09-02T08:41:18.533Z"
   },
   {
    "duration": 1006,
    "start_time": "2021-09-02T08:41:18.541Z"
   },
   {
    "duration": 55,
    "start_time": "2021-09-02T08:41:19.548Z"
   },
   {
    "duration": 3,
    "start_time": "2021-09-02T08:41:19.605Z"
   },
   {
    "duration": 234,
    "start_time": "2021-09-02T08:41:19.609Z"
   },
   {
    "duration": 235,
    "start_time": "2021-09-02T08:41:19.846Z"
   },
   {
    "duration": 344,
    "start_time": "2021-09-02T08:41:20.086Z"
   },
   {
    "duration": 226,
    "start_time": "2021-09-02T08:41:20.432Z"
   },
   {
    "duration": 30,
    "start_time": "2021-09-02T08:41:20.659Z"
   },
   {
    "duration": 64,
    "start_time": "2021-09-02T08:41:20.691Z"
   },
   {
    "duration": 4,
    "start_time": "2021-09-02T08:41:20.757Z"
   },
   {
    "duration": 22,
    "start_time": "2021-09-02T08:41:20.763Z"
   },
   {
    "duration": 15,
    "start_time": "2021-09-02T08:41:20.787Z"
   },
   {
    "duration": 18,
    "start_time": "2021-09-02T08:41:20.803Z"
   },
   {
    "duration": 21,
    "start_time": "2021-09-02T08:41:20.822Z"
   },
   {
    "duration": 29,
    "start_time": "2021-09-02T08:41:20.845Z"
   },
   {
    "duration": 22,
    "start_time": "2021-09-02T08:41:20.876Z"
   },
   {
    "duration": 25,
    "start_time": "2021-09-02T08:41:20.900Z"
   },
   {
    "duration": 29,
    "start_time": "2021-09-02T08:41:20.927Z"
   },
   {
    "duration": 26,
    "start_time": "2021-09-02T08:41:20.957Z"
   },
   {
    "duration": 24,
    "start_time": "2021-09-02T08:41:20.985Z"
   },
   {
    "duration": 26,
    "start_time": "2021-09-02T08:41:21.011Z"
   },
   {
    "duration": 36375,
    "start_time": "2021-09-02T08:41:21.038Z"
   },
   {
    "duration": 145373,
    "start_time": "2021-09-02T08:41:57.415Z"
   },
   {
    "duration": 6,
    "start_time": "2021-09-02T08:44:22.797Z"
   },
   {
    "duration": 81,
    "start_time": "2021-09-02T08:44:22.806Z"
   },
   {
    "duration": 27,
    "start_time": "2021-09-02T08:44:22.890Z"
   },
   {
    "duration": 10,
    "start_time": "2021-09-02T08:44:22.985Z"
   },
   {
    "duration": 135577,
    "start_time": "2021-09-02T08:44:22.999Z"
   },
   {
    "duration": 224322,
    "start_time": "2021-09-02T08:46:38.578Z"
   },
   {
    "duration": 3,
    "start_time": "2021-09-02T08:50:22.902Z"
   },
   {
    "duration": 13,
    "start_time": "2021-09-02T08:50:22.907Z"
   },
   {
    "duration": 3,
    "start_time": "2021-09-02T08:50:22.921Z"
   },
   {
    "duration": 1054134,
    "start_time": "2021-09-02T08:50:22.925Z"
   },
   {
    "duration": 1727192,
    "start_time": "2021-09-02T09:07:57.061Z"
   },
   {
    "duration": 3,
    "start_time": "2021-09-02T09:36:44.255Z"
   },
   {
    "duration": 25,
    "start_time": "2021-09-02T09:36:44.260Z"
   },
   {
    "duration": 9,
    "start_time": "2021-09-02T09:48:15.385Z"
   },
   {
    "duration": 4,
    "start_time": "2021-09-02T09:50:45.129Z"
   },
   {
    "duration": 35,
    "start_time": "2021-09-02T09:50:48.049Z"
   },
   {
    "duration": 9,
    "start_time": "2021-09-02T09:51:31.931Z"
   },
   {
    "duration": 14,
    "start_time": "2021-09-02T09:51:44.331Z"
   },
   {
    "duration": 7,
    "start_time": "2021-09-02T09:54:39.450Z"
   },
   {
    "duration": 7,
    "start_time": "2021-09-02T09:57:36.659Z"
   },
   {
    "duration": 1601,
    "start_time": "2021-09-02T10:02:50.995Z"
   },
   {
    "duration": 4,
    "start_time": "2021-09-02T10:02:57.375Z"
   },
   {
    "duration": 258,
    "start_time": "2021-09-02T10:04:35.330Z"
   },
   {
    "duration": 921,
    "start_time": "2021-09-02T10:04:41.610Z"
   },
   {
    "duration": 10,
    "start_time": "2021-09-02T10:05:07.385Z"
   },
   {
    "duration": 16,
    "start_time": "2021-09-02T10:05:45.204Z"
   },
   {
    "duration": 16,
    "start_time": "2021-09-02T10:05:48.674Z"
   },
   {
    "duration": 15,
    "start_time": "2021-09-02T10:05:58.834Z"
   },
   {
    "duration": 27,
    "start_time": "2021-09-02T10:08:36.998Z"
   },
   {
    "duration": 15,
    "start_time": "2021-09-02T10:10:03.358Z"
   },
   {
    "duration": 296,
    "start_time": "2021-09-02T10:12:49.514Z"
   },
   {
    "duration": 26,
    "start_time": "2021-09-02T10:12:58.850Z"
   },
   {
    "duration": 25,
    "start_time": "2021-09-02T10:13:31.324Z"
   },
   {
    "duration": 46,
    "start_time": "2021-09-02T10:15:35.925Z"
   },
   {
    "duration": 29,
    "start_time": "2021-09-02T10:15:56.339Z"
   },
   {
    "duration": 28,
    "start_time": "2021-09-02T10:16:03.519Z"
   },
   {
    "duration": 28,
    "start_time": "2021-09-02T10:16:13.563Z"
   },
   {
    "duration": 28,
    "start_time": "2021-09-02T10:21:19.981Z"
   },
   {
    "duration": 867,
    "start_time": "2021-09-02T10:35:45.671Z"
   },
   {
    "duration": 11,
    "start_time": "2021-09-02T10:36:12.361Z"
   },
   {
    "duration": 163,
    "start_time": "2021-09-02T10:41:19.426Z"
   },
   {
    "duration": 28,
    "start_time": "2021-09-02T10:41:46.224Z"
   },
   {
    "duration": 24,
    "start_time": "2021-09-02T10:44:24.018Z"
   },
   {
    "duration": 7,
    "start_time": "2021-09-02T10:46:32.125Z"
   },
   {
    "duration": 1308,
    "start_time": "2021-09-02T19:10:07.329Z"
   },
   {
    "duration": 1984,
    "start_time": "2021-09-02T19:10:08.638Z"
   },
   {
    "duration": 36,
    "start_time": "2021-09-02T19:10:10.624Z"
   },
   {
    "duration": 23,
    "start_time": "2021-09-02T19:10:10.663Z"
   },
   {
    "duration": 59,
    "start_time": "2021-09-02T19:10:10.688Z"
   },
   {
    "duration": 5,
    "start_time": "2021-09-02T19:10:10.749Z"
   },
   {
    "duration": 27,
    "start_time": "2021-09-02T19:10:10.756Z"
   },
   {
    "duration": 57,
    "start_time": "2021-09-02T19:10:10.786Z"
   },
   {
    "duration": 30,
    "start_time": "2021-09-02T19:10:10.846Z"
   },
   {
    "duration": 239,
    "start_time": "2021-09-02T19:10:10.877Z"
   },
   {
    "duration": 14,
    "start_time": "2021-09-02T19:10:11.117Z"
   },
   {
    "duration": 8,
    "start_time": "2021-09-02T19:10:11.142Z"
   },
   {
    "duration": 13,
    "start_time": "2021-09-02T19:10:11.152Z"
   },
   {
    "duration": 4,
    "start_time": "2021-09-02T19:10:11.167Z"
   },
   {
    "duration": 16,
    "start_time": "2021-09-02T19:10:11.173Z"
   },
   {
    "duration": 8,
    "start_time": "2021-09-02T19:10:11.191Z"
   },
   {
    "duration": 2910,
    "start_time": "2021-09-02T19:10:11.201Z"
   },
   {
    "duration": 7,
    "start_time": "2021-09-02T19:10:14.113Z"
   },
   {
    "duration": 877,
    "start_time": "2021-09-02T19:10:14.121Z"
   },
   {
    "duration": 75,
    "start_time": "2021-09-02T19:10:15.000Z"
   },
   {
    "duration": 4,
    "start_time": "2021-09-02T19:10:15.076Z"
   },
   {
    "duration": 245,
    "start_time": "2021-09-02T19:10:15.081Z"
   },
   {
    "duration": 274,
    "start_time": "2021-09-02T19:10:15.329Z"
   },
   {
    "duration": 367,
    "start_time": "2021-09-02T19:10:15.605Z"
   },
   {
    "duration": 250,
    "start_time": "2021-09-02T19:10:15.974Z"
   },
   {
    "duration": 34,
    "start_time": "2021-09-02T19:10:16.226Z"
   },
   {
    "duration": 93,
    "start_time": "2021-09-02T19:10:16.262Z"
   },
   {
    "duration": 4,
    "start_time": "2021-09-02T19:10:16.357Z"
   },
   {
    "duration": 24,
    "start_time": "2021-09-02T19:10:16.363Z"
   },
   {
    "duration": 20,
    "start_time": "2021-09-02T19:10:16.389Z"
   },
   {
    "duration": 19,
    "start_time": "2021-09-02T19:10:16.411Z"
   },
   {
    "duration": 31,
    "start_time": "2021-09-02T19:10:16.431Z"
   },
   {
    "duration": 24,
    "start_time": "2021-09-02T19:10:16.464Z"
   },
   {
    "duration": 31,
    "start_time": "2021-09-02T19:10:16.489Z"
   },
   {
    "duration": 39,
    "start_time": "2021-09-02T19:10:16.522Z"
   },
   {
    "duration": 35,
    "start_time": "2021-09-02T19:10:16.563Z"
   },
   {
    "duration": 26,
    "start_time": "2021-09-02T19:10:16.600Z"
   },
   {
    "duration": 26,
    "start_time": "2021-09-02T19:10:16.628Z"
   },
   {
    "duration": 10,
    "start_time": "2021-09-02T19:10:16.656Z"
   },
   {
    "duration": 43593,
    "start_time": "2021-09-02T19:10:16.668Z"
   },
   {
    "duration": 154683,
    "start_time": "2021-09-02T19:11:00.263Z"
   },
   {
    "duration": 5,
    "start_time": "2021-09-02T19:13:34.949Z"
   },
   {
    "duration": 7,
    "start_time": "2021-09-02T19:13:35.042Z"
   },
   {
    "duration": 191,
    "start_time": "2021-09-02T19:13:35.052Z"
   },
   {
    "duration": 95,
    "start_time": "2021-09-02T19:13:35.246Z"
   },
   {
    "duration": 152446,
    "start_time": "2021-09-02T19:13:35.343Z"
   },
   {
    "duration": 265056,
    "start_time": "2021-09-02T19:16:07.790Z"
   },
   {
    "duration": 4,
    "start_time": "2021-09-02T19:20:32.848Z"
   },
   {
    "duration": 15,
    "start_time": "2021-09-02T19:20:32.854Z"
   },
   {
    "duration": 4,
    "start_time": "2021-09-02T19:20:32.871Z"
   },
   {
    "duration": 1255008,
    "start_time": "2021-09-02T19:20:32.877Z"
   },
   {
    "duration": 2008576,
    "start_time": "2021-09-02T19:41:27.887Z"
   },
   {
    "duration": 4,
    "start_time": "2021-09-02T20:14:56.465Z"
   },
   {
    "duration": 20,
    "start_time": "2021-09-02T20:14:56.473Z"
   },
   {
    "duration": 160,
    "start_time": "2021-09-02T20:14:56.495Z"
   },
   {
    "duration": 13,
    "start_time": "2021-09-02T20:14:56.660Z"
   },
   {
    "duration": 74,
    "start_time": "2021-09-02T20:14:56.675Z"
   },
   {
    "duration": 31,
    "start_time": "2021-09-02T20:14:56.751Z"
   },
   {
    "duration": 244,
    "start_time": "2021-11-19T14:18:52.388Z"
   }
  ],
  "kernelspec": {
   "display_name": "Python 3 (ipykernel)",
   "language": "python",
   "name": "python3"
  },
  "language_info": {
   "codemirror_mode": {
    "name": "ipython",
    "version": 3
   },
   "file_extension": ".py",
   "mimetype": "text/x-python",
   "name": "python",
   "nbconvert_exporter": "python",
   "pygments_lexer": "ipython3",
   "version": "3.9.5"
  },
  "toc": {
   "base_numbering": 1,
   "nav_menu": {},
   "number_sections": true,
   "sideBar": true,
   "skip_h1_title": true,
   "title_cell": "Содержание",
   "title_sidebar": "Contents",
   "toc_cell": true,
   "toc_position": {
    "height": "calc(100% - 180px)",
    "left": "10px",
    "top": "150px",
    "width": "366.391px"
   },
   "toc_section_display": true,
   "toc_window_display": true
  }
 },
 "nbformat": 4,
 "nbformat_minor": 2
}
