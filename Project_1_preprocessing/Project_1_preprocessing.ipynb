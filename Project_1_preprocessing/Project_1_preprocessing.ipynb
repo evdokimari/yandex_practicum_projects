{
 "cells": [
  {
   "cell_type": "markdown",
   "metadata": {},
   "source": [
    "<div class=\"alert alert-info\">\n",
    "<h2> Комментарий от ревьюера<a class=\"tocSkip\"></a></h2>\n",
    "Привет. Меня зовут Алина Гусева, я буду делать ревью к твоей работе по исследовательскому анализу данных. В дальнейшем предлагаю общаться на \"ты\".\n",
    "    \n",
    "    \n",
    "Видно, что ты старалась, делая проект. Все ключевые этапы проекта выполнены, в целом тебе удалось со всем справиться. Особенно хочется отметить, что соблюдена структура проекта, а код написан аккуратно.\n",
    "    \n",
    "Для того, чтобы и тебе и мне удобнее бы\n",
    "    ло ориентироваться в комментариях, я буду помечать их разными цветами:\n",
    "- красный цвет означает комментарии, которые требуют доработки. Как только ты их исправишь - проект будет принят;\n",
    "- желтый цвет - то, что в следующий раз можно будет сделать по-другому. На твое усмотрение можешь доделать маленькие правки сейчас или учесть замечание для выполнения следующих проектов;\n",
    "- зеленый цвет - очень элегантные и удачные решение, которые желательно использовать в дальнейшей работе.\n",
    "- синий цвет - информация\n",
    "    \n",
    "Предлагаю работать над проектом в диалоге: если ты что-то изменяешь или вносишь какие-то коррективы - выделяй это каким-нибудь цветом и пиши об этом мне. Так мне гораздо легче будет отследить сделанные изменения.\n",
    "    \n",
    "Также попрошу тебя не изменять и не удалять мои комментарии, чтобы проверка твоего самостоятельного проекта прошла оперативнее.\n",
    "    \n",
    " \n",
    "</div>"
   ]
  },
  {
   "cell_type": "markdown",
   "metadata": {},
   "source": [
    "# Исследование надёжности заёмщиков\n",
    "\n",
    "Заказчик — кредитный отдел банка. Нужно разобраться, влияет ли семейное положение и количество детей клиента на факт погашения кредита в срок. Входные данные от банка — статистика о платёжеспособности клиентов.\n",
    "\n",
    "Результаты исследования будут учтены при построении модели **кредитного скоринга** — специальной системы, которая оценивает способность потенциального заёмщика вернуть кредит банку."
   ]
  },
  {
   "cell_type": "markdown",
   "metadata": {},
   "source": [
    "## Шаг 1. Откройте файл с данными и изучите общую информацию"
   ]
  },
  {
   "cell_type": "code",
   "execution_count": 1,
   "metadata": {},
   "outputs": [
    {
     "name": "stdout",
     "output_type": "stream",
     "text": [
      "   children  days_employed  dob_years education  education_id  \\\n",
      "0         1   -8437.673028         42    высшее             0   \n",
      "1         1   -4024.803754         36   среднее             1   \n",
      "2         0   -5623.422610         33   Среднее             1   \n",
      "3         3   -4124.747207         32   среднее             1   \n",
      "4         0  340266.072047         53   среднее             1   \n",
      "5         0    -926.185831         27    высшее             0   \n",
      "6         0   -2879.202052         43    высшее             0   \n",
      "7         0    -152.779569         50   СРЕДНЕЕ             1   \n",
      "8         2   -6929.865299         35    ВЫСШЕЕ             0   \n",
      "9         0   -2188.756445         41   среднее             1   \n",
      "\n",
      "      family_status  family_status_id gender income_type  debt   total_income  \\\n",
      "0   женат / замужем                 0      F   сотрудник     0  253875.639453   \n",
      "1   женат / замужем                 0      F   сотрудник     0  112080.014102   \n",
      "2   женат / замужем                 0      M   сотрудник     0  145885.952297   \n",
      "3   женат / замужем                 0      M   сотрудник     0  267628.550329   \n",
      "4  гражданский брак                 1      F   пенсионер     0  158616.077870   \n",
      "5  гражданский брак                 1      M   компаньон     0  255763.565419   \n",
      "6   женат / замужем                 0      F   компаньон     0  240525.971920   \n",
      "7   женат / замужем                 0      M   сотрудник     0  135823.934197   \n",
      "8  гражданский брак                 1      F   сотрудник     0   95856.832424   \n",
      "9   женат / замужем                 0      M   сотрудник     0  144425.938277   \n",
      "\n",
      "                      purpose  \n",
      "0               покупка жилья  \n",
      "1     приобретение автомобиля  \n",
      "2               покупка жилья  \n",
      "3  дополнительное образование  \n",
      "4             сыграть свадьбу  \n",
      "5               покупка жилья  \n",
      "6           операции с жильем  \n",
      "7                 образование  \n",
      "8       на проведение свадьбы  \n",
      "9     покупка жилья для семьи  \n",
      "<class 'pandas.core.frame.DataFrame'>\n",
      "RangeIndex: 21525 entries, 0 to 21524\n",
      "Data columns (total 12 columns):\n",
      "children            21525 non-null int64\n",
      "days_employed       19351 non-null float64\n",
      "dob_years           21525 non-null int64\n",
      "education           21525 non-null object\n",
      "education_id        21525 non-null int64\n",
      "family_status       21525 non-null object\n",
      "family_status_id    21525 non-null int64\n",
      "gender              21525 non-null object\n",
      "income_type         21525 non-null object\n",
      "debt                21525 non-null int64\n",
      "total_income        19351 non-null float64\n",
      "purpose             21525 non-null object\n",
      "dtypes: float64(2), int64(5), object(5)\n",
      "memory usage: 2.0+ MB\n",
      "['женат / замужем' 'гражданский брак' 'вдовец / вдова' 'в разводе'\n",
      " 'Не женат / не замужем']\n",
      "[0 1 2 3 4]\n",
      "[ 1  0  3  2 -1  4 20  5]\n",
      "[42 36 33 32 53 27 43 50 35 41 40 65 54 56 26 48 24 21 57 67 28 63 62 47\n",
      " 34 68 25 31 30 20 49 37 45 61 64 44 52 46 23 38 39 51  0 59 29 60 55 58\n",
      " 71 22 73 66 69 19 72 70 74 75]\n",
      "15906\n",
      "15906\n",
      "3445\n"
     ]
    }
   ],
   "source": [
    "import pandas as pd\n",
    "df = pd.read_csv('/datasets/data.csv')\n",
    "print(df.head(10))\n",
    "df.info()\n",
    "df.columns\n",
    "\n",
    "print(df['family_status'].unique())\n",
    "print(df['family_status_id'].unique())\n",
    "print(df['children'].unique())\n",
    "print(df['dob_years'].unique())\n",
    "\n",
    "print(len(df[(df['days_employed'] < 300000)]['days_employed']))\n",
    "print(len(df[(df['days_employed'] < 0)]['days_employed']))\n",
    "print(len(df[(df['days_employed'] >= 300000)]['days_employed']))"
   ]
  },
  {
   "cell_type": "markdown",
   "metadata": {},
   "source": [
    "**Вывод**"
   ]
  },
  {
   "cell_type": "markdown",
   "metadata": {},
   "source": [
    "Каждая строка таблицы содержит информацию о заёмщике. Для проверки рабочих гипотез особенно ценны столбцы children, family_status, total_income, purpose, debt. \n",
    "\n",
    "Проблемы: \n",
    "\n",
    "пропуски в столбцах days_employed и total_income, \n",
    "\n",
    "артефакты в столбце days_employed (например, 340266 / 365 = 932 года) и отрицательное количество проработанных дней,\n",
    "\n",
    "\n",
    "артефакты в столбце children. Предположительно, -1 ребенок и 20 детей - это 1 и 2 ребенка,\n",
    "\n",
    "артефакты в столбце dob_years (0 лет)\n",
    "\n",
    "дубликаты в столбцах education (разный регистр букв) и purpose (нужна лемматизация).\n",
    "\n",
    "Предположительно, отрицательные значения в столбце days_employed соответствуют реальному трудовому стажу и могут быть заменены опусканием минуса, а остальные положительные значения все нереалистичны и равны 300000+ дней, заменим их нулями и будем считать, что эти данные неизвестны. "
   ]
  },
  {
   "cell_type": "markdown",
   "metadata": {},
   "source": [
    "<div class=\"alert alert-success\">\n",
    "<h2> Комментарий от ревьюера<a class=\"tocSkip\"></a></h2>\n",
    "Молодец, хороший тон использовать метод info() для получения общей информации из таблицы. Для более детального изучения можно воспользоваться методом describe(). \n",
    "    \n",
    " \n",
    "</div>"
   ]
  },
  {
   "cell_type": "markdown",
   "metadata": {},
   "source": [
    "## Шаг 2. Предобработка данных"
   ]
  },
  {
   "cell_type": "markdown",
   "metadata": {},
   "source": [
    "### Обработка пропусков"
   ]
  },
  {
   "cell_type": "code",
   "execution_count": 2,
   "metadata": {},
   "outputs": [
    {
     "name": "stdout",
     "output_type": "stream",
     "text": [
      "сотрудник          11119\n",
      "компаньон           5085\n",
      "пенсионер           3856\n",
      "госслужащий         1459\n",
      "безработный            2\n",
      "предприниматель        2\n",
      "в декрете              1\n",
      "студент                1\n",
      "Name: income_type, dtype: int64\n",
      "сотрудник          1105\n",
      "компаньон           508\n",
      "пенсионер           413\n",
      "госслужащий         147\n",
      "предприниматель       1\n",
      "Name: income_type, dtype: int64\n",
      "сотрудник      55\n",
      "пенсионер      20\n",
      "компаньон      20\n",
      "госслужащий     6\n",
      "Name: income_type, dtype: int64\n",
      "59.370959332638165\n",
      "40.03542187855356\n",
      "0\n",
      "0    8437.673028\n",
      "1    4024.803754\n",
      "2    5623.422610\n",
      "3    4124.747207\n",
      "4       0.000000\n",
      "5     926.185831\n",
      "6    2879.202052\n",
      "7     152.779569\n",
      "8    6929.865299\n",
      "9    2188.756445\n",
      "Name: days_employed, dtype: float64\n",
      "<class 'pandas.core.frame.DataFrame'>\n",
      "RangeIndex: 21525 entries, 0 to 21524\n",
      "Data columns (total 12 columns):\n",
      "children            21525 non-null int64\n",
      "days_employed       21525 non-null float64\n",
      "dob_years           21525 non-null float64\n",
      "education           21525 non-null object\n",
      "education_id        21525 non-null int64\n",
      "family_status       21525 non-null object\n",
      "family_status_id    21525 non-null int64\n",
      "gender              21525 non-null object\n",
      "income_type         21525 non-null object\n",
      "debt                21525 non-null int64\n",
      "total_income        21525 non-null float64\n",
      "purpose             21525 non-null object\n",
      "dtypes: float64(3), int64(4), object(5)\n",
      "memory usage: 2.0+ MB\n",
      "[1 0 3 2 4 5]\n"
     ]
    }
   ],
   "source": [
    "df.isnull().sum()\n",
    "print(df['income_type'].value_counts())\n",
    "\n",
    "\n",
    "NaNs_before_removing = df[df['total_income'].isna()]['income_type'].value_counts()\n",
    "print(NaNs_before_removing)\n",
    "for income_type in df['income_type'].unique():\n",
    "    total_income_median = df[df['income_type'] == income_type] ['total_income'].median()\n",
    "    df.loc[df['income_type'] == income_type, 'total_income'] = df[df['income_type'] == income_type]['total_income'].fillna(total_income_median)\n",
    "    days_employed_median = df[df['income_type'] == income_type]['days_employed'].median()\n",
    "    df.loc[df['income_type'] == income_type, 'days_employed'] = df[df['income_type'] == income_type]['days_employed'].fillna(days_employed_median)\n",
    "df.isnull().sum()\n",
    "\n",
    "print(df[df['dob_years'] == 0 ]['income_type'].value_counts())\n",
    "dob_years_mean_retiree = df[(df['dob_years'] != 0) & (df['income_type'] == 'пенсионер')]['dob_years'].mean()\n",
    "dob_years_mean_others = df[(df['dob_years'] != 0) & (df['income_type'] != 'пенсионер')]['dob_years'].mean()\n",
    "\n",
    "print(dob_years_mean_retiree)\n",
    "print(dob_years_mean_others)\n",
    "\n",
    "df.loc[(df['dob_years'] == 0) & (df['income_type'] != 'пенсионер'), 'dob_years'] = dob_years_mean_others\n",
    "df.loc[(df['dob_years'] == 0) & (df['income_type'] == 'пенсионер'), 'dob_years'] = dob_years_mean_retiree\n",
    "\n",
    "df.loc[df['days_employed'] >= 300000, 'days_employed'] = 0\n",
    "df.loc[df['days_employed'] < 0, 'days_employed'] = - df.loc[df['days_employed'] < 0, 'days_employed']\n",
    "print(len(df[(df['days_employed'] >= 300000)]['days_employed']))\n",
    "print(df['days_employed'].head(10))\n",
    "df.info()\n",
    "\n",
    "df['children'] = df['children'].replace(-1, 1)\n",
    "df['children'] = df['children'].replace(20, 2)\n",
    "print(df['children'].unique())"
   ]
  },
  {
   "cell_type": "markdown",
   "metadata": {},
   "source": [
    "**Вывод**"
   ]
  },
  {
   "cell_type": "markdown",
   "metadata": {},
   "source": [
    "Пропуска в total_income и days_employed идут вместе.\n",
    "Возможные причины пропусков: данные были не полностью перенесены в общую таблицу. Например, в предыдущей таблице не было этих пунктов (total_income и days_employed). Пропущено около 10% значений по доходу и трудовому стажу, причем пропуски равномерно распределены по основным категориям (сотрудник, компаньон, пенсионер, госслужащий), в каждой примерно по 10%\n",
    "\n",
    "Пропуски заменены по каждой категории (сотрудник, компаньон, пенсионер, госслужащий) на медианные, чтобы избежать влияния редких или артефактных значений.\n",
    "\n",
    "Нулевые значения возраста заменены на средние среди пенсионеров для пенсионеров и на средние среди всех остальных для всех остальных категорий\n",
    "\n",
    "-1 и 20 детей заменены на 1 и 2"
   ]
  },
  {
   "cell_type": "markdown",
   "metadata": {},
   "source": [
    "<div class=\"alert alert-success\">\n",
    "<h2> Комментарий от ревьюера<a class=\"tocSkip\"></a></h2>\n",
    "1. Стаж и зарплата. Да, ты верно заметила, что пропуски в двух столбцах симметричны.  Заменять медианой некорректно. Ты выбрала самый оптимальный способ, предварительно сгруппировав данные по типу занятости. Кстати, в данном случае очень удобно воспользоваться функцией <a href='https://pandas.pydata.org/pandas-docs/stable/reference/api/pandas.DataFrame.transform.html'>transform()</a>.  Данные в колонке ос стоажем некорректные. Об этом необходимо сообщить разработчикам базы данных во избежании дальнейших неприятностей.\n",
    "    \n",
    "    \n",
    "2. Количество детей. Все верно, артефакты -1 и 20 необходимо заменить на более реальные значения.\n",
    "</div>"
   ]
  },
  {
   "cell_type": "markdown",
   "metadata": {},
   "source": [
    "### Замена типа данных"
   ]
  },
  {
   "cell_type": "code",
   "execution_count": 3,
   "metadata": {},
   "outputs": [
    {
     "name": "stdout",
     "output_type": "stream",
     "text": [
      "<class 'pandas.core.frame.DataFrame'>\n",
      "RangeIndex: 21525 entries, 0 to 21524\n",
      "Data columns (total 12 columns):\n",
      "children            21525 non-null int64\n",
      "days_employed       21525 non-null float64\n",
      "dob_years           21525 non-null float64\n",
      "education           21525 non-null object\n",
      "education_id        21525 non-null int64\n",
      "family_status       21525 non-null object\n",
      "family_status_id    21525 non-null int64\n",
      "gender              21525 non-null object\n",
      "income_type         21525 non-null object\n",
      "debt                21525 non-null int64\n",
      "total_income        21525 non-null float64\n",
      "purpose             21525 non-null object\n",
      "dtypes: float64(3), int64(4), object(5)\n",
      "memory usage: 2.0+ MB\n",
      "<class 'pandas.core.frame.DataFrame'>\n",
      "RangeIndex: 21525 entries, 0 to 21524\n",
      "Data columns (total 12 columns):\n",
      "children            21525 non-null int64\n",
      "days_employed       21525 non-null int64\n",
      "dob_years           21525 non-null int64\n",
      "education           21525 non-null object\n",
      "education_id        21525 non-null int64\n",
      "family_status       21525 non-null object\n",
      "family_status_id    21525 non-null int64\n",
      "gender              21525 non-null object\n",
      "income_type         21525 non-null object\n",
      "debt                21525 non-null int64\n",
      "total_income        21525 non-null int64\n",
      "purpose             21525 non-null object\n",
      "dtypes: int64(7), object(5)\n",
      "memory usage: 2.0+ MB\n"
     ]
    }
   ],
   "source": [
    "df.info()\n",
    "df['days_employed'] = df['days_employed'].astype('int')\n",
    "df['total_income'] = df['total_income'].astype('int')\n",
    "df['dob_years'] = df['dob_years'].astype('int')\n",
    "df.info()"
   ]
  },
  {
   "cell_type": "markdown",
   "metadata": {},
   "source": [
    "**Вывод**"
   ]
  },
  {
   "cell_type": "markdown",
   "metadata": {},
   "source": [
    "После обработки пропусков изменился тип 'dob_years', поменяем его обратно. Типы столбцов 'days_employed' и 'total_income' тоже переведем в int."
   ]
  },
  {
   "cell_type": "markdown",
   "metadata": {},
   "source": [
    "<div class=\"alert alert-success\">\n",
    "<h2> Комментарий от ревьюера<a class=\"tocSkip\"></a></h2>\n",
    "Отлично, теперь все столбцы имеют корректный тип данных.\n",
    "</div>"
   ]
  },
  {
   "cell_type": "markdown",
   "metadata": {},
   "source": [
    "### Обработка дубликатов"
   ]
  },
  {
   "cell_type": "markdown",
   "metadata": {},
   "source": [
    "**Вывод**"
   ]
  },
  {
   "cell_type": "code",
   "execution_count": 4,
   "metadata": {},
   "outputs": [
    {
     "name": "stdout",
     "output_type": "stream",
     "text": [
      "<class 'pandas.core.frame.DataFrame'>\n",
      "RangeIndex: 21525 entries, 0 to 21524\n",
      "Data columns (total 12 columns):\n",
      "children            21525 non-null int64\n",
      "days_employed       21525 non-null int64\n",
      "dob_years           21525 non-null int64\n",
      "education           21525 non-null object\n",
      "education_id        21525 non-null int64\n",
      "family_status       21525 non-null object\n",
      "family_status_id    21525 non-null int64\n",
      "gender              21525 non-null object\n",
      "income_type         21525 non-null object\n",
      "debt                21525 non-null int64\n",
      "total_income        21525 non-null int64\n",
      "purpose             21525 non-null object\n",
      "dtypes: int64(7), object(5)\n",
      "memory usage: 2.0+ MB\n",
      "   children  days_employed  dob_years education  education_id  \\\n",
      "0         1           8437         42    высшее             0   \n",
      "1         1           4024         36   среднее             1   \n",
      "2         0           5623         33   среднее             1   \n",
      "3         3           4124         32   среднее             1   \n",
      "4         0              0         53   среднее             1   \n",
      "5         0            926         27    высшее             0   \n",
      "6         0           2879         43    высшее             0   \n",
      "7         0            152         50   среднее             1   \n",
      "8         2           6929         35    высшее             0   \n",
      "9         0           2188         41   среднее             1   \n",
      "\n",
      "      family_status  family_status_id gender income_type  debt  total_income  \\\n",
      "0   женат / замужем                 0      F   сотрудник     0        253875   \n",
      "1   женат / замужем                 0      F   сотрудник     0        112080   \n",
      "2   женат / замужем                 0      M   сотрудник     0        145885   \n",
      "3   женат / замужем                 0      M   сотрудник     0        267628   \n",
      "4  гражданский брак                 1      F   пенсионер     0        158616   \n",
      "5  гражданский брак                 1      M   компаньон     0        255763   \n",
      "6   женат / замужем                 0      F   компаньон     0        240525   \n",
      "7   женат / замужем                 0      M   сотрудник     0        135823   \n",
      "8  гражданский брак                 1      F   сотрудник     0         95856   \n",
      "9   женат / замужем                 0      M   сотрудник     0        144425   \n",
      "\n",
      "                      purpose  \n",
      "0               покупка жилья  \n",
      "1     приобретение автомобиля  \n",
      "2               покупка жилья  \n",
      "3  дополнительное образование  \n",
      "4             сыграть свадьбу  \n",
      "5               покупка жилья  \n",
      "6           операции с жильем  \n",
      "7                 образование  \n",
      "8       на проведение свадьбы  \n",
      "9     покупка жилья для семьи  \n",
      "71\n",
      "0\n"
     ]
    }
   ],
   "source": [
    "df.info()\n",
    "df['education'] = df['education'].str.lower()\n",
    "print(df.head(10))\n",
    "print(df.duplicated().sum())\n",
    "df = df.drop_duplicates().reset_index(drop=True) \n",
    "print(df.duplicated().sum())\n"
   ]
  },
  {
   "cell_type": "markdown",
   "metadata": {},
   "source": [
    "Обнаружена и удалена 71 строка явных дубликатов."
   ]
  },
  {
   "cell_type": "markdown",
   "metadata": {},
   "source": [
    "<div class=\"alert alert-success\">\n",
    "<h2> Комментарий от ревьюера<a class=\"tocSkip\"></a></h2>\n",
    "Здесь важно обратить внимание на то, что сначала необходимо привести текстовый формат данных к единому виду(регистр), а затем проверять на дубликаты. Иначе результат может получится другой.\n",
    " \n",
    "</div>"
   ]
  },
  {
   "cell_type": "markdown",
   "metadata": {},
   "source": [
    "### Лемматизация"
   ]
  },
  {
   "cell_type": "code",
   "execution_count": 5,
   "metadata": {},
   "outputs": [
    {
     "name": "stdout",
     "output_type": "stream",
     "text": [
      "<class 'pandas.core.frame.DataFrame'>\n",
      "RangeIndex: 21454 entries, 0 to 21453\n",
      "Data columns (total 12 columns):\n",
      "children            21454 non-null int64\n",
      "days_employed       21454 non-null int64\n",
      "dob_years           21454 non-null int64\n",
      "education           21454 non-null object\n",
      "education_id        21454 non-null int64\n",
      "family_status       21454 non-null object\n",
      "family_status_id    21454 non-null int64\n",
      "gender              21454 non-null object\n",
      "income_type         21454 non-null object\n",
      "debt                21454 non-null int64\n",
      "total_income        21454 non-null int64\n",
      "purpose             21454 non-null object\n",
      "dtypes: int64(7), object(5)\n",
      "memory usage: 2.0+ MB\n",
      "['покупка жилья' 'приобретение автомобиля' 'дополнительное образование'\n",
      " 'сыграть свадьбу' 'операции с жильем' 'образование'\n",
      " 'на проведение свадьбы' 'покупка жилья для семьи' 'покупка недвижимости'\n",
      " 'покупка коммерческой недвижимости' 'покупка жилой недвижимости'\n",
      " 'строительство собственной недвижимости' 'недвижимость'\n",
      " 'строительство недвижимости' 'на покупку подержанного автомобиля'\n",
      " 'на покупку своего автомобиля' 'операции с коммерческой недвижимостью'\n",
      " 'строительство жилой недвижимости' 'жилье'\n",
      " 'операции со своей недвижимостью' 'автомобили' 'заняться образованием'\n",
      " 'сделка с подержанным автомобилем' 'получение образования' 'автомобиль'\n",
      " 'свадьба' 'получение дополнительного образования' 'покупка своего жилья'\n",
      " 'операции с недвижимостью' 'получение высшего образования'\n",
      " 'свой автомобиль' 'сделка с автомобилем' 'профильное образование'\n",
      " 'высшее образование' 'покупка жилья для сдачи' 'на покупку автомобиля'\n",
      " 'ремонт жилью' 'заняться высшим образованием']\n",
      "   children  days_employed  dob_years education  education_id  \\\n",
      "0         1           8437         42    высшее             0   \n",
      "1         1           4024         36   среднее             1   \n",
      "2         0           5623         33   среднее             1   \n",
      "3         3           4124         32   среднее             1   \n",
      "4         0              0         53   среднее             1   \n",
      "5         0            926         27    высшее             0   \n",
      "6         0           2879         43    высшее             0   \n",
      "7         0            152         50   среднее             1   \n",
      "8         2           6929         35    высшее             0   \n",
      "9         0           2188         41   среднее             1   \n",
      "\n",
      "      family_status  family_status_id gender income_type  debt  total_income  \\\n",
      "0   женат / замужем                 0      F   сотрудник     0        253875   \n",
      "1   женат / замужем                 0      F   сотрудник     0        112080   \n",
      "2   женат / замужем                 0      M   сотрудник     0        145885   \n",
      "3   женат / замужем                 0      M   сотрудник     0        267628   \n",
      "4  гражданский брак                 1      F   пенсионер     0        158616   \n",
      "5  гражданский брак                 1      M   компаньон     0        255763   \n",
      "6   женат / замужем                 0      F   компаньон     0        240525   \n",
      "7   женат / замужем                 0      M   сотрудник     0        135823   \n",
      "8  гражданский брак                 1      F   сотрудник     0         95856   \n",
      "9   женат / замужем                 0      M   сотрудник     0        144425   \n",
      "\n",
      "                      purpose  purpose_type  purpose_id  \n",
      "0               покупка жилья  недвижимость           0  \n",
      "1     приобретение автомобиля    автомобиль           1  \n",
      "2               покупка жилья  недвижимость           0  \n",
      "3  дополнительное образование   образование           2  \n",
      "4             сыграть свадьбу       свадьба           3  \n",
      "5               покупка жилья  недвижимость           0  \n",
      "6           операции с жильем  недвижимость           0  \n",
      "7                 образование   образование           2  \n",
      "8       на проведение свадьбы       свадьба           3  \n",
      "9     покупка жилья для семьи  недвижимость           0  \n"
     ]
    }
   ],
   "source": [
    "df.info()\n",
    "print(df['purpose'].unique())\n",
    "from pymystem3 import Mystem\n",
    "m = Mystem() \n",
    "\n",
    "lemmas = []\n",
    "\n",
    "for i in range(len(df['purpose'])):\n",
    "    lemmas += m.lemmatize(df.loc[i,'purpose'])\n",
    "\n",
    "\n",
    "purpose_id = [];\n",
    "purpose_type = [];\n",
    "queries = ['недвижимость', 'автомобиль', 'образование', 'свадьба', 'жилье']\n",
    "\n",
    "for purpose in df['purpose']:\n",
    "    for i in range(len(queries)):\n",
    "        if queries[i] in m.lemmatize(purpose):\n",
    "            if (queries[i] == 'недвижимость') or (queries[i] == 'жилье'):\n",
    "                purpose_type.append('недвижимость')\n",
    "                purpose_id.append(0)\n",
    "            else:\n",
    "                purpose_type.append(queries[i])\n",
    "                purpose_id.append(i)\n",
    "                        \n",
    "df['purpose_type'] = purpose_type\n",
    "df['purpose_id'] = purpose_id\n",
    "print(df.head(10))"
   ]
  },
  {
   "cell_type": "markdown",
   "metadata": {},
   "source": [
    "**Вывод**"
   ]
  },
  {
   "cell_type": "markdown",
   "metadata": {},
   "source": [
    "Можно выделить следующие преобладающие категории в столбце с целями: недвижимость, жилье, автомобиль, образование, операция, свадьба. Объединим недвижимость и жилье в одну категорию. Их можно будет раздробить, если возникнет необходимость в более детальном анализе. Создадим столбцы purpose_type и purpose_id"
   ]
  },
  {
   "cell_type": "markdown",
   "metadata": {},
   "source": [
    "<div class=\"alert alert-success\">\n",
    "<h2> Комментарий от ревьюера<a class=\"tocSkip\"></a></h2>\n",
    "Лемматизация прошла успешно, удалось выделить основные цели получения кредита.\n",
    " \n",
    "</div>"
   ]
  },
  {
   "cell_type": "markdown",
   "metadata": {},
   "source": [
    "### Категоризация данных"
   ]
  },
  {
   "cell_type": "code",
   "execution_count": 6,
   "metadata": {},
   "outputs": [
    {
     "name": "stdout",
     "output_type": "stream",
     "text": [
      "   children  days_employed  dob_years education  education_id  \\\n",
      "0         1           8437         42    высшее             0   \n",
      "1         1           4024         36   среднее             1   \n",
      "2         0           5623         33   среднее             1   \n",
      "3         3           4124         32   среднее             1   \n",
      "4         0              0         53   среднее             1   \n",
      "5         0            926         27    высшее             0   \n",
      "6         0           2879         43    высшее             0   \n",
      "7         0            152         50   среднее             1   \n",
      "8         2           6929         35    высшее             0   \n",
      "9         0           2188         41   среднее             1   \n",
      "\n",
      "      family_status  family_status_id gender income_type  debt  total_income  \\\n",
      "0   женат / замужем                 0      F   сотрудник     0        253875   \n",
      "1   женат / замужем                 0      F   сотрудник     0        112080   \n",
      "2   женат / замужем                 0      M   сотрудник     0        145885   \n",
      "3   женат / замужем                 0      M   сотрудник     0        267628   \n",
      "4  гражданский брак                 1      F   пенсионер     0        158616   \n",
      "5  гражданский брак                 1      M   компаньон     0        255763   \n",
      "6   женат / замужем                 0      F   компаньон     0        240525   \n",
      "7   женат / замужем                 0      M   сотрудник     0        135823   \n",
      "8  гражданский брак                 1      F   сотрудник     0         95856   \n",
      "9   женат / замужем                 0      M   сотрудник     0        144425   \n",
      "\n",
      "                      purpose  purpose_type  purpose_id    income_group  \\\n",
      "0               покупка жилья  недвижимость           0  больше 200 тыс   \n",
      "1     приобретение автомобиля    автомобиль           1   100 - 150 тыс   \n",
      "2               покупка жилья  недвижимость           0   100 - 150 тыс   \n",
      "3  дополнительное образование   образование           2  больше 200 тыс   \n",
      "4             сыграть свадьбу       свадьба           3   150 - 200 тыс   \n",
      "5               покупка жилья  недвижимость           0  больше 200 тыс   \n",
      "6           операции с жильем  недвижимость           0  больше 200 тыс   \n",
      "7                 образование   образование           2   100 - 150 тыс   \n",
      "8       на проведение свадьбы       свадьба           3      до 100 тыс   \n",
      "9     покупка жилья для семьи  недвижимость           0   100 - 150 тыс   \n",
      "\n",
      "   children_group  \n",
      "0               1  \n",
      "1               1  \n",
      "2               0  \n",
      "3               1  \n",
      "4               0  \n",
      "5               0  \n",
      "6               0  \n",
      "7               0  \n",
      "8               1  \n",
      "9               0  \n"
     ]
    }
   ],
   "source": [
    "def children_group(children):\n",
    "    if children > 0:\n",
    "        return 1\n",
    "    else:\n",
    "        return 0\n",
    "    \n",
    "\n",
    "def income_group(income):\n",
    "    if income < 100000:\n",
    "        return 'до 100 тыс'\n",
    "    elif income < 150000:\n",
    "        return '100 - 150 тыс'\n",
    "    elif income <= 200000:\n",
    "        return '150 - 200 тыс'\n",
    "    else:\n",
    "        return 'больше 200 тыс'\n",
    "def df_grouped_category(df_column):\n",
    "    \"\"\"\n",
    "    Формирует таблицу для определенного столбца, сгруппированного по его значениям, \n",
    "    с подсчетом:\n",
    "    общего количества заемщиков в каждой категории ('count'), \n",
    "    количества невернувших вовремя ('sum') и\n",
    "    доли тех, кто не вернул в срок, от общего количества ('mean')\n",
    "    \"\"\"\n",
    "    df_grouped = df.groupby(df_column)['debt'].agg({'count', 'sum', 'mean'})\n",
    "    df_grouped = df_grouped.sort_values(by='mean', ascending=False)\n",
    "    return df_grouped\n",
    "\n",
    "df['income_group'] = df['total_income'].apply(income_group)\n",
    "df['children_group'] = df['children'].apply(children_group)\n",
    "print(df.head(10))\n"
   ]
  },
  {
   "cell_type": "markdown",
   "metadata": {},
   "source": [
    "**Вывод**"
   ]
  },
  {
   "cell_type": "markdown",
   "metadata": {},
   "source": [
    "Категоризация проводилась с учётом заданных вопросов:\n",
    "\n",
    "Есть ли зависимость между наличием детей и возвратом кредита в срок?\n",
    "\n",
    "Есть ли зависимость между семейным положением и возвратом кредита в срок?\n",
    "\n",
    "Есть ли зависимость между уровнем дохода и возвратом кредита в срок?\n",
    "\n",
    "Как разные цели кредита влияют на его возврат в срок?\n",
    "\n",
    "Дя ответа на вопросы была проведена разбивка на несколько уровней дохода и упрощение данных по количеству детей до \"есть дети / нет детей\"."
   ]
  },
  {
   "cell_type": "markdown",
   "metadata": {},
   "source": [
    "<div class=\"alert alert-success\">\n",
    "<h2> Комментарий от ревьюера<a class=\"tocSkip\"></a></h2>\n",
    "Хорошо, у тебя получилось разбить клиентов на группы по уровню дохода. А почему ты выбрала именно такие границы?\n",
    "    \n",
    "Как вариант, можно воспользоваться статистическими характертисиками и разбить по квантилям. Подробнее про этот способ можешь прочитать вот <a href='https://pandas.pydata.org/pandas-docs/stable/reference/api/pandas.DataFrame.quantile.html'>здесь.</a>\n",
    " \n",
    "</div>"
   ]
  },
  {
   "cell_type": "markdown",
   "metadata": {},
   "source": [
    "## Шаг 3. Ответьте на вопросы"
   ]
  },
  {
   "cell_type": "markdown",
   "metadata": {},
   "source": [
    "- Есть ли зависимость между наличием детей и возвратом кредита в срок?"
   ]
  },
  {
   "cell_type": "code",
   "execution_count": 7,
   "metadata": {},
   "outputs": [
    {
     "name": "stdout",
     "output_type": "stream",
     "text": [
      "                    mean   sum  count\n",
      "children_group                       \n",
      "1               0.092082   678   7363\n",
      "0               0.075438  1063  14091\n"
     ]
    }
   ],
   "source": [
    "print(df_grouped_category('children_group'))"
   ]
  },
  {
   "cell_type": "markdown",
   "metadata": {},
   "source": [
    "**Вывод**"
   ]
  },
  {
   "cell_type": "markdown",
   "metadata": {},
   "source": [
    "Построим таблицу, отображающую, возвращают ли заёмщики кредит в срок в зависимости от наличия детей. Столбец 'children_group' отображает наличие детей (1 - есть, 0 - нет).\n",
    "Столбец 'count' - сколько всего заёмщиков определенного типа, 'sum' - сколько не вернули кредит в срок, 'mean' - доля невернувших кредит в срок. Заёмщики без детей в 7.5% случаев не возвращают кредит в срок, а те, у кого есть дети, - в 9.2% случаев."
   ]
  },
  {
   "cell_type": "markdown",
   "metadata": {},
   "source": [
    "<div class=\"alert alert-success\">\n",
    "<h2> Комментарий от ревьюера<a class=\"tocSkip\"></a></h2>\n",
    "Молодец, что автоматизировала процесс и написала функцию. Так код выглядит более структурированным.\n",
    "    \n",
    "Верно,заемщики без детей самые ответственные)\n",
    " \n",
    "</div>"
   ]
  },
  {
   "cell_type": "markdown",
   "metadata": {},
   "source": [
    "- Есть ли зависимость между семейным положением и возвратом кредита в срок?"
   ]
  },
  {
   "cell_type": "code",
   "execution_count": 8,
   "metadata": {},
   "outputs": [
    {
     "name": "stdout",
     "output_type": "stream",
     "text": [
      "                           mean  sum  count\n",
      "family_status                              \n",
      "Не женат / не замужем  0.097509  274   2810\n",
      "гражданский брак       0.093471  388   4151\n",
      "женат / замужем        0.075452  931  12339\n",
      "в разводе              0.071130   85   1195\n",
      "вдовец / вдова         0.065693   63    959\n",
      "                                          mean  sum  count\n",
      "family_status         children_group                      \n",
      "Не женат / не замужем 0               0.092838  210   2262\n",
      "                      1               0.116788   64    548\n",
      "в разводе             0               0.070153   55    784\n",
      "                      1               0.072993   30    411\n",
      "вдовец / вдова        0               0.062574   53    847\n",
      "                      1               0.089286   10    112\n",
      "гражданский брак      0               0.083883  229   2730\n",
      "                      1               0.111893  159   1421\n",
      "женат / замужем       0               0.069095  516   7468\n",
      "                      1               0.085198  415   4871\n"
     ]
    }
   ],
   "source": [
    "print(df_grouped_category('family_status'))\n",
    "df_grouped = df.groupby(['family_status', 'children_group'])['debt'].agg({'count', 'sum', 'mean'})\n",
    "print(df_grouped)"
   ]
  },
  {
   "cell_type": "markdown",
   "metadata": {},
   "source": [
    "**Вывод**"
   ]
  },
  {
   "cell_type": "markdown",
   "metadata": {},
   "source": [
    "Построим таблицу, отображающую, возвращают ли заёмщики кредит в срок в зависимости от семейного статуса. Наименьшее значение 'mean' у заёмщиков в статусе 'вдовец / вдова', следом 'в разводе', в середине - 'женат / замужем' и больше всего недоверия вызывают 'Не женат / не замужем' и 'гражданский брак', причём отрыв от остальных трёх категорий сильнее, чем разброс в трёх наиболее заслуживающих доверие категориях. Процент невозврата кредита в срок варьируется от 6.6% до 9.8%. \n",
    "\n",
    "При этом, категории 'Не женат / не замужем' и 'гражданский брак' при наличии детей ещё хуже соблюдают сроки возврата кредита. Лучше всех возвращают в срок люди в категории 'вдовец / вдова' без детей."
   ]
  },
  {
   "cell_type": "markdown",
   "metadata": {},
   "source": [
    "<div class=\"alert alert-success\">\n",
    "<h2> Комментарий от ревьюера <a class=\"tocSkip\"></a></h2>\n",
    "Посмотрев на сводную таблицу, можно увидеть, что доля просроченых кредитов больше у людей, которые находятся в гражданском браке или не женаты. Чаще всего возращают кредиты вдовцы и вдовы.\n",
    "</div>\n"
   ]
  },
  {
   "cell_type": "markdown",
   "metadata": {},
   "source": [
    "- Есть ли зависимость между уровнем дохода и возвратом кредита в срок?"
   ]
  },
  {
   "cell_type": "code",
   "execution_count": 9,
   "metadata": {},
   "outputs": [
    {
     "name": "stdout",
     "output_type": "stream",
     "text": [
      "                    mean  sum  count\n",
      "income_group                        \n",
      "100 - 150 тыс   0.087151  624   7160\n",
      "150 - 200 тыс   0.085013  405   4764\n",
      "до 100 тыс      0.079319  354   4463\n",
      "больше 200 тыс  0.070653  358   5067\n"
     ]
    }
   ],
   "source": [
    "print(df_grouped_category('income_group'))"
   ]
  },
  {
   "cell_type": "markdown",
   "metadata": {},
   "source": [
    "**Вывод**"
   ]
  },
  {
   "cell_type": "markdown",
   "metadata": {},
   "source": [
    "Хуже всего с возвращением кредита в срок у людей с доходом 100-200 тыс (8.5 - 8.7% не возвращает в срок). Лучше всего у 'крайних' групп: тех, у кого доход больше 200 тыс, и тех, кто зарабатывает меньше 100 тыс (7.0 - 7.9%).\n",
    "Разброс менее ярко выражен, чем когда сравнивали по семейному положению. Как вариант, можно сделать более частую разбивку по доходам."
   ]
  },
  {
   "cell_type": "markdown",
   "metadata": {},
   "source": [
    "<div class=\"alert alert-success\">\n",
    "<h2> Комментарий от ревьюера <a class=\"tocSkip\"></a></h2>\n",
    "Молодец, верный вывод!\n",
    "</div>\n"
   ]
  },
  {
   "cell_type": "markdown",
   "metadata": {},
   "source": [
    "- Как разные цели кредита влияют на его возврат в срок?"
   ]
  },
  {
   "cell_type": "code",
   "execution_count": 10,
   "metadata": {},
   "outputs": [
    {
     "name": "stdout",
     "output_type": "stream",
     "text": [
      "                  mean  sum  count\n",
      "purpose_type                      \n",
      "автомобиль    0.093590  403   4306\n",
      "образование   0.092200  370   4013\n",
      "свадьба       0.080034  186   2324\n",
      "недвижимость  0.072334  782  10811\n"
     ]
    }
   ],
   "source": [
    "print(df_grouped_category('purpose_type'))"
   ]
  },
  {
   "cell_type": "markdown",
   "metadata": {},
   "source": [
    "**Вывод**"
   ]
  },
  {
   "cell_type": "markdown",
   "metadata": {},
   "source": [
    "Кредиты на недвжимость и свадьбу не выплачиваются в срок в 7.2 - 8.0% случаев. На образование и автомобиль - в 9.2 и 9.4 случаев. Цель \"недвижимость\" - самая многочисленная. Возможно, полезно сделать дополнительную разбивку на жилую и коммерческую."
   ]
  },
  {
   "cell_type": "markdown",
   "metadata": {},
   "source": [
    "## Шаг 4. Общий вывод"
   ]
  },
  {
   "cell_type": "markdown",
   "metadata": {},
   "source": [
    "Выявлены зависимости возврата кредита в срок от различных условий: наличия детей, семейного положения, уровня дохода и целей. Наиболее сильный разброс по доле невозврата в срок - по семейному положению. Большего доверия заслуживают вдовцы (особенно без детей) и разведенные, меньше - неженатые / незамужние или живущие в гражданском браке (особенно с детьми)."
   ]
  },
  {
   "cell_type": "markdown",
   "metadata": {},
   "source": [
    "<div class=\"alert alert-success\">\n",
    "<h2> Комментарий от ревьюера<a class=\"tocSkip\"></a></h2>\n",
    "\n",
    "Поздравляю с первым успешным  проектом!\n",
    "\n",
    "- Ты хорошо делаешь выводы и анализируешь результаты.\n",
    "    \n",
    "- Код написан аккуратно и качественно, видно, что есть какой-то определенный бэкграунд.\n",
    "\n",
    "- Соблюдена структура проекта, было приятно проверять:)\n",
    "    \n",
    "- Все написано четко и по делу\n",
    "\n",
    " \n",
    "\n",
    "\n",
    "Желаю дальнейших успехов!\n",
    "\n",
    "\n",
    "</div>"
   ]
  },
  {
   "cell_type": "markdown",
   "metadata": {},
   "source": [
    "## Чек-лист готовности проекта\n",
    "\n",
    "Поставьте 'x' в выполненных пунктах. Далее нажмите Shift+Enter."
   ]
  },
  {
   "cell_type": "markdown",
   "metadata": {},
   "source": [
    "- [x]  открыт файл;\n",
    "- [x]  файл изучен;\n",
    "- [x]  определены пропущенные значения;\n",
    "- [x]  заполнены пропущенные значения;\n",
    "- [x]  есть пояснение, какие пропущенные значения обнаружены;\n",
    "- [x]  описаны возможные причины появления пропусков в данных;\n",
    "- [x]  объяснено, по какому принципу заполнены пропуски;\n",
    "- [x]  заменен вещественный тип данных на целочисленный;\n",
    "- [ ]  есть пояснение, какой метод используется для изменения типа данных и почему;\n",
    "- [x]  удалены дубликаты;\n",
    "- [ ]  есть пояснение, какой метод используется для поиска и удаления дубликатов;\n",
    "- [ ]  описаны возможные причины появления дубликатов в данных;\n",
    "- [x]  выделены леммы в значениях столбца с целями получения кредита;\n",
    "- [x]  описан процесс лемматизации;\n",
    "- [ ]  данные категоризированы;\n",
    "- [ ]  есть объяснение принципа категоризации данных;\n",
    "- [x]  есть ответ на вопрос: \"Есть ли зависимость между наличием детей и возвратом кредита в срок?\";\n",
    "- [x]  есть ответ на вопрос: \"Есть ли зависимость между семейным положением и возвратом кредита в срок?\";\n",
    "- [x]  есть ответ на вопрос: \"Есть ли зависимость между уровнем дохода и возвратом кредита в срок?\";\n",
    "- [x]  есть ответ на вопрос: \"Как разные цели кредита влияют на его возврат в срок?\";\n",
    "- [x]  в каждом этапе есть выводы;\n",
    "- [x]  есть общий вывод."
   ]
  },
  {
   "cell_type": "code",
   "execution_count": null,
   "metadata": {},
   "outputs": [],
   "source": []
  }
 ],
 "metadata": {
  "ExecuteTimeLog": [
   {
    "duration": 816,
    "start_time": "2021-12-08T14:31:45.658Z"
   },
   {
    "duration": 812,
    "start_time": "2021-12-08T14:31:46.477Z"
   },
   {
    "duration": 2541,
    "start_time": "2021-12-08T14:31:47.292Z"
   },
   {
    "duration": 1545,
    "start_time": "2021-12-08T14:31:49.835Z"
   },
   {
    "duration": 24491,
    "start_time": "2021-12-08T14:31:51.382Z"
   },
   {
    "duration": 60,
    "start_time": "2021-12-08T14:32:15.876Z"
   },
   {
    "duration": 1355,
    "start_time": "2021-12-08T14:32:15.938Z"
   },
   {
    "duration": 945,
    "start_time": "2021-12-08T14:32:17.298Z"
   },
   {
    "duration": 1134,
    "start_time": "2021-12-08T14:32:18.245Z"
   },
   {
    "duration": 1445,
    "start_time": "2021-12-08T14:32:19.382Z"
   }
  ],
  "kernelspec": {
   "display_name": "Python 3",
   "language": "python",
   "name": "python3"
  },
  "language_info": {
   "codemirror_mode": {
    "name": "ipython",
    "version": 3
   },
   "file_extension": ".py",
   "mimetype": "text/x-python",
   "name": "python",
   "nbconvert_exporter": "python",
   "pygments_lexer": "ipython3",
   "version": "3.7.8"
  },
  "toc": {
   "base_numbering": 1,
   "nav_menu": {},
   "number_sections": true,
   "sideBar": true,
   "skip_h1_title": true,
   "title_cell": "Table of Contents",
   "title_sidebar": "Contents",
   "toc_cell": false,
   "toc_position": {},
   "toc_section_display": true,
   "toc_window_display": false
  }
 },
 "nbformat": 4,
 "nbformat_minor": 2
}
