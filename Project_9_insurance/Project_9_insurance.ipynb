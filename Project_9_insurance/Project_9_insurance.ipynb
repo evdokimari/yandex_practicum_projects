{
 "cells": [
  {
   "cell_type": "markdown",
   "metadata": {
    "toc": true
   },
   "source": [
    "<h1>Содержание<span class=\"tocSkip\"></span></h1>\n",
    "<div class=\"toc\"><ul class=\"toc-item\"><li><span><a href=\"#Загрузка-данных\" data-toc-modified-id=\"Загрузка-данных-1\"><span class=\"toc-item-num\">1&nbsp;&nbsp;</span>Загрузка данных</a></span></li><li><span><a href=\"#Умножение-матриц\" data-toc-modified-id=\"Умножение-матриц-2\"><span class=\"toc-item-num\">2&nbsp;&nbsp;</span>Умножение матриц</a></span></li><li><span><a href=\"#Алгоритм-преобразования\" data-toc-modified-id=\"Алгоритм-преобразования-3\"><span class=\"toc-item-num\">3&nbsp;&nbsp;</span>Алгоритм преобразования</a></span></li><li><span><a href=\"#Проверка-алгоритма\" data-toc-modified-id=\"Проверка-алгоритма-4\"><span class=\"toc-item-num\">4&nbsp;&nbsp;</span>Проверка алгоритма</a></span><ul class=\"toc-item\"><li><span><a href=\"#Создание-шифрующей-матрицы\" data-toc-modified-id=\"Создание-шифрующей-матрицы-4.1\"><span class=\"toc-item-num\">4.1&nbsp;&nbsp;</span>Создание шифрующей матрицы</a></span></li><li><span><a href=\"#Обучение-и-тестирование-модели-на-исходном-датасете\" data-toc-modified-id=\"Обучение-и-тестирование-модели-на-исходном-датасете-4.2\"><span class=\"toc-item-num\">4.2&nbsp;&nbsp;</span>Обучение и тестирование модели на исходном датасете</a></span></li><li><span><a href=\"#Обучение-и-тестирование-модели-на-зашифрованном-датасете\" data-toc-modified-id=\"Обучение-и-тестирование-модели-на-зашифрованном-датасете-4.3\"><span class=\"toc-item-num\">4.3&nbsp;&nbsp;</span>Обучение и тестирование модели на зашифрованном датасете</a></span></li></ul></li><li><span><a href=\"#Вывод\" data-toc-modified-id=\"Вывод-5\"><span class=\"toc-item-num\">5&nbsp;&nbsp;</span>Вывод</a></span></li></ul></div>"
   ]
  },
  {
   "cell_type": "markdown",
   "metadata": {},
   "source": [
    "# Защита персональных данных клиентов"
   ]
  },
  {
   "cell_type": "markdown",
   "metadata": {},
   "source": [
    "Вам нужно защитить данные клиентов страховой компании «Хоть потоп». Разработайте такой метод преобразования данных, чтобы по ним было сложно восстановить персональную информацию. Обоснуйте корректность его работы.\n",
    "\n",
    "Нужно защитить данные, чтобы при преобразовании качество моделей машинного обучения не ухудшилось. Подбирать наилучшую модель не требуется."
   ]
  },
  {
   "cell_type": "markdown",
   "metadata": {},
   "source": [
    "## Загрузка данных"
   ]
  },
  {
   "cell_type": "markdown",
   "metadata": {},
   "source": [
    "Импортируем нужные библиотеки, прочитаем файлы и посмотрим на их значения, размеры и типы данных."
   ]
  },
  {
   "cell_type": "code",
   "execution_count": 1,
   "metadata": {},
   "outputs": [],
   "source": [
    "import pandas as pd\n",
    "import numpy as np\n",
    "\n",
    "from sklearn.model_selection import train_test_split\n",
    "from sklearn.preprocessing import StandardScaler\n",
    "from sklearn.linear_model import LinearRegression\n",
    "from sklearn.metrics import r2_score\n",
    "\n",
    "\n",
    "from IPython.display import display\n",
    "pd.set_option('display.float_format', '{:.2f}'.format)\n",
    "import warnings\n",
    "warnings.filterwarnings('ignore')\n",
    "import matplotlib.pyplot as plt"
   ]
  },
  {
   "cell_type": "code",
   "execution_count": 2,
   "metadata": {},
   "outputs": [],
   "source": [
    "df = pd.read_csv('https://code.s3.yandex.net/datasets/insurance.csv')"
   ]
  },
  {
   "cell_type": "code",
   "execution_count": 3,
   "metadata": {},
   "outputs": [
    {
     "name": "stdout",
     "output_type": "stream",
     "text": [
      "<class 'pandas.core.frame.DataFrame'>\n",
      "RangeIndex: 5000 entries, 0 to 4999\n",
      "Data columns (total 5 columns):\n",
      "Пол                  5000 non-null int64\n",
      "Возраст              5000 non-null float64\n",
      "Зарплата             5000 non-null float64\n",
      "Члены семьи          5000 non-null int64\n",
      "Страховые выплаты    5000 non-null int64\n",
      "dtypes: float64(2), int64(3)\n",
      "memory usage: 195.4 KB\n"
     ]
    },
    {
     "data": {
      "text/html": [
       "<div>\n",
       "<style scoped>\n",
       "    .dataframe tbody tr th:only-of-type {\n",
       "        vertical-align: middle;\n",
       "    }\n",
       "\n",
       "    .dataframe tbody tr th {\n",
       "        vertical-align: top;\n",
       "    }\n",
       "\n",
       "    .dataframe thead th {\n",
       "        text-align: right;\n",
       "    }\n",
       "</style>\n",
       "<table border=\"1\" class=\"dataframe\">\n",
       "  <thead>\n",
       "    <tr style=\"text-align: right;\">\n",
       "      <th></th>\n",
       "      <th>Пол</th>\n",
       "      <th>Возраст</th>\n",
       "      <th>Зарплата</th>\n",
       "      <th>Члены семьи</th>\n",
       "      <th>Страховые выплаты</th>\n",
       "    </tr>\n",
       "  </thead>\n",
       "  <tbody>\n",
       "    <tr>\n",
       "      <td>0</td>\n",
       "      <td>1</td>\n",
       "      <td>41.00</td>\n",
       "      <td>49600.00</td>\n",
       "      <td>1</td>\n",
       "      <td>0</td>\n",
       "    </tr>\n",
       "    <tr>\n",
       "      <td>1</td>\n",
       "      <td>0</td>\n",
       "      <td>46.00</td>\n",
       "      <td>38000.00</td>\n",
       "      <td>1</td>\n",
       "      <td>1</td>\n",
       "    </tr>\n",
       "    <tr>\n",
       "      <td>2</td>\n",
       "      <td>0</td>\n",
       "      <td>29.00</td>\n",
       "      <td>21000.00</td>\n",
       "      <td>0</td>\n",
       "      <td>0</td>\n",
       "    </tr>\n",
       "    <tr>\n",
       "      <td>3</td>\n",
       "      <td>0</td>\n",
       "      <td>21.00</td>\n",
       "      <td>41700.00</td>\n",
       "      <td>2</td>\n",
       "      <td>0</td>\n",
       "    </tr>\n",
       "    <tr>\n",
       "      <td>4</td>\n",
       "      <td>1</td>\n",
       "      <td>28.00</td>\n",
       "      <td>26100.00</td>\n",
       "      <td>0</td>\n",
       "      <td>0</td>\n",
       "    </tr>\n",
       "  </tbody>\n",
       "</table>\n",
       "</div>"
      ],
      "text/plain": [
       "   Пол  Возраст  Зарплата  Члены семьи  Страховые выплаты\n",
       "0    1    41.00  49600.00            1                  0\n",
       "1    0    46.00  38000.00            1                  1\n",
       "2    0    29.00  21000.00            0                  0\n",
       "3    0    21.00  41700.00            2                  0\n",
       "4    1    28.00  26100.00            0                  0"
      ]
     },
     "metadata": {},
     "output_type": "display_data"
    }
   ],
   "source": [
    "df.info()\n",
    "display(df.head(5))"
   ]
  },
  {
   "cell_type": "markdown",
   "metadata": {},
   "source": [
    "Переведём возраст и зарплату в int."
   ]
  },
  {
   "cell_type": "code",
   "execution_count": 4,
   "metadata": {},
   "outputs": [
    {
     "data": {
      "text/html": [
       "<div>\n",
       "<style scoped>\n",
       "    .dataframe tbody tr th:only-of-type {\n",
       "        vertical-align: middle;\n",
       "    }\n",
       "\n",
       "    .dataframe tbody tr th {\n",
       "        vertical-align: top;\n",
       "    }\n",
       "\n",
       "    .dataframe thead th {\n",
       "        text-align: right;\n",
       "    }\n",
       "</style>\n",
       "<table border=\"1\" class=\"dataframe\">\n",
       "  <thead>\n",
       "    <tr style=\"text-align: right;\">\n",
       "      <th></th>\n",
       "      <th>Пол</th>\n",
       "      <th>Возраст</th>\n",
       "      <th>Зарплата</th>\n",
       "      <th>Члены семьи</th>\n",
       "      <th>Страховые выплаты</th>\n",
       "    </tr>\n",
       "  </thead>\n",
       "  <tbody>\n",
       "    <tr>\n",
       "      <td>0</td>\n",
       "      <td>1</td>\n",
       "      <td>41</td>\n",
       "      <td>49600</td>\n",
       "      <td>1</td>\n",
       "      <td>0</td>\n",
       "    </tr>\n",
       "    <tr>\n",
       "      <td>1</td>\n",
       "      <td>0</td>\n",
       "      <td>46</td>\n",
       "      <td>38000</td>\n",
       "      <td>1</td>\n",
       "      <td>1</td>\n",
       "    </tr>\n",
       "    <tr>\n",
       "      <td>2</td>\n",
       "      <td>0</td>\n",
       "      <td>29</td>\n",
       "      <td>21000</td>\n",
       "      <td>0</td>\n",
       "      <td>0</td>\n",
       "    </tr>\n",
       "    <tr>\n",
       "      <td>3</td>\n",
       "      <td>0</td>\n",
       "      <td>21</td>\n",
       "      <td>41700</td>\n",
       "      <td>2</td>\n",
       "      <td>0</td>\n",
       "    </tr>\n",
       "    <tr>\n",
       "      <td>4</td>\n",
       "      <td>1</td>\n",
       "      <td>28</td>\n",
       "      <td>26100</td>\n",
       "      <td>0</td>\n",
       "      <td>0</td>\n",
       "    </tr>\n",
       "  </tbody>\n",
       "</table>\n",
       "</div>"
      ],
      "text/plain": [
       "   Пол  Возраст  Зарплата  Члены семьи  Страховые выплаты\n",
       "0    1       41     49600            1                  0\n",
       "1    0       46     38000            1                  1\n",
       "2    0       29     21000            0                  0\n",
       "3    0       21     41700            2                  0\n",
       "4    1       28     26100            0                  0"
      ]
     },
     "metadata": {},
     "output_type": "display_data"
    }
   ],
   "source": [
    "df['Возраст'] = df['Возраст'].astype(int)\n",
    "df['Зарплата'] = df['Зарплата'].astype(int)\n",
    "display(df.head(5))"
   ]
  },
  {
   "cell_type": "markdown",
   "metadata": {},
   "source": [
    "Посмотрим на распределение параметров:"
   ]
  },
  {
   "cell_type": "code",
   "execution_count": 5,
   "metadata": {},
   "outputs": [
    {
     "data": {
      "image/png": "[encoded data removed]",
      "text/plain": [
       "<Figure size 1440x360 with 4 Axes>"
      ]
     },
     "metadata": {
      "needs_background": "light"
     },
     "output_type": "display_data"
    }
   ],
   "source": [
    "parameters = ['Пол', 'Возраст', 'Зарплата', 'Члены семьи']\n",
    "fig, axes = plt.subplots(1, len(parameters), figsize=(20,5))\n",
    "for i in range(len(parameters)):\n",
    "    df[parameters[i]].hist(bins=20, density=True,figure=fig, ax=axes[i]).set_title(parameters[i])\n",
    "    axes[i].set_xlabel('Значение параметра \"' + parameters[i] + '\"')\n",
    "    axes[0].set_ylabel('Частота')"
   ]
  },
  {
   "cell_type": "markdown",
   "metadata": {},
   "source": [
    "В данных нет перекоса в сторону одного из полов, гистораммы возраста и зарплаты выглядят хорошо. Возраст обрезан слева (нет левого \"хвоста\") - но это естественно. Количество детей также не вызывает подозрений: выбросы хоть и есть, но не \"удивляющие\". Не думаю, что стоит их удалять."
   ]
  },
  {
   "cell_type": "markdown",
   "metadata": {},
   "source": [
    "## Умножение матриц"
   ]
  },
  {
   "cell_type": "markdown",
   "metadata": {},
   "source": [
    "Обозначения:\n",
    "\n",
    "- $X$ — матрица признаков (нулевой столбец состоит из единиц)\n",
    "\n",
    "- $y$ — вектор целевого признака\n",
    "\n",
    "- $P$ — матрица, на которую умножаются признаки\n",
    "\n",
    "- $w$ — вектор весов линейной регрессии (нулевой элемент равен сдвигу)"
   ]
  },
  {
   "cell_type": "markdown",
   "metadata": {},
   "source": [
    "Предсказания:\n",
    "\n",
    "\n",
    "\\begin{equation}\n",
    "a = Xw\n",
    "\\label{predictions} \\tag{1}\n",
    "\\end{equation}\n",
    "\n",
    "\n",
    "Задача обучения:\n",
    "\n",
    "\\begin{equation}\n",
    "w = \\arg\\min_w MSE(Xw, y)\n",
    "\\label{learning_tast} \\tag{2}\n",
    "\\end{equation}\n",
    "\n",
    "Формула обучения:\n",
    "\n",
    "\\begin{equation}\n",
    "w = (X^T X)^{-1} X^T y\n",
    "\\label{weights} \\tag{3}\n",
    "\\end{equation}\n",
    "\n",
    "\n",
    "\n",
    "**Вопрос:** Признаки умножают на обратимую матрицу. Изменится ли качество линейной регрессии? (Её можно обучить заново.)\n",
    "\n",
    "**Ответ:** Не изменится.\n",
    "\n",
    "**Обоснование:** Пусть $Z=XA$, где $A -$ обратимая матрица. Тогда $X = ZA^{-1}$. Подставим в формулу предсказаний $\\eqref{predictions}$ веса $\\eqref{weights}$, выраженные через $Z$. Получим:\n",
    "\n",
    "$a = X \\left( X^T X \\right)^{-1} X^T y = ZA^{-1} \\left[ \\left( Z A^{-1} \\right)^T Z A^{-1} \\right]^{-1} \\left( Z A^{-1} \\right) ^T y.$\n",
    "\n",
    "Воспользуемся свойством $\\left(AB\\right)^T = B^TA^T$:\n",
    "\n",
    "$a = ZA^{-1}\\left[\\left(A^{-1}\\right)^TZ^TZA^{-1}\\right]^{-1} \\left(A^{-1}\\right)^TZ^Ty.$\n",
    "\n",
    "Так как $\\left(A^{-1}\\right)^T = \\left(A^{T}\\right)^{-1}$, $\\left(AB\\right)^{-1} = B^{-1}A^{-1}$ и $A -$ обратимая, получим:\n",
    "\n",
    "$a = ZA^{-1}\\left[\\left(A^{-1}\\right)^TZ^TZA^{-1}\\right]^{-1} \\left(A^{-1}\\right)^TZ^Ty,$\n",
    "\n",
    "$a = ZA^{-1}A\\left(Z^TZ\\right)^{-1}A^T\\left(A^{-1}\\right)^TZ^T$\n",
    "\n",
    "$a = Z\\left(Z^TZ\\right)^{-1}Z^Ty = Zw_{new}.$\n",
    "\n",
    "$w_{new} = \\left(Z^TZ\\right)^{-1}Z^Ty$\n",
    "\n",
    "\n",
    "Модель, обученная на новых признаках $Z$, даёт те же самые предсказания $a$, что и модель, обученная на старых признаках. Новый вектор весов можно получить из старого, домножив в формуле $\\eqref{weights}$ $X$ на матрицу $A^{-1}$"
   ]
  },
  {
   "cell_type": "markdown",
   "metadata": {},
   "source": [
    "## Алгоритм преобразования"
   ]
  },
  {
   "cell_type": "markdown",
   "metadata": {},
   "source": [
    "**Алгоритм**\n",
    "\n",
    "1. Создать рандомную матрицу соответствующего принзакам размера (в данном случае $4\\times4$).\n",
    "\n",
    "2. Проверить её на обратимость.\n",
    "\n",
    "3. Повторить предыдущие действия, пока проверка не даст положительный результат.\n",
    "\n",
    "4. Домножить признаки на полученную матрицу."
   ]
  },
  {
   "cell_type": "markdown",
   "metadata": {},
   "source": [
    "**Обоснование**\n",
    "\n",
    "Обоснование показано в \"Умножении матриц\". Модель, обученная методом линейной регрессии на новых признаках $Z$, даёт те же самые предсказания $a$, что и модель, обученная на старых признаках, при условии, что новые признаки получены домножением старых на обратимую матрицу. При этом достигнется шифровка признаков."
   ]
  },
  {
   "cell_type": "markdown",
   "metadata": {},
   "source": [
    "## Проверка алгоритма"
   ]
  },
  {
   "cell_type": "markdown",
   "metadata": {},
   "source": [
    "Разделим датасет на целевой признак и фичи."
   ]
  },
  {
   "cell_type": "code",
   "execution_count": 6,
   "metadata": {},
   "outputs": [],
   "source": [
    "target = df['Страховые выплаты']\n",
    "features = df.drop('Страховые выплаты', axis=1)"
   ]
  },
  {
   "cell_type": "markdown",
   "metadata": {},
   "source": [
    "### Создание шифрующей матрицы"
   ]
  },
  {
   "cell_type": "markdown",
   "metadata": {},
   "source": [
    "Создать рандомную обратимую матрицу соответствующего принзакам размера (в данном случае $4\\times4$)."
   ]
  },
  {
   "cell_type": "code",
   "execution_count": 7,
   "metadata": {},
   "outputs": [],
   "source": [
    "determinant_crypto_matrix = 0\n",
    "\n",
    "while determinant_crypto_matrix == 0:\n",
    "    crypto_matrix = np.random.sample((features.shape[1], features.shape[1]))\n",
    "    determinant_crypto_matrix = np.linalg.det(crypto_matrix)"
   ]
  },
  {
   "cell_type": "code",
   "execution_count": 8,
   "metadata": {},
   "outputs": [
    {
     "name": "stdout",
     "output_type": "stream",
     "text": [
      "Проверка шифрующей матрицы на обратимость\n",
      "\n",
      "[[ 1.00000000e+00 -3.07310007e-16 -9.24907721e-17 -5.68669477e-17]\n",
      " [-3.45295192e-16  1.00000000e+00  1.56622463e-16 -1.56574017e-16]\n",
      " [-1.26246982e-16 -6.93984357e-17  1.00000000e+00 -5.93453788e-17]\n",
      " [ 1.16653014e-16 -4.68111970e-17 -1.22498510e-16  1.00000000e+00]]\n"
     ]
    }
   ],
   "source": [
    "print('Проверка шифрующей матрицы на обратимость')\n",
    "print()\n",
    "print(crypto_matrix @ np.linalg.inv(crypto_matrix))"
   ]
  },
  {
   "cell_type": "markdown",
   "metadata": {},
   "source": [
    "С точностью до 16го знака после запятой при умножении шифрующей матрицы на обратную ей получили единичную матрицу. Считаем, что шифрующая матрица - обратима."
   ]
  },
  {
   "cell_type": "markdown",
   "metadata": {},
   "source": [
    "### Обучение и тестирование модели на исходном датасете"
   ]
  },
  {
   "cell_type": "markdown",
   "metadata": {},
   "source": [
    "Разобьем выборку на обучающую и тестовую."
   ]
  },
  {
   "cell_type": "code",
   "execution_count": 9,
   "metadata": {},
   "outputs": [
    {
     "name": "stdout",
     "output_type": "stream",
     "text": [
      "Размер обучающих фич: (4000, 4)\n",
      "Размер тестовых фич: (1000, 4)\n"
     ]
    }
   ],
   "source": [
    "features_train, features_test, target_train, target_test = train_test_split(features, target, test_size=0.2, random_state=123)\n",
    "print('Размер обучающих фич:', features_train.shape)\n",
    "print('Размер тестовых фич:', features_test.shape)"
   ]
  },
  {
   "cell_type": "markdown",
   "metadata": {},
   "source": [
    "Масштабируем признаки."
   ]
  },
  {
   "cell_type": "code",
   "execution_count": 10,
   "metadata": {},
   "outputs": [
    {
     "data": {
      "text/plain": [
       "array([[-0.99700449,  1.78769966, -0.10038057, -0.18493026],\n",
       "       [ 1.00300451,  2.02443796, -2.62745281,  0.72493571],\n",
       "       [ 1.00300451,  0.60400817, -0.63398546, -0.18493026],\n",
       "       ...,\n",
       "       [-0.99700449, -0.57968331, -0.45276116, -0.18493026],\n",
       "       [-0.99700449, -0.10620672, -1.51997095, -0.18493026],\n",
       "       [ 1.00300451,  0.13053158, -1.20786243, -0.18493026]])"
      ]
     },
     "metadata": {},
     "output_type": "display_data"
    }
   ],
   "source": [
    "scaler = StandardScaler()\n",
    "scaler.fit(features_train)\n",
    "\n",
    "features_train = scaler.transform(features_train)\n",
    "features_test = scaler.transform(features_test)\n",
    "\n",
    "display(features_train)"
   ]
  },
  {
   "cell_type": "markdown",
   "metadata": {},
   "source": [
    "Построим модель."
   ]
  },
  {
   "cell_type": "code",
   "execution_count": 11,
   "metadata": {},
   "outputs": [],
   "source": [
    "def train_model_get_predictions(features_train, features_test, target_train, target_test):\n",
    "    \"\"\"\n",
    "    Строит модель, выводит R2-метрику\n",
    "    \"\"\"\n",
    "    model = LinearRegression()\n",
    "    model.fit(features_train, target_train) \n",
    "    predictions_test = model.predict(features_test)\n",
    "    r2 = r2_score(target_test, predictions_test)\n",
    "    print(\"R2 модели на тестовой выборке:\", r2)\n",
    "    return r2"
   ]
  },
  {
   "cell_type": "code",
   "execution_count": 12,
   "metadata": {},
   "outputs": [
    {
     "name": "stdout",
     "output_type": "stream",
     "text": [
      "R2 модели на тестовой выборке: 0.4326945642340617\n"
     ]
    }
   ],
   "source": [
    "r2_before_transform = train_model_get_predictions(features_train, features_test, target_train, target_test)"
   ]
  },
  {
   "cell_type": "markdown",
   "metadata": {},
   "source": [
    "### Обучение и тестирование модели на зашифрованном датасете"
   ]
  },
  {
   "cell_type": "markdown",
   "metadata": {},
   "source": [
    "Трансформируем матрицу признаков и посмотрим, насколько понятны данные после трансформации."
   ]
  },
  {
   "cell_type": "code",
   "execution_count": 13,
   "metadata": {},
   "outputs": [
    {
     "data": {
      "text/html": [
       "<div>\n",
       "<style scoped>\n",
       "    .dataframe tbody tr th:only-of-type {\n",
       "        vertical-align: middle;\n",
       "    }\n",
       "\n",
       "    .dataframe tbody tr th {\n",
       "        vertical-align: top;\n",
       "    }\n",
       "\n",
       "    .dataframe thead th {\n",
       "        text-align: right;\n",
       "    }\n",
       "</style>\n",
       "<table border=\"1\" class=\"dataframe\">\n",
       "  <thead>\n",
       "    <tr style=\"text-align: right;\">\n",
       "      <th></th>\n",
       "      <th>0</th>\n",
       "      <th>1</th>\n",
       "      <th>2</th>\n",
       "      <th>3</th>\n",
       "    </tr>\n",
       "  </thead>\n",
       "  <tbody>\n",
       "    <tr>\n",
       "      <td>0</td>\n",
       "      <td>30780.75</td>\n",
       "      <td>23064.49</td>\n",
       "      <td>4750.39</td>\n",
       "      <td>17594.15</td>\n",
       "    </tr>\n",
       "    <tr>\n",
       "      <td>1</td>\n",
       "      <td>23595.21</td>\n",
       "      <td>17675.16</td>\n",
       "      <td>3645.53</td>\n",
       "      <td>13482.30</td>\n",
       "    </tr>\n",
       "    <tr>\n",
       "      <td>2</td>\n",
       "      <td>13042.59</td>\n",
       "      <td>9769.02</td>\n",
       "      <td>2015.70</td>\n",
       "      <td>7451.06</td>\n",
       "    </tr>\n",
       "    <tr>\n",
       "      <td>3</td>\n",
       "      <td>25865.12</td>\n",
       "      <td>19385.53</td>\n",
       "      <td>3989.02</td>\n",
       "      <td>14790.04</td>\n",
       "    </tr>\n",
       "    <tr>\n",
       "      <td>4</td>\n",
       "      <td>16203.44</td>\n",
       "      <td>12139.39</td>\n",
       "      <td>2502.00</td>\n",
       "      <td>9259.10</td>\n",
       "    </tr>\n",
       "  </tbody>\n",
       "</table>\n",
       "</div>"
      ],
      "text/plain": [
       "         0        1       2        3\n",
       "0 30780.75 23064.49 4750.39 17594.15\n",
       "1 23595.21 17675.16 3645.53 13482.30\n",
       "2 13042.59  9769.02 2015.70  7451.06\n",
       "3 25865.12 19385.53 3989.02 14790.04\n",
       "4 16203.44 12139.39 2502.00  9259.10"
      ]
     },
     "metadata": {},
     "output_type": "display_data"
    }
   ],
   "source": [
    "features_transformed = features @ crypto_matrix\n",
    "display(features_transformed.head())"
   ]
  },
  {
   "cell_type": "markdown",
   "metadata": {},
   "source": [
    "Отлично. Непонятны. Разобьём выборку на обучающую и тестовую, масштабируем признаки, обучим модель и посчитаем R2-метрику."
   ]
  },
  {
   "cell_type": "code",
   "execution_count": 14,
   "metadata": {},
   "outputs": [
    {
     "name": "stdout",
     "output_type": "stream",
     "text": [
      "R2 модели на тестовой выборке: 0.4326945642340537\n"
     ]
    }
   ],
   "source": [
    "features_train, features_test, target_train, target_test = train_test_split(\n",
    "    features_transformed, target, test_size=0.2, random_state=123)\n",
    "\n",
    "scaler = StandardScaler()\n",
    "scaler.fit(features_train)\n",
    "\n",
    "features_train = scaler.transform(features_train)\n",
    "features_test = scaler.transform(features_test)\n",
    "\n",
    "r2_after_transform = train_model_get_predictions(features_train, features_test, target_train, target_test)"
   ]
  },
  {
   "cell_type": "code",
   "execution_count": 15,
   "metadata": {},
   "outputs": [
    {
     "name": "stdout",
     "output_type": "stream",
     "text": [
      "Разница метрик: 7.993605777301127e-15\n"
     ]
    }
   ],
   "source": [
    "print('Разница метрик:', np.abs(r2_after_transform - r2_before_transform))"
   ]
  },
  {
   "cell_type": "markdown",
   "metadata": {},
   "source": [
    "После шифрования метрика изменилась в 15 знаке после запятой. Считаем это пренебрежимо малым значением."
   ]
  },
  {
   "cell_type": "markdown",
   "metadata": {},
   "source": [
    "## Вывод"
   ]
  },
  {
   "cell_type": "markdown",
   "metadata": {},
   "source": [
    "Нужно было защитить данные клиентов. Для этого был разработан такой метод преобразования данных, чтобы по ним было сложно восстановить персональную информацию. \n",
    "\n",
    "В работе представлено математическое обоснование, что модель, обученная на преобразованных признаках, даёт те же самые предсказания, что и модель, обученная на исходных признаках.\n",
    "\n",
    "Проверено, что метод не изменяет качество работы модели линейной регрессии, а данные при этом становятся не такими очевидными - по крайней мере, для глаз."
   ]
  }
 ],
 "metadata": {
  "ExecuteTimeLog": [
   {
    "duration": 1386,
    "start_time": "2021-09-08T15:11:17.394Z"
   },
   {
    "duration": 136,
    "start_time": "2021-09-08T15:11:48.684Z"
   },
   {
    "duration": 442,
    "start_time": "2021-09-08T15:12:21.611Z"
   },
   {
    "duration": 28,
    "start_time": "2021-09-08T15:12:28.001Z"
   },
   {
    "duration": 4,
    "start_time": "2021-09-08T15:17:33.106Z"
   },
   {
    "duration": 319,
    "start_time": "2021-09-11T15:42:11.135Z"
   },
   {
    "duration": 1393,
    "start_time": "2021-09-11T15:42:15.769Z"
   },
   {
    "duration": 80,
    "start_time": "2021-09-11T15:42:17.164Z"
   },
   {
    "duration": 19,
    "start_time": "2021-09-11T15:42:17.246Z"
   },
   {
    "duration": 6,
    "start_time": "2021-09-11T15:42:20.146Z"
   },
   {
    "duration": 13,
    "start_time": "2021-09-11T15:42:28.761Z"
   },
   {
    "duration": 8,
    "start_time": "2021-09-11T15:50:45.534Z"
   },
   {
    "duration": 5,
    "start_time": "2021-09-11T15:54:24.984Z"
   },
   {
    "duration": 48,
    "start_time": "2021-09-11T15:54:24.992Z"
   },
   {
    "duration": 14,
    "start_time": "2021-09-11T15:54:25.043Z"
   },
   {
    "duration": 13,
    "start_time": "2021-09-11T15:54:25.060Z"
   },
   {
    "duration": 7,
    "start_time": "2021-09-11T15:54:28.342Z"
   },
   {
    "duration": 1737,
    "start_time": "2021-09-11T16:02:02.981Z"
   },
   {
    "duration": 4,
    "start_time": "2021-09-11T16:02:16.491Z"
   },
   {
    "duration": 7,
    "start_time": "2021-09-11T16:03:26.025Z"
   },
   {
    "duration": 7,
    "start_time": "2021-09-11T16:04:38.184Z"
   },
   {
    "duration": 7,
    "start_time": "2021-09-11T16:05:00.439Z"
   },
   {
    "duration": 5,
    "start_time": "2021-09-11T16:05:07.353Z"
   },
   {
    "duration": 261,
    "start_time": "2021-09-11T16:57:46.470Z"
   },
   {
    "duration": 5,
    "start_time": "2021-09-11T16:58:37.757Z"
   },
   {
    "duration": 9,
    "start_time": "2021-09-11T16:58:44.508Z"
   },
   {
    "duration": 268,
    "start_time": "2021-09-11T17:03:22.783Z"
   },
   {
    "duration": 6,
    "start_time": "2021-09-11T17:03:27.447Z"
   },
   {
    "duration": 704,
    "start_time": "2021-09-11T17:03:29.684Z"
   },
   {
    "duration": 10,
    "start_time": "2021-09-11T17:03:41.007Z"
   },
   {
    "duration": 5,
    "start_time": "2021-09-11T17:20:48.115Z"
   },
   {
    "duration": 8,
    "start_time": "2021-09-11T17:21:25.018Z"
   },
   {
    "duration": 118,
    "start_time": "2021-09-11T17:22:32.844Z"
   },
   {
    "duration": 4,
    "start_time": "2021-09-11T17:23:28.777Z"
   },
   {
    "duration": 9,
    "start_time": "2021-09-11T17:23:40.836Z"
   },
   {
    "duration": 14,
    "start_time": "2021-09-11T17:23:47.636Z"
   },
   {
    "duration": 10,
    "start_time": "2021-09-11T17:23:54.297Z"
   },
   {
    "duration": 16,
    "start_time": "2021-09-11T17:27:36.167Z"
   },
   {
    "duration": 5,
    "start_time": "2021-09-11T17:28:44.642Z"
   },
   {
    "duration": 1398,
    "start_time": "2021-09-12T14:06:03.783Z"
   },
   {
    "duration": 152,
    "start_time": "2021-09-12T14:06:05.183Z"
   },
   {
    "duration": 20,
    "start_time": "2021-09-12T14:06:05.337Z"
   },
   {
    "duration": 12,
    "start_time": "2021-09-12T14:06:05.360Z"
   },
   {
    "duration": 15,
    "start_time": "2021-09-12T14:06:05.375Z"
   },
   {
    "duration": 12,
    "start_time": "2021-09-12T14:06:05.392Z"
   },
   {
    "duration": 13,
    "start_time": "2021-09-12T14:06:05.407Z"
   },
   {
    "duration": 15,
    "start_time": "2021-09-12T14:06:05.458Z"
   },
   {
    "duration": 88,
    "start_time": "2021-09-12T14:06:05.476Z"
   },
   {
    "duration": 6,
    "start_time": "2021-09-12T14:06:05.567Z"
   },
   {
    "duration": 12,
    "start_time": "2021-09-12T14:06:05.576Z"
   },
   {
    "duration": 23,
    "start_time": "2021-09-12T14:06:05.591Z"
   },
   {
    "duration": 48,
    "start_time": "2021-09-12T14:06:05.617Z"
   },
   {
    "duration": 6,
    "start_time": "2021-09-12T14:06:05.668Z"
   },
   {
    "duration": 105,
    "start_time": "2021-09-13T11:14:18.455Z"
   },
   {
    "duration": 1514,
    "start_time": "2021-09-13T11:23:19.649Z"
   },
   {
    "duration": 108,
    "start_time": "2021-09-13T11:23:21.166Z"
   },
   {
    "duration": 17,
    "start_time": "2021-09-13T11:23:21.276Z"
   },
   {
    "duration": 18,
    "start_time": "2021-09-13T11:23:21.295Z"
   },
   {
    "duration": 1179,
    "start_time": "2021-09-13T11:23:23.392Z"
   },
   {
    "duration": 1021,
    "start_time": "2021-09-13T11:23:34.458Z"
   },
   {
    "duration": 958,
    "start_time": "2021-09-13T11:23:57.599Z"
   },
   {
    "duration": 989,
    "start_time": "2021-09-13T11:24:11.567Z"
   },
   {
    "duration": 1292,
    "start_time": "2021-09-13T11:24:22.959Z"
   },
   {
    "duration": 1092,
    "start_time": "2021-09-13T11:24:28.854Z"
   },
   {
    "duration": 1136,
    "start_time": "2021-09-13T11:24:41.943Z"
   },
   {
    "duration": 1080,
    "start_time": "2021-09-13T11:25:00.287Z"
   },
   {
    "duration": 2365,
    "start_time": "2021-09-13T11:25:49.695Z"
   },
   {
    "duration": 942,
    "start_time": "2021-09-13T11:34:47.748Z"
   },
   {
    "duration": 978,
    "start_time": "2021-09-13T11:35:09.981Z"
   },
   {
    "duration": 1108,
    "start_time": "2021-09-13T11:35:24.148Z"
   },
   {
    "duration": 824,
    "start_time": "2021-09-13T11:35:40.861Z"
   },
   {
    "duration": 853,
    "start_time": "2021-09-13T11:36:09.173Z"
   },
   {
    "duration": 951,
    "start_time": "2021-09-13T11:36:13.452Z"
   },
   {
    "duration": 859,
    "start_time": "2021-09-13T11:36:38.028Z"
   },
   {
    "duration": 851,
    "start_time": "2021-09-13T11:37:01.300Z"
   },
   {
    "duration": 1339,
    "start_time": "2021-09-13T11:39:29.818Z"
   },
   {
    "duration": 58,
    "start_time": "2021-09-13T11:39:31.158Z"
   },
   {
    "duration": 16,
    "start_time": "2021-09-13T11:39:31.218Z"
   },
   {
    "duration": 14,
    "start_time": "2021-09-13T11:39:31.236Z"
   },
   {
    "duration": 862,
    "start_time": "2021-09-13T11:39:31.252Z"
   },
   {
    "duration": 5,
    "start_time": "2021-09-13T11:39:32.116Z"
   },
   {
    "duration": 6,
    "start_time": "2021-09-13T11:39:32.123Z"
   },
   {
    "duration": 13,
    "start_time": "2021-09-13T11:39:32.131Z"
   },
   {
    "duration": 11,
    "start_time": "2021-09-13T11:39:32.147Z"
   },
   {
    "duration": 90,
    "start_time": "2021-09-13T11:39:32.160Z"
   },
   {
    "duration": 5,
    "start_time": "2021-09-13T11:39:32.252Z"
   },
   {
    "duration": 85,
    "start_time": "2021-09-13T11:39:32.260Z"
   },
   {
    "duration": 9,
    "start_time": "2021-09-13T11:39:32.346Z"
   },
   {
    "duration": 12,
    "start_time": "2021-09-13T11:39:32.357Z"
   },
   {
    "duration": 3,
    "start_time": "2021-09-13T11:39:32.371Z"
   }
  ],
  "kernelspec": {
   "display_name": "Python 3 (ipykernel)",
   "language": "python",
   "name": "python3"
  },
  "language_info": {
   "codemirror_mode": {
    "name": "ipython",
    "version": 3
   },
   "file_extension": ".py",
   "mimetype": "text/x-python",
   "name": "python",
   "nbconvert_exporter": "python",
   "pygments_lexer": "ipython3",
   "version": "3.9.5"
  },
  "toc": {
   "base_numbering": 1,
   "nav_menu": {},
   "number_sections": true,
   "sideBar": true,
   "skip_h1_title": true,
   "title_cell": "Содержание",
   "title_sidebar": "Contents",
   "toc_cell": true,
   "toc_position": {},
   "toc_section_display": true,
   "toc_window_display": false
  }
 },
 "nbformat": 4,
 "nbformat_minor": 2
}
