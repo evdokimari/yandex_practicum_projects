{
 "cells": [
  {
   "cell_type": "markdown",
   "metadata": {},
   "source": [
    "<h1>Содержание<span class=\"tocSkip\"></span></h1>\n",
    "\n",
    "<div class=\"toc\"><ul class=\"toc-item\"><li><span><a href=\"#Изучение-данных-из-файла\" data-toc-modified-id=\"Изучение-данных-из-файла-1\"><span class=\"toc-item-num\">1&nbsp;&nbsp;</span>Изучение данных из файла</a></span>\n",
    "    \n",
    "<ul class=\"toc-item\"><li><span><a href=\"#Вывод\" data-toc-modified-id=\"Вывод-1.1\"><span class=\"toc-item-num\">1.1&nbsp;&nbsp;</span>Вывод</a></span></li></ul></li>\n",
    "    \n",
    "<li><span><a href=\"#Подготовка-данных\" data-toc-modified-id=\"Подготовка-данных-2\"><span class=\"toc-item-num\">2&nbsp;&nbsp;</span>Подготовка данных</a></span>\n",
    "    \n",
    "<ul class=\"toc-item\"><li><span><a href=\"#Вывод\" data-toc-modified-id=\"Вывод-2.1\"><span class=\"toc-item-num\">2.1&nbsp;&nbsp;</span>Вывод</a></span></li></ul></li>\n",
    "    \n",
    "    \n",
    "<li><span><a href=\"#Анализ-данных\" data-toc-modified-id=\"Анализ-данных-4\"><span class=\"toc-item-num\">4&nbsp;&nbsp;</span>Анализ данных</a></span>\n",
    "    \n",
    "<ul class=\"toc-item\"><li><span><a href=\"#Вывод\" data-toc-modified-id=\"Вывод-4.1\"><span class=\"toc-item-num\">4.1&nbsp;&nbsp;</span>Вывод</a></span></li></ul></li>\n",
    "    \n",
    "<li><span><a href=\"#Проверка-гипотез\" data-toc-modified-id=\"Проверка-гипотез-5\"><span class=\"toc-item-num\">5&nbsp;&nbsp;</span>Проверка гипотез</a></span>\n",
    "    \n",
    "<ul class=\"toc-item\"><li><span><a href=\"#Вывод\" data-toc-modified-id=\"Вывод-5.1\"><span class=\"toc-item-num\">5.1&nbsp;&nbsp;</span>Вывод</a></span></li></ul></li>\n",
    "    \n",
    "<li><span><a href=\"#Общий-вывод\" data-toc-modified-id=\"Общий-вывод-6\"><span class=\"toc-item-num\">6&nbsp;&nbsp;</span>Общий вывод</a></span></li></ul></div>"
   ]
  },
  {
   "cell_type": "markdown",
   "metadata": {},
   "source": [
    "# Исследование успешности компьютерных игр\n",
    "\n",
    "В нашем распоряжении данные интернет-магазина «Стримчик» , который продаёт по всему миру компьютерные игры. Из открытых источников доступны исторические данные о продажах игр, оценки пользователей и экспертов, жанры и платформы (например, Xbox или PlayStation).\n",
    "Задача - выявить определяющие успешность игры закономерности. Это позволит сделать ставку на потенциально популярный продукт и спланировать рекламные кампании. Доступны данные до 2016 года. Представим, что сейчас декабрь 2016 г., и нужно спланировать кампанию на 2017-й.\n",
    "\n",
    "В наборе данных попадается аббревиатура ESRB (Entertainment Software Rating Board) — это ассоциация, определяющая возрастной рейтинг компьютерных игр. ESRB оценивает игровой контент и присваивает ему подходящую возрастную категорию, например, «Для взрослых», «Для детей младшего возраста» или «Для подростков»."
   ]
  },
  {
   "cell_type": "markdown",
   "metadata": {},
   "source": [
    "## Изучение данных из файла"
   ]
  },
  {
   "cell_type": "markdown",
   "metadata": {},
   "source": [
    "**Описание данных**\n",
    "\n",
    "\n",
    "- *Name* — название игры\n",
    "\n",
    "\n",
    "- *Platform* — платформа\n",
    "\n",
    "\n",
    "- *Year_of_Release* — год выпуска\n",
    "\n",
    "\n",
    "- *Genre* — жанр игры\n",
    "\n",
    "\n",
    "- *NA_sales* — продажи в Северной Америке (миллионы проданных копий)\n",
    "\n",
    "\n",
    "- *EU_sales* — продажи в Европе (миллионы проданных копий)\n",
    "\n",
    "\n",
    "- *JP_sales* — продажи в Японии (миллионы проданных копий)\n",
    "\n",
    "\n",
    "- *Other_sales* — продажи в других странах (миллионы проданных копий)\n",
    "\n",
    "\n",
    "- *Critic_Score* — оценка критиков (максимум 100)\n",
    "\n",
    "\n",
    "- *User_Score* — оценка пользователей (максимум 10)\n",
    "\n",
    "\n",
    "- *Rating* — рейтинг от организации ESRB (англ. Entertainment Software Rating Board). Эта ассоциация определяет рейтинг компьютерных игр и присваивает им подходящую возрастную категорию.\n",
    "\n",
    "\n",
    "Данные за 2016 год могут быть неполными."
   ]
  },
  {
   "cell_type": "markdown",
   "metadata": {},
   "source": [
    "Импортируем нужные библиотеки и настроим формат вывода:"
   ]
  },
  {
   "cell_type": "code",
   "execution_count": 75,
   "metadata": {},
   "outputs": [
    {
     "name": "stdout",
     "output_type": "stream",
     "text": [
      "Defaulting to user installation because normal site-packages is not writeable\n",
      "Requirement already up-to-date: seaborn in /home/jovyan/.local/lib/python3.7/site-packages (0.11.1)\n",
      "Requirement already satisfied, skipping upgrade: pandas>=0.23 in /opt/conda/lib/python3.7/site-packages (from seaborn) (0.25.1)\n",
      "Requirement already satisfied, skipping upgrade: scipy>=1.0 in /opt/conda/lib/python3.7/site-packages (from seaborn) (1.4.1)\n",
      "Requirement already satisfied, skipping upgrade: numpy>=1.15 in /opt/conda/lib/python3.7/site-packages (from seaborn) (1.19.5)\n",
      "Requirement already satisfied, skipping upgrade: matplotlib>=2.2 in /opt/conda/lib/python3.7/site-packages (from seaborn) (3.1.0)\n",
      "Requirement already satisfied, skipping upgrade: pytz>=2017.2 in /opt/conda/lib/python3.7/site-packages (from pandas>=0.23->seaborn) (2021.1)\n",
      "Requirement already satisfied, skipping upgrade: python-dateutil>=2.6.1 in /opt/conda/lib/python3.7/site-packages (from pandas>=0.23->seaborn) (2.8.1)\n",
      "Requirement already satisfied, skipping upgrade: pyparsing!=2.0.4,!=2.1.2,!=2.1.6,>=2.0.1 in /opt/conda/lib/python3.7/site-packages (from matplotlib>=2.2->seaborn) (2.4.7)\n",
      "Requirement already satisfied, skipping upgrade: cycler>=0.10 in /opt/conda/lib/python3.7/site-packages (from matplotlib>=2.2->seaborn) (0.10.0)\n",
      "Requirement already satisfied, skipping upgrade: kiwisolver>=1.0.1 in /opt/conda/lib/python3.7/site-packages (from matplotlib>=2.2->seaborn) (1.3.1)\n",
      "Requirement already satisfied, skipping upgrade: six>=1.5 in /opt/conda/lib/python3.7/site-packages (from python-dateutil>=2.6.1->pandas>=0.23->seaborn) (1.15.0)\n"
     ]
    }
   ],
   "source": [
    "import pandas as pd\n",
    "import matplotlib.pyplot as plt\n",
    "import seaborn as sns\n",
    "from IPython.display import display\n",
    "from scipy import stats as st\n",
    "from scipy.stats import levene\n",
    "import numpy as np\n",
    "import warnings\n",
    "warnings.filterwarnings('ignore')\n",
    "\n",
    "!pip install seaborn --upgrade\n",
    "\n",
    "#sns.set_theme()\n",
    "\n",
    "pd.set_option('display.float_format', '{:.2f}'.format)"
   ]
  },
  {
   "cell_type": "markdown",
   "metadata": {},
   "source": [
    "Загрузим датасет и посмотрим на него:"
   ]
  },
  {
   "cell_type": "code",
   "execution_count": 76,
   "metadata": {
    "scrolled": false
   },
   "outputs": [
    {
     "name": "stdout",
     "output_type": "stream",
     "text": [
      "<class 'pandas.core.frame.DataFrame'>\n",
      "RangeIndex: 16715 entries, 0 to 16714\n",
      "Data columns (total 11 columns):\n",
      "Name               16713 non-null object\n",
      "Platform           16715 non-null object\n",
      "Year_of_Release    16446 non-null float64\n",
      "Genre              16713 non-null object\n",
      "NA_sales           16715 non-null float64\n",
      "EU_sales           16715 non-null float64\n",
      "JP_sales           16715 non-null float64\n",
      "Other_sales        16715 non-null float64\n",
      "Critic_Score       8137 non-null float64\n",
      "User_Score         10014 non-null object\n",
      "Rating             9949 non-null object\n",
      "dtypes: float64(6), object(5)\n",
      "memory usage: 1.4+ MB\n",
      "\n",
      "Index(['Name', 'Platform', 'Year_of_Release', 'Genre', 'NA_sales', 'EU_sales',\n",
      "       'JP_sales', 'Other_sales', 'Critic_Score', 'User_Score', 'Rating'],\n",
      "      dtype='object')\n",
      "\n",
      "                           Name Platform  Year_of_Release         Genre  \\\n",
      "0                    Wii Sports      Wii          2006.00        Sports   \n",
      "1             Super Mario Bros.      NES          1985.00      Platform   \n",
      "2                Mario Kart Wii      Wii          2008.00        Racing   \n",
      "3             Wii Sports Resort      Wii          2009.00        Sports   \n",
      "4      Pokemon Red/Pokemon Blue       GB          1996.00  Role-Playing   \n",
      "5                        Tetris       GB          1989.00        Puzzle   \n",
      "6         New Super Mario Bros.       DS          2006.00      Platform   \n",
      "7                      Wii Play      Wii          2006.00          Misc   \n",
      "8     New Super Mario Bros. Wii      Wii          2009.00      Platform   \n",
      "9                     Duck Hunt      NES          1984.00       Shooter   \n",
      "10                   Nintendogs       DS          2005.00    Simulation   \n",
      "11                Mario Kart DS       DS          2005.00        Racing   \n",
      "12  Pokemon Gold/Pokemon Silver       GB          1999.00  Role-Playing   \n",
      "13                      Wii Fit      Wii          2007.00        Sports   \n",
      "14           Kinect Adventures!     X360          2010.00          Misc   \n",
      "\n",
      "    NA_sales  EU_sales  JP_sales  Other_sales  Critic_Score User_Score Rating  \n",
      "0      41.36     28.96      3.77         8.45         76.00          8      E  \n",
      "1      29.08      3.58      6.81         0.77           nan        NaN    NaN  \n",
      "2      15.68     12.76      3.79         3.29         82.00        8.3      E  \n",
      "3      15.61     10.93      3.28         2.95         80.00          8      E  \n",
      "4      11.27      8.89     10.22         1.00           nan        NaN    NaN  \n",
      "5      23.20      2.26      4.22         0.58           nan        NaN    NaN  \n",
      "6      11.28      9.14      6.50         2.88         89.00        8.5      E  \n",
      "7      13.96      9.18      2.93         2.84         58.00        6.6      E  \n",
      "8      14.44      6.94      4.70         2.24         87.00        8.4      E  \n",
      "9      26.93      0.63      0.28         0.47           nan        NaN    NaN  \n",
      "10      9.05     10.95      1.93         2.74           nan        NaN    NaN  \n",
      "11      9.71      7.47      4.13         1.90         91.00        8.6      E  \n",
      "12      9.00      6.18      7.20         0.71           nan        NaN    NaN  \n",
      "13      8.92      8.03      3.60         2.15         80.00        7.7      E  \n",
      "14     15.00      4.89      0.24         1.69         61.00        6.3      E  \n",
      "\n",
      "Число дубликатов: 0\n",
      "\n"
     ]
    }
   ],
   "source": [
    "df = pd.read_csv('https://code.s3.yandex.net/datasets/games.csv')\n",
    "df.info()\n",
    "print()\n",
    "print(df.columns)\n",
    "print()\n",
    "print(df.head(15))\n",
    "print()\n",
    "print('Число дубликатов:', df.duplicated().sum())\n",
    "print()"
   ]
  },
  {
   "cell_type": "markdown",
   "metadata": {},
   "source": [
    "### Вывод"
   ]
  },
  {
   "cell_type": "markdown",
   "metadata": {},
   "source": [
    "Проблемы, которые нужно решать: \n",
    "\n",
    "- пропуски и некачественные названия столбцов.\n",
    "- поменять тип данных в столбцах Year_of_Release и Critic_Score\n",
    "\n",
    "Пропуски в Year_of_Release, Critic_Score, User_Score и Rating могут быть связаны с техническими проблемами, о которых стоит сообщить в разработку. Возможно, данные по рейтингу были собраны из разных источников и склеены в итоге. \n",
    "\n",
    "В данном исследовании мы удалим пропуски в Year_of_Release. Их немного, меньше 2%, так что на результат не должны сильно повлиять. Ниже посмотрим подробнее на 2 пропуска в колонках name и genre."
   ]
  },
  {
   "cell_type": "markdown",
   "metadata": {},
   "source": [
    "## Подготовка данных"
   ]
  },
  {
   "cell_type": "markdown",
   "metadata": {},
   "source": [
    "Заменим названия столбцов:"
   ]
  },
  {
   "cell_type": "code",
   "execution_count": 77,
   "metadata": {},
   "outputs": [
    {
     "name": "stdout",
     "output_type": "stream",
     "text": [
      "Index(['name', 'platform', 'year_of_release', 'genre', 'na_sales', 'eu_sales',\n",
      "       'jp_sales', 'other_sales', 'critic_score', 'user_score', 'rating'],\n",
      "      dtype='object')\n"
     ]
    }
   ],
   "source": [
    "df = df.rename(columns=lambda x: x.lower())\n",
    "print(df.columns)"
   ]
  },
  {
   "cell_type": "markdown",
   "metadata": {},
   "source": [
    "Посмотрим на 2 пропуска в колонках name и genre"
   ]
  },
  {
   "cell_type": "code",
   "execution_count": 78,
   "metadata": {},
   "outputs": [
    {
     "data": {
      "text/html": [
       "<div>\n",
       "<style scoped>\n",
       "    .dataframe tbody tr th:only-of-type {\n",
       "        vertical-align: middle;\n",
       "    }\n",
       "\n",
       "    .dataframe tbody tr th {\n",
       "        vertical-align: top;\n",
       "    }\n",
       "\n",
       "    .dataframe thead th {\n",
       "        text-align: right;\n",
       "    }\n",
       "</style>\n",
       "<table border=\"1\" class=\"dataframe\">\n",
       "  <thead>\n",
       "    <tr style=\"text-align: right;\">\n",
       "      <th></th>\n",
       "      <th>name</th>\n",
       "      <th>platform</th>\n",
       "      <th>year_of_release</th>\n",
       "      <th>genre</th>\n",
       "      <th>na_sales</th>\n",
       "      <th>eu_sales</th>\n",
       "      <th>jp_sales</th>\n",
       "      <th>other_sales</th>\n",
       "      <th>critic_score</th>\n",
       "      <th>user_score</th>\n",
       "      <th>rating</th>\n",
       "    </tr>\n",
       "  </thead>\n",
       "  <tbody>\n",
       "    <tr>\n",
       "      <td>659</td>\n",
       "      <td>NaN</td>\n",
       "      <td>GEN</td>\n",
       "      <td>1993.00</td>\n",
       "      <td>NaN</td>\n",
       "      <td>1.78</td>\n",
       "      <td>0.53</td>\n",
       "      <td>0.00</td>\n",
       "      <td>0.08</td>\n",
       "      <td>nan</td>\n",
       "      <td>NaN</td>\n",
       "      <td>NaN</td>\n",
       "    </tr>\n",
       "    <tr>\n",
       "      <td>14244</td>\n",
       "      <td>NaN</td>\n",
       "      <td>GEN</td>\n",
       "      <td>1993.00</td>\n",
       "      <td>NaN</td>\n",
       "      <td>0.00</td>\n",
       "      <td>0.00</td>\n",
       "      <td>0.03</td>\n",
       "      <td>0.00</td>\n",
       "      <td>nan</td>\n",
       "      <td>NaN</td>\n",
       "      <td>NaN</td>\n",
       "    </tr>\n",
       "  </tbody>\n",
       "</table>\n",
       "</div>"
      ],
      "text/plain": [
       "      name platform  year_of_release genre  na_sales  eu_sales  jp_sales  \\\n",
       "659    NaN      GEN          1993.00   NaN      1.78      0.53      0.00   \n",
       "14244  NaN      GEN          1993.00   NaN      0.00      0.00      0.03   \n",
       "\n",
       "       other_sales  critic_score user_score rating  \n",
       "659           0.08           nan        NaN    NaN  \n",
       "14244         0.00           nan        NaN    NaN  "
      ]
     },
     "metadata": {},
     "output_type": "display_data"
    }
   ],
   "source": [
    "display(df[df['name'].isna()])"
   ]
  },
  {
   "cell_type": "markdown",
   "metadata": {},
   "source": [
    "Из этих строк мало что можно извлечь, удалим их. Возможная причина - некачественная выгрузка данных. Возможно, это даже одна и та же игра."
   ]
  },
  {
   "cell_type": "code",
   "execution_count": 79,
   "metadata": {},
   "outputs": [
    {
     "name": "stdout",
     "output_type": "stream",
     "text": [
      "<class 'pandas.core.frame.DataFrame'>\n",
      "Int64Index: 16444 entries, 0 to 16714\n",
      "Data columns (total 11 columns):\n",
      "name               16444 non-null object\n",
      "platform           16444 non-null object\n",
      "year_of_release    16444 non-null float64\n",
      "genre              16444 non-null object\n",
      "na_sales           16444 non-null float64\n",
      "eu_sales           16444 non-null float64\n",
      "jp_sales           16444 non-null float64\n",
      "other_sales        16444 non-null float64\n",
      "critic_score       7983 non-null float64\n",
      "user_score         9839 non-null object\n",
      "rating             9768 non-null object\n",
      "dtypes: float64(6), object(5)\n",
      "memory usage: 1.5+ MB\n"
     ]
    }
   ],
   "source": [
    "df.dropna(subset=['name', 'year_of_release'], inplace=True)\n",
    "df.info()"
   ]
  },
  {
   "cell_type": "markdown",
   "metadata": {},
   "source": [
    "С остальными пропусками ничего поделать не можем, кроме как попытаться проверить, а не существует ли всё-таки по ним данных (запросить у источника данных ещё раз их выгрузить). \n",
    "\n",
    "Поменяем тип данных в столбцах year_of_release на int."
   ]
  },
  {
   "cell_type": "code",
   "execution_count": 80,
   "metadata": {},
   "outputs": [
    {
     "name": "stdout",
     "output_type": "stream",
     "text": [
      "<class 'pandas.core.frame.DataFrame'>\n",
      "Int64Index: 16444 entries, 0 to 16714\n",
      "Data columns (total 11 columns):\n",
      "name               16444 non-null object\n",
      "platform           16444 non-null object\n",
      "year_of_release    16444 non-null int64\n",
      "genre              16444 non-null object\n",
      "na_sales           16444 non-null float64\n",
      "eu_sales           16444 non-null float64\n",
      "jp_sales           16444 non-null float64\n",
      "other_sales        16444 non-null float64\n",
      "critic_score       7983 non-null float64\n",
      "user_score         9839 non-null object\n",
      "rating             9768 non-null object\n",
      "dtypes: float64(5), int64(1), object(5)\n",
      "memory usage: 1.5+ MB\n"
     ]
    },
    {
     "data": {
      "text/html": [
       "<div>\n",
       "<style scoped>\n",
       "    .dataframe tbody tr th:only-of-type {\n",
       "        vertical-align: middle;\n",
       "    }\n",
       "\n",
       "    .dataframe tbody tr th {\n",
       "        vertical-align: top;\n",
       "    }\n",
       "\n",
       "    .dataframe thead th {\n",
       "        text-align: right;\n",
       "    }\n",
       "</style>\n",
       "<table border=\"1\" class=\"dataframe\">\n",
       "  <thead>\n",
       "    <tr style=\"text-align: right;\">\n",
       "      <th></th>\n",
       "      <th>name</th>\n",
       "      <th>platform</th>\n",
       "      <th>year_of_release</th>\n",
       "      <th>genre</th>\n",
       "      <th>na_sales</th>\n",
       "      <th>eu_sales</th>\n",
       "      <th>jp_sales</th>\n",
       "      <th>other_sales</th>\n",
       "      <th>critic_score</th>\n",
       "      <th>user_score</th>\n",
       "      <th>rating</th>\n",
       "    </tr>\n",
       "  </thead>\n",
       "  <tbody>\n",
       "    <tr>\n",
       "      <td>16700</td>\n",
       "      <td>Mezase!! Tsuri Master DS</td>\n",
       "      <td>DS</td>\n",
       "      <td>2009</td>\n",
       "      <td>Sports</td>\n",
       "      <td>0.00</td>\n",
       "      <td>0.00</td>\n",
       "      <td>0.01</td>\n",
       "      <td>0.00</td>\n",
       "      <td>nan</td>\n",
       "      <td>NaN</td>\n",
       "      <td>NaN</td>\n",
       "    </tr>\n",
       "    <tr>\n",
       "      <td>16701</td>\n",
       "      <td>Eiyuu Densetsu: Sora no Kiseki Material Collec...</td>\n",
       "      <td>PSP</td>\n",
       "      <td>2007</td>\n",
       "      <td>Role-Playing</td>\n",
       "      <td>0.00</td>\n",
       "      <td>0.00</td>\n",
       "      <td>0.01</td>\n",
       "      <td>0.00</td>\n",
       "      <td>nan</td>\n",
       "      <td>NaN</td>\n",
       "      <td>NaN</td>\n",
       "    </tr>\n",
       "    <tr>\n",
       "      <td>16702</td>\n",
       "      <td>STORM: Frontline Nation</td>\n",
       "      <td>PC</td>\n",
       "      <td>2011</td>\n",
       "      <td>Strategy</td>\n",
       "      <td>0.00</td>\n",
       "      <td>0.01</td>\n",
       "      <td>0.00</td>\n",
       "      <td>0.00</td>\n",
       "      <td>60.00</td>\n",
       "      <td>7.2</td>\n",
       "      <td>E10+</td>\n",
       "    </tr>\n",
       "    <tr>\n",
       "      <td>16703</td>\n",
       "      <td>Strawberry Nauts</td>\n",
       "      <td>PSV</td>\n",
       "      <td>2016</td>\n",
       "      <td>Adventure</td>\n",
       "      <td>0.00</td>\n",
       "      <td>0.00</td>\n",
       "      <td>0.01</td>\n",
       "      <td>0.00</td>\n",
       "      <td>nan</td>\n",
       "      <td>NaN</td>\n",
       "      <td>NaN</td>\n",
       "    </tr>\n",
       "    <tr>\n",
       "      <td>16704</td>\n",
       "      <td>Plushees</td>\n",
       "      <td>DS</td>\n",
       "      <td>2008</td>\n",
       "      <td>Simulation</td>\n",
       "      <td>0.01</td>\n",
       "      <td>0.00</td>\n",
       "      <td>0.00</td>\n",
       "      <td>0.00</td>\n",
       "      <td>nan</td>\n",
       "      <td>tbd</td>\n",
       "      <td>E</td>\n",
       "    </tr>\n",
       "    <tr>\n",
       "      <td>16705</td>\n",
       "      <td>15 Days</td>\n",
       "      <td>PC</td>\n",
       "      <td>2009</td>\n",
       "      <td>Adventure</td>\n",
       "      <td>0.00</td>\n",
       "      <td>0.01</td>\n",
       "      <td>0.00</td>\n",
       "      <td>0.00</td>\n",
       "      <td>63.00</td>\n",
       "      <td>5.8</td>\n",
       "      <td>NaN</td>\n",
       "    </tr>\n",
       "    <tr>\n",
       "      <td>16706</td>\n",
       "      <td>Men in Black II: Alien Escape</td>\n",
       "      <td>GC</td>\n",
       "      <td>2003</td>\n",
       "      <td>Shooter</td>\n",
       "      <td>0.01</td>\n",
       "      <td>0.00</td>\n",
       "      <td>0.00</td>\n",
       "      <td>0.00</td>\n",
       "      <td>nan</td>\n",
       "      <td>tbd</td>\n",
       "      <td>T</td>\n",
       "    </tr>\n",
       "    <tr>\n",
       "      <td>16707</td>\n",
       "      <td>Aiyoku no Eustia</td>\n",
       "      <td>PSV</td>\n",
       "      <td>2014</td>\n",
       "      <td>Misc</td>\n",
       "      <td>0.00</td>\n",
       "      <td>0.00</td>\n",
       "      <td>0.01</td>\n",
       "      <td>0.00</td>\n",
       "      <td>nan</td>\n",
       "      <td>NaN</td>\n",
       "      <td>NaN</td>\n",
       "    </tr>\n",
       "    <tr>\n",
       "      <td>16708</td>\n",
       "      <td>Woody Woodpecker in Crazy Castle 5</td>\n",
       "      <td>GBA</td>\n",
       "      <td>2002</td>\n",
       "      <td>Platform</td>\n",
       "      <td>0.01</td>\n",
       "      <td>0.00</td>\n",
       "      <td>0.00</td>\n",
       "      <td>0.00</td>\n",
       "      <td>nan</td>\n",
       "      <td>NaN</td>\n",
       "      <td>NaN</td>\n",
       "    </tr>\n",
       "    <tr>\n",
       "      <td>16709</td>\n",
       "      <td>SCORE International Baja 1000: The Official Game</td>\n",
       "      <td>PS2</td>\n",
       "      <td>2008</td>\n",
       "      <td>Racing</td>\n",
       "      <td>0.00</td>\n",
       "      <td>0.00</td>\n",
       "      <td>0.00</td>\n",
       "      <td>0.00</td>\n",
       "      <td>nan</td>\n",
       "      <td>NaN</td>\n",
       "      <td>NaN</td>\n",
       "    </tr>\n",
       "    <tr>\n",
       "      <td>16710</td>\n",
       "      <td>Samurai Warriors: Sanada Maru</td>\n",
       "      <td>PS3</td>\n",
       "      <td>2016</td>\n",
       "      <td>Action</td>\n",
       "      <td>0.00</td>\n",
       "      <td>0.00</td>\n",
       "      <td>0.01</td>\n",
       "      <td>0.00</td>\n",
       "      <td>nan</td>\n",
       "      <td>NaN</td>\n",
       "      <td>NaN</td>\n",
       "    </tr>\n",
       "    <tr>\n",
       "      <td>16711</td>\n",
       "      <td>LMA Manager 2007</td>\n",
       "      <td>X360</td>\n",
       "      <td>2006</td>\n",
       "      <td>Sports</td>\n",
       "      <td>0.00</td>\n",
       "      <td>0.01</td>\n",
       "      <td>0.00</td>\n",
       "      <td>0.00</td>\n",
       "      <td>nan</td>\n",
       "      <td>NaN</td>\n",
       "      <td>NaN</td>\n",
       "    </tr>\n",
       "    <tr>\n",
       "      <td>16712</td>\n",
       "      <td>Haitaka no Psychedelica</td>\n",
       "      <td>PSV</td>\n",
       "      <td>2016</td>\n",
       "      <td>Adventure</td>\n",
       "      <td>0.00</td>\n",
       "      <td>0.00</td>\n",
       "      <td>0.01</td>\n",
       "      <td>0.00</td>\n",
       "      <td>nan</td>\n",
       "      <td>NaN</td>\n",
       "      <td>NaN</td>\n",
       "    </tr>\n",
       "    <tr>\n",
       "      <td>16713</td>\n",
       "      <td>Spirits &amp; Spells</td>\n",
       "      <td>GBA</td>\n",
       "      <td>2003</td>\n",
       "      <td>Platform</td>\n",
       "      <td>0.01</td>\n",
       "      <td>0.00</td>\n",
       "      <td>0.00</td>\n",
       "      <td>0.00</td>\n",
       "      <td>nan</td>\n",
       "      <td>NaN</td>\n",
       "      <td>NaN</td>\n",
       "    </tr>\n",
       "    <tr>\n",
       "      <td>16714</td>\n",
       "      <td>Winning Post 8 2016</td>\n",
       "      <td>PSV</td>\n",
       "      <td>2016</td>\n",
       "      <td>Simulation</td>\n",
       "      <td>0.00</td>\n",
       "      <td>0.00</td>\n",
       "      <td>0.01</td>\n",
       "      <td>0.00</td>\n",
       "      <td>nan</td>\n",
       "      <td>NaN</td>\n",
       "      <td>NaN</td>\n",
       "    </tr>\n",
       "  </tbody>\n",
       "</table>\n",
       "</div>"
      ],
      "text/plain": [
       "                                                    name platform  \\\n",
       "16700                           Mezase!! Tsuri Master DS       DS   \n",
       "16701  Eiyuu Densetsu: Sora no Kiseki Material Collec...      PSP   \n",
       "16702                            STORM: Frontline Nation       PC   \n",
       "16703                                   Strawberry Nauts      PSV   \n",
       "16704                                           Plushees       DS   \n",
       "16705                                            15 Days       PC   \n",
       "16706                      Men in Black II: Alien Escape       GC   \n",
       "16707                                   Aiyoku no Eustia      PSV   \n",
       "16708                 Woody Woodpecker in Crazy Castle 5      GBA   \n",
       "16709   SCORE International Baja 1000: The Official Game      PS2   \n",
       "16710                      Samurai Warriors: Sanada Maru      PS3   \n",
       "16711                                   LMA Manager 2007     X360   \n",
       "16712                            Haitaka no Psychedelica      PSV   \n",
       "16713                                   Spirits & Spells      GBA   \n",
       "16714                                Winning Post 8 2016      PSV   \n",
       "\n",
       "       year_of_release         genre  na_sales  eu_sales  jp_sales  \\\n",
       "16700             2009        Sports      0.00      0.00      0.01   \n",
       "16701             2007  Role-Playing      0.00      0.00      0.01   \n",
       "16702             2011      Strategy      0.00      0.01      0.00   \n",
       "16703             2016     Adventure      0.00      0.00      0.01   \n",
       "16704             2008    Simulation      0.01      0.00      0.00   \n",
       "16705             2009     Adventure      0.00      0.01      0.00   \n",
       "16706             2003       Shooter      0.01      0.00      0.00   \n",
       "16707             2014          Misc      0.00      0.00      0.01   \n",
       "16708             2002      Platform      0.01      0.00      0.00   \n",
       "16709             2008        Racing      0.00      0.00      0.00   \n",
       "16710             2016        Action      0.00      0.00      0.01   \n",
       "16711             2006        Sports      0.00      0.01      0.00   \n",
       "16712             2016     Adventure      0.00      0.00      0.01   \n",
       "16713             2003      Platform      0.01      0.00      0.00   \n",
       "16714             2016    Simulation      0.00      0.00      0.01   \n",
       "\n",
       "       other_sales  critic_score user_score rating  \n",
       "16700         0.00           nan        NaN    NaN  \n",
       "16701         0.00           nan        NaN    NaN  \n",
       "16702         0.00         60.00        7.2   E10+  \n",
       "16703         0.00           nan        NaN    NaN  \n",
       "16704         0.00           nan        tbd      E  \n",
       "16705         0.00         63.00        5.8    NaN  \n",
       "16706         0.00           nan        tbd      T  \n",
       "16707         0.00           nan        NaN    NaN  \n",
       "16708         0.00           nan        NaN    NaN  \n",
       "16709         0.00           nan        NaN    NaN  \n",
       "16710         0.00           nan        NaN    NaN  \n",
       "16711         0.00           nan        NaN    NaN  \n",
       "16712         0.00           nan        NaN    NaN  \n",
       "16713         0.00           nan        NaN    NaN  \n",
       "16714         0.00           nan        NaN    NaN  "
      ]
     },
     "execution_count": 80,
     "metadata": {},
     "output_type": "execute_result"
    }
   ],
   "source": [
    "df['year_of_release'] = df['year_of_release'].astype(int)\n",
    "\n",
    "df.info()\n",
    "df.tail(15)"
   ]
  },
  {
   "cell_type": "markdown",
   "metadata": {},
   "source": [
    "'tbd' означает To Be Determined (будет определено) или To Be Decided (будет решено). \n",
    "Используется, если какая-то информация еще не определена или решение по вопросу не принято. \n",
    "Акроним служит для отметки неясностей или пропусков, которые надо заполнить. Считаем их за NaN.\n",
    "Преобразуем все значения NaN в tbd2:"
   ]
  },
  {
   "cell_type": "code",
   "execution_count": 81,
   "metadata": {},
   "outputs": [
    {
     "data": {
      "text/html": [
       "<div>\n",
       "<style scoped>\n",
       "    .dataframe tbody tr th:only-of-type {\n",
       "        vertical-align: middle;\n",
       "    }\n",
       "\n",
       "    .dataframe tbody tr th {\n",
       "        vertical-align: top;\n",
       "    }\n",
       "\n",
       "    .dataframe thead th {\n",
       "        text-align: right;\n",
       "    }\n",
       "</style>\n",
       "<table border=\"1\" class=\"dataframe\">\n",
       "  <thead>\n",
       "    <tr style=\"text-align: right;\">\n",
       "      <th></th>\n",
       "      <th>name</th>\n",
       "      <th>platform</th>\n",
       "      <th>year_of_release</th>\n",
       "      <th>genre</th>\n",
       "      <th>na_sales</th>\n",
       "      <th>eu_sales</th>\n",
       "      <th>jp_sales</th>\n",
       "      <th>other_sales</th>\n",
       "      <th>critic_score</th>\n",
       "      <th>user_score</th>\n",
       "      <th>rating</th>\n",
       "    </tr>\n",
       "  </thead>\n",
       "  <tbody>\n",
       "    <tr>\n",
       "      <td>0</td>\n",
       "      <td>Wii Sports</td>\n",
       "      <td>Wii</td>\n",
       "      <td>2006</td>\n",
       "      <td>Sports</td>\n",
       "      <td>41.36</td>\n",
       "      <td>28.96</td>\n",
       "      <td>3.77</td>\n",
       "      <td>8.45</td>\n",
       "      <td>76.00</td>\n",
       "      <td>8</td>\n",
       "      <td>E</td>\n",
       "    </tr>\n",
       "    <tr>\n",
       "      <td>1</td>\n",
       "      <td>Super Mario Bros.</td>\n",
       "      <td>NES</td>\n",
       "      <td>1985</td>\n",
       "      <td>Platform</td>\n",
       "      <td>29.08</td>\n",
       "      <td>3.58</td>\n",
       "      <td>6.81</td>\n",
       "      <td>0.77</td>\n",
       "      <td>tbd2</td>\n",
       "      <td>tbd2</td>\n",
       "      <td>tbd2</td>\n",
       "    </tr>\n",
       "    <tr>\n",
       "      <td>2</td>\n",
       "      <td>Mario Kart Wii</td>\n",
       "      <td>Wii</td>\n",
       "      <td>2008</td>\n",
       "      <td>Racing</td>\n",
       "      <td>15.68</td>\n",
       "      <td>12.76</td>\n",
       "      <td>3.79</td>\n",
       "      <td>3.29</td>\n",
       "      <td>82.00</td>\n",
       "      <td>8.3</td>\n",
       "      <td>E</td>\n",
       "    </tr>\n",
       "    <tr>\n",
       "      <td>3</td>\n",
       "      <td>Wii Sports Resort</td>\n",
       "      <td>Wii</td>\n",
       "      <td>2009</td>\n",
       "      <td>Sports</td>\n",
       "      <td>15.61</td>\n",
       "      <td>10.93</td>\n",
       "      <td>3.28</td>\n",
       "      <td>2.95</td>\n",
       "      <td>80.00</td>\n",
       "      <td>8</td>\n",
       "      <td>E</td>\n",
       "    </tr>\n",
       "    <tr>\n",
       "      <td>4</td>\n",
       "      <td>Pokemon Red/Pokemon Blue</td>\n",
       "      <td>GB</td>\n",
       "      <td>1996</td>\n",
       "      <td>Role-Playing</td>\n",
       "      <td>11.27</td>\n",
       "      <td>8.89</td>\n",
       "      <td>10.22</td>\n",
       "      <td>1.00</td>\n",
       "      <td>tbd2</td>\n",
       "      <td>tbd2</td>\n",
       "      <td>tbd2</td>\n",
       "    </tr>\n",
       "    <tr>\n",
       "      <td>5</td>\n",
       "      <td>Tetris</td>\n",
       "      <td>GB</td>\n",
       "      <td>1989</td>\n",
       "      <td>Puzzle</td>\n",
       "      <td>23.20</td>\n",
       "      <td>2.26</td>\n",
       "      <td>4.22</td>\n",
       "      <td>0.58</td>\n",
       "      <td>tbd2</td>\n",
       "      <td>tbd2</td>\n",
       "      <td>tbd2</td>\n",
       "    </tr>\n",
       "    <tr>\n",
       "      <td>6</td>\n",
       "      <td>New Super Mario Bros.</td>\n",
       "      <td>DS</td>\n",
       "      <td>2006</td>\n",
       "      <td>Platform</td>\n",
       "      <td>11.28</td>\n",
       "      <td>9.14</td>\n",
       "      <td>6.50</td>\n",
       "      <td>2.88</td>\n",
       "      <td>89.00</td>\n",
       "      <td>8.5</td>\n",
       "      <td>E</td>\n",
       "    </tr>\n",
       "    <tr>\n",
       "      <td>7</td>\n",
       "      <td>Wii Play</td>\n",
       "      <td>Wii</td>\n",
       "      <td>2006</td>\n",
       "      <td>Misc</td>\n",
       "      <td>13.96</td>\n",
       "      <td>9.18</td>\n",
       "      <td>2.93</td>\n",
       "      <td>2.84</td>\n",
       "      <td>58.00</td>\n",
       "      <td>6.6</td>\n",
       "      <td>E</td>\n",
       "    </tr>\n",
       "    <tr>\n",
       "      <td>8</td>\n",
       "      <td>New Super Mario Bros. Wii</td>\n",
       "      <td>Wii</td>\n",
       "      <td>2009</td>\n",
       "      <td>Platform</td>\n",
       "      <td>14.44</td>\n",
       "      <td>6.94</td>\n",
       "      <td>4.70</td>\n",
       "      <td>2.24</td>\n",
       "      <td>87.00</td>\n",
       "      <td>8.4</td>\n",
       "      <td>E</td>\n",
       "    </tr>\n",
       "    <tr>\n",
       "      <td>9</td>\n",
       "      <td>Duck Hunt</td>\n",
       "      <td>NES</td>\n",
       "      <td>1984</td>\n",
       "      <td>Shooter</td>\n",
       "      <td>26.93</td>\n",
       "      <td>0.63</td>\n",
       "      <td>0.28</td>\n",
       "      <td>0.47</td>\n",
       "      <td>tbd2</td>\n",
       "      <td>tbd2</td>\n",
       "      <td>tbd2</td>\n",
       "    </tr>\n",
       "    <tr>\n",
       "      <td>10</td>\n",
       "      <td>Nintendogs</td>\n",
       "      <td>DS</td>\n",
       "      <td>2005</td>\n",
       "      <td>Simulation</td>\n",
       "      <td>9.05</td>\n",
       "      <td>10.95</td>\n",
       "      <td>1.93</td>\n",
       "      <td>2.74</td>\n",
       "      <td>tbd2</td>\n",
       "      <td>tbd2</td>\n",
       "      <td>tbd2</td>\n",
       "    </tr>\n",
       "    <tr>\n",
       "      <td>11</td>\n",
       "      <td>Mario Kart DS</td>\n",
       "      <td>DS</td>\n",
       "      <td>2005</td>\n",
       "      <td>Racing</td>\n",
       "      <td>9.71</td>\n",
       "      <td>7.47</td>\n",
       "      <td>4.13</td>\n",
       "      <td>1.90</td>\n",
       "      <td>91.00</td>\n",
       "      <td>8.6</td>\n",
       "      <td>E</td>\n",
       "    </tr>\n",
       "    <tr>\n",
       "      <td>12</td>\n",
       "      <td>Pokemon Gold/Pokemon Silver</td>\n",
       "      <td>GB</td>\n",
       "      <td>1999</td>\n",
       "      <td>Role-Playing</td>\n",
       "      <td>9.00</td>\n",
       "      <td>6.18</td>\n",
       "      <td>7.20</td>\n",
       "      <td>0.71</td>\n",
       "      <td>tbd2</td>\n",
       "      <td>tbd2</td>\n",
       "      <td>tbd2</td>\n",
       "    </tr>\n",
       "    <tr>\n",
       "      <td>13</td>\n",
       "      <td>Wii Fit</td>\n",
       "      <td>Wii</td>\n",
       "      <td>2007</td>\n",
       "      <td>Sports</td>\n",
       "      <td>8.92</td>\n",
       "      <td>8.03</td>\n",
       "      <td>3.60</td>\n",
       "      <td>2.15</td>\n",
       "      <td>80.00</td>\n",
       "      <td>7.7</td>\n",
       "      <td>E</td>\n",
       "    </tr>\n",
       "    <tr>\n",
       "      <td>14</td>\n",
       "      <td>Kinect Adventures!</td>\n",
       "      <td>X360</td>\n",
       "      <td>2010</td>\n",
       "      <td>Misc</td>\n",
       "      <td>15.00</td>\n",
       "      <td>4.89</td>\n",
       "      <td>0.24</td>\n",
       "      <td>1.69</td>\n",
       "      <td>61.00</td>\n",
       "      <td>6.3</td>\n",
       "      <td>E</td>\n",
       "    </tr>\n",
       "  </tbody>\n",
       "</table>\n",
       "</div>"
      ],
      "text/plain": [
       "                           name platform  year_of_release         genre  \\\n",
       "0                    Wii Sports      Wii             2006        Sports   \n",
       "1             Super Mario Bros.      NES             1985      Platform   \n",
       "2                Mario Kart Wii      Wii             2008        Racing   \n",
       "3             Wii Sports Resort      Wii             2009        Sports   \n",
       "4      Pokemon Red/Pokemon Blue       GB             1996  Role-Playing   \n",
       "5                        Tetris       GB             1989        Puzzle   \n",
       "6         New Super Mario Bros.       DS             2006      Platform   \n",
       "7                      Wii Play      Wii             2006          Misc   \n",
       "8     New Super Mario Bros. Wii      Wii             2009      Platform   \n",
       "9                     Duck Hunt      NES             1984       Shooter   \n",
       "10                   Nintendogs       DS             2005    Simulation   \n",
       "11                Mario Kart DS       DS             2005        Racing   \n",
       "12  Pokemon Gold/Pokemon Silver       GB             1999  Role-Playing   \n",
       "13                      Wii Fit      Wii             2007        Sports   \n",
       "14           Kinect Adventures!     X360             2010          Misc   \n",
       "\n",
       "    na_sales  eu_sales  jp_sales  other_sales critic_score user_score rating  \n",
       "0      41.36     28.96      3.77         8.45        76.00          8      E  \n",
       "1      29.08      3.58      6.81         0.77         tbd2       tbd2   tbd2  \n",
       "2      15.68     12.76      3.79         3.29        82.00        8.3      E  \n",
       "3      15.61     10.93      3.28         2.95        80.00          8      E  \n",
       "4      11.27      8.89     10.22         1.00         tbd2       tbd2   tbd2  \n",
       "5      23.20      2.26      4.22         0.58         tbd2       tbd2   tbd2  \n",
       "6      11.28      9.14      6.50         2.88        89.00        8.5      E  \n",
       "7      13.96      9.18      2.93         2.84        58.00        6.6      E  \n",
       "8      14.44      6.94      4.70         2.24        87.00        8.4      E  \n",
       "9      26.93      0.63      0.28         0.47         tbd2       tbd2   tbd2  \n",
       "10      9.05     10.95      1.93         2.74         tbd2       tbd2   tbd2  \n",
       "11      9.71      7.47      4.13         1.90        91.00        8.6      E  \n",
       "12      9.00      6.18      7.20         0.71         tbd2       tbd2   tbd2  \n",
       "13      8.92      8.03      3.60         2.15        80.00        7.7      E  \n",
       "14     15.00      4.89      0.24         1.69        61.00        6.3      E  "
      ]
     },
     "execution_count": 81,
     "metadata": {},
     "output_type": "execute_result"
    }
   ],
   "source": [
    "df = df.fillna('tbd2')\n",
    "\n",
    "df.head(15)"
   ]
  },
  {
   "cell_type": "markdown",
   "metadata": {},
   "source": [
    "Посчитаем суммарные продажи во всех регионах и запишем их в отдельный столбец."
   ]
  },
  {
   "cell_type": "code",
   "execution_count": 82,
   "metadata": {},
   "outputs": [
    {
     "data": {
      "text/html": [
       "<div>\n",
       "<style scoped>\n",
       "    .dataframe tbody tr th:only-of-type {\n",
       "        vertical-align: middle;\n",
       "    }\n",
       "\n",
       "    .dataframe tbody tr th {\n",
       "        vertical-align: top;\n",
       "    }\n",
       "\n",
       "    .dataframe thead th {\n",
       "        text-align: right;\n",
       "    }\n",
       "</style>\n",
       "<table border=\"1\" class=\"dataframe\">\n",
       "  <thead>\n",
       "    <tr style=\"text-align: right;\">\n",
       "      <th></th>\n",
       "      <th>name</th>\n",
       "      <th>platform</th>\n",
       "      <th>year_of_release</th>\n",
       "      <th>genre</th>\n",
       "      <th>na_sales</th>\n",
       "      <th>eu_sales</th>\n",
       "      <th>jp_sales</th>\n",
       "      <th>other_sales</th>\n",
       "      <th>critic_score</th>\n",
       "      <th>user_score</th>\n",
       "      <th>rating</th>\n",
       "      <th>total_sales</th>\n",
       "    </tr>\n",
       "  </thead>\n",
       "  <tbody>\n",
       "    <tr>\n",
       "      <td>0</td>\n",
       "      <td>Wii Sports</td>\n",
       "      <td>Wii</td>\n",
       "      <td>2006</td>\n",
       "      <td>Sports</td>\n",
       "      <td>41.36</td>\n",
       "      <td>28.96</td>\n",
       "      <td>3.77</td>\n",
       "      <td>8.45</td>\n",
       "      <td>76.00</td>\n",
       "      <td>8</td>\n",
       "      <td>E</td>\n",
       "      <td>82.54</td>\n",
       "    </tr>\n",
       "    <tr>\n",
       "      <td>1</td>\n",
       "      <td>Super Mario Bros.</td>\n",
       "      <td>NES</td>\n",
       "      <td>1985</td>\n",
       "      <td>Platform</td>\n",
       "      <td>29.08</td>\n",
       "      <td>3.58</td>\n",
       "      <td>6.81</td>\n",
       "      <td>0.77</td>\n",
       "      <td>tbd2</td>\n",
       "      <td>tbd2</td>\n",
       "      <td>tbd2</td>\n",
       "      <td>40.24</td>\n",
       "    </tr>\n",
       "    <tr>\n",
       "      <td>2</td>\n",
       "      <td>Mario Kart Wii</td>\n",
       "      <td>Wii</td>\n",
       "      <td>2008</td>\n",
       "      <td>Racing</td>\n",
       "      <td>15.68</td>\n",
       "      <td>12.76</td>\n",
       "      <td>3.79</td>\n",
       "      <td>3.29</td>\n",
       "      <td>82.00</td>\n",
       "      <td>8.3</td>\n",
       "      <td>E</td>\n",
       "      <td>35.52</td>\n",
       "    </tr>\n",
       "    <tr>\n",
       "      <td>3</td>\n",
       "      <td>Wii Sports Resort</td>\n",
       "      <td>Wii</td>\n",
       "      <td>2009</td>\n",
       "      <td>Sports</td>\n",
       "      <td>15.61</td>\n",
       "      <td>10.93</td>\n",
       "      <td>3.28</td>\n",
       "      <td>2.95</td>\n",
       "      <td>80.00</td>\n",
       "      <td>8</td>\n",
       "      <td>E</td>\n",
       "      <td>32.77</td>\n",
       "    </tr>\n",
       "    <tr>\n",
       "      <td>4</td>\n",
       "      <td>Pokemon Red/Pokemon Blue</td>\n",
       "      <td>GB</td>\n",
       "      <td>1996</td>\n",
       "      <td>Role-Playing</td>\n",
       "      <td>11.27</td>\n",
       "      <td>8.89</td>\n",
       "      <td>10.22</td>\n",
       "      <td>1.00</td>\n",
       "      <td>tbd2</td>\n",
       "      <td>tbd2</td>\n",
       "      <td>tbd2</td>\n",
       "      <td>31.38</td>\n",
       "    </tr>\n",
       "  </tbody>\n",
       "</table>\n",
       "</div>"
      ],
      "text/plain": [
       "                       name platform  year_of_release         genre  na_sales  \\\n",
       "0                Wii Sports      Wii             2006        Sports     41.36   \n",
       "1         Super Mario Bros.      NES             1985      Platform     29.08   \n",
       "2            Mario Kart Wii      Wii             2008        Racing     15.68   \n",
       "3         Wii Sports Resort      Wii             2009        Sports     15.61   \n",
       "4  Pokemon Red/Pokemon Blue       GB             1996  Role-Playing     11.27   \n",
       "\n",
       "   eu_sales  jp_sales  other_sales critic_score user_score rating  total_sales  \n",
       "0     28.96      3.77         8.45        76.00          8      E        82.54  \n",
       "1      3.58      6.81         0.77         tbd2       tbd2   tbd2        40.24  \n",
       "2     12.76      3.79         3.29        82.00        8.3      E        35.52  \n",
       "3     10.93      3.28         2.95        80.00          8      E        32.77  \n",
       "4      8.89     10.22         1.00         tbd2       tbd2   tbd2        31.38  "
      ]
     },
     "execution_count": 82,
     "metadata": {},
     "output_type": "execute_result"
    }
   ],
   "source": [
    "df['total_sales'] = df['na_sales'] + df['eu_sales'] + df['jp_sales'] + df['other_sales']\n",
    "df.head()"
   ]
  },
  {
   "cell_type": "markdown",
   "metadata": {},
   "source": [
    "### Вывод"
   ]
  },
  {
   "cell_type": "markdown",
   "metadata": {},
   "source": [
    "Заменили названия столбцов, преобразовав их к нижнему регистру.\n",
    "\n",
    "Удалили 2 пропуска в колонках name и genre и пропуска в year_of_release.\n",
    "\n",
    "\n",
    "Заменили тип данных в year_of_release.\n",
    "\n",
    "'tbd' означает To Be Determined (будет определено) или To Be Decided (будет решено). Используется, если какая-то информация еще не определена или решение по вопросу не принято. Акроним служит для отметки неясностей или пропусков, которые надо заполнить. Привели все пропуски в рейтинге к 'tbd'. Причиной пропусков в рейтинге может быть присоединение отдельного файла по рейтингу, либо таких файлов было несколько (так могли появиться и NaN'ы, и 'tbd')\n",
    "\n",
    "Стоит ещё поменять тип в user score и critic score. Я это сделаю позже, когда отфильтрую tbd при рассмотрении диаграммы рассеяния и коэффициента корреляции, так как поменять тип столбца на этом этапе, при наличии tbd, не получилось :("
   ]
  },
  {
   "cell_type": "markdown",
   "metadata": {},
   "source": [
    "## Анализ данных"
   ]
  },
  {
   "cell_type": "raw",
   "metadata": {},
   "source": [
    "Посмотрим, сколько игр выпускалось в разные годы и как менялись продажи по платформам. Построим гистограмму и диаграмму размаха."
   ]
  },
  {
   "cell_type": "code",
   "execution_count": 83,
   "metadata": {},
   "outputs": [
    {
     "data": {
      "image/png": "[encoded data removed]",
      "text/plain": [
       "<Figure size 432x288 with 1 Axes>"
      ]
     },
     "metadata": {
      "needs_background": "light"
     },
     "output_type": "display_data"
    }
   ],
   "source": [
    "df['year_of_release'].hist(bins=37).set_title('Гистограмма выпущенных игр по годам')\n",
    "plt.xlabel('Года')\n",
    "plt.ylabel('Число выпущенных игр')\n",
    "plt.show()"
   ]
  },
  {
   "cell_type": "code",
   "execution_count": 84,
   "metadata": {},
   "outputs": [
    {
     "data": {
      "image/png": "[encoded data removed]",
      "text/plain": [
       "<Figure size 432x288 with 1 Axes>"
      ]
     },
     "metadata": {
      "needs_background": "light"
     },
     "output_type": "display_data"
    }
   ],
   "source": [
    "df.boxplot(column='year_of_release').set_title('Диаграмма размаха выпущенных игр по годам')\n",
    "plt.show()"
   ]
  },
  {
   "cell_type": "markdown",
   "metadata": {},
   "source": [
    "До 1995 года почти не было выпусков, а с 2002го произошёл резкий скачок. Пик - 2007-2011, затем идёт резкое снижение почти до уровня 2001го года и продолжается вплоть до 2016го. ***Таким образом, актуальный период - 2012-2016гг***. Посмотрим, какие платформы больше всего продавали. Составим таблицу с числом продаж и суммой. Отсортируем по сумме, так как цены на игры, вероятно, росли со временем, и это более значимый показатель, чем количество проданных игр. Посмотрим на продажи и на число проданных игр:"
   ]
  },
  {
   "cell_type": "code",
   "execution_count": 85,
   "metadata": {},
   "outputs": [],
   "source": [
    "df_platforms = df.pivot_table(index='platform',  \n",
    "                     values='total_sales', \n",
    "                     aggfunc=['count', 'sum']).reset_index().sort_values(by=('sum', 'total_sales'),ascending=False)"
   ]
  },
  {
   "cell_type": "code",
   "execution_count": 86,
   "metadata": {},
   "outputs": [
    {
     "data": {
      "image/png": "[encoded data removed]",
      "text/plain": [
       "<Figure size 1152x432 with 1 Axes>"
      ]
     },
     "metadata": {
      "needs_background": "light"
     },
     "output_type": "display_data"
    }
   ],
   "source": [
    "plt.figure(figsize=(16, 6)) \n",
    "platform_barplot = sns.barplot(x='platform', y=('sum', 'total_sales'), ci=None, data=df_platforms).set_title('Распределение продаж игр по платформам')\n",
    "plt.show()"
   ]
  },
  {
   "cell_type": "code",
   "execution_count": 87,
   "metadata": {},
   "outputs": [
    {
     "data": {
      "image/png": "[encoded data removed]",
      "text/plain": [
       "<Figure size 1152x432 with 1 Axes>"
      ]
     },
     "metadata": {
      "needs_background": "light"
     },
     "output_type": "display_data"
    }
   ],
   "source": [
    "plt.figure(figsize=(16, 6)) \n",
    "platform_barplot = sns.barplot(x='platform', y=('count', 'total_sales'), ci=None, data=df_platforms).set_title('Распределение продаж игр по платформам')\n",
    "plt.show()"
   ]
  },
  {
   "cell_type": "markdown",
   "metadata": {},
   "source": [
    "Выберем платформы, на которых больше всего продаж. Очевидные лидеры - PS2, X360, PS3, Wii, DS и PS. По данным с числа продаж выделяются ещё PSP, PC, GBA, XB, GC, 3DS, PSV и PS4. Предполагаю, эти платформы имели успех раньше, а потом перестали быть популярными. Проверим, в какие годы у этих платформ основное число продаж:"
   ]
  },
  {
   "cell_type": "code",
   "execution_count": 88,
   "metadata": {},
   "outputs": [],
   "source": [
    "df_platforms_years = df[df['year_of_release'] >= 2000].pivot_table(index='platform', columns='year_of_release',  \n",
    "                     values='total_sales', \n",
    "                     aggfunc=['sum']).fillna(0)\n",
    "\n",
    "df_platforms_years.columns = df_platforms_years.columns.get_level_values(1)"
   ]
  },
  {
   "cell_type": "code",
   "execution_count": 89,
   "metadata": {},
   "outputs": [
    {
     "data": {
      "image/png": "[encoded data removed]",
      "text/plain": [
       "<Figure size 1440x720 with 2 Axes>"
      ]
     },
     "metadata": {
      "needs_background": "light"
     },
     "output_type": "display_data"
    }
   ],
   "source": [
    "f, ax = plt.subplots(figsize=(20, 10))\n",
    "sns.heatmap(df_platforms_years, annot=True, cmap='Greys', fmt='.0f', linewidths=.5, ax=ax).set_title('Распределение продаж игр по платформам и годам')\n",
    "plt.show()"
   ]
  },
  {
   "cell_type": "markdown",
   "metadata": {},
   "source": [
    "На тепловой карте наглядно показывается жизнь платформ. В один период, например, в каждое десятилетие их было совсем не много, и почти каждая из них живёт 5-10 лет.\n",
    "\n",
    "Нам стоит взять те платформы, что актуальны сейчас (в 2016 году). Это PS4, XOne, 3DS, PC, PSV и WiiU.\n",
    "\n",
    "Похоже, что 3DS пришла на смену DS, PSV на смену PSP, WiiU на смену Wii, XOne на смену X360, а PS4 на смену PS3.\n",
    "\n",
    "Рассматриваемый период: 2012-2016.\n",
    "\n",
    "Отфильтруем данные по этим признакам."
   ]
  },
  {
   "cell_type": "code",
   "execution_count": 90,
   "metadata": {},
   "outputs": [
    {
     "data": {
      "text/html": [
       "<div>\n",
       "<style scoped>\n",
       "    .dataframe tbody tr th:only-of-type {\n",
       "        vertical-align: middle;\n",
       "    }\n",
       "\n",
       "    .dataframe tbody tr th {\n",
       "        vertical-align: top;\n",
       "    }\n",
       "\n",
       "    .dataframe thead th {\n",
       "        text-align: right;\n",
       "    }\n",
       "</style>\n",
       "<table border=\"1\" class=\"dataframe\">\n",
       "  <thead>\n",
       "    <tr style=\"text-align: right;\">\n",
       "      <th></th>\n",
       "      <th>name</th>\n",
       "      <th>platform</th>\n",
       "      <th>year_of_release</th>\n",
       "      <th>genre</th>\n",
       "      <th>na_sales</th>\n",
       "      <th>eu_sales</th>\n",
       "      <th>jp_sales</th>\n",
       "      <th>other_sales</th>\n",
       "      <th>critic_score</th>\n",
       "      <th>user_score</th>\n",
       "      <th>rating</th>\n",
       "      <th>total_sales</th>\n",
       "    </tr>\n",
       "  </thead>\n",
       "  <tbody>\n",
       "    <tr>\n",
       "      <td>31</td>\n",
       "      <td>Call of Duty: Black Ops 3</td>\n",
       "      <td>PS4</td>\n",
       "      <td>2015</td>\n",
       "      <td>Shooter</td>\n",
       "      <td>6.03</td>\n",
       "      <td>5.86</td>\n",
       "      <td>0.36</td>\n",
       "      <td>2.38</td>\n",
       "      <td>tbd2</td>\n",
       "      <td>tbd2</td>\n",
       "      <td>tbd2</td>\n",
       "      <td>14.63</td>\n",
       "    </tr>\n",
       "    <tr>\n",
       "      <td>33</td>\n",
       "      <td>Pokemon X/Pokemon Y</td>\n",
       "      <td>3DS</td>\n",
       "      <td>2013</td>\n",
       "      <td>Role-Playing</td>\n",
       "      <td>5.28</td>\n",
       "      <td>4.19</td>\n",
       "      <td>4.35</td>\n",
       "      <td>0.78</td>\n",
       "      <td>tbd2</td>\n",
       "      <td>tbd2</td>\n",
       "      <td>tbd2</td>\n",
       "      <td>14.60</td>\n",
       "    </tr>\n",
       "    <tr>\n",
       "      <td>42</td>\n",
       "      <td>Grand Theft Auto V</td>\n",
       "      <td>PS4</td>\n",
       "      <td>2014</td>\n",
       "      <td>Action</td>\n",
       "      <td>3.96</td>\n",
       "      <td>6.31</td>\n",
       "      <td>0.38</td>\n",
       "      <td>1.97</td>\n",
       "      <td>97.00</td>\n",
       "      <td>8.3</td>\n",
       "      <td>M</td>\n",
       "      <td>12.62</td>\n",
       "    </tr>\n",
       "    <tr>\n",
       "      <td>47</td>\n",
       "      <td>Pokemon Omega Ruby/Pokemon Alpha Sapphire</td>\n",
       "      <td>3DS</td>\n",
       "      <td>2014</td>\n",
       "      <td>Role-Playing</td>\n",
       "      <td>4.35</td>\n",
       "      <td>3.49</td>\n",
       "      <td>3.10</td>\n",
       "      <td>0.74</td>\n",
       "      <td>tbd2</td>\n",
       "      <td>tbd2</td>\n",
       "      <td>tbd2</td>\n",
       "      <td>11.68</td>\n",
       "    </tr>\n",
       "    <tr>\n",
       "      <td>62</td>\n",
       "      <td>New Super Mario Bros. 2</td>\n",
       "      <td>3DS</td>\n",
       "      <td>2012</td>\n",
       "      <td>Platform</td>\n",
       "      <td>3.66</td>\n",
       "      <td>3.14</td>\n",
       "      <td>2.47</td>\n",
       "      <td>0.63</td>\n",
       "      <td>78.00</td>\n",
       "      <td>7.2</td>\n",
       "      <td>E</td>\n",
       "      <td>9.90</td>\n",
       "    </tr>\n",
       "  </tbody>\n",
       "</table>\n",
       "</div>"
      ],
      "text/plain": [
       "                                         name platform  year_of_release  \\\n",
       "31                  Call of Duty: Black Ops 3      PS4             2015   \n",
       "33                        Pokemon X/Pokemon Y      3DS             2013   \n",
       "42                         Grand Theft Auto V      PS4             2014   \n",
       "47  Pokemon Omega Ruby/Pokemon Alpha Sapphire      3DS             2014   \n",
       "62                    New Super Mario Bros. 2      3DS             2012   \n",
       "\n",
       "           genre  na_sales  eu_sales  jp_sales  other_sales critic_score  \\\n",
       "31       Shooter      6.03      5.86      0.36         2.38         tbd2   \n",
       "33  Role-Playing      5.28      4.19      4.35         0.78         tbd2   \n",
       "42        Action      3.96      6.31      0.38         1.97        97.00   \n",
       "47  Role-Playing      4.35      3.49      3.10         0.74         tbd2   \n",
       "62      Platform      3.66      3.14      2.47         0.63        78.00   \n",
       "\n",
       "   user_score rating  total_sales  \n",
       "31       tbd2   tbd2        14.63  \n",
       "33       tbd2   tbd2        14.60  \n",
       "42        8.3      M        12.62  \n",
       "47       tbd2   tbd2        11.68  \n",
       "62        7.2      E         9.90  "
      ]
     },
     "metadata": {},
     "output_type": "display_data"
    },
    {
     "name": "stdout",
     "output_type": "stream",
     "text": [
      "Всего строк: 1843\n"
     ]
    }
   ],
   "source": [
    "df_filtered = df.query('year_of_release >= 2012')\n",
    "#platforms = ['X360', 'PS3', 'Wii', 'XOne', 'PS4', 'WiiU', '3DS', 'PSV', 'PC']\n",
    "\n",
    "df_filtered = df_filtered.query('platform == \"XOne\" or platform == \"PS4\" or platform == \"WiiU\" or platform == \"3DS\" or platform == \"PSV\" or platform == \"PC\"')\n",
    "display(df_filtered.head())\n",
    "print('Всего строк:', (len(df_filtered)))"
   ]
  },
  {
   "cell_type": "markdown",
   "metadata": {},
   "source": [
    "Посмотрим, сколько строк без рейтинга осталось"
   ]
  },
  {
   "cell_type": "code",
   "execution_count": 91,
   "metadata": {},
   "outputs": [
    {
     "name": "stdout",
     "output_type": "stream",
     "text": [
      "Всего строк без рейтинга: 976\n"
     ]
    }
   ],
   "source": [
    "print('Всего строк без рейтинга:', len(df_filtered.query('critic_score == \"tbd\" or user_score == \"tbd\" or rating == \"tbd\" or critic_score == \"tbd2\" or user_score == \"tbd2\" or rating == \"tbd2\"')))"
   ]
  },
  {
   "cell_type": "markdown",
   "metadata": {},
   "source": [
    "Много, примерно половина. По-прежнему не будем их заполнять. Посмотрим на тепловую карту для актуального периода и отобранных платформ."
   ]
  },
  {
   "cell_type": "code",
   "execution_count": 92,
   "metadata": {},
   "outputs": [
    {
     "data": {
      "image/png": "[encoded data removed]",
      "text/plain": [
       "<Figure size 1440x720 with 2 Axes>"
      ]
     },
     "metadata": {
      "needs_background": "light"
     },
     "output_type": "display_data"
    }
   ],
   "source": [
    "df_platforms_years_filtered = df_filtered.pivot_table(index='platform', columns='year_of_release',  \n",
    "                     values='total_sales', \n",
    "                     aggfunc=['sum']).fillna(0)\n",
    "\n",
    "df_platforms_years_filtered.columns = df_platforms_years_filtered.columns.get_level_values(1)\n",
    "\n",
    "f, ax = plt.subplots(figsize=(20, 10))\n",
    "sns.heatmap(df_platforms_years_filtered, annot=True, cmap='Greys', fmt='.0f', linewidths=.5, ax=ax).set_title('Распределение продаж игр по платформам и годам для актуального периода и отобранных платформ')\n",
    "plt.show()"
   ]
  },
  {
   "cell_type": "markdown",
   "metadata": {},
   "source": [
    "В 2015 году в топе были PS4 и XOne. Также видно, что продажи этих платформ в 2015 году выросли по сравнению с 2014. Ближайшие их конкуренты - 3DS и WiiU, но у них продажи падают, и они не так высоки в сравнении с топовыми PS4 и XOne.\n",
    "\n",
    "Построим график «ящик с усами» по глобальным продажам игр в разбивке по платформам. Сделаем 2 варианта: для 2005-2015 гг и для 2016"
   ]
  },
  {
   "cell_type": "code",
   "execution_count": 93,
   "metadata": {},
   "outputs": [
    {
     "data": {
      "image/png": "[encoded data removed]",
      "text/plain": [
       "<Figure size 1296x432 with 1 Axes>"
      ]
     },
     "metadata": {
      "needs_background": "light"
     },
     "output_type": "display_data"
    }
   ],
   "source": [
    "df_filtered[(df_filtered['year_of_release'] >= 2012) & (df_filtered['year_of_release'] <= 2015)].boxplot(column='total_sales', by='platform', figsize=(18,6))\n",
    "plt.ylim(0, 15)\n",
    "plt.show()"
   ]
  },
  {
   "cell_type": "code",
   "execution_count": 94,
   "metadata": {
    "scrolled": false
   },
   "outputs": [
    {
     "data": {
      "image/png": "[encoded data removed]",
      "text/plain": [
       "<Figure size 1296x432 with 1 Axes>"
      ]
     },
     "metadata": {
      "needs_background": "light"
     },
     "output_type": "display_data"
    }
   ],
   "source": [
    "df_filtered[(df_filtered['year_of_release'] == 2016)].boxplot(column='total_sales', by='platform', figsize=(18,6))\n",
    "plt.ylim(0, 1)\n",
    "plt.show()"
   ]
  },
  {
   "cell_type": "markdown",
   "metadata": {},
   "source": [
    "Заметно, что для PS4 и XOne большой размах по продажам. А медианные значения у топовых платформ в 2005-2016 не сильно отличались. В 2016 WiiU вырвалась вперед по медиане.\n",
    "\n",
    "Посмотрим, как влияют на продажи внутри одной популярной платформы отзывы пользователей и критиков. Построим диаграммы рассеяния и посчитаем корреляцию между отзывами пользователей и критиков и продажами для платформы PS4."
   ]
  },
  {
   "cell_type": "code",
   "execution_count": 95,
   "metadata": {},
   "outputs": [
    {
     "data": {
      "text/html": [
       "<div>\n",
       "<style scoped>\n",
       "    .dataframe tbody tr th:only-of-type {\n",
       "        vertical-align: middle;\n",
       "    }\n",
       "\n",
       "    .dataframe tbody tr th {\n",
       "        vertical-align: top;\n",
       "    }\n",
       "\n",
       "    .dataframe thead th {\n",
       "        text-align: right;\n",
       "    }\n",
       "</style>\n",
       "<table border=\"1\" class=\"dataframe\">\n",
       "  <thead>\n",
       "    <tr style=\"text-align: right;\">\n",
       "      <th></th>\n",
       "      <th>name</th>\n",
       "      <th>platform</th>\n",
       "      <th>year_of_release</th>\n",
       "      <th>genre</th>\n",
       "      <th>na_sales</th>\n",
       "      <th>eu_sales</th>\n",
       "      <th>jp_sales</th>\n",
       "      <th>other_sales</th>\n",
       "      <th>critic_score</th>\n",
       "      <th>user_score</th>\n",
       "      <th>rating</th>\n",
       "      <th>total_sales</th>\n",
       "    </tr>\n",
       "  </thead>\n",
       "  <tbody>\n",
       "    <tr>\n",
       "      <td>31</td>\n",
       "      <td>Call of Duty: Black Ops 3</td>\n",
       "      <td>PS4</td>\n",
       "      <td>2015</td>\n",
       "      <td>Shooter</td>\n",
       "      <td>6.03</td>\n",
       "      <td>5.86</td>\n",
       "      <td>0.36</td>\n",
       "      <td>2.38</td>\n",
       "      <td>tbd2</td>\n",
       "      <td>tbd2</td>\n",
       "      <td>tbd2</td>\n",
       "      <td>14.63</td>\n",
       "    </tr>\n",
       "    <tr>\n",
       "      <td>33</td>\n",
       "      <td>Pokemon X/Pokemon Y</td>\n",
       "      <td>3DS</td>\n",
       "      <td>2013</td>\n",
       "      <td>Role-Playing</td>\n",
       "      <td>5.28</td>\n",
       "      <td>4.19</td>\n",
       "      <td>4.35</td>\n",
       "      <td>0.78</td>\n",
       "      <td>tbd2</td>\n",
       "      <td>tbd2</td>\n",
       "      <td>tbd2</td>\n",
       "      <td>14.60</td>\n",
       "    </tr>\n",
       "    <tr>\n",
       "      <td>42</td>\n",
       "      <td>Grand Theft Auto V</td>\n",
       "      <td>PS4</td>\n",
       "      <td>2014</td>\n",
       "      <td>Action</td>\n",
       "      <td>3.96</td>\n",
       "      <td>6.31</td>\n",
       "      <td>0.38</td>\n",
       "      <td>1.97</td>\n",
       "      <td>97.00</td>\n",
       "      <td>8.3</td>\n",
       "      <td>M</td>\n",
       "      <td>12.62</td>\n",
       "    </tr>\n",
       "    <tr>\n",
       "      <td>47</td>\n",
       "      <td>Pokemon Omega Ruby/Pokemon Alpha Sapphire</td>\n",
       "      <td>3DS</td>\n",
       "      <td>2014</td>\n",
       "      <td>Role-Playing</td>\n",
       "      <td>4.35</td>\n",
       "      <td>3.49</td>\n",
       "      <td>3.10</td>\n",
       "      <td>0.74</td>\n",
       "      <td>tbd2</td>\n",
       "      <td>tbd2</td>\n",
       "      <td>tbd2</td>\n",
       "      <td>11.68</td>\n",
       "    </tr>\n",
       "    <tr>\n",
       "      <td>62</td>\n",
       "      <td>New Super Mario Bros. 2</td>\n",
       "      <td>3DS</td>\n",
       "      <td>2012</td>\n",
       "      <td>Platform</td>\n",
       "      <td>3.66</td>\n",
       "      <td>3.14</td>\n",
       "      <td>2.47</td>\n",
       "      <td>0.63</td>\n",
       "      <td>78.00</td>\n",
       "      <td>7.2</td>\n",
       "      <td>E</td>\n",
       "      <td>9.90</td>\n",
       "    </tr>\n",
       "    <tr>\n",
       "      <td>73</td>\n",
       "      <td>Animal Crossing: New Leaf</td>\n",
       "      <td>3DS</td>\n",
       "      <td>2012</td>\n",
       "      <td>Simulation</td>\n",
       "      <td>2.03</td>\n",
       "      <td>2.36</td>\n",
       "      <td>4.39</td>\n",
       "      <td>0.39</td>\n",
       "      <td>88.00</td>\n",
       "      <td>8.7</td>\n",
       "      <td>E</td>\n",
       "      <td>9.17</td>\n",
       "    </tr>\n",
       "    <tr>\n",
       "      <td>77</td>\n",
       "      <td>FIFA 16</td>\n",
       "      <td>PS4</td>\n",
       "      <td>2015</td>\n",
       "      <td>Sports</td>\n",
       "      <td>1.12</td>\n",
       "      <td>6.12</td>\n",
       "      <td>0.06</td>\n",
       "      <td>1.28</td>\n",
       "      <td>82.00</td>\n",
       "      <td>4.3</td>\n",
       "      <td>E</td>\n",
       "      <td>8.58</td>\n",
       "    </tr>\n",
       "    <tr>\n",
       "      <td>87</td>\n",
       "      <td>Star Wars Battlefront (2015)</td>\n",
       "      <td>PS4</td>\n",
       "      <td>2015</td>\n",
       "      <td>Shooter</td>\n",
       "      <td>2.99</td>\n",
       "      <td>3.49</td>\n",
       "      <td>0.22</td>\n",
       "      <td>1.28</td>\n",
       "      <td>tbd2</td>\n",
       "      <td>tbd2</td>\n",
       "      <td>tbd2</td>\n",
       "      <td>7.98</td>\n",
       "    </tr>\n",
       "    <tr>\n",
       "      <td>92</td>\n",
       "      <td>Call of Duty: Advanced Warfare</td>\n",
       "      <td>PS4</td>\n",
       "      <td>2014</td>\n",
       "      <td>Shooter</td>\n",
       "      <td>2.81</td>\n",
       "      <td>3.48</td>\n",
       "      <td>0.14</td>\n",
       "      <td>1.23</td>\n",
       "      <td>83.00</td>\n",
       "      <td>5.7</td>\n",
       "      <td>M</td>\n",
       "      <td>7.66</td>\n",
       "    </tr>\n",
       "    <tr>\n",
       "      <td>94</td>\n",
       "      <td>FIFA 17</td>\n",
       "      <td>PS4</td>\n",
       "      <td>2016</td>\n",
       "      <td>Sports</td>\n",
       "      <td>0.66</td>\n",
       "      <td>5.75</td>\n",
       "      <td>0.08</td>\n",
       "      <td>1.11</td>\n",
       "      <td>85.00</td>\n",
       "      <td>5</td>\n",
       "      <td>E</td>\n",
       "      <td>7.60</td>\n",
       "    </tr>\n",
       "    <tr>\n",
       "      <td>96</td>\n",
       "      <td>Super Smash Bros. for Wii U and 3DS</td>\n",
       "      <td>3DS</td>\n",
       "      <td>2014</td>\n",
       "      <td>Fighting</td>\n",
       "      <td>3.27</td>\n",
       "      <td>1.37</td>\n",
       "      <td>2.43</td>\n",
       "      <td>0.48</td>\n",
       "      <td>tbd2</td>\n",
       "      <td>tbd2</td>\n",
       "      <td>tbd2</td>\n",
       "      <td>7.55</td>\n",
       "    </tr>\n",
       "    <tr>\n",
       "      <td>99</td>\n",
       "      <td>Call of Duty: Black Ops 3</td>\n",
       "      <td>XOne</td>\n",
       "      <td>2015</td>\n",
       "      <td>Shooter</td>\n",
       "      <td>4.59</td>\n",
       "      <td>2.11</td>\n",
       "      <td>0.01</td>\n",
       "      <td>0.68</td>\n",
       "      <td>tbd2</td>\n",
       "      <td>tbd2</td>\n",
       "      <td>tbd2</td>\n",
       "      <td>7.39</td>\n",
       "    </tr>\n",
       "    <tr>\n",
       "      <td>105</td>\n",
       "      <td>Fallout 4</td>\n",
       "      <td>PS4</td>\n",
       "      <td>2015</td>\n",
       "      <td>Role-Playing</td>\n",
       "      <td>2.53</td>\n",
       "      <td>3.27</td>\n",
       "      <td>0.24</td>\n",
       "      <td>1.13</td>\n",
       "      <td>87.00</td>\n",
       "      <td>6.5</td>\n",
       "      <td>M</td>\n",
       "      <td>7.17</td>\n",
       "    </tr>\n",
       "    <tr>\n",
       "      <td>108</td>\n",
       "      <td>Pokemon Sun/Moon</td>\n",
       "      <td>3DS</td>\n",
       "      <td>2016</td>\n",
       "      <td>Role-Playing</td>\n",
       "      <td>2.98</td>\n",
       "      <td>1.45</td>\n",
       "      <td>2.26</td>\n",
       "      <td>0.45</td>\n",
       "      <td>tbd2</td>\n",
       "      <td>tbd2</td>\n",
       "      <td>tbd2</td>\n",
       "      <td>7.14</td>\n",
       "    </tr>\n",
       "    <tr>\n",
       "      <td>110</td>\n",
       "      <td>Mario Kart 8</td>\n",
       "      <td>WiiU</td>\n",
       "      <td>2014</td>\n",
       "      <td>Racing</td>\n",
       "      <td>3.15</td>\n",
       "      <td>2.15</td>\n",
       "      <td>1.28</td>\n",
       "      <td>0.51</td>\n",
       "      <td>88.00</td>\n",
       "      <td>9.1</td>\n",
       "      <td>E</td>\n",
       "      <td>7.09</td>\n",
       "    </tr>\n",
       "    <tr>\n",
       "      <td>143</td>\n",
       "      <td>FIFA 15</td>\n",
       "      <td>PS4</td>\n",
       "      <td>2014</td>\n",
       "      <td>Sports</td>\n",
       "      <td>0.80</td>\n",
       "      <td>4.33</td>\n",
       "      <td>0.05</td>\n",
       "      <td>0.90</td>\n",
       "      <td>82.00</td>\n",
       "      <td>5.7</td>\n",
       "      <td>E</td>\n",
       "      <td>6.08</td>\n",
       "    </tr>\n",
       "  </tbody>\n",
       "</table>\n",
       "</div>"
      ],
      "text/plain": [
       "                                          name platform  year_of_release  \\\n",
       "31                   Call of Duty: Black Ops 3      PS4             2015   \n",
       "33                         Pokemon X/Pokemon Y      3DS             2013   \n",
       "42                          Grand Theft Auto V      PS4             2014   \n",
       "47   Pokemon Omega Ruby/Pokemon Alpha Sapphire      3DS             2014   \n",
       "62                     New Super Mario Bros. 2      3DS             2012   \n",
       "73                   Animal Crossing: New Leaf      3DS             2012   \n",
       "77                                     FIFA 16      PS4             2015   \n",
       "87                Star Wars Battlefront (2015)      PS4             2015   \n",
       "92              Call of Duty: Advanced Warfare      PS4             2014   \n",
       "94                                     FIFA 17      PS4             2016   \n",
       "96         Super Smash Bros. for Wii U and 3DS      3DS             2014   \n",
       "99                   Call of Duty: Black Ops 3     XOne             2015   \n",
       "105                                  Fallout 4      PS4             2015   \n",
       "108                           Pokemon Sun/Moon      3DS             2016   \n",
       "110                               Mario Kart 8     WiiU             2014   \n",
       "143                                    FIFA 15      PS4             2014   \n",
       "\n",
       "            genre  na_sales  eu_sales  jp_sales  other_sales critic_score  \\\n",
       "31        Shooter      6.03      5.86      0.36         2.38         tbd2   \n",
       "33   Role-Playing      5.28      4.19      4.35         0.78         tbd2   \n",
       "42         Action      3.96      6.31      0.38         1.97        97.00   \n",
       "47   Role-Playing      4.35      3.49      3.10         0.74         tbd2   \n",
       "62       Platform      3.66      3.14      2.47         0.63        78.00   \n",
       "73     Simulation      2.03      2.36      4.39         0.39        88.00   \n",
       "77         Sports      1.12      6.12      0.06         1.28        82.00   \n",
       "87        Shooter      2.99      3.49      0.22         1.28         tbd2   \n",
       "92        Shooter      2.81      3.48      0.14         1.23        83.00   \n",
       "94         Sports      0.66      5.75      0.08         1.11        85.00   \n",
       "96       Fighting      3.27      1.37      2.43         0.48         tbd2   \n",
       "99        Shooter      4.59      2.11      0.01         0.68         tbd2   \n",
       "105  Role-Playing      2.53      3.27      0.24         1.13        87.00   \n",
       "108  Role-Playing      2.98      1.45      2.26         0.45         tbd2   \n",
       "110        Racing      3.15      2.15      1.28         0.51        88.00   \n",
       "143        Sports      0.80      4.33      0.05         0.90        82.00   \n",
       "\n",
       "    user_score rating  total_sales  \n",
       "31        tbd2   tbd2        14.63  \n",
       "33        tbd2   tbd2        14.60  \n",
       "42         8.3      M        12.62  \n",
       "47        tbd2   tbd2        11.68  \n",
       "62         7.2      E         9.90  \n",
       "73         8.7      E         9.17  \n",
       "77         4.3      E         8.58  \n",
       "87        tbd2   tbd2         7.98  \n",
       "92         5.7      M         7.66  \n",
       "94           5      E         7.60  \n",
       "96        tbd2   tbd2         7.55  \n",
       "99        tbd2   tbd2         7.39  \n",
       "105        6.5      M         7.17  \n",
       "108       tbd2   tbd2         7.14  \n",
       "110        9.1      E         7.09  \n",
       "143        5.7      E         6.08  "
      ]
     },
     "metadata": {},
     "output_type": "display_data"
    }
   ],
   "source": [
    "display(df_filtered[df_filtered['total_sales'] > 6].sort_values(by='total_sales', ascending=False).head(20))"
   ]
  },
  {
   "cell_type": "code",
   "execution_count": 98,
   "metadata": {},
   "outputs": [
    {
     "data": {
      "image/png": "[encoded data removed]",
      "text/plain": [
       "<Figure size 1296x432 with 1 Axes>"
      ]
     },
     "metadata": {
      "needs_background": "light"
     },
     "output_type": "display_data"
    },
    {
     "name": "stdout",
     "output_type": "stream",
     "text": [
      "Коэффициент корреляции: -0.03\n"
     ]
    }
   ],
   "source": [
    "def scatter_and_corr(parameter_1, parameter_2, platform):\n",
    "    \n",
    "    # Функция строит диаграмму рассеяния и считает коэффициент корреляции двух параметров\n",
    "    \n",
    "    # Фильртуем таблицу, оставляя нужную платформу и удаляя 'tbd'\n",
    "    df_short = df_filtered[(df_filtered['platform'] == platform) & (df_filtered[parameter_1] != 'tbd') & (df_filtered[parameter_1] != 'tbd2')]\n",
    "    # Меняем тип дпнных\n",
    "    df_short[parameter_1] = df_short[parameter_1].astype(float)\n",
    "    \n",
    "    fig, ax = plt.subplots(figsize=(18, 6))\n",
    "    ax.scatter(x = df_short[parameter_1], y = df_short[parameter_2])\n",
    "    plt.xlabel(parameter_1)\n",
    "    plt.ylabel(parameter_2)\n",
    "    plt.title('Диаграмма рассеяния')\n",
    "    plt.show()\n",
    "    \n",
    "    print('Коэффициент корреляции: {:.2f}'.format(df_short[parameter_1].corr(df_short[parameter_2])))\n",
    "    \n",
    "scatter_and_corr('user_score', 'total_sales', 'PS4')"
   ]
  },
  {
   "cell_type": "markdown",
   "metadata": {},
   "source": [
    "Корреляция почти нулевая. \n",
    "Больше всего продаж (и больших продаж) сконцентрировано выше оценки 5.5, однако, сильной зависимости от оценки нет.\n",
    "\n",
    "Посмотрим, как влияет мнение критиков:"
   ]
  },
  {
   "cell_type": "code",
   "execution_count": 99,
   "metadata": {},
   "outputs": [
    {
     "data": {
      "image/png": "[encoded data removed]",
      "text/plain": [
       "<Figure size 1296x432 with 1 Axes>"
      ]
     },
     "metadata": {
      "needs_background": "light"
     },
     "output_type": "display_data"
    },
    {
     "name": "stdout",
     "output_type": "stream",
     "text": [
      "Коэффициент корреляции: 0.41\n"
     ]
    }
   ],
   "source": [
    "scatter_and_corr('critic_score', 'total_sales', 'PS4')"
   ]
  },
  {
   "cell_type": "markdown",
   "metadata": {},
   "source": [
    "Здесь связь наглядна и сильна. Большие продажи появляются, когда рейтинг становится выше 60, и становятся всё больше по мере роста рейтинга.\n",
    "\n",
    "Посмотрим ту же зависимость продаж от рейтингов для всех платформ."
   ]
  },
  {
   "cell_type": "code",
   "execution_count": 105,
   "metadata": {},
   "outputs": [
    {
     "data": {
      "image/png": "[encoded data removed]",
      "text/plain": [
       "<Figure size 1296x432 with 1 Axes>"
      ]
     },
     "metadata": {
      "needs_background": "light"
     },
     "output_type": "display_data"
    },
    {
     "name": "stdout",
     "output_type": "stream",
     "text": [
      "Коэффициент корреляции: 0.02\n"
     ]
    }
   ],
   "source": [
    "def scatter_and_corr_all(parameter_1, parameter_2):    \n",
    "    \n",
    "    # Функция строит диаграмму рассеяния и считает коэффициент корреляции двух параметров для всех платформ\n",
    "    df_short = df_filtered[(df_filtered[parameter_1] != 'tbd') & (df_filtered[parameter_1] != 'tbd2')]\n",
    "    # Меняем тип дпнных\n",
    "    df_short[parameter_1] = df_short[parameter_1].astype(float)\n",
    "    \n",
    "    fig, ax = plt.subplots(figsize=(18, 6))\n",
    "    ax.scatter(x = df_short[parameter_1], y = df_short[parameter_2])\n",
    "    plt.xlabel(parameter_1)\n",
    "    plt.ylabel(parameter_2)\n",
    "    plt.title('Диаграмма рассеяния')\n",
    "    plt.show()\n",
    "    \n",
    "    print('Коэффициент корреляции: {:.2f}'.format(df_short[parameter_1].corr(df_short[parameter_2])))\n",
    "\n",
    "scatter_and_corr_all('user_score', 'total_sales')"
   ]
  },
  {
   "cell_type": "code",
   "execution_count": 106,
   "metadata": {},
   "outputs": [
    {
     "data": {
      "image/png": "[encoded data removed]",
      "text/plain": [
       "<Figure size 1296x432 with 1 Axes>"
      ]
     },
     "metadata": {
      "needs_background": "light"
     },
     "output_type": "display_data"
    },
    {
     "name": "stdout",
     "output_type": "stream",
     "text": [
      "Коэффициент корреляции: 0.31\n"
     ]
    }
   ],
   "source": [
    "scatter_and_corr_all('critic_score', 'total_sales')"
   ]
  },
  {
   "cell_type": "markdown",
   "metadata": {},
   "source": [
    "Получили, что корреляция с рейтингом пользователей почти нулевая, а корреляция с рейтингом критиков уменьшилась. \n",
    "Пользователи популярной платформы PS4 больше внимания обращают на рейтинг критиков.\n",
    "\n",
    "Посмотрим на общее распределение игр по жанрам:\n",
    "- Что можно сказать о самых прибыльных жанрах? \n",
    "- Выделяются ли жанры с высокими и низкими продажами?"
   ]
  },
  {
   "cell_type": "code",
   "execution_count": 107,
   "metadata": {
    "scrolled": false
   },
   "outputs": [
    {
     "data": {
      "image/png": "[encoded data removed]",
      "text/plain": [
       "<Figure size 1152x432 with 1 Axes>"
      ]
     },
     "metadata": {
      "needs_background": "light"
     },
     "output_type": "display_data"
    }
   ],
   "source": [
    "df_filtered_genres = df_filtered.pivot_table(index='genre', values='total_sales', aggfunc='sum').reset_index().sort_values(by='total_sales',ascending=False)\n",
    "\n",
    "plt.figure(figsize=(16, 6)) \n",
    "platform_barplot = sns.barplot(x='genre', y='total_sales', ci=None, data=df_filtered_genres).set_title('Распределение игр по жанрам')\n",
    "plt.show()"
   ]
  },
  {
   "cell_type": "code",
   "execution_count": 111,
   "metadata": {},
   "outputs": [
    {
     "data": {
      "image/png": "[encoded data removed]",
      "text/plain": [
       "<Figure size 1152x432 with 1 Axes>"
      ]
     },
     "metadata": {
      "needs_background": "light"
     },
     "output_type": "display_data"
    }
   ],
   "source": [
    "df_filtered_genres_mean = df_filtered.pivot_table(index='genre', values='total_sales', aggfunc='mean').reset_index().sort_values(by='total_sales',ascending=False)\n",
    "\n",
    "plt.figure(figsize=(16, 6)) \n",
    "platform_barplot = sns.barplot(x='genre', y='total_sales', ci=None, data=df_filtered_genres_mean).set_title('Распределение игр по жанрам')\n",
    "plt.show()"
   ]
  },
  {
   "cell_type": "code",
   "execution_count": 112,
   "metadata": {},
   "outputs": [
    {
     "data": {
      "image/png": "[encoded data removed]",
      "text/plain": [
       "<Figure size 1152x432 with 1 Axes>"
      ]
     },
     "metadata": {
      "needs_background": "light"
     },
     "output_type": "display_data"
    }
   ],
   "source": [
    "df_filtered_genres_mean = df_filtered.pivot_table(index='genre', values='total_sales', aggfunc='median').reset_index().sort_values(by='total_sales',ascending=False)\n",
    "\n",
    "plt.figure(figsize=(16, 6)) \n",
    "platform_barplot = sns.barplot(x='genre', y='total_sales', ci=None, data=df_filtered_genres_mean).set_title('Распределение игр по жанрам')\n",
    "plt.show()"
   ]
  },
  {
   "cell_type": "markdown",
   "metadata": {},
   "source": [
    "Наиболее популярны игры жанра Action, следом идут Shooter и Sports с примерно равной суммой продаж. Наименее популярны Puzzle, Strategy и Adventure. Можно популярные жанры отнести к категории \"игр на реакцию\", а непопулярные - к \"играм на подумать\". \n",
    "\n",
    "Интересно посмотреть, а как дела у стабильно присутствующего на рынке PC:"
   ]
  },
  {
   "cell_type": "code",
   "execution_count": 115,
   "metadata": {},
   "outputs": [
    {
     "data": {
      "image/png": "[encoded data removed]",
      "text/plain": [
       "<Figure size 1152x432 with 1 Axes>"
      ]
     },
     "metadata": {
      "needs_background": "light"
     },
     "output_type": "display_data"
    }
   ],
   "source": [
    "df_filtered_genres = df_filtered[df_filtered['platform'] == 'PC'].pivot_table(index='genre', values='total_sales', aggfunc='sum').reset_index().sort_values(by='total_sales',ascending=False)\n",
    "\n",
    "plt.figure(figsize=(16, 6)) \n",
    "platform_barplot = sns.barplot(x='genre', y='total_sales', ci=None, data=df_filtered_genres).set_title('Распределение игр по жанрам')\n",
    "plt.show()"
   ]
  },
  {
   "cell_type": "markdown",
   "metadata": {},
   "source": [
    "Распределение прилично поменялось. Ролевые игры вышли на второе место (наверняка в них удобнее играть с компа, всё же). \n",
    "\n",
    "И стратегии и симуляции перестали быть непопулярными. То есть, в целом они не приносят так много денег, как экшн, но своя аудитория у них стабильно есть.\n",
    "\n",
    "Посмотрим, может быть, у пользователей разных платформ разные предпочтения по жанрам:"
   ]
  },
  {
   "cell_type": "code",
   "execution_count": 114,
   "metadata": {},
   "outputs": [
    {
     "data": {
      "image/png": "[encoded data removed]",
      "text/plain": [
       "<Figure size 1152x432 with 1 Axes>"
      ]
     },
     "metadata": {
      "needs_background": "light"
     },
     "output_type": "display_data"
    }
   ],
   "source": [
    "df_filtered_genres = df_filtered[df_filtered['platform'] == 'PC'].pivot_table(index='genre', values='total_sales', aggfunc='mean').reset_index().sort_values(by='total_sales',ascending=False)\n",
    "\n",
    "plt.figure(figsize=(16, 6)) \n",
    "platform_barplot = sns.barplot(x='genre', y='total_sales', ci=None, data=df_filtered_genres).set_title('Распределение игр по жанрам')\n",
    "plt.show()"
   ]
  },
  {
   "cell_type": "markdown",
   "metadata": {},
   "source": [
    "<div class=\"alert alert-block alert-info\"> \n",
    "    \n",
    "Теперь уже лидируют ролевые игры и симуляции.\n",
    "</div>"
   ]
  },
  {
   "cell_type": "code",
   "execution_count": 117,
   "metadata": {},
   "outputs": [
    {
     "data": {
      "image/png": "[encoded data removed]",
      "text/plain": [
       "<Figure size 1440x720 with 2 Axes>"
      ]
     },
     "metadata": {
      "needs_background": "light"
     },
     "output_type": "display_data"
    }
   ],
   "source": [
    "df_platforms_genres = df_filtered.pivot_table(index='platform', columns='genre',  \n",
    "                     values='total_sales', \n",
    "                     aggfunc=['sum']).fillna(0)\n",
    "\n",
    "df_platforms_genres.columns = df_platforms_genres.columns.get_level_values(1)\n",
    "\n",
    "f, ax = plt.subplots(figsize=(20, 10))\n",
    "sns.heatmap(df_platforms_genres, annot=True, cmap='Greys', fmt='.0f', linewidths=.5, ax=ax).set_title('Распределение продаж игр по платформам и жанрам для актуального периода и отобранных платформ')\n",
    "plt.show()"
   ]
  },
  {
   "cell_type": "markdown",
   "metadata": {},
   "source": [
    "Заметно, что какие-то жанры больше покупают на определенных платформах. Так, Misc и Platform лучше всего продаются на платформе WiiU. А для Role-Playing кроме PC отлично продается на 3DS. "
   ]
  },
  {
   "cell_type": "markdown",
   "metadata": {},
   "source": [
    "***Портрет пользователя каждого региона***\n",
    "\n",
    "Определим для пользователя каждого региона (NA, EU, JP):\n",
    "- Самые популярные платформы (топ-5).\n",
    "- Самые популярные жанры (топ-5). Поясните разницу.\n",
    "- Влияет ли рейтинг ESRB на продажи в отдельном регионе?\n",
    "\n",
    "Выделим продажи по каждому региону в список regions и интересующие нас параметры в список parameters. Создадим функцию, выводящую таблицу топ-5 для заданного параметра и региона. Применим ее к параметрам и к регионам."
   ]
  },
  {
   "cell_type": "code",
   "execution_count": 130,
   "metadata": {
    "scrolled": false
   },
   "outputs": [
    {
     "name": "stdout",
     "output_type": "stream",
     "text": [
      "Статистика по Северной Америке\n"
     ]
    },
    {
     "data": {
      "text/html": [
       "<div>\n",
       "<style scoped>\n",
       "    .dataframe tbody tr th:only-of-type {\n",
       "        vertical-align: middle;\n",
       "    }\n",
       "\n",
       "    .dataframe tbody tr th {\n",
       "        vertical-align: top;\n",
       "    }\n",
       "\n",
       "    .dataframe thead th {\n",
       "        text-align: right;\n",
       "    }\n",
       "</style>\n",
       "<table border=\"1\" class=\"dataframe\">\n",
       "  <thead>\n",
       "    <tr style=\"text-align: right;\">\n",
       "      <th></th>\n",
       "      <th>na_sales</th>\n",
       "      <th>total_sales</th>\n",
       "      <th>rate</th>\n",
       "    </tr>\n",
       "    <tr>\n",
       "      <th>platform</th>\n",
       "      <th></th>\n",
       "      <th></th>\n",
       "      <th></th>\n",
       "    </tr>\n",
       "  </thead>\n",
       "  <tbody>\n",
       "    <tr>\n",
       "      <td>PS4</td>\n",
       "      <td>108.74</td>\n",
       "      <td>314.14</td>\n",
       "      <td>0.35</td>\n",
       "    </tr>\n",
       "    <tr>\n",
       "      <td>XOne</td>\n",
       "      <td>93.12</td>\n",
       "      <td>159.32</td>\n",
       "      <td>0.58</td>\n",
       "    </tr>\n",
       "    <tr>\n",
       "      <td>3DS</td>\n",
       "      <td>55.31</td>\n",
       "      <td>194.61</td>\n",
       "      <td>0.28</td>\n",
       "    </tr>\n",
       "    <tr>\n",
       "      <td>WiiU</td>\n",
       "      <td>38.10</td>\n",
       "      <td>82.19</td>\n",
       "      <td>0.46</td>\n",
       "    </tr>\n",
       "    <tr>\n",
       "      <td>PC</td>\n",
       "      <td>19.12</td>\n",
       "      <td>62.65</td>\n",
       "      <td>0.31</td>\n",
       "    </tr>\n",
       "  </tbody>\n",
       "</table>\n",
       "</div>"
      ],
      "text/plain": [
       "          na_sales  total_sales  rate\n",
       "platform                             \n",
       "PS4         108.74       314.14  0.35\n",
       "XOne         93.12       159.32  0.58\n",
       "3DS          55.31       194.61  0.28\n",
       "WiiU         38.10        82.19  0.46\n",
       "PC           19.12        62.65  0.31"
      ]
     },
     "metadata": {},
     "output_type": "display_data"
    },
    {
     "name": "stdout",
     "output_type": "stream",
     "text": [
      "Статистика по ЕС\n"
     ]
    },
    {
     "data": {
      "text/html": [
       "<div>\n",
       "<style scoped>\n",
       "    .dataframe tbody tr th:only-of-type {\n",
       "        vertical-align: middle;\n",
       "    }\n",
       "\n",
       "    .dataframe tbody tr th {\n",
       "        vertical-align: top;\n",
       "    }\n",
       "\n",
       "    .dataframe thead th {\n",
       "        text-align: right;\n",
       "    }\n",
       "</style>\n",
       "<table border=\"1\" class=\"dataframe\">\n",
       "  <thead>\n",
       "    <tr style=\"text-align: right;\">\n",
       "      <th></th>\n",
       "      <th>eu_sales</th>\n",
       "      <th>total_sales</th>\n",
       "      <th>rate</th>\n",
       "    </tr>\n",
       "    <tr>\n",
       "      <th>platform</th>\n",
       "      <th></th>\n",
       "      <th></th>\n",
       "      <th></th>\n",
       "    </tr>\n",
       "  </thead>\n",
       "  <tbody>\n",
       "    <tr>\n",
       "      <td>PS4</td>\n",
       "      <td>141.09</td>\n",
       "      <td>314.14</td>\n",
       "      <td>0.45</td>\n",
       "    </tr>\n",
       "    <tr>\n",
       "      <td>XOne</td>\n",
       "      <td>51.59</td>\n",
       "      <td>159.32</td>\n",
       "      <td>0.32</td>\n",
       "    </tr>\n",
       "    <tr>\n",
       "      <td>3DS</td>\n",
       "      <td>42.64</td>\n",
       "      <td>194.61</td>\n",
       "      <td>0.22</td>\n",
       "    </tr>\n",
       "    <tr>\n",
       "      <td>PC</td>\n",
       "      <td>37.76</td>\n",
       "      <td>62.65</td>\n",
       "      <td>0.60</td>\n",
       "    </tr>\n",
       "    <tr>\n",
       "      <td>WiiU</td>\n",
       "      <td>25.13</td>\n",
       "      <td>82.19</td>\n",
       "      <td>0.31</td>\n",
       "    </tr>\n",
       "  </tbody>\n",
       "</table>\n",
       "</div>"
      ],
      "text/plain": [
       "          eu_sales  total_sales  rate\n",
       "platform                             \n",
       "PS4         141.09       314.14  0.45\n",
       "XOne         51.59       159.32  0.32\n",
       "3DS          42.64       194.61  0.22\n",
       "PC           37.76        62.65  0.60\n",
       "WiiU         25.13        82.19  0.31"
      ]
     },
     "metadata": {},
     "output_type": "display_data"
    },
    {
     "name": "stdout",
     "output_type": "stream",
     "text": [
      "Статистика по Японии\n"
     ]
    },
    {
     "data": {
      "text/html": [
       "<div>\n",
       "<style scoped>\n",
       "    .dataframe tbody tr th:only-of-type {\n",
       "        vertical-align: middle;\n",
       "    }\n",
       "\n",
       "    .dataframe tbody tr th {\n",
       "        vertical-align: top;\n",
       "    }\n",
       "\n",
       "    .dataframe thead th {\n",
       "        text-align: right;\n",
       "    }\n",
       "</style>\n",
       "<table border=\"1\" class=\"dataframe\">\n",
       "  <thead>\n",
       "    <tr style=\"text-align: right;\">\n",
       "      <th></th>\n",
       "      <th>jp_sales</th>\n",
       "      <th>total_sales</th>\n",
       "      <th>rate</th>\n",
       "    </tr>\n",
       "    <tr>\n",
       "      <th>platform</th>\n",
       "      <th></th>\n",
       "      <th></th>\n",
       "      <th></th>\n",
       "    </tr>\n",
       "  </thead>\n",
       "  <tbody>\n",
       "    <tr>\n",
       "      <td>3DS</td>\n",
       "      <td>87.79</td>\n",
       "      <td>194.61</td>\n",
       "      <td>0.45</td>\n",
       "    </tr>\n",
       "    <tr>\n",
       "      <td>PSV</td>\n",
       "      <td>21.04</td>\n",
       "      <td>49.18</td>\n",
       "      <td>0.43</td>\n",
       "    </tr>\n",
       "    <tr>\n",
       "      <td>PS4</td>\n",
       "      <td>15.96</td>\n",
       "      <td>314.14</td>\n",
       "      <td>0.05</td>\n",
       "    </tr>\n",
       "    <tr>\n",
       "      <td>WiiU</td>\n",
       "      <td>13.01</td>\n",
       "      <td>82.19</td>\n",
       "      <td>0.16</td>\n",
       "    </tr>\n",
       "    <tr>\n",
       "      <td>XOne</td>\n",
       "      <td>0.34</td>\n",
       "      <td>159.32</td>\n",
       "      <td>0.00</td>\n",
       "    </tr>\n",
       "  </tbody>\n",
       "</table>\n",
       "</div>"
      ],
      "text/plain": [
       "          jp_sales  total_sales  rate\n",
       "platform                             \n",
       "3DS          87.79       194.61  0.45\n",
       "PSV          21.04        49.18  0.43\n",
       "PS4          15.96       314.14  0.05\n",
       "WiiU         13.01        82.19  0.16\n",
       "XOne          0.34       159.32  0.00"
      ]
     },
     "metadata": {},
     "output_type": "display_data"
    },
    {
     "name": "stdout",
     "output_type": "stream",
     "text": [
      "-----------------------------------------\n",
      "Статистика по Северной Америке\n"
     ]
    },
    {
     "data": {
      "text/html": [
       "<div>\n",
       "<style scoped>\n",
       "    .dataframe tbody tr th:only-of-type {\n",
       "        vertical-align: middle;\n",
       "    }\n",
       "\n",
       "    .dataframe tbody tr th {\n",
       "        vertical-align: top;\n",
       "    }\n",
       "\n",
       "    .dataframe thead th {\n",
       "        text-align: right;\n",
       "    }\n",
       "</style>\n",
       "<table border=\"1\" class=\"dataframe\">\n",
       "  <thead>\n",
       "    <tr style=\"text-align: right;\">\n",
       "      <th></th>\n",
       "      <th>na_sales</th>\n",
       "      <th>total_sales</th>\n",
       "      <th>rate</th>\n",
       "    </tr>\n",
       "    <tr>\n",
       "      <th>genre</th>\n",
       "      <th></th>\n",
       "      <th></th>\n",
       "      <th></th>\n",
       "    </tr>\n",
       "  </thead>\n",
       "  <tbody>\n",
       "    <tr>\n",
       "      <td>Action</td>\n",
       "      <td>85.40</td>\n",
       "      <td>227.44</td>\n",
       "      <td>0.38</td>\n",
       "    </tr>\n",
       "    <tr>\n",
       "      <td>Shooter</td>\n",
       "      <td>77.76</td>\n",
       "      <td>171.64</td>\n",
       "      <td>0.45</td>\n",
       "    </tr>\n",
       "    <tr>\n",
       "      <td>Role-Playing</td>\n",
       "      <td>46.92</td>\n",
       "      <td>147.43</td>\n",
       "      <td>0.32</td>\n",
       "    </tr>\n",
       "    <tr>\n",
       "      <td>Sports</td>\n",
       "      <td>38.71</td>\n",
       "      <td>96.21</td>\n",
       "      <td>0.40</td>\n",
       "    </tr>\n",
       "    <tr>\n",
       "      <td>Platform</td>\n",
       "      <td>20.82</td>\n",
       "      <td>51.66</td>\n",
       "      <td>0.40</td>\n",
       "    </tr>\n",
       "  </tbody>\n",
       "</table>\n",
       "</div>"
      ],
      "text/plain": [
       "              na_sales  total_sales  rate\n",
       "genre                                    \n",
       "Action           85.40       227.44  0.38\n",
       "Shooter          77.76       171.64  0.45\n",
       "Role-Playing     46.92       147.43  0.32\n",
       "Sports           38.71        96.21  0.40\n",
       "Platform         20.82        51.66  0.40"
      ]
     },
     "metadata": {},
     "output_type": "display_data"
    },
    {
     "name": "stdout",
     "output_type": "stream",
     "text": [
      "Статистика по ЕС\n"
     ]
    },
    {
     "data": {
      "text/html": [
       "<div>\n",
       "<style scoped>\n",
       "    .dataframe tbody tr th:only-of-type {\n",
       "        vertical-align: middle;\n",
       "    }\n",
       "\n",
       "    .dataframe tbody tr th {\n",
       "        vertical-align: top;\n",
       "    }\n",
       "\n",
       "    .dataframe thead th {\n",
       "        text-align: right;\n",
       "    }\n",
       "</style>\n",
       "<table border=\"1\" class=\"dataframe\">\n",
       "  <thead>\n",
       "    <tr style=\"text-align: right;\">\n",
       "      <th></th>\n",
       "      <th>eu_sales</th>\n",
       "      <th>total_sales</th>\n",
       "      <th>rate</th>\n",
       "    </tr>\n",
       "    <tr>\n",
       "      <th>genre</th>\n",
       "      <th></th>\n",
       "      <th></th>\n",
       "      <th></th>\n",
       "    </tr>\n",
       "  </thead>\n",
       "  <tbody>\n",
       "    <tr>\n",
       "      <td>Action</td>\n",
       "      <td>83.00</td>\n",
       "      <td>227.44</td>\n",
       "      <td>0.36</td>\n",
       "    </tr>\n",
       "    <tr>\n",
       "      <td>Shooter</td>\n",
       "      <td>67.62</td>\n",
       "      <td>171.64</td>\n",
       "      <td>0.39</td>\n",
       "    </tr>\n",
       "    <tr>\n",
       "      <td>Sports</td>\n",
       "      <td>41.10</td>\n",
       "      <td>96.21</td>\n",
       "      <td>0.43</td>\n",
       "    </tr>\n",
       "    <tr>\n",
       "      <td>Role-Playing</td>\n",
       "      <td>38.48</td>\n",
       "      <td>147.43</td>\n",
       "      <td>0.26</td>\n",
       "    </tr>\n",
       "    <tr>\n",
       "      <td>Platform</td>\n",
       "      <td>17.81</td>\n",
       "      <td>51.66</td>\n",
       "      <td>0.34</td>\n",
       "    </tr>\n",
       "  </tbody>\n",
       "</table>\n",
       "</div>"
      ],
      "text/plain": [
       "              eu_sales  total_sales  rate\n",
       "genre                                    \n",
       "Action           83.00       227.44  0.36\n",
       "Shooter          67.62       171.64  0.39\n",
       "Sports           41.10        96.21  0.43\n",
       "Role-Playing     38.48       147.43  0.26\n",
       "Platform         17.81        51.66  0.34"
      ]
     },
     "metadata": {},
     "output_type": "display_data"
    },
    {
     "name": "stdout",
     "output_type": "stream",
     "text": [
      "Статистика по Японии\n"
     ]
    },
    {
     "data": {
      "text/html": [
       "<div>\n",
       "<style scoped>\n",
       "    .dataframe tbody tr th:only-of-type {\n",
       "        vertical-align: middle;\n",
       "    }\n",
       "\n",
       "    .dataframe tbody tr th {\n",
       "        vertical-align: top;\n",
       "    }\n",
       "\n",
       "    .dataframe thead th {\n",
       "        text-align: right;\n",
       "    }\n",
       "</style>\n",
       "<table border=\"1\" class=\"dataframe\">\n",
       "  <thead>\n",
       "    <tr style=\"text-align: right;\">\n",
       "      <th></th>\n",
       "      <th>jp_sales</th>\n",
       "      <th>total_sales</th>\n",
       "      <th>rate</th>\n",
       "    </tr>\n",
       "    <tr>\n",
       "      <th>genre</th>\n",
       "      <th></th>\n",
       "      <th></th>\n",
       "      <th></th>\n",
       "    </tr>\n",
       "  </thead>\n",
       "  <tbody>\n",
       "    <tr>\n",
       "      <td>Role-Playing</td>\n",
       "      <td>51.06</td>\n",
       "      <td>147.43</td>\n",
       "      <td>0.35</td>\n",
       "    </tr>\n",
       "    <tr>\n",
       "      <td>Action</td>\n",
       "      <td>34.26</td>\n",
       "      <td>227.44</td>\n",
       "      <td>0.15</td>\n",
       "    </tr>\n",
       "    <tr>\n",
       "      <td>Misc</td>\n",
       "      <td>10.53</td>\n",
       "      <td>42.58</td>\n",
       "      <td>0.25</td>\n",
       "    </tr>\n",
       "    <tr>\n",
       "      <td>Simulation</td>\n",
       "      <td>9.61</td>\n",
       "      <td>31.32</td>\n",
       "      <td>0.31</td>\n",
       "    </tr>\n",
       "    <tr>\n",
       "      <td>Platform</td>\n",
       "      <td>8.55</td>\n",
       "      <td>51.66</td>\n",
       "      <td>0.17</td>\n",
       "    </tr>\n",
       "  </tbody>\n",
       "</table>\n",
       "</div>"
      ],
      "text/plain": [
       "              jp_sales  total_sales  rate\n",
       "genre                                    \n",
       "Role-Playing     51.06       147.43  0.35\n",
       "Action           34.26       227.44  0.15\n",
       "Misc             10.53        42.58  0.25\n",
       "Simulation        9.61        31.32  0.31\n",
       "Platform          8.55        51.66  0.17"
      ]
     },
     "metadata": {},
     "output_type": "display_data"
    },
    {
     "name": "stdout",
     "output_type": "stream",
     "text": [
      "-----------------------------------------\n",
      "Статистика по Северной Америке\n"
     ]
    },
    {
     "data": {
      "text/html": [
       "<div>\n",
       "<style scoped>\n",
       "    .dataframe tbody tr th:only-of-type {\n",
       "        vertical-align: middle;\n",
       "    }\n",
       "\n",
       "    .dataframe tbody tr th {\n",
       "        vertical-align: top;\n",
       "    }\n",
       "\n",
       "    .dataframe thead th {\n",
       "        text-align: right;\n",
       "    }\n",
       "</style>\n",
       "<table border=\"1\" class=\"dataframe\">\n",
       "  <thead>\n",
       "    <tr style=\"text-align: right;\">\n",
       "      <th></th>\n",
       "      <th>na_sales</th>\n",
       "      <th>total_sales</th>\n",
       "      <th>rate</th>\n",
       "    </tr>\n",
       "    <tr>\n",
       "      <th>rating</th>\n",
       "      <th></th>\n",
       "      <th></th>\n",
       "      <th></th>\n",
       "    </tr>\n",
       "  </thead>\n",
       "  <tbody>\n",
       "    <tr>\n",
       "      <td>M</td>\n",
       "      <td>106.53</td>\n",
       "      <td>251.07</td>\n",
       "      <td>0.42</td>\n",
       "    </tr>\n",
       "    <tr>\n",
       "      <td>tbd2</td>\n",
       "      <td>73.03</td>\n",
       "      <td>243.18</td>\n",
       "      <td>0.30</td>\n",
       "    </tr>\n",
       "    <tr>\n",
       "      <td>E</td>\n",
       "      <td>65.82</td>\n",
       "      <td>177.27</td>\n",
       "      <td>0.37</td>\n",
       "    </tr>\n",
       "    <tr>\n",
       "      <td>E10+</td>\n",
       "      <td>40.02</td>\n",
       "      <td>87.21</td>\n",
       "      <td>0.46</td>\n",
       "    </tr>\n",
       "    <tr>\n",
       "      <td>T</td>\n",
       "      <td>39.97</td>\n",
       "      <td>103.36</td>\n",
       "      <td>0.39</td>\n",
       "    </tr>\n",
       "  </tbody>\n",
       "</table>\n",
       "</div>"
      ],
      "text/plain": [
       "        na_sales  total_sales  rate\n",
       "rating                             \n",
       "M         106.53       251.07  0.42\n",
       "tbd2       73.03       243.18  0.30\n",
       "E          65.82       177.27  0.37\n",
       "E10+       40.02        87.21  0.46\n",
       "T          39.97       103.36  0.39"
      ]
     },
     "metadata": {},
     "output_type": "display_data"
    },
    {
     "name": "stdout",
     "output_type": "stream",
     "text": [
      "Статистика по ЕС\n"
     ]
    },
    {
     "data": {
      "text/html": [
       "<div>\n",
       "<style scoped>\n",
       "    .dataframe tbody tr th:only-of-type {\n",
       "        vertical-align: middle;\n",
       "    }\n",
       "\n",
       "    .dataframe tbody tr th {\n",
       "        vertical-align: top;\n",
       "    }\n",
       "\n",
       "    .dataframe thead th {\n",
       "        text-align: right;\n",
       "    }\n",
       "</style>\n",
       "<table border=\"1\" class=\"dataframe\">\n",
       "  <thead>\n",
       "    <tr style=\"text-align: right;\">\n",
       "      <th></th>\n",
       "      <th>eu_sales</th>\n",
       "      <th>total_sales</th>\n",
       "      <th>rate</th>\n",
       "    </tr>\n",
       "    <tr>\n",
       "      <th>rating</th>\n",
       "      <th></th>\n",
       "      <th></th>\n",
       "      <th></th>\n",
       "    </tr>\n",
       "  </thead>\n",
       "  <tbody>\n",
       "    <tr>\n",
       "      <td>M</td>\n",
       "      <td>103.98</td>\n",
       "      <td>251.07</td>\n",
       "      <td>0.41</td>\n",
       "    </tr>\n",
       "    <tr>\n",
       "      <td>E</td>\n",
       "      <td>69.92</td>\n",
       "      <td>177.27</td>\n",
       "      <td>0.39</td>\n",
       "    </tr>\n",
       "    <tr>\n",
       "      <td>tbd2</td>\n",
       "      <td>68.71</td>\n",
       "      <td>243.18</td>\n",
       "      <td>0.28</td>\n",
       "    </tr>\n",
       "    <tr>\n",
       "      <td>T</td>\n",
       "      <td>36.35</td>\n",
       "      <td>103.36</td>\n",
       "      <td>0.35</td>\n",
       "    </tr>\n",
       "    <tr>\n",
       "      <td>E10+</td>\n",
       "      <td>30.61</td>\n",
       "      <td>87.21</td>\n",
       "      <td>0.35</td>\n",
       "    </tr>\n",
       "  </tbody>\n",
       "</table>\n",
       "</div>"
      ],
      "text/plain": [
       "        eu_sales  total_sales  rate\n",
       "rating                             \n",
       "M         103.98       251.07  0.41\n",
       "E          69.92       177.27  0.39\n",
       "tbd2       68.71       243.18  0.28\n",
       "T          36.35       103.36  0.35\n",
       "E10+       30.61        87.21  0.35"
      ]
     },
     "metadata": {},
     "output_type": "display_data"
    },
    {
     "name": "stdout",
     "output_type": "stream",
     "text": [
      "Статистика по Японии\n"
     ]
    },
    {
     "data": {
      "text/html": [
       "<div>\n",
       "<style scoped>\n",
       "    .dataframe tbody tr th:only-of-type {\n",
       "        vertical-align: middle;\n",
       "    }\n",
       "\n",
       "    .dataframe tbody tr th {\n",
       "        vertical-align: top;\n",
       "    }\n",
       "\n",
       "    .dataframe thead th {\n",
       "        text-align: right;\n",
       "    }\n",
       "</style>\n",
       "<table border=\"1\" class=\"dataframe\">\n",
       "  <thead>\n",
       "    <tr style=\"text-align: right;\">\n",
       "      <th></th>\n",
       "      <th>jp_sales</th>\n",
       "      <th>total_sales</th>\n",
       "      <th>rate</th>\n",
       "    </tr>\n",
       "    <tr>\n",
       "      <th>rating</th>\n",
       "      <th></th>\n",
       "      <th></th>\n",
       "      <th></th>\n",
       "    </tr>\n",
       "  </thead>\n",
       "  <tbody>\n",
       "    <tr>\n",
       "      <td>tbd2</td>\n",
       "      <td>82.00</td>\n",
       "      <td>243.18</td>\n",
       "      <td>0.34</td>\n",
       "    </tr>\n",
       "    <tr>\n",
       "      <td>E</td>\n",
       "      <td>23.99</td>\n",
       "      <td>177.27</td>\n",
       "      <td>0.14</td>\n",
       "    </tr>\n",
       "    <tr>\n",
       "      <td>T</td>\n",
       "      <td>15.37</td>\n",
       "      <td>103.36</td>\n",
       "      <td>0.15</td>\n",
       "    </tr>\n",
       "    <tr>\n",
       "      <td>M</td>\n",
       "      <td>9.15</td>\n",
       "      <td>251.07</td>\n",
       "      <td>0.04</td>\n",
       "    </tr>\n",
       "    <tr>\n",
       "      <td>E10+</td>\n",
       "      <td>7.63</td>\n",
       "      <td>87.21</td>\n",
       "      <td>0.09</td>\n",
       "    </tr>\n",
       "  </tbody>\n",
       "</table>\n",
       "</div>"
      ],
      "text/plain": [
       "        jp_sales  total_sales  rate\n",
       "rating                             \n",
       "tbd2       82.00       243.18  0.34\n",
       "E          23.99       177.27  0.14\n",
       "T          15.37       103.36  0.15\n",
       "M           9.15       251.07  0.04\n",
       "E10+        7.63        87.21  0.09"
      ]
     },
     "metadata": {},
     "output_type": "display_data"
    },
    {
     "name": "stdout",
     "output_type": "stream",
     "text": [
      "-----------------------------------------\n"
     ]
    }
   ],
   "source": [
    "regions = ['na_sales', 'eu_sales', 'jp_sales']\n",
    "parameters = ['platform', 'genre', 'rating']\n",
    "titles = ['Статистика по Северной Америке', 'Статистика по ЕС', 'Статистика по Японии']\n",
    "\n",
    "def every_region_pop_parameters(parameter, region):\n",
    "    # Выводит таблицу топ-5 для заданного параметра и региона для таблицы df_filtered\n",
    "    \n",
    "    df_filtered_region = df_filtered.pivot_table(index=parameter, values=[region,'total_sales'], aggfunc='sum').sort_values(by=region, ascending = False)\n",
    "    df_filtered_region['rate'] = df_filtered_region[region] / df_filtered_region['total_sales']\n",
    "    display(df_filtered_region.head())\n",
    "    \n",
    "for parameter in parameters:\n",
    "    for i in range(len(regions)):\n",
    "        print(titles[i])\n",
    "        every_region_pop_parameters(parameter, regions[i])\n",
    "    print('-----------------------------------------')"
   ]
  },
  {
   "cell_type": "markdown",
   "metadata": {},
   "source": [
    "В Северной Америке и Европе популярнее платформа PS4. На втором месте ХOne. И с небольшим отрывом на третьем - 3DS.\n",
    "\n",
    "Примечательно, что 61% играющих на PC сосредоточены в Европе. И хотя PC в общем обзоре выглядел не так ярко на фоне других платформ, по Европе он входит в ТОП-5. \n",
    "\n",
    "А в Японии X box совсем не попал в ТОП-5, зато на первом месте платформа 3DS, 45% продаж с которой приходятся на Японию.\n",
    "\n",
    "По жанрам распределения Северной Америки и Европы схожи, разве что в Америке Role-Playing на 5 месте, а в Европе Racing. Значительная доля (около половины) всех продаж каждого из жанров из ТОП-5 по Северной Америке приходится на Северную Америку. В Японии лидирует Role-Playing и совсем не входит популярный повсюду Shooter. \n",
    "\n",
    "В Северной Америке и Европе наиболее популярны игры для взрослых, на втором месте с небольшим отрывом игры для всех. На третьем месте в Северной Америке игры для детей от 10 лет, на четвертом - для тинейджеров и хуже всего продаются игры для детей младшего возраста. Для Японии на первом месте игры для всех, на втором для тинейджеров, на третьем - для взрослых, и на последнем - для детей младшего возраста. Взрослые в Японии менее активно играют в игры, либо выбирают игры других категорий."
   ]
  },
  {
   "cell_type": "code",
   "execution_count": 133,
   "metadata": {
    "scrolled": false
   },
   "outputs": [
    {
     "name": "stdout",
     "output_type": "stream",
     "text": [
      "Статистика по Северной Америке\n"
     ]
    },
    {
     "data": {
      "text/html": [
       "<div>\n",
       "<style scoped>\n",
       "    .dataframe tbody tr th:only-of-type {\n",
       "        vertical-align: middle;\n",
       "    }\n",
       "\n",
       "    .dataframe tbody tr th {\n",
       "        vertical-align: top;\n",
       "    }\n",
       "\n",
       "    .dataframe thead th {\n",
       "        text-align: right;\n",
       "    }\n",
       "</style>\n",
       "<table border=\"1\" class=\"dataframe\">\n",
       "  <thead>\n",
       "    <tr style=\"text-align: right;\">\n",
       "      <th></th>\n",
       "      <th>na_sales</th>\n",
       "      <th>total_sales</th>\n",
       "      <th>rate</th>\n",
       "    </tr>\n",
       "    <tr>\n",
       "      <th>platform</th>\n",
       "      <th></th>\n",
       "      <th></th>\n",
       "      <th></th>\n",
       "    </tr>\n",
       "  </thead>\n",
       "  <tbody>\n",
       "    <tr>\n",
       "      <td>XOne</td>\n",
       "      <td>0.38</td>\n",
       "      <td>0.65</td>\n",
       "      <td>0.58</td>\n",
       "    </tr>\n",
       "    <tr>\n",
       "      <td>PS4</td>\n",
       "      <td>0.28</td>\n",
       "      <td>0.80</td>\n",
       "      <td>0.35</td>\n",
       "    </tr>\n",
       "    <tr>\n",
       "      <td>WiiU</td>\n",
       "      <td>0.26</td>\n",
       "      <td>0.56</td>\n",
       "      <td>0.46</td>\n",
       "    </tr>\n",
       "    <tr>\n",
       "      <td>3DS</td>\n",
       "      <td>0.14</td>\n",
       "      <td>0.49</td>\n",
       "      <td>0.28</td>\n",
       "    </tr>\n",
       "    <tr>\n",
       "      <td>PC</td>\n",
       "      <td>0.08</td>\n",
       "      <td>0.25</td>\n",
       "      <td>0.31</td>\n",
       "    </tr>\n",
       "  </tbody>\n",
       "</table>\n",
       "</div>"
      ],
      "text/plain": [
       "          na_sales  total_sales  rate\n",
       "platform                             \n",
       "XOne          0.38         0.65  0.58\n",
       "PS4           0.28         0.80  0.35\n",
       "WiiU          0.26         0.56  0.46\n",
       "3DS           0.14         0.49  0.28\n",
       "PC            0.08         0.25  0.31"
      ]
     },
     "metadata": {},
     "output_type": "display_data"
    },
    {
     "name": "stdout",
     "output_type": "stream",
     "text": [
      "Статистика по ЕС\n"
     ]
    },
    {
     "data": {
      "text/html": [
       "<div>\n",
       "<style scoped>\n",
       "    .dataframe tbody tr th:only-of-type {\n",
       "        vertical-align: middle;\n",
       "    }\n",
       "\n",
       "    .dataframe tbody tr th {\n",
       "        vertical-align: top;\n",
       "    }\n",
       "\n",
       "    .dataframe thead th {\n",
       "        text-align: right;\n",
       "    }\n",
       "</style>\n",
       "<table border=\"1\" class=\"dataframe\">\n",
       "  <thead>\n",
       "    <tr style=\"text-align: right;\">\n",
       "      <th></th>\n",
       "      <th>eu_sales</th>\n",
       "      <th>total_sales</th>\n",
       "      <th>rate</th>\n",
       "    </tr>\n",
       "    <tr>\n",
       "      <th>platform</th>\n",
       "      <th></th>\n",
       "      <th></th>\n",
       "      <th></th>\n",
       "    </tr>\n",
       "  </thead>\n",
       "  <tbody>\n",
       "    <tr>\n",
       "      <td>PS4</td>\n",
       "      <td>0.36</td>\n",
       "      <td>0.80</td>\n",
       "      <td>0.45</td>\n",
       "    </tr>\n",
       "    <tr>\n",
       "      <td>XOne</td>\n",
       "      <td>0.21</td>\n",
       "      <td>0.65</td>\n",
       "      <td>0.32</td>\n",
       "    </tr>\n",
       "    <tr>\n",
       "      <td>WiiU</td>\n",
       "      <td>0.17</td>\n",
       "      <td>0.56</td>\n",
       "      <td>0.31</td>\n",
       "    </tr>\n",
       "    <tr>\n",
       "      <td>PC</td>\n",
       "      <td>0.15</td>\n",
       "      <td>0.25</td>\n",
       "      <td>0.60</td>\n",
       "    </tr>\n",
       "    <tr>\n",
       "      <td>3DS</td>\n",
       "      <td>0.11</td>\n",
       "      <td>0.49</td>\n",
       "      <td>0.22</td>\n",
       "    </tr>\n",
       "  </tbody>\n",
       "</table>\n",
       "</div>"
      ],
      "text/plain": [
       "          eu_sales  total_sales  rate\n",
       "platform                             \n",
       "PS4           0.36         0.80  0.45\n",
       "XOne          0.21         0.65  0.32\n",
       "WiiU          0.17         0.56  0.31\n",
       "PC            0.15         0.25  0.60\n",
       "3DS           0.11         0.49  0.22"
      ]
     },
     "metadata": {},
     "output_type": "display_data"
    },
    {
     "name": "stdout",
     "output_type": "stream",
     "text": [
      "Статистика по Японии\n"
     ]
    },
    {
     "data": {
      "text/html": [
       "<div>\n",
       "<style scoped>\n",
       "    .dataframe tbody tr th:only-of-type {\n",
       "        vertical-align: middle;\n",
       "    }\n",
       "\n",
       "    .dataframe tbody tr th {\n",
       "        vertical-align: top;\n",
       "    }\n",
       "\n",
       "    .dataframe thead th {\n",
       "        text-align: right;\n",
       "    }\n",
       "</style>\n",
       "<table border=\"1\" class=\"dataframe\">\n",
       "  <thead>\n",
       "    <tr style=\"text-align: right;\">\n",
       "      <th></th>\n",
       "      <th>jp_sales</th>\n",
       "      <th>total_sales</th>\n",
       "      <th>rate</th>\n",
       "    </tr>\n",
       "    <tr>\n",
       "      <th>platform</th>\n",
       "      <th></th>\n",
       "      <th></th>\n",
       "      <th></th>\n",
       "    </tr>\n",
       "  </thead>\n",
       "  <tbody>\n",
       "    <tr>\n",
       "      <td>3DS</td>\n",
       "      <td>0.22</td>\n",
       "      <td>0.49</td>\n",
       "      <td>0.45</td>\n",
       "    </tr>\n",
       "    <tr>\n",
       "      <td>WiiU</td>\n",
       "      <td>0.09</td>\n",
       "      <td>0.56</td>\n",
       "      <td>0.16</td>\n",
       "    </tr>\n",
       "    <tr>\n",
       "      <td>PSV</td>\n",
       "      <td>0.05</td>\n",
       "      <td>0.12</td>\n",
       "      <td>0.43</td>\n",
       "    </tr>\n",
       "    <tr>\n",
       "      <td>PS4</td>\n",
       "      <td>0.04</td>\n",
       "      <td>0.80</td>\n",
       "      <td>0.05</td>\n",
       "    </tr>\n",
       "    <tr>\n",
       "      <td>XOne</td>\n",
       "      <td>0.00</td>\n",
       "      <td>0.65</td>\n",
       "      <td>0.00</td>\n",
       "    </tr>\n",
       "  </tbody>\n",
       "</table>\n",
       "</div>"
      ],
      "text/plain": [
       "          jp_sales  total_sales  rate\n",
       "platform                             \n",
       "3DS           0.22         0.49  0.45\n",
       "WiiU          0.09         0.56  0.16\n",
       "PSV           0.05         0.12  0.43\n",
       "PS4           0.04         0.80  0.05\n",
       "XOne          0.00         0.65  0.00"
      ]
     },
     "metadata": {},
     "output_type": "display_data"
    },
    {
     "name": "stdout",
     "output_type": "stream",
     "text": [
      "-----------------------------------------\n",
      "Статистика по Северной Америке\n"
     ]
    },
    {
     "data": {
      "text/html": [
       "<div>\n",
       "<style scoped>\n",
       "    .dataframe tbody tr th:only-of-type {\n",
       "        vertical-align: middle;\n",
       "    }\n",
       "\n",
       "    .dataframe tbody tr th {\n",
       "        vertical-align: top;\n",
       "    }\n",
       "\n",
       "    .dataframe thead th {\n",
       "        text-align: right;\n",
       "    }\n",
       "</style>\n",
       "<table border=\"1\" class=\"dataframe\">\n",
       "  <thead>\n",
       "    <tr style=\"text-align: right;\">\n",
       "      <th></th>\n",
       "      <th>na_sales</th>\n",
       "      <th>total_sales</th>\n",
       "      <th>rate</th>\n",
       "    </tr>\n",
       "    <tr>\n",
       "      <th>genre</th>\n",
       "      <th></th>\n",
       "      <th></th>\n",
       "      <th></th>\n",
       "    </tr>\n",
       "  </thead>\n",
       "  <tbody>\n",
       "    <tr>\n",
       "      <td>Shooter</td>\n",
       "      <td>0.57</td>\n",
       "      <td>1.26</td>\n",
       "      <td>0.45</td>\n",
       "    </tr>\n",
       "    <tr>\n",
       "      <td>Platform</td>\n",
       "      <td>0.33</td>\n",
       "      <td>0.81</td>\n",
       "      <td>0.40</td>\n",
       "    </tr>\n",
       "    <tr>\n",
       "      <td>Sports</td>\n",
       "      <td>0.27</td>\n",
       "      <td>0.68</td>\n",
       "      <td>0.40</td>\n",
       "    </tr>\n",
       "    <tr>\n",
       "      <td>Fighting</td>\n",
       "      <td>0.23</td>\n",
       "      <td>0.50</td>\n",
       "      <td>0.46</td>\n",
       "    </tr>\n",
       "    <tr>\n",
       "      <td>Role-Playing</td>\n",
       "      <td>0.18</td>\n",
       "      <td>0.56</td>\n",
       "      <td>0.32</td>\n",
       "    </tr>\n",
       "  </tbody>\n",
       "</table>\n",
       "</div>"
      ],
      "text/plain": [
       "              na_sales  total_sales  rate\n",
       "genre                                    \n",
       "Shooter           0.57         1.26  0.45\n",
       "Platform          0.33         0.81  0.40\n",
       "Sports            0.27         0.68  0.40\n",
       "Fighting          0.23         0.50  0.46\n",
       "Role-Playing      0.18         0.56  0.32"
      ]
     },
     "metadata": {},
     "output_type": "display_data"
    },
    {
     "name": "stdout",
     "output_type": "stream",
     "text": [
      "Статистика по ЕС\n"
     ]
    },
    {
     "data": {
      "text/html": [
       "<div>\n",
       "<style scoped>\n",
       "    .dataframe tbody tr th:only-of-type {\n",
       "        vertical-align: middle;\n",
       "    }\n",
       "\n",
       "    .dataframe tbody tr th {\n",
       "        vertical-align: top;\n",
       "    }\n",
       "\n",
       "    .dataframe thead th {\n",
       "        text-align: right;\n",
       "    }\n",
       "</style>\n",
       "<table border=\"1\" class=\"dataframe\">\n",
       "  <thead>\n",
       "    <tr style=\"text-align: right;\">\n",
       "      <th></th>\n",
       "      <th>eu_sales</th>\n",
       "      <th>total_sales</th>\n",
       "      <th>rate</th>\n",
       "    </tr>\n",
       "    <tr>\n",
       "      <th>genre</th>\n",
       "      <th></th>\n",
       "      <th></th>\n",
       "      <th></th>\n",
       "    </tr>\n",
       "  </thead>\n",
       "  <tbody>\n",
       "    <tr>\n",
       "      <td>Shooter</td>\n",
       "      <td>0.50</td>\n",
       "      <td>1.26</td>\n",
       "      <td>0.39</td>\n",
       "    </tr>\n",
       "    <tr>\n",
       "      <td>Sports</td>\n",
       "      <td>0.29</td>\n",
       "      <td>0.68</td>\n",
       "      <td>0.43</td>\n",
       "    </tr>\n",
       "    <tr>\n",
       "      <td>Platform</td>\n",
       "      <td>0.28</td>\n",
       "      <td>0.81</td>\n",
       "      <td>0.34</td>\n",
       "    </tr>\n",
       "    <tr>\n",
       "      <td>Simulation</td>\n",
       "      <td>0.24</td>\n",
       "      <td>0.55</td>\n",
       "      <td>0.43</td>\n",
       "    </tr>\n",
       "    <tr>\n",
       "      <td>Racing</td>\n",
       "      <td>0.23</td>\n",
       "      <td>0.47</td>\n",
       "      <td>0.50</td>\n",
       "    </tr>\n",
       "  </tbody>\n",
       "</table>\n",
       "</div>"
      ],
      "text/plain": [
       "            eu_sales  total_sales  rate\n",
       "genre                                  \n",
       "Shooter         0.50         1.26  0.39\n",
       "Sports          0.29         0.68  0.43\n",
       "Platform        0.28         0.81  0.34\n",
       "Simulation      0.24         0.55  0.43\n",
       "Racing          0.23         0.47  0.50"
      ]
     },
     "metadata": {},
     "output_type": "display_data"
    },
    {
     "name": "stdout",
     "output_type": "stream",
     "text": [
      "Статистика по Японии\n"
     ]
    },
    {
     "data": {
      "text/html": [
       "<div>\n",
       "<style scoped>\n",
       "    .dataframe tbody tr th:only-of-type {\n",
       "        vertical-align: middle;\n",
       "    }\n",
       "\n",
       "    .dataframe tbody tr th {\n",
       "        vertical-align: top;\n",
       "    }\n",
       "\n",
       "    .dataframe thead th {\n",
       "        text-align: right;\n",
       "    }\n",
       "</style>\n",
       "<table border=\"1\" class=\"dataframe\">\n",
       "  <thead>\n",
       "    <tr style=\"text-align: right;\">\n",
       "      <th></th>\n",
       "      <th>jp_sales</th>\n",
       "      <th>total_sales</th>\n",
       "      <th>rate</th>\n",
       "    </tr>\n",
       "    <tr>\n",
       "      <th>genre</th>\n",
       "      <th></th>\n",
       "      <th></th>\n",
       "      <th></th>\n",
       "    </tr>\n",
       "  </thead>\n",
       "  <tbody>\n",
       "    <tr>\n",
       "      <td>Role-Playing</td>\n",
       "      <td>0.19</td>\n",
       "      <td>0.56</td>\n",
       "      <td>0.35</td>\n",
       "    </tr>\n",
       "    <tr>\n",
       "      <td>Simulation</td>\n",
       "      <td>0.17</td>\n",
       "      <td>0.55</td>\n",
       "      <td>0.31</td>\n",
       "    </tr>\n",
       "    <tr>\n",
       "      <td>Platform</td>\n",
       "      <td>0.13</td>\n",
       "      <td>0.81</td>\n",
       "      <td>0.17</td>\n",
       "    </tr>\n",
       "    <tr>\n",
       "      <td>Fighting</td>\n",
       "      <td>0.10</td>\n",
       "      <td>0.50</td>\n",
       "      <td>0.19</td>\n",
       "    </tr>\n",
       "    <tr>\n",
       "      <td>Misc</td>\n",
       "      <td>0.08</td>\n",
       "      <td>0.33</td>\n",
       "      <td>0.25</td>\n",
       "    </tr>\n",
       "  </tbody>\n",
       "</table>\n",
       "</div>"
      ],
      "text/plain": [
       "              jp_sales  total_sales  rate\n",
       "genre                                    \n",
       "Role-Playing      0.19         0.56  0.35\n",
       "Simulation        0.17         0.55  0.31\n",
       "Platform          0.13         0.81  0.17\n",
       "Fighting          0.10         0.50  0.19\n",
       "Misc              0.08         0.33  0.25"
      ]
     },
     "metadata": {},
     "output_type": "display_data"
    },
    {
     "name": "stdout",
     "output_type": "stream",
     "text": [
      "-----------------------------------------\n",
      "Статистика по Северной Америке\n"
     ]
    },
    {
     "data": {
      "text/html": [
       "<div>\n",
       "<style scoped>\n",
       "    .dataframe tbody tr th:only-of-type {\n",
       "        vertical-align: middle;\n",
       "    }\n",
       "\n",
       "    .dataframe tbody tr th {\n",
       "        vertical-align: top;\n",
       "    }\n",
       "\n",
       "    .dataframe thead th {\n",
       "        text-align: right;\n",
       "    }\n",
       "</style>\n",
       "<table border=\"1\" class=\"dataframe\">\n",
       "  <thead>\n",
       "    <tr style=\"text-align: right;\">\n",
       "      <th></th>\n",
       "      <th>na_sales</th>\n",
       "      <th>total_sales</th>\n",
       "      <th>rate</th>\n",
       "    </tr>\n",
       "    <tr>\n",
       "      <th>rating</th>\n",
       "      <th></th>\n",
       "      <th></th>\n",
       "      <th></th>\n",
       "    </tr>\n",
       "  </thead>\n",
       "  <tbody>\n",
       "    <tr>\n",
       "      <td>M</td>\n",
       "      <td>0.36</td>\n",
       "      <td>0.86</td>\n",
       "      <td>0.42</td>\n",
       "    </tr>\n",
       "    <tr>\n",
       "      <td>E</td>\n",
       "      <td>0.27</td>\n",
       "      <td>0.73</td>\n",
       "      <td>0.37</td>\n",
       "    </tr>\n",
       "    <tr>\n",
       "      <td>E10+</td>\n",
       "      <td>0.19</td>\n",
       "      <td>0.42</td>\n",
       "      <td>0.46</td>\n",
       "    </tr>\n",
       "    <tr>\n",
       "      <td>T</td>\n",
       "      <td>0.15</td>\n",
       "      <td>0.39</td>\n",
       "      <td>0.39</td>\n",
       "    </tr>\n",
       "    <tr>\n",
       "      <td>tbd2</td>\n",
       "      <td>0.09</td>\n",
       "      <td>0.29</td>\n",
       "      <td>0.30</td>\n",
       "    </tr>\n",
       "  </tbody>\n",
       "</table>\n",
       "</div>"
      ],
      "text/plain": [
       "        na_sales  total_sales  rate\n",
       "rating                             \n",
       "M           0.36         0.86  0.42\n",
       "E           0.27         0.73  0.37\n",
       "E10+        0.19         0.42  0.46\n",
       "T           0.15         0.39  0.39\n",
       "tbd2        0.09         0.29  0.30"
      ]
     },
     "metadata": {},
     "output_type": "display_data"
    },
    {
     "name": "stdout",
     "output_type": "stream",
     "text": [
      "Статистика по ЕС\n"
     ]
    },
    {
     "data": {
      "text/html": [
       "<div>\n",
       "<style scoped>\n",
       "    .dataframe tbody tr th:only-of-type {\n",
       "        vertical-align: middle;\n",
       "    }\n",
       "\n",
       "    .dataframe tbody tr th {\n",
       "        vertical-align: top;\n",
       "    }\n",
       "\n",
       "    .dataframe thead th {\n",
       "        text-align: right;\n",
       "    }\n",
       "</style>\n",
       "<table border=\"1\" class=\"dataframe\">\n",
       "  <thead>\n",
       "    <tr style=\"text-align: right;\">\n",
       "      <th></th>\n",
       "      <th>eu_sales</th>\n",
       "      <th>total_sales</th>\n",
       "      <th>rate</th>\n",
       "    </tr>\n",
       "    <tr>\n",
       "      <th>rating</th>\n",
       "      <th></th>\n",
       "      <th></th>\n",
       "      <th></th>\n",
       "    </tr>\n",
       "  </thead>\n",
       "  <tbody>\n",
       "    <tr>\n",
       "      <td>M</td>\n",
       "      <td>0.35</td>\n",
       "      <td>0.86</td>\n",
       "      <td>0.41</td>\n",
       "    </tr>\n",
       "    <tr>\n",
       "      <td>E</td>\n",
       "      <td>0.29</td>\n",
       "      <td>0.73</td>\n",
       "      <td>0.39</td>\n",
       "    </tr>\n",
       "    <tr>\n",
       "      <td>E10+</td>\n",
       "      <td>0.15</td>\n",
       "      <td>0.42</td>\n",
       "      <td>0.35</td>\n",
       "    </tr>\n",
       "    <tr>\n",
       "      <td>T</td>\n",
       "      <td>0.14</td>\n",
       "      <td>0.39</td>\n",
       "      <td>0.35</td>\n",
       "    </tr>\n",
       "    <tr>\n",
       "      <td>tbd2</td>\n",
       "      <td>0.08</td>\n",
       "      <td>0.29</td>\n",
       "      <td>0.28</td>\n",
       "    </tr>\n",
       "  </tbody>\n",
       "</table>\n",
       "</div>"
      ],
      "text/plain": [
       "        eu_sales  total_sales  rate\n",
       "rating                             \n",
       "M           0.35         0.86  0.41\n",
       "E           0.29         0.73  0.39\n",
       "E10+        0.15         0.42  0.35\n",
       "T           0.14         0.39  0.35\n",
       "tbd2        0.08         0.29  0.28"
      ]
     },
     "metadata": {},
     "output_type": "display_data"
    },
    {
     "name": "stdout",
     "output_type": "stream",
     "text": [
      "Статистика по Японии\n"
     ]
    },
    {
     "data": {
      "text/html": [
       "<div>\n",
       "<style scoped>\n",
       "    .dataframe tbody tr th:only-of-type {\n",
       "        vertical-align: middle;\n",
       "    }\n",
       "\n",
       "    .dataframe tbody tr th {\n",
       "        vertical-align: top;\n",
       "    }\n",
       "\n",
       "    .dataframe thead th {\n",
       "        text-align: right;\n",
       "    }\n",
       "</style>\n",
       "<table border=\"1\" class=\"dataframe\">\n",
       "  <thead>\n",
       "    <tr style=\"text-align: right;\">\n",
       "      <th></th>\n",
       "      <th>jp_sales</th>\n",
       "      <th>total_sales</th>\n",
       "      <th>rate</th>\n",
       "    </tr>\n",
       "    <tr>\n",
       "      <th>rating</th>\n",
       "      <th></th>\n",
       "      <th></th>\n",
       "      <th></th>\n",
       "    </tr>\n",
       "  </thead>\n",
       "  <tbody>\n",
       "    <tr>\n",
       "      <td>tbd2</td>\n",
       "      <td>0.10</td>\n",
       "      <td>0.29</td>\n",
       "      <td>0.34</td>\n",
       "    </tr>\n",
       "    <tr>\n",
       "      <td>E</td>\n",
       "      <td>0.10</td>\n",
       "      <td>0.73</td>\n",
       "      <td>0.14</td>\n",
       "    </tr>\n",
       "    <tr>\n",
       "      <td>T</td>\n",
       "      <td>0.06</td>\n",
       "      <td>0.39</td>\n",
       "      <td>0.15</td>\n",
       "    </tr>\n",
       "    <tr>\n",
       "      <td>E10+</td>\n",
       "      <td>0.04</td>\n",
       "      <td>0.42</td>\n",
       "      <td>0.09</td>\n",
       "    </tr>\n",
       "    <tr>\n",
       "      <td>M</td>\n",
       "      <td>0.03</td>\n",
       "      <td>0.86</td>\n",
       "      <td>0.04</td>\n",
       "    </tr>\n",
       "  </tbody>\n",
       "</table>\n",
       "</div>"
      ],
      "text/plain": [
       "        jp_sales  total_sales  rate\n",
       "rating                             \n",
       "tbd2        0.10         0.29  0.34\n",
       "E           0.10         0.73  0.14\n",
       "T           0.06         0.39  0.15\n",
       "E10+        0.04         0.42  0.09\n",
       "M           0.03         0.86  0.04"
      ]
     },
     "metadata": {},
     "output_type": "display_data"
    },
    {
     "name": "stdout",
     "output_type": "stream",
     "text": [
      "-----------------------------------------\n"
     ]
    }
   ],
   "source": [
    "def every_region_pop_parameters_mean(parameter, region):\n",
    "    # Выводит таблицу топ-5 для заданного параметра и региона для таблицы df_filtered\n",
    "    \n",
    "    df_filtered_region = df_filtered.pivot_table(index=parameter, values=[region,'total_sales'], aggfunc='mean').sort_values(by=region, ascending = False)\n",
    "    df_filtered_region['rate'] = df_filtered_region[region] / df_filtered_region['total_sales']\n",
    "    display(df_filtered_region.head())\n",
    "    \n",
    "for parameter in parameters:\n",
    "    for i in range(len(regions)):\n",
    "        print(titles[i])\n",
    "        every_region_pop_parameters_mean(parameter, regions[i])\n",
    "    print('-----------------------------------------')"
   ]
  },
  {
   "cell_type": "markdown",
   "metadata": {},
   "source": [
    "### Вывод"
   ]
  },
  {
   "cell_type": "markdown",
   "metadata": {},
   "source": [
    "Для анализа взяли те платформы, что актуальны сейчас (в 2016 году). Это PS4, XOne, 3DS, PC, PSV и WiiU. У PC не так хорошо с продажами, как у топов, но зато они стабильно есть.\n",
    "\n",
    "***Северная Америка***\n",
    "Платформы:  ХOne, PS4, WiiU\n",
    "Жанры: Shooter, Platform, Sports \n",
    "Рейтинги: M, E\n",
    "\n",
    "***ЕС***\n",
    "Платформы: PS4, ХOne, WiiU, но здесь значительно много людей играют на PC\n",
    "Жанры: Shooter, Sports, Platform\n",
    "Рейтинги: M, E\n",
    "\n",
    "***Япония***\n",
    "Платформы: 3DS, WiiU и PSV. И ***совсем не популярна XOne***\n",
    "Жанры: RPG, Simulation, Platform\n",
    "Рейтинги: E, T и очень много игр с неопределенным рейтингом."
   ]
  },
  {
   "cell_type": "markdown",
   "metadata": {},
   "source": [
    "## Проверка гипотез"
   ]
  },
  {
   "cell_type": "markdown",
   "metadata": {},
   "source": [
    "Проверим гипотезы:\n",
    "- Средние пользовательские рейтинги платформ Xbox One и PC одинаковые;\n",
    "- Средние пользовательские рейтинги жанров Action (англ. «действие», экшен-игры) и Sports (англ. «спортивные соревнования») разные.\n",
    "\n",
    "Начнём с первой. За нулевую гипотезу примем, что средние пользовательские рейтинги платформ Xbox One и PC одинаковые. Альтернативная гипотеза - средние пользовательские рейтинги платформ Xbox One и PC разные. Чтобы проверить гипотезу о равенстве среднего двух генеральных совокупностей по взятым из них выборкам, применим метод t-test.\n",
    "\n",
    "Сперва создадим таблицу, где не будет игр с пользовательским рейтингом tbd. И преобразуем тип рейтинга. Построим гистограммы для каждой платформы по рейтингу."
   ]
  },
  {
   "cell_type": "code",
   "execution_count": 120,
   "metadata": {},
   "outputs": [
    {
     "data": {
      "image/png": "[encoded data removed]",
      "text/plain": [
       "<Figure size 432x288 with 1 Axes>"
      ]
     },
     "metadata": {
      "needs_background": "light"
     },
     "output_type": "display_data"
    }
   ],
   "source": [
    "df_filtered_user_score = df_filtered[(df_filtered['user_score'] != 'tbd') & (df_filtered['user_score'] != 'tbd2')]\n",
    "df_filtered_user_score['user_score'] = df_filtered_user_score['user_score'].astype(float)\n",
    "\n",
    "df_xone = df_filtered_user_score[df_filtered_user_score['platform'] == 'XOne']['user_score']\n",
    "df_pc = df_filtered_user_score[df_filtered_user_score['platform'] == 'PC']['user_score']\n",
    "\n",
    "df_xone.hist(bins=30).set_title('Гистограмма выпущенных игр по пользовательскому рейтингу для XOne')\n",
    "plt.xlabel('Рейтинг')\n",
    "plt.ylabel('Число выпущенных игр')\n",
    "plt.show()"
   ]
  },
  {
   "cell_type": "code",
   "execution_count": 121,
   "metadata": {},
   "outputs": [
    {
     "data": {
      "image/png": "[encoded data removed]",
      "text/plain": [
       "<Figure size 432x288 with 1 Axes>"
      ]
     },
     "metadata": {
      "needs_background": "light"
     },
     "output_type": "display_data"
    }
   ],
   "source": [
    "df_pc.hist(bins=30).set_title('Гистограмма выпущенных игр по пользовательскому рейтингу для PC')\n",
    "plt.xlabel('Рейтинг')\n",
    "plt.ylabel('Число выпущенных игр')\n",
    "plt.show()"
   ]
  },
  {
   "cell_type": "markdown",
   "metadata": {},
   "source": [
    "Гистограммы имеют довольно тяжёлый хвост слева, искажающий нормальное распределение. \n",
    "Проведём предварительный статистический тест на равенство дисперсий тестом Левене. Напишем функцию, которая считает дисперсии каждой из выборок, проводит тест Левене, считает equal_var для ttest и проводит его."
   ]
  },
  {
   "cell_type": "code",
   "execution_count": 122,
   "metadata": {},
   "outputs": [
    {
     "name": "stdout",
     "output_type": "stream",
     "text": [
      "Дисперсия рейтинга первой выборки: 2.0\n",
      "\n",
      "Дисперсия рейтинга второй выборки: 3.0\n",
      "\n",
      "Дисперсия рейтинга по всем платформам 2.0\n",
      "\n",
      "Проверка тестом Левене:\n",
      "\n",
      "p-Левене = 0.01251484281850554\n",
      "\n",
      "Дисперсии неоднородны\n",
      "\n",
      "p-значение: 0.5489537965134912\n",
      "Не получилось отвергнуть нулевую гипотезу\n"
     ]
    }
   ],
   "source": [
    "def check_variance_and_test_hypothesis(df_1, df_2):\n",
    "    #Считает дисперсии каждой из выборок, проводит тест Левене, считает equal_var для ttest и проводит его.\n",
    "\n",
    "    print('Дисперсия рейтинга первой выборки:', np.var(df_1, ddof=1).round())\n",
    "    print()\n",
    "    print('Дисперсия рейтинга второй выборки:', np.var(df_2, ddof=1).round())\n",
    "    print()\n",
    "    print('Дисперсия рейтинга по всем платформам', np.var(df_filtered_user_score['user_score']).round())\n",
    "\n",
    "    stat, p = levene(df_1, df_2)\n",
    "    print()\n",
    "    print('Проверка тестом Левене:')\n",
    "    print()\n",
    "    print('p-Левене =', p)\n",
    "    print()\n",
    "    if p > 0.05:\n",
    "        print('Дисперсии однородны')\n",
    "        equal_var_for_ttest = True\n",
    "    else:\n",
    "        print('Дисперсии неоднородны')\n",
    "        equal_var_for_ttest = False\n",
    "        \n",
    "    alpha = 0.05  # критический уровень статистической значимости\n",
    "    # если p-value окажется меньше него - отвергнем гипотезу\n",
    "\n",
    "    results = st.ttest_ind(df_1, df_2, equal_var = equal_var_for_ttest)\n",
    "    \n",
    "    print()\n",
    "    print('p-значение:', results.pvalue)\n",
    "\n",
    "    if results.pvalue < alpha:\n",
    "        print('Отвергаем нулевую гипотезу')\n",
    "    else:\n",
    "        print('Не получилось отвергнуть нулевую гипотезу')\n",
    "        \n",
    "check_variance_and_test_hypothesis(df_xone, df_pc)"
   ]
  },
  {
   "cell_type": "markdown",
   "metadata": {},
   "source": [
    "Для выбранного уровня значимости не получилось отвергнуть нулевую гипотезу, что средние пользовательские рейтинги платформ Xbox One и PC одинаковые.\n",
    "\n",
    "Проверим вторую гипотезу, что средние пользовательские рейтинги жанров Action и Sports разные. За нулевую гипотезу примем, что средние пользовательские рейтинги жанров Action и Sports одинаковые. Альтернативная гипотеза - средние пользовательские рейтинги жанров Action и Sports разные. Чтобы проверить гипотезу о равенстве среднего двух генеральных совокупностей по взятым из них выборкам, применим метод t-test.\n",
    "\n",
    "Построим гистограммы для каждого жанра по рейтингу."
   ]
  },
  {
   "cell_type": "code",
   "execution_count": 124,
   "metadata": {},
   "outputs": [
    {
     "data": {
      "image/png": "[encoded data removed]",
      "text/plain": [
       "<Figure size 432x288 with 1 Axes>"
      ]
     },
     "metadata": {
      "needs_background": "light"
     },
     "output_type": "display_data"
    }
   ],
   "source": [
    "df_action = df_filtered_user_score[df_filtered_user_score['genre'] == 'Action']['user_score']\n",
    "df_sports = df_filtered_user_score[df_filtered_user_score['genre'] == 'Sports']['user_score']\n",
    "\n",
    "df_action.hist(bins=30).set_title('Гистограмма выпущенных игр по пользовательскому рейтингу для жанра Action')\n",
    "plt.xlabel('Рейтинг')\n",
    "plt.ylabel('Число выпущенных игр')\n",
    "plt.show()"
   ]
  },
  {
   "cell_type": "code",
   "execution_count": 125,
   "metadata": {},
   "outputs": [
    {
     "data": {
      "image/png": "[encoded data removed]",
      "text/plain": [
       "<Figure size 432x288 with 1 Axes>"
      ]
     },
     "metadata": {
      "needs_background": "light"
     },
     "output_type": "display_data"
    }
   ],
   "source": [
    "df_sports.hist(bins=30).set_title('Гистограмма выпущенных игр по пользовательскому рейтингу для жанра Sports')\n",
    "plt.xlabel('Рейтинг')\n",
    "plt.ylabel('Число выпущенных игр')\n",
    "plt.show()"
   ]
  },
  {
   "cell_type": "markdown",
   "metadata": {},
   "source": [
    "Проведём предварительный статистический тест на равенство дисперсий тестом Левене и проверим гипотезы ttest'ом"
   ]
  },
  {
   "cell_type": "code",
   "execution_count": 126,
   "metadata": {},
   "outputs": [
    {
     "name": "stdout",
     "output_type": "stream",
     "text": [
      "Дисперсия рейтинга первой выборки: 2.0\n",
      "\n",
      "Дисперсия рейтинга второй выборки: 3.0\n",
      "\n",
      "Дисперсия рейтинга по всем платформам 2.0\n",
      "\n",
      "Проверка тестом Левене:\n",
      "\n",
      "p-Левене = 0.015678752727791484\n",
      "\n",
      "Дисперсии неоднородны\n",
      "\n",
      "p-значение: 1.9702408075214035e-11\n",
      "Отвергаем нулевую гипотезу\n"
     ]
    }
   ],
   "source": [
    "check_variance_and_test_hypothesis(df_action, df_sports)"
   ]
  },
  {
   "cell_type": "markdown",
   "metadata": {},
   "source": [
    "Для выбранного уровня значимости отвергаем нулевую гипотезу, что средние пользовательские рейтинги жанров Action и Sports одинаковые."
   ]
  },
  {
   "cell_type": "markdown",
   "metadata": {},
   "source": [
    "### Вывод"
   ]
  },
  {
   "cell_type": "markdown",
   "metadata": {},
   "source": [
    "Не получилось отвергнуть гипотезу, что средние пользовательские рейтинги платформ Xbox One и PC одинаковые, и для гипотезы, что средние пользовательские рейтинги жанров Action и Sports разные, нет оснований предполагать обратное."
   ]
  },
  {
   "cell_type": "markdown",
   "metadata": {},
   "source": [
    "## Общий вывод"
   ]
  },
  {
   "cell_type": "markdown",
   "metadata": {},
   "source": [
    "На подготовке данных обнаружены пропуски в Year_of_Release, Critic_Score, User_Score и Rating, которые могут быть связаны с техническими проблемами, и о которых стоит сообщить в разработку. Возможно, данные по рейтингу были собраны из разных источников и склеены в итоге.\n",
    "\n",
    "Обнаружено 'tbd' в рейтингах. Выяснили, что это означает To Be Determined (будет определено). Используется, если какая-то информация еще не определена или решение по вопросу не принято. Акроним служит для отметки неясностей или пропусков, которые надо заполнить. Привели все пропуски в рейтинге к 'tbd2'.\n",
    "\n",
    "Для анализа взяли те платформы, что актуальны сейчас (в 2016 году). Это PS4, XOne, 3DS, PC, PSV и WiiU. У PC не так хорошо с продажами, как у топов, но зато они стабильно есть.\n",
    "\n",
    "Посмотрели, как рейтинги пользователей и критиков влияют на продажи по всем отобранным платформам и в пределах одной популярной платформы PS4. Пользователи самой популярной платформы PS4 больше внимания обращают на рейтинг критиков, чем в целом по всем остальным платформам. Рейтинг пользователей не играет значительной роли при оценке продаж как для PS4, так и для всех отобранных платформ.\n",
    "\n",
    "Было больше прибыли с игр жанра Action, следом идут Shooter и Sports. Наименее популярны Puzzle, Strategy и Adventure. Можно сказать, что **жанры категории \"на реакцию\" значительно более популярны \"игр на подумать\"**. Однако, **среди пользователей PC Role-Playing и Strategy выходят в топ 5**. И в целом можно выделить, какой жанр на какой платформе лучше продается. Однако, в среднем игра жанра Action не так много приносит денег, и на первый план выходят Shooter и становятся заметны игры жанра Platform. \n",
    "\n",
    "**В Северной Америке и Европе популярнее платформы  PS4 и XOne, в Японии 3DS**. Стоит отметить, что **60% игр с PC приходится на Европу, а в Японии X box очень сильно отстает от остальных платформ**. По жанрам Америка и Европа схожи с распределением по всем регионам, а **Япония в первую очередь любит Role-Playing и совсем не в их вкусе Shooter, зато появляются игры жанра Simulation**.\n",
    "\n",
    "В Северной Америке и Европе наиболее популярны игры для взрослых, на втором месте с небольшим отрывом игры для всех. Для Японии на первом месте игры для всех, на втором для тинейджеров, на третьем - для взрослых, и на последнем - для детей младшего возраста. Взрослые в Японии менее активно играют в игры, либо выбирают игры других категорий.\n",
    "\n",
    "Не получилось отвергнуть гипотезу, что средние пользовательские рейтинги платформ Xbox One и PC одинаковые, и для гипотезы, что средние пользовательские рейтинги жанров Action и Sports разные, нет оснований предполагать обратное.\n",
    "\n",
    "Таким образом, **успешность игры зависит от соответствия жанра региону**. То есть, реклама жанра Simulation пройдёт успешнее в Японии, а Action, Shooter и Sports в Северной Америке и Европе. **Рекламу игр разных жанров имеет смысл настраивать в зависимости от платформы**:\n",
    "\n",
    "- Action и Sports - для пользователей X box, Play Station и WiiU, \n",
    "- Shooter - для пользователей X box и Play Station,\n",
    "- Role-Playing - для пользователей 3DS и PC\n",
    "- Strategy - для пользователей PC\n",
    "- Misc и Puzzle - для пользователей WiiU, так как продаж на остальных платформах почти нет\n",
    "\n",
    "Наиболее популярные платформы, жанры и рейтинги:\n",
    "\n",
    "\n",
    "***Северная Америка***\n",
    "\n",
    "Платформы:  ХOne, PS4, WiiU\n",
    "\n",
    "Жанры: Shooter, Platform, Sports \n",
    "\n",
    "Рейтинги: M, E\n",
    "\n",
    "***ЕС***\n",
    "\n",
    "Платформы: PS4, ХOne, WiiU, но здесь значительно много людей играют на PC\n",
    "\n",
    "Жанры: Shooter, Sports, Platform\n",
    "\n",
    "Рейтинги: M, E\n",
    "\n",
    "***Япония***\n",
    "\n",
    "Платформы: 3DS, WiiU и PSV. И ***совсем не популярна XOne***\n",
    "\n",
    "Жанры: RPG, Simulation, Platform\n",
    "\n",
    "Рейтинги: E, T и очень много игр с неопределенным рейтингом."
   ]
  }
 ],
 "metadata": {
  "ExecuteTimeLog": [
   {
    "duration": 147,
    "start_time": "2021-06-28T11:38:52.966Z"
   },
   {
    "duration": 107,
    "start_time": "2021-06-28T11:50:34.317Z"
   },
   {
    "duration": 1383,
    "start_time": "2021-06-28T11:58:34.100Z"
   },
   {
    "duration": 5,
    "start_time": "2021-06-28T12:00:39.164Z"
   },
   {
    "duration": 133,
    "start_time": "2021-06-28T12:01:35.220Z"
   },
   {
    "duration": 207,
    "start_time": "2021-06-28T12:01:44.659Z"
   },
   {
    "duration": 117,
    "start_time": "2021-06-28T13:27:01.531Z"
   },
   {
    "duration": 126,
    "start_time": "2021-06-28T13:28:47.907Z"
   },
   {
    "duration": 513,
    "start_time": "2021-06-28T13:31:34.231Z"
   },
   {
    "duration": 368,
    "start_time": "2021-06-28T13:34:39.113Z"
   },
   {
    "duration": 8,
    "start_time": "2021-06-28T13:34:51.360Z"
   },
   {
    "duration": 41,
    "start_time": "2021-06-28T14:33:57.270Z"
   },
   {
    "duration": 503,
    "start_time": "2021-06-28T14:37:12.112Z"
   },
   {
    "duration": 29,
    "start_time": "2021-06-28T14:39:03.769Z"
   },
   {
    "duration": 17,
    "start_time": "2021-06-28T14:45:02.366Z"
   },
   {
    "duration": 17,
    "start_time": "2021-06-28T14:46:44.326Z"
   },
   {
    "duration": 134,
    "start_time": "2021-06-28T14:47:26.493Z"
   },
   {
    "duration": 389,
    "start_time": "2021-06-28T14:48:22.077Z"
   },
   {
    "duration": 430,
    "start_time": "2021-06-28T14:48:25.557Z"
   },
   {
    "duration": 16,
    "start_time": "2021-06-28T14:48:41.189Z"
   },
   {
    "duration": 15,
    "start_time": "2021-06-28T14:49:00.965Z"
   },
   {
    "duration": 362,
    "start_time": "2021-06-28T14:49:55.645Z"
   },
   {
    "duration": 21,
    "start_time": "2021-06-28T14:50:07.334Z"
   },
   {
    "duration": 22,
    "start_time": "2021-06-28T14:53:55.842Z"
   },
   {
    "duration": 429,
    "start_time": "2021-06-28T14:59:34.042Z"
   },
   {
    "duration": 1344,
    "start_time": "2021-06-28T15:06:25.002Z"
   },
   {
    "duration": 19,
    "start_time": "2021-06-28T15:09:54.000Z"
   },
   {
    "duration": 19,
    "start_time": "2021-06-28T15:10:39.535Z"
   },
   {
    "duration": 18,
    "start_time": "2021-06-28T15:10:49.064Z"
   },
   {
    "duration": 16,
    "start_time": "2021-06-28T15:11:48.569Z"
   },
   {
    "duration": 1479,
    "start_time": "2021-06-29T08:10:53.787Z"
   },
   {
    "duration": 251,
    "start_time": "2021-06-29T08:10:55.269Z"
   },
   {
    "duration": 9,
    "start_time": "2021-06-29T08:10:55.525Z"
   },
   {
    "duration": 50,
    "start_time": "2021-06-29T08:10:55.538Z"
   },
   {
    "duration": 27,
    "start_time": "2021-06-29T08:10:55.591Z"
   },
   {
    "duration": 20,
    "start_time": "2021-06-29T08:10:55.621Z"
   },
   {
    "duration": 99,
    "start_time": "2021-06-29T08:11:12.425Z"
   },
   {
    "duration": 425,
    "start_time": "2021-06-29T08:11:17.620Z"
   },
   {
    "duration": 327,
    "start_time": "2021-06-29T08:15:22.630Z"
   },
   {
    "duration": 5,
    "start_time": "2021-06-29T08:15:43.928Z"
   },
   {
    "duration": 101,
    "start_time": "2021-06-29T08:16:05.874Z"
   },
   {
    "duration": 1017,
    "start_time": "2021-06-29T12:33:12.747Z"
   },
   {
    "duration": 153,
    "start_time": "2021-06-29T12:33:13.766Z"
   },
   {
    "duration": 5,
    "start_time": "2021-06-29T12:33:13.921Z"
   },
   {
    "duration": 15,
    "start_time": "2021-06-29T12:33:13.928Z"
   },
   {
    "duration": 13,
    "start_time": "2021-06-29T12:33:13.944Z"
   },
   {
    "duration": 32,
    "start_time": "2021-06-29T12:33:13.959Z"
   },
   {
    "duration": 4,
    "start_time": "2021-06-29T12:33:24.386Z"
   },
   {
    "duration": 4,
    "start_time": "2021-06-29T12:33:29.354Z"
   },
   {
    "duration": 4,
    "start_time": "2021-06-29T12:33:42.154Z"
   },
   {
    "duration": 4,
    "start_time": "2021-06-29T12:34:05.170Z"
   },
   {
    "duration": 4,
    "start_time": "2021-06-29T12:34:09.436Z"
   },
   {
    "duration": 3,
    "start_time": "2021-06-29T12:37:16.049Z"
   },
   {
    "duration": 259,
    "start_time": "2021-06-29T12:37:23.314Z"
   },
   {
    "duration": 4,
    "start_time": "2021-06-29T12:37:37.602Z"
   },
   {
    "duration": 4,
    "start_time": "2021-06-29T12:37:42.922Z"
   },
   {
    "duration": 4,
    "start_time": "2021-06-29T12:37:46.810Z"
   },
   {
    "duration": 4,
    "start_time": "2021-06-29T12:38:04.467Z"
   },
   {
    "duration": 173,
    "start_time": "2021-06-29T12:39:42.784Z"
   },
   {
    "duration": 4,
    "start_time": "2021-06-29T12:39:57.209Z"
   },
   {
    "duration": 4,
    "start_time": "2021-06-29T12:40:20.939Z"
   },
   {
    "duration": 3,
    "start_time": "2021-06-29T12:46:24.080Z"
   },
   {
    "duration": 4,
    "start_time": "2021-06-29T12:46:48.335Z"
   },
   {
    "duration": 63,
    "start_time": "2021-06-29T12:48:27.962Z"
   },
   {
    "duration": 4,
    "start_time": "2021-06-29T12:48:33.638Z"
   },
   {
    "duration": 4,
    "start_time": "2021-06-29T12:48:39.182Z"
   },
   {
    "duration": 3,
    "start_time": "2021-06-29T12:48:44.255Z"
   },
   {
    "duration": 4,
    "start_time": "2021-06-29T13:02:47.876Z"
   },
   {
    "duration": 3,
    "start_time": "2021-06-29T13:06:16.924Z"
   },
   {
    "duration": 4,
    "start_time": "2021-06-29T13:07:07.992Z"
   },
   {
    "duration": 4,
    "start_time": "2021-06-29T13:08:16.803Z"
   },
   {
    "duration": 121,
    "start_time": "2021-06-29T13:49:19.011Z"
   },
   {
    "duration": 138,
    "start_time": "2021-06-29T13:50:16.140Z"
   },
   {
    "duration": 132,
    "start_time": "2021-06-29T13:50:26.835Z"
   },
   {
    "duration": 129,
    "start_time": "2021-06-29T13:50:38.403Z"
   },
   {
    "duration": 58,
    "start_time": "2021-06-29T13:54:10.593Z"
   },
   {
    "duration": 4302,
    "start_time": "2021-06-29T13:54:31.779Z"
   },
   {
    "duration": 3,
    "start_time": "2021-06-29T13:54:45.307Z"
   },
   {
    "duration": 126,
    "start_time": "2021-06-29T13:54:45.313Z"
   },
   {
    "duration": 5,
    "start_time": "2021-06-29T13:54:45.442Z"
   },
   {
    "duration": 199,
    "start_time": "2021-06-29T13:54:51.546Z"
   },
   {
    "duration": 195,
    "start_time": "2021-06-29T13:55:23.706Z"
   },
   {
    "duration": 25,
    "start_time": "2021-06-29T13:55:38.026Z"
   },
   {
    "duration": 25,
    "start_time": "2021-06-29T13:56:08.931Z"
   },
   {
    "duration": 11,
    "start_time": "2021-06-29T13:56:38.482Z"
   },
   {
    "duration": 16,
    "start_time": "2021-06-29T13:57:09.714Z"
   },
   {
    "duration": 11,
    "start_time": "2021-06-29T13:57:17.113Z"
   },
   {
    "duration": 235,
    "start_time": "2021-06-29T13:57:36.001Z"
   },
   {
    "duration": 3,
    "start_time": "2021-06-29T13:57:39.884Z"
   },
   {
    "duration": 141,
    "start_time": "2021-06-29T13:57:39.889Z"
   },
   {
    "duration": 6,
    "start_time": "2021-06-29T13:57:40.032Z"
   },
   {
    "duration": 11,
    "start_time": "2021-06-29T13:57:40.039Z"
   },
   {
    "duration": 35,
    "start_time": "2021-06-29T13:57:40.052Z"
   },
   {
    "duration": 19,
    "start_time": "2021-06-29T13:57:42.713Z"
   },
   {
    "duration": 20,
    "start_time": "2021-06-29T13:59:09.034Z"
   },
   {
    "duration": 21,
    "start_time": "2021-06-29T13:59:17.609Z"
   },
   {
    "duration": 60,
    "start_time": "2021-06-29T14:04:34.072Z"
   },
   {
    "duration": 187,
    "start_time": "2021-06-29T14:05:57.632Z"
   },
   {
    "duration": 16,
    "start_time": "2021-06-29T14:06:28.222Z"
   },
   {
    "duration": 186,
    "start_time": "2021-06-29T14:07:25.663Z"
   },
   {
    "duration": 718,
    "start_time": "2021-06-29T14:07:37.345Z"
   },
   {
    "duration": 209,
    "start_time": "2021-06-29T14:07:41.903Z"
   },
   {
    "duration": 12,
    "start_time": "2021-06-29T14:07:49.137Z"
   },
   {
    "duration": 183,
    "start_time": "2021-06-29T14:07:55.687Z"
   },
   {
    "duration": 20,
    "start_time": "2021-06-29T14:10:22.255Z"
   },
   {
    "duration": 3,
    "start_time": "2021-06-29T14:11:52.425Z"
   },
   {
    "duration": 152,
    "start_time": "2021-06-29T14:11:52.431Z"
   },
   {
    "duration": 6,
    "start_time": "2021-06-29T14:11:52.585Z"
   },
   {
    "duration": 11,
    "start_time": "2021-06-29T14:11:52.593Z"
   },
   {
    "duration": 14,
    "start_time": "2021-06-29T14:11:52.606Z"
   },
   {
    "duration": 19,
    "start_time": "2021-06-29T14:11:52.622Z"
   },
   {
    "duration": 26,
    "start_time": "2021-06-29T14:11:56.095Z"
   },
   {
    "duration": 3,
    "start_time": "2021-06-29T14:12:18.592Z"
   },
   {
    "duration": 199,
    "start_time": "2021-06-29T14:12:18.597Z"
   },
   {
    "duration": 5,
    "start_time": "2021-06-29T14:12:18.798Z"
   },
   {
    "duration": 10,
    "start_time": "2021-06-29T14:12:18.805Z"
   },
   {
    "duration": 13,
    "start_time": "2021-06-29T14:12:18.816Z"
   },
   {
    "duration": 17,
    "start_time": "2021-06-29T14:12:18.831Z"
   },
   {
    "duration": 12,
    "start_time": "2021-06-29T14:12:22.480Z"
   },
   {
    "duration": 25,
    "start_time": "2021-06-29T14:12:31.479Z"
   },
   {
    "duration": 28,
    "start_time": "2021-06-29T14:14:48.486Z"
   },
   {
    "duration": 26,
    "start_time": "2021-06-29T14:15:27.407Z"
   },
   {
    "duration": 26,
    "start_time": "2021-06-29T14:17:00.262Z"
   },
   {
    "duration": 32,
    "start_time": "2021-06-29T14:17:13.918Z"
   },
   {
    "duration": 26,
    "start_time": "2021-06-29T14:17:20.606Z"
   },
   {
    "duration": 2,
    "start_time": "2021-06-29T14:27:12.570Z"
   },
   {
    "duration": 14,
    "start_time": "2021-06-29T14:32:47.983Z"
   },
   {
    "duration": 775,
    "start_time": "2021-06-29T14:50:05.758Z"
   },
   {
    "duration": 984,
    "start_time": "2021-06-29T14:55:34.684Z"
   },
   {
    "duration": 4,
    "start_time": "2021-06-29T14:55:41.808Z"
   },
   {
    "duration": 142,
    "start_time": "2021-06-29T14:55:41.814Z"
   },
   {
    "duration": 5,
    "start_time": "2021-06-29T14:55:41.958Z"
   },
   {
    "duration": 14,
    "start_time": "2021-06-29T14:55:41.965Z"
   },
   {
    "duration": 16,
    "start_time": "2021-06-29T14:55:41.980Z"
   },
   {
    "duration": 19,
    "start_time": "2021-06-29T14:55:41.998Z"
   },
   {
    "duration": 30,
    "start_time": "2021-06-29T14:55:42.020Z"
   },
   {
    "duration": 37,
    "start_time": "2021-06-29T14:55:42.052Z"
   },
   {
    "duration": 1031,
    "start_time": "2021-06-29T15:02:24.823Z"
   },
   {
    "duration": 132,
    "start_time": "2021-06-29T15:02:25.856Z"
   },
   {
    "duration": 7,
    "start_time": "2021-06-29T15:02:25.991Z"
   },
   {
    "duration": 17,
    "start_time": "2021-06-29T15:02:26.001Z"
   },
   {
    "duration": 16,
    "start_time": "2021-06-29T15:02:26.020Z"
   },
   {
    "duration": 64,
    "start_time": "2021-06-29T15:02:26.038Z"
   },
   {
    "duration": 35,
    "start_time": "2021-06-29T15:02:26.104Z"
   },
   {
    "duration": 52,
    "start_time": "2021-06-29T15:02:26.141Z"
   },
   {
    "duration": 1001,
    "start_time": "2021-06-29T15:13:28.973Z"
   },
   {
    "duration": 144,
    "start_time": "2021-06-29T15:13:29.976Z"
   },
   {
    "duration": 5,
    "start_time": "2021-06-29T15:13:30.122Z"
   },
   {
    "duration": 15,
    "start_time": "2021-06-29T15:13:30.128Z"
   },
   {
    "duration": 15,
    "start_time": "2021-06-29T15:13:30.145Z"
   },
   {
    "duration": 25,
    "start_time": "2021-06-29T15:13:30.161Z"
   },
   {
    "duration": 31,
    "start_time": "2021-06-29T15:13:30.188Z"
   },
   {
    "duration": 13,
    "start_time": "2021-06-29T15:13:30.221Z"
   },
   {
    "duration": 17629,
    "start_time": "2021-06-29T15:13:35.337Z"
   },
   {
    "duration": 909,
    "start_time": "2021-06-29T15:14:59.069Z"
   },
   {
    "duration": 1039,
    "start_time": "2021-06-29T21:32:10.331Z"
   },
   {
    "duration": 182,
    "start_time": "2021-06-29T21:32:11.371Z"
   },
   {
    "duration": 7,
    "start_time": "2021-06-29T21:32:11.555Z"
   },
   {
    "duration": 16,
    "start_time": "2021-06-29T21:32:11.564Z"
   },
   {
    "duration": 14,
    "start_time": "2021-06-29T21:32:11.584Z"
   },
   {
    "duration": 20,
    "start_time": "2021-06-29T21:32:11.600Z"
   },
   {
    "duration": 32,
    "start_time": "2021-06-29T21:32:11.621Z"
   },
   {
    "duration": 37,
    "start_time": "2021-06-29T21:32:11.656Z"
   },
   {
    "duration": 759,
    "start_time": "2021-06-29T22:19:43.801Z"
   },
   {
    "duration": 1077,
    "start_time": "2021-06-29T22:20:27.598Z"
   },
   {
    "duration": 186,
    "start_time": "2021-06-29T22:20:28.677Z"
   },
   {
    "duration": 5,
    "start_time": "2021-06-29T22:20:28.866Z"
   },
   {
    "duration": 15,
    "start_time": "2021-06-29T22:20:28.874Z"
   },
   {
    "duration": 16,
    "start_time": "2021-06-29T22:20:28.891Z"
   },
   {
    "duration": 19,
    "start_time": "2021-06-29T22:20:28.908Z"
   },
   {
    "duration": 56,
    "start_time": "2021-06-29T22:20:28.929Z"
   },
   {
    "duration": 14,
    "start_time": "2021-06-29T22:20:28.987Z"
   },
   {
    "duration": 243,
    "start_time": "2021-06-29T22:20:31.466Z"
   },
   {
    "duration": 721,
    "start_time": "2021-06-29T22:20:56.904Z"
   },
   {
    "duration": 1352,
    "start_time": "2021-06-30T13:21:52.395Z"
   },
   {
    "duration": 163,
    "start_time": "2021-06-30T13:21:53.749Z"
   },
   {
    "duration": 9,
    "start_time": "2021-06-30T13:21:53.917Z"
   },
   {
    "duration": 44,
    "start_time": "2021-06-30T13:21:53.930Z"
   },
   {
    "duration": 22,
    "start_time": "2021-06-30T13:21:53.977Z"
   },
   {
    "duration": 63,
    "start_time": "2021-06-30T13:21:54.002Z"
   },
   {
    "duration": 69,
    "start_time": "2021-06-30T13:21:54.068Z"
   },
   {
    "duration": 50,
    "start_time": "2021-06-30T13:21:54.140Z"
   },
   {
    "duration": 1397,
    "start_time": "2021-06-30T13:42:40.631Z"
   },
   {
    "duration": 268,
    "start_time": "2021-06-30T13:42:42.030Z"
   },
   {
    "duration": 8,
    "start_time": "2021-06-30T13:42:42.301Z"
   },
   {
    "duration": 22,
    "start_time": "2021-06-30T13:42:42.312Z"
   },
   {
    "duration": 23,
    "start_time": "2021-06-30T13:42:42.361Z"
   },
   {
    "duration": 34,
    "start_time": "2021-06-30T13:42:42.386Z"
   },
   {
    "duration": 84,
    "start_time": "2021-06-30T13:42:42.423Z"
   },
   {
    "duration": 21,
    "start_time": "2021-06-30T13:42:42.510Z"
   },
   {
    "duration": 6,
    "start_time": "2021-06-30T13:42:45.435Z"
   },
   {
    "duration": 6,
    "start_time": "2021-06-30T13:42:58.630Z"
   },
   {
    "duration": 9,
    "start_time": "2021-06-30T13:43:18.733Z"
   },
   {
    "duration": 1388,
    "start_time": "2021-06-30T19:34:19.268Z"
   },
   {
    "duration": 202,
    "start_time": "2021-06-30T19:34:20.658Z"
   },
   {
    "duration": 9,
    "start_time": "2021-06-30T19:34:20.863Z"
   },
   {
    "duration": 42,
    "start_time": "2021-06-30T19:34:20.875Z"
   },
   {
    "duration": 22,
    "start_time": "2021-06-30T19:34:20.920Z"
   },
   {
    "duration": 65,
    "start_time": "2021-06-30T19:34:20.945Z"
   },
   {
    "duration": 51,
    "start_time": "2021-06-30T19:34:21.013Z"
   },
   {
    "duration": 47,
    "start_time": "2021-06-30T19:34:21.068Z"
   },
   {
    "duration": 7,
    "start_time": "2021-06-30T19:34:23.016Z"
   },
   {
    "duration": 383,
    "start_time": "2021-06-30T19:34:40.808Z"
   },
   {
    "duration": 276,
    "start_time": "2021-06-30T19:34:47.361Z"
   },
   {
    "duration": 6,
    "start_time": "2021-06-30T19:34:56.833Z"
   },
   {
    "duration": 8,
    "start_time": "2021-06-30T19:35:32.905Z"
   },
   {
    "duration": 604,
    "start_time": "2021-06-30T19:46:32.654Z"
   },
   {
    "duration": 139,
    "start_time": "2021-06-30T19:46:45.100Z"
   },
   {
    "duration": 298,
    "start_time": "2021-06-30T19:46:45.242Z"
   },
   {
    "duration": 8,
    "start_time": "2021-06-30T19:46:45.543Z"
   },
   {
    "duration": 19,
    "start_time": "2021-06-30T19:46:45.554Z"
   },
   {
    "duration": 54,
    "start_time": "2021-06-30T19:46:45.576Z"
   },
   {
    "duration": 31,
    "start_time": "2021-06-30T19:46:45.632Z"
   },
   {
    "duration": 78,
    "start_time": "2021-06-30T19:46:45.665Z"
   },
   {
    "duration": 21,
    "start_time": "2021-06-30T19:46:45.746Z"
   },
   {
    "duration": 2051,
    "start_time": "2021-06-30T19:46:45.769Z"
   },
   {
    "duration": 325,
    "start_time": "2021-06-30T19:47:16.382Z"
   },
   {
    "duration": 2015,
    "start_time": "2021-06-30T19:47:19.149Z"
   },
   {
    "duration": 390,
    "start_time": "2021-06-30T19:53:22.238Z"
   },
   {
    "duration": 7152,
    "start_time": "2021-06-30T19:53:35.110Z"
   },
   {
    "duration": 351,
    "start_time": "2021-06-30T19:56:00.623Z"
   },
   {
    "duration": 428,
    "start_time": "2021-06-30T19:56:47.040Z"
   },
   {
    "duration": 258,
    "start_time": "2021-06-30T19:56:49.776Z"
   },
   {
    "duration": 229,
    "start_time": "2021-06-30T19:56:58.408Z"
   },
   {
    "duration": 407,
    "start_time": "2021-06-30T19:59:30.178Z"
   },
   {
    "duration": 425,
    "start_time": "2021-06-30T19:59:39.482Z"
   },
   {
    "duration": 395,
    "start_time": "2021-06-30T20:01:09.227Z"
   },
   {
    "duration": 2314,
    "start_time": "2021-06-30T20:10:06.748Z"
   },
   {
    "duration": 2210,
    "start_time": "2021-06-30T20:10:11.061Z"
   },
   {
    "duration": 1925,
    "start_time": "2021-06-30T20:10:21.702Z"
   },
   {
    "duration": 1897,
    "start_time": "2021-06-30T20:11:02.343Z"
   },
   {
    "duration": 1909,
    "start_time": "2021-06-30T20:11:18.870Z"
   },
   {
    "duration": 533,
    "start_time": "2021-06-30T20:12:27.952Z"
   },
   {
    "duration": 522,
    "start_time": "2021-06-30T20:12:41.425Z"
   },
   {
    "duration": 311,
    "start_time": "2021-06-30T20:14:30.937Z"
   },
   {
    "duration": 579,
    "start_time": "2021-06-30T20:15:20.849Z"
   },
   {
    "duration": 1417,
    "start_time": "2021-07-01T08:38:31.526Z"
   },
   {
    "duration": 263,
    "start_time": "2021-07-01T08:38:32.946Z"
   },
   {
    "duration": 8,
    "start_time": "2021-07-01T08:38:33.212Z"
   },
   {
    "duration": 27,
    "start_time": "2021-07-01T08:38:33.222Z"
   },
   {
    "duration": 44,
    "start_time": "2021-07-01T08:38:33.252Z"
   },
   {
    "duration": 30,
    "start_time": "2021-07-01T08:38:33.299Z"
   },
   {
    "duration": 70,
    "start_time": "2021-07-01T08:38:33.332Z"
   },
   {
    "duration": 21,
    "start_time": "2021-07-01T08:38:33.406Z"
   },
   {
    "duration": 420,
    "start_time": "2021-07-01T08:38:33.430Z"
   },
   {
    "duration": 260,
    "start_time": "2021-07-01T08:38:33.852Z"
   },
   {
    "duration": 572,
    "start_time": "2021-07-01T08:38:34.115Z"
   },
   {
    "duration": 1290,
    "start_time": "2021-07-01T08:38:37.748Z"
   },
   {
    "duration": 702,
    "start_time": "2021-07-01T08:38:51.622Z"
   },
   {
    "duration": 28,
    "start_time": "2021-07-01T08:39:05.208Z"
   },
   {
    "duration": 319,
    "start_time": "2021-07-01T08:41:27.443Z"
   },
   {
    "duration": 343,
    "start_time": "2021-07-01T08:41:32.138Z"
   },
   {
    "duration": 27,
    "start_time": "2021-07-01T08:42:28.315Z"
   },
   {
    "duration": 335,
    "start_time": "2021-07-01T08:43:25.975Z"
   },
   {
    "duration": 28,
    "start_time": "2021-07-01T08:44:22.558Z"
   },
   {
    "duration": 21,
    "start_time": "2021-07-01T08:44:29.822Z"
   },
   {
    "duration": 20,
    "start_time": "2021-07-01T08:45:01.814Z"
   },
   {
    "duration": 27,
    "start_time": "2021-07-01T08:45:20.129Z"
   },
   {
    "duration": 28,
    "start_time": "2021-07-01T08:45:48.032Z"
   },
   {
    "duration": 672,
    "start_time": "2021-07-01T08:46:02.359Z"
   },
   {
    "duration": 27,
    "start_time": "2021-07-01T08:46:13.736Z"
   },
   {
    "duration": 1516,
    "start_time": "2021-07-01T11:27:16.002Z"
   },
   {
    "duration": 286,
    "start_time": "2021-07-01T11:27:17.521Z"
   },
   {
    "duration": 16,
    "start_time": "2021-07-01T11:27:17.810Z"
   },
   {
    "duration": 23,
    "start_time": "2021-07-01T11:27:17.829Z"
   },
   {
    "duration": 24,
    "start_time": "2021-07-01T11:27:17.854Z"
   },
   {
    "duration": 65,
    "start_time": "2021-07-01T11:27:17.880Z"
   },
   {
    "duration": 47,
    "start_time": "2021-07-01T11:27:17.948Z"
   },
   {
    "duration": 43,
    "start_time": "2021-07-01T11:27:17.997Z"
   },
   {
    "duration": 438,
    "start_time": "2021-07-01T11:27:18.044Z"
   },
   {
    "duration": 261,
    "start_time": "2021-07-01T11:27:18.485Z"
   },
   {
    "duration": 26,
    "start_time": "2021-07-01T11:27:18.749Z"
   },
   {
    "duration": 586,
    "start_time": "2021-07-01T11:27:23.594Z"
   },
   {
    "duration": 38,
    "start_time": "2021-07-01T11:29:58.803Z"
   },
   {
    "duration": 799,
    "start_time": "2021-07-01T11:32:16.315Z"
   },
   {
    "duration": 38,
    "start_time": "2021-07-01T11:32:40.780Z"
   },
   {
    "duration": 600,
    "start_time": "2021-07-01T11:33:52.955Z"
   },
   {
    "duration": 434,
    "start_time": "2021-07-01T11:34:37.813Z"
   },
   {
    "duration": 314,
    "start_time": "2021-07-01T11:34:58.339Z"
   },
   {
    "duration": 1344,
    "start_time": "2021-07-01T11:35:12.236Z"
   },
   {
    "duration": 1021,
    "start_time": "2021-07-01T11:35:40.371Z"
   },
   {
    "duration": 1016,
    "start_time": "2021-07-01T11:35:44.332Z"
   },
   {
    "duration": 690,
    "start_time": "2021-07-01T11:35:47.409Z"
   },
   {
    "duration": 44,
    "start_time": "2021-07-01T11:38:16.638Z"
   },
   {
    "duration": 10,
    "start_time": "2021-07-01T12:00:09.124Z"
   },
   {
    "duration": 12,
    "start_time": "2021-07-01T12:00:15.631Z"
   },
   {
    "duration": 26,
    "start_time": "2021-07-01T12:03:27.372Z"
   },
   {
    "duration": 915,
    "start_time": "2021-07-01T12:05:09.100Z"
   },
   {
    "duration": 367,
    "start_time": "2021-07-01T12:07:11.141Z"
   },
   {
    "duration": 299,
    "start_time": "2021-07-01T12:07:19.277Z"
   },
   {
    "duration": 285,
    "start_time": "2021-07-01T12:07:35.309Z"
   },
   {
    "duration": 16,
    "start_time": "2021-07-01T12:07:41.917Z"
   },
   {
    "duration": 281,
    "start_time": "2021-07-01T12:08:42.945Z"
   },
   {
    "duration": -40,
    "start_time": "2021-07-01T12:08:43.269Z"
   },
   {
    "duration": -43,
    "start_time": "2021-07-01T12:08:43.273Z"
   },
   {
    "duration": -60,
    "start_time": "2021-07-01T12:08:43.291Z"
   },
   {
    "duration": -63,
    "start_time": "2021-07-01T12:08:43.296Z"
   },
   {
    "duration": -68,
    "start_time": "2021-07-01T12:08:43.302Z"
   },
   {
    "duration": -70,
    "start_time": "2021-07-01T12:08:43.306Z"
   },
   {
    "duration": -71,
    "start_time": "2021-07-01T12:08:43.308Z"
   },
   {
    "duration": -79,
    "start_time": "2021-07-01T12:08:43.317Z"
   },
   {
    "duration": -79,
    "start_time": "2021-07-01T12:08:43.319Z"
   },
   {
    "duration": -81,
    "start_time": "2021-07-01T12:08:43.322Z"
   },
   {
    "duration": -83,
    "start_time": "2021-07-01T12:08:43.325Z"
   },
   {
    "duration": -83,
    "start_time": "2021-07-01T12:08:43.327Z"
   },
   {
    "duration": 87,
    "start_time": "2021-07-01T12:10:45.213Z"
   },
   {
    "duration": 101,
    "start_time": "2021-07-01T12:10:58.676Z"
   },
   {
    "duration": 106,
    "start_time": "2021-07-01T12:11:26.115Z"
   },
   {
    "duration": 5089,
    "start_time": "2021-07-01T12:11:55.909Z"
   },
   {
    "duration": 4950,
    "start_time": "2021-07-01T12:14:18.005Z"
   },
   {
    "duration": 3212,
    "start_time": "2021-07-01T12:15:30.299Z"
   },
   {
    "duration": 3260,
    "start_time": "2021-07-01T12:15:44.357Z"
   },
   {
    "duration": 197,
    "start_time": "2021-07-01T12:15:47.619Z"
   },
   {
    "duration": 8,
    "start_time": "2021-07-01T12:15:47.819Z"
   },
   {
    "duration": 41,
    "start_time": "2021-07-01T12:15:47.830Z"
   },
   {
    "duration": 22,
    "start_time": "2021-07-01T12:15:47.874Z"
   },
   {
    "duration": 41,
    "start_time": "2021-07-01T12:15:47.900Z"
   },
   {
    "duration": 45,
    "start_time": "2021-07-01T12:15:47.944Z"
   },
   {
    "duration": 49,
    "start_time": "2021-07-01T12:15:47.993Z"
   },
   {
    "duration": 596,
    "start_time": "2021-07-01T12:15:48.047Z"
   },
   {
    "duration": 264,
    "start_time": "2021-07-01T12:15:48.646Z"
   },
   {
    "duration": 37,
    "start_time": "2021-07-01T12:15:48.912Z"
   },
   {
    "duration": 765,
    "start_time": "2021-07-01T12:15:48.951Z"
   },
   {
    "duration": 783,
    "start_time": "2021-07-01T12:15:49.718Z"
   },
   {
    "duration": 324,
    "start_time": "2021-07-01T12:15:50.504Z"
   },
   {
    "duration": 7053,
    "start_time": "2021-07-01T12:20:00.786Z"
   },
   {
    "duration": 10,
    "start_time": "2021-07-01T12:20:23.618Z"
   },
   {
    "duration": 7040,
    "start_time": "2021-07-01T12:20:47.070Z"
   },
   {
    "duration": 5299,
    "start_time": "2021-07-01T12:21:42.194Z"
   },
   {
    "duration": 6277,
    "start_time": "2021-07-01T12:22:02.970Z"
   },
   {
    "duration": 13,
    "start_time": "2021-07-01T12:23:49.914Z"
   },
   {
    "duration": 12,
    "start_time": "2021-07-01T12:24:05.640Z"
   },
   {
    "duration": 1883,
    "start_time": "2021-07-01T12:24:22.897Z"
   },
   {
    "duration": 18,
    "start_time": "2021-07-01T12:24:41.905Z"
   },
   {
    "duration": 24,
    "start_time": "2021-07-01T12:25:09.364Z"
   },
   {
    "duration": 35,
    "start_time": "2021-07-01T12:27:24.429Z"
   },
   {
    "duration": 21,
    "start_time": "2021-07-01T12:27:33.249Z"
   },
   {
    "duration": 13,
    "start_time": "2021-07-01T12:27:59.865Z"
   },
   {
    "duration": 12,
    "start_time": "2021-07-01T12:28:09.984Z"
   },
   {
    "duration": 11,
    "start_time": "2021-07-01T12:28:15.256Z"
   },
   {
    "duration": 1834,
    "start_time": "2021-07-01T12:28:26.216Z"
   },
   {
    "duration": 1890,
    "start_time": "2021-07-01T12:28:50.073Z"
   },
   {
    "duration": 319,
    "start_time": "2021-07-01T12:31:19.204Z"
   },
   {
    "duration": 50,
    "start_time": "2021-07-01T12:32:50.256Z"
   },
   {
    "duration": 27,
    "start_time": "2021-07-01T12:34:21.984Z"
   },
   {
    "duration": 1026,
    "start_time": "2021-07-01T12:34:40.894Z"
   },
   {
    "duration": 30,
    "start_time": "2021-07-01T12:35:20.491Z"
   },
   {
    "duration": 388,
    "start_time": "2021-07-01T12:35:43.559Z"
   },
   {
    "duration": 48,
    "start_time": "2021-07-01T12:36:02.344Z"
   },
   {
    "duration": 7,
    "start_time": "2021-07-01T14:23:41.488Z"
   },
   {
    "duration": 7,
    "start_time": "2021-07-01T14:23:50.808Z"
   },
   {
    "duration": 6450,
    "start_time": "2021-07-01T16:27:12.365Z"
   },
   {
    "duration": 346,
    "start_time": "2021-07-01T16:27:18.472Z"
   },
   {
    "duration": 345,
    "start_time": "2021-07-01T16:27:18.475Z"
   },
   {
    "duration": 343,
    "start_time": "2021-07-01T16:27:18.478Z"
   },
   {
    "duration": 340,
    "start_time": "2021-07-01T16:27:18.482Z"
   },
   {
    "duration": 339,
    "start_time": "2021-07-01T16:27:18.484Z"
   },
   {
    "duration": 339,
    "start_time": "2021-07-01T16:27:18.486Z"
   },
   {
    "duration": 337,
    "start_time": "2021-07-01T16:27:18.489Z"
   },
   {
    "duration": 335,
    "start_time": "2021-07-01T16:27:18.492Z"
   },
   {
    "duration": 335,
    "start_time": "2021-07-01T16:27:18.494Z"
   },
   {
    "duration": 334,
    "start_time": "2021-07-01T16:27:18.496Z"
   },
   {
    "duration": 333,
    "start_time": "2021-07-01T16:27:18.498Z"
   },
   {
    "duration": 333,
    "start_time": "2021-07-01T16:27:18.500Z"
   },
   {
    "duration": 3456,
    "start_time": "2021-07-01T16:27:31.432Z"
   },
   {
    "duration": 3477,
    "start_time": "2021-07-01T16:27:54.434Z"
   },
   {
    "duration": 3091,
    "start_time": "2021-07-01T16:28:11.267Z"
   },
   {
    "duration": 207,
    "start_time": "2021-07-01T16:28:14.361Z"
   },
   {
    "duration": 7,
    "start_time": "2021-07-01T16:28:14.571Z"
   },
   {
    "duration": 44,
    "start_time": "2021-07-01T16:28:14.581Z"
   },
   {
    "duration": 20,
    "start_time": "2021-07-01T16:28:14.628Z"
   },
   {
    "duration": 31,
    "start_time": "2021-07-01T16:28:14.650Z"
   },
   {
    "duration": 78,
    "start_time": "2021-07-01T16:28:14.683Z"
   },
   {
    "duration": 21,
    "start_time": "2021-07-01T16:28:14.763Z"
   },
   {
    "duration": 425,
    "start_time": "2021-07-01T16:28:14.787Z"
   },
   {
    "duration": 267,
    "start_time": "2021-07-01T16:28:15.215Z"
   },
   {
    "duration": 27,
    "start_time": "2021-07-01T16:28:15.484Z"
   },
   {
    "duration": 593,
    "start_time": "2021-07-01T16:28:15.513Z"
   },
   {
    "duration": 603,
    "start_time": "2021-07-01T16:28:16.109Z"
   },
   {
    "duration": 53,
    "start_time": "2021-07-01T16:28:19.842Z"
   },
   {
    "duration": 58,
    "start_time": "2021-07-01T16:28:36.152Z"
   },
   {
    "duration": 572,
    "start_time": "2021-07-01T16:28:48.883Z"
   },
   {
    "duration": 3224,
    "start_time": "2021-07-01T16:52:51.681Z"
   },
   {
    "duration": 242,
    "start_time": "2021-07-01T16:52:54.908Z"
   },
   {
    "duration": 8,
    "start_time": "2021-07-01T16:52:55.153Z"
   },
   {
    "duration": 21,
    "start_time": "2021-07-01T16:52:55.164Z"
   },
   {
    "duration": 52,
    "start_time": "2021-07-01T16:52:55.187Z"
   },
   {
    "duration": 31,
    "start_time": "2021-07-01T16:52:55.241Z"
   },
   {
    "duration": 70,
    "start_time": "2021-07-01T16:52:55.274Z"
   },
   {
    "duration": 21,
    "start_time": "2021-07-01T16:52:55.348Z"
   },
   {
    "duration": 448,
    "start_time": "2021-07-01T16:52:55.371Z"
   },
   {
    "duration": 335,
    "start_time": "2021-07-01T16:52:55.821Z"
   },
   {
    "duration": 27,
    "start_time": "2021-07-01T16:52:56.159Z"
   },
   {
    "duration": 650,
    "start_time": "2021-07-01T16:52:56.188Z"
   },
   {
    "duration": 641,
    "start_time": "2021-07-01T16:52:56.841Z"
   },
   {
    "duration": 58,
    "start_time": "2021-07-01T16:52:59.957Z"
   },
   {
    "duration": 686,
    "start_time": "2021-07-01T16:53:05.293Z"
   },
   {
    "duration": 49,
    "start_time": "2021-07-01T16:53:26.737Z"
   },
   {
    "duration": 52,
    "start_time": "2021-07-01T16:53:42.909Z"
   },
   {
    "duration": 47,
    "start_time": "2021-07-01T16:53:51.567Z"
   },
   {
    "duration": 1909,
    "start_time": "2021-07-01T16:53:56.073Z"
   },
   {
    "duration": 1525,
    "start_time": "2021-07-01T16:54:12.055Z"
   },
   {
    "duration": 1730,
    "start_time": "2021-07-01T16:54:22.016Z"
   },
   {
    "duration": 5432,
    "start_time": "2021-07-01T16:57:14.628Z"
   },
   {
    "duration": 1614,
    "start_time": "2021-07-01T16:57:49.871Z"
   },
   {
    "duration": 5396,
    "start_time": "2021-07-01T16:58:01.131Z"
   },
   {
    "duration": 1440,
    "start_time": "2021-07-01T16:58:33.426Z"
   },
   {
    "duration": 1307,
    "start_time": "2021-07-01T16:58:43.834Z"
   },
   {
    "duration": 1392,
    "start_time": "2021-07-01T17:00:26.100Z"
   },
   {
    "duration": 2070,
    "start_time": "2021-07-01T17:00:58.199Z"
   },
   {
    "duration": 1086,
    "start_time": "2021-07-01T17:02:45.452Z"
   },
   {
    "duration": 29,
    "start_time": "2021-07-01T17:03:26.163Z"
   },
   {
    "duration": 89,
    "start_time": "2021-07-01T17:06:38.410Z"
   },
   {
    "duration": 289,
    "start_time": "2021-07-01T17:06:43.471Z"
   },
   {
    "duration": 330,
    "start_time": "2021-07-01T17:06:54.123Z"
   },
   {
    "duration": 28,
    "start_time": "2021-07-01T17:06:58.036Z"
   },
   {
    "duration": 51,
    "start_time": "2021-07-01T17:10:33.200Z"
   },
   {
    "duration": 47,
    "start_time": "2021-07-01T17:10:44.760Z"
   },
   {
    "duration": 32,
    "start_time": "2021-07-01T17:11:17.188Z"
   },
   {
    "duration": 295,
    "start_time": "2021-07-01T17:15:21.452Z"
   },
   {
    "duration": 29,
    "start_time": "2021-07-01T17:15:39.935Z"
   },
   {
    "duration": 26,
    "start_time": "2021-07-01T17:15:54.245Z"
   },
   {
    "duration": 310,
    "start_time": "2021-07-01T17:15:59.157Z"
   },
   {
    "duration": 27,
    "start_time": "2021-07-01T17:16:05.989Z"
   },
   {
    "duration": 27,
    "start_time": "2021-07-01T17:16:42.062Z"
   },
   {
    "duration": 44,
    "start_time": "2021-07-01T17:16:50.489Z"
   },
   {
    "duration": 1324,
    "start_time": "2021-07-01T17:17:00.383Z"
   },
   {
    "duration": 1298,
    "start_time": "2021-07-01T17:19:21.033Z"
   },
   {
    "duration": 1295,
    "start_time": "2021-07-01T17:19:30.343Z"
   },
   {
    "duration": 98,
    "start_time": "2021-07-01T17:19:49.265Z"
   },
   {
    "duration": 5835,
    "start_time": "2021-07-01T17:19:55.081Z"
   },
   {
    "duration": 5626,
    "start_time": "2021-07-01T17:21:14.411Z"
   },
   {
    "duration": 92,
    "start_time": "2021-07-01T17:25:57.350Z"
   },
   {
    "duration": 274,
    "start_time": "2021-07-01T17:26:26.889Z"
   },
   {
    "duration": 276,
    "start_time": "2021-07-01T17:26:39.536Z"
   },
   {
    "duration": 42,
    "start_time": "2021-07-01T17:29:15.035Z"
   },
   {
    "duration": 5,
    "start_time": "2021-07-01T19:55:03.522Z"
   },
   {
    "duration": 5,
    "start_time": "2021-07-01T19:55:14.957Z"
   },
   {
    "duration": 4,
    "start_time": "2021-07-01T19:55:18.446Z"
   },
   {
    "duration": 5,
    "start_time": "2021-07-01T19:55:21.101Z"
   },
   {
    "duration": 6,
    "start_time": "2021-07-01T19:56:45.128Z"
   },
   {
    "duration": 5,
    "start_time": "2021-07-01T19:56:50.143Z"
   },
   {
    "duration": 286,
    "start_time": "2021-07-01T19:56:55.590Z"
   },
   {
    "duration": 100,
    "start_time": "2021-07-01T19:57:01.120Z"
   },
   {
    "duration": 354,
    "start_time": "2021-07-01T19:57:04.744Z"
   },
   {
    "duration": 5,
    "start_time": "2021-07-01T19:58:19.563Z"
   },
   {
    "duration": 6237,
    "start_time": "2021-07-02T12:00:10.426Z"
   },
   {
    "duration": 352,
    "start_time": "2021-07-02T12:00:16.667Z"
   },
   {
    "duration": 8,
    "start_time": "2021-07-02T12:00:17.023Z"
   },
   {
    "duration": 21,
    "start_time": "2021-07-02T12:00:17.034Z"
   },
   {
    "duration": 63,
    "start_time": "2021-07-02T12:00:17.057Z"
   },
   {
    "duration": 31,
    "start_time": "2021-07-02T12:00:17.123Z"
   },
   {
    "duration": 93,
    "start_time": "2021-07-02T12:00:17.157Z"
   },
   {
    "duration": 28,
    "start_time": "2021-07-02T12:00:17.252Z"
   },
   {
    "duration": 440,
    "start_time": "2021-07-02T12:00:17.284Z"
   },
   {
    "duration": 254,
    "start_time": "2021-07-02T12:00:17.727Z"
   },
   {
    "duration": 44,
    "start_time": "2021-07-02T12:00:17.985Z"
   },
   {
    "duration": 624,
    "start_time": "2021-07-02T12:00:18.031Z"
   },
   {
    "duration": 632,
    "start_time": "2021-07-02T12:00:18.659Z"
   },
   {
    "duration": 38,
    "start_time": "2021-07-02T12:00:19.295Z"
   },
   {
    "duration": 5697,
    "start_time": "2021-07-02T12:00:19.335Z"
   },
   {
    "duration": 489,
    "start_time": "2021-07-02T12:01:41.740Z"
   },
   {
    "duration": 8,
    "start_time": "2021-07-02T12:02:39.534Z"
   },
   {
    "duration": 21,
    "start_time": "2021-07-02T12:02:58.740Z"
   },
   {
    "duration": 453,
    "start_time": "2021-07-02T12:03:17.941Z"
   },
   {
    "duration": 25,
    "start_time": "2021-07-02T12:03:53.477Z"
   },
   {
    "duration": 397,
    "start_time": "2021-07-02T12:07:42.635Z"
   },
   {
    "duration": 26,
    "start_time": "2021-07-02T12:08:10.132Z"
   },
   {
    "duration": 34,
    "start_time": "2021-07-02T12:09:00.012Z"
   },
   {
    "duration": 351,
    "start_time": "2021-07-02T12:19:55.551Z"
   },
   {
    "duration": 813,
    "start_time": "2021-07-02T12:20:07.617Z"
   },
   {
    "duration": 8820,
    "start_time": "2021-07-02T12:20:20.545Z"
   },
   {
    "duration": 36,
    "start_time": "2021-07-02T12:21:42.289Z"
   },
   {
    "duration": 143,
    "start_time": "2021-07-02T12:24:22.930Z"
   },
   {
    "duration": 112,
    "start_time": "2021-07-02T12:31:43.464Z"
   },
   {
    "duration": 129,
    "start_time": "2021-07-02T12:32:37.711Z"
   },
   {
    "duration": 52,
    "start_time": "2021-07-02T12:33:42.434Z"
   },
   {
    "duration": 16,
    "start_time": "2021-07-02T12:36:16.729Z"
   },
   {
    "duration": 41,
    "start_time": "2021-07-02T12:37:50.013Z"
   },
   {
    "duration": 16,
    "start_time": "2021-07-02T12:38:56.822Z"
   },
   {
    "duration": 13,
    "start_time": "2021-07-02T12:39:24.165Z"
   },
   {
    "duration": 114,
    "start_time": "2021-07-02T12:39:29.525Z"
   },
   {
    "duration": 12,
    "start_time": "2021-07-02T12:39:38.461Z"
   },
   {
    "duration": 9,
    "start_time": "2021-07-02T12:39:47.020Z"
   },
   {
    "duration": 11,
    "start_time": "2021-07-02T12:40:04.159Z"
   },
   {
    "duration": 13,
    "start_time": "2021-07-02T12:40:16.485Z"
   },
   {
    "duration": 370,
    "start_time": "2021-07-02T14:28:11.229Z"
   },
   {
    "duration": 1255,
    "start_time": "2021-07-02T14:28:27.610Z"
   },
   {
    "duration": 629,
    "start_time": "2021-07-02T14:41:03.958Z"
   },
   {
    "duration": 845,
    "start_time": "2021-07-02T14:41:41.619Z"
   },
   {
    "duration": 602,
    "start_time": "2021-07-02T14:42:02.733Z"
   },
   {
    "duration": 624,
    "start_time": "2021-07-02T14:42:09.422Z"
   },
   {
    "duration": 629,
    "start_time": "2021-07-02T14:42:21.413Z"
   },
   {
    "duration": 646,
    "start_time": "2021-07-02T14:42:44.741Z"
   },
   {
    "duration": 719,
    "start_time": "2021-07-02T14:44:58.316Z"
   },
   {
    "duration": 630,
    "start_time": "2021-07-02T14:45:23.285Z"
   },
   {
    "duration": 614,
    "start_time": "2021-07-02T14:45:38.876Z"
   },
   {
    "duration": 656,
    "start_time": "2021-07-02T14:49:35.855Z"
   },
   {
    "duration": 4668,
    "start_time": "2021-07-02T23:11:53.219Z"
   },
   {
    "duration": 197,
    "start_time": "2021-07-02T23:11:57.890Z"
   },
   {
    "duration": 4,
    "start_time": "2021-07-02T23:11:58.089Z"
   },
   {
    "duration": 28,
    "start_time": "2021-07-02T23:11:58.095Z"
   },
   {
    "duration": 20,
    "start_time": "2021-07-02T23:11:58.125Z"
   },
   {
    "duration": 40,
    "start_time": "2021-07-02T23:11:58.147Z"
   },
   {
    "duration": 32,
    "start_time": "2021-07-02T23:11:58.189Z"
   },
   {
    "duration": 13,
    "start_time": "2021-07-02T23:11:58.224Z"
   },
   {
    "duration": 233,
    "start_time": "2021-07-02T23:11:58.241Z"
   },
   {
    "duration": 144,
    "start_time": "2021-07-02T23:11:58.477Z"
   },
   {
    "duration": 26,
    "start_time": "2021-07-02T23:11:58.623Z"
   },
   {
    "duration": 338,
    "start_time": "2021-07-02T23:11:58.651Z"
   },
   {
    "duration": 342,
    "start_time": "2021-07-02T23:11:58.991Z"
   },
   {
    "duration": 21,
    "start_time": "2021-07-02T23:11:59.335Z"
   },
   {
    "duration": 3012,
    "start_time": "2021-07-02T23:11:59.357Z"
   },
   {
    "duration": 25,
    "start_time": "2021-07-02T23:12:02.371Z"
   },
   {
    "duration": 8,
    "start_time": "2021-07-02T23:12:02.398Z"
   },
   {
    "duration": 727,
    "start_time": "2021-07-02T23:12:02.408Z"
   },
   {
    "duration": 433,
    "start_time": "2021-07-02T23:12:03.140Z"
   },
   {
    "duration": 336,
    "start_time": "2021-07-02T23:12:03.575Z"
   },
   {
    "duration": 86,
    "start_time": "2021-07-02T23:13:11.602Z"
   },
   {
    "duration": 80,
    "start_time": "2021-07-02T23:13:23.347Z"
   },
   {
    "duration": 637,
    "start_time": "2021-07-02T23:13:39.512Z"
   },
   {
    "duration": 665,
    "start_time": "2021-07-02T23:13:50.595Z"
   },
   {
    "duration": 967,
    "start_time": "2021-07-02T23:15:30.428Z"
   },
   {
    "duration": 676,
    "start_time": "2021-07-02T23:15:50.798Z"
   },
   {
    "duration": 676,
    "start_time": "2021-07-02T23:16:12.130Z"
   },
   {
    "duration": 685,
    "start_time": "2021-07-02T23:16:20.234Z"
   },
   {
    "duration": 988,
    "start_time": "2021-07-02T23:16:54.299Z"
   },
   {
    "duration": 649,
    "start_time": "2021-07-02T23:17:13.876Z"
   },
   {
    "duration": 200,
    "start_time": "2021-07-02T23:17:39.508Z"
   },
   {
    "duration": 654,
    "start_time": "2021-07-02T23:20:37.776Z"
   },
   {
    "duration": 1721,
    "start_time": "2021-07-02T23:24:16.722Z"
   },
   {
    "duration": 1935,
    "start_time": "2021-07-02T23:28:00.617Z"
   },
   {
    "duration": 2084,
    "start_time": "2021-07-02T23:28:32.250Z"
   },
   {
    "duration": 1631,
    "start_time": "2021-07-02T23:29:05.968Z"
   },
   {
    "duration": 1771,
    "start_time": "2021-07-02T23:29:19.979Z"
   },
   {
    "duration": 689,
    "start_time": "2021-07-02T23:29:45.364Z"
   },
   {
    "duration": 1674,
    "start_time": "2021-07-02T23:31:43.611Z"
   },
   {
    "duration": 1608,
    "start_time": "2021-07-02T23:32:10.909Z"
   },
   {
    "duration": 351,
    "start_time": "2021-07-02T23:33:19.918Z"
   },
   {
    "duration": 1802,
    "start_time": "2021-07-02T23:33:30.677Z"
   },
   {
    "duration": 1610,
    "start_time": "2021-07-02T23:33:41.626Z"
   },
   {
    "duration": 1623,
    "start_time": "2021-07-02T23:34:00.046Z"
   },
   {
    "duration": 2357,
    "start_time": "2021-07-02T23:35:36.262Z"
   },
   {
    "duration": 175,
    "start_time": "2021-07-02T23:35:38.622Z"
   },
   {
    "duration": 5,
    "start_time": "2021-07-02T23:35:38.800Z"
   },
   {
    "duration": 14,
    "start_time": "2021-07-02T23:35:38.807Z"
   },
   {
    "duration": 24,
    "start_time": "2021-07-02T23:35:38.822Z"
   },
   {
    "duration": 23,
    "start_time": "2021-07-02T23:35:38.847Z"
   },
   {
    "duration": 154,
    "start_time": "2021-07-02T23:35:38.872Z"
   },
   {
    "duration": 25,
    "start_time": "2021-07-02T23:35:39.028Z"
   },
   {
    "duration": 214,
    "start_time": "2021-07-02T23:35:39.055Z"
   },
   {
    "duration": 133,
    "start_time": "2021-07-02T23:35:39.270Z"
   },
   {
    "duration": 16,
    "start_time": "2021-07-02T23:35:39.405Z"
   },
   {
    "duration": 312,
    "start_time": "2021-07-02T23:35:39.423Z"
   },
   {
    "duration": 312,
    "start_time": "2021-07-02T23:35:39.741Z"
   },
   {
    "duration": 15,
    "start_time": "2021-07-02T23:35:40.054Z"
   },
   {
    "duration": 3080,
    "start_time": "2021-07-02T23:35:40.071Z"
   },
   {
    "duration": 24,
    "start_time": "2021-07-02T23:35:43.153Z"
   },
   {
    "duration": 7,
    "start_time": "2021-07-02T23:35:43.179Z"
   },
   {
    "duration": 882,
    "start_time": "2021-07-02T23:35:43.187Z"
   },
   {
    "duration": 343,
    "start_time": "2021-07-02T23:35:44.071Z"
   },
   {
    "duration": 346,
    "start_time": "2021-07-02T23:35:44.416Z"
   },
   {
    "duration": 1259,
    "start_time": "2021-07-02T23:35:52.551Z"
   },
   {
    "duration": 6549,
    "start_time": "2021-07-03T09:27:01.603Z"
   },
   {
    "duration": 278,
    "start_time": "2021-07-03T09:27:08.155Z"
   },
   {
    "duration": 8,
    "start_time": "2021-07-03T09:27:08.437Z"
   },
   {
    "duration": 39,
    "start_time": "2021-07-03T09:27:08.448Z"
   },
   {
    "duration": 21,
    "start_time": "2021-07-03T09:27:08.490Z"
   },
   {
    "duration": 32,
    "start_time": "2021-07-03T09:27:08.513Z"
   },
   {
    "duration": 86,
    "start_time": "2021-07-03T09:27:08.547Z"
   },
   {
    "duration": 25,
    "start_time": "2021-07-03T09:27:08.637Z"
   },
   {
    "duration": 501,
    "start_time": "2021-07-03T09:27:08.684Z"
   },
   {
    "duration": 245,
    "start_time": "2021-07-03T09:27:09.187Z"
   },
   {
    "duration": 31,
    "start_time": "2021-07-03T09:27:09.434Z"
   },
   {
    "duration": 585,
    "start_time": "2021-07-03T09:27:09.468Z"
   },
   {
    "duration": 600,
    "start_time": "2021-07-03T09:27:10.056Z"
   },
   {
    "duration": 38,
    "start_time": "2021-07-03T09:27:10.659Z"
   },
   {
    "duration": 5423,
    "start_time": "2021-07-03T09:27:10.699Z"
   },
   {
    "duration": 59,
    "start_time": "2021-07-03T09:27:16.126Z"
   },
   {
    "duration": 12,
    "start_time": "2021-07-03T09:27:16.188Z"
   },
   {
    "duration": 1241,
    "start_time": "2021-07-03T09:27:16.203Z"
   },
   {
    "duration": 739,
    "start_time": "2021-07-03T09:27:17.446Z"
   },
   {
    "duration": 607,
    "start_time": "2021-07-03T09:27:18.187Z"
   },
   {
    "duration": 105,
    "start_time": "2021-07-03T09:28:07.225Z"
   },
   {
    "duration": 1854,
    "start_time": "2021-07-03T09:28:30.985Z"
   },
   {
    "duration": 98,
    "start_time": "2021-07-03T09:28:50.113Z"
   },
   {
    "duration": 10,
    "start_time": "2021-07-03T09:28:57.738Z"
   },
   {
    "duration": 318,
    "start_time": "2021-07-03T09:29:13.967Z"
   },
   {
    "duration": 338,
    "start_time": "2021-07-03T09:30:03.749Z"
   },
   {
    "duration": 360,
    "start_time": "2021-07-03T09:30:19.991Z"
   },
   {
    "duration": 308,
    "start_time": "2021-07-03T09:32:23.957Z"
   },
   {
    "duration": 310,
    "start_time": "2021-07-03T09:32:39.678Z"
   },
   {
    "duration": 13,
    "start_time": "2021-07-03T09:32:44.864Z"
   },
   {
    "duration": 335,
    "start_time": "2021-07-03T09:33:19.617Z"
   },
   {
    "duration": 417,
    "start_time": "2021-07-03T09:36:51.678Z"
   },
   {
    "duration": 26,
    "start_time": "2021-07-03T09:36:57.854Z"
   },
   {
    "duration": 27,
    "start_time": "2021-07-03T09:37:13.802Z"
   },
   {
    "duration": 14,
    "start_time": "2021-07-03T09:38:23.231Z"
   },
   {
    "duration": 11,
    "start_time": "2021-07-03T09:40:30.033Z"
   },
   {
    "duration": 336,
    "start_time": "2021-07-03T09:41:07.377Z"
   },
   {
    "duration": 11,
    "start_time": "2021-07-03T09:44:24.493Z"
   },
   {
    "duration": 315,
    "start_time": "2021-07-03T09:46:39.350Z"
   },
   {
    "duration": 11,
    "start_time": "2021-07-03T09:54:48.817Z"
   },
   {
    "duration": 324,
    "start_time": "2021-07-03T09:56:42.682Z"
   },
   {
    "duration": 10,
    "start_time": "2021-07-03T09:57:10.194Z"
   },
   {
    "duration": 11,
    "start_time": "2021-07-03T09:58:24.387Z"
   },
   {
    "duration": 1714,
    "start_time": "2021-07-03T09:58:34.924Z"
   },
   {
    "duration": 584,
    "start_time": "2021-07-03T09:58:59.855Z"
   },
   {
    "duration": 43,
    "start_time": "2021-07-03T10:03:58.902Z"
   },
   {
    "duration": 348,
    "start_time": "2021-07-03T10:04:26.945Z"
   },
   {
    "duration": 64,
    "start_time": "2021-07-03T10:04:39.370Z"
   },
   {
    "duration": 45,
    "start_time": "2021-07-03T10:05:30.034Z"
   },
   {
    "duration": 46,
    "start_time": "2021-07-03T10:06:00.854Z"
   },
   {
    "duration": 36,
    "start_time": "2021-07-03T10:06:43.067Z"
   },
   {
    "duration": 552,
    "start_time": "2021-07-03T10:15:06.368Z"
   },
   {
    "duration": 6325,
    "start_time": "2021-07-03T10:15:24.412Z"
   },
   {
    "duration": 549,
    "start_time": "2021-07-03T10:15:52.190Z"
   },
   {
    "duration": 1737,
    "start_time": "2021-07-03T10:20:35.303Z"
   },
   {
    "duration": 547,
    "start_time": "2021-07-03T10:20:44.438Z"
   },
   {
    "duration": 554,
    "start_time": "2021-07-03T10:21:20.347Z"
   },
   {
    "duration": 118,
    "start_time": "2021-07-03T10:22:03.801Z"
   },
   {
    "duration": 619,
    "start_time": "2021-07-03T10:22:10.222Z"
   },
   {
    "duration": 562,
    "start_time": "2021-07-03T10:26:43.272Z"
   },
   {
    "duration": 625,
    "start_time": "2021-07-03T10:26:55.818Z"
   },
   {
    "duration": 556,
    "start_time": "2021-07-03T10:27:16.073Z"
   },
   {
    "duration": 530,
    "start_time": "2021-07-03T10:27:38.346Z"
   },
   {
    "duration": 542,
    "start_time": "2021-07-03T10:27:48.810Z"
   },
   {
    "duration": 557,
    "start_time": "2021-07-03T10:31:02.309Z"
   },
   {
    "duration": 600,
    "start_time": "2021-07-03T10:31:21.647Z"
   },
   {
    "duration": 100,
    "start_time": "2021-07-03T10:34:18.617Z"
   },
   {
    "duration": 19,
    "start_time": "2021-07-03T11:11:59.197Z"
   },
   {
    "duration": 130,
    "start_time": "2021-07-03T11:13:23.066Z"
   },
   {
    "duration": 21,
    "start_time": "2021-07-03T11:13:32.426Z"
   },
   {
    "duration": 418,
    "start_time": "2021-07-03T11:14:07.442Z"
   },
   {
    "duration": 325,
    "start_time": "2021-07-03T11:14:18.955Z"
   },
   {
    "duration": 406,
    "start_time": "2021-07-03T11:14:42.037Z"
   },
   {
    "duration": 433,
    "start_time": "2021-07-03T11:15:17.725Z"
   },
   {
    "duration": 408,
    "start_time": "2021-07-03T11:15:36.812Z"
   },
   {
    "duration": 702,
    "start_time": "2021-07-03T11:16:29.269Z"
   },
   {
    "duration": 738,
    "start_time": "2021-07-03T11:16:39.614Z"
   },
   {
    "duration": 731,
    "start_time": "2021-07-03T11:16:50.718Z"
   },
   {
    "duration": 97,
    "start_time": "2021-07-03T11:17:12.029Z"
   },
   {
    "duration": 106,
    "start_time": "2021-07-03T11:17:25.663Z"
   },
   {
    "duration": 512,
    "start_time": "2021-07-03T11:18:21.639Z"
   },
   {
    "duration": 616,
    "start_time": "2021-07-03T11:19:33.675Z"
   },
   {
    "duration": 594,
    "start_time": "2021-07-03T11:19:37.448Z"
   },
   {
    "duration": 5454,
    "start_time": "2021-07-03T11:20:22.917Z"
   },
   {
    "duration": 1207,
    "start_time": "2021-07-03T11:20:55.881Z"
   },
   {
    "duration": 1301,
    "start_time": "2021-07-03T11:21:07.161Z"
   },
   {
    "duration": 561,
    "start_time": "2021-07-03T11:36:18.791Z"
   },
   {
    "duration": 583,
    "start_time": "2021-07-03T11:36:27.964Z"
   },
   {
    "duration": 538,
    "start_time": "2021-07-03T11:36:42.443Z"
   },
   {
    "duration": 441,
    "start_time": "2021-07-03T11:37:36.747Z"
   },
   {
    "duration": 151,
    "start_time": "2021-07-03T11:40:27.885Z"
   },
   {
    "duration": 312,
    "start_time": "2021-07-03T11:45:28.475Z"
   },
   {
    "duration": 458,
    "start_time": "2021-07-03T11:46:03.304Z"
   },
   {
    "duration": 469,
    "start_time": "2021-07-03T11:46:23.020Z"
   },
   {
    "duration": 304,
    "start_time": "2021-07-03T11:46:40.670Z"
   },
   {
    "duration": 18,
    "start_time": "2021-07-03T11:47:08.816Z"
   },
   {
    "duration": 368,
    "start_time": "2021-07-03T11:47:54.241Z"
   },
   {
    "duration": 38,
    "start_time": "2021-07-03T11:48:10.063Z"
   },
   {
    "duration": 22,
    "start_time": "2021-07-03T11:48:21.999Z"
   },
   {
    "duration": 1268,
    "start_time": "2021-07-03T11:48:27.055Z"
   },
   {
    "duration": 1492,
    "start_time": "2021-07-03T11:48:53.255Z"
   },
   {
    "duration": 1279,
    "start_time": "2021-07-03T11:49:47.440Z"
   },
   {
    "duration": 1245,
    "start_time": "2021-07-03T11:51:36.313Z"
   },
   {
    "duration": 18,
    "start_time": "2021-07-03T13:28:46.556Z"
   },
   {
    "duration": 308,
    "start_time": "2021-07-03T13:31:37.724Z"
   },
   {
    "duration": 67,
    "start_time": "2021-07-03T13:31:43.875Z"
   },
   {
    "duration": 58,
    "start_time": "2021-07-03T13:32:03.836Z"
   },
   {
    "duration": 315,
    "start_time": "2021-07-03T13:32:52.627Z"
   },
   {
    "duration": 19,
    "start_time": "2021-07-03T13:34:05.379Z"
   },
   {
    "duration": 20,
    "start_time": "2021-07-03T13:34:42.885Z"
   },
   {
    "duration": 21,
    "start_time": "2021-07-03T13:35:58.997Z"
   },
   {
    "duration": 17,
    "start_time": "2021-07-03T13:36:28.086Z"
   },
   {
    "duration": 23,
    "start_time": "2021-07-03T13:37:14.047Z"
   },
   {
    "duration": 22,
    "start_time": "2021-07-03T13:37:55.416Z"
   },
   {
    "duration": 105,
    "start_time": "2021-07-03T13:42:47.799Z"
   },
   {
    "duration": 23,
    "start_time": "2021-07-03T13:43:02.525Z"
   },
   {
    "duration": 286,
    "start_time": "2021-07-03T13:43:33.368Z"
   },
   {
    "duration": 57,
    "start_time": "2021-07-03T13:43:49.909Z"
   },
   {
    "duration": 59,
    "start_time": "2021-07-03T13:44:01.337Z"
   },
   {
    "duration": 125,
    "start_time": "2021-07-03T13:45:54.784Z"
   },
   {
    "duration": 107,
    "start_time": "2021-07-03T13:46:16.034Z"
   },
   {
    "duration": 104,
    "start_time": "2021-07-03T13:47:13.354Z"
   },
   {
    "duration": 108,
    "start_time": "2021-07-03T13:53:07.539Z"
   },
   {
    "duration": 104,
    "start_time": "2021-07-03T14:14:21.722Z"
   },
   {
    "duration": 18,
    "start_time": "2021-07-03T14:48:50.345Z"
   },
   {
    "duration": 6,
    "start_time": "2021-07-03T14:49:12.239Z"
   },
   {
    "duration": 1499,
    "start_time": "2021-07-03T14:50:51.333Z"
   },
   {
    "duration": 269,
    "start_time": "2021-07-03T14:51:27.846Z"
   },
   {
    "duration": 344,
    "start_time": "2021-07-03T14:53:22.752Z"
   },
   {
    "duration": 451,
    "start_time": "2021-07-03T14:53:44.127Z"
   },
   {
    "duration": 2322,
    "start_time": "2021-07-03T14:55:24.926Z"
   },
   {
    "duration": 173,
    "start_time": "2021-07-03T14:56:43.676Z"
   },
   {
    "duration": 7,
    "start_time": "2021-07-03T15:00:26.654Z"
   },
   {
    "duration": 22,
    "start_time": "2021-07-03T15:58:27.832Z"
   },
   {
    "duration": 21,
    "start_time": "2021-07-03T15:58:42.111Z"
   },
   {
    "duration": 14,
    "start_time": "2021-07-03T15:58:58.876Z"
   },
   {
    "duration": 9,
    "start_time": "2021-07-03T15:59:34.044Z"
   },
   {
    "duration": 2052,
    "start_time": "2021-07-03T16:02:09.710Z"
   },
   {
    "duration": 10,
    "start_time": "2021-07-03T16:02:22.926Z"
   },
   {
    "duration": 8,
    "start_time": "2021-07-03T16:02:45.575Z"
   },
   {
    "duration": 311,
    "start_time": "2021-07-03T16:06:49.842Z"
   },
   {
    "duration": 560,
    "start_time": "2021-07-03T16:07:01.131Z"
   },
   {
    "duration": 407,
    "start_time": "2021-07-03T16:07:32.212Z"
   },
   {
    "duration": 772,
    "start_time": "2021-07-03T16:08:20.196Z"
   },
   {
    "duration": 551,
    "start_time": "2021-07-03T16:08:25.325Z"
   },
   {
    "duration": 605,
    "start_time": "2021-07-03T16:09:22.343Z"
   },
   {
    "duration": 560,
    "start_time": "2021-07-03T16:09:38.094Z"
   },
   {
    "duration": 552,
    "start_time": "2021-07-03T16:10:11.999Z"
   },
   {
    "duration": 103,
    "start_time": "2021-07-03T16:12:04.816Z"
   },
   {
    "duration": 3792,
    "start_time": "2021-07-03T16:15:04.619Z"
   },
   {
    "duration": 175,
    "start_time": "2021-07-03T16:15:08.415Z"
   },
   {
    "duration": 9,
    "start_time": "2021-07-03T16:15:08.593Z"
   },
   {
    "duration": 20,
    "start_time": "2021-07-03T16:15:08.605Z"
   },
   {
    "duration": 26,
    "start_time": "2021-07-03T16:15:08.627Z"
   },
   {
    "duration": 63,
    "start_time": "2021-07-03T16:15:08.655Z"
   },
   {
    "duration": 36,
    "start_time": "2021-07-03T16:15:08.721Z"
   },
   {
    "duration": 19,
    "start_time": "2021-07-03T16:15:08.788Z"
   },
   {
    "duration": 439,
    "start_time": "2021-07-03T16:15:08.810Z"
   },
   {
    "duration": 385,
    "start_time": "2021-07-03T16:15:09.252Z"
   },
   {
    "duration": 28,
    "start_time": "2021-07-03T16:15:09.640Z"
   },
   {
    "duration": 618,
    "start_time": "2021-07-03T16:15:09.686Z"
   },
   {
    "duration": 613,
    "start_time": "2021-07-03T16:15:10.306Z"
   },
   {
    "duration": 24,
    "start_time": "2021-07-03T16:15:10.922Z"
   },
   {
    "duration": 5941,
    "start_time": "2021-07-03T16:15:10.948Z"
   },
   {
    "duration": 40,
    "start_time": "2021-07-03T16:15:16.891Z"
   },
   {
    "duration": 13,
    "start_time": "2021-07-03T16:15:16.933Z"
   },
   {
    "duration": 1449,
    "start_time": "2021-07-03T16:15:16.948Z"
   },
   {
    "duration": 615,
    "start_time": "2021-07-03T16:15:18.399Z"
   },
   {
    "duration": 620,
    "start_time": "2021-07-03T16:15:19.016Z"
   },
   {
    "duration": 584,
    "start_time": "2021-07-03T16:15:19.638Z"
   },
   {
    "duration": 533,
    "start_time": "2021-07-03T16:15:20.224Z"
   },
   {
    "duration": 586,
    "start_time": "2021-07-03T16:15:20.761Z"
   },
   {
    "duration": 593,
    "start_time": "2021-07-03T16:15:21.349Z"
   },
   {
    "duration": 446,
    "start_time": "2021-07-03T16:15:21.944Z"
   },
   {
    "duration": 442,
    "start_time": "2021-07-03T16:15:22.393Z"
   },
   {
    "duration": 1456,
    "start_time": "2021-07-03T16:15:22.837Z"
   },
   {
    "duration": 205,
    "start_time": "2021-07-03T16:15:24.295Z"
   },
   {
    "duration": 611,
    "start_time": "2021-07-03T16:15:24.503Z"
   },
   {
    "duration": 14,
    "start_time": "2021-07-03T16:15:30.735Z"
   },
   {
    "duration": 13,
    "start_time": "2021-07-03T16:16:39.987Z"
   },
   {
    "duration": 11,
    "start_time": "2021-07-03T16:21:26.933Z"
   },
   {
    "duration": 585,
    "start_time": "2021-07-03T16:23:19.431Z"
   },
   {
    "duration": 442,
    "start_time": "2021-07-03T16:23:29.390Z"
   },
   {
    "duration": 435,
    "start_time": "2021-07-03T16:23:36.765Z"
   },
   {
    "duration": 403,
    "start_time": "2021-07-03T16:24:12.613Z"
   },
   {
    "duration": 384,
    "start_time": "2021-07-03T16:24:18.664Z"
   },
   {
    "duration": 7,
    "start_time": "2021-07-03T16:28:50.090Z"
   },
   {
    "duration": 12,
    "start_time": "2021-07-03T16:34:16.888Z"
   },
   {
    "duration": 12,
    "start_time": "2021-07-03T16:35:29.770Z"
   },
   {
    "duration": 590,
    "start_time": "2021-07-03T16:36:23.617Z"
   },
   {
    "duration": 17,
    "start_time": "2021-07-03T16:36:33.195Z"
   },
   {
    "duration": 15,
    "start_time": "2021-07-03T16:37:58.913Z"
   },
   {
    "duration": 8,
    "start_time": "2021-07-03T16:40:02.694Z"
   },
   {
    "duration": 6,
    "start_time": "2021-07-03T16:40:30.839Z"
   },
   {
    "duration": 6,
    "start_time": "2021-07-03T16:40:43.447Z"
   },
   {
    "duration": 104,
    "start_time": "2021-07-03T16:43:18.658Z"
   },
   {
    "duration": 385,
    "start_time": "2021-07-03T16:43:57.014Z"
   },
   {
    "duration": 498,
    "start_time": "2021-07-03T16:44:16.805Z"
   },
   {
    "duration": 407,
    "start_time": "2021-07-03T16:44:32.485Z"
   },
   {
    "duration": 7,
    "start_time": "2021-07-03T16:44:46.244Z"
   },
   {
    "duration": 7,
    "start_time": "2021-07-03T16:44:53.667Z"
   },
   {
    "duration": 5,
    "start_time": "2021-07-03T16:45:50.164Z"
   },
   {
    "duration": 5,
    "start_time": "2021-07-03T16:45:54.700Z"
   },
   {
    "duration": 375,
    "start_time": "2021-07-03T17:05:58.622Z"
   },
   {
    "duration": 366,
    "start_time": "2021-07-03T17:06:35.850Z"
   },
   {
    "duration": 12,
    "start_time": "2021-07-03T17:09:19.079Z"
   },
   {
    "duration": 7,
    "start_time": "2021-07-03T17:14:21.384Z"
   },
   {
    "duration": 18,
    "start_time": "2021-07-03T17:15:14.013Z"
   },
   {
    "duration": 17,
    "start_time": "2021-07-03T17:15:41.478Z"
   },
   {
    "duration": 123,
    "start_time": "2021-07-03T17:22:11.683Z"
   },
   {
    "duration": 16,
    "start_time": "2021-07-03T17:22:43.149Z"
   },
   {
    "duration": 16,
    "start_time": "2021-07-03T17:23:01.665Z"
   },
   {
    "duration": 18,
    "start_time": "2021-07-03T17:23:23.447Z"
   },
   {
    "duration": 11,
    "start_time": "2021-07-03T17:25:27.823Z"
   },
   {
    "duration": 4453,
    "start_time": "2021-07-03T20:22:51.397Z"
   },
   {
    "duration": 220,
    "start_time": "2021-07-03T20:22:55.853Z"
   },
   {
    "duration": 5,
    "start_time": "2021-07-03T20:22:56.076Z"
   },
   {
    "duration": 20,
    "start_time": "2021-07-03T20:22:56.083Z"
   },
   {
    "duration": 16,
    "start_time": "2021-07-03T20:22:56.105Z"
   },
   {
    "duration": 30,
    "start_time": "2021-07-03T20:22:56.123Z"
   },
   {
    "duration": 67,
    "start_time": "2021-07-03T20:22:56.156Z"
   },
   {
    "duration": 14,
    "start_time": "2021-07-03T20:22:56.225Z"
   },
   {
    "duration": 279,
    "start_time": "2021-07-03T20:22:56.241Z"
   },
   {
    "duration": 156,
    "start_time": "2021-07-03T20:22:56.522Z"
   },
   {
    "duration": 19,
    "start_time": "2021-07-03T20:22:56.680Z"
   },
   {
    "duration": 396,
    "start_time": "2021-07-03T20:22:56.700Z"
   },
   {
    "duration": 394,
    "start_time": "2021-07-03T20:22:57.098Z"
   },
   {
    "duration": 16,
    "start_time": "2021-07-03T20:22:57.493Z"
   },
   {
    "duration": 3732,
    "start_time": "2021-07-03T20:22:57.511Z"
   },
   {
    "duration": 40,
    "start_time": "2021-07-03T20:23:01.245Z"
   },
   {
    "duration": 9,
    "start_time": "2021-07-03T20:23:01.287Z"
   },
   {
    "duration": 832,
    "start_time": "2021-07-03T20:23:01.298Z"
   },
   {
    "duration": 503,
    "start_time": "2021-07-03T20:23:02.132Z"
   },
   {
    "duration": 385,
    "start_time": "2021-07-03T20:23:02.636Z"
   },
   {
    "duration": 389,
    "start_time": "2021-07-03T20:23:03.023Z"
   },
   {
    "duration": 390,
    "start_time": "2021-07-03T20:23:03.414Z"
   },
   {
    "duration": 419,
    "start_time": "2021-07-03T20:23:03.807Z"
   },
   {
    "duration": 394,
    "start_time": "2021-07-03T20:23:04.228Z"
   },
   {
    "duration": 291,
    "start_time": "2021-07-03T20:23:04.624Z"
   },
   {
    "duration": 295,
    "start_time": "2021-07-03T20:23:04.917Z"
   },
   {
    "duration": 848,
    "start_time": "2021-07-03T20:23:05.213Z"
   },
   {
    "duration": 224,
    "start_time": "2021-07-03T20:23:06.062Z"
   },
   {
    "duration": 266,
    "start_time": "2021-07-03T20:23:06.288Z"
   },
   {
    "duration": 252,
    "start_time": "2021-07-03T20:23:06.556Z"
   },
   {
    "duration": 14,
    "start_time": "2021-07-03T20:23:06.810Z"
   },
   {
    "duration": 276,
    "start_time": "2021-07-03T20:23:06.826Z"
   },
   {
    "duration": 252,
    "start_time": "2021-07-03T20:23:07.103Z"
   },
   {
    "duration": 7,
    "start_time": "2021-07-03T20:23:07.357Z"
   },
   {
    "duration": 6176,
    "start_time": "2021-07-03T21:11:56.403Z"
   },
   {
    "duration": 313,
    "start_time": "2021-07-03T21:12:02.583Z"
   },
   {
    "duration": 7,
    "start_time": "2021-07-03T21:12:02.899Z"
   },
   {
    "duration": 21,
    "start_time": "2021-07-03T21:12:02.909Z"
   },
   {
    "duration": 38,
    "start_time": "2021-07-03T21:12:02.932Z"
   },
   {
    "duration": 31,
    "start_time": "2021-07-03T21:12:02.973Z"
   },
   {
    "duration": 71,
    "start_time": "2021-07-03T21:12:03.006Z"
   },
   {
    "duration": 909,
    "start_time": "2021-07-03T21:28:29.417Z"
   },
   {
    "duration": 3396,
    "start_time": "2021-07-03T21:28:56.444Z"
   },
   {
    "duration": 199,
    "start_time": "2021-07-03T21:28:59.843Z"
   },
   {
    "duration": 8,
    "start_time": "2021-07-03T21:29:00.045Z"
   },
   {
    "duration": 25,
    "start_time": "2021-07-03T21:29:00.056Z"
   },
   {
    "duration": 59,
    "start_time": "2021-07-03T21:29:00.083Z"
   },
   {
    "duration": 50,
    "start_time": "2021-07-03T21:29:00.145Z"
   },
   {
    "duration": 60,
    "start_time": "2021-07-03T21:29:00.197Z"
   },
   {
    "duration": 31,
    "start_time": "2021-07-03T21:29:00.262Z"
   },
   {
    "duration": 435,
    "start_time": "2021-07-03T21:29:00.297Z"
   },
   {
    "duration": 247,
    "start_time": "2021-07-03T21:29:00.735Z"
   },
   {
    "duration": 28,
    "start_time": "2021-07-03T21:29:00.984Z"
   },
   {
    "duration": 610,
    "start_time": "2021-07-03T21:29:01.015Z"
   },
   {
    "duration": 615,
    "start_time": "2021-07-03T21:29:01.628Z"
   },
   {
    "duration": 31,
    "start_time": "2021-07-03T21:29:02.246Z"
   },
   {
    "duration": 2422,
    "start_time": "2021-07-03T21:29:39.444Z"
   },
   {
    "duration": 3375,
    "start_time": "2021-07-03T21:42:35.858Z"
   },
   {
    "duration": 206,
    "start_time": "2021-07-03T21:42:39.237Z"
   },
   {
    "duration": 8,
    "start_time": "2021-07-03T21:42:39.446Z"
   },
   {
    "duration": 19,
    "start_time": "2021-07-03T21:42:39.457Z"
   },
   {
    "duration": 28,
    "start_time": "2021-07-03T21:42:39.478Z"
   },
   {
    "duration": 72,
    "start_time": "2021-07-03T21:42:39.508Z"
   },
   {
    "duration": 37,
    "start_time": "2021-07-03T21:42:39.583Z"
   },
   {
    "duration": 41,
    "start_time": "2021-07-03T21:42:39.623Z"
   },
   {
    "duration": 418,
    "start_time": "2021-07-03T21:42:39.667Z"
   },
   {
    "duration": 242,
    "start_time": "2021-07-03T21:42:40.087Z"
   },
   {
    "duration": 39,
    "start_time": "2021-07-03T21:42:40.332Z"
   },
   {
    "duration": 585,
    "start_time": "2021-07-03T21:42:40.373Z"
   },
   {
    "duration": 597,
    "start_time": "2021-07-03T21:42:40.961Z"
   },
   {
    "duration": 27,
    "start_time": "2021-07-03T21:42:41.560Z"
   },
   {
    "duration": 2202,
    "start_time": "2021-07-03T21:42:41.589Z"
   },
   {
    "duration": 160,
    "start_time": "2021-07-03T21:42:43.794Z"
   },
   {
    "duration": 17,
    "start_time": "2021-07-03T21:43:18.041Z"
   },
   {
    "duration": 748,
    "start_time": "2021-07-03T21:43:45.441Z"
   },
   {
    "duration": 81,
    "start_time": "2021-07-03T21:44:54.947Z"
   },
   {
    "duration": 3362,
    "start_time": "2021-07-03T21:46:44.752Z"
   },
   {
    "duration": 166,
    "start_time": "2021-07-03T21:46:48.117Z"
   },
   {
    "duration": 8,
    "start_time": "2021-07-03T21:46:48.286Z"
   },
   {
    "duration": 30,
    "start_time": "2021-07-03T21:46:48.297Z"
   },
   {
    "duration": 39,
    "start_time": "2021-07-03T21:46:48.329Z"
   },
   {
    "duration": 34,
    "start_time": "2021-07-03T21:46:48.371Z"
   },
   {
    "duration": 63,
    "start_time": "2021-07-03T21:46:48.407Z"
   },
   {
    "duration": 21,
    "start_time": "2021-07-03T21:46:48.472Z"
   },
   {
    "duration": 421,
    "start_time": "2021-07-03T21:46:48.497Z"
   },
   {
    "duration": 251,
    "start_time": "2021-07-03T21:46:48.921Z"
   },
   {
    "duration": 27,
    "start_time": "2021-07-03T21:46:49.174Z"
   },
   {
    "duration": 623,
    "start_time": "2021-07-03T21:46:49.204Z"
   },
   {
    "duration": 614,
    "start_time": "2021-07-03T21:46:49.830Z"
   },
   {
    "duration": 29,
    "start_time": "2021-07-03T21:46:50.454Z"
   },
   {
    "duration": 2282,
    "start_time": "2021-07-03T21:46:50.486Z"
   },
   {
    "duration": 34,
    "start_time": "2021-07-03T21:46:52.770Z"
   },
   {
    "duration": 16,
    "start_time": "2021-07-03T21:46:52.807Z"
   },
   {
    "duration": 777,
    "start_time": "2021-07-03T21:46:52.854Z"
   },
   {
    "duration": 506,
    "start_time": "2021-07-03T21:46:58.773Z"
   },
   {
    "duration": 639,
    "start_time": "2021-07-03T21:47:14.821Z"
   },
   {
    "duration": 513,
    "start_time": "2021-07-03T21:47:39.096Z"
   },
   {
    "duration": 522,
    "start_time": "2021-07-03T21:48:03.494Z"
   },
   {
    "duration": 598,
    "start_time": "2021-07-03T21:48:12.350Z"
   },
   {
    "duration": 594,
    "start_time": "2021-07-03T21:51:34.042Z"
   },
   {
    "duration": 497,
    "start_time": "2021-07-03T21:52:57.302Z"
   },
   {
    "duration": 509,
    "start_time": "2021-07-03T21:53:03.123Z"
   },
   {
    "duration": 521,
    "start_time": "2021-07-03T21:53:13.507Z"
   },
   {
    "duration": 511,
    "start_time": "2021-07-03T21:53:19.527Z"
   },
   {
    "duration": 273,
    "start_time": "2021-07-03T21:59:08.565Z"
   },
   {
    "duration": 25,
    "start_time": "2021-07-03T21:59:21.018Z"
   },
   {
    "duration": 446,
    "start_time": "2021-07-03T22:01:36.796Z"
   },
   {
    "duration": 462,
    "start_time": "2021-07-03T22:01:52.701Z"
   },
   {
    "duration": 3309,
    "start_time": "2021-07-03T22:02:19.192Z"
   },
   {
    "duration": 225,
    "start_time": "2021-07-03T22:02:22.504Z"
   },
   {
    "duration": 7,
    "start_time": "2021-07-03T22:02:22.732Z"
   },
   {
    "duration": 16,
    "start_time": "2021-07-03T22:02:22.754Z"
   },
   {
    "duration": 25,
    "start_time": "2021-07-03T22:02:22.773Z"
   },
   {
    "duration": 54,
    "start_time": "2021-07-03T22:02:22.800Z"
   },
   {
    "duration": 37,
    "start_time": "2021-07-03T22:02:22.857Z"
   },
   {
    "duration": 21,
    "start_time": "2021-07-03T22:02:22.899Z"
   },
   {
    "duration": 432,
    "start_time": "2021-07-03T22:02:22.923Z"
   },
   {
    "duration": 360,
    "start_time": "2021-07-03T22:02:23.358Z"
   },
   {
    "duration": 57,
    "start_time": "2021-07-03T22:02:23.721Z"
   },
   {
    "duration": 831,
    "start_time": "2021-07-03T22:02:23.782Z"
   },
   {
    "duration": 600,
    "start_time": "2021-07-03T22:02:24.615Z"
   },
   {
    "duration": 45,
    "start_time": "2021-07-03T22:02:25.218Z"
   },
   {
    "duration": 2132,
    "start_time": "2021-07-03T22:02:25.266Z"
   },
   {
    "duration": 35,
    "start_time": "2021-07-03T22:02:27.400Z"
   },
   {
    "duration": 30,
    "start_time": "2021-07-03T22:02:27.437Z"
   },
   {
    "duration": 843,
    "start_time": "2021-07-03T22:02:27.470Z"
   },
   {
    "duration": 523,
    "start_time": "2021-07-03T22:02:28.316Z"
   },
   {
    "duration": 518,
    "start_time": "2021-07-03T22:02:28.841Z"
   },
   {
    "duration": 24,
    "start_time": "2021-07-03T22:02:29.361Z"
   },
   {
    "duration": 454,
    "start_time": "2021-07-03T22:02:39.245Z"
   },
   {
    "duration": 342,
    "start_time": "2021-07-03T22:05:17.649Z"
   },
   {
    "duration": 551,
    "start_time": "2021-07-03T22:06:03.625Z"
   },
   {
    "duration": 521,
    "start_time": "2021-07-03T22:06:24.889Z"
   },
   {
    "duration": 432,
    "start_time": "2021-07-03T22:06:34.993Z"
   },
   {
    "duration": 462,
    "start_time": "2021-07-03T22:06:57.498Z"
   },
   {
    "duration": 556,
    "start_time": "2021-07-03T22:07:10.947Z"
   },
   {
    "duration": 10,
    "start_time": "2021-07-03T22:08:23.972Z"
   },
   {
    "duration": 23,
    "start_time": "2021-07-03T22:08:30.603Z"
   },
   {
    "duration": 544,
    "start_time": "2021-07-03T22:08:46.108Z"
   },
   {
    "duration": 525,
    "start_time": "2021-07-03T22:08:56.273Z"
   },
   {
    "duration": 428,
    "start_time": "2021-07-03T22:09:51.950Z"
   },
   {
    "duration": 423,
    "start_time": "2021-07-03T22:12:03.774Z"
   },
   {
    "duration": 86,
    "start_time": "2021-07-03T22:13:02.531Z"
   },
   {
    "duration": 424,
    "start_time": "2021-07-03T22:13:26.608Z"
   },
   {
    "duration": 416,
    "start_time": "2021-07-03T22:14:05.116Z"
   },
   {
    "duration": 413,
    "start_time": "2021-07-03T22:14:23.394Z"
   },
   {
    "duration": 440,
    "start_time": "2021-07-03T22:18:42.939Z"
   },
   {
    "duration": 425,
    "start_time": "2021-07-03T22:19:47.319Z"
   },
   {
    "duration": 450,
    "start_time": "2021-07-03T22:20:06.459Z"
   },
   {
    "duration": 1335,
    "start_time": "2021-07-03T22:23:09.226Z"
   },
   {
    "duration": 1034,
    "start_time": "2021-07-03T22:23:35.943Z"
   },
   {
    "duration": 208,
    "start_time": "2021-07-03T22:28:26.457Z"
   },
   {
    "duration": 187,
    "start_time": "2021-07-03T22:28:43.369Z"
   },
   {
    "duration": 385,
    "start_time": "2021-07-03T22:30:25.210Z"
   },
   {
    "duration": 382,
    "start_time": "2021-07-03T22:30:34.516Z"
   },
   {
    "duration": 17,
    "start_time": "2021-07-03T22:30:39.739Z"
   },
   {
    "duration": 89,
    "start_time": "2021-07-03T22:31:51.180Z"
   },
   {
    "duration": 365,
    "start_time": "2021-07-03T22:32:04.647Z"
   },
   {
    "duration": 379,
    "start_time": "2021-07-03T22:32:23.708Z"
   },
   {
    "duration": 11,
    "start_time": "2021-07-03T22:32:31.281Z"
   },
   {
    "duration": 179,
    "start_time": "2021-07-03T23:01:58.304Z"
   },
   {
    "duration": 198,
    "start_time": "2021-07-03T23:02:18.262Z"
   },
   {
    "duration": 200,
    "start_time": "2021-07-03T23:02:31.575Z"
   },
   {
    "duration": 180,
    "start_time": "2021-07-03T23:09:11.018Z"
   },
   {
    "duration": 184,
    "start_time": "2021-07-03T23:09:18.611Z"
   },
   {
    "duration": 185,
    "start_time": "2021-07-03T23:11:01.272Z"
   },
   {
    "duration": 193,
    "start_time": "2021-07-03T23:14:13.665Z"
   }
  ],
  "kernelspec": {
   "display_name": "Python 3 (ipykernel)",
   "language": "python",
   "name": "python3"
  },
  "language_info": {
   "codemirror_mode": {
    "name": "ipython",
    "version": 3
   },
   "file_extension": ".py",
   "mimetype": "text/x-python",
   "name": "python",
   "nbconvert_exporter": "python",
   "pygments_lexer": "ipython3",
   "version": "3.9.5"
  },
  "toc": {
   "base_numbering": 1,
   "nav_menu": {},
   "number_sections": true,
   "sideBar": true,
   "skip_h1_title": true,
   "title_cell": "Table of Contents",
   "title_sidebar": "Contents",
   "toc_cell": false,
   "toc_position": {},
   "toc_section_display": true,
   "toc_window_display": true
  }
 },
 "nbformat": 4,
 "nbformat_minor": 2
}
