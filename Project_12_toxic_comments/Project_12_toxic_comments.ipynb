{
 "cells": [
  {
   "cell_type": "markdown",
   "metadata": {
    "toc": true
   },
   "source": [
    "<h1>Содержание<span class=\"tocSkip\"></span></h1>\n",
    "<div class=\"toc\"><ul class=\"toc-item\"><li><span><a href=\"#Подготовка\" data-toc-modified-id=\"Подготовка-1\"><span class=\"toc-item-num\">1&nbsp;&nbsp;</span>Подготовка</a></span><ul class=\"toc-item\"><li><span><a href=\"#Импорт-датасета-и-первый-взгляд-на-него\" data-toc-modified-id=\"Импорт-датасета-и-первый-взгляд-на-него-1.1\"><span class=\"toc-item-num\">1.1&nbsp;&nbsp;</span>Импорт датасета и первый взгляд на него</a></span></li><li><span><a href=\"#Лемматизация\" data-toc-modified-id=\"Лемматизация-1.2\"><span class=\"toc-item-num\">1.2&nbsp;&nbsp;</span>Лемматизация</a></span></li></ul></li><li><span><a href=\"#Обучение\" data-toc-modified-id=\"Обучение-2\"><span class=\"toc-item-num\">2&nbsp;&nbsp;</span>Обучение</a></span><ul class=\"toc-item\"><li><span><a href=\"#Dummy-модель\" data-toc-modified-id=\"Dummy-модель-2.1\"><span class=\"toc-item-num\">2.1&nbsp;&nbsp;</span>Dummy модель</a></span></li><li><span><a href=\"#Логистическая-регрессия\" data-toc-modified-id=\"Логистическая-регрессия-2.2\"><span class=\"toc-item-num\">2.2&nbsp;&nbsp;</span>Логистическая регрессия</a></span></li><li><span><a href=\"#Дерево-решений\" data-toc-modified-id=\"Дерево-решений-2.3\"><span class=\"toc-item-num\">2.3&nbsp;&nbsp;</span>Дерево решений</a></span></li><li><span><a href=\"#Случайный-лес-(для-скорости-опущен)\" data-toc-modified-id=\"Случайный-лес-(для-скорости-опущен)-2.4\"><span class=\"toc-item-num\">2.4&nbsp;&nbsp;</span>Случайный лес (для скорости опущен)</a></span></li><li><span><a href=\"#LightGBM\" data-toc-modified-id=\"LightGBM-2.5\"><span class=\"toc-item-num\">2.5&nbsp;&nbsp;</span>LightGBM</a></span></li></ul></li><li><span><a href=\"#Выводы\" data-toc-modified-id=\"Выводы-3\"><span class=\"toc-item-num\">3&nbsp;&nbsp;</span>Выводы</a></span></li></ul></div>"
   ]
  },
  {
   "cell_type": "markdown",
   "metadata": {},
   "source": [
    "# Проект для «Викишоп»"
   ]
  },
  {
   "cell_type": "markdown",
   "metadata": {},
   "source": [
    "Интернет-магазин «Викишоп» запускает новый сервис. Теперь пользователи могут редактировать и дополнять описания товаров, как в вики-сообществах. То есть клиенты предлагают свои правки и комментируют изменения других. Магазину нужен инструмент, который будет искать токсичные комментарии и отправлять их на модерацию. \n",
    "\n",
    "Обучим модель классифицировать комментарии на позитивные и негативные. В нашем распоряжении набор данных с разметкой о токсичности правок.\n",
    "\n",
    "Построим модель со значением метрики качества *F1* не меньше 0.75. \n",
    "\n",
    "**Описание данных**\n",
    "\n",
    "Данные находятся в файле `toxic_comments.csv`. Столбец *text* в нём содержит текст комментария, а *toxic* — целевой признак."
   ]
  },
  {
   "cell_type": "markdown",
   "metadata": {},
   "source": [
    "## Подготовка"
   ]
  },
  {
   "cell_type": "markdown",
   "metadata": {},
   "source": [
    "### Импорт датасета и первый взгляд на него"
   ]
  },
  {
   "cell_type": "markdown",
   "metadata": {},
   "source": [
    "Подключим нужные библиотеки, прочитаем файлы и посмотрим на их значения, размеры и типы данных."
   ]
  },
  {
   "cell_type": "code",
   "execution_count": 1,
   "metadata": {},
   "outputs": [
    {
     "name": "stdout",
     "output_type": "stream",
     "text": [
      "Requirement already satisfied: lightgbm in c:\\users\\admin\\miniconda3\\lib\\site-packages (3.3.1)\n",
      "Requirement already satisfied: wheel in c:\\users\\admin\\miniconda3\\lib\\site-packages (from lightgbm) (0.36.2)\n",
      "Requirement already satisfied: scipy in c:\\users\\admin\\miniconda3\\lib\\site-packages (from lightgbm) (1.7.1)\n",
      "Requirement already satisfied: scikit-learn!=0.22.0 in c:\\users\\admin\\miniconda3\\lib\\site-packages (from lightgbm) (1.0.1)\n",
      "Requirement already satisfied: numpy in c:\\users\\admin\\miniconda3\\lib\\site-packages (from lightgbm) (1.21.2)\n",
      "Requirement already satisfied: joblib>=0.11 in c:\\users\\admin\\miniconda3\\lib\\site-packages (from scikit-learn!=0.22.0->lightgbm) (1.1.0)\n",
      "Requirement already satisfied: threadpoolctl>=2.0.0 in c:\\users\\admin\\miniconda3\\lib\\site-packages (from scikit-learn!=0.22.0->lightgbm) (3.0.0)\n",
      "Requirement already satisfied: catboost in c:\\users\\admin\\miniconda3\\lib\\site-packages (1.0.3)\n",
      "Requirement already satisfied: graphviz in c:\\users\\admin\\miniconda3\\lib\\site-packages (from catboost) (0.19)\n",
      "Requirement already satisfied: scipy in c:\\users\\admin\\miniconda3\\lib\\site-packages (from catboost) (1.7.1)\n",
      "Requirement already satisfied: pandas>=0.24.0 in c:\\users\\admin\\miniconda3\\lib\\site-packages (from catboost) (1.3.3)\n",
      "Requirement already satisfied: plotly in c:\\users\\admin\\miniconda3\\lib\\site-packages (from catboost) (5.3.1)\n",
      "Requirement already satisfied: six in c:\\users\\admin\\miniconda3\\lib\\site-packages (from catboost) (1.16.0)\n",
      "Requirement already satisfied: matplotlib in c:\\users\\admin\\miniconda3\\lib\\site-packages (from catboost) (3.4.3)\n",
      "Requirement already satisfied: numpy>=1.16.0 in c:\\users\\admin\\miniconda3\\lib\\site-packages (from catboost) (1.21.2)\n",
      "Requirement already satisfied: python-dateutil>=2.7.3 in c:\\users\\admin\\miniconda3\\lib\\site-packages (from pandas>=0.24.0->catboost) (2.8.2)\n",
      "Requirement already satisfied: pytz>=2017.3 in c:\\users\\admin\\miniconda3\\lib\\site-packages (from pandas>=0.24.0->catboost) (2021.3)\n",
      "Requirement already satisfied: pillow>=6.2.0 in c:\\users\\admin\\miniconda3\\lib\\site-packages (from matplotlib->catboost) (8.3.2)\n",
      "Requirement already satisfied: kiwisolver>=1.0.1 in c:\\users\\admin\\miniconda3\\lib\\site-packages (from matplotlib->catboost) (1.3.2)\n",
      "Requirement already satisfied: cycler>=0.10 in c:\\users\\admin\\miniconda3\\lib\\site-packages (from matplotlib->catboost) (0.10.0)\n",
      "Requirement already satisfied: pyparsing>=2.2.1 in c:\\users\\admin\\miniconda3\\lib\\site-packages (from matplotlib->catboost) (2.4.7)\n",
      "Requirement already satisfied: tenacity>=6.2.0 in c:\\users\\admin\\miniconda3\\lib\\site-packages (from plotly->catboost) (8.0.1)\n",
      "Requirement already satisfied: scikit-learn in c:\\users\\admin\\miniconda3\\lib\\site-packages (1.0.1)\n",
      "Requirement already satisfied: numpy>=1.14.6 in c:\\users\\admin\\miniconda3\\lib\\site-packages (from scikit-learn) (1.21.2)\n",
      "Requirement already satisfied: scipy>=1.1.0 in c:\\users\\admin\\miniconda3\\lib\\site-packages (from scikit-learn) (1.7.1)\n",
      "Requirement already satisfied: joblib>=0.11 in c:\\users\\admin\\miniconda3\\lib\\site-packages (from scikit-learn) (1.1.0)\n",
      "Requirement already satisfied: threadpoolctl>=2.0.0 in c:\\users\\admin\\miniconda3\\lib\\site-packages (from scikit-learn) (3.0.0)\n"
     ]
    },
    {
     "name": "stderr",
     "output_type": "stream",
     "text": [
      "[nltk_data] Downloading package punkt to\n",
      "[nltk_data]     C:\\Users\\Admin\\AppData\\Roaming\\nltk_data...\n",
      "[nltk_data]   Unzipping tokenizers\\punkt.zip.\n",
      "[nltk_data] Downloading package averaged_perceptron_tagger to\n",
      "[nltk_data]     C:\\Users\\Admin\\AppData\\Roaming\\nltk_data...\n",
      "[nltk_data]   Package averaged_perceptron_tagger is already up-to-\n",
      "[nltk_data]       date!\n",
      "[nltk_data] Downloading package stopwords to\n",
      "[nltk_data]     C:\\Users\\Admin\\AppData\\Roaming\\nltk_data...\n",
      "[nltk_data]   Package stopwords is already up-to-date!\n"
     ]
    }
   ],
   "source": [
    "!pip install lightgbm\n",
    "!pip install catboost\n",
    "!pip install --upgrade scikit-learn\n",
    "\n",
    "import pandas as pd\n",
    "import numpy as np\n",
    "\n",
    "from sklearn.dummy import DummyClassifier\n",
    "from sklearn.linear_model import LogisticRegression\n",
    "from sklearn.tree import DecisionTreeClassifier\n",
    "from sklearn.ensemble import RandomForestClassifier\n",
    "from lightgbm import LGBMClassifier\n",
    "from catboost import Pool, CatBoostClassifier\n",
    "\n",
    "from sklearn.feature_selection import RFE\n",
    "\n",
    "from sklearn.preprocessing import OrdinalEncoder\n",
    "from sklearn.preprocessing import StandardScaler\n",
    "pd.options.mode.chained_assignment = None\n",
    "\n",
    "from sklearn.model_selection import GridSearchCV\n",
    "from sklearn.model_selection import RandomizedSearchCV\n",
    "from sklearn.model_selection import cross_val_score\n",
    "from sklearn.metrics import make_scorer\n",
    "\n",
    "from sklearn.model_selection import train_test_split\n",
    "from sklearn.metrics import f1_score\n",
    "from sklearn.utils import shuffle\n",
    "\n",
    "import nltk\n",
    "nltk.download('punkt')\n",
    "from nltk.corpus import wordnet\n",
    "from nltk.stem import WordNetLemmatizer\n",
    "nltk.download('averaged_perceptron_tagger')\n",
    "nltk.download('stopwords')\n",
    "from nltk.corpus import stopwords as nltk_stopwords\n",
    "from sklearn.feature_extraction.text import TfidfVectorizer\n",
    "import re\n",
    "\n",
    "\n",
    "from IPython.display import display\n",
    "pd.set_option('display.float_format', '{:.2f}'.format)\n",
    "import warnings\n",
    "warnings.filterwarnings('ignore')\n",
    "import matplotlib.pyplot as plt\n",
    "import seaborn as sns\n",
    "\n",
    "from sklearn.metrics import confusion_matrix"
   ]
  },
  {
   "cell_type": "code",
   "execution_count": 2,
   "metadata": {},
   "outputs": [],
   "source": [
    "df = pd.read_csv('/datasets/toxic_comments.csv')"
   ]
  },
  {
   "cell_type": "code",
   "execution_count": 3,
   "metadata": {},
   "outputs": [
    {
     "data": {
      "text/html": [
       "<div>\n",
       "<style scoped>\n",
       "    .dataframe tbody tr th:only-of-type {\n",
       "        vertical-align: middle;\n",
       "    }\n",
       "\n",
       "    .dataframe tbody tr th {\n",
       "        vertical-align: top;\n",
       "    }\n",
       "\n",
       "    .dataframe thead th {\n",
       "        text-align: right;\n",
       "    }\n",
       "</style>\n",
       "<table border=\"1\" class=\"dataframe\">\n",
       "  <thead>\n",
       "    <tr style=\"text-align: right;\">\n",
       "      <th></th>\n",
       "      <th>text</th>\n",
       "      <th>toxic</th>\n",
       "    </tr>\n",
       "  </thead>\n",
       "  <tbody>\n",
       "    <tr>\n",
       "      <th>0</th>\n",
       "      <td>Explanation\\nWhy the edits made under my usern...</td>\n",
       "      <td>0</td>\n",
       "    </tr>\n",
       "    <tr>\n",
       "      <th>1</th>\n",
       "      <td>D'aww! He matches this background colour I'm s...</td>\n",
       "      <td>0</td>\n",
       "    </tr>\n",
       "    <tr>\n",
       "      <th>2</th>\n",
       "      <td>Hey man, I'm really not trying to edit war. It...</td>\n",
       "      <td>0</td>\n",
       "    </tr>\n",
       "    <tr>\n",
       "      <th>3</th>\n",
       "      <td>\"\\nMore\\nI can't make any real suggestions on ...</td>\n",
       "      <td>0</td>\n",
       "    </tr>\n",
       "    <tr>\n",
       "      <th>4</th>\n",
       "      <td>You, sir, are my hero. Any chance you remember...</td>\n",
       "      <td>0</td>\n",
       "    </tr>\n",
       "    <tr>\n",
       "      <th>...</th>\n",
       "      <td>...</td>\n",
       "      <td>...</td>\n",
       "    </tr>\n",
       "    <tr>\n",
       "      <th>159566</th>\n",
       "      <td>\":::::And for the second time of asking, when ...</td>\n",
       "      <td>0</td>\n",
       "    </tr>\n",
       "    <tr>\n",
       "      <th>159567</th>\n",
       "      <td>You should be ashamed of yourself \\n\\nThat is ...</td>\n",
       "      <td>0</td>\n",
       "    </tr>\n",
       "    <tr>\n",
       "      <th>159568</th>\n",
       "      <td>Spitzer \\n\\nUmm, theres no actual article for ...</td>\n",
       "      <td>0</td>\n",
       "    </tr>\n",
       "    <tr>\n",
       "      <th>159569</th>\n",
       "      <td>And it looks like it was actually you who put ...</td>\n",
       "      <td>0</td>\n",
       "    </tr>\n",
       "    <tr>\n",
       "      <th>159570</th>\n",
       "      <td>\"\\nAnd ... I really don't think you understand...</td>\n",
       "      <td>0</td>\n",
       "    </tr>\n",
       "  </tbody>\n",
       "</table>\n",
       "<p>159571 rows × 2 columns</p>\n",
       "</div>"
      ],
      "text/plain": [
       "                                                     text  toxic\n",
       "0       Explanation\\nWhy the edits made under my usern...      0\n",
       "1       D'aww! He matches this background colour I'm s...      0\n",
       "2       Hey man, I'm really not trying to edit war. It...      0\n",
       "3       \"\\nMore\\nI can't make any real suggestions on ...      0\n",
       "4       You, sir, are my hero. Any chance you remember...      0\n",
       "...                                                   ...    ...\n",
       "159566  \":::::And for the second time of asking, when ...      0\n",
       "159567  You should be ashamed of yourself \\n\\nThat is ...      0\n",
       "159568  Spitzer \\n\\nUmm, theres no actual article for ...      0\n",
       "159569  And it looks like it was actually you who put ...      0\n",
       "159570  \"\\nAnd ... I really don't think you understand...      0\n",
       "\n",
       "[159571 rows x 2 columns]"
      ]
     },
     "metadata": {},
     "output_type": "display_data"
    }
   ],
   "source": [
    "display(df)"
   ]
  },
  {
   "cell_type": "code",
   "execution_count": 4,
   "metadata": {},
   "outputs": [
    {
     "name": "stdout",
     "output_type": "stream",
     "text": [
      "<class 'pandas.core.frame.DataFrame'>\n",
      "RangeIndex: 159571 entries, 0 to 159570\n",
      "Data columns (total 2 columns):\n",
      " #   Column  Non-Null Count   Dtype \n",
      "---  ------  --------------   ----- \n",
      " 0   text    159571 non-null  object\n",
      " 1   toxic   159571 non-null  int64 \n",
      "dtypes: int64(1), object(1)\n",
      "memory usage: 2.4+ MB\n"
     ]
    }
   ],
   "source": [
    "df.info()"
   ]
  },
  {
   "cell_type": "code",
   "execution_count": 5,
   "metadata": {},
   "outputs": [
    {
     "name": "stdout",
     "output_type": "stream",
     "text": [
      "Число дубликатов: 0\n"
     ]
    }
   ],
   "source": [
    "print('Число дубликатов:', df.duplicated().sum())"
   ]
  },
  {
   "cell_type": "markdown",
   "metadata": {},
   "source": [
    "Уберем мусор:"
   ]
  },
  {
   "cell_type": "code",
   "execution_count": 6,
   "metadata": {},
   "outputs": [],
   "source": [
    "df['text'] = df['text'].str.lower().apply(lambda x: re.sub(r'[^a-z ]', ' ', x))"
   ]
  },
  {
   "cell_type": "markdown",
   "metadata": {},
   "source": [
    "Посмотрим, насколько сбалансирован датасет."
   ]
  },
  {
   "cell_type": "code",
   "execution_count": 7,
   "metadata": {
    "scrolled": true
   },
   "outputs": [
    {
     "data": {
      "text/plain": [
       "0    143346\n",
       "1     16225\n",
       "Name: toxic, dtype: int64"
      ]
     },
     "execution_count": 7,
     "metadata": {},
     "output_type": "execute_result"
    }
   ],
   "source": [
    "df.toxic.value_counts()"
   ]
  },
  {
   "cell_type": "markdown",
   "metadata": {},
   "source": [
    "Получили, что нулевых ответов в 9 раз больше, чем единичных. Будем решать эту проблему взвешиванием классов."
   ]
  },
  {
   "cell_type": "markdown",
   "metadata": {},
   "source": [
    "### Лемматизация"
   ]
  },
  {
   "cell_type": "code",
   "execution_count": 8,
   "metadata": {},
   "outputs": [],
   "source": [
    "def get_wordnet_pos(word):\n",
    "    \"\"\"Map POS tag to first character lemmatize() accepts\"\"\"\n",
    "    tag = nltk.pos_tag([word])[0][1][0].upper()\n",
    "    tag_dict = {\"J\": wordnet.ADJ,\n",
    "                \"N\": wordnet.NOUN,\n",
    "                \"V\": wordnet.VERB,\n",
    "                \"R\": wordnet.ADV}\n",
    "    return tag_dict.get(tag, wordnet.NOUN)\n",
    "\n",
    "\n",
    "def clean_lemm(text):\n",
    "    lemmatizer = WordNetLemmatizer()\n",
    "    return ' '.join([lemmatizer.lemmatize(w, get_wordnet_pos(w)) for w in nltk.word_tokenize(text)])"
   ]
  },
  {
   "cell_type": "code",
   "execution_count": 9,
   "metadata": {},
   "outputs": [
    {
     "ename": "LookupError",
     "evalue": "\n**********************************************************************\n  Resource \u001b[93mwordnet\u001b[0m not found.\n  Please use the NLTK Downloader to obtain the resource:\n\n  \u001b[31m>>> import nltk\n  >>> nltk.download('wordnet')\n  \u001b[0m\n  For more information see: https://www.nltk.org/data.html\n\n  Attempted to load \u001b[93mcorpora/wordnet\u001b[0m\n\n  Searched in:\n    - 'C:\\\\Users\\\\Admin/nltk_data'\n    - 'c:\\\\users\\\\admin\\\\miniconda3\\\\nltk_data'\n    - 'c:\\\\users\\\\admin\\\\miniconda3\\\\share\\\\nltk_data'\n    - 'c:\\\\users\\\\admin\\\\miniconda3\\\\lib\\\\nltk_data'\n    - 'C:\\\\Users\\\\Admin\\\\AppData\\\\Roaming\\\\nltk_data'\n    - 'C:\\\\nltk_data'\n    - 'D:\\\\nltk_data'\n    - 'E:\\\\nltk_data'\n**********************************************************************\n",
     "output_type": "error",
     "traceback": [
      "\u001b[1;31m---------------------------------------------------------------------------\u001b[0m",
      "\u001b[1;31mLookupError\u001b[0m                               Traceback (most recent call last)",
      "\u001b[1;32mc:\\users\\admin\\miniconda3\\lib\\site-packages\\nltk\\corpus\\util.py\u001b[0m in \u001b[0;36m__load\u001b[1;34m(self)\u001b[0m\n\u001b[0;32m     83\u001b[0m                 \u001b[1;32mtry\u001b[0m\u001b[1;33m:\u001b[0m\u001b[1;33m\u001b[0m\u001b[1;33m\u001b[0m\u001b[0m\n\u001b[1;32m---> 84\u001b[1;33m                     \u001b[0mroot\u001b[0m \u001b[1;33m=\u001b[0m \u001b[0mnltk\u001b[0m\u001b[1;33m.\u001b[0m\u001b[0mdata\u001b[0m\u001b[1;33m.\u001b[0m\u001b[0mfind\u001b[0m\u001b[1;33m(\u001b[0m\u001b[1;34mf\"{self.subdir}/{zip_name}\"\u001b[0m\u001b[1;33m)\u001b[0m\u001b[1;33m\u001b[0m\u001b[1;33m\u001b[0m\u001b[0m\n\u001b[0m\u001b[0;32m     85\u001b[0m                 \u001b[1;32mexcept\u001b[0m \u001b[0mLookupError\u001b[0m\u001b[1;33m:\u001b[0m\u001b[1;33m\u001b[0m\u001b[1;33m\u001b[0m\u001b[0m\n",
      "\u001b[1;32mc:\\users\\admin\\miniconda3\\lib\\site-packages\\nltk\\data.py\u001b[0m in \u001b[0;36mfind\u001b[1;34m(resource_name, paths)\u001b[0m\n\u001b[0;32m    582\u001b[0m     \u001b[0mresource_not_found\u001b[0m \u001b[1;33m=\u001b[0m \u001b[1;34mf\"\\n{sep}\\n{msg}\\n{sep}\\n\"\u001b[0m\u001b[1;33m\u001b[0m\u001b[1;33m\u001b[0m\u001b[0m\n\u001b[1;32m--> 583\u001b[1;33m     \u001b[1;32mraise\u001b[0m \u001b[0mLookupError\u001b[0m\u001b[1;33m(\u001b[0m\u001b[0mresource_not_found\u001b[0m\u001b[1;33m)\u001b[0m\u001b[1;33m\u001b[0m\u001b[1;33m\u001b[0m\u001b[0m\n\u001b[0m\u001b[0;32m    584\u001b[0m \u001b[1;33m\u001b[0m\u001b[0m\n",
      "\u001b[1;31mLookupError\u001b[0m: \n**********************************************************************\n  Resource \u001b[93mwordnet\u001b[0m not found.\n  Please use the NLTK Downloader to obtain the resource:\n\n  \u001b[31m>>> import nltk\n  >>> nltk.download('wordnet')\n  \u001b[0m\n  For more information see: https://www.nltk.org/data.html\n\n  Attempted to load \u001b[93mcorpora/wordnet.zip/wordnet/\u001b[0m\n\n  Searched in:\n    - 'C:\\\\Users\\\\Admin/nltk_data'\n    - 'c:\\\\users\\\\admin\\\\miniconda3\\\\nltk_data'\n    - 'c:\\\\users\\\\admin\\\\miniconda3\\\\share\\\\nltk_data'\n    - 'c:\\\\users\\\\admin\\\\miniconda3\\\\lib\\\\nltk_data'\n    - 'C:\\\\Users\\\\Admin\\\\AppData\\\\Roaming\\\\nltk_data'\n    - 'C:\\\\nltk_data'\n    - 'D:\\\\nltk_data'\n    - 'E:\\\\nltk_data'\n**********************************************************************\n",
      "\nDuring handling of the above exception, another exception occurred:\n",
      "\u001b[1;31mLookupError\u001b[0m                               Traceback (most recent call last)",
      "\u001b[1;32m~\\AppData\\Local\\Temp/ipykernel_26920/3571008929.py\u001b[0m in \u001b[0;36m<module>\u001b[1;34m\u001b[0m\n\u001b[1;32m----> 1\u001b[1;33m \u001b[0mdf\u001b[0m\u001b[1;33m[\u001b[0m\u001b[1;34m'lemm_text'\u001b[0m\u001b[1;33m]\u001b[0m \u001b[1;33m=\u001b[0m \u001b[0mdf\u001b[0m\u001b[1;33m[\u001b[0m\u001b[1;34m'text'\u001b[0m\u001b[1;33m]\u001b[0m\u001b[1;33m.\u001b[0m\u001b[0mapply\u001b[0m\u001b[1;33m(\u001b[0m\u001b[0mclean_lemm\u001b[0m\u001b[1;33m)\u001b[0m\u001b[1;33m\u001b[0m\u001b[1;33m\u001b[0m\u001b[0m\n\u001b[0m",
      "\u001b[1;32mc:\\users\\admin\\miniconda3\\lib\\site-packages\\pandas\\core\\series.py\u001b[0m in \u001b[0;36mapply\u001b[1;34m(self, func, convert_dtype, args, **kwargs)\u001b[0m\n\u001b[0;32m   4355\u001b[0m         \u001b[0mdtype\u001b[0m\u001b[1;33m:\u001b[0m \u001b[0mfloat64\u001b[0m\u001b[1;33m\u001b[0m\u001b[1;33m\u001b[0m\u001b[0m\n\u001b[0;32m   4356\u001b[0m         \"\"\"\n\u001b[1;32m-> 4357\u001b[1;33m         \u001b[1;32mreturn\u001b[0m \u001b[0mSeriesApply\u001b[0m\u001b[1;33m(\u001b[0m\u001b[0mself\u001b[0m\u001b[1;33m,\u001b[0m \u001b[0mfunc\u001b[0m\u001b[1;33m,\u001b[0m \u001b[0mconvert_dtype\u001b[0m\u001b[1;33m,\u001b[0m \u001b[0margs\u001b[0m\u001b[1;33m,\u001b[0m \u001b[0mkwargs\u001b[0m\u001b[1;33m)\u001b[0m\u001b[1;33m.\u001b[0m\u001b[0mapply\u001b[0m\u001b[1;33m(\u001b[0m\u001b[1;33m)\u001b[0m\u001b[1;33m\u001b[0m\u001b[1;33m\u001b[0m\u001b[0m\n\u001b[0m\u001b[0;32m   4358\u001b[0m \u001b[1;33m\u001b[0m\u001b[0m\n\u001b[0;32m   4359\u001b[0m     def _reduce(\n",
      "\u001b[1;32mc:\\users\\admin\\miniconda3\\lib\\site-packages\\pandas\\core\\apply.py\u001b[0m in \u001b[0;36mapply\u001b[1;34m(self)\u001b[0m\n\u001b[0;32m   1041\u001b[0m             \u001b[1;32mreturn\u001b[0m \u001b[0mself\u001b[0m\u001b[1;33m.\u001b[0m\u001b[0mapply_str\u001b[0m\u001b[1;33m(\u001b[0m\u001b[1;33m)\u001b[0m\u001b[1;33m\u001b[0m\u001b[1;33m\u001b[0m\u001b[0m\n\u001b[0;32m   1042\u001b[0m \u001b[1;33m\u001b[0m\u001b[0m\n\u001b[1;32m-> 1043\u001b[1;33m         \u001b[1;32mreturn\u001b[0m \u001b[0mself\u001b[0m\u001b[1;33m.\u001b[0m\u001b[0mapply_standard\u001b[0m\u001b[1;33m(\u001b[0m\u001b[1;33m)\u001b[0m\u001b[1;33m\u001b[0m\u001b[1;33m\u001b[0m\u001b[0m\n\u001b[0m\u001b[0;32m   1044\u001b[0m \u001b[1;33m\u001b[0m\u001b[0m\n\u001b[0;32m   1045\u001b[0m     \u001b[1;32mdef\u001b[0m \u001b[0magg\u001b[0m\u001b[1;33m(\u001b[0m\u001b[0mself\u001b[0m\u001b[1;33m)\u001b[0m\u001b[1;33m:\u001b[0m\u001b[1;33m\u001b[0m\u001b[1;33m\u001b[0m\u001b[0m\n",
      "\u001b[1;32mc:\\users\\admin\\miniconda3\\lib\\site-packages\\pandas\\core\\apply.py\u001b[0m in \u001b[0;36mapply_standard\u001b[1;34m(self)\u001b[0m\n\u001b[0;32m   1097\u001b[0m                 \u001b[1;31m# List[Union[Callable[..., Any], str]]]]]\"; expected\u001b[0m\u001b[1;33m\u001b[0m\u001b[1;33m\u001b[0m\u001b[1;33m\u001b[0m\u001b[0m\n\u001b[0;32m   1098\u001b[0m                 \u001b[1;31m# \"Callable[[Any], Any]\"\u001b[0m\u001b[1;33m\u001b[0m\u001b[1;33m\u001b[0m\u001b[1;33m\u001b[0m\u001b[0m\n\u001b[1;32m-> 1099\u001b[1;33m                 mapped = lib.map_infer(\n\u001b[0m\u001b[0;32m   1100\u001b[0m                     \u001b[0mvalues\u001b[0m\u001b[1;33m,\u001b[0m\u001b[1;33m\u001b[0m\u001b[1;33m\u001b[0m\u001b[0m\n\u001b[0;32m   1101\u001b[0m                     \u001b[0mf\u001b[0m\u001b[1;33m,\u001b[0m  \u001b[1;31m# type: ignore[arg-type]\u001b[0m\u001b[1;33m\u001b[0m\u001b[1;33m\u001b[0m\u001b[0m\n",
      "\u001b[1;32mc:\\users\\admin\\miniconda3\\lib\\site-packages\\pandas\\_libs\\lib.pyx\u001b[0m in \u001b[0;36mpandas._libs.lib.map_infer\u001b[1;34m()\u001b[0m\n",
      "\u001b[1;32m~\\AppData\\Local\\Temp/ipykernel_26920/130801375.py\u001b[0m in \u001b[0;36mclean_lemm\u001b[1;34m(text)\u001b[0m\n\u001b[0;32m     11\u001b[0m \u001b[1;32mdef\u001b[0m \u001b[0mclean_lemm\u001b[0m\u001b[1;33m(\u001b[0m\u001b[0mtext\u001b[0m\u001b[1;33m)\u001b[0m\u001b[1;33m:\u001b[0m\u001b[1;33m\u001b[0m\u001b[1;33m\u001b[0m\u001b[0m\n\u001b[0;32m     12\u001b[0m     \u001b[0mlemmatizer\u001b[0m \u001b[1;33m=\u001b[0m \u001b[0mWordNetLemmatizer\u001b[0m\u001b[1;33m(\u001b[0m\u001b[1;33m)\u001b[0m\u001b[1;33m\u001b[0m\u001b[1;33m\u001b[0m\u001b[0m\n\u001b[1;32m---> 13\u001b[1;33m     \u001b[1;32mreturn\u001b[0m \u001b[1;34m' '\u001b[0m\u001b[1;33m.\u001b[0m\u001b[0mjoin\u001b[0m\u001b[1;33m(\u001b[0m\u001b[1;33m[\u001b[0m\u001b[0mlemmatizer\u001b[0m\u001b[1;33m.\u001b[0m\u001b[0mlemmatize\u001b[0m\u001b[1;33m(\u001b[0m\u001b[0mw\u001b[0m\u001b[1;33m,\u001b[0m \u001b[0mget_wordnet_pos\u001b[0m\u001b[1;33m(\u001b[0m\u001b[0mw\u001b[0m\u001b[1;33m)\u001b[0m\u001b[1;33m)\u001b[0m \u001b[1;32mfor\u001b[0m \u001b[0mw\u001b[0m \u001b[1;32min\u001b[0m \u001b[0mnltk\u001b[0m\u001b[1;33m.\u001b[0m\u001b[0mword_tokenize\u001b[0m\u001b[1;33m(\u001b[0m\u001b[0mtext\u001b[0m\u001b[1;33m)\u001b[0m\u001b[1;33m]\u001b[0m\u001b[1;33m)\u001b[0m\u001b[1;33m\u001b[0m\u001b[1;33m\u001b[0m\u001b[0m\n\u001b[0m",
      "\u001b[1;32m~\\AppData\\Local\\Temp/ipykernel_26920/130801375.py\u001b[0m in \u001b[0;36m<listcomp>\u001b[1;34m(.0)\u001b[0m\n\u001b[0;32m     11\u001b[0m \u001b[1;32mdef\u001b[0m \u001b[0mclean_lemm\u001b[0m\u001b[1;33m(\u001b[0m\u001b[0mtext\u001b[0m\u001b[1;33m)\u001b[0m\u001b[1;33m:\u001b[0m\u001b[1;33m\u001b[0m\u001b[1;33m\u001b[0m\u001b[0m\n\u001b[0;32m     12\u001b[0m     \u001b[0mlemmatizer\u001b[0m \u001b[1;33m=\u001b[0m \u001b[0mWordNetLemmatizer\u001b[0m\u001b[1;33m(\u001b[0m\u001b[1;33m)\u001b[0m\u001b[1;33m\u001b[0m\u001b[1;33m\u001b[0m\u001b[0m\n\u001b[1;32m---> 13\u001b[1;33m     \u001b[1;32mreturn\u001b[0m \u001b[1;34m' '\u001b[0m\u001b[1;33m.\u001b[0m\u001b[0mjoin\u001b[0m\u001b[1;33m(\u001b[0m\u001b[1;33m[\u001b[0m\u001b[0mlemmatizer\u001b[0m\u001b[1;33m.\u001b[0m\u001b[0mlemmatize\u001b[0m\u001b[1;33m(\u001b[0m\u001b[0mw\u001b[0m\u001b[1;33m,\u001b[0m \u001b[0mget_wordnet_pos\u001b[0m\u001b[1;33m(\u001b[0m\u001b[0mw\u001b[0m\u001b[1;33m)\u001b[0m\u001b[1;33m)\u001b[0m \u001b[1;32mfor\u001b[0m \u001b[0mw\u001b[0m \u001b[1;32min\u001b[0m \u001b[0mnltk\u001b[0m\u001b[1;33m.\u001b[0m\u001b[0mword_tokenize\u001b[0m\u001b[1;33m(\u001b[0m\u001b[0mtext\u001b[0m\u001b[1;33m)\u001b[0m\u001b[1;33m]\u001b[0m\u001b[1;33m)\u001b[0m\u001b[1;33m\u001b[0m\u001b[1;33m\u001b[0m\u001b[0m\n\u001b[0m",
      "\u001b[1;32m~\\AppData\\Local\\Temp/ipykernel_26920/130801375.py\u001b[0m in \u001b[0;36mget_wordnet_pos\u001b[1;34m(word)\u001b[0m\n\u001b[0;32m      2\u001b[0m     \u001b[1;34m\"\"\"Map POS tag to first character lemmatize() accepts\"\"\"\u001b[0m\u001b[1;33m\u001b[0m\u001b[1;33m\u001b[0m\u001b[0m\n\u001b[0;32m      3\u001b[0m     \u001b[0mtag\u001b[0m \u001b[1;33m=\u001b[0m \u001b[0mnltk\u001b[0m\u001b[1;33m.\u001b[0m\u001b[0mpos_tag\u001b[0m\u001b[1;33m(\u001b[0m\u001b[1;33m[\u001b[0m\u001b[0mword\u001b[0m\u001b[1;33m]\u001b[0m\u001b[1;33m)\u001b[0m\u001b[1;33m[\u001b[0m\u001b[1;36m0\u001b[0m\u001b[1;33m]\u001b[0m\u001b[1;33m[\u001b[0m\u001b[1;36m1\u001b[0m\u001b[1;33m]\u001b[0m\u001b[1;33m[\u001b[0m\u001b[1;36m0\u001b[0m\u001b[1;33m]\u001b[0m\u001b[1;33m.\u001b[0m\u001b[0mupper\u001b[0m\u001b[1;33m(\u001b[0m\u001b[1;33m)\u001b[0m\u001b[1;33m\u001b[0m\u001b[1;33m\u001b[0m\u001b[0m\n\u001b[1;32m----> 4\u001b[1;33m     tag_dict = {\"J\": wordnet.ADJ,\n\u001b[0m\u001b[0;32m      5\u001b[0m                 \u001b[1;34m\"N\"\u001b[0m\u001b[1;33m:\u001b[0m \u001b[0mwordnet\u001b[0m\u001b[1;33m.\u001b[0m\u001b[0mNOUN\u001b[0m\u001b[1;33m,\u001b[0m\u001b[1;33m\u001b[0m\u001b[1;33m\u001b[0m\u001b[0m\n\u001b[0;32m      6\u001b[0m                 \u001b[1;34m\"V\"\u001b[0m\u001b[1;33m:\u001b[0m \u001b[0mwordnet\u001b[0m\u001b[1;33m.\u001b[0m\u001b[0mVERB\u001b[0m\u001b[1;33m,\u001b[0m\u001b[1;33m\u001b[0m\u001b[1;33m\u001b[0m\u001b[0m\n",
      "\u001b[1;32mc:\\users\\admin\\miniconda3\\lib\\site-packages\\nltk\\corpus\\util.py\u001b[0m in \u001b[0;36m__getattr__\u001b[1;34m(self, attr)\u001b[0m\n\u001b[0;32m    119\u001b[0m             \u001b[1;32mraise\u001b[0m \u001b[0mAttributeError\u001b[0m\u001b[1;33m(\u001b[0m\u001b[1;34m\"LazyCorpusLoader object has no attribute '__bases__'\"\u001b[0m\u001b[1;33m)\u001b[0m\u001b[1;33m\u001b[0m\u001b[1;33m\u001b[0m\u001b[0m\n\u001b[0;32m    120\u001b[0m \u001b[1;33m\u001b[0m\u001b[0m\n\u001b[1;32m--> 121\u001b[1;33m         \u001b[0mself\u001b[0m\u001b[1;33m.\u001b[0m\u001b[0m__load\u001b[0m\u001b[1;33m(\u001b[0m\u001b[1;33m)\u001b[0m\u001b[1;33m\u001b[0m\u001b[1;33m\u001b[0m\u001b[0m\n\u001b[0m\u001b[0;32m    122\u001b[0m         \u001b[1;31m# This looks circular, but its not, since __load() changes our\u001b[0m\u001b[1;33m\u001b[0m\u001b[1;33m\u001b[0m\u001b[1;33m\u001b[0m\u001b[0m\n\u001b[0;32m    123\u001b[0m         \u001b[1;31m# __class__ to something new:\u001b[0m\u001b[1;33m\u001b[0m\u001b[1;33m\u001b[0m\u001b[1;33m\u001b[0m\u001b[0m\n",
      "\u001b[1;32mc:\\users\\admin\\miniconda3\\lib\\site-packages\\nltk\\corpus\\util.py\u001b[0m in \u001b[0;36m__load\u001b[1;34m(self)\u001b[0m\n\u001b[0;32m     84\u001b[0m                     \u001b[0mroot\u001b[0m \u001b[1;33m=\u001b[0m \u001b[0mnltk\u001b[0m\u001b[1;33m.\u001b[0m\u001b[0mdata\u001b[0m\u001b[1;33m.\u001b[0m\u001b[0mfind\u001b[0m\u001b[1;33m(\u001b[0m\u001b[1;34mf\"{self.subdir}/{zip_name}\"\u001b[0m\u001b[1;33m)\u001b[0m\u001b[1;33m\u001b[0m\u001b[1;33m\u001b[0m\u001b[0m\n\u001b[0;32m     85\u001b[0m                 \u001b[1;32mexcept\u001b[0m \u001b[0mLookupError\u001b[0m\u001b[1;33m:\u001b[0m\u001b[1;33m\u001b[0m\u001b[1;33m\u001b[0m\u001b[0m\n\u001b[1;32m---> 86\u001b[1;33m                     \u001b[1;32mraise\u001b[0m \u001b[0me\u001b[0m\u001b[1;33m\u001b[0m\u001b[1;33m\u001b[0m\u001b[0m\n\u001b[0m\u001b[0;32m     87\u001b[0m \u001b[1;33m\u001b[0m\u001b[0m\n\u001b[0;32m     88\u001b[0m         \u001b[1;31m# Load the corpus.\u001b[0m\u001b[1;33m\u001b[0m\u001b[1;33m\u001b[0m\u001b[1;33m\u001b[0m\u001b[0m\n",
      "\u001b[1;32mc:\\users\\admin\\miniconda3\\lib\\site-packages\\nltk\\corpus\\util.py\u001b[0m in \u001b[0;36m__load\u001b[1;34m(self)\u001b[0m\n\u001b[0;32m     79\u001b[0m         \u001b[1;32melse\u001b[0m\u001b[1;33m:\u001b[0m\u001b[1;33m\u001b[0m\u001b[1;33m\u001b[0m\u001b[0m\n\u001b[0;32m     80\u001b[0m             \u001b[1;32mtry\u001b[0m\u001b[1;33m:\u001b[0m\u001b[1;33m\u001b[0m\u001b[1;33m\u001b[0m\u001b[0m\n\u001b[1;32m---> 81\u001b[1;33m                 \u001b[0mroot\u001b[0m \u001b[1;33m=\u001b[0m \u001b[0mnltk\u001b[0m\u001b[1;33m.\u001b[0m\u001b[0mdata\u001b[0m\u001b[1;33m.\u001b[0m\u001b[0mfind\u001b[0m\u001b[1;33m(\u001b[0m\u001b[1;34mf\"{self.subdir}/{self.__name}\"\u001b[0m\u001b[1;33m)\u001b[0m\u001b[1;33m\u001b[0m\u001b[1;33m\u001b[0m\u001b[0m\n\u001b[0m\u001b[0;32m     82\u001b[0m             \u001b[1;32mexcept\u001b[0m \u001b[0mLookupError\u001b[0m \u001b[1;32mas\u001b[0m \u001b[0me\u001b[0m\u001b[1;33m:\u001b[0m\u001b[1;33m\u001b[0m\u001b[1;33m\u001b[0m\u001b[0m\n\u001b[0;32m     83\u001b[0m                 \u001b[1;32mtry\u001b[0m\u001b[1;33m:\u001b[0m\u001b[1;33m\u001b[0m\u001b[1;33m\u001b[0m\u001b[0m\n",
      "\u001b[1;32mc:\\users\\admin\\miniconda3\\lib\\site-packages\\nltk\\data.py\u001b[0m in \u001b[0;36mfind\u001b[1;34m(resource_name, paths)\u001b[0m\n\u001b[0;32m    581\u001b[0m     \u001b[0msep\u001b[0m \u001b[1;33m=\u001b[0m \u001b[1;34m\"*\"\u001b[0m \u001b[1;33m*\u001b[0m \u001b[1;36m70\u001b[0m\u001b[1;33m\u001b[0m\u001b[1;33m\u001b[0m\u001b[0m\n\u001b[0;32m    582\u001b[0m     \u001b[0mresource_not_found\u001b[0m \u001b[1;33m=\u001b[0m \u001b[1;34mf\"\\n{sep}\\n{msg}\\n{sep}\\n\"\u001b[0m\u001b[1;33m\u001b[0m\u001b[1;33m\u001b[0m\u001b[0m\n\u001b[1;32m--> 583\u001b[1;33m     \u001b[1;32mraise\u001b[0m \u001b[0mLookupError\u001b[0m\u001b[1;33m(\u001b[0m\u001b[0mresource_not_found\u001b[0m\u001b[1;33m)\u001b[0m\u001b[1;33m\u001b[0m\u001b[1;33m\u001b[0m\u001b[0m\n\u001b[0m\u001b[0;32m    584\u001b[0m \u001b[1;33m\u001b[0m\u001b[0m\n\u001b[0;32m    585\u001b[0m \u001b[1;33m\u001b[0m\u001b[0m\n",
      "\u001b[1;31mLookupError\u001b[0m: \n**********************************************************************\n  Resource \u001b[93mwordnet\u001b[0m not found.\n  Please use the NLTK Downloader to obtain the resource:\n\n  \u001b[31m>>> import nltk\n  >>> nltk.download('wordnet')\n  \u001b[0m\n  For more information see: https://www.nltk.org/data.html\n\n  Attempted to load \u001b[93mcorpora/wordnet\u001b[0m\n\n  Searched in:\n    - 'C:\\\\Users\\\\Admin/nltk_data'\n    - 'c:\\\\users\\\\admin\\\\miniconda3\\\\nltk_data'\n    - 'c:\\\\users\\\\admin\\\\miniconda3\\\\share\\\\nltk_data'\n    - 'c:\\\\users\\\\admin\\\\miniconda3\\\\lib\\\\nltk_data'\n    - 'C:\\\\Users\\\\Admin\\\\AppData\\\\Roaming\\\\nltk_data'\n    - 'C:\\\\nltk_data'\n    - 'D:\\\\nltk_data'\n    - 'E:\\\\nltk_data'\n**********************************************************************\n"
     ]
    }
   ],
   "source": [
    "df['lemm_text'] = df['text'].apply(clean_lemm)"
   ]
  },
  {
   "cell_type": "code",
   "execution_count": null,
   "metadata": {},
   "outputs": [],
   "source": [
    "df"
   ]
  },
  {
   "cell_type": "markdown",
   "metadata": {},
   "source": [
    "Здесь есть разрыв в нумерации ячеек, чтобы не пересчитывать лемматизацию."
   ]
  },
  {
   "cell_type": "markdown",
   "metadata": {},
   "source": [
    "## Обучение"
   ]
  },
  {
   "cell_type": "code",
   "execution_count": null,
   "metadata": {},
   "outputs": [],
   "source": [
    "features = df['lemm_text']\n",
    "target = df['toxic']\n",
    "features_train, features_test, target_train, target_test = train_test_split(\n",
    "    features, target, test_size=0.1, random_state=12345, stratify=target)"
   ]
  },
  {
   "cell_type": "code",
   "execution_count": null,
   "metadata": {},
   "outputs": [],
   "source": [
    "print('Размер обучающих фич:', features_train.shape)\n",
    "print('Размер тестовых фич:', features_test.shape)"
   ]
  },
  {
   "cell_type": "code",
   "execution_count": null,
   "metadata": {},
   "outputs": [],
   "source": [
    "stopwords = set(nltk_stopwords.words('english'))\n",
    "corpus = features_train #.values.astype('U')\n",
    "count_tf_idf = TfidfVectorizer(stop_words=stopwords)\n",
    "features_train = count_tf_idf.fit_transform(features_train)\n",
    "features_test = count_tf_idf.transform(features_test)\n",
    "print(\"Размер обучающих фич:\", features_train.shape)\n",
    "print(\"Размер тестовых фич:\", features_test.shape)"
   ]
  },
  {
   "cell_type": "code",
   "execution_count": null,
   "metadata": {},
   "outputs": [],
   "source": [
    "f1_scorer = make_scorer(f1_score)"
   ]
  },
  {
   "cell_type": "markdown",
   "metadata": {},
   "source": [
    "### Dummy модель"
   ]
  },
  {
   "cell_type": "code",
   "execution_count": null,
   "metadata": {},
   "outputs": [],
   "source": [
    "dummy = DummyClassifier(strategy=\"uniform\", random_state=12345)\n",
    "\n",
    "dummy.fit(features_train, target_train)\n",
    "preds_dummy = dummy.predict(features_test)\n",
    "f1_dummy = f1_score(target_test, preds_dummy) #, average='weighted')\n",
    "print('f1_dr =', f1_dummy)\n",
    "print('accuracy =', dummy.score(features_test, target_test))"
   ]
  },
  {
   "cell_type": "code",
   "execution_count": null,
   "metadata": {},
   "outputs": [],
   "source": [
    "from sklearn.metrics import confusion_matrix\n",
    "\n",
    "def create_confusion_matrix(target, preds):\n",
    "    cm = confusion_matrix(target, preds)\n",
    "    #cm_display = ConfusionMatrixDisplay(cm).plot()\n",
    "    ax = sns.heatmap(cm, annot=True, fmt='g');\n",
    "    ## Modify the Axes Object directly to set various attributes such as the\n",
    "    ## Title, X/Y Labels.\n",
    "    ax.set_title('Confusion Matrix');\n",
    "    ax.set_xlabel('Predicted')\n",
    "    ax.set_ylabel('Actual');\n",
    "    plt.show()\n",
    "    \n",
    "create_confusion_matrix(target_test, preds_dummy)"
   ]
  },
  {
   "cell_type": "code",
   "execution_count": null,
   "metadata": {},
   "outputs": [],
   "source": [
    "create_confusion_matrix(target_train, dummy.predict(features_train))"
   ]
  },
  {
   "cell_type": "code",
   "execution_count": null,
   "metadata": {},
   "outputs": [],
   "source": [
    "target_test.value_counts()"
   ]
  },
  {
   "cell_type": "markdown",
   "metadata": {},
   "source": [
    "### Логистическая регрессия"
   ]
  },
  {
   "cell_type": "code",
   "execution_count": null,
   "metadata": {},
   "outputs": [],
   "source": [
    "log_reg = LogisticRegression(random_state=12345, class_weight='balanced', solver='liblinear')\n",
    "\n",
    "C_values = {'C': np.logspace(0, 3, 10)}\n",
    "logreg_grid = GridSearchCV(log_reg, C_values, cv=5, scoring='f1')\n",
    "logreg_grid.fit(features_train, target_train)"
   ]
  },
  {
   "cell_type": "code",
   "execution_count": null,
   "metadata": {},
   "outputs": [],
   "source": [
    "print(logreg_grid.best_params_)\n",
    "print(logreg_grid.best_score_)"
   ]
  },
  {
   "cell_type": "code",
   "execution_count": null,
   "metadata": {},
   "outputs": [],
   "source": [
    "lr = LogisticRegression(random_state=12345, class_weight='balanced').fit(features_train, target_train)\n",
    "preds_lr_train = lr.predict(features_train)\n",
    "preds_lr_test = lr.predict(features_test)\n",
    "print('F1 на обучающей выборке: {:.2f}'.format(f1_score(target_train, preds_lr_train)))\n",
    "print('Кросс_валидация: ', cross_val_score(lr, features_train, target_train, cv=5))\n",
    "print('F1 на тестовой выборке: {:.2f}'.format(f1_score(target_test, preds_lr_test)))"
   ]
  },
  {
   "cell_type": "code",
   "execution_count": null,
   "metadata": {},
   "outputs": [],
   "source": [
    "create_confusion_matrix(target_test, preds_lr_test)"
   ]
  },
  {
   "cell_type": "markdown",
   "metadata": {},
   "source": [
    "F1 на тестовой 0.76. Получили быстро и легко. Посмотрим, что дадут более сложные и долгие модели."
   ]
  },
  {
   "cell_type": "markdown",
   "metadata": {},
   "source": [
    "Дальше опять разрыв в ячейках, пробовала разное в параметрах RandomizedSearchCV."
   ]
  },
  {
   "cell_type": "markdown",
   "metadata": {},
   "source": [
    "###  Дерево решений"
   ]
  },
  {
   "cell_type": "code",
   "execution_count": null,
   "metadata": {},
   "outputs": [],
   "source": [
    "dtc = DecisionTreeClassifier(random_state=12345, class_weight='balanced')\n",
    "\n",
    "parameters = {\n",
    "    'max_depth' : range(16, 40, 2)\n",
    "}\n",
    "\n",
    "def find_best_model(X_train, y_train, model, parameters):\n",
    "#    fit_params={\"early_stopping_rounds\": 5}\n",
    "    grid = RandomizedSearchCV(model, parameters, scoring=f1_scorer, cv=3, n_iter=3, verbose=2)\n",
    "    grid.fit(X_train, y_train)\n",
    "\n",
    "    print('Лучшие параметры:', grid.best_params_)\n",
    "    print('F1_dtc = {:.2f}'.format(grid.best_score_))\n",
    "    return grid, grid.best_score_"
   ]
  },
  {
   "cell_type": "code",
   "execution_count": null,
   "metadata": {},
   "outputs": [],
   "source": [
    "grid_dtc, f1_dtc_train = find_best_model(features_train, target_train, dtc, parameters)"
   ]
  },
  {
   "cell_type": "markdown",
   "metadata": {},
   "source": [
    "Посмотрим результат работы моделей на тестовой выборке:"
   ]
  },
  {
   "cell_type": "code",
   "execution_count": null,
   "metadata": {},
   "outputs": [],
   "source": [
    "def get_predictions_and_f1(model, features, target):\n",
    "    \n",
    "    preds = model.predict(features)\n",
    "    f1 = f1_score(target, preds)\n",
    "    print('F1 = {:.2f}'.format(f1))\n",
    "    \n",
    "    return f1, preds"
   ]
  },
  {
   "cell_type": "code",
   "execution_count": null,
   "metadata": {},
   "outputs": [],
   "source": [
    "f1_dtc_test, preds_dtc = get_predictions_and_f1(grid_dtc, features_test, target_test)"
   ]
  },
  {
   "cell_type": "code",
   "execution_count": null,
   "metadata": {},
   "outputs": [],
   "source": [
    "create_confusion_matrix(target_test, preds_dtc)"
   ]
  },
  {
   "cell_type": "markdown",
   "metadata": {},
   "source": [
    "### Случайный лес (для скорости опущен)"
   ]
  },
  {
   "cell_type": "code",
   "execution_count": null,
   "metadata": {},
   "outputs": [],
   "source": [
    "rfc = RandomForestClassifier(random_state=12345, class_weight='balanced')\n",
    "\n",
    "parameters = {\n",
    "    'n_estimators' : range(100, 140, 10),\n",
    "    'max_depth' : range(15, 21, 1)\n",
    "}"
   ]
  },
  {
   "cell_type": "code",
   "execution_count": null,
   "metadata": {},
   "outputs": [],
   "source": [
    "grid_rfc, f1_rfc_train = find_best_model(features_train, target_train, rfc, parameters)"
   ]
  },
  {
   "cell_type": "markdown",
   "metadata": {},
   "source": [
    "Посмотрим результат работы моделей на тестовой выборке:"
   ]
  },
  {
   "cell_type": "code",
   "execution_count": null,
   "metadata": {},
   "outputs": [],
   "source": [
    "f1_rfc_test, preds_rfc = get_predictions_and_f1(grid_rfc, features_test, target_test)"
   ]
  },
  {
   "cell_type": "markdown",
   "metadata": {},
   "source": [
    "### LightGBM"
   ]
  },
  {
   "cell_type": "code",
   "execution_count": null,
   "metadata": {},
   "outputs": [],
   "source": [
    "lgbm = LGBMClassifier(random_state=12345, class_weight='balanced')\n",
    "\n",
    "parameters = {\n",
    "    'n_estimators': range(100, 250, 10),\n",
    "    'max_depth' : range(10, 60, 3)\n",
    "}\n",
    "#    'num_leaves': range(20,30,10),\n",
    "#    'max_depth' : range(18, 40, 2)\n",
    "#    'n_estimators': range(100, 200, 10), \n",
    "\n",
    "#'LGBMClassifier': {'learning_rate': 0.1,\n",
    "#  'max_depth': 16,\n",
    "#  'min_child_samples': 4}"
   ]
  },
  {
   "cell_type": "code",
   "execution_count": null,
   "metadata": {},
   "outputs": [],
   "source": [
    "#grid_lgbm, f1_lgbm_train = find_best_model(features_train, target_train, lgbm, parameters)"
   ]
  },
  {
   "cell_type": "markdown",
   "metadata": {},
   "source": [
    "Здесь было посчитано при последних параметрах RandomizedSearchCV. Но упало пока грузило( не успеваю пересчитать, и не уверена, что будет возможность воспользоваться компом до дедлайна( так что отправлю, как есть. LGBM на тестовой выборке показал F1=0.75"
   ]
  },
  {
   "cell_type": "code",
   "execution_count": null,
   "metadata": {},
   "outputs": [],
   "source": [
    "lgbm = LGBMClassifier(random_state=12345, class_weight='balanced',n_estimators=220, max_depth=22)\n",
    "lgbm.fit(features_train, target_train)"
   ]
  },
  {
   "cell_type": "markdown",
   "metadata": {},
   "source": [
    "Посмотрим результат работы моделей на тестовой выборке:"
   ]
  },
  {
   "cell_type": "code",
   "execution_count": null,
   "metadata": {},
   "outputs": [],
   "source": [
    "f1_lgbm_test, preds_lgbm = get_predictions_and_f1(grid_lgbm, features_test, target_test)"
   ]
  },
  {
   "cell_type": "markdown",
   "metadata": {},
   "source": [
    "## Выводы"
   ]
  },
  {
   "cell_type": "markdown",
   "metadata": {},
   "source": [
    "- Предварительный анализ показал сильную несбалансированность классов. Это учитывалось при обучении моделей.\n",
    "\n",
    "\n",
    "- Сделали лемматизацию каждого текста и очистку от мусора.\n",
    "\n",
    "\n",
    "- Оценку важности слова определили величиной TF-IDF.\n",
    "\n",
    "\n",
    "- Обучили несколько моделей. Лучший результат показала модель логистической регрессии с F1 = 0.76\n",
    "\n",
    "\n",
    "- Есть предположение, что более тщательный подбор параметров улучшит результаты более сложных моделей."
   ]
  }
 ],
 "metadata": {
  "ExecuteTimeLog": [
   {
    "duration": 5372,
    "start_time": "2021-10-19T12:11:39.822Z"
   },
   {
    "duration": 519,
    "start_time": "2021-10-19T13:31:10.025Z"
   },
   {
    "duration": 2473,
    "start_time": "2021-10-19T13:31:46.228Z"
   },
   {
    "duration": 25,
    "start_time": "2021-10-19T13:31:57.607Z"
   },
   {
    "duration": 34,
    "start_time": "2021-10-19T13:32:18.417Z"
   },
   {
    "duration": 269,
    "start_time": "2021-10-19T13:57:18.391Z"
   },
   {
    "duration": 16,
    "start_time": "2021-10-19T13:57:30.554Z"
   },
   {
    "duration": 844,
    "start_time": "2021-10-19T13:57:48.643Z"
   },
   {
    "duration": 275,
    "start_time": "2021-10-19T13:58:09.923Z"
   },
   {
    "duration": 512,
    "start_time": "2021-10-19T13:58:14.458Z"
   },
   {
    "duration": 269,
    "start_time": "2021-10-19T13:58:18.315Z"
   },
   {
    "duration": 9,
    "start_time": "2021-10-19T13:59:10.580Z"
   },
   {
    "duration": 297,
    "start_time": "2021-10-19T14:08:14.746Z"
   },
   {
    "duration": 4029,
    "start_time": "2021-10-20T12:48:30.566Z"
   },
   {
    "duration": 2009,
    "start_time": "2021-10-20T12:48:34.597Z"
   },
   {
    "duration": 13,
    "start_time": "2021-10-20T12:48:36.608Z"
   },
   {
    "duration": 39,
    "start_time": "2021-10-20T12:48:36.623Z"
   },
   {
    "duration": 280,
    "start_time": "2021-10-20T12:48:36.664Z"
   },
   {
    "duration": 6,
    "start_time": "2021-10-20T12:48:36.946Z"
   },
   {
    "duration": 88,
    "start_time": "2021-10-20T12:48:36.954Z"
   },
   {
    "duration": 5,
    "start_time": "2021-10-20T12:48:52.995Z"
   },
   {
    "duration": 2513,
    "start_time": "2021-10-20T12:49:37.508Z"
   },
   {
    "duration": 2565,
    "start_time": "2021-10-20T12:50:49.405Z"
   },
   {
    "duration": 2113,
    "start_time": "2021-10-20T12:50:51.973Z"
   },
   {
    "duration": 9,
    "start_time": "2021-10-20T12:50:54.088Z"
   },
   {
    "duration": 28,
    "start_time": "2021-10-20T12:50:54.099Z"
   },
   {
    "duration": 226,
    "start_time": "2021-10-20T12:50:54.129Z"
   },
   {
    "duration": 7,
    "start_time": "2021-10-20T12:50:54.358Z"
   },
   {
    "duration": 14,
    "start_time": "2021-10-20T12:50:54.367Z"
   },
   {
    "duration": 1321,
    "start_time": "2021-10-20T12:50:54.383Z"
   },
   {
    "duration": 2181,
    "start_time": "2021-10-20T12:51:24.615Z"
   },
   {
    "duration": 1485,
    "start_time": "2021-10-20T12:51:26.799Z"
   },
   {
    "duration": 9,
    "start_time": "2021-10-20T12:51:28.286Z"
   },
   {
    "duration": 34,
    "start_time": "2021-10-20T12:51:28.297Z"
   },
   {
    "duration": 233,
    "start_time": "2021-10-20T12:51:28.333Z"
   },
   {
    "duration": 6,
    "start_time": "2021-10-20T12:51:28.567Z"
   },
   {
    "duration": 13,
    "start_time": "2021-10-20T12:51:28.575Z"
   },
   {
    "duration": 1827,
    "start_time": "2021-10-20T12:51:28.589Z"
   },
   {
    "duration": 2147,
    "start_time": "2021-10-20T12:52:26.652Z"
   },
   {
    "duration": 1401,
    "start_time": "2021-10-20T12:52:28.801Z"
   },
   {
    "duration": 9,
    "start_time": "2021-10-20T12:52:30.205Z"
   },
   {
    "duration": 35,
    "start_time": "2021-10-20T12:52:30.216Z"
   },
   {
    "duration": 219,
    "start_time": "2021-10-20T12:52:30.253Z"
   },
   {
    "duration": 6,
    "start_time": "2021-10-20T12:52:30.473Z"
   },
   {
    "duration": 9,
    "start_time": "2021-10-20T12:52:30.481Z"
   },
   {
    "duration": 2320,
    "start_time": "2021-10-20T12:52:30.491Z"
   },
   {
    "duration": 2817,
    "start_time": "2021-10-20T12:52:52.196Z"
   },
   {
    "duration": 1741,
    "start_time": "2021-10-20T12:52:55.015Z"
   },
   {
    "duration": 11,
    "start_time": "2021-10-20T12:52:56.758Z"
   },
   {
    "duration": 27,
    "start_time": "2021-10-20T12:52:56.771Z"
   },
   {
    "duration": 221,
    "start_time": "2021-10-20T12:52:56.800Z"
   },
   {
    "duration": 8,
    "start_time": "2021-10-20T12:52:57.022Z"
   },
   {
    "duration": 13,
    "start_time": "2021-10-20T12:52:57.032Z"
   },
   {
    "duration": 1240356,
    "start_time": "2021-10-20T12:52:57.047Z"
   },
   {
    "duration": 12,
    "start_time": "2021-10-20T13:23:38.858Z"
   },
   {
    "duration": 306,
    "start_time": "2021-10-20T14:18:21.226Z"
   },
   {
    "duration": 4382,
    "start_time": "2021-10-20T14:18:46.505Z"
   },
   {
    "duration": -464,
    "start_time": "2021-10-20T14:18:51.353Z"
   },
   {
    "duration": -467,
    "start_time": "2021-10-20T14:18:51.358Z"
   },
   {
    "duration": -470,
    "start_time": "2021-10-20T14:18:51.362Z"
   },
   {
    "duration": -472,
    "start_time": "2021-10-20T14:18:51.365Z"
   },
   {
    "duration": -474,
    "start_time": "2021-10-20T14:18:51.367Z"
   },
   {
    "duration": -475,
    "start_time": "2021-10-20T14:18:51.370Z"
   },
   {
    "duration": -477,
    "start_time": "2021-10-20T14:18:51.372Z"
   },
   {
    "duration": -478,
    "start_time": "2021-10-20T14:18:51.374Z"
   },
   {
    "duration": -480,
    "start_time": "2021-10-20T14:18:51.377Z"
   },
   {
    "duration": 3887,
    "start_time": "2021-10-20T14:20:12.079Z"
   },
   {
    "duration": 1888,
    "start_time": "2021-10-20T14:20:15.968Z"
   },
   {
    "duration": 11,
    "start_time": "2021-10-20T14:20:17.858Z"
   },
   {
    "duration": 31,
    "start_time": "2021-10-20T14:20:17.871Z"
   },
   {
    "duration": 235,
    "start_time": "2021-10-20T14:20:17.903Z"
   },
   {
    "duration": 7,
    "start_time": "2021-10-20T14:20:18.145Z"
   },
   {
    "duration": 5,
    "start_time": "2021-10-20T14:20:18.154Z"
   },
   {
    "duration": 104252,
    "start_time": "2021-10-20T14:20:18.161Z"
   },
   {
    "duration": -510,
    "start_time": "2021-10-20T14:22:02.925Z"
   },
   {
    "duration": -512,
    "start_time": "2021-10-20T14:22:02.928Z"
   },
   {
    "duration": 3858,
    "start_time": "2021-10-20T14:22:18.003Z"
   },
   {
    "duration": 1519,
    "start_time": "2021-10-20T14:22:21.863Z"
   },
   {
    "duration": 11,
    "start_time": "2021-10-20T14:22:23.387Z"
   },
   {
    "duration": 24,
    "start_time": "2021-10-20T14:22:23.400Z"
   },
   {
    "duration": 209,
    "start_time": "2021-10-20T14:22:23.445Z"
   },
   {
    "duration": 6,
    "start_time": "2021-10-20T14:22:23.656Z"
   },
   {
    "duration": 4,
    "start_time": "2021-10-20T14:22:23.664Z"
   },
   {
    "duration": 1244713,
    "start_time": "2021-10-20T14:22:23.670Z"
   },
   {
    "duration": 11,
    "start_time": "2021-10-20T14:43:08.385Z"
   },
   {
    "duration": 4202,
    "start_time": "2021-10-20T14:47:01.797Z"
   },
   {
    "duration": 2196,
    "start_time": "2021-10-20T14:47:06.001Z"
   },
   {
    "duration": 12,
    "start_time": "2021-10-20T14:47:08.199Z"
   },
   {
    "duration": 35,
    "start_time": "2021-10-20T14:47:08.213Z"
   },
   {
    "duration": 223,
    "start_time": "2021-10-20T14:47:08.250Z"
   },
   {
    "duration": 8,
    "start_time": "2021-10-20T14:47:08.475Z"
   },
   {
    "duration": 19,
    "start_time": "2021-10-20T14:47:08.485Z"
   },
   {
    "duration": 1242667,
    "start_time": "2021-10-20T14:47:08.507Z"
   },
   {
    "duration": 11,
    "start_time": "2021-10-20T15:07:51.175Z"
   },
   {
    "duration": 12,
    "start_time": "2021-10-20T15:07:51.188Z"
   },
   {
    "duration": 4345,
    "start_time": "2021-10-20T15:09:16.622Z"
   },
   {
    "duration": 2175,
    "start_time": "2021-10-20T15:09:20.969Z"
   },
   {
    "duration": 11,
    "start_time": "2021-10-20T15:09:23.146Z"
   },
   {
    "duration": 23,
    "start_time": "2021-10-20T15:09:23.159Z"
   },
   {
    "duration": 297,
    "start_time": "2021-10-20T15:09:23.184Z"
   },
   {
    "duration": 10,
    "start_time": "2021-10-20T15:09:23.483Z"
   },
   {
    "duration": 6,
    "start_time": "2021-10-20T15:09:23.495Z"
   },
   {
    "duration": 1254190,
    "start_time": "2021-10-20T15:09:23.504Z"
   },
   {
    "duration": 12,
    "start_time": "2021-10-20T15:30:17.697Z"
   },
   {
    "duration": 7,
    "start_time": "2021-10-20T15:30:17.710Z"
   },
   {
    "duration": 5,
    "start_time": "2021-10-20T15:30:17.718Z"
   },
   {
    "duration": 8,
    "start_time": "2021-10-20T15:30:17.725Z"
   },
   {
    "duration": 9,
    "start_time": "2021-10-20T15:30:17.745Z"
   },
   {
    "duration": 6976,
    "start_time": "2021-10-20T15:30:17.755Z"
   },
   {
    "duration": 3,
    "start_time": "2021-10-20T15:30:24.732Z"
   },
   {
    "duration": 3,
    "start_time": "2021-10-20T15:34:08.967Z"
   },
   {
    "duration": 14731,
    "start_time": "2021-10-20T15:34:09.968Z"
   },
   {
    "duration": 17,
    "start_time": "2021-10-20T15:36:57.711Z"
   },
   {
    "duration": 40,
    "start_time": "2021-10-20T15:39:00.064Z"
   },
   {
    "duration": 19,
    "start_time": "2021-10-20T15:39:01.934Z"
   },
   {
    "duration": 6,
    "start_time": "2021-10-20T15:39:48.950Z"
   },
   {
    "duration": 7256,
    "start_time": "2021-10-20T15:40:13.526Z"
   },
   {
    "duration": 6387,
    "start_time": "2021-10-22T10:58:38.912Z"
   },
   {
    "duration": 2141,
    "start_time": "2021-10-22T10:58:45.302Z"
   },
   {
    "duration": 19,
    "start_time": "2021-10-22T10:58:47.447Z"
   },
   {
    "duration": 57,
    "start_time": "2021-10-22T10:58:47.469Z"
   },
   {
    "duration": 307,
    "start_time": "2021-10-22T10:58:47.529Z"
   },
   {
    "duration": 13,
    "start_time": "2021-10-22T10:58:47.839Z"
   },
   {
    "duration": 7,
    "start_time": "2021-10-22T10:58:47.855Z"
   },
   {
    "duration": 310424,
    "start_time": "2021-10-22T10:58:47.865Z"
   },
   {
    "duration": -1362,
    "start_time": "2021-10-22T11:03:59.654Z"
   },
   {
    "duration": -1362,
    "start_time": "2021-10-22T11:03:59.655Z"
   },
   {
    "duration": 3072,
    "start_time": "2021-10-22T11:04:26.483Z"
   },
   {
    "duration": 2194,
    "start_time": "2021-10-22T11:04:29.558Z"
   },
   {
    "duration": 15,
    "start_time": "2021-10-22T11:04:31.755Z"
   },
   {
    "duration": 54,
    "start_time": "2021-10-22T11:04:31.774Z"
   },
   {
    "duration": 296,
    "start_time": "2021-10-22T11:04:31.832Z"
   },
   {
    "duration": 11,
    "start_time": "2021-10-22T11:04:32.132Z"
   },
   {
    "duration": 6,
    "start_time": "2021-10-22T11:04:32.145Z"
   },
   {
    "duration": 2256204,
    "start_time": "2021-10-22T11:04:32.154Z"
   },
   {
    "duration": 16,
    "start_time": "2021-10-22T11:42:08.362Z"
   },
   {
    "duration": 103,
    "start_time": "2021-10-22T11:42:08.380Z"
   },
   {
    "duration": 13,
    "start_time": "2021-10-22T11:53:55.905Z"
   },
   {
    "duration": 304,
    "start_time": "2021-10-22T11:54:36.678Z"
   },
   {
    "duration": 54,
    "start_time": "2021-10-22T11:54:55.008Z"
   },
   {
    "duration": 11,
    "start_time": "2021-10-22T11:54:56.302Z"
   },
   {
    "duration": 5,
    "start_time": "2021-10-22T11:55:51.563Z"
   },
   {
    "duration": 17,
    "start_time": "2021-10-22T11:57:46.492Z"
   },
   {
    "duration": 5,
    "start_time": "2021-10-22T11:58:02.564Z"
   },
   {
    "duration": 39,
    "start_time": "2021-10-22T12:01:13.389Z"
   },
   {
    "duration": 6,
    "start_time": "2021-10-22T12:01:23.845Z"
   },
   {
    "duration": 44,
    "start_time": "2021-10-22T12:02:34.030Z"
   },
   {
    "duration": 6,
    "start_time": "2021-10-22T12:02:35.208Z"
   },
   {
    "duration": 5,
    "start_time": "2021-10-22T12:02:42.588Z"
   },
   {
    "duration": 11293,
    "start_time": "2021-10-22T12:02:45.152Z"
   },
   {
    "duration": 321,
    "start_time": "2021-10-22T12:03:22.940Z"
   },
   {
    "duration": 33,
    "start_time": "2021-10-22T12:03:29.180Z"
   },
   {
    "duration": 4,
    "start_time": "2021-10-22T12:03:29.877Z"
   },
   {
    "duration": 5,
    "start_time": "2021-10-22T12:03:30.516Z"
   },
   {
    "duration": 11199,
    "start_time": "2021-10-22T12:03:38.614Z"
   },
   {
    "duration": 21,
    "start_time": "2021-10-22T12:04:15.321Z"
   },
   {
    "duration": 25,
    "start_time": "2021-10-22T12:08:01.298Z"
   },
   {
    "duration": 25,
    "start_time": "2021-10-22T12:10:57.682Z"
   },
   {
    "duration": 32,
    "start_time": "2021-10-22T12:13:35.821Z"
   },
   {
    "duration": 24,
    "start_time": "2021-10-22T12:13:59.426Z"
   },
   {
    "duration": 28,
    "start_time": "2021-10-22T12:14:43.481Z"
   },
   {
    "duration": 27,
    "start_time": "2021-10-22T12:14:52.560Z"
   },
   {
    "duration": 27,
    "start_time": "2021-10-22T12:15:06.962Z"
   },
   {
    "duration": 26,
    "start_time": "2021-10-22T12:20:07.177Z"
   },
   {
    "duration": 30,
    "start_time": "2021-10-22T12:20:20.063Z"
   },
   {
    "duration": 27,
    "start_time": "2021-10-22T12:20:36.832Z"
   },
   {
    "duration": 25,
    "start_time": "2021-10-22T12:20:40.897Z"
   },
   {
    "duration": 25,
    "start_time": "2021-10-22T12:26:40.743Z"
   },
   {
    "duration": 14756,
    "start_time": "2021-10-22T13:01:23.448Z"
   },
   {
    "duration": 27,
    "start_time": "2021-10-22T13:03:08.192Z"
   },
   {
    "duration": 113,
    "start_time": "2021-10-22T13:07:42.304Z"
   },
   {
    "duration": 289,
    "start_time": "2021-10-22T13:07:49.111Z"
   },
   {
    "duration": 101,
    "start_time": "2021-10-22T13:09:16.278Z"
   },
   {
    "duration": 90,
    "start_time": "2021-10-22T13:09:31.575Z"
   },
   {
    "duration": 123,
    "start_time": "2021-10-22T13:09:39.846Z"
   },
   {
    "duration": 14772,
    "start_time": "2021-10-22T13:09:44.133Z"
   },
   {
    "duration": 14635,
    "start_time": "2021-10-22T13:11:01.837Z"
   },
   {
    "duration": 15106,
    "start_time": "2021-10-22T13:14:11.277Z"
   },
   {
    "duration": 79491,
    "start_time": "2021-10-22T13:14:43.509Z"
   },
   {
    "duration": 6,
    "start_time": "2021-10-22T13:28:27.266Z"
   },
   {
    "duration": 658,
    "start_time": "2021-10-22T13:29:53.853Z"
   },
   {
    "duration": 3329,
    "start_time": "2021-10-22T13:32:51.550Z"
   },
   {
    "duration": 2611,
    "start_time": "2021-10-22T13:32:54.883Z"
   },
   {
    "duration": 24,
    "start_time": "2021-10-22T13:32:57.498Z"
   },
   {
    "duration": 30,
    "start_time": "2021-10-22T13:32:57.525Z"
   },
   {
    "duration": 295,
    "start_time": "2021-10-22T13:32:57.558Z"
   },
   {
    "duration": 8,
    "start_time": "2021-10-22T13:32:57.856Z"
   },
   {
    "duration": 7,
    "start_time": "2021-10-22T13:32:57.867Z"
   },
   {
    "duration": 2332582,
    "start_time": "2021-10-22T13:32:57.876Z"
   },
   {
    "duration": 19,
    "start_time": "2021-10-22T14:11:50.463Z"
   },
   {
    "duration": 67,
    "start_time": "2021-10-22T14:11:50.485Z"
   },
   {
    "duration": 6,
    "start_time": "2021-10-22T14:11:50.555Z"
   },
   {
    "duration": 11847,
    "start_time": "2021-10-22T14:11:50.564Z"
   },
   {
    "duration": 11,
    "start_time": "2021-10-22T14:12:02.414Z"
   },
   {
    "duration": 38,
    "start_time": "2021-10-22T14:12:02.427Z"
   },
   {
    "duration": 79741,
    "start_time": "2021-10-22T14:12:02.467Z"
   },
   {
    "duration": 5,
    "start_time": "2021-10-22T14:13:22.222Z"
   },
   {
    "duration": 584,
    "start_time": "2021-10-22T14:13:22.230Z"
   },
   {
    "duration": 5,
    "start_time": "2021-10-22T14:17:07.065Z"
   },
   {
    "duration": 1992633,
    "start_time": "2021-10-22T14:17:10.386Z"
   },
   {
    "duration": 392,
    "start_time": "2021-10-22T14:55:50.559Z"
   },
   {
    "duration": 9696,
    "start_time": "2021-10-22T14:58:11.367Z"
   },
   {
    "duration": 4572,
    "start_time": "2021-10-22T15:02:14.590Z"
   },
   {
    "duration": 667,
    "start_time": "2021-10-22T15:04:50.285Z"
   },
   {
    "duration": 436,
    "start_time": "2021-10-22T15:04:56.989Z"
   },
   {
    "duration": 91,
    "start_time": "2021-10-22T15:06:03.620Z"
   },
   {
    "duration": 592,
    "start_time": "2021-10-22T15:06:08.510Z"
   },
   {
    "duration": 400,
    "start_time": "2021-10-22T15:06:30.357Z"
   },
   {
    "duration": 473,
    "start_time": "2021-10-22T15:12:48.620Z"
   },
   {
    "duration": 12,
    "start_time": "2021-10-22T15:14:04.675Z"
   },
   {
    "duration": 265,
    "start_time": "2021-10-22T15:14:33.779Z"
   },
   {
    "duration": 269,
    "start_time": "2021-10-22T15:14:43.267Z"
   },
   {
    "duration": 8,
    "start_time": "2021-10-22T15:14:48.670Z"
   },
   {
    "duration": 399,
    "start_time": "2021-10-22T15:18:42.039Z"
   },
   {
    "duration": 4,
    "start_time": "2021-10-22T15:20:51.386Z"
   },
   {
    "duration": 42,
    "start_time": "2021-10-22T15:20:55.257Z"
   },
   {
    "duration": 377,
    "start_time": "2021-10-22T15:20:57.208Z"
   },
   {
    "duration": 319,
    "start_time": "2021-10-22T15:21:08.611Z"
   },
   {
    "duration": 407,
    "start_time": "2021-10-22T15:21:19.425Z"
   },
   {
    "duration": 4,
    "start_time": "2021-10-22T15:24:51.497Z"
   },
   {
    "duration": 4136304,
    "start_time": "2021-10-22T15:24:54.463Z"
   },
   {
    "duration": 651,
    "start_time": "2021-10-22T17:49:36.133Z"
   },
   {
    "duration": 4,
    "start_time": "2021-10-22T17:51:55.204Z"
   },
   {
    "duration": 1028323,
    "start_time": "2021-10-22T17:51:56.420Z"
   },
   {
    "duration": 4,
    "start_time": "2021-10-22T18:09:14.650Z"
   },
   {
    "duration": 1392568,
    "start_time": "2021-10-22T18:09:16.524Z"
   },
   {
    "duration": 5,
    "start_time": "2021-10-22T18:33:32.655Z"
   },
   {
    "duration": 2798424,
    "start_time": "2021-10-22T18:33:33.785Z"
   },
   {
    "duration": 1030,
    "start_time": "2021-10-22T19:21:52.848Z"
   },
   {
    "duration": 5,
    "start_time": "2021-10-22T19:21:57.647Z"
   },
   {
    "duration": 220328,
    "start_time": "2021-10-22T19:21:59.278Z"
   },
   {
    "duration": 4,
    "start_time": "2021-10-22T19:25:55.367Z"
   },
   {
    "duration": 22956,
    "start_time": "2021-10-22T19:25:57.412Z"
   },
   {
    "duration": 5,
    "start_time": "2021-10-22T19:26:32.190Z"
   },
   {
    "duration": 1956213,
    "start_time": "2021-10-22T19:26:32.783Z"
   },
   {
    "duration": 12274,
    "start_time": "2021-10-25T10:49:09.053Z"
   },
   {
    "duration": 5064,
    "start_time": "2021-10-25T10:49:21.329Z"
   },
   {
    "duration": 12,
    "start_time": "2021-10-25T10:49:26.395Z"
   },
   {
    "duration": 27,
    "start_time": "2021-10-25T10:49:26.408Z"
   },
   {
    "duration": 236,
    "start_time": "2021-10-25T10:49:26.436Z"
   },
   {
    "duration": 7,
    "start_time": "2021-10-25T10:49:26.674Z"
   },
   {
    "duration": 12,
    "start_time": "2021-10-25T10:49:26.682Z"
   },
   {
    "duration": 1206027,
    "start_time": "2021-10-25T10:49:26.695Z"
   },
   {
    "duration": 11,
    "start_time": "2021-10-25T11:09:32.724Z"
   },
   {
    "duration": 31,
    "start_time": "2021-10-25T11:09:32.736Z"
   },
   {
    "duration": 3,
    "start_time": "2021-10-25T11:09:32.768Z"
   },
   {
    "duration": 7246,
    "start_time": "2021-10-25T11:09:32.773Z"
   },
   {
    "duration": 3,
    "start_time": "2021-10-25T11:09:40.021Z"
   },
   {
    "duration": 29,
    "start_time": "2021-10-25T11:09:40.026Z"
   },
   {
    "duration": 309,
    "start_time": "2021-10-25T11:09:40.057Z"
   },
   {
    "duration": 396,
    "start_time": "2021-10-25T11:09:40.368Z"
   },
   {
    "duration": 7,
    "start_time": "2021-10-25T11:09:40.766Z"
   },
   {
    "duration": 309146,
    "start_time": "2021-10-25T11:09:40.774Z"
   },
   {
    "duration": 262,
    "start_time": "2021-10-25T11:14:49.922Z"
   },
   {
    "duration": 5,
    "start_time": "2021-10-25T11:14:50.190Z"
   },
   {
    "duration": 1685040,
    "start_time": "2021-10-25T11:14:50.197Z"
   },
   {
    "duration": 62,
    "start_time": "2021-10-25T11:42:55.238Z"
   },
   {
    "duration": -1237,
    "start_time": "2021-10-25T11:42:56.539Z"
   },
   {
    "duration": -1240,
    "start_time": "2021-10-25T11:42:56.543Z"
   },
   {
    "duration": -1241,
    "start_time": "2021-10-25T11:42:56.545Z"
   },
   {
    "duration": -1241,
    "start_time": "2021-10-25T11:42:56.546Z"
   },
   {
    "duration": -1241,
    "start_time": "2021-10-25T11:42:56.547Z"
   },
   {
    "duration": -1242,
    "start_time": "2021-10-25T11:42:56.549Z"
   },
   {
    "duration": -1242,
    "start_time": "2021-10-25T11:42:56.550Z"
   },
   {
    "duration": -1243,
    "start_time": "2021-10-25T11:42:56.552Z"
   },
   {
    "duration": -1243,
    "start_time": "2021-10-25T11:42:56.553Z"
   },
   {
    "duration": 3,
    "start_time": "2021-10-25T12:10:21.394Z"
   },
   {
    "duration": 32,
    "start_time": "2021-10-25T12:10:21.399Z"
   },
   {
    "duration": 230,
    "start_time": "2021-10-25T12:10:21.433Z"
   },
   {
    "duration": 3,
    "start_time": "2021-10-25T12:10:21.664Z"
   },
   {
    "duration": 4877251,
    "start_time": "2021-10-25T12:10:21.669Z"
   },
   {
    "duration": 646,
    "start_time": "2021-10-25T13:31:38.922Z"
   },
   {
    "duration": 3,
    "start_time": "2021-10-25T13:31:39.570Z"
   },
   {
    "duration": 2923901,
    "start_time": "2021-10-25T13:31:39.575Z"
   },
   {
    "duration": -1357,
    "start_time": "2021-10-25T14:20:24.835Z"
   },
   {
    "duration": 11854,
    "start_time": "2021-10-25T17:05:50.091Z"
   },
   {
    "duration": 6465,
    "start_time": "2021-10-25T17:06:01.946Z"
   },
   {
    "duration": 12,
    "start_time": "2021-10-25T17:06:08.413Z"
   },
   {
    "duration": 20,
    "start_time": "2021-10-25T17:06:08.428Z"
   },
   {
    "duration": 226,
    "start_time": "2021-10-25T17:06:08.449Z"
   },
   {
    "duration": 16,
    "start_time": "2021-10-25T17:06:08.677Z"
   },
   {
    "duration": 5,
    "start_time": "2021-10-25T17:06:08.695Z"
   },
   {
    "duration": 5606,
    "start_time": "2021-10-25T18:11:02.127Z"
   },
   {
    "duration": 3868,
    "start_time": "2021-10-25T18:11:07.735Z"
   },
   {
    "duration": 11,
    "start_time": "2021-10-25T18:11:11.605Z"
   },
   {
    "duration": 24,
    "start_time": "2021-10-25T18:11:11.617Z"
   },
   {
    "duration": 223,
    "start_time": "2021-10-25T18:11:11.643Z"
   },
   {
    "duration": 6,
    "start_time": "2021-10-25T18:11:11.868Z"
   },
   {
    "duration": 15,
    "start_time": "2021-10-25T18:11:11.876Z"
   },
   {
    "duration": 5577,
    "start_time": "2021-10-25T18:44:41.920Z"
   },
   {
    "duration": 6787,
    "start_time": "2021-10-25T18:44:47.499Z"
   },
   {
    "duration": 12,
    "start_time": "2021-10-25T18:44:54.288Z"
   },
   {
    "duration": 25,
    "start_time": "2021-10-25T18:44:54.302Z"
   },
   {
    "duration": 225,
    "start_time": "2021-10-25T18:44:54.328Z"
   },
   {
    "duration": 7,
    "start_time": "2021-10-25T18:44:54.555Z"
   },
   {
    "duration": 5,
    "start_time": "2021-10-25T18:44:54.563Z"
   },
   {
    "duration": 1209012,
    "start_time": "2021-10-25T18:44:54.570Z"
   },
   {
    "duration": 16,
    "start_time": "2021-10-25T19:05:03.584Z"
   },
   {
    "duration": 32,
    "start_time": "2021-10-25T19:05:03.601Z"
   },
   {
    "duration": 3,
    "start_time": "2021-10-25T19:05:03.635Z"
   },
   {
    "duration": 6714,
    "start_time": "2021-10-25T19:05:03.640Z"
   },
   {
    "duration": 2,
    "start_time": "2021-10-25T19:05:10.356Z"
   },
   {
    "duration": 35,
    "start_time": "2021-10-25T19:05:10.360Z"
   },
   {
    "duration": 258,
    "start_time": "2021-10-25T19:05:10.397Z"
   },
   {
    "duration": 399,
    "start_time": "2021-10-25T19:05:10.657Z"
   },
   {
    "duration": 5,
    "start_time": "2021-10-25T19:05:11.057Z"
   },
   {
    "duration": 284440,
    "start_time": "2021-10-25T19:05:11.064Z"
   },
   {
    "duration": 252,
    "start_time": "2021-10-25T19:09:55.505Z"
   },
   {
    "duration": 3,
    "start_time": "2021-10-25T19:09:55.759Z"
   },
   {
    "duration": 12751,
    "start_time": "2021-10-26T10:36:20.935Z"
   },
   {
    "duration": 2708,
    "start_time": "2021-10-26T10:36:33.688Z"
   },
   {
    "duration": 16,
    "start_time": "2021-10-26T10:36:36.399Z"
   },
   {
    "duration": 31,
    "start_time": "2021-10-26T10:36:36.417Z"
   },
   {
    "duration": 237,
    "start_time": "2021-10-26T10:36:36.450Z"
   },
   {
    "duration": 7,
    "start_time": "2021-10-26T10:36:36.689Z"
   },
   {
    "duration": 5,
    "start_time": "2021-10-26T10:36:36.698Z"
   },
   {
    "duration": 1524724,
    "start_time": "2021-10-26T10:36:36.705Z"
   },
   {
    "duration": 12,
    "start_time": "2021-10-26T11:02:01.431Z"
   },
   {
    "duration": 63,
    "start_time": "2021-10-26T11:02:01.445Z"
   },
   {
    "duration": 4,
    "start_time": "2021-10-26T11:02:01.511Z"
   },
   {
    "duration": 7938,
    "start_time": "2021-10-26T11:02:01.517Z"
   },
   {
    "duration": 2,
    "start_time": "2021-10-26T11:02:09.457Z"
   },
   {
    "duration": 36,
    "start_time": "2021-10-26T11:02:09.461Z"
   },
   {
    "duration": 266,
    "start_time": "2021-10-26T11:02:09.499Z"
   },
   {
    "duration": 390,
    "start_time": "2021-10-26T11:02:09.767Z"
   },
   {
    "duration": 9,
    "start_time": "2021-10-26T11:02:10.176Z"
   },
   {
    "duration": 335591,
    "start_time": "2021-10-26T11:02:10.187Z"
   },
   {
    "duration": 272,
    "start_time": "2021-10-26T11:07:45.780Z"
   },
   {
    "duration": 7,
    "start_time": "2021-10-26T11:07:46.054Z"
   },
   {
    "duration": 1757434,
    "start_time": "2021-10-26T11:07:46.063Z"
   },
   {
    "duration": -2051,
    "start_time": "2021-10-26T11:37:05.550Z"
   },
   {
    "duration": -2055,
    "start_time": "2021-10-26T11:37:05.555Z"
   },
   {
    "duration": -2071,
    "start_time": "2021-10-26T11:37:05.572Z"
   },
   {
    "duration": -2073,
    "start_time": "2021-10-26T11:37:05.575Z"
   },
   {
    "duration": -2075,
    "start_time": "2021-10-26T11:37:05.578Z"
   },
   {
    "duration": 2,
    "start_time": "2021-10-26T11:37:10.752Z"
   },
   {
    "duration": 260080,
    "start_time": "2021-10-26T11:37:14.702Z"
   },
   {
    "duration": 358,
    "start_time": "2021-10-26T11:43:12.694Z"
   },
   {
    "duration": 4,
    "start_time": "2021-10-26T11:43:19.791Z"
   },
   {
    "duration": 347,
    "start_time": "2021-10-26T11:43:22.869Z"
   },
   {
    "duration": 2744,
    "start_time": "2021-10-26T11:43:45.454Z"
   },
   {
    "duration": 4,
    "start_time": "2021-10-26T11:44:36.598Z"
   },
   {
    "duration": 4,
    "start_time": "2021-10-26T11:44:59.575Z"
   },
   {
    "duration": 4,
    "start_time": "2021-10-26T11:46:49.213Z"
   },
   {
    "duration": 803311,
    "start_time": "2021-10-26T11:46:50.470Z"
   },
   {
    "duration": 6,
    "start_time": "2021-10-26T12:01:20.074Z"
   },
   {
    "duration": 3,
    "start_time": "2021-10-26T12:01:36.264Z"
   },
   {
    "duration": 1509783,
    "start_time": "2021-10-26T12:01:40.587Z"
   },
   {
    "duration": 5,
    "start_time": "2021-10-26T12:27:19.301Z"
   },
   {
    "duration": 3,
    "start_time": "2021-10-26T12:27:22.490Z"
   },
   {
    "duration": 1447897,
    "start_time": "2021-10-26T12:27:24.232Z"
   },
   {
    "duration": 5,
    "start_time": "2021-10-26T12:51:44.945Z"
   },
   {
    "duration": 7752,
    "start_time": "2021-10-26T12:51:55.938Z"
   },
   {
    "duration": 4,
    "start_time": "2021-10-26T12:52:08.512Z"
   },
   {
    "duration": 3,
    "start_time": "2021-10-26T12:52:11.112Z"
   },
   {
    "duration": 381956,
    "start_time": "2021-10-26T12:52:13.156Z"
   },
   {
    "duration": 4,
    "start_time": "2021-10-26T12:58:55.270Z"
   },
   {
    "duration": 5,
    "start_time": "2021-10-26T12:59:05.694Z"
   },
   {
    "duration": 549227,
    "start_time": "2021-10-26T12:59:08.745Z"
   },
   {
    "duration": 4,
    "start_time": "2021-10-26T13:08:19.694Z"
   },
   {
    "duration": 3,
    "start_time": "2021-10-26T13:08:25.300Z"
   },
   {
    "duration": 738,
    "start_time": "2021-10-26T13:08:31.622Z"
   },
   {
    "duration": 3,
    "start_time": "2021-10-26T13:08:58.189Z"
   },
   {
    "duration": 8147,
    "start_time": "2021-10-26T13:09:36.621Z"
   },
   {
    "duration": 5610,
    "start_time": "2021-10-26T13:09:44.770Z"
   },
   {
    "duration": 14,
    "start_time": "2021-10-26T13:09:50.383Z"
   },
   {
    "duration": 44,
    "start_time": "2021-10-26T13:09:50.399Z"
   },
   {
    "duration": 239,
    "start_time": "2021-10-26T13:09:50.445Z"
   },
   {
    "duration": 9,
    "start_time": "2021-10-26T13:09:50.685Z"
   },
   {
    "duration": 8,
    "start_time": "2021-10-26T13:09:50.696Z"
   },
   {
    "duration": 114466,
    "start_time": "2021-10-26T13:09:50.706Z"
   },
   {
    "duration": -2032,
    "start_time": "2021-10-26T13:11:47.207Z"
   },
   {
    "duration": -2034,
    "start_time": "2021-10-26T13:11:47.210Z"
   },
   {
    "duration": -2036,
    "start_time": "2021-10-26T13:11:47.213Z"
   },
   {
    "duration": -2037,
    "start_time": "2021-10-26T13:11:47.215Z"
   },
   {
    "duration": -2038,
    "start_time": "2021-10-26T13:11:47.217Z"
   },
   {
    "duration": -2039,
    "start_time": "2021-10-26T13:11:47.219Z"
   },
   {
    "duration": -2038,
    "start_time": "2021-10-26T13:11:47.220Z"
   },
   {
    "duration": -2041,
    "start_time": "2021-10-26T13:11:47.224Z"
   },
   {
    "duration": -2045,
    "start_time": "2021-10-26T13:11:47.229Z"
   },
   {
    "duration": -2048,
    "start_time": "2021-10-26T13:11:47.233Z"
   },
   {
    "duration": -2048,
    "start_time": "2021-10-26T13:11:47.234Z"
   },
   {
    "duration": -2049,
    "start_time": "2021-10-26T13:11:47.236Z"
   },
   {
    "duration": -2049,
    "start_time": "2021-10-26T13:11:47.237Z"
   },
   {
    "duration": -2050,
    "start_time": "2021-10-26T13:11:47.239Z"
   },
   {
    "duration": -2051,
    "start_time": "2021-10-26T13:11:47.241Z"
   },
   {
    "duration": -2051,
    "start_time": "2021-10-26T13:11:47.242Z"
   },
   {
    "duration": -2052,
    "start_time": "2021-10-26T13:11:47.244Z"
   },
   {
    "duration": -2052,
    "start_time": "2021-10-26T13:11:47.245Z"
   },
   {
    "duration": -2053,
    "start_time": "2021-10-26T13:11:47.247Z"
   },
   {
    "duration": -2053,
    "start_time": "2021-10-26T13:11:47.248Z"
   },
   {
    "duration": -2054,
    "start_time": "2021-10-26T13:11:47.250Z"
   },
   {
    "duration": -2054,
    "start_time": "2021-10-26T13:11:47.251Z"
   },
   {
    "duration": -2055,
    "start_time": "2021-10-26T13:11:47.253Z"
   },
   {
    "duration": 6998,
    "start_time": "2021-10-26T13:11:59.196Z"
   },
   {
    "duration": 7273,
    "start_time": "2021-10-26T13:12:06.197Z"
   },
   {
    "duration": 11,
    "start_time": "2021-10-26T13:12:13.477Z"
   },
   {
    "duration": 31,
    "start_time": "2021-10-26T13:12:13.490Z"
   },
   {
    "duration": 250,
    "start_time": "2021-10-26T13:12:13.523Z"
   },
   {
    "duration": 7,
    "start_time": "2021-10-26T13:12:13.778Z"
   },
   {
    "duration": 4,
    "start_time": "2021-10-26T13:12:13.788Z"
   },
   {
    "duration": 1351339,
    "start_time": "2021-10-26T13:12:13.795Z"
   },
   {
    "duration": 11,
    "start_time": "2021-10-26T13:34:45.136Z"
   },
   {
    "duration": 47,
    "start_time": "2021-10-26T13:34:45.149Z"
   },
   {
    "duration": 4,
    "start_time": "2021-10-26T13:34:45.198Z"
   },
   {
    "duration": 8531,
    "start_time": "2021-10-26T13:34:45.203Z"
   },
   {
    "duration": 2,
    "start_time": "2021-10-26T13:34:53.736Z"
   },
   {
    "duration": 40,
    "start_time": "2021-10-26T13:34:53.740Z"
   },
   {
    "duration": 334,
    "start_time": "2021-10-26T13:34:53.782Z"
   },
   {
    "duration": 416,
    "start_time": "2021-10-26T13:34:54.118Z"
   },
   {
    "duration": 6,
    "start_time": "2021-10-26T13:34:54.536Z"
   },
   {
    "duration": 294435,
    "start_time": "2021-10-26T13:34:54.544Z"
   },
   {
    "duration": 284,
    "start_time": "2021-10-26T13:39:48.981Z"
   },
   {
    "duration": 10,
    "start_time": "2021-10-26T13:39:49.266Z"
   },
   {
    "duration": 109041,
    "start_time": "2021-10-26T13:39:49.278Z"
   },
   {
    "duration": 3,
    "start_time": "2021-10-26T13:41:38.323Z"
   },
   {
    "duration": 53,
    "start_time": "2021-10-26T13:41:38.328Z"
   },
   {
    "duration": 260,
    "start_time": "2021-10-26T13:41:38.383Z"
   },
   {
    "duration": 2,
    "start_time": "2021-10-26T13:41:38.645Z"
   },
   {
    "duration": 5,
    "start_time": "2021-10-26T13:41:38.649Z"
   },
   {
    "duration": 4,
    "start_time": "2021-10-26T13:41:38.656Z"
   },
   {
    "duration": 3,
    "start_time": "2021-10-26T13:41:38.677Z"
   },
   {
    "duration": 2057199,
    "start_time": "2021-10-26T13:41:38.682Z"
   },
   {
    "duration": 2,
    "start_time": "2021-10-26T14:15:55.884Z"
   },
   {
    "duration": 5499,
    "start_time": "2021-10-26T14:15:55.888Z"
   },
   {
    "duration": 7,
    "start_time": "2021-10-26T14:23:36.920Z"
   },
   {
    "duration": 3,
    "start_time": "2021-10-26T14:23:42.834Z"
   },
   {
    "duration": 3,
    "start_time": "2021-10-26T14:24:05.011Z"
   },
   {
    "duration": 62650,
    "start_time": "2021-10-26T14:24:08.265Z"
   },
   {
    "duration": 396398,
    "start_time": "2021-10-26T14:27:06.232Z"
   },
   {
    "duration": 5717,
    "start_time": "2021-10-26T14:34:55.502Z"
   },
   {
    "duration": 1948,
    "start_time": "2021-10-26T14:35:24.757Z"
   },
   {
    "duration": 124,
    "start_time": "2021-10-26T14:40:31.010Z"
   },
   {
    "duration": 3,
    "start_time": "2021-10-26T14:40:39.461Z"
   },
   {
    "duration": 2661905,
    "start_time": "2021-10-26T14:40:41.495Z"
   },
   {
    "duration": 3271,
    "start_time": "2021-10-26T15:28:37.924Z"
   },
   {
    "duration": 7573,
    "start_time": "2021-10-26T15:29:38.925Z"
   },
   {
    "duration": 5229,
    "start_time": "2021-10-26T15:29:46.500Z"
   },
   {
    "duration": 12,
    "start_time": "2021-10-26T15:29:51.731Z"
   },
   {
    "duration": 31,
    "start_time": "2021-10-26T15:29:51.745Z"
   },
   {
    "duration": 242,
    "start_time": "2021-10-26T15:29:51.779Z"
   },
   {
    "duration": 7,
    "start_time": "2021-10-26T15:29:52.023Z"
   },
   {
    "duration": 5,
    "start_time": "2021-10-26T15:29:52.032Z"
   },
   {
    "duration": 1345007,
    "start_time": "2021-10-26T15:29:52.039Z"
   },
   {
    "duration": 13,
    "start_time": "2021-10-26T15:52:17.049Z"
   },
   {
    "duration": 32,
    "start_time": "2021-10-26T15:52:17.077Z"
   },
   {
    "duration": 3,
    "start_time": "2021-10-26T15:52:17.111Z"
   },
   {
    "duration": 7887,
    "start_time": "2021-10-26T15:52:17.116Z"
   },
   {
    "duration": 2,
    "start_time": "2021-10-26T15:52:25.005Z"
   },
   {
    "duration": 27,
    "start_time": "2021-10-26T15:52:25.009Z"
   },
   {
    "duration": 301,
    "start_time": "2021-10-26T15:52:25.037Z"
   },
   {
    "duration": 458,
    "start_time": "2021-10-26T15:52:25.339Z"
   },
   {
    "duration": 6,
    "start_time": "2021-10-26T15:52:25.799Z"
   },
   {
    "duration": 303311,
    "start_time": "2021-10-26T15:52:25.806Z"
   },
   {
    "duration": 315,
    "start_time": "2021-10-26T15:57:29.119Z"
   },
   {
    "duration": 6,
    "start_time": "2021-10-26T15:57:29.436Z"
   },
   {
    "duration": 1834614,
    "start_time": "2021-10-26T15:57:29.444Z"
   },
   {
    "duration": 3,
    "start_time": "2021-10-26T16:28:04.061Z"
   },
   {
    "duration": 44,
    "start_time": "2021-10-26T16:28:04.066Z"
   },
   {
    "duration": 276,
    "start_time": "2021-10-26T16:28:04.112Z"
   },
   {
    "duration": 3,
    "start_time": "2021-10-26T16:28:04.390Z"
   },
   {
    "duration": 4,
    "start_time": "2021-10-26T16:28:04.395Z"
   },
   {
    "duration": 4,
    "start_time": "2021-10-26T16:28:04.403Z"
   },
   {
    "duration": 4,
    "start_time": "2021-10-26T16:28:04.409Z"
   },
   {
    "duration": 30409662,
    "start_time": "2021-10-26T16:28:04.415Z"
   },
   {
    "duration": 3,
    "start_time": "2021-10-27T00:54:54.079Z"
   },
   {
    "duration": 5403,
    "start_time": "2021-10-27T00:54:54.084Z"
   },
   {
    "duration": 2647,
    "start_time": "2021-10-27T10:37:11.350Z"
   },
   {
    "duration": 3,
    "start_time": "2021-10-27T10:37:50.981Z"
   },
   {
    "duration": 3,
    "start_time": "2021-10-27T10:41:05.598Z"
   },
   {
    "duration": 58,
    "start_time": "2021-10-27T10:42:13.262Z"
   },
   {
    "duration": 31,
    "start_time": "2021-10-27T10:42:50.277Z"
   },
   {
    "duration": 488,
    "start_time": "2021-10-27T10:45:09.461Z"
   },
   {
    "duration": 1309,
    "start_time": "2021-10-27T10:45:41.221Z"
   },
   {
    "duration": 7975,
    "start_time": "2021-10-27T10:54:33.956Z"
   },
   {
    "duration": 7473,
    "start_time": "2021-10-27T10:54:41.934Z"
   },
   {
    "duration": 14,
    "start_time": "2021-10-27T10:54:51.041Z"
   },
   {
    "duration": 29,
    "start_time": "2021-10-27T10:54:52.416Z"
   },
   {
    "duration": 227,
    "start_time": "2021-10-27T10:54:54.147Z"
   },
   {
    "duration": 7,
    "start_time": "2021-10-27T10:54:56.163Z"
   },
   {
    "duration": 4,
    "start_time": "2021-10-27T10:55:37.857Z"
   },
   {
    "duration": 480,
    "start_time": "2021-10-27T10:55:39.696Z"
   },
   {
    "duration": 32,
    "start_time": "2021-10-27T10:55:59.298Z"
   },
   {
    "duration": 4275,
    "start_time": "2021-10-27T10:56:02.553Z"
   },
   {
    "duration": 4,
    "start_time": "2021-10-27T10:57:02.201Z"
   },
   {
    "duration": 364,
    "start_time": "2021-10-27T10:57:23.507Z"
   },
   {
    "duration": 469,
    "start_time": "2021-10-27T10:58:42.963Z"
   },
   {
    "duration": 1139,
    "start_time": "2021-10-27T10:59:02.656Z"
   },
   {
    "duration": 393,
    "start_time": "2021-10-27T10:59:38.505Z"
   },
   {
    "duration": 359,
    "start_time": "2021-10-27T10:59:42.889Z"
   },
   {
    "duration": 7681,
    "start_time": "2021-10-27T11:00:08.081Z"
   },
   {
    "duration": 3133,
    "start_time": "2021-10-27T11:00:17.514Z"
   },
   {
    "duration": 19,
    "start_time": "2021-10-27T11:00:21.817Z"
   },
   {
    "duration": 27,
    "start_time": "2021-10-27T11:00:22.940Z"
   },
   {
    "duration": 223,
    "start_time": "2021-10-27T11:00:23.648Z"
   },
   {
    "duration": 6,
    "start_time": "2021-10-27T11:00:25.168Z"
   },
   {
    "duration": 3,
    "start_time": "2021-10-27T11:00:41.014Z"
   },
   {
    "duration": 31,
    "start_time": "2021-10-27T11:00:42.123Z"
   },
   {
    "duration": 5,
    "start_time": "2021-10-27T11:00:45.994Z"
   },
   {
    "duration": 3562,
    "start_time": "2021-10-27T11:00:47.537Z"
   },
   {
    "duration": 5400,
    "start_time": "2021-10-27T11:01:16.145Z"
   },
   {
    "duration": 8051,
    "start_time": "2021-10-27T11:01:21.548Z"
   },
   {
    "duration": 11,
    "start_time": "2021-10-27T11:01:29.601Z"
   },
   {
    "duration": 26,
    "start_time": "2021-10-27T11:01:29.614Z"
   },
   {
    "duration": 234,
    "start_time": "2021-10-27T11:01:29.642Z"
   },
   {
    "duration": 156,
    "start_time": "2021-10-27T11:01:29.878Z"
   },
   {
    "duration": 4,
    "start_time": "2021-10-27T11:01:30.036Z"
   },
   {
    "duration": 225836,
    "start_time": "2021-10-27T11:01:30.042Z"
   },
   {
    "duration": -220,
    "start_time": "2021-10-27T11:05:16.100Z"
   },
   {
    "duration": 5452,
    "start_time": "2021-10-27T11:05:18.381Z"
   },
   {
    "duration": 3572,
    "start_time": "2021-10-27T11:05:23.835Z"
   },
   {
    "duration": 14,
    "start_time": "2021-10-27T11:05:27.410Z"
   },
   {
    "duration": 29,
    "start_time": "2021-10-27T11:05:27.426Z"
   },
   {
    "duration": 244,
    "start_time": "2021-10-27T11:05:27.457Z"
   },
   {
    "duration": 6,
    "start_time": "2021-10-27T11:05:27.703Z"
   },
   {
    "duration": 4,
    "start_time": "2021-10-27T11:05:54.656Z"
   },
   {
    "duration": 62,
    "start_time": "2021-10-27T11:06:01.102Z"
   },
   {
    "duration": 6,
    "start_time": "2021-10-27T11:06:03.009Z"
   },
   {
    "duration": 455,
    "start_time": "2021-10-27T11:06:45.928Z"
   },
   {
    "duration": 365,
    "start_time": "2021-10-27T11:06:53.592Z"
   },
   {
    "duration": 8043,
    "start_time": "2021-10-27T11:07:03.162Z"
   },
   {
    "duration": 5380,
    "start_time": "2021-10-27T11:07:11.207Z"
   },
   {
    "duration": 13,
    "start_time": "2021-10-27T11:07:16.590Z"
   },
   {
    "duration": 34,
    "start_time": "2021-10-27T11:07:16.605Z"
   },
   {
    "duration": 248,
    "start_time": "2021-10-27T11:07:16.641Z"
   },
   {
    "duration": 9,
    "start_time": "2021-10-27T11:07:16.891Z"
   },
   {
    "duration": 4,
    "start_time": "2021-10-27T11:07:29.917Z"
   },
   {
    "duration": 31,
    "start_time": "2021-10-27T11:07:31.141Z"
   },
   {
    "duration": 4,
    "start_time": "2021-10-27T11:07:32.192Z"
   },
   {
    "duration": 3610,
    "start_time": "2021-10-27T11:07:41.790Z"
   },
   {
    "duration": 503,
    "start_time": "2021-10-27T11:09:01.274Z"
   },
   {
    "duration": 7895,
    "start_time": "2021-10-27T11:09:11.818Z"
   },
   {
    "duration": 4777,
    "start_time": "2021-10-27T11:09:19.715Z"
   },
   {
    "duration": 13,
    "start_time": "2021-10-27T11:09:24.494Z"
   },
   {
    "duration": 29,
    "start_time": "2021-10-27T11:09:24.509Z"
   },
   {
    "duration": 246,
    "start_time": "2021-10-27T11:09:24.540Z"
   },
   {
    "duration": 7,
    "start_time": "2021-10-27T11:09:24.788Z"
   },
   {
    "duration": 3,
    "start_time": "2021-10-27T11:09:59.502Z"
   },
   {
    "duration": 35,
    "start_time": "2021-10-27T11:10:00.255Z"
   },
   {
    "duration": 4,
    "start_time": "2021-10-27T11:10:00.806Z"
   },
   {
    "duration": 4000,
    "start_time": "2021-10-27T11:10:01.445Z"
   },
   {
    "duration": 6,
    "start_time": "2021-10-27T11:12:20.069Z"
   },
   {
    "duration": 5,
    "start_time": "2021-10-27T11:15:22.170Z"
   },
   {
    "duration": 6,
    "start_time": "2021-10-27T11:15:32.871Z"
   },
   {
    "duration": 5384,
    "start_time": "2021-10-27T11:15:44.959Z"
   },
   {
    "duration": 5863,
    "start_time": "2021-10-27T11:16:01.200Z"
   },
   {
    "duration": 5461,
    "start_time": "2021-10-27T11:16:07.066Z"
   },
   {
    "duration": 11,
    "start_time": "2021-10-27T11:16:12.529Z"
   },
   {
    "duration": 43,
    "start_time": "2021-10-27T11:16:12.542Z"
   },
   {
    "duration": 233,
    "start_time": "2021-10-27T11:16:12.587Z"
   },
   {
    "duration": 6,
    "start_time": "2021-10-27T11:16:12.822Z"
   },
   {
    "duration": 5,
    "start_time": "2021-10-27T11:16:12.830Z"
   },
   {
    "duration": 20903,
    "start_time": "2021-10-27T11:24:27.096Z"
   },
   {
    "duration": 3553,
    "start_time": "2021-10-27T11:24:48.002Z"
   },
   {
    "duration": 31,
    "start_time": "2021-10-27T11:24:51.563Z"
   },
   {
    "duration": 37,
    "start_time": "2021-10-27T11:24:51.598Z"
   },
   {
    "duration": 344,
    "start_time": "2021-10-27T11:24:51.638Z"
   },
   {
    "duration": 10,
    "start_time": "2021-10-27T11:24:51.985Z"
   },
   {
    "duration": 7,
    "start_time": "2021-10-27T11:24:52.002Z"
   },
   {
    "duration": 2481362,
    "start_time": "2021-10-27T11:24:52.014Z"
   },
   {
    "duration": 17,
    "start_time": "2021-10-27T12:06:13.381Z"
   },
   {
    "duration": 41,
    "start_time": "2021-10-27T12:06:13.401Z"
   },
   {
    "duration": 6,
    "start_time": "2021-10-27T12:06:13.445Z"
   },
   {
    "duration": 11270,
    "start_time": "2021-10-27T12:06:13.483Z"
   },
   {
    "duration": 4,
    "start_time": "2021-10-27T12:06:24.756Z"
   },
   {
    "duration": 48,
    "start_time": "2021-10-27T12:06:24.763Z"
   },
   {
    "duration": 394,
    "start_time": "2021-10-27T12:06:24.814Z"
   },
   {
    "duration": 520,
    "start_time": "2021-10-27T12:06:25.211Z"
   },
   {
    "duration": 9,
    "start_time": "2021-10-27T12:06:25.734Z"
   },
   {
    "duration": 354044,
    "start_time": "2021-10-27T12:06:25.746Z"
   },
   {
    "duration": 327,
    "start_time": "2021-10-27T12:12:19.792Z"
   },
   {
    "duration": 8,
    "start_time": "2021-10-27T12:12:20.121Z"
   },
   {
    "duration": 11,
    "start_time": "2021-10-27T12:12:20.131Z"
   },
   {
    "duration": 4,
    "start_time": "2021-10-27T12:12:20.149Z"
   },
   {
    "duration": 26,
    "start_time": "2021-10-27T12:12:20.156Z"
   },
   {
    "duration": 5,
    "start_time": "2021-10-27T12:12:20.185Z"
   },
   {
    "duration": 12,
    "start_time": "2021-10-27T12:12:20.192Z"
   },
   {
    "duration": 5,
    "start_time": "2021-10-27T12:12:20.207Z"
   },
   {
    "duration": 4,
    "start_time": "2021-10-27T12:12:20.214Z"
   },
   {
    "duration": 6,
    "start_time": "2021-10-27T12:12:20.221Z"
   },
   {
    "duration": 6,
    "start_time": "2021-10-27T12:12:20.229Z"
   },
   {
    "duration": 8,
    "start_time": "2021-10-27T12:12:20.238Z"
   },
   {
    "duration": 34,
    "start_time": "2021-10-27T12:12:20.248Z"
   },
   {
    "duration": 4,
    "start_time": "2021-10-27T12:12:20.284Z"
   },
   {
    "duration": 108,
    "start_time": "2021-10-27T12:12:20.290Z"
   },
   {
    "duration": 3,
    "start_time": "2021-10-27T12:12:20.400Z"
   },
   {
    "duration": 9353,
    "start_time": "2021-10-27T12:12:20.405Z"
   },
   {
    "duration": 9722,
    "start_time": "2021-10-27T12:13:58.445Z"
   },
   {
    "duration": 23447,
    "start_time": "2021-10-27T12:15:18.041Z"
   },
   {
    "duration": 12,
    "start_time": "2021-10-27T12:17:19.225Z"
   },
   {
    "duration": 4,
    "start_time": "2021-10-27T12:24:46.917Z"
   },
   {
    "duration": 77,
    "start_time": "2021-10-27T12:24:47.906Z"
   },
   {
    "duration": 10328,
    "start_time": "2021-10-27T12:24:50.307Z"
   },
   {
    "duration": 39,
    "start_time": "2021-10-27T12:26:05.237Z"
   },
   {
    "duration": 5,
    "start_time": "2021-10-27T12:26:08.009Z"
   },
   {
    "duration": 11735,
    "start_time": "2021-10-27T12:26:12.111Z"
   },
   {
    "duration": 4,
    "start_time": "2021-10-27T12:26:26.661Z"
   },
   {
    "duration": 23,
    "start_time": "2021-10-27T12:26:29.861Z"
   },
   {
    "duration": 320,
    "start_time": "2021-10-27T12:26:31.998Z"
   },
   {
    "duration": 375,
    "start_time": "2021-10-27T12:26:33.941Z"
   },
   {
    "duration": 8,
    "start_time": "2021-10-27T12:26:35.790Z"
   },
   {
    "duration": 469697,
    "start_time": "2021-10-27T12:27:40.140Z"
   },
   {
    "duration": 3536,
    "start_time": "2021-10-27T12:37:21.070Z"
   },
   {
    "duration": 313033,
    "start_time": "2021-10-27T12:42:06.450Z"
   },
   {
    "duration": 1816,
    "start_time": "2021-10-27T12:47:28.273Z"
   },
   {
    "duration": 9263,
    "start_time": "2021-10-27T12:49:48.864Z"
   },
   {
    "duration": 5302,
    "start_time": "2021-10-27T12:49:58.130Z"
   },
   {
    "duration": 20,
    "start_time": "2021-10-27T12:50:03.435Z"
   },
   {
    "duration": 54,
    "start_time": "2021-10-27T12:50:03.459Z"
   },
   {
    "duration": 304,
    "start_time": "2021-10-27T12:50:03.516Z"
   },
   {
    "duration": 2201,
    "start_time": "2021-10-27T12:50:03.822Z"
   },
   {
    "duration": -160,
    "start_time": "2021-10-27T12:50:06.189Z"
   },
   {
    "duration": -171,
    "start_time": "2021-10-27T12:50:06.201Z"
   },
   {
    "duration": -173,
    "start_time": "2021-10-27T12:50:06.204Z"
   },
   {
    "duration": -174,
    "start_time": "2021-10-27T12:50:06.207Z"
   },
   {
    "duration": -178,
    "start_time": "2021-10-27T12:50:06.212Z"
   },
   {
    "duration": -179,
    "start_time": "2021-10-27T12:50:06.215Z"
   },
   {
    "duration": -180,
    "start_time": "2021-10-27T12:50:06.217Z"
   },
   {
    "duration": -182,
    "start_time": "2021-10-27T12:50:06.220Z"
   },
   {
    "duration": -183,
    "start_time": "2021-10-27T12:50:06.223Z"
   },
   {
    "duration": -186,
    "start_time": "2021-10-27T12:50:06.227Z"
   },
   {
    "duration": -187,
    "start_time": "2021-10-27T12:50:06.229Z"
   },
   {
    "duration": -188,
    "start_time": "2021-10-27T12:50:06.231Z"
   },
   {
    "duration": -188,
    "start_time": "2021-10-27T12:50:06.233Z"
   },
   {
    "duration": -188,
    "start_time": "2021-10-27T12:50:06.234Z"
   },
   {
    "duration": -188,
    "start_time": "2021-10-27T12:50:06.236Z"
   },
   {
    "duration": -188,
    "start_time": "2021-10-27T12:50:06.237Z"
   },
   {
    "duration": -188,
    "start_time": "2021-10-27T12:50:06.239Z"
   },
   {
    "duration": -190,
    "start_time": "2021-10-27T12:50:06.242Z"
   },
   {
    "duration": -192,
    "start_time": "2021-10-27T12:50:06.245Z"
   },
   {
    "duration": -191,
    "start_time": "2021-10-27T12:50:06.246Z"
   },
   {
    "duration": -192,
    "start_time": "2021-10-27T12:50:06.248Z"
   },
   {
    "duration": -192,
    "start_time": "2021-10-27T12:50:06.250Z"
   },
   {
    "duration": -192,
    "start_time": "2021-10-27T12:50:06.251Z"
   },
   {
    "duration": -192,
    "start_time": "2021-10-27T12:50:06.253Z"
   },
   {
    "duration": -192,
    "start_time": "2021-10-27T12:50:06.254Z"
   },
   {
    "duration": -193,
    "start_time": "2021-10-27T12:50:06.256Z"
   },
   {
    "duration": -193,
    "start_time": "2021-10-27T12:50:06.258Z"
   },
   {
    "duration": -178,
    "start_time": "2021-10-27T12:50:06.260Z"
   },
   {
    "duration": -178,
    "start_time": "2021-10-27T12:50:06.261Z"
   },
   {
    "duration": -179,
    "start_time": "2021-10-27T12:50:06.263Z"
   },
   {
    "duration": 9123,
    "start_time": "2021-10-27T13:27:02.655Z"
   },
   {
    "duration": 3618,
    "start_time": "2021-10-27T13:27:11.781Z"
   },
   {
    "duration": 18,
    "start_time": "2021-10-27T13:27:15.403Z"
   },
   {
    "duration": 32,
    "start_time": "2021-10-27T13:27:15.424Z"
   },
   {
    "duration": 300,
    "start_time": "2021-10-27T13:27:15.482Z"
   },
   {
    "duration": 2421,
    "start_time": "2021-10-27T13:27:15.784Z"
   },
   {
    "duration": 9,
    "start_time": "2021-10-27T13:27:18.207Z"
   },
   {
    "duration": 6,
    "start_time": "2021-10-27T13:27:18.220Z"
   },
   {
    "duration": 2084279,
    "start_time": "2021-10-27T13:27:18.230Z"
   },
   {
    "duration": 22,
    "start_time": "2021-10-27T14:02:02.512Z"
   },
   {
    "duration": 828,
    "start_time": "2021-10-27T14:02:02.537Z"
   },
   {
    "duration": -125,
    "start_time": "2021-10-27T14:02:03.493Z"
   },
   {
    "duration": -128,
    "start_time": "2021-10-27T14:02:03.498Z"
   },
   {
    "duration": -129,
    "start_time": "2021-10-27T14:02:03.500Z"
   },
   {
    "duration": -131,
    "start_time": "2021-10-27T14:02:03.504Z"
   },
   {
    "duration": -132,
    "start_time": "2021-10-27T14:02:03.506Z"
   },
   {
    "duration": -135,
    "start_time": "2021-10-27T14:02:03.510Z"
   },
   {
    "duration": -135,
    "start_time": "2021-10-27T14:02:03.512Z"
   },
   {
    "duration": -136,
    "start_time": "2021-10-27T14:02:03.514Z"
   },
   {
    "duration": -137,
    "start_time": "2021-10-27T14:02:03.516Z"
   },
   {
    "duration": -138,
    "start_time": "2021-10-27T14:02:03.519Z"
   },
   {
    "duration": -138,
    "start_time": "2021-10-27T14:02:03.520Z"
   },
   {
    "duration": -138,
    "start_time": "2021-10-27T14:02:03.522Z"
   },
   {
    "duration": -139,
    "start_time": "2021-10-27T14:02:03.524Z"
   },
   {
    "duration": -139,
    "start_time": "2021-10-27T14:02:03.525Z"
   },
   {
    "duration": -139,
    "start_time": "2021-10-27T14:02:03.527Z"
   },
   {
    "duration": -143,
    "start_time": "2021-10-27T14:02:03.532Z"
   },
   {
    "duration": -143,
    "start_time": "2021-10-27T14:02:03.534Z"
   },
   {
    "duration": -145,
    "start_time": "2021-10-27T14:02:03.538Z"
   },
   {
    "duration": -145,
    "start_time": "2021-10-27T14:02:03.539Z"
   },
   {
    "duration": -147,
    "start_time": "2021-10-27T14:02:03.542Z"
   },
   {
    "duration": -147,
    "start_time": "2021-10-27T14:02:03.543Z"
   },
   {
    "duration": -146,
    "start_time": "2021-10-27T14:02:03.544Z"
   },
   {
    "duration": -145,
    "start_time": "2021-10-27T14:02:03.545Z"
   },
   {
    "duration": -146,
    "start_time": "2021-10-27T14:02:03.547Z"
   },
   {
    "duration": -145,
    "start_time": "2021-10-27T14:02:03.548Z"
   },
   {
    "duration": 103,
    "start_time": "2021-10-27T14:03:24.101Z"
   },
   {
    "duration": 5,
    "start_time": "2021-10-27T14:03:24.207Z"
   },
   {
    "duration": 10855,
    "start_time": "2021-10-27T14:03:24.214Z"
   },
   {
    "duration": 10,
    "start_time": "2021-10-27T14:03:35.072Z"
   },
   {
    "duration": 30,
    "start_time": "2021-10-27T14:03:35.084Z"
   },
   {
    "duration": 391,
    "start_time": "2021-10-27T14:03:35.117Z"
   },
   {
    "duration": 524,
    "start_time": "2021-10-27T14:03:35.511Z"
   },
   {
    "duration": 8,
    "start_time": "2021-10-27T14:03:36.039Z"
   },
   {
    "duration": 342452,
    "start_time": "2021-10-27T14:03:36.049Z"
   },
   {
    "duration": 407,
    "start_time": "2021-10-27T14:09:18.504Z"
   },
   {
    "duration": 6,
    "start_time": "2021-10-27T14:09:18.913Z"
   },
   {
    "duration": 8,
    "start_time": "2021-10-27T14:09:18.922Z"
   },
   {
    "duration": 10,
    "start_time": "2021-10-27T14:09:18.933Z"
   },
   {
    "duration": 10,
    "start_time": "2021-10-27T14:09:18.946Z"
   },
   {
    "duration": 5,
    "start_time": "2021-10-27T14:09:18.958Z"
   },
   {
    "duration": 28,
    "start_time": "2021-10-27T14:09:18.965Z"
   },
   {
    "duration": 5,
    "start_time": "2021-10-27T14:09:18.996Z"
   },
   {
    "duration": 5,
    "start_time": "2021-10-27T14:09:19.004Z"
   },
   {
    "duration": 9,
    "start_time": "2021-10-27T14:09:19.011Z"
   },
   {
    "duration": 8,
    "start_time": "2021-10-27T14:09:19.022Z"
   },
   {
    "duration": 568212,
    "start_time": "2021-10-27T14:09:19.032Z"
   },
   {
    "duration": 3618,
    "start_time": "2021-10-27T14:18:47.282Z"
   },
   {
    "duration": 3,
    "start_time": "2021-10-27T14:18:50.904Z"
   },
   {
    "duration": 15,
    "start_time": "2021-10-27T14:18:50.910Z"
   },
   {
    "duration": 12,
    "start_time": "2021-10-27T14:18:50.928Z"
   },
   {
    "duration": 11,
    "start_time": "2021-10-27T14:18:50.943Z"
   },
   {
    "duration": 7,
    "start_time": "2021-10-27T14:25:57.463Z"
   },
   {
    "duration": 2139,
    "start_time": "2021-10-27T14:25:57.473Z"
   },
   {
    "duration": -77,
    "start_time": "2021-10-27T14:25:59.692Z"
   },
   {
    "duration": -78,
    "start_time": "2021-10-27T14:25:59.694Z"
   },
   {
    "duration": -78,
    "start_time": "2021-10-27T14:25:59.696Z"
   },
   {
    "duration": -79,
    "start_time": "2021-10-27T14:25:59.698Z"
   },
   {
    "duration": -80,
    "start_time": "2021-10-27T14:25:59.700Z"
   },
   {
    "duration": -82,
    "start_time": "2021-10-27T14:25:59.703Z"
   },
   {
    "duration": -84,
    "start_time": "2021-10-27T14:25:59.707Z"
   },
   {
    "duration": -84,
    "start_time": "2021-10-27T14:25:59.708Z"
   },
   {
    "duration": -85,
    "start_time": "2021-10-27T14:25:59.710Z"
   },
   {
    "duration": -85,
    "start_time": "2021-10-27T14:25:59.712Z"
   },
   {
    "duration": -86,
    "start_time": "2021-10-27T14:25:59.714Z"
   },
   {
    "duration": -86,
    "start_time": "2021-10-27T14:25:59.715Z"
   },
   {
    "duration": -86,
    "start_time": "2021-10-27T14:25:59.717Z"
   },
   {
    "duration": -87,
    "start_time": "2021-10-27T14:25:59.719Z"
   },
   {
    "duration": 7,
    "start_time": "2021-10-27T14:26:31.335Z"
   },
   {
    "duration": 1971,
    "start_time": "2021-10-27T14:26:33.252Z"
   },
   {
    "duration": 6,
    "start_time": "2021-10-27T14:29:11.990Z"
   },
   {
    "duration": 616,
    "start_time": "2021-10-27T14:29:11.998Z"
   },
   {
    "duration": -65,
    "start_time": "2021-10-27T14:29:12.682Z"
   },
   {
    "duration": -75,
    "start_time": "2021-10-27T14:29:12.693Z"
   },
   {
    "duration": -78,
    "start_time": "2021-10-27T14:29:12.697Z"
   },
   {
    "duration": -79,
    "start_time": "2021-10-27T14:29:12.700Z"
   },
   {
    "duration": -82,
    "start_time": "2021-10-27T14:29:12.704Z"
   },
   {
    "duration": -85,
    "start_time": "2021-10-27T14:29:12.708Z"
   },
   {
    "duration": -93,
    "start_time": "2021-10-27T14:29:12.717Z"
   },
   {
    "duration": -95,
    "start_time": "2021-10-27T14:29:12.720Z"
   },
   {
    "duration": -98,
    "start_time": "2021-10-27T14:29:12.724Z"
   },
   {
    "duration": -99,
    "start_time": "2021-10-27T14:29:12.727Z"
   },
   {
    "duration": -101,
    "start_time": "2021-10-27T14:29:12.730Z"
   },
   {
    "duration": -101,
    "start_time": "2021-10-27T14:29:12.731Z"
   },
   {
    "duration": -101,
    "start_time": "2021-10-27T14:29:12.733Z"
   },
   {
    "duration": -102,
    "start_time": "2021-10-27T14:29:12.735Z"
   },
   {
    "duration": 6,
    "start_time": "2021-10-27T14:29:53.463Z"
   },
   {
    "duration": 349246,
    "start_time": "2021-10-27T14:29:53.472Z"
   },
   {
    "duration": 5,
    "start_time": "2021-10-27T14:35:42.721Z"
   },
   {
    "duration": 32,
    "start_time": "2021-10-27T14:35:42.729Z"
   },
   {
    "duration": 381,
    "start_time": "2021-10-27T14:35:42.783Z"
   },
   {
    "duration": 3,
    "start_time": "2021-10-27T14:35:43.166Z"
   },
   {
    "duration": 14,
    "start_time": "2021-10-27T14:35:43.172Z"
   },
   {
    "duration": 7,
    "start_time": "2021-10-27T14:35:43.189Z"
   },
   {
    "duration": 5,
    "start_time": "2021-10-27T14:35:43.199Z"
   },
   {
    "duration": 1114853,
    "start_time": "2021-10-27T14:35:43.207Z"
   },
   {
    "duration": -118,
    "start_time": "2021-10-27T14:54:18.180Z"
   },
   {
    "duration": -121,
    "start_time": "2021-10-27T14:54:18.185Z"
   },
   {
    "duration": -122,
    "start_time": "2021-10-27T14:54:18.187Z"
   },
   {
    "duration": -121,
    "start_time": "2021-10-27T14:54:18.188Z"
   },
   {
    "duration": -121,
    "start_time": "2021-10-27T14:54:18.190Z"
   },
   {
    "duration": -120,
    "start_time": "2021-10-27T14:54:18.191Z"
   },
   {
    "duration": 13052,
    "start_time": "2021-10-29T13:17:03.409Z"
   },
   {
    "duration": 6808,
    "start_time": "2021-10-29T13:17:16.463Z"
   },
   {
    "duration": 19,
    "start_time": "2021-10-29T13:17:23.273Z"
   },
   {
    "duration": 23,
    "start_time": "2021-10-29T13:17:23.294Z"
   },
   {
    "duration": 222,
    "start_time": "2021-10-29T13:17:23.319Z"
   },
   {
    "duration": 1523,
    "start_time": "2021-10-29T13:17:23.542Z"
   },
   {
    "duration": 6,
    "start_time": "2021-10-29T13:17:25.067Z"
   },
   {
    "duration": 16,
    "start_time": "2021-10-29T13:17:25.075Z"
   },
   {
    "duration": 1055590,
    "start_time": "2021-10-29T13:17:25.093Z"
   },
   {
    "duration": 15,
    "start_time": "2021-10-29T13:35:00.684Z"
   },
   {
    "duration": 80,
    "start_time": "2021-10-29T13:45:11.262Z"
   },
   {
    "duration": 5,
    "start_time": "2021-10-29T13:45:11.775Z"
   },
   {
    "duration": 6361,
    "start_time": "2021-10-29T13:45:12.414Z"
   },
   {
    "duration": 3,
    "start_time": "2021-10-29T13:59:07.221Z"
   },
   {
    "duration": 1448431,
    "start_time": "2021-10-29T14:00:36.196Z"
   },
   {
    "duration": 3,
    "start_time": "2021-10-29T14:49:44.822Z"
   },
   {
    "duration": 3855562,
    "start_time": "2021-10-29T14:50:31.350Z"
   },
   {
    "duration": 1145382,
    "start_time": "2021-10-29T15:55:00.546Z"
   }
  ],
  "kernelspec": {
   "display_name": "Python 3 (ipykernel)",
   "language": "python",
   "name": "python3"
  },
  "language_info": {
   "codemirror_mode": {
    "name": "ipython",
    "version": 3
   },
   "file_extension": ".py",
   "mimetype": "text/x-python",
   "name": "python",
   "nbconvert_exporter": "python",
   "pygments_lexer": "ipython3",
   "version": "3.9.5"
  },
  "toc": {
   "base_numbering": 1,
   "nav_menu": {},
   "number_sections": true,
   "sideBar": true,
   "skip_h1_title": true,
   "title_cell": "Содержание",
   "title_sidebar": "Contents",
   "toc_cell": true,
   "toc_position": {
    "height": "calc(100% - 180px)",
    "left": "10px",
    "top": "150px",
    "width": "302.391px"
   },
   "toc_section_display": true,
   "toc_window_display": false
  }
 },
 "nbformat": 4,
 "nbformat_minor": 2
}
