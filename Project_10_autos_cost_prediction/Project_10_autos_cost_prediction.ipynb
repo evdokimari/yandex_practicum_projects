{
 "cells": [
  {
   "cell_type": "markdown",
   "metadata": {},
   "source": [
    "# Определение стоимости автомобилей"
   ]
  },
  {
   "cell_type": "markdown",
   "metadata": {},
   "source": [
    "Сервис по продаже автомобилей с пробегом «Не бит, не крашен» разрабатывает приложение для привлечения новых клиентов. В нём можно быстро узнать рыночную стоимость своего автомобиля. В вашем распоряжении исторические данные: технические характеристики, комплектации и цены автомобилей. Вам нужно построить модель для определения стоимости. \n",
    "\n",
    "Заказчику важны:\n",
    "\n",
    "- качество предсказания;\n",
    "- скорость предсказания;\n",
    "- время обучения."
   ]
  },
  {
   "cell_type": "markdown",
   "metadata": {},
   "source": [
    "## Описание данных"
   ]
  },
  {
   "cell_type": "markdown",
   "metadata": {},
   "source": [
    "**Признаки**\n",
    "\n",
    "- *DateCrawled* — дата скачивания анкеты из базы\n",
    "\n",
    "\n",
    "- *VehicleType* — тип автомобильного кузова\n",
    "\n",
    "\n",
    "- *RegistrationYear* — год регистрации автомобиля\n",
    "\n",
    "\n",
    "- *Gearbox* — тип коробки передач\n",
    "\n",
    "\n",
    "- *Power* — мощность (л. с.)\n",
    "\n",
    "\n",
    "- *Model* — модель автомобиля\n",
    "\n",
    "\n",
    "- *Kilometer* — пробег (км)\n",
    "\n",
    "\n",
    "- *RegistrationMonth* — месяц регистрации автомобиля\n",
    "\n",
    "\n",
    "- *FuelType* — тип топлива\n",
    "\n",
    "\n",
    "- *Brand* — марка автомобиля\n",
    "\n",
    "\n",
    "- *NotRepaired* — была машина в ремонте или нет\n",
    "\n",
    "\n",
    "- *DateCreated* — дата создания анкеты\n",
    "\n",
    "\n",
    "- *NumberOfPictures* — количество фотографий автомобиля\n",
    "\n",
    "\n",
    "- *PostalCode* — почтовый индекс владельца анкеты (пользователя)\n",
    "\n",
    "\n",
    "- *LastSeen* — дата последней активности пользователя\n",
    "\n",
    "\n",
    "**Целевой признак**\n",
    "\n",
    "- *Price* — цена (евро)"
   ]
  },
  {
   "cell_type": "markdown",
   "metadata": {},
   "source": [
    "## Подготовка данных"
   ]
  },
  {
   "cell_type": "markdown",
   "metadata": {},
   "source": [
    "Подключим нужные библиотеки, прочитаем файлы и посмотрим на их значения, размеры и типы данных."
   ]
  },
  {
   "cell_type": "code",
   "execution_count": 1,
   "metadata": {},
   "outputs": [
    {
     "name": "stdout",
     "output_type": "stream",
     "text": [
      "Defaulting to user installation because normal site-packages is not writeable\n",
      "Requirement already satisfied: lightgbm in /opt/conda/lib/python3.7/site-packages (2.3.1)\n",
      "Requirement already satisfied: scipy in /opt/conda/lib/python3.7/site-packages (from lightgbm) (1.4.1)\n",
      "Requirement already satisfied: scikit-learn in /opt/conda/lib/python3.7/site-packages (from lightgbm) (0.21.2)\n",
      "Requirement already satisfied: numpy in /opt/conda/lib/python3.7/site-packages (from lightgbm) (1.19.5)\n",
      "Requirement already satisfied: joblib>=0.11 in /opt/conda/lib/python3.7/site-packages (from scikit-learn->lightgbm) (1.0.1)\n"
     ]
    }
   ],
   "source": [
    "!pip install lightgbm\n",
    "\n",
    "import pandas as pd\n",
    "import numpy as np\n",
    "\n",
    "from sklearn.dummy import DummyRegressor\n",
    "from sklearn.linear_model import LinearRegression\n",
    "from sklearn.tree import DecisionTreeRegressor\n",
    "from sklearn.ensemble import RandomForestRegressor\n",
    "from lightgbm import LGBMRegressor\n",
    "\n",
    "\n",
    "from sklearn.feature_selection import RFE\n",
    "\n",
    "from sklearn.preprocessing import OrdinalEncoder\n",
    "from sklearn.preprocessing import StandardScaler\n",
    "pd.options.mode.chained_assignment = None\n",
    "\n",
    "from sklearn.model_selection import GridSearchCV\n",
    "from sklearn.metrics import make_scorer\n",
    "\n",
    "from sklearn.model_selection import train_test_split\n",
    "from sklearn.metrics import mean_squared_error\n",
    "from sklearn.utils import shuffle\n",
    "from scipy import stats as st\n",
    "from scipy.stats import levene\n",
    "\n",
    "\n",
    "from IPython.display import display\n",
    "pd.set_option('display.float_format', '{:.2f}'.format)\n",
    "import warnings\n",
    "warnings.filterwarnings('ignore')\n",
    "import matplotlib.pyplot as plt\n",
    "import seaborn as sns\n",
    "\n",
    "from datetime import datetime"
   ]
  },
  {
   "cell_type": "code",
   "execution_count": 2,
   "metadata": {},
   "outputs": [],
   "source": [
    "df = pd.read_csv('https://code.s3.yandex.net/datasets/autos.csv')"
   ]
  },
  {
   "cell_type": "code",
   "execution_count": 3,
   "metadata": {},
   "outputs": [
    {
     "name": "stdout",
     "output_type": "stream",
     "text": [
      "<class 'pandas.core.frame.DataFrame'>\n",
      "RangeIndex: 354369 entries, 0 to 354368\n",
      "Data columns (total 16 columns):\n",
      "DateCrawled          354369 non-null object\n",
      "Price                354369 non-null int64\n",
      "VehicleType          316879 non-null object\n",
      "RegistrationYear     354369 non-null int64\n",
      "Gearbox              334536 non-null object\n",
      "Power                354369 non-null int64\n",
      "Model                334664 non-null object\n",
      "Kilometer            354369 non-null int64\n",
      "RegistrationMonth    354369 non-null int64\n",
      "FuelType             321474 non-null object\n",
      "Brand                354369 non-null object\n",
      "NotRepaired          283215 non-null object\n",
      "DateCreated          354369 non-null object\n",
      "NumberOfPictures     354369 non-null int64\n",
      "PostalCode           354369 non-null int64\n",
      "LastSeen             354369 non-null object\n",
      "dtypes: int64(7), object(9)\n",
      "memory usage: 43.3+ MB\n"
     ]
    },
    {
     "data": {
      "text/html": [
       "<div>\n",
       "<style scoped>\n",
       "    .dataframe tbody tr th:only-of-type {\n",
       "        vertical-align: middle;\n",
       "    }\n",
       "\n",
       "    .dataframe tbody tr th {\n",
       "        vertical-align: top;\n",
       "    }\n",
       "\n",
       "    .dataframe thead th {\n",
       "        text-align: right;\n",
       "    }\n",
       "</style>\n",
       "<table border=\"1\" class=\"dataframe\">\n",
       "  <thead>\n",
       "    <tr style=\"text-align: right;\">\n",
       "      <th></th>\n",
       "      <th>DateCrawled</th>\n",
       "      <th>Price</th>\n",
       "      <th>VehicleType</th>\n",
       "      <th>RegistrationYear</th>\n",
       "      <th>Gearbox</th>\n",
       "      <th>Power</th>\n",
       "      <th>Model</th>\n",
       "      <th>Kilometer</th>\n",
       "      <th>RegistrationMonth</th>\n",
       "      <th>FuelType</th>\n",
       "      <th>Brand</th>\n",
       "      <th>NotRepaired</th>\n",
       "      <th>DateCreated</th>\n",
       "      <th>NumberOfPictures</th>\n",
       "      <th>PostalCode</th>\n",
       "      <th>LastSeen</th>\n",
       "    </tr>\n",
       "  </thead>\n",
       "  <tbody>\n",
       "    <tr>\n",
       "      <td>0</td>\n",
       "      <td>2016-03-24 11:52:17</td>\n",
       "      <td>480</td>\n",
       "      <td>NaN</td>\n",
       "      <td>1993</td>\n",
       "      <td>manual</td>\n",
       "      <td>0</td>\n",
       "      <td>golf</td>\n",
       "      <td>150000</td>\n",
       "      <td>0</td>\n",
       "      <td>petrol</td>\n",
       "      <td>volkswagen</td>\n",
       "      <td>NaN</td>\n",
       "      <td>2016-03-24 00:00:00</td>\n",
       "      <td>0</td>\n",
       "      <td>70435</td>\n",
       "      <td>2016-04-07 03:16:57</td>\n",
       "    </tr>\n",
       "    <tr>\n",
       "      <td>1</td>\n",
       "      <td>2016-03-24 10:58:45</td>\n",
       "      <td>18300</td>\n",
       "      <td>coupe</td>\n",
       "      <td>2011</td>\n",
       "      <td>manual</td>\n",
       "      <td>190</td>\n",
       "      <td>NaN</td>\n",
       "      <td>125000</td>\n",
       "      <td>5</td>\n",
       "      <td>gasoline</td>\n",
       "      <td>audi</td>\n",
       "      <td>yes</td>\n",
       "      <td>2016-03-24 00:00:00</td>\n",
       "      <td>0</td>\n",
       "      <td>66954</td>\n",
       "      <td>2016-04-07 01:46:50</td>\n",
       "    </tr>\n",
       "    <tr>\n",
       "      <td>2</td>\n",
       "      <td>2016-03-14 12:52:21</td>\n",
       "      <td>9800</td>\n",
       "      <td>suv</td>\n",
       "      <td>2004</td>\n",
       "      <td>auto</td>\n",
       "      <td>163</td>\n",
       "      <td>grand</td>\n",
       "      <td>125000</td>\n",
       "      <td>8</td>\n",
       "      <td>gasoline</td>\n",
       "      <td>jeep</td>\n",
       "      <td>NaN</td>\n",
       "      <td>2016-03-14 00:00:00</td>\n",
       "      <td>0</td>\n",
       "      <td>90480</td>\n",
       "      <td>2016-04-05 12:47:46</td>\n",
       "    </tr>\n",
       "    <tr>\n",
       "      <td>3</td>\n",
       "      <td>2016-03-17 16:54:04</td>\n",
       "      <td>1500</td>\n",
       "      <td>small</td>\n",
       "      <td>2001</td>\n",
       "      <td>manual</td>\n",
       "      <td>75</td>\n",
       "      <td>golf</td>\n",
       "      <td>150000</td>\n",
       "      <td>6</td>\n",
       "      <td>petrol</td>\n",
       "      <td>volkswagen</td>\n",
       "      <td>no</td>\n",
       "      <td>2016-03-17 00:00:00</td>\n",
       "      <td>0</td>\n",
       "      <td>91074</td>\n",
       "      <td>2016-03-17 17:40:17</td>\n",
       "    </tr>\n",
       "    <tr>\n",
       "      <td>4</td>\n",
       "      <td>2016-03-31 17:25:20</td>\n",
       "      <td>3600</td>\n",
       "      <td>small</td>\n",
       "      <td>2008</td>\n",
       "      <td>manual</td>\n",
       "      <td>69</td>\n",
       "      <td>fabia</td>\n",
       "      <td>90000</td>\n",
       "      <td>7</td>\n",
       "      <td>gasoline</td>\n",
       "      <td>skoda</td>\n",
       "      <td>no</td>\n",
       "      <td>2016-03-31 00:00:00</td>\n",
       "      <td>0</td>\n",
       "      <td>60437</td>\n",
       "      <td>2016-04-06 10:17:21</td>\n",
       "    </tr>\n",
       "  </tbody>\n",
       "</table>\n",
       "</div>"
      ],
      "text/plain": [
       "           DateCrawled  Price VehicleType  RegistrationYear Gearbox  Power  \\\n",
       "0  2016-03-24 11:52:17    480         NaN              1993  manual      0   \n",
       "1  2016-03-24 10:58:45  18300       coupe              2011  manual    190   \n",
       "2  2016-03-14 12:52:21   9800         suv              2004    auto    163   \n",
       "3  2016-03-17 16:54:04   1500       small              2001  manual     75   \n",
       "4  2016-03-31 17:25:20   3600       small              2008  manual     69   \n",
       "\n",
       "   Model  Kilometer  RegistrationMonth  FuelType       Brand NotRepaired  \\\n",
       "0   golf     150000                  0    petrol  volkswagen         NaN   \n",
       "1    NaN     125000                  5  gasoline        audi         yes   \n",
       "2  grand     125000                  8  gasoline        jeep         NaN   \n",
       "3   golf     150000                  6    petrol  volkswagen          no   \n",
       "4  fabia      90000                  7  gasoline       skoda          no   \n",
       "\n",
       "           DateCreated  NumberOfPictures  PostalCode             LastSeen  \n",
       "0  2016-03-24 00:00:00                 0       70435  2016-04-07 03:16:57  \n",
       "1  2016-03-24 00:00:00                 0       66954  2016-04-07 01:46:50  \n",
       "2  2016-03-14 00:00:00                 0       90480  2016-04-05 12:47:46  \n",
       "3  2016-03-17 00:00:00                 0       91074  2016-03-17 17:40:17  \n",
       "4  2016-03-31 00:00:00                 0       60437  2016-04-06 10:17:21  "
      ]
     },
     "metadata": {},
     "output_type": "display_data"
    }
   ],
   "source": [
    "df.info()\n",
    "display(df.head(5))"
   ]
  },
  {
   "cell_type": "markdown",
   "metadata": {},
   "source": [
    "- Столбцы DateCrawled, DateCreated, PostalCode, LastSeen считаю не влияющими. Удаляем.\n",
    "\n",
    "\n",
    "- Много пропусков в колонке NotRepaired — была машина в ремонте или нет. Заменим на \"unknown\". Однако, для достижения более точного результата, **стоит поговорить с заказчиком и разработчиками**: может, информация по пропускам есть.\n",
    "\n",
    "\n",
    "- Также немало пропусков в VehicleType, FuelType, Gearbox, Model. Причем количество пропусков в Gearbox и Model очень схоже. Посмотрим подробнее эти пропуски.\n",
    "\n",
    "\n",
    "- Посмотреть нули и артефакты в каждом признаке (построить гистограммы).\n",
    "\n",
    "\n",
    "- Посмотреть уникальные значения. Например, в типе топлива возникает вопрос: petrol и gasoline - это один и тот же тип или всё таки их стоит различать?"
   ]
  },
  {
   "cell_type": "code",
   "execution_count": 4,
   "metadata": {},
   "outputs": [
    {
     "name": "stdout",
     "output_type": "stream",
     "text": [
      "Число дубликатов в обучающей выборке: 4\n"
     ]
    }
   ],
   "source": [
    "print('Число дубликатов в обучающей выборке:', df.duplicated().sum())\n",
    "df = df.drop_duplicates().reset_index(drop\n",
    "= True)"
   ]
  },
  {
   "cell_type": "markdown",
   "metadata": {},
   "source": [
    "Посмотрим на последний год активности"
   ]
  },
  {
   "cell_type": "code",
   "execution_count": 5,
   "metadata": {},
   "outputs": [
    {
     "data": {
      "text/plain": [
       "'2016-04-07 14:58:51'"
      ]
     },
     "execution_count": 5,
     "metadata": {},
     "output_type": "execute_result"
    }
   ],
   "source": [
    "df['LastSeen'].max()"
   ]
  },
  {
   "cell_type": "markdown",
   "metadata": {},
   "source": [
    "Всё, что выше этой даты, - точно артефакты, которые стоит удалить."
   ]
  },
  {
   "cell_type": "code",
   "execution_count": 6,
   "metadata": {},
   "outputs": [],
   "source": [
    "df = df[df['LastSeen'] < '2016-04-07 14:58:51']"
   ]
  },
  {
   "cell_type": "code",
   "execution_count": 7,
   "metadata": {},
   "outputs": [],
   "source": [
    "df.drop(columns=['DateCrawled', 'DateCreated', 'PostalCode', 'LastSeen'], inplace=True)"
   ]
  },
  {
   "cell_type": "code",
   "execution_count": 8,
   "metadata": {},
   "outputs": [
    {
     "name": "stdout",
     "output_type": "stream",
     "text": [
      "<class 'pandas.core.frame.DataFrame'>\n",
      "Int64Index: 2392 entries, 306 to 354361\n",
      "Data columns (total 12 columns):\n",
      "Price                2392 non-null int64\n",
      "VehicleType          0 non-null object\n",
      "RegistrationYear     2392 non-null int64\n",
      "Gearbox              0 non-null object\n",
      "Power                2392 non-null int64\n",
      "Model                0 non-null object\n",
      "Kilometer            2392 non-null int64\n",
      "RegistrationMonth    2392 non-null int64\n",
      "FuelType             0 non-null object\n",
      "Brand                2392 non-null object\n",
      "NotRepaired          155 non-null object\n",
      "NumberOfPictures     2392 non-null int64\n",
      "dtypes: int64(6), object(6)\n",
      "memory usage: 242.9+ KB\n"
     ]
    },
    {
     "data": {
      "text/html": [
       "<div>\n",
       "<style scoped>\n",
       "    .dataframe tbody tr th:only-of-type {\n",
       "        vertical-align: middle;\n",
       "    }\n",
       "\n",
       "    .dataframe tbody tr th {\n",
       "        vertical-align: top;\n",
       "    }\n",
       "\n",
       "    .dataframe thead th {\n",
       "        text-align: right;\n",
       "    }\n",
       "</style>\n",
       "<table border=\"1\" class=\"dataframe\">\n",
       "  <thead>\n",
       "    <tr style=\"text-align: right;\">\n",
       "      <th></th>\n",
       "      <th>Price</th>\n",
       "      <th>VehicleType</th>\n",
       "      <th>RegistrationYear</th>\n",
       "      <th>Gearbox</th>\n",
       "      <th>Power</th>\n",
       "      <th>Model</th>\n",
       "      <th>Kilometer</th>\n",
       "      <th>RegistrationMonth</th>\n",
       "      <th>FuelType</th>\n",
       "      <th>Brand</th>\n",
       "      <th>NotRepaired</th>\n",
       "      <th>NumberOfPictures</th>\n",
       "    </tr>\n",
       "  </thead>\n",
       "  <tbody>\n",
       "    <tr>\n",
       "      <td>306</td>\n",
       "      <td>200</td>\n",
       "      <td>NaN</td>\n",
       "      <td>2009</td>\n",
       "      <td>NaN</td>\n",
       "      <td>0</td>\n",
       "      <td>NaN</td>\n",
       "      <td>10000</td>\n",
       "      <td>0</td>\n",
       "      <td>NaN</td>\n",
       "      <td>sonstige_autos</td>\n",
       "      <td>NaN</td>\n",
       "      <td>0</td>\n",
       "    </tr>\n",
       "    <tr>\n",
       "      <td>522</td>\n",
       "      <td>0</td>\n",
       "      <td>NaN</td>\n",
       "      <td>2000</td>\n",
       "      <td>NaN</td>\n",
       "      <td>0</td>\n",
       "      <td>NaN</td>\n",
       "      <td>150000</td>\n",
       "      <td>0</td>\n",
       "      <td>NaN</td>\n",
       "      <td>volvo</td>\n",
       "      <td>NaN</td>\n",
       "      <td>0</td>\n",
       "    </tr>\n",
       "    <tr>\n",
       "      <td>538</td>\n",
       "      <td>2600</td>\n",
       "      <td>NaN</td>\n",
       "      <td>2005</td>\n",
       "      <td>NaN</td>\n",
       "      <td>0</td>\n",
       "      <td>NaN</td>\n",
       "      <td>125000</td>\n",
       "      <td>0</td>\n",
       "      <td>NaN</td>\n",
       "      <td>chevrolet</td>\n",
       "      <td>NaN</td>\n",
       "      <td>0</td>\n",
       "    </tr>\n",
       "    <tr>\n",
       "      <td>552</td>\n",
       "      <td>50</td>\n",
       "      <td>NaN</td>\n",
       "      <td>1985</td>\n",
       "      <td>NaN</td>\n",
       "      <td>0</td>\n",
       "      <td>NaN</td>\n",
       "      <td>150000</td>\n",
       "      <td>11</td>\n",
       "      <td>NaN</td>\n",
       "      <td>trabant</td>\n",
       "      <td>NaN</td>\n",
       "      <td>0</td>\n",
       "    </tr>\n",
       "    <tr>\n",
       "      <td>622</td>\n",
       "      <td>0</td>\n",
       "      <td>NaN</td>\n",
       "      <td>1111</td>\n",
       "      <td>NaN</td>\n",
       "      <td>0</td>\n",
       "      <td>NaN</td>\n",
       "      <td>5000</td>\n",
       "      <td>0</td>\n",
       "      <td>NaN</td>\n",
       "      <td>opel</td>\n",
       "      <td>NaN</td>\n",
       "      <td>0</td>\n",
       "    </tr>\n",
       "    <tr>\n",
       "      <td>...</td>\n",
       "      <td>...</td>\n",
       "      <td>...</td>\n",
       "      <td>...</td>\n",
       "      <td>...</td>\n",
       "      <td>...</td>\n",
       "      <td>...</td>\n",
       "      <td>...</td>\n",
       "      <td>...</td>\n",
       "      <td>...</td>\n",
       "      <td>...</td>\n",
       "      <td>...</td>\n",
       "      <td>...</td>\n",
       "    </tr>\n",
       "    <tr>\n",
       "      <td>353723</td>\n",
       "      <td>1</td>\n",
       "      <td>NaN</td>\n",
       "      <td>2000</td>\n",
       "      <td>NaN</td>\n",
       "      <td>0</td>\n",
       "      <td>NaN</td>\n",
       "      <td>150000</td>\n",
       "      <td>0</td>\n",
       "      <td>NaN</td>\n",
       "      <td>bmw</td>\n",
       "      <td>NaN</td>\n",
       "      <td>0</td>\n",
       "    </tr>\n",
       "    <tr>\n",
       "      <td>354069</td>\n",
       "      <td>1750</td>\n",
       "      <td>NaN</td>\n",
       "      <td>1995</td>\n",
       "      <td>NaN</td>\n",
       "      <td>0</td>\n",
       "      <td>NaN</td>\n",
       "      <td>100000</td>\n",
       "      <td>12</td>\n",
       "      <td>NaN</td>\n",
       "      <td>sonstige_autos</td>\n",
       "      <td>NaN</td>\n",
       "      <td>0</td>\n",
       "    </tr>\n",
       "    <tr>\n",
       "      <td>354079</td>\n",
       "      <td>0</td>\n",
       "      <td>NaN</td>\n",
       "      <td>2000</td>\n",
       "      <td>NaN</td>\n",
       "      <td>0</td>\n",
       "      <td>NaN</td>\n",
       "      <td>150000</td>\n",
       "      <td>0</td>\n",
       "      <td>NaN</td>\n",
       "      <td>sonstige_autos</td>\n",
       "      <td>NaN</td>\n",
       "      <td>0</td>\n",
       "    </tr>\n",
       "    <tr>\n",
       "      <td>354158</td>\n",
       "      <td>1500</td>\n",
       "      <td>NaN</td>\n",
       "      <td>1995</td>\n",
       "      <td>NaN</td>\n",
       "      <td>0</td>\n",
       "      <td>NaN</td>\n",
       "      <td>150000</td>\n",
       "      <td>0</td>\n",
       "      <td>NaN</td>\n",
       "      <td>volkswagen</td>\n",
       "      <td>NaN</td>\n",
       "      <td>0</td>\n",
       "    </tr>\n",
       "    <tr>\n",
       "      <td>354361</td>\n",
       "      <td>2200</td>\n",
       "      <td>NaN</td>\n",
       "      <td>2005</td>\n",
       "      <td>NaN</td>\n",
       "      <td>0</td>\n",
       "      <td>NaN</td>\n",
       "      <td>20000</td>\n",
       "      <td>1</td>\n",
       "      <td>NaN</td>\n",
       "      <td>sonstige_autos</td>\n",
       "      <td>NaN</td>\n",
       "      <td>0</td>\n",
       "    </tr>\n",
       "  </tbody>\n",
       "</table>\n",
       "<p>2392 rows × 12 columns</p>\n",
       "</div>"
      ],
      "text/plain": [
       "        Price VehicleType  RegistrationYear Gearbox  Power Model  Kilometer  \\\n",
       "306       200         NaN              2009     NaN      0   NaN      10000   \n",
       "522         0         NaN              2000     NaN      0   NaN     150000   \n",
       "538      2600         NaN              2005     NaN      0   NaN     125000   \n",
       "552        50         NaN              1985     NaN      0   NaN     150000   \n",
       "622         0         NaN              1111     NaN      0   NaN       5000   \n",
       "...       ...         ...               ...     ...    ...   ...        ...   \n",
       "353723      1         NaN              2000     NaN      0   NaN     150000   \n",
       "354069   1750         NaN              1995     NaN      0   NaN     100000   \n",
       "354079      0         NaN              2000     NaN      0   NaN     150000   \n",
       "354158   1500         NaN              1995     NaN      0   NaN     150000   \n",
       "354361   2200         NaN              2005     NaN      0   NaN      20000   \n",
       "\n",
       "        RegistrationMonth FuelType           Brand NotRepaired  \\\n",
       "306                     0      NaN  sonstige_autos         NaN   \n",
       "522                     0      NaN           volvo         NaN   \n",
       "538                     0      NaN       chevrolet         NaN   \n",
       "552                    11      NaN         trabant         NaN   \n",
       "622                     0      NaN            opel         NaN   \n",
       "...                   ...      ...             ...         ...   \n",
       "353723                  0      NaN             bmw         NaN   \n",
       "354069                 12      NaN  sonstige_autos         NaN   \n",
       "354079                  0      NaN  sonstige_autos         NaN   \n",
       "354158                  0      NaN      volkswagen         NaN   \n",
       "354361                  1      NaN  sonstige_autos         NaN   \n",
       "\n",
       "        NumberOfPictures  \n",
       "306                    0  \n",
       "522                    0  \n",
       "538                    0  \n",
       "552                    0  \n",
       "622                    0  \n",
       "...                  ...  \n",
       "353723                 0  \n",
       "354069                 0  \n",
       "354079                 0  \n",
       "354158                 0  \n",
       "354361                 0  \n",
       "\n",
       "[2392 rows x 12 columns]"
      ]
     },
     "metadata": {},
     "output_type": "display_data"
    }
   ],
   "source": [
    "df[(df['Gearbox'].isna()) & (df['Model'].isna()) & (df['VehicleType'].isna()) & (df['FuelType'].isna())].info()\n",
    "display(df[(df['Gearbox'].isna()) & (df['Model'].isna()) & (df['VehicleType'].isna()) & (df['FuelType'].isna())])"
   ]
  },
  {
   "cell_type": "markdown",
   "metadata": {},
   "source": [
    "Получили 2392 автомобиля с пропусками во всех четырёх рассматриваемых позициях. Беглый взгляд показал, что это не единственные проблемы с этими объектами: у них нет фото, нули в месяце регистрации и мощности, нет указания на то, была ли машина в ремонте, странные цены. Предлагаю их полностью удалить из рассмотрения."
   ]
  },
  {
   "cell_type": "code",
   "execution_count": 9,
   "metadata": {},
   "outputs": [
    {
     "name": "stdout",
     "output_type": "stream",
     "text": [
      "Int64Index([   306,    522,    538,    552,    622,   1331,   1345,   1374,\n",
      "              1396,   1459,\n",
      "            ...\n",
      "            352926, 352985, 353100, 353298, 353580, 353723, 354069, 354079,\n",
      "            354158, 354361],\n",
      "           dtype='int64', length=2392)\n"
     ]
    }
   ],
   "source": [
    "bad_objects_index = df[(df['Gearbox'].isna()) & (df['Model'].isna()) & (df['VehicleType'].isna()) & (df['FuelType'].isna())].index\n",
    "print(bad_objects_index)"
   ]
  },
  {
   "cell_type": "code",
   "execution_count": 10,
   "metadata": {},
   "outputs": [
    {
     "data": {
      "text/html": [
       "<div>\n",
       "<style scoped>\n",
       "    .dataframe tbody tr th:only-of-type {\n",
       "        vertical-align: middle;\n",
       "    }\n",
       "\n",
       "    .dataframe tbody tr th {\n",
       "        vertical-align: top;\n",
       "    }\n",
       "\n",
       "    .dataframe thead th {\n",
       "        text-align: right;\n",
       "    }\n",
       "</style>\n",
       "<table border=\"1\" class=\"dataframe\">\n",
       "  <thead>\n",
       "    <tr style=\"text-align: right;\">\n",
       "      <th></th>\n",
       "      <th>Price</th>\n",
       "      <th>VehicleType</th>\n",
       "      <th>RegistrationYear</th>\n",
       "      <th>Gearbox</th>\n",
       "      <th>Power</th>\n",
       "      <th>Model</th>\n",
       "      <th>Kilometer</th>\n",
       "      <th>RegistrationMonth</th>\n",
       "      <th>FuelType</th>\n",
       "      <th>Brand</th>\n",
       "      <th>NotRepaired</th>\n",
       "      <th>NumberOfPictures</th>\n",
       "    </tr>\n",
       "  </thead>\n",
       "  <tbody>\n",
       "    <tr>\n",
       "      <td>0</td>\n",
       "      <td>480</td>\n",
       "      <td>NaN</td>\n",
       "      <td>1993</td>\n",
       "      <td>manual</td>\n",
       "      <td>0</td>\n",
       "      <td>golf</td>\n",
       "      <td>150000</td>\n",
       "      <td>0</td>\n",
       "      <td>petrol</td>\n",
       "      <td>volkswagen</td>\n",
       "      <td>NaN</td>\n",
       "      <td>0</td>\n",
       "    </tr>\n",
       "    <tr>\n",
       "      <td>1</td>\n",
       "      <td>18300</td>\n",
       "      <td>coupe</td>\n",
       "      <td>2011</td>\n",
       "      <td>manual</td>\n",
       "      <td>190</td>\n",
       "      <td>NaN</td>\n",
       "      <td>125000</td>\n",
       "      <td>5</td>\n",
       "      <td>gasoline</td>\n",
       "      <td>audi</td>\n",
       "      <td>yes</td>\n",
       "      <td>0</td>\n",
       "    </tr>\n",
       "    <tr>\n",
       "      <td>2</td>\n",
       "      <td>9800</td>\n",
       "      <td>suv</td>\n",
       "      <td>2004</td>\n",
       "      <td>auto</td>\n",
       "      <td>163</td>\n",
       "      <td>grand</td>\n",
       "      <td>125000</td>\n",
       "      <td>8</td>\n",
       "      <td>gasoline</td>\n",
       "      <td>jeep</td>\n",
       "      <td>NaN</td>\n",
       "      <td>0</td>\n",
       "    </tr>\n",
       "    <tr>\n",
       "      <td>3</td>\n",
       "      <td>1500</td>\n",
       "      <td>small</td>\n",
       "      <td>2001</td>\n",
       "      <td>manual</td>\n",
       "      <td>75</td>\n",
       "      <td>golf</td>\n",
       "      <td>150000</td>\n",
       "      <td>6</td>\n",
       "      <td>petrol</td>\n",
       "      <td>volkswagen</td>\n",
       "      <td>no</td>\n",
       "      <td>0</td>\n",
       "    </tr>\n",
       "    <tr>\n",
       "      <td>4</td>\n",
       "      <td>3600</td>\n",
       "      <td>small</td>\n",
       "      <td>2008</td>\n",
       "      <td>manual</td>\n",
       "      <td>69</td>\n",
       "      <td>fabia</td>\n",
       "      <td>90000</td>\n",
       "      <td>7</td>\n",
       "      <td>gasoline</td>\n",
       "      <td>skoda</td>\n",
       "      <td>no</td>\n",
       "      <td>0</td>\n",
       "    </tr>\n",
       "    <tr>\n",
       "      <td>...</td>\n",
       "      <td>...</td>\n",
       "      <td>...</td>\n",
       "      <td>...</td>\n",
       "      <td>...</td>\n",
       "      <td>...</td>\n",
       "      <td>...</td>\n",
       "      <td>...</td>\n",
       "      <td>...</td>\n",
       "      <td>...</td>\n",
       "      <td>...</td>\n",
       "      <td>...</td>\n",
       "      <td>...</td>\n",
       "    </tr>\n",
       "    <tr>\n",
       "      <td>351967</td>\n",
       "      <td>1150</td>\n",
       "      <td>bus</td>\n",
       "      <td>2000</td>\n",
       "      <td>manual</td>\n",
       "      <td>0</td>\n",
       "      <td>zafira</td>\n",
       "      <td>150000</td>\n",
       "      <td>3</td>\n",
       "      <td>petrol</td>\n",
       "      <td>opel</td>\n",
       "      <td>no</td>\n",
       "      <td>0</td>\n",
       "    </tr>\n",
       "    <tr>\n",
       "      <td>351968</td>\n",
       "      <td>0</td>\n",
       "      <td>NaN</td>\n",
       "      <td>2005</td>\n",
       "      <td>manual</td>\n",
       "      <td>0</td>\n",
       "      <td>colt</td>\n",
       "      <td>150000</td>\n",
       "      <td>7</td>\n",
       "      <td>petrol</td>\n",
       "      <td>mitsubishi</td>\n",
       "      <td>yes</td>\n",
       "      <td>0</td>\n",
       "    </tr>\n",
       "    <tr>\n",
       "      <td>351969</td>\n",
       "      <td>1199</td>\n",
       "      <td>convertible</td>\n",
       "      <td>2000</td>\n",
       "      <td>auto</td>\n",
       "      <td>101</td>\n",
       "      <td>fortwo</td>\n",
       "      <td>125000</td>\n",
       "      <td>3</td>\n",
       "      <td>petrol</td>\n",
       "      <td>smart</td>\n",
       "      <td>no</td>\n",
       "      <td>0</td>\n",
       "    </tr>\n",
       "    <tr>\n",
       "      <td>351970</td>\n",
       "      <td>9200</td>\n",
       "      <td>bus</td>\n",
       "      <td>1996</td>\n",
       "      <td>manual</td>\n",
       "      <td>102</td>\n",
       "      <td>transporter</td>\n",
       "      <td>150000</td>\n",
       "      <td>3</td>\n",
       "      <td>gasoline</td>\n",
       "      <td>volkswagen</td>\n",
       "      <td>no</td>\n",
       "      <td>0</td>\n",
       "    </tr>\n",
       "    <tr>\n",
       "      <td>351971</td>\n",
       "      <td>3400</td>\n",
       "      <td>wagon</td>\n",
       "      <td>2002</td>\n",
       "      <td>manual</td>\n",
       "      <td>100</td>\n",
       "      <td>golf</td>\n",
       "      <td>150000</td>\n",
       "      <td>6</td>\n",
       "      <td>gasoline</td>\n",
       "      <td>volkswagen</td>\n",
       "      <td>NaN</td>\n",
       "      <td>0</td>\n",
       "    </tr>\n",
       "  </tbody>\n",
       "</table>\n",
       "<p>351972 rows × 12 columns</p>\n",
       "</div>"
      ],
      "text/plain": [
       "        Price  VehicleType  RegistrationYear Gearbox  Power        Model  \\\n",
       "0         480          NaN              1993  manual      0         golf   \n",
       "1       18300        coupe              2011  manual    190          NaN   \n",
       "2        9800          suv              2004    auto    163        grand   \n",
       "3        1500        small              2001  manual     75         golf   \n",
       "4        3600        small              2008  manual     69        fabia   \n",
       "...       ...          ...               ...     ...    ...          ...   \n",
       "351967   1150          bus              2000  manual      0       zafira   \n",
       "351968      0          NaN              2005  manual      0         colt   \n",
       "351969   1199  convertible              2000    auto    101       fortwo   \n",
       "351970   9200          bus              1996  manual    102  transporter   \n",
       "351971   3400        wagon              2002  manual    100         golf   \n",
       "\n",
       "        Kilometer  RegistrationMonth  FuelType       Brand NotRepaired  \\\n",
       "0          150000                  0    petrol  volkswagen         NaN   \n",
       "1          125000                  5  gasoline        audi         yes   \n",
       "2          125000                  8  gasoline        jeep         NaN   \n",
       "3          150000                  6    petrol  volkswagen          no   \n",
       "4           90000                  7  gasoline       skoda          no   \n",
       "...           ...                ...       ...         ...         ...   \n",
       "351967     150000                  3    petrol        opel          no   \n",
       "351968     150000                  7    petrol  mitsubishi         yes   \n",
       "351969     125000                  3    petrol       smart          no   \n",
       "351970     150000                  3  gasoline  volkswagen          no   \n",
       "351971     150000                  6  gasoline  volkswagen         NaN   \n",
       "\n",
       "        NumberOfPictures  \n",
       "0                      0  \n",
       "1                      0  \n",
       "2                      0  \n",
       "3                      0  \n",
       "4                      0  \n",
       "...                  ...  \n",
       "351967                 0  \n",
       "351968                 0  \n",
       "351969                 0  \n",
       "351970                 0  \n",
       "351971                 0  \n",
       "\n",
       "[351972 rows x 12 columns]"
      ]
     },
     "metadata": {},
     "output_type": "display_data"
    }
   ],
   "source": [
    "df.drop(bad_objects_index, inplace=True)\n",
    "df.reset_index(drop=True, inplace=True)\n",
    "display(df)"
   ]
  },
  {
   "cell_type": "code",
   "execution_count": 11,
   "metadata": {
    "scrolled": true
   },
   "outputs": [
    {
     "name": "stdout",
     "output_type": "stream",
     "text": [
      "<class 'pandas.core.frame.DataFrame'>\n",
      "RangeIndex: 351972 entries, 0 to 351971\n",
      "Data columns (total 12 columns):\n",
      "Price                351972 non-null int64\n",
      "VehicleType          316874 non-null object\n",
      "RegistrationYear     351972 non-null int64\n",
      "Gearbox              334531 non-null object\n",
      "Power                351972 non-null int64\n",
      "Model                334659 non-null object\n",
      "Kilometer            351972 non-null int64\n",
      "RegistrationMonth    351972 non-null int64\n",
      "FuelType             321469 non-null object\n",
      "Brand                351972 non-null object\n",
      "NotRepaired          283055 non-null object\n",
      "NumberOfPictures     351972 non-null int64\n",
      "dtypes: int64(6), object(6)\n",
      "memory usage: 32.2+ MB\n"
     ]
    }
   ],
   "source": [
    "df.info()"
   ]
  },
  {
   "cell_type": "markdown",
   "metadata": {},
   "source": [
    "Посмотрим уникальные значения категориальных признаков."
   ]
  },
  {
   "cell_type": "code",
   "execution_count": 12,
   "metadata": {},
   "outputs": [
    {
     "data": {
      "text/plain": [
       "array(['manual', 'auto', nan], dtype=object)"
      ]
     },
     "execution_count": 12,
     "metadata": {},
     "output_type": "execute_result"
    }
   ],
   "source": [
    "df['Gearbox'].unique()"
   ]
  },
  {
   "cell_type": "code",
   "execution_count": 13,
   "metadata": {},
   "outputs": [
    {
     "data": {
      "text/plain": [
       "array([nan, 'coupe', 'suv', 'small', 'sedan', 'convertible', 'bus',\n",
       "       'wagon', 'other'], dtype=object)"
      ]
     },
     "execution_count": 13,
     "metadata": {},
     "output_type": "execute_result"
    }
   ],
   "source": [
    "df['VehicleType'].unique()"
   ]
  },
  {
   "cell_type": "code",
   "execution_count": 14,
   "metadata": {},
   "outputs": [
    {
     "data": {
      "text/plain": [
       "array(['petrol', 'gasoline', nan, 'lpg', 'other', 'hybrid', 'cng',\n",
       "       'electric'], dtype=object)"
      ]
     },
     "execution_count": 14,
     "metadata": {},
     "output_type": "execute_result"
    }
   ],
   "source": [
    "df['FuelType'].unique()"
   ]
  },
  {
   "cell_type": "code",
   "execution_count": 15,
   "metadata": {},
   "outputs": [
    {
     "data": {
      "text/plain": [
       "array([nan, 'yes', 'no'], dtype=object)"
      ]
     },
     "execution_count": 15,
     "metadata": {},
     "output_type": "execute_result"
    }
   ],
   "source": [
    "df['NotRepaired'].unique()"
   ]
  },
  {
   "cell_type": "code",
   "execution_count": 16,
   "metadata": {},
   "outputs": [
    {
     "data": {
      "text/plain": [
       "array([0])"
      ]
     },
     "execution_count": 16,
     "metadata": {},
     "output_type": "execute_result"
    }
   ],
   "source": [
    "df['NumberOfPictures'].unique()"
   ]
  },
  {
   "cell_type": "markdown",
   "metadata": {},
   "source": [
    "- Поиск в интернете показал, что petrol и gasoline не стоит различать, как разные виды топлива. Переименуем gasoline в petrol. Пропуски заменим на unknown.\n",
    "\n",
    "\n",
    "- Фото нет ни у одного объекта. Удаляем этот признак."
   ]
  },
  {
   "cell_type": "code",
   "execution_count": 17,
   "metadata": {},
   "outputs": [],
   "source": [
    "df.drop(columns=['NumberOfPictures'], inplace=True)\n",
    "df['NotRepaired'] = df['NotRepaired'].fillna('unknown')\n",
    "df['Gearbox'] = df['Gearbox'].fillna('unknown')\n",
    "df['VehicleType'] = df['VehicleType'].fillna('unknown')\n",
    "df['FuelType'] = df['FuelType'].fillna('unknown')\n",
    "df['FuelType'] = df['FuelType'].replace('gasoline', 'petrol')\n",
    "df['Model'] = df['Model'].fillna('unknown')"
   ]
  },
  {
   "cell_type": "code",
   "execution_count": 18,
   "metadata": {},
   "outputs": [
    {
     "name": "stdout",
     "output_type": "stream",
     "text": [
      "<class 'pandas.core.frame.DataFrame'>\n",
      "RangeIndex: 351972 entries, 0 to 351971\n",
      "Data columns (total 11 columns):\n",
      "Price                351972 non-null int64\n",
      "VehicleType          351972 non-null object\n",
      "RegistrationYear     351972 non-null int64\n",
      "Gearbox              351972 non-null object\n",
      "Power                351972 non-null int64\n",
      "Model                351972 non-null object\n",
      "Kilometer            351972 non-null int64\n",
      "RegistrationMonth    351972 non-null int64\n",
      "FuelType             351972 non-null object\n",
      "Brand                351972 non-null object\n",
      "NotRepaired          351972 non-null object\n",
      "dtypes: int64(5), object(6)\n",
      "memory usage: 29.5+ MB\n"
     ]
    }
   ],
   "source": [
    "df.info()"
   ]
  },
  {
   "cell_type": "markdown",
   "metadata": {},
   "source": [
    "### Анализ численных признаков"
   ]
  },
  {
   "cell_type": "markdown",
   "metadata": {},
   "source": [
    "Построим гистограммы признаков. К численным пока припишем и целевой. Это на время исследования выбросов, так удобнее."
   ]
  },
  {
   "cell_type": "code",
   "execution_count": 19,
   "metadata": {},
   "outputs": [],
   "source": [
    "numeric = ['RegistrationYear', 'Power', 'Kilometer', 'Price']\n",
    "title_xlabel_of_numeric = ['Год регистрации', 'Лошадиные силы', 'Пробег(км)', 'Цена (евро)']"
   ]
  },
  {
   "cell_type": "code",
   "execution_count": 20,
   "metadata": {},
   "outputs": [
    {
     "data": {
      "image/png": "[encoded data removed]",
      "text/plain": [
       "<Figure size 1008x1440 with 8 Axes>"
      ]
     },
     "metadata": {
      "needs_background": "light"
     },
     "output_type": "display_data"
    }
   ],
   "source": [
    "fig, axes = plt.subplots(len(numeric), 2, figsize=(14,20))\n",
    "for i in range(len(numeric)):\n",
    "    df[numeric[i]].hist(bins=10, density=True,figure=fig, ax=axes[i][0]).set_title(title_xlabel_of_numeric[i])\n",
    "    df.boxplot(column=numeric[i], ax=axes[i][1]).set_title(title_xlabel_of_numeric[i])\n",
    "    axes[i][0].set_xlabel(title_xlabel_of_numeric[i])\n",
    "    axes[i][0].set_ylabel('Частота')"
   ]
  },
  {
   "cell_type": "markdown",
   "metadata": {},
   "source": [
    "Видно, что в данных много нереалистичных выбросов:\n",
    "\n",
    "- Год регистрации выше 2016 удаляем.\n",
    "\n",
    "- Максимальная мощность двигателя составляет невероятные 1600 лошадиных сил. Удалим всё, что выше этого значения.\n",
    "\n",
    "- В пробеге выбросы хоть и есть, но можно поверить, что существуют машины, которые хотят продать даже с маленьким пробегом. Ничего не удаляем."
   ]
  },
  {
   "cell_type": "code",
   "execution_count": 21,
   "metadata": {
    "scrolled": true
   },
   "outputs": [
    {
     "name": "stdout",
     "output_type": "stream",
     "text": [
      "<class 'pandas.core.frame.DataFrame'>\n",
      "Int64Index: 351724 entries, 0 to 351971\n",
      "Data columns (total 11 columns):\n",
      "Price                351724 non-null int64\n",
      "VehicleType          351724 non-null object\n",
      "RegistrationYear     351724 non-null int64\n",
      "Gearbox              351724 non-null object\n",
      "Power                351724 non-null int64\n",
      "Model                351724 non-null object\n",
      "Kilometer            351724 non-null int64\n",
      "RegistrationMonth    351724 non-null int64\n",
      "FuelType             351724 non-null object\n",
      "Brand                351724 non-null object\n",
      "NotRepaired          351724 non-null object\n",
      "dtypes: int64(5), object(6)\n",
      "memory usage: 32.2+ MB\n"
     ]
    }
   ],
   "source": [
    "df = df[(df['RegistrationYear'] < 2022) & (df['Power'] <= 1600)]\n",
    "df.info()"
   ]
  },
  {
   "cell_type": "markdown",
   "metadata": {},
   "source": [
    "Посмотрим ещё раз на гистограммы и диаграммы размаха."
   ]
  },
  {
   "cell_type": "code",
   "execution_count": 22,
   "metadata": {},
   "outputs": [
    {
     "data": {
      "image/png": "[encoded data removed]",
      "text/plain": [
       "<Figure size 1008x1440 with 8 Axes>"
      ]
     },
     "metadata": {
      "needs_background": "light"
     },
     "output_type": "display_data"
    }
   ],
   "source": [
    "fig, axes = plt.subplots(len(numeric), 2, figsize=(14,20))\n",
    "for i in range(len(numeric)):\n",
    "    df[numeric[i]].hist(bins=10, density=True,figure=fig, ax=axes[i][0]).set_title(title_xlabel_of_numeric[i])\n",
    "    df.boxplot(column=numeric[i], ax=axes[i][1]).set_title(title_xlabel_of_numeric[i])\n",
    "    axes[i][0].set_xlabel(title_xlabel_of_numeric[i])\n",
    "    axes[i][0].set_ylabel('Частота')"
   ]
  },
  {
   "cell_type": "markdown",
   "metadata": {},
   "source": [
    "Всё равно остались нереалистичные значения. Удалим выбросы в RegistrationYear и Power, выходящие за тройной межквартильный размах"
   ]
  },
  {
   "cell_type": "code",
   "execution_count": 23,
   "metadata": {},
   "outputs": [
    {
     "name": "stdout",
     "output_type": "stream",
     "text": [
      "<class 'pandas.core.frame.DataFrame'>\n",
      "Int64Index: 349229 entries, 0 to 351971\n",
      "Data columns (total 11 columns):\n",
      "Price                349229 non-null int64\n",
      "VehicleType          349229 non-null object\n",
      "RegistrationYear     349229 non-null int64\n",
      "Gearbox              349229 non-null object\n",
      "Power                349229 non-null int64\n",
      "Model                349229 non-null object\n",
      "Kilometer            349229 non-null int64\n",
      "RegistrationMonth    349229 non-null int64\n",
      "FuelType             349229 non-null object\n",
      "Brand                349229 non-null object\n",
      "NotRepaired          349229 non-null object\n",
      "dtypes: int64(5), object(6)\n",
      "memory usage: 32.0+ MB\n"
     ]
    }
   ],
   "source": [
    "iqr_year = np.percentile(df['RegistrationYear'], 75) - np.percentile(df['RegistrationYear'], 25)\n",
    "low_year = np.percentile(df['RegistrationYear'], 25) - 3 * iqr_year\n",
    "df = df[df['RegistrationYear'] >= low_year]\n",
    "\n",
    "iqr_power = np.percentile(df['Power'], 75) - np.percentile(df['Power'], 25)\n",
    "high_power = np.percentile(df['Power'], 75) + 3 * iqr_power\n",
    "df = df[df['Power'] <= high_power]\n",
    "\n",
    "df.info()"
   ]
  },
  {
   "cell_type": "code",
   "execution_count": 24,
   "metadata": {},
   "outputs": [
    {
     "data": {
      "image/png": "[encoded data removed]",
      "text/plain": [
       "<Figure size 1008x1440 with 8 Axes>"
      ]
     },
     "metadata": {
      "needs_background": "light"
     },
     "output_type": "display_data"
    }
   ],
   "source": [
    "fig, axes = plt.subplots(len(numeric), 2, figsize=(14,20))\n",
    "for i in range(len(numeric)):\n",
    "    df[numeric[i]].hist(bins=10, density=True,figure=fig, ax=axes[i][0]).set_title(title_xlabel_of_numeric[i])\n",
    "    df.boxplot(column=numeric[i], ax=axes[i][1]).set_title(title_xlabel_of_numeric[i])\n",
    "    axes[i][0].set_xlabel(title_xlabel_of_numeric[i])\n",
    "    axes[i][0].set_ylabel('Частота')"
   ]
  },
  {
   "cell_type": "markdown",
   "metadata": {},
   "source": [
    "Теперь графики выглядят правдоподобно. Проверим на мультиколлинеарность."
   ]
  },
  {
   "cell_type": "code",
   "execution_count": 25,
   "metadata": {},
   "outputs": [
    {
     "data": {
      "text/html": [
       "<div>\n",
       "<style scoped>\n",
       "    .dataframe tbody tr th:only-of-type {\n",
       "        vertical-align: middle;\n",
       "    }\n",
       "\n",
       "    .dataframe tbody tr th {\n",
       "        vertical-align: top;\n",
       "    }\n",
       "\n",
       "    .dataframe thead th {\n",
       "        text-align: right;\n",
       "    }\n",
       "</style>\n",
       "<table border=\"1\" class=\"dataframe\">\n",
       "  <thead>\n",
       "    <tr style=\"text-align: right;\">\n",
       "      <th></th>\n",
       "      <th>index</th>\n",
       "      <th>index_2</th>\n",
       "      <th>value</th>\n",
       "    </tr>\n",
       "  </thead>\n",
       "  <tbody>\n",
       "    <tr>\n",
       "      <td>14</td>\n",
       "      <td>Kilometer</td>\n",
       "      <td>Price</td>\n",
       "      <td>-0.35</td>\n",
       "    </tr>\n",
       "    <tr>\n",
       "      <td>2</td>\n",
       "      <td>Kilometer</td>\n",
       "      <td>RegistrationYear</td>\n",
       "      <td>-0.24</td>\n",
       "    </tr>\n",
       "    <tr>\n",
       "      <td>6</td>\n",
       "      <td>Kilometer</td>\n",
       "      <td>Power</td>\n",
       "      <td>0.07</td>\n",
       "    </tr>\n",
       "    <tr>\n",
       "      <td>1</td>\n",
       "      <td>Power</td>\n",
       "      <td>RegistrationYear</td>\n",
       "      <td>0.10</td>\n",
       "    </tr>\n",
       "    <tr>\n",
       "      <td>3</td>\n",
       "      <td>Price</td>\n",
       "      <td>RegistrationYear</td>\n",
       "      <td>0.42</td>\n",
       "    </tr>\n",
       "    <tr>\n",
       "      <td>13</td>\n",
       "      <td>Power</td>\n",
       "      <td>Price</td>\n",
       "      <td>0.49</td>\n",
       "    </tr>\n",
       "  </tbody>\n",
       "</table>\n",
       "</div>"
      ],
      "text/plain": [
       "        index           index_2  value\n",
       "14  Kilometer             Price  -0.35\n",
       "2   Kilometer  RegistrationYear  -0.24\n",
       "6   Kilometer             Power   0.07\n",
       "1       Power  RegistrationYear   0.10\n",
       "3       Price  RegistrationYear   0.42\n",
       "13      Power             Price   0.49"
      ]
     },
     "metadata": {},
     "output_type": "display_data"
    }
   ],
   "source": [
    "corr = df[numeric].corr().reset_index().melt(id_vars = ['index'], var_name = ['index_2'])\n",
    "corr = corr[(corr['value'] != 1) & (corr['index'] < corr['index_2'])].sort_values(by='value')\n",
    "\n",
    "display(corr)"
   ]
  },
  {
   "cell_type": "markdown",
   "metadata": {},
   "source": [
    "Сильнокоррелирующих признаков нет."
   ]
  },
  {
   "cell_type": "code",
   "execution_count": 26,
   "metadata": {},
   "outputs": [
    {
     "data": {
      "text/plain": [
       "<matplotlib.axes._subplots.AxesSubplot at 0x7fdcdd2d2b90>"
      ]
     },
     "execution_count": 26,
     "metadata": {},
     "output_type": "execute_result"
    },
    {
     "data": {
      "image/png": "[encoded data removed]",
      "text/plain": [
       "<Figure size 432x288 with 1 Axes>"
      ]
     },
     "metadata": {
      "needs_background": "light"
     },
     "output_type": "display_data"
    }
   ],
   "source": [
    "df['Price'].hist(bins=50)"
   ]
  },
  {
   "cell_type": "code",
   "execution_count": 27,
   "metadata": {},
   "outputs": [
    {
     "name": "stdout",
     "output_type": "stream",
     "text": [
      "\n",
      "Граница, ниже которой получаем выбросы в цене: 1972\n"
     ]
    }
   ],
   "source": [
    "df['Price'].describe()\n",
    "print()\n",
    "print('Граница, ниже которой получаем выбросы в цене: {:.0f}'.format(np.percentile(df['RegistrationYear'], 25) - 3 * iqr_year))"
   ]
  },
  {
   "cell_type": "markdown",
   "metadata": {},
   "source": [
    "Всё же эта цена кажется вполне возможной) ограничусь 500 евро. Для улучшения точности можно детальнее посмотреть, в каком состоянии авто, которые дешевле 1972 евро и отсеять ещё."
   ]
  },
  {
   "cell_type": "code",
   "execution_count": 28,
   "metadata": {},
   "outputs": [
    {
     "name": "stdout",
     "output_type": "stream",
     "text": [
      "Количество объявлений с ценой ниже $100: 34236\n"
     ]
    }
   ],
   "source": [
    "print('Количество объявлений с ценой ниже $100:', len(df[df['Price'] < 500]))"
   ]
  },
  {
   "cell_type": "code",
   "execution_count": 29,
   "metadata": {},
   "outputs": [],
   "source": [
    "df = df[df['Price'] >= 500]"
   ]
  },
  {
   "cell_type": "markdown",
   "metadata": {},
   "source": [
    "### Анализ категориальных признаков\n"
   ]
  },
  {
   "cell_type": "markdown",
   "metadata": {},
   "source": [
    "Посмотрим барплоты категориальных признаков."
   ]
  },
  {
   "cell_type": "code",
   "execution_count": 30,
   "metadata": {},
   "outputs": [],
   "source": [
    "categories = ['VehicleType', 'Gearbox', 'Model', 'FuelType', 'Brand', 'NotRepaired']"
   ]
  },
  {
   "cell_type": "code",
   "execution_count": 31,
   "metadata": {},
   "outputs": [
    {
     "name": "stdout",
     "output_type": "stream",
     "text": [
      "<class 'pandas.core.frame.DataFrame'>\n",
      "Int64Index: 314993 entries, 1 to 351971\n",
      "Data columns (total 11 columns):\n",
      "Price                314993 non-null int64\n",
      "VehicleType          314993 non-null object\n",
      "RegistrationYear     314993 non-null int64\n",
      "Gearbox              314993 non-null object\n",
      "Power                314993 non-null int64\n",
      "Model                314993 non-null object\n",
      "Kilometer            314993 non-null int64\n",
      "RegistrationMonth    314993 non-null int64\n",
      "FuelType             314993 non-null object\n",
      "Brand                314993 non-null object\n",
      "NotRepaired          314993 non-null object\n",
      "dtypes: int64(5), object(6)\n",
      "memory usage: 28.8+ MB\n"
     ]
    }
   ],
   "source": [
    "df.info()"
   ]
  },
  {
   "cell_type": "code",
   "execution_count": 32,
   "metadata": {},
   "outputs": [],
   "source": [
    "#fig, axes = plt.subplots(len(categories),1, figsize=(12, len(categories)*8))\n",
    "def category_barplot(category, top=1000000):\n",
    "    df_pv = df.pivot_table(\n",
    "    index=category, values='Price', aggfunc=['count']\n",
    "    ).sort_values(by=('count', 'Price'), ascending=False)\n",
    "    df_pv.columns = ['count']\n",
    "    \n",
    "    if len(df_pv) > top:\n",
    "        df_pv = df_pv[:top]\n",
    "    \n",
    "    plt.figure(figsize=(16, 6)) \n",
    "    platform_barplot = sns.barplot(x=df_pv.index, y='count', ci=None, data=df_pv)\\\n",
    "        .set_title('Распределение числа автомобилей по признаку ' + category)\n",
    "    plt.show()"
   ]
  },
  {
   "cell_type": "code",
   "execution_count": 33,
   "metadata": {},
   "outputs": [
    {
     "data": {
      "image/png": "[encoded data removed]",
      "text/plain": [
       "<Figure size 1152x432 with 1 Axes>"
      ]
     },
     "metadata": {
      "needs_background": "light"
     },
     "output_type": "display_data"
    }
   ],
   "source": [
    "category_barplot('VehicleType')"
   ]
  },
  {
   "cell_type": "code",
   "execution_count": 34,
   "metadata": {},
   "outputs": [
    {
     "data": {
      "image/png": "[encoded data removed]",
      "text/plain": [
       "<Figure size 1152x432 with 1 Axes>"
      ]
     },
     "metadata": {
      "needs_background": "light"
     },
     "output_type": "display_data"
    }
   ],
   "source": [
    "category_barplot('Gearbox')"
   ]
  },
  {
   "cell_type": "markdown",
   "metadata": {},
   "source": [
    "Очень неравномерная разбивка с преобладанием ручной коробки передач."
   ]
  },
  {
   "cell_type": "code",
   "execution_count": 35,
   "metadata": {},
   "outputs": [
    {
     "data": {
      "image/png": "[encoded data removed]",
      "text/plain": [
       "<Figure size 1152x432 with 1 Axes>"
      ]
     },
     "metadata": {
      "needs_background": "light"
     },
     "output_type": "display_data"
    }
   ],
   "source": [
    "category_barplot('Model', 20)"
   ]
  },
  {
   "cell_type": "markdown",
   "metadata": {},
   "source": [
    "Моделей очень много. На графике ограничились 20 значениями."
   ]
  },
  {
   "cell_type": "code",
   "execution_count": 36,
   "metadata": {},
   "outputs": [
    {
     "data": {
      "image/png": "[encoded data removed]",
      "text/plain": [
       "<Figure size 1152x432 with 1 Axes>"
      ]
     },
     "metadata": {
      "needs_background": "light"
     },
     "output_type": "display_data"
    }
   ],
   "source": [
    "category_barplot('FuelType')"
   ]
  },
  {
   "cell_type": "markdown",
   "metadata": {},
   "source": [
    "В основном, автомобили на бензине, другой вид топлива почти не встречается."
   ]
  },
  {
   "cell_type": "code",
   "execution_count": 37,
   "metadata": {},
   "outputs": [
    {
     "data": {
      "image/png": "[encoded data removed]",
      "text/plain": [
       "<Figure size 1152x432 with 1 Axes>"
      ]
     },
     "metadata": {
      "needs_background": "light"
     },
     "output_type": "display_data"
    }
   ],
   "source": [
    "category_barplot('Brand', 15)"
   ]
  },
  {
   "cell_type": "markdown",
   "metadata": {},
   "source": [
    "Любопытно, что большинство автомобилей марки \"Volkswagen\". Возможно, что это долгоживущие автомобили."
   ]
  },
  {
   "cell_type": "code",
   "execution_count": 38,
   "metadata": {},
   "outputs": [
    {
     "data": {
      "image/png": "[encoded data removed]",
      "text/plain": [
       "<Figure size 1152x432 with 1 Axes>"
      ]
     },
     "metadata": {
      "needs_background": "light"
     },
     "output_type": "display_data"
    }
   ],
   "source": [
    "category_barplot('NotRepaired')"
   ]
  },
  {
   "cell_type": "markdown",
   "metadata": {},
   "source": [
    "Большинство автомобилей подвергались ремонту, однако, есть и без него.\n",
    "\n",
    "По каждой из категорий есть лидирующие значения, на что стоит обратить внимание при разбивке на подвыборки для валидации."
   ]
  },
  {
   "cell_type": "markdown",
   "metadata": {},
   "source": [
    "### Вывод"
   ]
  },
  {
   "cell_type": "markdown",
   "metadata": {},
   "source": [
    "- Удалили столбцы DateCrawled, DateCreated, PostalCode.\n",
    "\n",
    "- Много пропусков в колонке NotRepaired — была машина в ремонте или нет. Заменили пропуски в колонке NotRepaired на \"unknown\". Однако, для достижения более точного результата, **стоит поговорить с заказчиком и разработчиками**: может, информация по пропускам есть.\n",
    "\n",
    "- Удалили артефакты в каждом признаке.\n",
    "\n",
    "- В типе топлива petrol и gasoline объединили в одно значение - petrol.\n",
    "\n",
    "- Фото нет ни у одного объекта. Удаляем этот признак."
   ]
  },
  {
   "cell_type": "markdown",
   "metadata": {},
   "source": [
    "## Обучение моделей"
   ]
  },
  {
   "cell_type": "markdown",
   "metadata": {},
   "source": [
    "### Кодирование категориальных признаков"
   ]
  },
  {
   "cell_type": "markdown",
   "metadata": {},
   "source": [
    "Так как у нас большое число элементов в категориальных признаках, применим порядковое кодирование. Применение OHE создаст очень большое число признаков."
   ]
  },
  {
   "cell_type": "code",
   "execution_count": 39,
   "metadata": {},
   "outputs": [
    {
     "data": {
      "text/html": [
       "<div>\n",
       "<style scoped>\n",
       "    .dataframe tbody tr th:only-of-type {\n",
       "        vertical-align: middle;\n",
       "    }\n",
       "\n",
       "    .dataframe tbody tr th {\n",
       "        vertical-align: top;\n",
       "    }\n",
       "\n",
       "    .dataframe thead th {\n",
       "        text-align: right;\n",
       "    }\n",
       "</style>\n",
       "<table border=\"1\" class=\"dataframe\">\n",
       "  <thead>\n",
       "    <tr style=\"text-align: right;\">\n",
       "      <th></th>\n",
       "      <th>Price</th>\n",
       "      <th>VehicleType</th>\n",
       "      <th>RegistrationYear</th>\n",
       "      <th>Gearbox</th>\n",
       "      <th>Power</th>\n",
       "      <th>Model</th>\n",
       "      <th>Kilometer</th>\n",
       "      <th>RegistrationMonth</th>\n",
       "      <th>FuelType</th>\n",
       "      <th>Brand</th>\n",
       "      <th>NotRepaired</th>\n",
       "    </tr>\n",
       "  </thead>\n",
       "  <tbody>\n",
       "    <tr>\n",
       "      <td>1</td>\n",
       "      <td>18300</td>\n",
       "      <td>coupe</td>\n",
       "      <td>2011</td>\n",
       "      <td>manual</td>\n",
       "      <td>190</td>\n",
       "      <td>unknown</td>\n",
       "      <td>125000</td>\n",
       "      <td>5</td>\n",
       "      <td>petrol</td>\n",
       "      <td>audi</td>\n",
       "      <td>yes</td>\n",
       "    </tr>\n",
       "    <tr>\n",
       "      <td>2</td>\n",
       "      <td>9800</td>\n",
       "      <td>suv</td>\n",
       "      <td>2004</td>\n",
       "      <td>auto</td>\n",
       "      <td>163</td>\n",
       "      <td>grand</td>\n",
       "      <td>125000</td>\n",
       "      <td>8</td>\n",
       "      <td>petrol</td>\n",
       "      <td>jeep</td>\n",
       "      <td>unknown</td>\n",
       "    </tr>\n",
       "    <tr>\n",
       "      <td>3</td>\n",
       "      <td>1500</td>\n",
       "      <td>small</td>\n",
       "      <td>2001</td>\n",
       "      <td>manual</td>\n",
       "      <td>75</td>\n",
       "      <td>golf</td>\n",
       "      <td>150000</td>\n",
       "      <td>6</td>\n",
       "      <td>petrol</td>\n",
       "      <td>volkswagen</td>\n",
       "      <td>no</td>\n",
       "    </tr>\n",
       "    <tr>\n",
       "      <td>4</td>\n",
       "      <td>3600</td>\n",
       "      <td>small</td>\n",
       "      <td>2008</td>\n",
       "      <td>manual</td>\n",
       "      <td>69</td>\n",
       "      <td>fabia</td>\n",
       "      <td>90000</td>\n",
       "      <td>7</td>\n",
       "      <td>petrol</td>\n",
       "      <td>skoda</td>\n",
       "      <td>no</td>\n",
       "    </tr>\n",
       "    <tr>\n",
       "      <td>5</td>\n",
       "      <td>650</td>\n",
       "      <td>sedan</td>\n",
       "      <td>1995</td>\n",
       "      <td>manual</td>\n",
       "      <td>102</td>\n",
       "      <td>3er</td>\n",
       "      <td>150000</td>\n",
       "      <td>10</td>\n",
       "      <td>petrol</td>\n",
       "      <td>bmw</td>\n",
       "      <td>yes</td>\n",
       "    </tr>\n",
       "    <tr>\n",
       "      <td>...</td>\n",
       "      <td>...</td>\n",
       "      <td>...</td>\n",
       "      <td>...</td>\n",
       "      <td>...</td>\n",
       "      <td>...</td>\n",
       "      <td>...</td>\n",
       "      <td>...</td>\n",
       "      <td>...</td>\n",
       "      <td>...</td>\n",
       "      <td>...</td>\n",
       "      <td>...</td>\n",
       "    </tr>\n",
       "    <tr>\n",
       "      <td>351966</td>\n",
       "      <td>3200</td>\n",
       "      <td>sedan</td>\n",
       "      <td>2004</td>\n",
       "      <td>manual</td>\n",
       "      <td>225</td>\n",
       "      <td>leon</td>\n",
       "      <td>150000</td>\n",
       "      <td>5</td>\n",
       "      <td>petrol</td>\n",
       "      <td>seat</td>\n",
       "      <td>yes</td>\n",
       "    </tr>\n",
       "    <tr>\n",
       "      <td>351967</td>\n",
       "      <td>1150</td>\n",
       "      <td>bus</td>\n",
       "      <td>2000</td>\n",
       "      <td>manual</td>\n",
       "      <td>0</td>\n",
       "      <td>zafira</td>\n",
       "      <td>150000</td>\n",
       "      <td>3</td>\n",
       "      <td>petrol</td>\n",
       "      <td>opel</td>\n",
       "      <td>no</td>\n",
       "    </tr>\n",
       "    <tr>\n",
       "      <td>351969</td>\n",
       "      <td>1199</td>\n",
       "      <td>convertible</td>\n",
       "      <td>2000</td>\n",
       "      <td>auto</td>\n",
       "      <td>101</td>\n",
       "      <td>fortwo</td>\n",
       "      <td>125000</td>\n",
       "      <td>3</td>\n",
       "      <td>petrol</td>\n",
       "      <td>smart</td>\n",
       "      <td>no</td>\n",
       "    </tr>\n",
       "    <tr>\n",
       "      <td>351970</td>\n",
       "      <td>9200</td>\n",
       "      <td>bus</td>\n",
       "      <td>1996</td>\n",
       "      <td>manual</td>\n",
       "      <td>102</td>\n",
       "      <td>transporter</td>\n",
       "      <td>150000</td>\n",
       "      <td>3</td>\n",
       "      <td>petrol</td>\n",
       "      <td>volkswagen</td>\n",
       "      <td>no</td>\n",
       "    </tr>\n",
       "    <tr>\n",
       "      <td>351971</td>\n",
       "      <td>3400</td>\n",
       "      <td>wagon</td>\n",
       "      <td>2002</td>\n",
       "      <td>manual</td>\n",
       "      <td>100</td>\n",
       "      <td>golf</td>\n",
       "      <td>150000</td>\n",
       "      <td>6</td>\n",
       "      <td>petrol</td>\n",
       "      <td>volkswagen</td>\n",
       "      <td>unknown</td>\n",
       "    </tr>\n",
       "  </tbody>\n",
       "</table>\n",
       "<p>314993 rows × 11 columns</p>\n",
       "</div>"
      ],
      "text/plain": [
       "        Price  VehicleType  RegistrationYear Gearbox  Power        Model  \\\n",
       "1       18300        coupe              2011  manual    190      unknown   \n",
       "2        9800          suv              2004    auto    163        grand   \n",
       "3        1500        small              2001  manual     75         golf   \n",
       "4        3600        small              2008  manual     69        fabia   \n",
       "5         650        sedan              1995  manual    102          3er   \n",
       "...       ...          ...               ...     ...    ...          ...   \n",
       "351966   3200        sedan              2004  manual    225         leon   \n",
       "351967   1150          bus              2000  manual      0       zafira   \n",
       "351969   1199  convertible              2000    auto    101       fortwo   \n",
       "351970   9200          bus              1996  manual    102  transporter   \n",
       "351971   3400        wagon              2002  manual    100         golf   \n",
       "\n",
       "        Kilometer  RegistrationMonth FuelType       Brand NotRepaired  \n",
       "1          125000                  5   petrol        audi         yes  \n",
       "2          125000                  8   petrol        jeep     unknown  \n",
       "3          150000                  6   petrol  volkswagen          no  \n",
       "4           90000                  7   petrol       skoda          no  \n",
       "5          150000                 10   petrol         bmw         yes  \n",
       "...           ...                ...      ...         ...         ...  \n",
       "351966     150000                  5   petrol        seat         yes  \n",
       "351967     150000                  3   petrol        opel          no  \n",
       "351969     125000                  3   petrol       smart          no  \n",
       "351970     150000                  3   petrol  volkswagen          no  \n",
       "351971     150000                  6   petrol  volkswagen     unknown  \n",
       "\n",
       "[314993 rows x 11 columns]"
      ]
     },
     "metadata": {},
     "output_type": "display_data"
    }
   ],
   "source": [
    "display(df)"
   ]
  },
  {
   "cell_type": "code",
   "execution_count": 40,
   "metadata": {
    "scrolled": true
   },
   "outputs": [
    {
     "data": {
      "text/html": [
       "<div>\n",
       "<style scoped>\n",
       "    .dataframe tbody tr th:only-of-type {\n",
       "        vertical-align: middle;\n",
       "    }\n",
       "\n",
       "    .dataframe tbody tr th {\n",
       "        vertical-align: top;\n",
       "    }\n",
       "\n",
       "    .dataframe thead th {\n",
       "        text-align: right;\n",
       "    }\n",
       "</style>\n",
       "<table border=\"1\" class=\"dataframe\">\n",
       "  <thead>\n",
       "    <tr style=\"text-align: right;\">\n",
       "      <th></th>\n",
       "      <th>Price</th>\n",
       "      <th>VehicleType</th>\n",
       "      <th>RegistrationYear</th>\n",
       "      <th>Gearbox</th>\n",
       "      <th>Power</th>\n",
       "      <th>Model</th>\n",
       "      <th>Kilometer</th>\n",
       "      <th>RegistrationMonth</th>\n",
       "      <th>FuelType</th>\n",
       "      <th>Brand</th>\n",
       "      <th>NotRepaired</th>\n",
       "    </tr>\n",
       "  </thead>\n",
       "  <tbody>\n",
       "    <tr>\n",
       "      <td>1</td>\n",
       "      <td>18300</td>\n",
       "      <td>2.00</td>\n",
       "      <td>39.00</td>\n",
       "      <td>1.00</td>\n",
       "      <td>190</td>\n",
       "      <td>228.00</td>\n",
       "      <td>125000</td>\n",
       "      <td>5.00</td>\n",
       "      <td>5.00</td>\n",
       "      <td>1.00</td>\n",
       "      <td>2.00</td>\n",
       "    </tr>\n",
       "    <tr>\n",
       "      <td>2</td>\n",
       "      <td>9800</td>\n",
       "      <td>6.00</td>\n",
       "      <td>32.00</td>\n",
       "      <td>0.00</td>\n",
       "      <td>163</td>\n",
       "      <td>117.00</td>\n",
       "      <td>125000</td>\n",
       "      <td>8.00</td>\n",
       "      <td>5.00</td>\n",
       "      <td>14.00</td>\n",
       "      <td>1.00</td>\n",
       "    </tr>\n",
       "    <tr>\n",
       "      <td>3</td>\n",
       "      <td>1500</td>\n",
       "      <td>5.00</td>\n",
       "      <td>29.00</td>\n",
       "      <td>1.00</td>\n",
       "      <td>75</td>\n",
       "      <td>116.00</td>\n",
       "      <td>150000</td>\n",
       "      <td>6.00</td>\n",
       "      <td>5.00</td>\n",
       "      <td>38.00</td>\n",
       "      <td>0.00</td>\n",
       "    </tr>\n",
       "    <tr>\n",
       "      <td>4</td>\n",
       "      <td>3600</td>\n",
       "      <td>5.00</td>\n",
       "      <td>36.00</td>\n",
       "      <td>1.00</td>\n",
       "      <td>69</td>\n",
       "      <td>101.00</td>\n",
       "      <td>90000</td>\n",
       "      <td>7.00</td>\n",
       "      <td>5.00</td>\n",
       "      <td>31.00</td>\n",
       "      <td>0.00</td>\n",
       "    </tr>\n",
       "    <tr>\n",
       "      <td>5</td>\n",
       "      <td>650</td>\n",
       "      <td>4.00</td>\n",
       "      <td>23.00</td>\n",
       "      <td>1.00</td>\n",
       "      <td>102</td>\n",
       "      <td>11.00</td>\n",
       "      <td>150000</td>\n",
       "      <td>10.00</td>\n",
       "      <td>5.00</td>\n",
       "      <td>2.00</td>\n",
       "      <td>2.00</td>\n",
       "    </tr>\n",
       "    <tr>\n",
       "      <td>...</td>\n",
       "      <td>...</td>\n",
       "      <td>...</td>\n",
       "      <td>...</td>\n",
       "      <td>...</td>\n",
       "      <td>...</td>\n",
       "      <td>...</td>\n",
       "      <td>...</td>\n",
       "      <td>...</td>\n",
       "      <td>...</td>\n",
       "      <td>...</td>\n",
       "      <td>...</td>\n",
       "    </tr>\n",
       "    <tr>\n",
       "      <td>351966</td>\n",
       "      <td>3200</td>\n",
       "      <td>4.00</td>\n",
       "      <td>32.00</td>\n",
       "      <td>1.00</td>\n",
       "      <td>225</td>\n",
       "      <td>140.00</td>\n",
       "      <td>150000</td>\n",
       "      <td>5.00</td>\n",
       "      <td>5.00</td>\n",
       "      <td>30.00</td>\n",
       "      <td>2.00</td>\n",
       "    </tr>\n",
       "    <tr>\n",
       "      <td>351967</td>\n",
       "      <td>1150</td>\n",
       "      <td>0.00</td>\n",
       "      <td>28.00</td>\n",
       "      <td>1.00</td>\n",
       "      <td>0</td>\n",
       "      <td>250.00</td>\n",
       "      <td>150000</td>\n",
       "      <td>3.00</td>\n",
       "      <td>5.00</td>\n",
       "      <td>24.00</td>\n",
       "      <td>0.00</td>\n",
       "    </tr>\n",
       "    <tr>\n",
       "      <td>351969</td>\n",
       "      <td>1199</td>\n",
       "      <td>1.00</td>\n",
       "      <td>28.00</td>\n",
       "      <td>0.00</td>\n",
       "      <td>101</td>\n",
       "      <td>106.00</td>\n",
       "      <td>125000</td>\n",
       "      <td>3.00</td>\n",
       "      <td>5.00</td>\n",
       "      <td>32.00</td>\n",
       "      <td>0.00</td>\n",
       "    </tr>\n",
       "    <tr>\n",
       "      <td>351970</td>\n",
       "      <td>9200</td>\n",
       "      <td>0.00</td>\n",
       "      <td>24.00</td>\n",
       "      <td>1.00</td>\n",
       "      <td>102</td>\n",
       "      <td>224.00</td>\n",
       "      <td>150000</td>\n",
       "      <td>3.00</td>\n",
       "      <td>5.00</td>\n",
       "      <td>38.00</td>\n",
       "      <td>0.00</td>\n",
       "    </tr>\n",
       "    <tr>\n",
       "      <td>351971</td>\n",
       "      <td>3400</td>\n",
       "      <td>8.00</td>\n",
       "      <td>30.00</td>\n",
       "      <td>1.00</td>\n",
       "      <td>100</td>\n",
       "      <td>116.00</td>\n",
       "      <td>150000</td>\n",
       "      <td>6.00</td>\n",
       "      <td>5.00</td>\n",
       "      <td>38.00</td>\n",
       "      <td>1.00</td>\n",
       "    </tr>\n",
       "  </tbody>\n",
       "</table>\n",
       "<p>314993 rows × 11 columns</p>\n",
       "</div>"
      ],
      "text/plain": [
       "        Price  VehicleType  RegistrationYear  Gearbox  Power  Model  \\\n",
       "1       18300         2.00             39.00     1.00    190 228.00   \n",
       "2        9800         6.00             32.00     0.00    163 117.00   \n",
       "3        1500         5.00             29.00     1.00     75 116.00   \n",
       "4        3600         5.00             36.00     1.00     69 101.00   \n",
       "5         650         4.00             23.00     1.00    102  11.00   \n",
       "...       ...          ...               ...      ...    ...    ...   \n",
       "351966   3200         4.00             32.00     1.00    225 140.00   \n",
       "351967   1150         0.00             28.00     1.00      0 250.00   \n",
       "351969   1199         1.00             28.00     0.00    101 106.00   \n",
       "351970   9200         0.00             24.00     1.00    102 224.00   \n",
       "351971   3400         8.00             30.00     1.00    100 116.00   \n",
       "\n",
       "        Kilometer  RegistrationMonth  FuelType  Brand  NotRepaired  \n",
       "1          125000               5.00      5.00   1.00         2.00  \n",
       "2          125000               8.00      5.00  14.00         1.00  \n",
       "3          150000               6.00      5.00  38.00         0.00  \n",
       "4           90000               7.00      5.00  31.00         0.00  \n",
       "5          150000              10.00      5.00   2.00         2.00  \n",
       "...           ...                ...       ...    ...          ...  \n",
       "351966     150000               5.00      5.00  30.00         2.00  \n",
       "351967     150000               3.00      5.00  24.00         0.00  \n",
       "351969     125000               3.00      5.00  32.00         0.00  \n",
       "351970     150000               3.00      5.00  38.00         0.00  \n",
       "351971     150000               6.00      5.00  38.00         1.00  \n",
       "\n",
       "[314993 rows x 11 columns]"
      ]
     },
     "metadata": {},
     "output_type": "display_data"
    }
   ],
   "source": [
    "categories.append('RegistrationYear')\n",
    "categories.append('RegistrationMonth')\n",
    "\n",
    "encoder = OrdinalEncoder()\n",
    "\n",
    "df[categories] = encoder.fit_transform(df[categories])\n",
    "\n",
    "display(df)"
   ]
  },
  {
   "cell_type": "code",
   "execution_count": 41,
   "metadata": {},
   "outputs": [],
   "source": [
    "numeric_features = ['Power', 'Kilometer']"
   ]
  },
  {
   "cell_type": "markdown",
   "metadata": {},
   "source": [
    "### Выделение фичей и таргета, разбивка на трейн и тест, масштабирование"
   ]
  },
  {
   "cell_type": "code",
   "execution_count": 42,
   "metadata": {},
   "outputs": [],
   "source": [
    "target = df['Price']\n",
    "features = df.drop('Price', axis=1)"
   ]
  },
  {
   "cell_type": "code",
   "execution_count": 43,
   "metadata": {},
   "outputs": [
    {
     "name": "stdout",
     "output_type": "stream",
     "text": [
      "Размер обучающих фич: (251994, 10)\n",
      "Размер тестовых фич: (62999, 10)\n"
     ]
    }
   ],
   "source": [
    "features_train, features_test, target_train, target_test = train_test_split(\n",
    "    features, target, test_size=0.2, random_state=12345)\n",
    "\n",
    "print('Размер обучающих фич:', features_train.shape)\n",
    "print('Размер тестовых фич:', features_test.shape)"
   ]
  },
  {
   "cell_type": "code",
   "execution_count": 44,
   "metadata": {},
   "outputs": [],
   "source": [
    "mse_score = make_scorer(mean_squared_error, greater_is_better=False)"
   ]
  },
  {
   "cell_type": "code",
   "execution_count": 45,
   "metadata": {},
   "outputs": [],
   "source": [
    "scaler = StandardScaler()\n",
    "scaler.fit(features_train[numeric_features])\n",
    "\n",
    "features_train[numeric_features] = scaler.transform(features_train[numeric_features])\n",
    "features_test[numeric_features] = scaler.transform(features_test[numeric_features])"
   ]
  },
  {
   "cell_type": "markdown",
   "metadata": {},
   "source": [
    "### Dummy модель"
   ]
  },
  {
   "cell_type": "code",
   "execution_count": 46,
   "metadata": {},
   "outputs": [
    {
     "name": "stdout",
     "output_type": "stream",
     "text": [
      "RMSE_dr = 4508.592991541791\n"
     ]
    }
   ],
   "source": [
    "dr = DummyRegressor(strategy=\"mean\")\n",
    "\n",
    "dr.fit(features_train, target_train)\n",
    "preds_dr = dr.predict(features_test)\n",
    "rmse_dr = mean_squared_error(target_test, preds_dr) ** 0.5\n",
    "print('RMSE_dr =', rmse_dr)"
   ]
  },
  {
   "cell_type": "markdown",
   "metadata": {},
   "source": [
    "### Линейная регрессия"
   ]
  },
  {
   "cell_type": "code",
   "execution_count": 47,
   "metadata": {},
   "outputs": [
    {
     "name": "stdout",
     "output_type": "stream",
     "text": [
      "Fitting 5 folds for each of 10 candidates, totalling 50 fits\n"
     ]
    },
    {
     "name": "stderr",
     "output_type": "stream",
     "text": [
      "[Parallel(n_jobs=1)]: Using backend SequentialBackend with 1 concurrent workers.\n"
     ]
    },
    {
     "name": "stdout",
     "output_type": "stream",
     "text": [
      "Лучшие параметры: {'n_features_to_select': 10}\n",
      "RMSE = 3142.07\n",
      "Время = 0:00:34.061702\n"
     ]
    },
    {
     "name": "stderr",
     "output_type": "stream",
     "text": [
      "[Parallel(n_jobs=1)]: Done  50 out of  50 | elapsed:   33.7s finished\n"
     ]
    }
   ],
   "source": [
    "start_time = datetime.now()\n",
    "\n",
    "lr = LinearRegression()\n",
    "hyper_params = [{'n_features_to_select': list(range(1, features.shape[1] + 1))}]\n",
    "\n",
    "lr.fit(features_train, target_train)\n",
    "rfe = RFE(lr)             \n",
    "\n",
    "lr_cv = GridSearchCV(estimator = rfe, \n",
    "                        param_grid = hyper_params, \n",
    "                        scoring = mse_score, \n",
    "                        cv = 5, \n",
    "                        verbose = 1,\n",
    "                        return_train_score=True)      \n",
    "\n",
    "lr_cv.fit(features_train, target_train)\n",
    "print('Лучшие параметры:', lr_cv.best_params_)\n",
    "print('RMSE = {:.2f}'.format(np.abs(lr_cv.best_score_) ** 0.5))\n",
    "\n",
    "lr_time = datetime.now() - start_time\n",
    "\n",
    "print('Время = {:}'.format(lr_time))"
   ]
  },
  {
   "cell_type": "markdown",
   "metadata": {},
   "source": [
    "Посмотрим результат работы моделей на тестовой выборке:"
   ]
  },
  {
   "cell_type": "code",
   "execution_count": 48,
   "metadata": {},
   "outputs": [],
   "source": [
    "def get_predictions_and_rmse(model, features, target):\n",
    "    \n",
    "    start_time = datetime.now()\n",
    "    preds = model.predict(features)\n",
    "    rmse = mean_squared_error(target, preds) ** 0.5\n",
    "    print('RMSE = {:.2f}'.format(rmse))\n",
    "    pred_time = datetime.now() - start_time\n",
    "    print('Время предсказания = {:}'.format(pred_time))\n",
    "    \n",
    "    return rmse, preds, pred_time"
   ]
  },
  {
   "cell_type": "code",
   "execution_count": 49,
   "metadata": {},
   "outputs": [
    {
     "name": "stdout",
     "output_type": "stream",
     "text": [
      "RMSE = 3163.83\n",
      "Время предсказания = 0:00:00.028686\n"
     ]
    }
   ],
   "source": [
    "rmse_lr_test, preds_lr, lr_pred_time = get_predictions_and_rmse(lr_cv, features_test, target_test)"
   ]
  },
  {
   "cell_type": "markdown",
   "metadata": {},
   "source": [
    "### Дерево решений"
   ]
  },
  {
   "cell_type": "code",
   "execution_count": 50,
   "metadata": {},
   "outputs": [],
   "source": [
    "dtr = DecisionTreeRegressor(random_state=12345)\n",
    "\n",
    "parameters = {\n",
    "    'max_depth' : range(1, 20, 1)\n",
    "}\n",
    "\n",
    "def find_best_model(X_train, y_train, model, parameters):\n",
    "    start_time = datetime.now()\n",
    "    grid = GridSearchCV(model, parameters, scoring=mse_score, cv=5)\n",
    "    grid.fit(X_train, y_train)\n",
    "\n",
    "    print('Лучшие параметры:', grid.best_params_)\n",
    "    print('RMSE = {:.2f}'.format(np.abs(grid.best_score_) ** 0.5))\n",
    "    dtr_or_rfr_time = datetime.now() - start_time\n",
    "    print('Время = {:}'.format(dtr_or_rfr_time))\n",
    "    return grid, np.abs(grid.best_score_) ** 0.5, dtr_or_rfr_time"
   ]
  },
  {
   "cell_type": "code",
   "execution_count": 51,
   "metadata": {},
   "outputs": [
    {
     "name": "stdout",
     "output_type": "stream",
     "text": [
      "Лучшие параметры: {'max_depth': 14}\n",
      "RMSE = 1940.70\n",
      "Время = 0:00:55.337022\n"
     ]
    }
   ],
   "source": [
    "grid_dtr, rmse_dtr_train, dtr_time = find_best_model(features_train, target_train, dtr, parameters)"
   ]
  },
  {
   "cell_type": "code",
   "execution_count": 52,
   "metadata": {},
   "outputs": [
    {
     "name": "stdout",
     "output_type": "stream",
     "text": [
      "RMSE = 1901.17\n",
      "Время предсказания = 0:00:00.015866\n"
     ]
    }
   ],
   "source": [
    "rmse_dtr_test, preds_dtr, dtr_pred_time = get_predictions_and_rmse(grid_dtr, features_test, target_test)"
   ]
  },
  {
   "cell_type": "markdown",
   "metadata": {},
   "source": [
    "### Случайный лес"
   ]
  },
  {
   "cell_type": "code",
   "execution_count": 53,
   "metadata": {},
   "outputs": [],
   "source": [
    "rfr = RandomForestRegressor(random_state=12345)\n",
    "\n",
    "parameters = {\n",
    "    'n_estimators' : range(10, 30, 10),\n",
    "    'max_depth' : range(1, 16, 3)\n",
    "}\n"
   ]
  },
  {
   "cell_type": "code",
   "execution_count": 54,
   "metadata": {},
   "outputs": [
    {
     "name": "stdout",
     "output_type": "stream",
     "text": [
      "Лучшие параметры: {'max_depth': 13, 'n_estimators': 20}\n",
      "RMSE = 1751.50\n",
      "Время = 0:03:42.738740\n"
     ]
    }
   ],
   "source": [
    "grid_rfr, rmse_rfr_train, rfr_time = find_best_model(features_train, target_train, rfr, parameters)"
   ]
  },
  {
   "cell_type": "code",
   "execution_count": 55,
   "metadata": {},
   "outputs": [
    {
     "name": "stdout",
     "output_type": "stream",
     "text": [
      "RMSE = 1733.99\n",
      "Время предсказания = 0:00:00.278529\n"
     ]
    }
   ],
   "source": [
    "rmse_rfr_test, preds_rfr, rfr_pred_time = get_predictions_and_rmse(grid_rfr, features_test, target_test)"
   ]
  },
  {
   "cell_type": "markdown",
   "metadata": {},
   "source": [
    "### LightGBM"
   ]
  },
  {
   "cell_type": "code",
   "execution_count": 56,
   "metadata": {},
   "outputs": [],
   "source": [
    "lgbm = LGBMRegressor(random_state=12345)\n",
    "\n",
    "#params = {}\n",
    "#params['learning_rate'] = 0.1\n",
    "#params['boosting_type'] = 'gbdt'\n",
    "#params['objective'] = 'gamma'\n",
    "#params['metric'] = 'l1'\n",
    "#params['sub_feature'] = 0.5\n",
    "#params['num_leaves'] = 40\n",
    "#params['min_data'] = 50\n",
    "#params['max_depth'] = 30\n",
    "\n",
    "#parameters = {\n",
    "#    'learning_rate' :\n",
    "#    'boosting_type' : 'gbdt'\n",
    "#    'objective' : 'gamma'\n",
    "#    'metric' : 'rmse'\n",
    "#    'sub_feature' :\n",
    "#    'num_leaves' :\n",
    "#    'min_data' :  \n",
    "#    'max_depth' : range(1, 16, 3)\n",
    "#}\n",
    "\n",
    "parameters = {\n",
    "    'n_estimators': range(10, 30, 10), \n",
    "    'num_leaves': range(10,30,10),\n",
    "    'max_depth' : range(1, 18, 3)\n",
    "}\n"
   ]
  },
  {
   "cell_type": "code",
   "execution_count": 57,
   "metadata": {},
   "outputs": [
    {
     "name": "stdout",
     "output_type": "stream",
     "text": [
      "Лучшие параметры: {'max_depth': 10, 'n_estimators': 20, 'num_leaves': 20}\n",
      "RMSE = 2218.14\n",
      "Время = 0:03:07.346986\n"
     ]
    }
   ],
   "source": [
    "grid_lgbm, rmse_lgbm_train, lgbm_time = find_best_model(features_train, target_train, lgbm, parameters)"
   ]
  },
  {
   "cell_type": "code",
   "execution_count": 58,
   "metadata": {},
   "outputs": [
    {
     "name": "stdout",
     "output_type": "stream",
     "text": [
      "RMSE = 2228.19\n",
      "Время предсказания = 0:00:00.104400\n"
     ]
    }
   ],
   "source": [
    "rmse_lgbm_test, preds_lgbm, lgbm_pred_time = get_predictions_and_rmse(grid_lgbm, features_test, target_test)"
   ]
  },
  {
   "cell_type": "markdown",
   "metadata": {},
   "source": [
    "## Анализ моделей"
   ]
  },
  {
   "cell_type": "code",
   "execution_count": 59,
   "metadata": {
    "scrolled": true
   },
   "outputs": [
    {
     "data": {
      "text/html": [
       "<div>\n",
       "<style scoped>\n",
       "    .dataframe tbody tr th:only-of-type {\n",
       "        vertical-align: middle;\n",
       "    }\n",
       "\n",
       "    .dataframe tbody tr th {\n",
       "        vertical-align: top;\n",
       "    }\n",
       "\n",
       "    .dataframe thead th {\n",
       "        text-align: right;\n",
       "    }\n",
       "</style>\n",
       "<table border=\"1\" class=\"dataframe\">\n",
       "  <thead>\n",
       "    <tr style=\"text-align: right;\">\n",
       "      <th></th>\n",
       "      <th>RMSE</th>\n",
       "      <th>Время обучения</th>\n",
       "      <th>Время пресказания</th>\n",
       "    </tr>\n",
       "  </thead>\n",
       "  <tbody>\n",
       "    <tr>\n",
       "      <td>Dummy</td>\n",
       "      <td>4508.59</td>\n",
       "      <td>мгновение</td>\n",
       "      <td>мгновение</td>\n",
       "    </tr>\n",
       "    <tr>\n",
       "      <td>Linear</td>\n",
       "      <td>3163.83</td>\n",
       "      <td>0:00:34.061702</td>\n",
       "      <td>0:00:00.028686</td>\n",
       "    </tr>\n",
       "    <tr>\n",
       "      <td>DecisionTree</td>\n",
       "      <td>1901.17</td>\n",
       "      <td>0:00:55.337022</td>\n",
       "      <td>0:00:00.015866</td>\n",
       "    </tr>\n",
       "    <tr>\n",
       "      <td>RandomForest</td>\n",
       "      <td>1733.99</td>\n",
       "      <td>0:03:42.738740</td>\n",
       "      <td>0:00:00.278529</td>\n",
       "    </tr>\n",
       "    <tr>\n",
       "      <td>LightGBM</td>\n",
       "      <td>2228.19</td>\n",
       "      <td>0:03:07.346986</td>\n",
       "      <td>0:00:00.104400</td>\n",
       "    </tr>\n",
       "  </tbody>\n",
       "</table>\n",
       "</div>"
      ],
      "text/plain": [
       "                RMSE  Время обучения Время пресказания\n",
       "Dummy        4508.59       мгновение         мгновение\n",
       "Linear       3163.83  0:00:34.061702    0:00:00.028686\n",
       "DecisionTree 1901.17  0:00:55.337022    0:00:00.015866\n",
       "RandomForest 1733.99  0:03:42.738740    0:00:00.278529\n",
       "LightGBM     2228.19  0:03:07.346986    0:00:00.104400"
      ]
     },
     "metadata": {},
     "output_type": "display_data"
    }
   ],
   "source": [
    "data_finish = {'RMSE' : \\\n",
    "               [rmse_dr, rmse_lr_test, rmse_dtr_test, rmse_rfr_test, rmse_lgbm_test],\n",
    "               'Время обучения' : \\\n",
    "               ['мгновение', lr_time, dtr_time, rfr_time, lgbm_time],\n",
    "               'Время пресказания' : \\\n",
    "               ['мгновение', lr_pred_time, dtr_pred_time, rfr_pred_time, lgbm_pred_time]\n",
    "}\n",
    "\n",
    "#'Модель' : \\\n",
    "#               ['Dummy', 'Linear', 'DecisionTree', 'RandomForest', 'LightGBM']\n",
    "frame = pd.DataFrame(data_finish, index = ['Dummy', 'Linear', 'DecisionTree', 'RandomForest', 'LightGBM'])\n",
    "\n",
    "display(frame)"
   ]
  },
  {
   "cell_type": "markdown",
   "metadata": {},
   "source": [
    "## Важность признаков"
   ]
  },
  {
   "cell_type": "markdown",
   "metadata": {},
   "source": [
    "Посмотрим, какие признаки важны для lgbm модели."
   ]
  },
  {
   "cell_type": "code",
   "execution_count": 60,
   "metadata": {},
   "outputs": [
    {
     "data": {
      "image/png": "[encoded data removed]",
      "text/plain": [
       "<Figure size 1152x432 with 1 Axes>"
      ]
     },
     "metadata": {
      "needs_background": "light"
     },
     "output_type": "display_data"
    }
   ],
   "source": [
    "lgbm = LGBMRegressor(random_state=12345, n_estimators=20, max_depth=10, num_leaves=20, categorial_features=categories)\n",
    "lgbm.fit(features_train, target_train)\n",
    "importances = lgbm.feature_importances_\n",
    "\n",
    "lgbm_importances = pd.Series(importances, index=features.columns).sort_values(ascending=False)\n",
    "\n",
    "plt.figure(figsize=(16, 6)) \n",
    "lgbm_importances.plot.bar(yerr=lgbm_importances).set_title(\"Feature importances\")\n",
    "plt.ylabel('importances')\n",
    "plt.show()"
   ]
  },
  {
   "cell_type": "markdown",
   "metadata": {},
   "source": [
    "Решающим признаком является год регистрации. Возможно, разбивка на категории \"ретро\", \"новая\" действительно уточнит модель. Несущественными оказались тип топлива и месяц регистрации."
   ]
  },
  {
   "cell_type": "markdown",
   "metadata": {},
   "source": [
    "## Общий вывод"
   ]
  },
  {
   "cell_type": "markdown",
   "metadata": {},
   "source": [
    "- На этапе предобработки обнаружено много пропусков в колонке NotRepaired — была машина в ремонте или нет. Заменили на \"unknown\". Однако, для достижения более точного результата, **стоит поговорить с заказчиком**: может, информация по пропускам есть. Удалили артефакты в каждом признаке.\n",
    "\n",
    "\n",
    "- Обучили несколько моделей (Линейной регрессии, дерева решений, случайного леса и LightGBM). **Лучший результат RMSE** показала модель случайного леса (RMSE = 1751, learning_time = 3:42 мин) **лучшая скорость обучения** у линейной регрессии, но самый низкий RMSE (RMSE = 3142, learning_time = 34 с). **Быстрее всего предсказывает** модель решающего дерева, причём не намного хуже, чем случайного леса (RMSE = 1901,\tprediction_time = 00.015 с). Предположительно, можно улучшить результат, если тщательнее подобрать параметры для LightGBM (пока не очень понимаю, как их лучше задавать, от каких значений отталкиваться. Решила пока сдать так, ибо дальше из идей только рандомно пробовать разное).\n"
   ]
  }
 ],
 "metadata": {
  "ExecuteTimeLog": [
   {
    "duration": 1130,
    "start_time": "2021-09-22T11:39:08.710Z"
   },
   {
    "duration": 4627,
    "start_time": "2021-09-22T11:39:54.800Z"
   },
   {
    "duration": 125,
    "start_time": "2021-09-22T11:40:14.247Z"
   },
   {
    "duration": 127,
    "start_time": "2021-09-22T11:56:47.547Z"
   },
   {
    "duration": 42,
    "start_time": "2021-09-22T12:13:23.397Z"
   },
   {
    "duration": 47,
    "start_time": "2021-09-22T12:14:32.823Z"
   },
   {
    "duration": 38,
    "start_time": "2021-09-22T12:15:22.796Z"
   },
   {
    "duration": 56,
    "start_time": "2021-09-22T12:17:34.887Z"
   },
   {
    "duration": 69,
    "start_time": "2021-09-22T12:18:35.743Z"
   },
   {
    "duration": 58,
    "start_time": "2021-09-22T12:19:00.520Z"
   },
   {
    "duration": 130,
    "start_time": "2021-09-22T12:21:06.982Z"
   },
   {
    "duration": 55,
    "start_time": "2021-09-22T12:46:30.359Z"
   },
   {
    "duration": 53,
    "start_time": "2021-09-22T12:50:45.416Z"
   },
   {
    "duration": 53,
    "start_time": "2021-09-22T12:50:53.566Z"
   },
   {
    "duration": 274,
    "start_time": "2021-09-22T12:51:36.470Z"
   },
   {
    "duration": 74,
    "start_time": "2021-09-22T12:52:11.118Z"
   },
   {
    "duration": 5,
    "start_time": "2021-09-22T12:53:24.139Z"
   },
   {
    "duration": 1495,
    "start_time": "2021-09-22T12:53:24.146Z"
   },
   {
    "duration": 123,
    "start_time": "2021-09-22T12:53:25.643Z"
   },
   {
    "duration": 138,
    "start_time": "2021-09-22T12:53:25.768Z"
   },
   {
    "duration": 52,
    "start_time": "2021-09-22T12:53:25.908Z"
   },
   {
    "duration": 224,
    "start_time": "2021-09-22T12:53:28.238Z"
   },
   {
    "duration": 208,
    "start_time": "2021-09-22T12:55:05.974Z"
   },
   {
    "duration": 5,
    "start_time": "2021-09-22T12:55:12.158Z"
   },
   {
    "duration": 3216,
    "start_time": "2021-09-22T12:55:12.165Z"
   },
   {
    "duration": 142,
    "start_time": "2021-09-22T12:55:15.383Z"
   },
   {
    "duration": 139,
    "start_time": "2021-09-22T12:55:15.527Z"
   },
   {
    "duration": 66,
    "start_time": "2021-09-22T12:55:15.668Z"
   },
   {
    "duration": 96,
    "start_time": "2021-09-22T12:55:22.583Z"
   },
   {
    "duration": 5,
    "start_time": "2021-09-22T12:55:38.120Z"
   },
   {
    "duration": 1310,
    "start_time": "2021-09-22T12:55:38.126Z"
   },
   {
    "duration": 127,
    "start_time": "2021-09-22T12:55:39.438Z"
   },
   {
    "duration": 134,
    "start_time": "2021-09-22T12:55:39.567Z"
   },
   {
    "duration": 54,
    "start_time": "2021-09-22T12:55:39.703Z"
   },
   {
    "duration": 68,
    "start_time": "2021-09-22T12:55:43.694Z"
   },
   {
    "duration": 134,
    "start_time": "2021-09-22T12:57:05.709Z"
   },
   {
    "duration": 5,
    "start_time": "2021-09-22T12:58:03.855Z"
   },
   {
    "duration": 1315,
    "start_time": "2021-09-22T12:58:03.863Z"
   },
   {
    "duration": 135,
    "start_time": "2021-09-22T12:58:05.180Z"
   },
   {
    "duration": 129,
    "start_time": "2021-09-22T12:58:05.317Z"
   },
   {
    "duration": 63,
    "start_time": "2021-09-22T12:58:05.447Z"
   },
   {
    "duration": 70,
    "start_time": "2021-09-22T12:58:10.158Z"
   },
   {
    "duration": 129,
    "start_time": "2021-09-22T12:58:16.676Z"
   },
   {
    "duration": 121,
    "start_time": "2021-09-22T13:05:47.092Z"
   },
   {
    "duration": 397,
    "start_time": "2021-09-22T13:05:51.659Z"
   },
   {
    "duration": 863,
    "start_time": "2021-09-22T13:07:10.029Z"
   },
   {
    "duration": 31,
    "start_time": "2021-09-22T13:08:23.123Z"
   },
   {
    "duration": 20,
    "start_time": "2021-09-22T13:09:32.611Z"
   },
   {
    "duration": 20,
    "start_time": "2021-09-22T13:10:16.108Z"
   },
   {
    "duration": 20,
    "start_time": "2021-09-22T13:19:34.330Z"
   },
   {
    "duration": 1119,
    "start_time": "2021-09-23T11:45:49.187Z"
   },
   {
    "duration": 1900,
    "start_time": "2021-09-23T11:45:50.308Z"
   },
   {
    "duration": 149,
    "start_time": "2021-09-23T11:45:52.210Z"
   },
   {
    "duration": 150,
    "start_time": "2021-09-23T11:45:52.362Z"
   },
   {
    "duration": 73,
    "start_time": "2021-09-23T11:45:52.514Z"
   },
   {
    "duration": 96,
    "start_time": "2021-09-23T11:45:52.589Z"
   },
   {
    "duration": 127,
    "start_time": "2021-09-23T11:45:52.687Z"
   },
   {
    "duration": 881,
    "start_time": "2021-09-23T11:45:52.816Z"
   },
   {
    "duration": 21,
    "start_time": "2021-09-23T11:45:53.699Z"
   },
   {
    "duration": 35,
    "start_time": "2021-09-23T11:45:53.721Z"
   },
   {
    "duration": 21,
    "start_time": "2021-09-23T11:45:53.758Z"
   },
   {
    "duration": 20,
    "start_time": "2021-09-23T11:45:53.781Z"
   },
   {
    "duration": 30,
    "start_time": "2021-09-23T11:48:40.095Z"
   },
   {
    "duration": 79,
    "start_time": "2021-09-23T11:51:45.597Z"
   },
   {
    "duration": 13,
    "start_time": "2021-09-23T11:51:54.302Z"
   },
   {
    "duration": 85,
    "start_time": "2021-09-23T11:54:27.415Z"
   },
   {
    "duration": 107,
    "start_time": "2021-09-23T11:54:36.654Z"
   },
   {
    "duration": 5,
    "start_time": "2021-09-23T12:38:29.686Z"
   },
   {
    "duration": 1680,
    "start_time": "2021-09-23T12:38:29.693Z"
   },
   {
    "duration": 132,
    "start_time": "2021-09-23T12:38:31.375Z"
   },
   {
    "duration": 138,
    "start_time": "2021-09-23T12:38:31.509Z"
   },
   {
    "duration": 54,
    "start_time": "2021-09-23T12:38:31.649Z"
   },
   {
    "duration": 87,
    "start_time": "2021-09-23T12:38:31.705Z"
   },
   {
    "duration": 129,
    "start_time": "2021-09-23T12:38:31.794Z"
   },
   {
    "duration": 903,
    "start_time": "2021-09-23T12:38:31.925Z"
   },
   {
    "duration": 25,
    "start_time": "2021-09-23T12:38:32.830Z"
   },
   {
    "duration": 19,
    "start_time": "2021-09-23T12:38:32.857Z"
   },
   {
    "duration": 21,
    "start_time": "2021-09-23T12:38:32.878Z"
   },
   {
    "duration": 22,
    "start_time": "2021-09-23T12:38:32.901Z"
   },
   {
    "duration": 200,
    "start_time": "2021-09-23T12:38:32.924Z"
   },
   {
    "duration": 5,
    "start_time": "2021-09-23T12:38:48.012Z"
   },
   {
    "duration": 5,
    "start_time": "2021-09-23T12:40:33.782Z"
   },
   {
    "duration": 1509,
    "start_time": "2021-09-23T12:40:33.789Z"
   },
   {
    "duration": 146,
    "start_time": "2021-09-23T12:40:35.300Z"
   },
   {
    "duration": 134,
    "start_time": "2021-09-23T12:40:35.448Z"
   },
   {
    "duration": 68,
    "start_time": "2021-09-23T12:40:35.584Z"
   },
   {
    "duration": 75,
    "start_time": "2021-09-23T12:40:35.654Z"
   },
   {
    "duration": 144,
    "start_time": "2021-09-23T12:40:35.731Z"
   },
   {
    "duration": 940,
    "start_time": "2021-09-23T12:40:35.878Z"
   },
   {
    "duration": 18,
    "start_time": "2021-09-23T12:40:36.820Z"
   },
   {
    "duration": 26,
    "start_time": "2021-09-23T12:40:36.845Z"
   },
   {
    "duration": 24,
    "start_time": "2021-09-23T12:40:36.872Z"
   },
   {
    "duration": 23,
    "start_time": "2021-09-23T12:40:36.897Z"
   },
   {
    "duration": 191,
    "start_time": "2021-09-23T12:40:36.922Z"
   },
   {
    "duration": 3,
    "start_time": "2021-09-23T12:46:54.917Z"
   },
   {
    "duration": 759,
    "start_time": "2021-09-23T12:48:58.826Z"
   },
   {
    "duration": 703,
    "start_time": "2021-09-23T12:49:35.580Z"
   },
   {
    "duration": 712,
    "start_time": "2021-09-23T12:50:19.279Z"
   },
   {
    "duration": 4,
    "start_time": "2021-09-23T12:53:29.912Z"
   },
   {
    "duration": 663,
    "start_time": "2021-09-23T12:53:32.442Z"
   },
   {
    "duration": 621,
    "start_time": "2021-09-23T12:53:42.088Z"
   },
   {
    "duration": 746,
    "start_time": "2021-09-23T12:54:10.400Z"
   },
   {
    "duration": 738,
    "start_time": "2021-09-23T12:54:24.480Z"
   },
   {
    "duration": 782,
    "start_time": "2021-09-23T12:54:28.857Z"
   },
   {
    "duration": 1445,
    "start_time": "2021-09-23T13:30:53.463Z"
   },
   {
    "duration": 1443,
    "start_time": "2021-09-23T13:30:59.096Z"
   },
   {
    "duration": 1351,
    "start_time": "2021-09-23T13:31:05.521Z"
   },
   {
    "duration": 1473,
    "start_time": "2021-09-23T13:31:10.419Z"
   },
   {
    "duration": 5,
    "start_time": "2021-09-23T13:39:29.406Z"
   },
   {
    "duration": 5,
    "start_time": "2021-09-23T13:40:55.216Z"
   },
   {
    "duration": 1669,
    "start_time": "2021-09-23T13:40:55.222Z"
   },
   {
    "duration": 137,
    "start_time": "2021-09-23T13:40:56.893Z"
   },
   {
    "duration": 136,
    "start_time": "2021-09-23T13:40:57.044Z"
   },
   {
    "duration": 64,
    "start_time": "2021-09-23T13:40:57.182Z"
   },
   {
    "duration": 68,
    "start_time": "2021-09-23T13:40:57.248Z"
   },
   {
    "duration": 142,
    "start_time": "2021-09-23T13:40:57.318Z"
   },
   {
    "duration": 855,
    "start_time": "2021-09-23T13:40:57.462Z"
   },
   {
    "duration": 26,
    "start_time": "2021-09-23T13:40:58.320Z"
   },
   {
    "duration": 31,
    "start_time": "2021-09-23T13:40:58.348Z"
   },
   {
    "duration": 25,
    "start_time": "2021-09-23T13:40:58.380Z"
   },
   {
    "duration": 35,
    "start_time": "2021-09-23T13:40:58.407Z"
   },
   {
    "duration": 32,
    "start_time": "2021-09-23T13:40:58.444Z"
   },
   {
    "duration": 394,
    "start_time": "2021-09-23T13:40:58.478Z"
   },
   {
    "duration": 291,
    "start_time": "2021-09-23T13:41:09.021Z"
   },
   {
    "duration": 244,
    "start_time": "2021-09-23T13:41:23.206Z"
   },
   {
    "duration": 116,
    "start_time": "2021-09-23T13:41:25.486Z"
   },
   {
    "duration": 4,
    "start_time": "2021-09-23T13:41:48.646Z"
   },
   {
    "duration": 1182,
    "start_time": "2021-09-23T13:41:50.364Z"
   },
   {
    "duration": 148,
    "start_time": "2021-09-23T13:44:14.042Z"
   },
   {
    "duration": 1194,
    "start_time": "2021-09-23T13:44:59.540Z"
   },
   {
    "duration": 217,
    "start_time": "2021-09-23T13:58:54.818Z"
   },
   {
    "duration": 1302,
    "start_time": "2021-09-23T13:59:11.921Z"
   },
   {
    "duration": 5,
    "start_time": "2021-09-23T13:59:41.772Z"
   },
   {
    "duration": 1396,
    "start_time": "2021-09-23T13:59:41.780Z"
   },
   {
    "duration": 135,
    "start_time": "2021-09-23T13:59:43.178Z"
   },
   {
    "duration": 139,
    "start_time": "2021-09-23T13:59:43.315Z"
   },
   {
    "duration": 56,
    "start_time": "2021-09-23T13:59:43.457Z"
   },
   {
    "duration": 84,
    "start_time": "2021-09-23T13:59:43.515Z"
   },
   {
    "duration": 124,
    "start_time": "2021-09-23T13:59:43.601Z"
   },
   {
    "duration": 858,
    "start_time": "2021-09-23T13:59:43.728Z"
   },
   {
    "duration": 18,
    "start_time": "2021-09-23T13:59:44.588Z"
   },
   {
    "duration": 28,
    "start_time": "2021-09-23T13:59:44.607Z"
   },
   {
    "duration": 29,
    "start_time": "2021-09-23T13:59:44.637Z"
   },
   {
    "duration": 29,
    "start_time": "2021-09-23T13:59:44.667Z"
   },
   {
    "duration": 13,
    "start_time": "2021-09-23T13:59:44.698Z"
   },
   {
    "duration": 246,
    "start_time": "2021-09-23T13:59:44.712Z"
   },
   {
    "duration": 127,
    "start_time": "2021-09-23T13:59:44.959Z"
   },
   {
    "duration": 3,
    "start_time": "2021-09-23T13:59:45.087Z"
   },
   {
    "duration": 1241,
    "start_time": "2021-09-23T13:59:45.091Z"
   },
   {
    "duration": 155,
    "start_time": "2021-09-23T13:59:46.334Z"
   },
   {
    "duration": 1175,
    "start_time": "2021-09-23T13:59:46.491Z"
   },
   {
    "duration": 214,
    "start_time": "2021-09-23T13:59:47.668Z"
   },
   {
    "duration": 1306,
    "start_time": "2021-09-23T13:59:52.362Z"
   },
   {
    "duration": 5,
    "start_time": "2021-09-23T14:04:47.579Z"
   },
   {
    "duration": 1374,
    "start_time": "2021-09-23T14:04:47.586Z"
   },
   {
    "duration": 136,
    "start_time": "2021-09-23T14:04:48.962Z"
   },
   {
    "duration": 138,
    "start_time": "2021-09-23T14:04:49.100Z"
   },
   {
    "duration": 56,
    "start_time": "2021-09-23T14:04:49.243Z"
   },
   {
    "duration": 82,
    "start_time": "2021-09-23T14:04:49.301Z"
   },
   {
    "duration": 121,
    "start_time": "2021-09-23T14:04:49.385Z"
   },
   {
    "duration": 859,
    "start_time": "2021-09-23T14:04:49.508Z"
   },
   {
    "duration": 19,
    "start_time": "2021-09-23T14:04:50.369Z"
   },
   {
    "duration": 31,
    "start_time": "2021-09-23T14:04:50.389Z"
   },
   {
    "duration": 30,
    "start_time": "2021-09-23T14:04:50.421Z"
   },
   {
    "duration": 28,
    "start_time": "2021-09-23T14:04:50.453Z"
   },
   {
    "duration": 20,
    "start_time": "2021-09-23T14:04:50.483Z"
   },
   {
    "duration": 247,
    "start_time": "2021-09-23T14:04:50.504Z"
   },
   {
    "duration": 122,
    "start_time": "2021-09-23T14:04:50.753Z"
   },
   {
    "duration": 3,
    "start_time": "2021-09-23T14:04:50.876Z"
   },
   {
    "duration": 1541,
    "start_time": "2021-09-23T14:04:50.881Z"
   },
   {
    "duration": 158,
    "start_time": "2021-09-23T14:04:52.423Z"
   },
   {
    "duration": 1485,
    "start_time": "2021-09-23T14:04:52.582Z"
   },
   {
    "duration": 210,
    "start_time": "2021-09-23T14:04:54.068Z"
   },
   {
    "duration": 1622,
    "start_time": "2021-09-23T14:04:54.279Z"
   },
   {
    "duration": 5,
    "start_time": "2021-09-23T14:05:48.451Z"
   },
   {
    "duration": 1534,
    "start_time": "2021-09-23T14:05:48.457Z"
   },
   {
    "duration": 152,
    "start_time": "2021-09-23T14:05:49.993Z"
   },
   {
    "duration": 138,
    "start_time": "2021-09-23T14:05:50.147Z"
   },
   {
    "duration": 65,
    "start_time": "2021-09-23T14:05:50.287Z"
   },
   {
    "duration": 69,
    "start_time": "2021-09-23T14:05:50.353Z"
   },
   {
    "duration": 135,
    "start_time": "2021-09-23T14:05:50.424Z"
   },
   {
    "duration": 973,
    "start_time": "2021-09-23T14:05:50.561Z"
   },
   {
    "duration": 25,
    "start_time": "2021-09-23T14:05:51.536Z"
   },
   {
    "duration": 22,
    "start_time": "2021-09-23T14:05:51.563Z"
   },
   {
    "duration": 22,
    "start_time": "2021-09-23T14:05:51.587Z"
   },
   {
    "duration": 37,
    "start_time": "2021-09-23T14:05:51.611Z"
   },
   {
    "duration": 8,
    "start_time": "2021-09-23T14:05:51.650Z"
   },
   {
    "duration": 269,
    "start_time": "2021-09-23T14:05:51.660Z"
   },
   {
    "duration": 131,
    "start_time": "2021-09-23T14:05:51.931Z"
   },
   {
    "duration": 3,
    "start_time": "2021-09-23T14:05:52.064Z"
   },
   {
    "duration": 1542,
    "start_time": "2021-09-23T14:05:52.068Z"
   },
   {
    "duration": 168,
    "start_time": "2021-09-23T14:05:53.612Z"
   },
   {
    "duration": 1669,
    "start_time": "2021-09-23T14:05:53.782Z"
   },
   {
    "duration": 236,
    "start_time": "2021-09-23T14:05:55.453Z"
   },
   {
    "duration": 1761,
    "start_time": "2021-09-23T14:05:55.690Z"
   },
   {
    "duration": 1659,
    "start_time": "2021-09-23T14:17:12.957Z"
   },
   {
    "duration": 1658,
    "start_time": "2021-09-23T14:17:24.749Z"
   },
   {
    "duration": 1533,
    "start_time": "2021-09-24T09:40:28.065Z"
   },
   {
    "duration": 3450,
    "start_time": "2021-09-24T09:40:29.600Z"
   },
   {
    "duration": 183,
    "start_time": "2021-09-24T09:40:33.053Z"
   },
   {
    "duration": 195,
    "start_time": "2021-09-24T09:40:33.239Z"
   },
   {
    "duration": 81,
    "start_time": "2021-09-24T09:40:33.437Z"
   },
   {
    "duration": 150,
    "start_time": "2021-09-24T09:40:33.520Z"
   },
   {
    "duration": 172,
    "start_time": "2021-09-24T09:40:33.672Z"
   },
   {
    "duration": 1461,
    "start_time": "2021-09-24T09:40:33.847Z"
   },
   {
    "duration": 26,
    "start_time": "2021-09-24T09:40:35.311Z"
   },
   {
    "duration": 43,
    "start_time": "2021-09-24T09:40:35.341Z"
   },
   {
    "duration": 27,
    "start_time": "2021-09-24T09:40:35.387Z"
   },
   {
    "duration": 52,
    "start_time": "2021-09-24T09:40:35.416Z"
   },
   {
    "duration": 6,
    "start_time": "2021-09-24T09:40:35.471Z"
   },
   {
    "duration": 401,
    "start_time": "2021-09-24T09:40:35.479Z"
   },
   {
    "duration": 158,
    "start_time": "2021-09-24T09:40:35.883Z"
   },
   {
    "duration": 4,
    "start_time": "2021-09-24T09:40:36.043Z"
   },
   {
    "duration": 344240,
    "start_time": "2021-09-24T09:40:36.050Z"
   },
   {
    "duration": -290,
    "start_time": "2021-09-24T09:46:20.585Z"
   },
   {
    "duration": 7,
    "start_time": "2021-09-24T09:46:22.227Z"
   },
   {
    "duration": 7533,
    "start_time": "2021-09-24T09:46:22.236Z"
   },
   {
    "duration": 715,
    "start_time": "2021-09-24T09:46:29.998Z"
   },
   {
    "duration": 220,
    "start_time": "2021-09-24T09:46:30.716Z"
   },
   {
    "duration": 78,
    "start_time": "2021-09-24T09:46:30.938Z"
   },
   {
    "duration": 164,
    "start_time": "2021-09-24T09:46:31.018Z"
   },
   {
    "duration": 204,
    "start_time": "2021-09-24T09:46:31.185Z"
   },
   {
    "duration": 1544,
    "start_time": "2021-09-24T09:46:31.391Z"
   },
   {
    "duration": 47,
    "start_time": "2021-09-24T09:46:32.938Z"
   },
   {
    "duration": 132,
    "start_time": "2021-09-24T09:46:48.815Z"
   },
   {
    "duration": 8,
    "start_time": "2021-09-24T09:46:57.519Z"
   },
   {
    "duration": 141,
    "start_time": "2021-09-24T09:47:09.206Z"
   },
   {
    "duration": 10,
    "start_time": "2021-09-24T09:47:38.998Z"
   },
   {
    "duration": 7,
    "start_time": "2021-09-24T09:48:26.838Z"
   },
   {
    "duration": 209,
    "start_time": "2021-09-24T09:48:33.840Z"
   },
   {
    "duration": 117,
    "start_time": "2021-09-24T09:48:35.238Z"
   },
   {
    "duration": 25,
    "start_time": "2021-09-24T09:49:19.066Z"
   },
   {
    "duration": 1612,
    "start_time": "2021-09-24T09:49:40.084Z"
   },
   {
    "duration": 3222,
    "start_time": "2021-09-24T09:49:41.699Z"
   },
   {
    "duration": 204,
    "start_time": "2021-09-24T09:49:44.924Z"
   },
   {
    "duration": 196,
    "start_time": "2021-09-24T09:49:45.131Z"
   },
   {
    "duration": 84,
    "start_time": "2021-09-24T09:49:45.330Z"
   },
   {
    "duration": 150,
    "start_time": "2021-09-24T09:49:45.417Z"
   },
   {
    "duration": 164,
    "start_time": "2021-09-24T09:49:45.570Z"
   },
   {
    "duration": 1503,
    "start_time": "2021-09-24T09:49:45.737Z"
   },
   {
    "duration": 359,
    "start_time": "2021-09-24T09:49:47.243Z"
   },
   {
    "duration": 27,
    "start_time": "2021-09-24T09:49:47.604Z"
   },
   {
    "duration": 43,
    "start_time": "2021-09-24T09:49:47.634Z"
   },
   {
    "duration": 34,
    "start_time": "2021-09-24T09:49:47.680Z"
   },
   {
    "duration": 42,
    "start_time": "2021-09-24T09:49:47.717Z"
   },
   {
    "duration": 14,
    "start_time": "2021-09-24T09:49:47.761Z"
   },
   {
    "duration": 390,
    "start_time": "2021-09-24T09:49:47.777Z"
   },
   {
    "duration": 115,
    "start_time": "2021-09-24T09:49:48.170Z"
   },
   {
    "duration": 4,
    "start_time": "2021-09-24T09:49:48.287Z"
   },
   {
    "duration": 3490,
    "start_time": "2021-09-24T09:49:48.293Z"
   },
   {
    "duration": 4,
    "start_time": "2021-09-24T10:56:50.865Z"
   },
   {
    "duration": 2883,
    "start_time": "2021-09-24T10:56:52.243Z"
   },
   {
    "duration": 5,
    "start_time": "2021-09-24T10:57:12.929Z"
   },
   {
    "duration": 2600,
    "start_time": "2021-09-24T10:57:14.507Z"
   },
   {
    "duration": 4,
    "start_time": "2021-09-24T10:57:37.872Z"
   },
   {
    "duration": 2972,
    "start_time": "2021-09-24T10:57:39.478Z"
   },
   {
    "duration": 4,
    "start_time": "2021-09-24T10:57:54.513Z"
   },
   {
    "duration": 2620,
    "start_time": "2021-09-24T10:57:55.676Z"
   },
   {
    "duration": 240,
    "start_time": "2021-09-24T11:01:18.689Z"
   },
   {
    "duration": 216,
    "start_time": "2021-09-24T11:01:24.897Z"
   },
   {
    "duration": 31,
    "start_time": "2021-09-24T11:03:57.313Z"
   },
   {
    "duration": 26,
    "start_time": "2021-09-24T11:04:25.163Z"
   },
   {
    "duration": 26,
    "start_time": "2021-09-24T11:05:20.841Z"
   },
   {
    "duration": 10,
    "start_time": "2021-09-24T11:09:02.735Z"
   },
   {
    "duration": 7,
    "start_time": "2021-09-24T11:09:15.712Z"
   },
   {
    "duration": 28,
    "start_time": "2021-09-24T11:09:27.263Z"
   },
   {
    "duration": 8,
    "start_time": "2021-09-24T11:09:28.607Z"
   },
   {
    "duration": 8,
    "start_time": "2021-09-24T11:10:02.281Z"
   },
   {
    "duration": 8,
    "start_time": "2021-09-24T11:10:21.519Z"
   },
   {
    "duration": 19,
    "start_time": "2021-09-24T11:12:25.598Z"
   },
   {
    "duration": 20,
    "start_time": "2021-09-24T11:12:41.230Z"
   },
   {
    "duration": 20,
    "start_time": "2021-09-24T11:13:03.830Z"
   },
   {
    "duration": 17,
    "start_time": "2021-09-24T11:13:20.761Z"
   },
   {
    "duration": 18,
    "start_time": "2021-09-24T11:13:28.231Z"
   },
   {
    "duration": 8,
    "start_time": "2021-09-24T12:37:08.459Z"
   },
   {
    "duration": 3497,
    "start_time": "2021-09-24T12:37:08.470Z"
   },
   {
    "duration": 182,
    "start_time": "2021-09-24T12:37:11.970Z"
   },
   {
    "duration": 68,
    "start_time": "2021-09-24T12:37:12.154Z"
   },
   {
    "duration": 185,
    "start_time": "2021-09-24T12:37:12.225Z"
   },
   {
    "duration": 86,
    "start_time": "2021-09-24T12:37:12.412Z"
   },
   {
    "duration": 95,
    "start_time": "2021-09-24T12:37:12.500Z"
   },
   {
    "duration": 115,
    "start_time": "2021-09-24T12:37:12.597Z"
   },
   {
    "duration": 539,
    "start_time": "2021-09-24T12:37:12.716Z"
   },
   {
    "duration": 27,
    "start_time": "2021-09-24T12:37:13.258Z"
   },
   {
    "duration": 26,
    "start_time": "2021-09-24T12:37:13.287Z"
   },
   {
    "duration": 52,
    "start_time": "2021-09-24T12:37:13.315Z"
   },
   {
    "duration": 30,
    "start_time": "2021-09-24T12:37:13.370Z"
   },
   {
    "duration": 15,
    "start_time": "2021-09-24T12:37:13.402Z"
   },
   {
    "duration": 299,
    "start_time": "2021-09-24T12:37:13.419Z"
   },
   {
    "duration": 97,
    "start_time": "2021-09-24T12:37:13.720Z"
   },
   {
    "duration": 4,
    "start_time": "2021-09-24T12:37:13.820Z"
   },
   {
    "duration": 2714,
    "start_time": "2021-09-24T12:37:13.827Z"
   },
   {
    "duration": 134,
    "start_time": "2021-09-24T12:37:16.544Z"
   },
   {
    "duration": 2745,
    "start_time": "2021-09-24T12:37:16.681Z"
   },
   {
    "duration": 190,
    "start_time": "2021-09-24T12:37:19.428Z"
   },
   {
    "duration": 2641,
    "start_time": "2021-09-24T12:37:19.621Z"
   },
   {
    "duration": 7,
    "start_time": "2021-09-24T12:39:23.404Z"
   },
   {
    "duration": 3439,
    "start_time": "2021-09-24T12:39:23.414Z"
   },
   {
    "duration": 178,
    "start_time": "2021-09-24T12:39:26.856Z"
   },
   {
    "duration": 1324,
    "start_time": "2021-09-24T12:39:59.885Z"
   },
   {
    "duration": 55,
    "start_time": "2021-09-24T12:40:04.803Z"
   },
   {
    "duration": 277,
    "start_time": "2021-09-24T12:40:06.660Z"
   },
   {
    "duration": 71,
    "start_time": "2021-09-24T12:40:10.395Z"
   },
   {
    "duration": 78,
    "start_time": "2021-09-24T12:40:11.971Z"
   },
   {
    "duration": 101,
    "start_time": "2021-09-24T12:40:13.387Z"
   },
   {
    "duration": 27,
    "start_time": "2021-09-24T12:40:15.956Z"
   },
   {
    "duration": 27,
    "start_time": "2021-09-24T12:40:16.858Z"
   },
   {
    "duration": 28,
    "start_time": "2021-09-24T12:40:17.819Z"
   },
   {
    "duration": 27,
    "start_time": "2021-09-24T12:40:18.507Z"
   },
   {
    "duration": 7,
    "start_time": "2021-09-24T12:40:19.080Z"
   },
   {
    "duration": 309,
    "start_time": "2021-09-24T12:40:21.835Z"
   },
   {
    "duration": 98,
    "start_time": "2021-09-24T12:40:22.859Z"
   },
   {
    "duration": 4,
    "start_time": "2021-09-24T12:40:27.027Z"
   },
   {
    "duration": 2659,
    "start_time": "2021-09-24T12:40:29.163Z"
   },
   {
    "duration": 131,
    "start_time": "2021-09-24T12:40:39.813Z"
   },
   {
    "duration": 2643,
    "start_time": "2021-09-24T12:40:43.284Z"
   },
   {
    "duration": 197,
    "start_time": "2021-09-24T12:40:52.651Z"
   },
   {
    "duration": 2707,
    "start_time": "2021-09-24T12:40:56.530Z"
   },
   {
    "duration": 4,
    "start_time": "2021-09-24T12:54:06.563Z"
   },
   {
    "duration": 279,
    "start_time": "2021-09-24T12:58:24.032Z"
   },
   {
    "duration": 301,
    "start_time": "2021-09-24T13:03:48.101Z"
   },
   {
    "duration": 440,
    "start_time": "2021-09-24T13:03:56.190Z"
   },
   {
    "duration": 363,
    "start_time": "2021-09-24T13:04:13.544Z"
   },
   {
    "duration": 291,
    "start_time": "2021-09-24T13:04:29.568Z"
   },
   {
    "duration": 3,
    "start_time": "2021-09-24T13:05:27.718Z"
   },
   {
    "duration": 366,
    "start_time": "2021-09-24T13:05:33.382Z"
   },
   {
    "duration": 374,
    "start_time": "2021-09-24T13:05:38.567Z"
   },
   {
    "duration": 26,
    "start_time": "2021-09-24T13:12:07.742Z"
   },
   {
    "duration": 7,
    "start_time": "2021-09-24T13:12:45.472Z"
   },
   {
    "duration": 6,
    "start_time": "2021-09-24T13:13:03.493Z"
   },
   {
    "duration": 298,
    "start_time": "2021-09-24T13:13:20.237Z"
   },
   {
    "duration": 447,
    "start_time": "2021-09-24T13:13:38.325Z"
   },
   {
    "duration": 261,
    "start_time": "2021-09-24T13:14:17.494Z"
   },
   {
    "duration": 335,
    "start_time": "2021-09-24T13:14:31.597Z"
   },
   {
    "duration": 315,
    "start_time": "2021-09-24T13:14:40.623Z"
   },
   {
    "duration": 493,
    "start_time": "2021-09-24T13:16:32.382Z"
   },
   {
    "duration": 24,
    "start_time": "2021-09-24T13:18:37.403Z"
   },
   {
    "duration": 6,
    "start_time": "2021-09-24T13:18:39.919Z"
   },
   {
    "duration": 456,
    "start_time": "2021-09-24T13:20:32.919Z"
   },
   {
    "duration": 42,
    "start_time": "2021-09-24T13:20:57.806Z"
   },
   {
    "duration": 7,
    "start_time": "2021-09-24T13:20:59.024Z"
   },
   {
    "duration": 449,
    "start_time": "2021-09-24T13:21:01.768Z"
   },
   {
    "duration": 38,
    "start_time": "2021-09-24T13:25:51.829Z"
   },
   {
    "duration": 11,
    "start_time": "2021-09-24T13:26:01.101Z"
   },
   {
    "duration": 6,
    "start_time": "2021-09-24T13:26:52.895Z"
   },
   {
    "duration": 315,
    "start_time": "2021-09-24T13:27:21.004Z"
   },
   {
    "duration": 271,
    "start_time": "2021-09-24T13:27:29.652Z"
   },
   {
    "duration": 6,
    "start_time": "2021-09-24T13:27:44.118Z"
   },
   {
    "duration": 498,
    "start_time": "2021-09-24T13:27:55.580Z"
   },
   {
    "duration": 38,
    "start_time": "2021-09-24T13:29:54.730Z"
   },
   {
    "duration": 415,
    "start_time": "2021-09-24T13:29:57.870Z"
   },
   {
    "duration": 10,
    "start_time": "2021-09-24T13:30:51.004Z"
   },
   {
    "duration": 1198,
    "start_time": "2021-09-24T13:31:33.241Z"
   },
   {
    "duration": 39,
    "start_time": "2021-09-24T13:31:42.837Z"
   },
   {
    "duration": 9,
    "start_time": "2021-09-24T13:31:49.014Z"
   },
   {
    "duration": 418,
    "start_time": "2021-09-24T13:32:49.645Z"
   },
   {
    "duration": 1887,
    "start_time": "2021-09-28T12:33:00.459Z"
   },
   {
    "duration": 4220,
    "start_time": "2021-09-28T12:33:02.348Z"
   },
   {
    "duration": 239,
    "start_time": "2021-09-28T12:33:06.573Z"
   },
   {
    "duration": 1689,
    "start_time": "2021-09-28T12:33:06.815Z"
   },
   {
    "duration": 83,
    "start_time": "2021-09-28T12:33:08.507Z"
   },
   {
    "duration": 196,
    "start_time": "2021-09-28T12:33:08.593Z"
   },
   {
    "duration": 102,
    "start_time": "2021-09-28T12:33:08.792Z"
   },
   {
    "duration": 121,
    "start_time": "2021-09-28T12:33:08.897Z"
   },
   {
    "duration": 149,
    "start_time": "2021-09-28T12:33:09.022Z"
   },
   {
    "duration": 45,
    "start_time": "2021-09-28T12:33:09.175Z"
   },
   {
    "duration": 51,
    "start_time": "2021-09-28T12:33:09.224Z"
   },
   {
    "duration": 43,
    "start_time": "2021-09-28T12:33:09.278Z"
   },
   {
    "duration": 49,
    "start_time": "2021-09-28T12:33:09.323Z"
   },
   {
    "duration": 12,
    "start_time": "2021-09-28T12:33:09.376Z"
   },
   {
    "duration": 253,
    "start_time": "2021-09-28T12:33:09.392Z"
   },
   {
    "duration": 134,
    "start_time": "2021-09-28T12:33:09.648Z"
   },
   {
    "duration": 5,
    "start_time": "2021-09-28T12:33:09.785Z"
   },
   {
    "duration": 3151,
    "start_time": "2021-09-28T12:33:09.793Z"
   },
   {
    "duration": 187,
    "start_time": "2021-09-28T12:33:12.947Z"
   },
   {
    "duration": 3294,
    "start_time": "2021-09-28T12:33:13.137Z"
   },
   {
    "duration": 291,
    "start_time": "2021-09-28T12:33:16.434Z"
   },
   {
    "duration": 3341,
    "start_time": "2021-09-28T12:33:16.727Z"
   },
   {
    "duration": 5,
    "start_time": "2021-09-28T12:33:20.071Z"
   },
   {
    "duration": 529,
    "start_time": "2021-09-28T12:33:20.079Z"
   },
   {
    "duration": 47,
    "start_time": "2021-09-28T12:33:20.611Z"
   },
   {
    "duration": 56,
    "start_time": "2021-09-28T12:33:20.668Z"
   },
   {
    "duration": 489,
    "start_time": "2021-09-28T12:33:20.730Z"
   },
   {
    "duration": 111,
    "start_time": "2021-09-28T12:34:13.691Z"
   },
   {
    "duration": 2133,
    "start_time": "2021-09-28T12:35:56.172Z"
   },
   {
    "duration": 3490,
    "start_time": "2021-09-28T12:35:58.310Z"
   },
   {
    "duration": 309,
    "start_time": "2021-09-28T12:36:01.804Z"
   },
   {
    "duration": 1990,
    "start_time": "2021-09-28T12:36:02.118Z"
   },
   {
    "duration": 64,
    "start_time": "2021-09-28T12:36:04.112Z"
   },
   {
    "duration": 260,
    "start_time": "2021-09-28T12:36:04.180Z"
   },
   {
    "duration": 121,
    "start_time": "2021-09-28T12:36:04.443Z"
   },
   {
    "duration": 127,
    "start_time": "2021-09-28T12:36:04.569Z"
   },
   {
    "duration": 213,
    "start_time": "2021-09-28T12:36:04.701Z"
   },
   {
    "duration": 57,
    "start_time": "2021-09-28T12:36:04.917Z"
   },
   {
    "duration": 60,
    "start_time": "2021-09-28T12:36:04.979Z"
   },
   {
    "duration": 83,
    "start_time": "2021-09-28T12:36:05.042Z"
   },
   {
    "duration": 46,
    "start_time": "2021-09-28T12:36:05.128Z"
   },
   {
    "duration": 16,
    "start_time": "2021-09-28T12:36:05.177Z"
   },
   {
    "duration": 273,
    "start_time": "2021-09-28T12:36:05.198Z"
   },
   {
    "duration": 164,
    "start_time": "2021-09-28T12:36:05.475Z"
   },
   {
    "duration": 10,
    "start_time": "2021-09-28T12:36:05.645Z"
   },
   {
    "duration": 3803,
    "start_time": "2021-09-28T12:36:05.666Z"
   },
   {
    "duration": 258,
    "start_time": "2021-09-28T12:36:09.474Z"
   },
   {
    "duration": 3894,
    "start_time": "2021-09-28T12:36:09.735Z"
   },
   {
    "duration": 286,
    "start_time": "2021-09-28T12:36:13.637Z"
   },
   {
    "duration": 3649,
    "start_time": "2021-09-28T12:36:13.926Z"
   },
   {
    "duration": 6,
    "start_time": "2021-09-28T12:36:17.586Z"
   },
   {
    "duration": 7,
    "start_time": "2021-09-28T12:36:17.599Z"
   },
   {
    "duration": 170,
    "start_time": "2021-09-28T12:36:17.613Z"
   },
   {
    "duration": 57,
    "start_time": "2021-09-28T12:36:17.787Z"
   },
   {
    "duration": 77,
    "start_time": "2021-09-28T12:36:17.846Z"
   },
   {
    "duration": 527,
    "start_time": "2021-09-28T12:36:17.927Z"
   },
   {
    "duration": 4,
    "start_time": "2021-09-28T12:37:33.673Z"
   },
   {
    "duration": 1927,
    "start_time": "2021-09-28T12:38:15.089Z"
   },
   {
    "duration": 2193,
    "start_time": "2021-09-28T12:38:17.019Z"
   },
   {
    "duration": 239,
    "start_time": "2021-09-28T12:38:19.216Z"
   },
   {
    "duration": 1899,
    "start_time": "2021-09-28T12:38:19.469Z"
   },
   {
    "duration": 72,
    "start_time": "2021-09-28T12:38:21.371Z"
   },
   {
    "duration": 242,
    "start_time": "2021-09-28T12:38:21.446Z"
   },
   {
    "duration": 136,
    "start_time": "2021-09-28T12:38:21.690Z"
   },
   {
    "duration": 97,
    "start_time": "2021-09-28T12:38:21.828Z"
   },
   {
    "duration": 191,
    "start_time": "2021-09-28T12:38:21.931Z"
   },
   {
    "duration": 48,
    "start_time": "2021-09-28T12:38:22.127Z"
   },
   {
    "duration": 41,
    "start_time": "2021-09-28T12:38:22.179Z"
   },
   {
    "duration": 54,
    "start_time": "2021-09-28T12:38:22.223Z"
   },
   {
    "duration": 56,
    "start_time": "2021-09-28T12:38:22.280Z"
   },
   {
    "duration": 13,
    "start_time": "2021-09-28T12:38:22.339Z"
   },
   {
    "duration": 222,
    "start_time": "2021-09-28T12:38:22.355Z"
   },
   {
    "duration": 125,
    "start_time": "2021-09-28T12:38:22.584Z"
   },
   {
    "duration": 5,
    "start_time": "2021-09-28T12:38:22.712Z"
   },
   {
    "duration": 3382,
    "start_time": "2021-09-28T12:38:22.719Z"
   },
   {
    "duration": 219,
    "start_time": "2021-09-28T12:38:26.110Z"
   },
   {
    "duration": 3344,
    "start_time": "2021-09-28T12:38:26.332Z"
   },
   {
    "duration": 283,
    "start_time": "2021-09-28T12:38:29.681Z"
   },
   {
    "duration": 3204,
    "start_time": "2021-09-28T12:38:29.966Z"
   },
   {
    "duration": 4,
    "start_time": "2021-09-28T12:38:33.174Z"
   },
   {
    "duration": 36,
    "start_time": "2021-09-28T12:38:33.181Z"
   },
   {
    "duration": 148,
    "start_time": "2021-09-28T12:38:33.221Z"
   },
   {
    "duration": 4,
    "start_time": "2021-09-28T12:38:33.371Z"
   },
   {
    "duration": 6,
    "start_time": "2021-09-28T12:38:33.380Z"
   },
   {
    "duration": 89,
    "start_time": "2021-09-28T12:38:33.390Z"
   },
   {
    "duration": 528,
    "start_time": "2021-09-28T12:38:33.482Z"
   },
   {
    "duration": 3387,
    "start_time": "2021-09-28T12:43:58.377Z"
   },
   {
    "duration": 4484,
    "start_time": "2021-09-28T12:44:14.985Z"
   },
   {
    "duration": 3713,
    "start_time": "2021-09-28T12:44:31.777Z"
   },
   {
    "duration": 160,
    "start_time": "2021-09-28T12:47:52.931Z"
   },
   {
    "duration": 6,
    "start_time": "2021-09-28T12:47:57.040Z"
   },
   {
    "duration": 394,
    "start_time": "2021-09-28T12:48:13.048Z"
   },
   {
    "duration": 6,
    "start_time": "2021-09-28T12:48:29.017Z"
   },
   {
    "duration": 569,
    "start_time": "2021-09-28T12:48:30.336Z"
   },
   {
    "duration": 426,
    "start_time": "2021-09-28T12:48:55.844Z"
   },
   {
    "duration": 5852,
    "start_time": "2021-09-28T12:49:21.792Z"
   },
   {
    "duration": 8,
    "start_time": "2021-09-28T12:51:14.880Z"
   },
   {
    "duration": 693,
    "start_time": "2021-09-28T12:51:15.824Z"
   },
   {
    "duration": 504,
    "start_time": "2021-09-28T12:51:18.752Z"
   },
   {
    "duration": 647,
    "start_time": "2021-09-28T12:51:20.792Z"
   },
   {
    "duration": 555,
    "start_time": "2021-09-28T12:52:04.264Z"
   },
   {
    "duration": 432,
    "start_time": "2021-09-28T12:52:07.735Z"
   },
   {
    "duration": 535,
    "start_time": "2021-09-28T12:52:09.911Z"
   },
   {
    "duration": 7,
    "start_time": "2021-09-28T12:52:13.824Z"
   },
   {
    "duration": 676,
    "start_time": "2021-09-28T12:52:16.039Z"
   },
   {
    "duration": 9,
    "start_time": "2021-09-28T12:53:51.639Z"
   },
   {
    "duration": 557,
    "start_time": "2021-09-28T12:53:53.007Z"
   },
   {
    "duration": 550,
    "start_time": "2021-09-28T12:53:55.583Z"
   },
   {
    "duration": 6077,
    "start_time": "2021-09-28T12:53:57.623Z"
   },
   {
    "duration": 720,
    "start_time": "2021-09-28T12:54:10.624Z"
   },
   {
    "duration": 1036,
    "start_time": "2021-09-28T12:54:25.546Z"
   },
   {
    "duration": 914,
    "start_time": "2021-09-28T12:54:32.879Z"
   },
   {
    "duration": 747,
    "start_time": "2021-09-28T12:54:38.742Z"
   },
   {
    "duration": 684,
    "start_time": "2021-09-28T12:54:43.623Z"
   },
   {
    "duration": 586,
    "start_time": "2021-09-28T12:55:12.151Z"
   },
   {
    "duration": 1437,
    "start_time": "2021-09-28T12:55:43.176Z"
   },
   {
    "duration": 892,
    "start_time": "2021-09-28T12:55:51.680Z"
   },
   {
    "duration": 721,
    "start_time": "2021-09-28T12:55:55.758Z"
   },
   {
    "duration": 653,
    "start_time": "2021-09-28T12:56:07.434Z"
   },
   {
    "duration": 742,
    "start_time": "2021-09-28T12:56:44.596Z"
   },
   {
    "duration": 524,
    "start_time": "2021-09-28T12:57:02.009Z"
   },
   {
    "duration": 486,
    "start_time": "2021-09-28T12:57:06.920Z"
   },
   {
    "duration": 131,
    "start_time": "2021-09-28T12:58:55.729Z"
   },
   {
    "duration": 108,
    "start_time": "2021-09-28T13:07:13.676Z"
   },
   {
    "duration": 117516,
    "start_time": "2021-09-28T13:11:57.388Z"
   },
   {
    "duration": 48,
    "start_time": "2021-09-28T13:17:23.932Z"
   },
   {
    "duration": 55,
    "start_time": "2021-09-28T13:17:48.874Z"
   },
   {
    "duration": 69,
    "start_time": "2021-09-28T13:18:31.645Z"
   },
   {
    "duration": 304,
    "start_time": "2021-09-28T13:19:02.923Z"
   },
   {
    "duration": 62,
    "start_time": "2021-09-28T13:19:10.053Z"
   },
   {
    "duration": 320,
    "start_time": "2021-09-28T15:03:42.184Z"
   },
   {
    "duration": 301,
    "start_time": "2021-09-28T15:10:16.004Z"
   },
   {
    "duration": 397,
    "start_time": "2021-09-28T15:10:27.892Z"
   },
   {
    "duration": 310,
    "start_time": "2021-09-28T15:11:12.726Z"
   },
   {
    "duration": 331,
    "start_time": "2021-09-28T15:11:39.412Z"
   },
   {
    "duration": 312,
    "start_time": "2021-09-28T15:14:09.443Z"
   },
   {
    "duration": 10,
    "start_time": "2021-09-28T15:14:24.391Z"
   },
   {
    "duration": 1487,
    "start_time": "2021-10-01T10:47:34.752Z"
   },
   {
    "duration": 1749,
    "start_time": "2021-10-01T10:47:36.242Z"
   },
   {
    "duration": 176,
    "start_time": "2021-10-01T10:47:37.994Z"
   },
   {
    "duration": 1498,
    "start_time": "2021-10-01T10:47:38.173Z"
   },
   {
    "duration": 61,
    "start_time": "2021-10-01T10:47:39.674Z"
   },
   {
    "duration": 159,
    "start_time": "2021-10-01T10:47:39.737Z"
   },
   {
    "duration": 77,
    "start_time": "2021-10-01T10:47:39.898Z"
   },
   {
    "duration": 97,
    "start_time": "2021-10-01T10:47:39.977Z"
   },
   {
    "duration": 121,
    "start_time": "2021-10-01T10:47:40.078Z"
   },
   {
    "duration": 45,
    "start_time": "2021-10-01T10:47:40.202Z"
   },
   {
    "duration": 41,
    "start_time": "2021-10-01T10:47:40.250Z"
   },
   {
    "duration": 43,
    "start_time": "2021-10-01T10:47:40.293Z"
   },
   {
    "duration": 38,
    "start_time": "2021-10-01T10:47:40.339Z"
   },
   {
    "duration": 21,
    "start_time": "2021-10-01T10:47:40.379Z"
   },
   {
    "duration": 193,
    "start_time": "2021-10-01T10:47:40.402Z"
   },
   {
    "duration": 148,
    "start_time": "2021-10-01T10:47:40.623Z"
   },
   {
    "duration": 5,
    "start_time": "2021-10-01T10:47:40.773Z"
   },
   {
    "duration": 2572,
    "start_time": "2021-10-01T10:47:40.780Z"
   },
   {
    "duration": 160,
    "start_time": "2021-10-01T10:47:43.355Z"
   },
   {
    "duration": 2538,
    "start_time": "2021-10-01T10:47:43.517Z"
   },
   {
    "duration": 227,
    "start_time": "2021-10-01T10:47:46.058Z"
   },
   {
    "duration": 2511,
    "start_time": "2021-10-01T10:47:46.287Z"
   },
   {
    "duration": 55,
    "start_time": "2021-10-01T10:47:48.800Z"
   },
   {
    "duration": 3,
    "start_time": "2021-10-01T10:47:48.858Z"
   },
   {
    "duration": 119,
    "start_time": "2021-10-01T10:47:48.864Z"
   },
   {
    "duration": 7,
    "start_time": "2021-10-01T10:47:48.986Z"
   },
   {
    "duration": 429,
    "start_time": "2021-10-01T10:47:48.998Z"
   },
   {
    "duration": 372,
    "start_time": "2021-10-01T10:47:49.430Z"
   },
   {
    "duration": 633,
    "start_time": "2021-10-01T10:47:49.804Z"
   },
   {
    "duration": 535,
    "start_time": "2021-10-01T10:47:50.440Z"
   },
   {
    "duration": 505,
    "start_time": "2021-10-01T10:47:50.978Z"
   },
   {
    "duration": 477,
    "start_time": "2021-10-01T10:47:51.486Z"
   },
   {
    "duration": 964,
    "start_time": "2021-10-01T10:47:51.966Z"
   },
   {
    "duration": 465,
    "start_time": "2021-10-01T13:24:05.997Z"
   },
   {
    "duration": 1706,
    "start_time": "2021-10-01T13:24:38.584Z"
   },
   {
    "duration": 2371,
    "start_time": "2021-10-01T13:24:40.293Z"
   },
   {
    "duration": 261,
    "start_time": "2021-10-01T13:24:42.668Z"
   },
   {
    "duration": 1531,
    "start_time": "2021-10-01T13:24:42.933Z"
   },
   {
    "duration": 76,
    "start_time": "2021-10-01T13:24:44.466Z"
   },
   {
    "duration": 186,
    "start_time": "2021-10-01T13:24:44.546Z"
   },
   {
    "duration": 99,
    "start_time": "2021-10-01T13:24:44.735Z"
   },
   {
    "duration": 119,
    "start_time": "2021-10-01T13:24:44.839Z"
   },
   {
    "duration": 126,
    "start_time": "2021-10-01T13:24:44.960Z"
   },
   {
    "duration": 35,
    "start_time": "2021-10-01T13:24:45.089Z"
   },
   {
    "duration": 37,
    "start_time": "2021-10-01T13:24:45.129Z"
   },
   {
    "duration": 31,
    "start_time": "2021-10-01T13:24:45.169Z"
   },
   {
    "duration": 58,
    "start_time": "2021-10-01T13:24:45.202Z"
   },
   {
    "duration": 12,
    "start_time": "2021-10-01T13:24:45.263Z"
   },
   {
    "duration": 213,
    "start_time": "2021-10-01T13:24:45.278Z"
   },
   {
    "duration": 118,
    "start_time": "2021-10-01T13:24:45.494Z"
   },
   {
    "duration": 4,
    "start_time": "2021-10-01T13:24:45.623Z"
   },
   {
    "duration": 2818,
    "start_time": "2021-10-01T13:24:45.630Z"
   },
   {
    "duration": 165,
    "start_time": "2021-10-01T13:24:48.452Z"
   },
   {
    "duration": 2830,
    "start_time": "2021-10-01T13:24:48.624Z"
   },
   {
    "duration": 250,
    "start_time": "2021-10-01T13:24:51.457Z"
   },
   {
    "duration": 2757,
    "start_time": "2021-10-01T13:24:51.709Z"
   },
   {
    "duration": 67,
    "start_time": "2021-10-01T13:24:54.473Z"
   },
   {
    "duration": 5,
    "start_time": "2021-10-01T13:24:54.548Z"
   },
   {
    "duration": 120,
    "start_time": "2021-10-01T13:24:54.555Z"
   },
   {
    "duration": 6,
    "start_time": "2021-10-01T13:24:54.677Z"
   },
   {
    "duration": 479,
    "start_time": "2021-10-01T13:24:54.685Z"
   },
   {
    "duration": 398,
    "start_time": "2021-10-01T13:24:55.167Z"
   },
   {
    "duration": 707,
    "start_time": "2021-10-01T13:24:55.567Z"
   },
   {
    "duration": 452,
    "start_time": "2021-10-01T13:24:56.276Z"
   },
   {
    "duration": 570,
    "start_time": "2021-10-01T13:24:56.731Z"
   },
   {
    "duration": 412,
    "start_time": "2021-10-01T13:24:57.304Z"
   },
   {
    "duration": 1197,
    "start_time": "2021-10-01T13:24:57.722Z"
   },
   {
    "duration": 466,
    "start_time": "2021-10-01T13:24:58.931Z"
   },
   {
    "duration": 1515,
    "start_time": "2021-10-01T13:26:20.334Z"
   },
   {
    "duration": 2210,
    "start_time": "2021-10-01T13:26:21.852Z"
   },
   {
    "duration": 189,
    "start_time": "2021-10-01T13:26:24.065Z"
   },
   {
    "duration": 1497,
    "start_time": "2021-10-01T13:26:24.257Z"
   },
   {
    "duration": 66,
    "start_time": "2021-10-01T13:26:25.757Z"
   },
   {
    "duration": 210,
    "start_time": "2021-10-01T13:26:25.825Z"
   },
   {
    "duration": 72,
    "start_time": "2021-10-01T13:26:26.038Z"
   },
   {
    "duration": 103,
    "start_time": "2021-10-01T13:26:26.124Z"
   },
   {
    "duration": 112,
    "start_time": "2021-10-01T13:26:26.231Z"
   },
   {
    "duration": 43,
    "start_time": "2021-10-01T13:26:26.347Z"
   },
   {
    "duration": 48,
    "start_time": "2021-10-01T13:26:26.393Z"
   },
   {
    "duration": 58,
    "start_time": "2021-10-01T13:26:26.443Z"
   },
   {
    "duration": 57,
    "start_time": "2021-10-01T13:26:26.503Z"
   },
   {
    "duration": 23,
    "start_time": "2021-10-01T13:26:26.562Z"
   },
   {
    "duration": 200,
    "start_time": "2021-10-01T13:26:26.587Z"
   },
   {
    "duration": 103,
    "start_time": "2021-10-01T13:26:26.790Z"
   },
   {
    "duration": 4,
    "start_time": "2021-10-01T13:26:26.895Z"
   },
   {
    "duration": 2542,
    "start_time": "2021-10-01T13:26:26.901Z"
   },
   {
    "duration": 164,
    "start_time": "2021-10-01T13:26:29.445Z"
   },
   {
    "duration": 2752,
    "start_time": "2021-10-01T13:26:29.612Z"
   },
   {
    "duration": 237,
    "start_time": "2021-10-01T13:26:32.367Z"
   },
   {
    "duration": 2765,
    "start_time": "2021-10-01T13:26:32.606Z"
   },
   {
    "duration": 56,
    "start_time": "2021-10-01T13:26:35.376Z"
   },
   {
    "duration": 4,
    "start_time": "2021-10-01T13:26:35.435Z"
   },
   {
    "duration": 118,
    "start_time": "2021-10-01T13:26:35.441Z"
   },
   {
    "duration": 6,
    "start_time": "2021-10-01T13:26:35.561Z"
   },
   {
    "duration": 444,
    "start_time": "2021-10-01T13:26:35.569Z"
   },
   {
    "duration": 378,
    "start_time": "2021-10-01T13:26:36.022Z"
   },
   {
    "duration": 678,
    "start_time": "2021-10-01T13:26:36.403Z"
   },
   {
    "duration": 413,
    "start_time": "2021-10-01T13:26:37.084Z"
   },
   {
    "duration": 535,
    "start_time": "2021-10-01T13:26:37.499Z"
   },
   {
    "duration": 373,
    "start_time": "2021-10-01T13:26:38.038Z"
   },
   {
    "duration": 1005,
    "start_time": "2021-10-01T13:26:38.413Z"
   },
   {
    "duration": 6,
    "start_time": "2021-10-01T13:26:39.423Z"
   },
   {
    "duration": 5,
    "start_time": "2021-10-01T13:26:48.058Z"
   },
   {
    "duration": 4377,
    "start_time": "2021-10-01T13:29:27.203Z"
   },
   {
    "duration": 3543,
    "start_time": "2021-10-01T13:36:35.929Z"
   },
   {
    "duration": 3694,
    "start_time": "2021-10-01T13:54:12.009Z"
   },
   {
    "duration": 2055,
    "start_time": "2021-10-01T13:54:15.706Z"
   },
   {
    "duration": 204,
    "start_time": "2021-10-01T13:54:17.765Z"
   },
   {
    "duration": 1843,
    "start_time": "2021-10-01T13:54:17.972Z"
   },
   {
    "duration": 73,
    "start_time": "2021-10-01T13:54:19.818Z"
   },
   {
    "duration": 205,
    "start_time": "2021-10-01T13:54:19.893Z"
   },
   {
    "duration": 86,
    "start_time": "2021-10-01T13:54:20.101Z"
   },
   {
    "duration": 119,
    "start_time": "2021-10-01T13:54:20.191Z"
   },
   {
    "duration": 186,
    "start_time": "2021-10-01T13:54:20.316Z"
   },
   {
    "duration": 50,
    "start_time": "2021-10-01T13:54:20.507Z"
   },
   {
    "duration": 34,
    "start_time": "2021-10-01T13:54:20.560Z"
   },
   {
    "duration": 54,
    "start_time": "2021-10-01T13:54:20.597Z"
   },
   {
    "duration": 28,
    "start_time": "2021-10-01T13:54:20.654Z"
   },
   {
    "duration": 14,
    "start_time": "2021-10-01T13:54:20.685Z"
   },
   {
    "duration": 208,
    "start_time": "2021-10-01T13:54:20.702Z"
   },
   {
    "duration": 165,
    "start_time": "2021-10-01T13:54:20.912Z"
   },
   {
    "duration": 5,
    "start_time": "2021-10-01T13:54:21.080Z"
   },
   {
    "duration": 2823,
    "start_time": "2021-10-01T13:54:21.088Z"
   },
   {
    "duration": 182,
    "start_time": "2021-10-01T13:54:23.913Z"
   },
   {
    "duration": 2978,
    "start_time": "2021-10-01T13:54:24.098Z"
   },
   {
    "duration": 250,
    "start_time": "2021-10-01T13:54:27.078Z"
   },
   {
    "duration": 2969,
    "start_time": "2021-10-01T13:54:27.332Z"
   },
   {
    "duration": 75,
    "start_time": "2021-10-01T13:54:30.304Z"
   },
   {
    "duration": 4,
    "start_time": "2021-10-01T13:54:30.382Z"
   },
   {
    "duration": 195,
    "start_time": "2021-10-01T13:54:30.389Z"
   },
   {
    "duration": 8,
    "start_time": "2021-10-01T13:54:30.588Z"
   },
   {
    "duration": 625,
    "start_time": "2021-10-01T13:54:30.603Z"
   },
   {
    "duration": 535,
    "start_time": "2021-10-01T13:54:31.231Z"
   },
   {
    "duration": 637,
    "start_time": "2021-10-01T13:54:31.769Z"
   },
   {
    "duration": 455,
    "start_time": "2021-10-01T13:54:32.409Z"
   },
   {
    "duration": 716,
    "start_time": "2021-10-01T13:54:32.867Z"
   },
   {
    "duration": 401,
    "start_time": "2021-10-01T13:54:33.586Z"
   },
   {
    "duration": 1074,
    "start_time": "2021-10-01T13:54:33.990Z"
   },
   {
    "duration": 13,
    "start_time": "2021-10-01T13:54:35.066Z"
   },
   {
    "duration": 29,
    "start_time": "2021-10-01T13:54:56.442Z"
   },
   {
    "duration": 74,
    "start_time": "2021-10-01T13:55:48.756Z"
   },
   {
    "duration": 450,
    "start_time": "2021-10-01T13:56:09.083Z"
   },
   {
    "duration": 8,
    "start_time": "2021-10-01T13:56:16.476Z"
   },
   {
    "duration": 6,
    "start_time": "2021-10-01T13:59:04.514Z"
   },
   {
    "duration": 287,
    "start_time": "2021-10-01T14:01:12.107Z"
   },
   {
    "duration": 520,
    "start_time": "2021-10-01T14:02:52.530Z"
   },
   {
    "duration": 293,
    "start_time": "2021-10-01T14:07:40.840Z"
   },
   {
    "duration": 3409,
    "start_time": "2021-10-01T14:08:12.109Z"
   },
   {
    "duration": 1854,
    "start_time": "2021-10-01T14:08:15.521Z"
   },
   {
    "duration": 190,
    "start_time": "2021-10-01T14:08:17.378Z"
   },
   {
    "duration": 1596,
    "start_time": "2021-10-01T14:08:17.572Z"
   },
   {
    "duration": 92,
    "start_time": "2021-10-01T14:08:19.171Z"
   },
   {
    "duration": 211,
    "start_time": "2021-10-01T14:08:19.266Z"
   },
   {
    "duration": 86,
    "start_time": "2021-10-01T14:08:19.480Z"
   },
   {
    "duration": 91,
    "start_time": "2021-10-01T14:08:19.570Z"
   },
   {
    "duration": 117,
    "start_time": "2021-10-01T14:08:19.664Z"
   },
   {
    "duration": 47,
    "start_time": "2021-10-01T14:08:19.784Z"
   },
   {
    "duration": 39,
    "start_time": "2021-10-01T14:08:19.845Z"
   },
   {
    "duration": 34,
    "start_time": "2021-10-01T14:08:19.886Z"
   },
   {
    "duration": 49,
    "start_time": "2021-10-01T14:08:19.924Z"
   },
   {
    "duration": 28,
    "start_time": "2021-10-01T14:08:19.975Z"
   },
   {
    "duration": 196,
    "start_time": "2021-10-01T14:08:20.006Z"
   },
   {
    "duration": 122,
    "start_time": "2021-10-01T14:08:20.204Z"
   },
   {
    "duration": 6,
    "start_time": "2021-10-01T14:08:20.329Z"
   },
   {
    "duration": 3214,
    "start_time": "2021-10-01T14:08:20.339Z"
   },
   {
    "duration": 176,
    "start_time": "2021-10-01T14:08:23.555Z"
   },
   {
    "duration": 2695,
    "start_time": "2021-10-01T14:08:23.734Z"
   },
   {
    "duration": 270,
    "start_time": "2021-10-01T14:08:26.433Z"
   },
   {
    "duration": 3077,
    "start_time": "2021-10-01T14:08:26.705Z"
   },
   {
    "duration": 63,
    "start_time": "2021-10-01T14:08:29.787Z"
   },
   {
    "duration": 4,
    "start_time": "2021-10-01T14:08:29.854Z"
   },
   {
    "duration": 126,
    "start_time": "2021-10-01T14:08:29.861Z"
   },
   {
    "duration": 7,
    "start_time": "2021-10-01T14:08:29.990Z"
   },
   {
    "duration": 500,
    "start_time": "2021-10-01T14:08:30.000Z"
   },
   {
    "duration": 404,
    "start_time": "2021-10-01T14:08:30.503Z"
   },
   {
    "duration": 751,
    "start_time": "2021-10-01T14:08:30.910Z"
   },
   {
    "duration": 441,
    "start_time": "2021-10-01T14:08:31.664Z"
   },
   {
    "duration": 538,
    "start_time": "2021-10-01T14:08:32.107Z"
   },
   {
    "duration": 418,
    "start_time": "2021-10-01T14:08:32.648Z"
   },
   {
    "duration": 33,
    "start_time": "2021-10-01T14:08:33.069Z"
   },
   {
    "duration": 1060,
    "start_time": "2021-10-01T14:08:33.126Z"
   },
   {
    "duration": 13,
    "start_time": "2021-10-01T14:08:34.189Z"
   },
   {
    "duration": 128,
    "start_time": "2021-10-01T14:08:34.204Z"
   },
   {
    "duration": 5,
    "start_time": "2021-10-01T14:08:34.334Z"
   },
   {
    "duration": 8,
    "start_time": "2021-10-01T14:08:51.417Z"
   },
   {
    "duration": 84761,
    "start_time": "2021-10-01T14:08:52.465Z"
   },
   {
    "duration": 85605,
    "start_time": "2021-10-01T14:11:23.560Z"
   },
   {
    "duration": 89857,
    "start_time": "2021-10-01T14:13:12.008Z"
   },
   {
    "duration": 41076,
    "start_time": "2021-10-01T14:14:52.575Z"
   },
   {
    "duration": 6,
    "start_time": "2021-10-01T14:18:43.150Z"
   },
   {
    "duration": 298,
    "start_time": "2021-10-01T14:20:04.165Z"
   },
   {
    "duration": 4,
    "start_time": "2021-10-01T14:20:06.782Z"
   },
   {
    "duration": 76,
    "start_time": "2021-10-01T14:20:07.653Z"
   },
   {
    "duration": 6,
    "start_time": "2021-10-01T14:22:43.549Z"
   },
   {
    "duration": 9,
    "start_time": "2021-10-01T14:24:16.246Z"
   },
   {
    "duration": 10,
    "start_time": "2021-10-01T14:26:38.189Z"
   },
   {
    "duration": 157106,
    "start_time": "2021-10-01T14:26:41.684Z"
   },
   {
    "duration": 20,
    "start_time": "2021-10-01T14:31:46.243Z"
   },
   {
    "duration": 4,
    "start_time": "2021-10-01T14:32:14.073Z"
   },
   {
    "duration": 3467668,
    "start_time": "2021-10-01T14:33:08.204Z"
   },
   {
    "duration": 4,
    "start_time": "2021-10-01T15:31:41.076Z"
   },
   {
    "duration": 374423,
    "start_time": "2021-10-01T15:31:42.832Z"
   },
   {
    "duration": 4,
    "start_time": "2021-10-01T15:38:04.019Z"
   },
   {
    "duration": 3222,
    "start_time": "2021-10-01T15:38:20.597Z"
   },
   {
    "duration": 1715,
    "start_time": "2021-10-01T15:38:23.823Z"
   },
   {
    "duration": 194,
    "start_time": "2021-10-01T15:38:25.542Z"
   },
   {
    "duration": 1427,
    "start_time": "2021-10-01T15:38:25.739Z"
   },
   {
    "duration": 127,
    "start_time": "2021-10-01T15:38:27.174Z"
   },
   {
    "duration": 267,
    "start_time": "2021-10-01T15:38:27.315Z"
   },
   {
    "duration": 84,
    "start_time": "2021-10-01T15:38:27.584Z"
   },
   {
    "duration": 94,
    "start_time": "2021-10-01T15:38:27.671Z"
   },
   {
    "duration": 119,
    "start_time": "2021-10-01T15:38:27.769Z"
   },
   {
    "duration": 39,
    "start_time": "2021-10-01T15:38:27.892Z"
   },
   {
    "duration": 29,
    "start_time": "2021-10-01T15:38:27.934Z"
   },
   {
    "duration": 32,
    "start_time": "2021-10-01T15:38:27.965Z"
   },
   {
    "duration": 58,
    "start_time": "2021-10-01T15:38:28.000Z"
   },
   {
    "duration": 16,
    "start_time": "2021-10-01T15:38:28.060Z"
   },
   {
    "duration": 178,
    "start_time": "2021-10-01T15:38:28.078Z"
   },
   {
    "duration": 115,
    "start_time": "2021-10-01T15:38:28.259Z"
   },
   {
    "duration": 5,
    "start_time": "2021-10-01T15:38:28.376Z"
   },
   {
    "duration": 2791,
    "start_time": "2021-10-01T15:38:28.383Z"
   },
   {
    "duration": 176,
    "start_time": "2021-10-01T15:38:31.177Z"
   },
   {
    "duration": 2778,
    "start_time": "2021-10-01T15:38:31.355Z"
   },
   {
    "duration": 234,
    "start_time": "2021-10-01T15:38:34.137Z"
   },
   {
    "duration": 2727,
    "start_time": "2021-10-01T15:38:34.374Z"
   },
   {
    "duration": 56,
    "start_time": "2021-10-01T15:38:37.104Z"
   },
   {
    "duration": 4,
    "start_time": "2021-10-01T15:38:37.163Z"
   },
   {
    "duration": 128,
    "start_time": "2021-10-01T15:38:37.170Z"
   },
   {
    "duration": 7,
    "start_time": "2021-10-01T15:38:37.301Z"
   },
   {
    "duration": 435,
    "start_time": "2021-10-01T15:38:37.322Z"
   },
   {
    "duration": 381,
    "start_time": "2021-10-01T15:38:37.760Z"
   },
   {
    "duration": 542,
    "start_time": "2021-10-01T15:38:38.143Z"
   },
   {
    "duration": 428,
    "start_time": "2021-10-01T15:38:38.688Z"
   },
   {
    "duration": 510,
    "start_time": "2021-10-01T15:38:39.119Z"
   },
   {
    "duration": 378,
    "start_time": "2021-10-01T15:38:39.632Z"
   },
   {
    "duration": 44,
    "start_time": "2021-10-01T15:38:40.012Z"
   },
   {
    "duration": 298,
    "start_time": "2021-10-01T15:38:40.058Z"
   },
   {
    "duration": 1382,
    "start_time": "2021-10-01T15:40:20.779Z"
   },
   {
    "duration": 3295,
    "start_time": "2021-10-01T15:42:57.108Z"
   },
   {
    "duration": 2014,
    "start_time": "2021-10-01T15:43:00.406Z"
   },
   {
    "duration": 186,
    "start_time": "2021-10-01T15:43:02.423Z"
   },
   {
    "duration": 1311,
    "start_time": "2021-10-01T15:43:02.623Z"
   },
   {
    "duration": 67,
    "start_time": "2021-10-01T15:43:03.937Z"
   },
   {
    "duration": 196,
    "start_time": "2021-10-01T15:43:04.007Z"
   },
   {
    "duration": 84,
    "start_time": "2021-10-01T15:43:04.205Z"
   },
   {
    "duration": 101,
    "start_time": "2021-10-01T15:43:04.292Z"
   },
   {
    "duration": 113,
    "start_time": "2021-10-01T15:43:04.397Z"
   },
   {
    "duration": 32,
    "start_time": "2021-10-01T15:43:04.522Z"
   },
   {
    "duration": 28,
    "start_time": "2021-10-01T15:43:04.556Z"
   },
   {
    "duration": 53,
    "start_time": "2021-10-01T15:43:04.587Z"
   },
   {
    "duration": 26,
    "start_time": "2021-10-01T15:43:04.643Z"
   },
   {
    "duration": 11,
    "start_time": "2021-10-01T15:43:04.671Z"
   },
   {
    "duration": 203,
    "start_time": "2021-10-01T15:43:04.684Z"
   },
   {
    "duration": 108,
    "start_time": "2021-10-01T15:43:04.890Z"
   },
   {
    "duration": 5,
    "start_time": "2021-10-01T15:43:05.000Z"
   },
   {
    "duration": 2654,
    "start_time": "2021-10-01T15:43:05.007Z"
   },
   {
    "duration": 170,
    "start_time": "2021-10-01T15:43:07.664Z"
   },
   {
    "duration": 2558,
    "start_time": "2021-10-01T15:43:07.837Z"
   },
   {
    "duration": 230,
    "start_time": "2021-10-01T15:43:10.397Z"
   },
   {
    "duration": 2698,
    "start_time": "2021-10-01T15:43:10.629Z"
   },
   {
    "duration": 46,
    "start_time": "2021-10-01T15:43:13.330Z"
   },
   {
    "duration": 3,
    "start_time": "2021-10-01T15:43:13.379Z"
   },
   {
    "duration": 137,
    "start_time": "2021-10-01T15:43:13.385Z"
   },
   {
    "duration": 7,
    "start_time": "2021-10-01T15:43:13.531Z"
   },
   {
    "duration": 575,
    "start_time": "2021-10-01T15:43:13.542Z"
   },
   {
    "duration": 476,
    "start_time": "2021-10-01T15:43:14.127Z"
   },
   {
    "duration": 540,
    "start_time": "2021-10-01T15:43:14.606Z"
   },
   {
    "duration": 425,
    "start_time": "2021-10-01T15:43:15.148Z"
   },
   {
    "duration": 511,
    "start_time": "2021-10-01T15:43:15.576Z"
   },
   {
    "duration": 418,
    "start_time": "2021-10-01T15:43:16.090Z"
   },
   {
    "duration": 46,
    "start_time": "2021-10-01T15:43:16.510Z"
   },
   {
    "duration": 1404,
    "start_time": "2021-10-01T15:43:16.559Z"
   },
   {
    "duration": 13,
    "start_time": "2021-10-01T15:43:17.966Z"
   },
   {
    "duration": 98,
    "start_time": "2021-10-01T15:43:17.981Z"
   },
   {
    "duration": 4,
    "start_time": "2021-10-01T15:43:18.081Z"
   },
   {
    "duration": 147,
    "start_time": "2021-10-01T15:43:18.087Z"
   },
   {
    "duration": 8,
    "start_time": "2021-10-01T15:44:46.521Z"
   },
   {
    "duration": 37539,
    "start_time": "2021-10-01T15:44:50.088Z"
   },
   {
    "duration": 5,
    "start_time": "2021-10-01T15:45:35.939Z"
   },
   {
    "duration": 11,
    "start_time": "2021-10-01T15:45:36.977Z"
   },
   {
    "duration": 10,
    "start_time": "2021-10-01T15:45:42.625Z"
   },
   {
    "duration": 60978,
    "start_time": "2021-10-01T15:45:45.129Z"
   },
   {
    "duration": 6,
    "start_time": "2021-10-01T15:48:10.576Z"
   },
   {
    "duration": 1044,
    "start_time": "2021-10-01T15:49:14.168Z"
   },
   {
    "duration": 3990,
    "start_time": "2021-10-01T15:49:37.024Z"
   },
   {
    "duration": 1921,
    "start_time": "2021-10-01T15:49:41.017Z"
   },
   {
    "duration": 183,
    "start_time": "2021-10-01T15:49:42.941Z"
   },
   {
    "duration": 1272,
    "start_time": "2021-10-01T15:49:43.131Z"
   },
   {
    "duration": 62,
    "start_time": "2021-10-01T15:49:44.406Z"
   },
   {
    "duration": 185,
    "start_time": "2021-10-01T15:49:44.471Z"
   },
   {
    "duration": 90,
    "start_time": "2021-10-01T15:49:44.659Z"
   },
   {
    "duration": 92,
    "start_time": "2021-10-01T15:49:44.751Z"
   },
   {
    "duration": 115,
    "start_time": "2021-10-01T15:49:44.848Z"
   },
   {
    "duration": 31,
    "start_time": "2021-10-01T15:49:44.966Z"
   },
   {
    "duration": 55,
    "start_time": "2021-10-01T15:49:44.999Z"
   },
   {
    "duration": 48,
    "start_time": "2021-10-01T15:49:45.056Z"
   },
   {
    "duration": 44,
    "start_time": "2021-10-01T15:49:45.107Z"
   },
   {
    "duration": 7,
    "start_time": "2021-10-01T15:49:45.154Z"
   },
   {
    "duration": 192,
    "start_time": "2021-10-01T15:49:45.164Z"
   },
   {
    "duration": 112,
    "start_time": "2021-10-01T15:49:45.358Z"
   },
   {
    "duration": 4,
    "start_time": "2021-10-01T15:49:45.472Z"
   },
   {
    "duration": 2569,
    "start_time": "2021-10-01T15:49:45.479Z"
   },
   {
    "duration": 162,
    "start_time": "2021-10-01T15:49:48.050Z"
   },
   {
    "duration": 2659,
    "start_time": "2021-10-01T15:49:48.214Z"
   },
   {
    "duration": 236,
    "start_time": "2021-10-01T15:49:50.876Z"
   },
   {
    "duration": 2679,
    "start_time": "2021-10-01T15:49:51.114Z"
   },
   {
    "duration": 55,
    "start_time": "2021-10-01T15:49:53.795Z"
   },
   {
    "duration": 3,
    "start_time": "2021-10-01T15:49:53.853Z"
   },
   {
    "duration": 121,
    "start_time": "2021-10-01T15:49:53.859Z"
   },
   {
    "duration": 6,
    "start_time": "2021-10-01T15:49:53.983Z"
   },
   {
    "duration": 447,
    "start_time": "2021-10-01T15:49:53.993Z"
   },
   {
    "duration": 370,
    "start_time": "2021-10-01T15:49:54.443Z"
   },
   {
    "duration": 655,
    "start_time": "2021-10-01T15:49:54.816Z"
   },
   {
    "duration": 426,
    "start_time": "2021-10-01T15:49:55.473Z"
   },
   {
    "duration": 553,
    "start_time": "2021-10-01T15:49:55.901Z"
   },
   {
    "duration": 392,
    "start_time": "2021-10-01T15:49:56.457Z"
   },
   {
    "duration": 27,
    "start_time": "2021-10-01T15:49:56.852Z"
   },
   {
    "duration": 1936,
    "start_time": "2021-10-01T15:49:56.882Z"
   },
   {
    "duration": 4,
    "start_time": "2021-10-01T15:51:01.976Z"
   },
   {
    "duration": 3558,
    "start_time": "2021-10-01T15:51:32.644Z"
   },
   {
    "duration": 1656,
    "start_time": "2021-10-01T15:51:36.206Z"
   },
   {
    "duration": 202,
    "start_time": "2021-10-01T15:51:37.866Z"
   },
   {
    "duration": 1325,
    "start_time": "2021-10-01T15:51:38.071Z"
   },
   {
    "duration": 68,
    "start_time": "2021-10-01T15:51:39.398Z"
   },
   {
    "duration": 230,
    "start_time": "2021-10-01T15:51:39.468Z"
   },
   {
    "duration": 83,
    "start_time": "2021-10-01T15:51:39.700Z"
   },
   {
    "duration": 86,
    "start_time": "2021-10-01T15:51:39.787Z"
   },
   {
    "duration": 127,
    "start_time": "2021-10-01T15:51:39.876Z"
   },
   {
    "duration": 49,
    "start_time": "2021-10-01T15:51:40.006Z"
   },
   {
    "duration": 33,
    "start_time": "2021-10-01T15:51:40.057Z"
   },
   {
    "duration": 82,
    "start_time": "2021-10-01T15:51:40.093Z"
   },
   {
    "duration": 28,
    "start_time": "2021-10-01T15:51:40.178Z"
   },
   {
    "duration": 50,
    "start_time": "2021-10-01T15:51:40.208Z"
   },
   {
    "duration": 212,
    "start_time": "2021-10-01T15:51:40.260Z"
   },
   {
    "duration": 112,
    "start_time": "2021-10-01T15:51:40.475Z"
   },
   {
    "duration": 13,
    "start_time": "2021-10-01T15:51:40.590Z"
   },
   {
    "duration": 2879,
    "start_time": "2021-10-01T15:51:40.605Z"
   },
   {
    "duration": 170,
    "start_time": "2021-10-01T15:51:43.487Z"
   },
   {
    "duration": 2909,
    "start_time": "2021-10-01T15:51:43.659Z"
   },
   {
    "duration": 268,
    "start_time": "2021-10-01T15:51:46.571Z"
   },
   {
    "duration": 2662,
    "start_time": "2021-10-01T15:51:46.842Z"
   },
   {
    "duration": 56,
    "start_time": "2021-10-01T15:51:49.521Z"
   },
   {
    "duration": 3,
    "start_time": "2021-10-01T15:51:49.580Z"
   },
   {
    "duration": 130,
    "start_time": "2021-10-01T15:51:49.585Z"
   },
   {
    "duration": 9,
    "start_time": "2021-10-01T15:51:49.721Z"
   },
   {
    "duration": 456,
    "start_time": "2021-10-01T15:51:49.733Z"
   },
   {
    "duration": 389,
    "start_time": "2021-10-01T15:51:50.192Z"
   },
   {
    "duration": 568,
    "start_time": "2021-10-01T15:51:50.583Z"
   },
   {
    "duration": 426,
    "start_time": "2021-10-01T15:51:51.154Z"
   },
   {
    "duration": 645,
    "start_time": "2021-10-01T15:51:51.583Z"
   },
   {
    "duration": 387,
    "start_time": "2021-10-01T15:51:52.231Z"
   },
   {
    "duration": 35,
    "start_time": "2021-10-01T15:51:52.627Z"
   },
   {
    "duration": 1798,
    "start_time": "2021-10-01T15:51:52.664Z"
   },
   {
    "duration": 3,
    "start_time": "2021-10-01T15:51:54.465Z"
   },
   {
    "duration": 29,
    "start_time": "2021-10-01T15:51:54.470Z"
   },
   {
    "duration": 102,
    "start_time": "2021-10-01T15:51:54.502Z"
   },
   {
    "duration": 4,
    "start_time": "2021-10-01T15:51:54.606Z"
   },
   {
    "duration": 89,
    "start_time": "2021-10-01T15:51:54.612Z"
   },
   {
    "duration": 29,
    "start_time": "2021-10-01T15:52:11.967Z"
   },
   {
    "duration": 8,
    "start_time": "2021-10-01T15:52:26.673Z"
   },
   {
    "duration": 37426,
    "start_time": "2021-10-01T15:52:28.704Z"
   },
   {
    "duration": 4,
    "start_time": "2021-10-01T15:53:09.615Z"
   },
   {
    "duration": 12,
    "start_time": "2021-10-01T15:53:12.607Z"
   },
   {
    "duration": 7,
    "start_time": "2021-10-01T15:53:18.119Z"
   },
   {
    "duration": 65477,
    "start_time": "2021-10-01T15:53:21.599Z"
   },
   {
    "duration": 38,
    "start_time": "2021-10-01T15:54:31.487Z"
   },
   {
    "duration": 5,
    "start_time": "2021-10-01T15:54:35.071Z"
   },
   {
    "duration": 262135,
    "start_time": "2021-10-01T15:55:07.440Z"
   },
   {
    "duration": 263,
    "start_time": "2021-10-01T16:06:11.396Z"
   },
   {
    "duration": 5,
    "start_time": "2021-10-01T16:56:45.370Z"
   },
   {
    "duration": 580,
    "start_time": "2021-10-01T16:57:34.656Z"
   },
   {
    "duration": 5,
    "start_time": "2021-10-01T16:57:46.399Z"
   },
   {
    "duration": 612,
    "start_time": "2021-10-01T16:57:47.143Z"
   },
   {
    "duration": 6,
    "start_time": "2021-10-01T16:58:03.312Z"
   },
   {
    "duration": 344488,
    "start_time": "2021-10-01T16:58:09.776Z"
   },
   {
    "duration": 5,
    "start_time": "2021-10-01T17:04:23.350Z"
   },
   {
    "duration": 722679,
    "start_time": "2021-10-01T17:04:25.207Z"
   },
   {
    "duration": 5,
    "start_time": "2021-10-01T17:16:44.608Z"
   },
   {
    "duration": 395252,
    "start_time": "2021-10-01T17:16:45.879Z"
   },
   {
    "duration": 5,
    "start_time": "2021-10-01T17:24:19.866Z"
   },
   {
    "duration": 1822471,
    "start_time": "2021-10-01T17:24:21.177Z"
   },
   {
    "duration": 6759,
    "start_time": "2021-10-01T17:55:12.514Z"
   },
   {
    "duration": 2022,
    "start_time": "2021-10-01T17:55:19.276Z"
   },
   {
    "duration": 190,
    "start_time": "2021-10-01T17:55:21.301Z"
   },
   {
    "duration": 1513,
    "start_time": "2021-10-01T17:55:21.494Z"
   },
   {
    "duration": 59,
    "start_time": "2021-10-01T17:55:23.010Z"
   },
   {
    "duration": 182,
    "start_time": "2021-10-01T17:55:23.072Z"
   },
   {
    "duration": 90,
    "start_time": "2021-10-01T17:55:23.256Z"
   },
   {
    "duration": 107,
    "start_time": "2021-10-01T17:55:23.350Z"
   },
   {
    "duration": 175,
    "start_time": "2021-10-01T17:55:23.460Z"
   },
   {
    "duration": 42,
    "start_time": "2021-10-01T17:55:23.639Z"
   },
   {
    "duration": 48,
    "start_time": "2021-10-01T17:55:23.684Z"
   },
   {
    "duration": 35,
    "start_time": "2021-10-01T17:55:23.735Z"
   },
   {
    "duration": 39,
    "start_time": "2021-10-01T17:55:23.773Z"
   },
   {
    "duration": 12,
    "start_time": "2021-10-01T17:55:23.823Z"
   },
   {
    "duration": 183,
    "start_time": "2021-10-01T17:55:23.837Z"
   },
   {
    "duration": 112,
    "start_time": "2021-10-01T17:55:24.023Z"
   },
   {
    "duration": 3,
    "start_time": "2021-10-01T17:55:24.138Z"
   },
   {
    "duration": 3827,
    "start_time": "2021-10-01T17:55:24.144Z"
   },
   {
    "duration": 242,
    "start_time": "2021-10-01T17:55:27.975Z"
   },
   {
    "duration": 3797,
    "start_time": "2021-10-01T17:55:28.220Z"
   },
   {
    "duration": 239,
    "start_time": "2021-10-01T17:55:32.023Z"
   },
   {
    "duration": 2699,
    "start_time": "2021-10-01T17:55:32.264Z"
   },
   {
    "duration": 60,
    "start_time": "2021-10-01T17:55:34.969Z"
   },
   {
    "duration": 4,
    "start_time": "2021-10-01T17:55:35.032Z"
   },
   {
    "duration": 119,
    "start_time": "2021-10-01T17:55:35.039Z"
   },
   {
    "duration": 6,
    "start_time": "2021-10-01T17:55:35.161Z"
   },
   {
    "duration": 447,
    "start_time": "2021-10-01T17:55:35.170Z"
   },
   {
    "duration": 379,
    "start_time": "2021-10-01T17:55:35.623Z"
   },
   {
    "duration": 817,
    "start_time": "2021-10-01T17:55:36.005Z"
   },
   {
    "duration": 601,
    "start_time": "2021-10-01T17:55:36.825Z"
   },
   {
    "duration": 634,
    "start_time": "2021-10-01T17:55:37.429Z"
   },
   {
    "duration": 387,
    "start_time": "2021-10-01T17:55:38.065Z"
   },
   {
    "duration": 31,
    "start_time": "2021-10-01T17:55:38.454Z"
   },
   {
    "duration": 1753,
    "start_time": "2021-10-01T17:55:38.487Z"
   },
   {
    "duration": 4,
    "start_time": "2021-10-01T17:55:40.242Z"
   },
   {
    "duration": 475,
    "start_time": "2021-10-01T17:55:40.248Z"
   },
   {
    "duration": -1773,
    "start_time": "2021-10-01T17:55:42.498Z"
   },
   {
    "duration": -1775,
    "start_time": "2021-10-01T17:55:42.502Z"
   },
   {
    "duration": -1777,
    "start_time": "2021-10-01T17:55:42.505Z"
   },
   {
    "duration": -1779,
    "start_time": "2021-10-01T17:55:42.508Z"
   },
   {
    "duration": -1781,
    "start_time": "2021-10-01T17:55:42.512Z"
   },
   {
    "duration": -1783,
    "start_time": "2021-10-01T17:55:42.515Z"
   },
   {
    "duration": -1797,
    "start_time": "2021-10-01T17:55:42.531Z"
   },
   {
    "duration": -1799,
    "start_time": "2021-10-01T17:55:42.534Z"
   },
   {
    "duration": -1801,
    "start_time": "2021-10-01T17:55:42.537Z"
   },
   {
    "duration": -1801,
    "start_time": "2021-10-01T17:55:42.539Z"
   },
   {
    "duration": -1801,
    "start_time": "2021-10-01T17:55:42.540Z"
   },
   {
    "duration": -1801,
    "start_time": "2021-10-01T17:55:42.542Z"
   },
   {
    "duration": -1803,
    "start_time": "2021-10-01T17:55:42.545Z"
   },
   {
    "duration": -1803,
    "start_time": "2021-10-01T17:55:42.546Z"
   },
   {
    "duration": -1804,
    "start_time": "2021-10-01T17:55:42.548Z"
   },
   {
    "duration": -1804,
    "start_time": "2021-10-01T17:55:42.550Z"
   },
   {
    "duration": 5134,
    "start_time": "2021-10-01T17:58:45.557Z"
   },
   {
    "duration": 2543,
    "start_time": "2021-10-01T17:58:50.695Z"
   },
   {
    "duration": 299,
    "start_time": "2021-10-01T17:58:53.242Z"
   },
   {
    "duration": 2091,
    "start_time": "2021-10-01T17:58:53.544Z"
   },
   {
    "duration": 60,
    "start_time": "2021-10-01T17:58:55.637Z"
   },
   {
    "duration": 294,
    "start_time": "2021-10-01T17:58:55.701Z"
   },
   {
    "duration": 111,
    "start_time": "2021-10-01T17:58:55.998Z"
   },
   {
    "duration": 115,
    "start_time": "2021-10-01T17:58:56.126Z"
   },
   {
    "duration": 112,
    "start_time": "2021-10-01T17:58:56.244Z"
   },
   {
    "duration": 43,
    "start_time": "2021-10-01T17:58:56.359Z"
   },
   {
    "duration": 29,
    "start_time": "2021-10-01T17:58:56.423Z"
   },
   {
    "duration": 35,
    "start_time": "2021-10-01T17:58:56.455Z"
   },
   {
    "duration": 51,
    "start_time": "2021-10-01T17:58:56.493Z"
   },
   {
    "duration": 10,
    "start_time": "2021-10-01T17:58:56.548Z"
   },
   {
    "duration": 266,
    "start_time": "2021-10-01T17:58:56.561Z"
   },
   {
    "duration": 149,
    "start_time": "2021-10-01T17:58:56.830Z"
   },
   {
    "duration": 5,
    "start_time": "2021-10-01T17:58:56.982Z"
   },
   {
    "duration": 2789,
    "start_time": "2021-10-01T17:58:56.990Z"
   },
   {
    "duration": 164,
    "start_time": "2021-10-01T17:58:59.783Z"
   },
   {
    "duration": 3764,
    "start_time": "2021-10-01T17:58:59.951Z"
   },
   {
    "duration": 422,
    "start_time": "2021-10-01T17:59:03.717Z"
   },
   {
    "duration": 3013,
    "start_time": "2021-10-01T17:59:04.142Z"
   },
   {
    "duration": 82,
    "start_time": "2021-10-01T17:59:07.163Z"
   },
   {
    "duration": 4,
    "start_time": "2021-10-01T17:59:07.249Z"
   },
   {
    "duration": 119,
    "start_time": "2021-10-01T17:59:07.256Z"
   },
   {
    "duration": 6,
    "start_time": "2021-10-01T17:59:07.377Z"
   },
   {
    "duration": 445,
    "start_time": "2021-10-01T17:59:07.386Z"
   },
   {
    "duration": 542,
    "start_time": "2021-10-01T17:59:07.834Z"
   },
   {
    "duration": 886,
    "start_time": "2021-10-01T17:59:08.379Z"
   },
   {
    "duration": 601,
    "start_time": "2021-10-01T17:59:09.283Z"
   },
   {
    "duration": 751,
    "start_time": "2021-10-01T17:59:09.887Z"
   },
   {
    "duration": 544,
    "start_time": "2021-10-01T17:59:10.641Z"
   },
   {
    "duration": 52,
    "start_time": "2021-10-01T17:59:11.188Z"
   },
   {
    "duration": 2381,
    "start_time": "2021-10-01T17:59:11.243Z"
   },
   {
    "duration": 4,
    "start_time": "2021-10-01T17:59:13.627Z"
   },
   {
    "duration": 48,
    "start_time": "2021-10-01T17:59:13.634Z"
   },
   {
    "duration": 107,
    "start_time": "2021-10-01T17:59:13.685Z"
   },
   {
    "duration": 5,
    "start_time": "2021-10-01T17:59:13.795Z"
   },
   {
    "duration": 161,
    "start_time": "2021-10-01T17:59:13.803Z"
   },
   {
    "duration": 8,
    "start_time": "2021-10-01T17:59:13.967Z"
   },
   {
    "duration": 38746,
    "start_time": "2021-10-01T17:59:13.977Z"
   },
   {
    "duration": 5,
    "start_time": "2021-10-01T17:59:52.725Z"
   },
   {
    "duration": 108,
    "start_time": "2021-10-01T17:59:52.733Z"
   },
   {
    "duration": 10,
    "start_time": "2021-10-01T17:59:52.924Z"
   },
   {
    "duration": 73032,
    "start_time": "2021-10-01T17:59:52.936Z"
   },
   {
    "duration": 26,
    "start_time": "2021-10-01T18:01:05.971Z"
   },
   {
    "duration": 23,
    "start_time": "2021-10-01T18:01:06.000Z"
   },
   {
    "duration": 272491,
    "start_time": "2021-10-01T18:01:06.027Z"
   },
   {
    "duration": -1686,
    "start_time": "2021-10-01T18:05:40.206Z"
   },
   {
    "duration": -1689,
    "start_time": "2021-10-01T18:05:40.211Z"
   },
   {
    "duration": -1689,
    "start_time": "2021-10-01T18:05:40.214Z"
   },
   {
    "duration": -1691,
    "start_time": "2021-10-01T18:05:40.218Z"
   },
   {
    "duration": 5104,
    "start_time": "2021-10-01T18:06:22.258Z"
   },
   {
    "duration": 1992,
    "start_time": "2021-10-01T18:06:27.365Z"
   },
   {
    "duration": 182,
    "start_time": "2021-10-01T18:06:29.360Z"
   },
   {
    "duration": 1621,
    "start_time": "2021-10-01T18:06:29.544Z"
   },
   {
    "duration": 76,
    "start_time": "2021-10-01T18:06:31.168Z"
   },
   {
    "duration": 183,
    "start_time": "2021-10-01T18:06:31.246Z"
   },
   {
    "duration": 72,
    "start_time": "2021-10-01T18:06:31.431Z"
   },
   {
    "duration": 104,
    "start_time": "2021-10-01T18:06:31.525Z"
   },
   {
    "duration": 128,
    "start_time": "2021-10-01T18:06:31.632Z"
   },
   {
    "duration": 27,
    "start_time": "2021-10-01T18:06:31.762Z"
   },
   {
    "duration": 69,
    "start_time": "2021-10-01T18:06:31.793Z"
   },
   {
    "duration": 32,
    "start_time": "2021-10-01T18:06:31.865Z"
   },
   {
    "duration": 51,
    "start_time": "2021-10-01T18:06:31.900Z"
   },
   {
    "duration": 15,
    "start_time": "2021-10-01T18:06:31.953Z"
   },
   {
    "duration": 256,
    "start_time": "2021-10-01T18:06:31.971Z"
   },
   {
    "duration": 140,
    "start_time": "2021-10-01T18:06:32.230Z"
   },
   {
    "duration": 9,
    "start_time": "2021-10-01T18:06:32.373Z"
   },
   {
    "duration": 2642,
    "start_time": "2021-10-01T18:06:32.384Z"
   },
   {
    "duration": 164,
    "start_time": "2021-10-01T18:06:35.028Z"
   },
   {
    "duration": 2668,
    "start_time": "2021-10-01T18:06:35.195Z"
   },
   {
    "duration": 233,
    "start_time": "2021-10-01T18:06:37.866Z"
   },
   {
    "duration": 2626,
    "start_time": "2021-10-01T18:06:38.101Z"
   },
   {
    "duration": 53,
    "start_time": "2021-10-01T18:06:40.733Z"
   },
   {
    "duration": 4,
    "start_time": "2021-10-01T18:06:40.789Z"
   },
   {
    "duration": 107,
    "start_time": "2021-10-01T18:06:40.823Z"
   },
   {
    "duration": 6,
    "start_time": "2021-10-01T18:06:40.932Z"
   },
   {
    "duration": 591,
    "start_time": "2021-10-01T18:06:40.941Z"
   },
   {
    "duration": 533,
    "start_time": "2021-10-01T18:06:41.535Z"
   },
   {
    "duration": 861,
    "start_time": "2021-10-01T18:06:42.071Z"
   },
   {
    "duration": 447,
    "start_time": "2021-10-01T18:06:42.936Z"
   },
   {
    "duration": 504,
    "start_time": "2021-10-01T18:06:43.386Z"
   },
   {
    "duration": 376,
    "start_time": "2021-10-01T18:06:43.892Z"
   },
   {
    "duration": 27,
    "start_time": "2021-10-01T18:06:44.271Z"
   },
   {
    "duration": 1729,
    "start_time": "2021-10-01T18:06:44.300Z"
   },
   {
    "duration": 4,
    "start_time": "2021-10-01T18:06:46.031Z"
   },
   {
    "duration": 37,
    "start_time": "2021-10-01T18:06:46.039Z"
   },
   {
    "duration": 93,
    "start_time": "2021-10-01T18:06:46.079Z"
   },
   {
    "duration": 4,
    "start_time": "2021-10-01T18:06:46.174Z"
   },
   {
    "duration": 142,
    "start_time": "2021-10-01T18:06:46.180Z"
   },
   {
    "duration": 10,
    "start_time": "2021-10-01T18:06:46.325Z"
   },
   {
    "duration": 43427,
    "start_time": "2021-10-01T18:06:46.338Z"
   },
   {
    "duration": 5,
    "start_time": "2021-10-01T18:07:29.768Z"
   },
   {
    "duration": 70,
    "start_time": "2021-10-01T18:07:29.776Z"
   },
   {
    "duration": 78,
    "start_time": "2021-10-01T18:07:29.850Z"
   },
   {
    "duration": 12285,
    "start_time": "2021-10-01T18:07:29.933Z"
   },
   {
    "duration": -1651,
    "start_time": "2021-10-01T18:07:43.872Z"
   },
   {
    "duration": -1654,
    "start_time": "2021-10-01T18:07:43.877Z"
   },
   {
    "duration": -1655,
    "start_time": "2021-10-01T18:07:43.880Z"
   },
   {
    "duration": -1661,
    "start_time": "2021-10-01T18:07:43.889Z"
   },
   {
    "duration": -1662,
    "start_time": "2021-10-01T18:07:43.892Z"
   },
   {
    "duration": -1662,
    "start_time": "2021-10-01T18:07:43.894Z"
   },
   {
    "duration": -1662,
    "start_time": "2021-10-01T18:07:43.897Z"
   },
   {
    "duration": 5017,
    "start_time": "2021-10-01T18:08:02.013Z"
   },
   {
    "duration": 2114,
    "start_time": "2021-10-01T18:08:07.033Z"
   },
   {
    "duration": 298,
    "start_time": "2021-10-01T18:08:09.151Z"
   },
   {
    "duration": 2100,
    "start_time": "2021-10-01T18:08:09.453Z"
   },
   {
    "duration": 85,
    "start_time": "2021-10-01T18:08:11.556Z"
   },
   {
    "duration": 291,
    "start_time": "2021-10-01T18:08:11.644Z"
   },
   {
    "duration": 108,
    "start_time": "2021-10-01T18:08:11.939Z"
   },
   {
    "duration": 107,
    "start_time": "2021-10-01T18:08:12.051Z"
   },
   {
    "duration": 113,
    "start_time": "2021-10-01T18:08:12.162Z"
   },
   {
    "duration": 26,
    "start_time": "2021-10-01T18:08:12.278Z"
   },
   {
    "duration": 26,
    "start_time": "2021-10-01T18:08:12.323Z"
   },
   {
    "duration": 33,
    "start_time": "2021-10-01T18:08:12.352Z"
   },
   {
    "duration": 75,
    "start_time": "2021-10-01T18:08:12.388Z"
   },
   {
    "duration": 13,
    "start_time": "2021-10-01T18:08:12.466Z"
   },
   {
    "duration": 195,
    "start_time": "2021-10-01T18:08:12.482Z"
   },
   {
    "duration": 164,
    "start_time": "2021-10-01T18:08:12.680Z"
   },
   {
    "duration": 5,
    "start_time": "2021-10-01T18:08:12.847Z"
   },
   {
    "duration": 3847,
    "start_time": "2021-10-01T18:08:12.855Z"
   },
   {
    "duration": 164,
    "start_time": "2021-10-01T18:08:16.705Z"
   },
   {
    "duration": 3639,
    "start_time": "2021-10-01T18:08:16.871Z"
   },
   {
    "duration": 236,
    "start_time": "2021-10-01T18:08:20.513Z"
   },
   {
    "duration": 3580,
    "start_time": "2021-10-01T18:08:20.752Z"
   },
   {
    "duration": 45,
    "start_time": "2021-10-01T18:08:24.338Z"
   },
   {
    "duration": 4,
    "start_time": "2021-10-01T18:08:24.386Z"
   },
   {
    "duration": 135,
    "start_time": "2021-10-01T18:08:24.393Z"
   },
   {
    "duration": 7,
    "start_time": "2021-10-01T18:08:24.530Z"
   },
   {
    "duration": 446,
    "start_time": "2021-10-01T18:08:24.539Z"
   },
   {
    "duration": 414,
    "start_time": "2021-10-01T18:08:24.987Z"
   },
   {
    "duration": 923,
    "start_time": "2021-10-01T18:08:25.404Z"
   },
   {
    "duration": 596,
    "start_time": "2021-10-01T18:08:26.330Z"
   },
   {
    "duration": 728,
    "start_time": "2021-10-01T18:08:26.929Z"
   },
   {
    "duration": 391,
    "start_time": "2021-10-01T18:08:27.660Z"
   },
   {
    "duration": 28,
    "start_time": "2021-10-01T18:08:28.054Z"
   },
   {
    "duration": 1843,
    "start_time": "2021-10-01T18:08:28.086Z"
   },
   {
    "duration": 4,
    "start_time": "2021-10-01T18:08:29.932Z"
   },
   {
    "duration": 49,
    "start_time": "2021-10-01T18:08:29.940Z"
   },
   {
    "duration": 122,
    "start_time": "2021-10-01T18:08:29.993Z"
   },
   {
    "duration": 5,
    "start_time": "2021-10-01T18:08:30.123Z"
   },
   {
    "duration": 29,
    "start_time": "2021-10-01T18:08:30.131Z"
   },
   {
    "duration": 31,
    "start_time": "2021-10-01T18:08:30.163Z"
   },
   {
    "duration": 45049,
    "start_time": "2021-10-01T18:08:30.197Z"
   },
   {
    "duration": 73,
    "start_time": "2021-10-01T18:09:15.250Z"
   },
   {
    "duration": 99,
    "start_time": "2021-10-01T18:09:15.327Z"
   },
   {
    "duration": 96,
    "start_time": "2021-10-01T18:09:15.429Z"
   },
   {
    "duration": 70369,
    "start_time": "2021-10-01T18:09:15.528Z"
   },
   {
    "duration": 35,
    "start_time": "2021-10-01T18:10:25.899Z"
   },
   {
    "duration": 4,
    "start_time": "2021-10-01T18:10:25.936Z"
   },
   {
    "duration": 97692,
    "start_time": "2021-10-01T18:10:25.942Z"
   },
   {
    "duration": -1768,
    "start_time": "2021-10-01T18:12:05.405Z"
   },
   {
    "duration": -1777,
    "start_time": "2021-10-01T18:12:05.416Z"
   },
   {
    "duration": -1779,
    "start_time": "2021-10-01T18:12:05.420Z"
   },
   {
    "duration": -1789,
    "start_time": "2021-10-01T18:12:05.431Z"
   },
   {
    "duration": 4883,
    "start_time": "2021-10-01T18:12:55.082Z"
   },
   {
    "duration": 1751,
    "start_time": "2021-10-01T18:12:59.968Z"
   },
   {
    "duration": 188,
    "start_time": "2021-10-01T18:13:01.724Z"
   },
   {
    "duration": 1535,
    "start_time": "2021-10-01T18:13:01.922Z"
   },
   {
    "duration": 69,
    "start_time": "2021-10-01T18:13:03.460Z"
   },
   {
    "duration": 276,
    "start_time": "2021-10-01T18:13:03.533Z"
   },
   {
    "duration": 76,
    "start_time": "2021-10-01T18:13:03.814Z"
   },
   {
    "duration": 109,
    "start_time": "2021-10-01T18:13:03.894Z"
   },
   {
    "duration": 116,
    "start_time": "2021-10-01T18:13:04.006Z"
   },
   {
    "duration": 32,
    "start_time": "2021-10-01T18:13:04.124Z"
   },
   {
    "duration": 38,
    "start_time": "2021-10-01T18:13:04.158Z"
   },
   {
    "duration": 53,
    "start_time": "2021-10-01T18:13:04.198Z"
   },
   {
    "duration": 66,
    "start_time": "2021-10-01T18:13:04.254Z"
   },
   {
    "duration": 36,
    "start_time": "2021-10-01T18:13:04.323Z"
   },
   {
    "duration": 196,
    "start_time": "2021-10-01T18:13:04.362Z"
   },
   {
    "duration": 103,
    "start_time": "2021-10-01T18:13:04.561Z"
   },
   {
    "duration": 20,
    "start_time": "2021-10-01T18:13:04.666Z"
   },
   {
    "duration": 2592,
    "start_time": "2021-10-01T18:13:04.689Z"
   },
   {
    "duration": 162,
    "start_time": "2021-10-01T18:13:07.284Z"
   },
   {
    "duration": 2652,
    "start_time": "2021-10-01T18:13:07.449Z"
   },
   {
    "duration": 238,
    "start_time": "2021-10-01T18:13:10.104Z"
   },
   {
    "duration": 2622,
    "start_time": "2021-10-01T18:13:10.347Z"
   },
   {
    "duration": 66,
    "start_time": "2021-10-01T18:13:12.975Z"
   },
   {
    "duration": 3,
    "start_time": "2021-10-01T18:13:13.044Z"
   },
   {
    "duration": 139,
    "start_time": "2021-10-01T18:13:13.049Z"
   },
   {
    "duration": 7,
    "start_time": "2021-10-01T18:13:13.190Z"
   },
   {
    "duration": 437,
    "start_time": "2021-10-01T18:13:13.199Z"
   },
   {
    "duration": 386,
    "start_time": "2021-10-01T18:13:13.639Z"
   },
   {
    "duration": 672,
    "start_time": "2021-10-01T18:13:14.027Z"
   },
   {
    "duration": 614,
    "start_time": "2021-10-01T18:13:14.702Z"
   },
   {
    "duration": 541,
    "start_time": "2021-10-01T18:13:15.319Z"
   },
   {
    "duration": 396,
    "start_time": "2021-10-01T18:13:15.862Z"
   },
   {
    "duration": 29,
    "start_time": "2021-10-01T18:13:16.260Z"
   },
   {
    "duration": 1726,
    "start_time": "2021-10-01T18:13:16.291Z"
   },
   {
    "duration": 3,
    "start_time": "2021-10-01T18:13:18.024Z"
   },
   {
    "duration": 51,
    "start_time": "2021-10-01T18:13:18.029Z"
   },
   {
    "duration": 77,
    "start_time": "2021-10-01T18:13:18.082Z"
   },
   {
    "duration": 3,
    "start_time": "2021-10-01T18:13:18.162Z"
   },
   {
    "duration": 136,
    "start_time": "2021-10-01T18:13:18.167Z"
   },
   {
    "duration": 16,
    "start_time": "2021-10-01T18:13:18.306Z"
   },
   {
    "duration": 37301,
    "start_time": "2021-10-01T18:13:18.325Z"
   },
   {
    "duration": 6,
    "start_time": "2021-10-01T18:13:55.630Z"
   },
   {
    "duration": 858,
    "start_time": "2021-10-01T18:13:55.640Z"
   },
   {
    "duration": -1629,
    "start_time": "2021-10-01T18:13:58.131Z"
   },
   {
    "duration": -1631,
    "start_time": "2021-10-01T18:13:58.135Z"
   },
   {
    "duration": -1634,
    "start_time": "2021-10-01T18:13:58.140Z"
   },
   {
    "duration": -1635,
    "start_time": "2021-10-01T18:13:58.143Z"
   },
   {
    "duration": -1637,
    "start_time": "2021-10-01T18:13:58.147Z"
   },
   {
    "duration": -1636,
    "start_time": "2021-10-01T18:13:58.149Z"
   },
   {
    "duration": -1636,
    "start_time": "2021-10-01T18:13:58.151Z"
   },
   {
    "duration": -1635,
    "start_time": "2021-10-01T18:13:58.152Z"
   },
   {
    "duration": -1635,
    "start_time": "2021-10-01T18:13:58.154Z"
   },
   {
    "duration": 5260,
    "start_time": "2021-10-01T18:14:36.834Z"
   },
   {
    "duration": 1850,
    "start_time": "2021-10-01T18:14:42.096Z"
   },
   {
    "duration": 187,
    "start_time": "2021-10-01T18:14:43.949Z"
   },
   {
    "duration": 1595,
    "start_time": "2021-10-01T18:14:44.139Z"
   },
   {
    "duration": 61,
    "start_time": "2021-10-01T18:14:45.737Z"
   },
   {
    "duration": 194,
    "start_time": "2021-10-01T18:14:45.800Z"
   },
   {
    "duration": 132,
    "start_time": "2021-10-01T18:14:45.998Z"
   },
   {
    "duration": 129,
    "start_time": "2021-10-01T18:14:46.136Z"
   },
   {
    "duration": 178,
    "start_time": "2021-10-01T18:14:46.269Z"
   },
   {
    "duration": 42,
    "start_time": "2021-10-01T18:14:46.450Z"
   },
   {
    "duration": 61,
    "start_time": "2021-10-01T18:14:46.495Z"
   },
   {
    "duration": 42,
    "start_time": "2021-10-01T18:14:46.559Z"
   },
   {
    "duration": 42,
    "start_time": "2021-10-01T18:14:46.623Z"
   },
   {
    "duration": 11,
    "start_time": "2021-10-01T18:14:46.668Z"
   },
   {
    "duration": 268,
    "start_time": "2021-10-01T18:14:46.682Z"
   },
   {
    "duration": 174,
    "start_time": "2021-10-01T18:14:46.953Z"
   },
   {
    "duration": 5,
    "start_time": "2021-10-01T18:14:47.130Z"
   },
   {
    "duration": 2827,
    "start_time": "2021-10-01T18:14:47.138Z"
   },
   {
    "duration": 163,
    "start_time": "2021-10-01T18:14:49.967Z"
   },
   {
    "duration": 2626,
    "start_time": "2021-10-01T18:14:50.133Z"
   },
   {
    "duration": 243,
    "start_time": "2021-10-01T18:14:52.761Z"
   },
   {
    "duration": 2787,
    "start_time": "2021-10-01T18:14:53.006Z"
   },
   {
    "duration": 63,
    "start_time": "2021-10-01T18:14:55.798Z"
   },
   {
    "duration": 4,
    "start_time": "2021-10-01T18:14:55.864Z"
   },
   {
    "duration": 126,
    "start_time": "2021-10-01T18:14:55.871Z"
   },
   {
    "duration": 9,
    "start_time": "2021-10-01T18:14:56.000Z"
   },
   {
    "duration": 431,
    "start_time": "2021-10-01T18:14:56.024Z"
   },
   {
    "duration": 383,
    "start_time": "2021-10-01T18:14:56.457Z"
   },
   {
    "duration": 647,
    "start_time": "2021-10-01T18:14:56.843Z"
   },
   {
    "duration": 420,
    "start_time": "2021-10-01T18:14:57.493Z"
   },
   {
    "duration": 510,
    "start_time": "2021-10-01T18:14:57.916Z"
   },
   {
    "duration": 376,
    "start_time": "2021-10-01T18:14:58.429Z"
   },
   {
    "duration": 33,
    "start_time": "2021-10-01T18:14:58.808Z"
   },
   {
    "duration": 1724,
    "start_time": "2021-10-01T18:14:58.844Z"
   },
   {
    "duration": 3,
    "start_time": "2021-10-01T18:15:00.571Z"
   },
   {
    "duration": 50,
    "start_time": "2021-10-01T18:15:00.577Z"
   },
   {
    "duration": 71,
    "start_time": "2021-10-01T18:15:00.630Z"
   },
   {
    "duration": 19,
    "start_time": "2021-10-01T18:15:00.703Z"
   },
   {
    "duration": 160,
    "start_time": "2021-10-01T18:15:00.726Z"
   },
   {
    "duration": 8,
    "start_time": "2021-10-01T18:15:00.888Z"
   },
   {
    "duration": 36543,
    "start_time": "2021-10-01T18:15:00.898Z"
   },
   {
    "duration": 78,
    "start_time": "2021-10-01T18:15:37.444Z"
   },
   {
    "duration": 19,
    "start_time": "2021-10-01T18:15:37.525Z"
   },
   {
    "duration": 83,
    "start_time": "2021-10-01T18:15:37.548Z"
   },
   {
    "duration": 69569,
    "start_time": "2021-10-01T18:15:37.634Z"
   },
   {
    "duration": 36,
    "start_time": "2021-10-01T18:16:47.206Z"
   },
   {
    "duration": 5,
    "start_time": "2021-10-01T18:16:47.246Z"
   },
   {
    "duration": 246206,
    "start_time": "2021-10-01T18:16:47.254Z"
   },
   {
    "duration": -1699,
    "start_time": "2021-10-01T18:20:55.161Z"
   },
   {
    "duration": -1711,
    "start_time": "2021-10-01T18:20:55.175Z"
   },
   {
    "duration": -1713,
    "start_time": "2021-10-01T18:20:55.179Z"
   },
   {
    "duration": -1717,
    "start_time": "2021-10-01T18:20:55.184Z"
   },
   {
    "duration": 5567,
    "start_time": "2021-10-01T18:21:59.027Z"
   },
   {
    "duration": 2040,
    "start_time": "2021-10-01T18:22:04.597Z"
   },
   {
    "duration": 182,
    "start_time": "2021-10-01T18:22:06.640Z"
   },
   {
    "duration": 1424,
    "start_time": "2021-10-01T18:22:06.825Z"
   },
   {
    "duration": 72,
    "start_time": "2021-10-01T18:22:08.251Z"
   },
   {
    "duration": 168,
    "start_time": "2021-10-01T18:22:08.326Z"
   },
   {
    "duration": 76,
    "start_time": "2021-10-01T18:22:08.496Z"
   },
   {
    "duration": 103,
    "start_time": "2021-10-01T18:22:08.576Z"
   },
   {
    "duration": 116,
    "start_time": "2021-10-01T18:22:08.683Z"
   },
   {
    "duration": 33,
    "start_time": "2021-10-01T18:22:08.801Z"
   },
   {
    "duration": 38,
    "start_time": "2021-10-01T18:22:08.837Z"
   },
   {
    "duration": 40,
    "start_time": "2021-10-01T18:22:08.877Z"
   },
   {
    "duration": 29,
    "start_time": "2021-10-01T18:22:08.922Z"
   },
   {
    "duration": 18,
    "start_time": "2021-10-01T18:22:08.953Z"
   },
   {
    "duration": 181,
    "start_time": "2021-10-01T18:22:08.973Z"
   },
   {
    "duration": 101,
    "start_time": "2021-10-01T18:22:09.156Z"
   },
   {
    "duration": 4,
    "start_time": "2021-10-01T18:22:09.260Z"
   },
   {
    "duration": 2575,
    "start_time": "2021-10-01T18:22:09.267Z"
   },
   {
    "duration": 165,
    "start_time": "2021-10-01T18:22:11.845Z"
   },
   {
    "duration": 2668,
    "start_time": "2021-10-01T18:22:12.012Z"
   },
   {
    "duration": 249,
    "start_time": "2021-10-01T18:22:14.682Z"
   },
   {
    "duration": 2610,
    "start_time": "2021-10-01T18:22:14.934Z"
   },
   {
    "duration": 44,
    "start_time": "2021-10-01T18:22:17.552Z"
   },
   {
    "duration": 24,
    "start_time": "2021-10-01T18:22:17.600Z"
   },
   {
    "duration": 127,
    "start_time": "2021-10-01T18:22:17.627Z"
   },
   {
    "duration": 8,
    "start_time": "2021-10-01T18:22:17.757Z"
   },
   {
    "duration": 445,
    "start_time": "2021-10-01T18:22:17.768Z"
   },
   {
    "duration": 379,
    "start_time": "2021-10-01T18:22:18.216Z"
   },
   {
    "duration": 666,
    "start_time": "2021-10-01T18:22:18.598Z"
   },
   {
    "duration": 422,
    "start_time": "2021-10-01T18:22:19.268Z"
   },
   {
    "duration": 518,
    "start_time": "2021-10-01T18:22:19.694Z"
   },
   {
    "duration": 380,
    "start_time": "2021-10-01T18:22:20.215Z"
   },
   {
    "duration": 44,
    "start_time": "2021-10-01T18:22:20.598Z"
   },
   {
    "duration": 2323,
    "start_time": "2021-10-01T18:22:20.645Z"
   },
   {
    "duration": 4,
    "start_time": "2021-10-01T18:22:22.970Z"
   },
   {
    "duration": 49,
    "start_time": "2021-10-01T18:22:22.977Z"
   },
   {
    "duration": 70,
    "start_time": "2021-10-01T18:22:23.028Z"
   },
   {
    "duration": 21,
    "start_time": "2021-10-01T18:22:23.101Z"
   },
   {
    "duration": 181,
    "start_time": "2021-10-01T18:22:23.125Z"
   },
   {
    "duration": 17,
    "start_time": "2021-10-01T18:22:23.308Z"
   },
   {
    "duration": 36910,
    "start_time": "2021-10-01T18:22:23.328Z"
   },
   {
    "duration": 6,
    "start_time": "2021-10-01T18:23:00.241Z"
   },
   {
    "duration": 201,
    "start_time": "2021-10-01T18:23:00.322Z"
   },
   {
    "duration": 10,
    "start_time": "2021-10-01T18:23:00.526Z"
   },
   {
    "duration": 68728,
    "start_time": "2021-10-01T18:23:00.539Z"
   },
   {
    "duration": 21,
    "start_time": "2021-10-01T18:24:09.269Z"
   },
   {
    "duration": 4,
    "start_time": "2021-10-01T18:24:09.292Z"
   },
   {
    "duration": 265761,
    "start_time": "2021-10-01T18:24:09.299Z"
   },
   {
    "duration": 276,
    "start_time": "2021-10-01T18:28:35.062Z"
   },
   {
    "duration": 5,
    "start_time": "2021-10-01T18:28:35.340Z"
   },
   {
    "duration": 1819690,
    "start_time": "2021-10-01T18:28:35.347Z"
   },
   {
    "duration": 284,
    "start_time": "2021-10-01T18:58:55.040Z"
   },
   {
    "duration": 523,
    "start_time": "2021-10-01T18:58:55.327Z"
   },
   {
    "duration": 12,
    "start_time": "2021-10-01T18:59:49.602Z"
   },
   {
    "duration": 376,
    "start_time": "2021-10-02T08:55:01.077Z"
   },
   {
    "duration": 6231,
    "start_time": "2021-10-04T14:49:01.109Z"
   },
   {
    "duration": 3349,
    "start_time": "2021-10-04T14:49:07.343Z"
   },
   {
    "duration": 183,
    "start_time": "2021-10-04T14:49:10.695Z"
   },
   {
    "duration": 1461,
    "start_time": "2021-10-04T14:49:10.882Z"
   },
   {
    "duration": 59,
    "start_time": "2021-10-04T14:49:12.346Z"
   },
   {
    "duration": 181,
    "start_time": "2021-10-04T14:49:12.408Z"
   },
   {
    "duration": 104,
    "start_time": "2021-10-04T14:49:12.592Z"
   },
   {
    "duration": 108,
    "start_time": "2021-10-04T14:49:12.699Z"
   },
   {
    "duration": 107,
    "start_time": "2021-10-04T14:49:12.810Z"
   },
   {
    "duration": 41,
    "start_time": "2021-10-04T14:49:12.920Z"
   },
   {
    "duration": 26,
    "start_time": "2021-10-04T14:49:12.964Z"
   },
   {
    "duration": 27,
    "start_time": "2021-10-04T14:49:12.993Z"
   },
   {
    "duration": 56,
    "start_time": "2021-10-04T14:49:13.023Z"
   },
   {
    "duration": 7,
    "start_time": "2021-10-04T14:49:13.081Z"
   },
   {
    "duration": 184,
    "start_time": "2021-10-04T14:49:13.091Z"
   },
   {
    "duration": 109,
    "start_time": "2021-10-04T14:49:13.278Z"
   },
   {
    "duration": 4,
    "start_time": "2021-10-04T14:49:13.390Z"
   },
   {
    "duration": 2815,
    "start_time": "2021-10-04T14:49:13.397Z"
   },
   {
    "duration": 1396,
    "start_time": "2021-10-04T14:49:16.215Z"
   },
   {
    "duration": 7153,
    "start_time": "2021-10-04T14:49:27.279Z"
   },
   {
    "duration": 6485,
    "start_time": "2021-10-04T14:51:18.519Z"
   },
   {
    "duration": 3663,
    "start_time": "2021-10-04T14:51:28.239Z"
   },
   {
    "duration": 2110,
    "start_time": "2021-10-04T14:51:31.905Z"
   },
   {
    "duration": 184,
    "start_time": "2021-10-04T14:51:34.018Z"
   },
   {
    "duration": 1313,
    "start_time": "2021-10-04T14:51:34.205Z"
   },
   {
    "duration": 59,
    "start_time": "2021-10-04T14:51:35.521Z"
   },
   {
    "duration": 100,
    "start_time": "2021-10-04T14:52:13.222Z"
   },
   {
    "duration": 105,
    "start_time": "2021-10-04T14:53:02.487Z"
   },
   {
    "duration": 118,
    "start_time": "2021-10-04T14:53:57.640Z"
   },
   {
    "duration": 3192,
    "start_time": "2021-10-04T14:56:03.175Z"
   },
   {
    "duration": 3482,
    "start_time": "2021-10-04T14:56:06.371Z"
   },
   {
    "duration": 178,
    "start_time": "2021-10-04T14:56:09.856Z"
   },
   {
    "duration": 1351,
    "start_time": "2021-10-04T14:56:10.037Z"
   },
   {
    "duration": 47,
    "start_time": "2021-10-04T14:56:11.391Z"
   },
   {
    "duration": 126,
    "start_time": "2021-10-04T14:56:11.441Z"
   },
   {
    "duration": 57,
    "start_time": "2021-10-04T14:56:11.570Z"
   },
   {
    "duration": 188,
    "start_time": "2021-10-04T14:56:11.631Z"
   },
   {
    "duration": 80,
    "start_time": "2021-10-04T14:56:11.822Z"
   },
   {
    "duration": 118,
    "start_time": "2021-10-04T14:56:11.904Z"
   },
   {
    "duration": 121,
    "start_time": "2021-10-04T14:56:12.024Z"
   },
   {
    "duration": 37,
    "start_time": "2021-10-04T14:56:12.148Z"
   },
   {
    "duration": 49,
    "start_time": "2021-10-04T14:56:12.188Z"
   },
   {
    "duration": 37,
    "start_time": "2021-10-04T14:56:12.240Z"
   },
   {
    "duration": 44,
    "start_time": "2021-10-04T14:56:12.279Z"
   },
   {
    "duration": 15,
    "start_time": "2021-10-04T14:56:12.326Z"
   },
   {
    "duration": 182,
    "start_time": "2021-10-04T14:56:12.361Z"
   },
   {
    "duration": 122,
    "start_time": "2021-10-04T14:56:12.545Z"
   },
   {
    "duration": 3,
    "start_time": "2021-10-04T14:56:12.670Z"
   },
   {
    "duration": 2608,
    "start_time": "2021-10-04T14:56:12.676Z"
   },
   {
    "duration": 167,
    "start_time": "2021-10-04T14:56:15.286Z"
   },
   {
    "duration": 2533,
    "start_time": "2021-10-04T14:56:15.456Z"
   },
   {
    "duration": 223,
    "start_time": "2021-10-04T14:56:17.994Z"
   },
   {
    "duration": 2728,
    "start_time": "2021-10-04T14:56:18.219Z"
   },
   {
    "duration": 54,
    "start_time": "2021-10-04T14:56:20.949Z"
   },
   {
    "duration": 466,
    "start_time": "2021-10-04T14:56:21.005Z"
   },
   {
    "duration": 17,
    "start_time": "2021-10-04T14:58:09.734Z"
   },
   {
    "duration": 15,
    "start_time": "2021-10-04T14:58:24.015Z"
   },
   {
    "duration": 22,
    "start_time": "2021-10-04T14:58:41.902Z"
   },
   {
    "duration": 25,
    "start_time": "2021-10-04T15:00:48.469Z"
   },
   {
    "duration": 24,
    "start_time": "2021-10-04T15:03:21.843Z"
   },
   {
    "duration": 16,
    "start_time": "2021-10-04T15:04:03.835Z"
   },
   {
    "duration": 16,
    "start_time": "2021-10-04T15:04:32.868Z"
   },
   {
    "duration": 47,
    "start_time": "2021-10-04T15:04:41.572Z"
   },
   {
    "duration": 7,
    "start_time": "2021-10-04T15:08:05.592Z"
   },
   {
    "duration": 325,
    "start_time": "2021-10-04T15:08:05.602Z"
   },
   {
    "duration": -93,
    "start_time": "2021-10-04T15:08:06.023Z"
   },
   {
    "duration": -97,
    "start_time": "2021-10-04T15:08:06.028Z"
   },
   {
    "duration": -98,
    "start_time": "2021-10-04T15:08:06.031Z"
   },
   {
    "duration": -101,
    "start_time": "2021-10-04T15:08:06.035Z"
   },
   {
    "duration": -104,
    "start_time": "2021-10-04T15:08:06.040Z"
   },
   {
    "duration": -107,
    "start_time": "2021-10-04T15:08:06.044Z"
   },
   {
    "duration": -107,
    "start_time": "2021-10-04T15:08:06.046Z"
   },
   {
    "duration": -108,
    "start_time": "2021-10-04T15:08:06.048Z"
   },
   {
    "duration": 4006,
    "start_time": "2021-10-04T15:08:13.195Z"
   },
   {
    "duration": 1789,
    "start_time": "2021-10-04T15:08:17.204Z"
   },
   {
    "duration": 186,
    "start_time": "2021-10-04T15:08:18.997Z"
   },
   {
    "duration": 1430,
    "start_time": "2021-10-04T15:08:19.186Z"
   },
   {
    "duration": 67,
    "start_time": "2021-10-04T15:08:20.619Z"
   },
   {
    "duration": 124,
    "start_time": "2021-10-04T15:08:20.688Z"
   },
   {
    "duration": 85,
    "start_time": "2021-10-04T15:08:20.815Z"
   },
   {
    "duration": 203,
    "start_time": "2021-10-04T15:08:20.904Z"
   },
   {
    "duration": 118,
    "start_time": "2021-10-04T15:08:21.112Z"
   },
   {
    "duration": 112,
    "start_time": "2021-10-04T15:08:21.232Z"
   },
   {
    "duration": 116,
    "start_time": "2021-10-04T15:08:21.346Z"
   },
   {
    "duration": 26,
    "start_time": "2021-10-04T15:08:21.465Z"
   },
   {
    "duration": 70,
    "start_time": "2021-10-04T15:08:21.494Z"
   },
   {
    "duration": 51,
    "start_time": "2021-10-04T15:08:21.568Z"
   },
   {
    "duration": 60,
    "start_time": "2021-10-04T15:08:21.623Z"
   },
   {
    "duration": 24,
    "start_time": "2021-10-04T15:08:21.687Z"
   },
   {
    "duration": 296,
    "start_time": "2021-10-04T15:08:21.714Z"
   },
   {
    "duration": 111,
    "start_time": "2021-10-04T15:08:22.012Z"
   },
   {
    "duration": 4,
    "start_time": "2021-10-04T15:08:22.126Z"
   },
   {
    "duration": 4143,
    "start_time": "2021-10-04T15:08:22.133Z"
   },
   {
    "duration": 247,
    "start_time": "2021-10-04T15:08:26.279Z"
   },
   {
    "duration": 4331,
    "start_time": "2021-10-04T15:08:26.530Z"
   },
   {
    "duration": 341,
    "start_time": "2021-10-04T15:08:30.870Z"
   },
   {
    "duration": 4336,
    "start_time": "2021-10-04T15:08:31.216Z"
   },
   {
    "duration": 45,
    "start_time": "2021-10-04T15:08:35.562Z"
   },
   {
    "duration": 456,
    "start_time": "2021-10-04T15:08:35.609Z"
   },
   {
    "duration": 23,
    "start_time": "2021-10-04T15:08:36.067Z"
   },
   {
    "duration": 15,
    "start_time": "2021-10-04T15:08:36.093Z"
   },
   {
    "duration": 81,
    "start_time": "2021-10-04T15:08:36.110Z"
   },
   {
    "duration": 5,
    "start_time": "2021-10-04T15:08:36.194Z"
   },
   {
    "duration": 108,
    "start_time": "2021-10-04T15:08:36.201Z"
   },
   {
    "duration": 7,
    "start_time": "2021-10-04T15:08:36.312Z"
   },
   {
    "duration": 539,
    "start_time": "2021-10-04T15:08:36.322Z"
   },
   {
    "duration": 431,
    "start_time": "2021-10-04T15:08:36.864Z"
   },
   {
    "duration": 577,
    "start_time": "2021-10-04T15:08:37.297Z"
   },
   {
    "duration": 507,
    "start_time": "2021-10-04T15:08:37.877Z"
   },
   {
    "duration": 548,
    "start_time": "2021-10-04T15:08:38.387Z"
   },
   {
    "duration": 479,
    "start_time": "2021-10-04T15:08:38.937Z"
   },
   {
    "duration": 29,
    "start_time": "2021-10-04T15:08:39.418Z"
   },
   {
    "duration": 2093,
    "start_time": "2021-10-04T15:08:39.463Z"
   },
   {
    "duration": 4,
    "start_time": "2021-10-04T15:08:41.563Z"
   },
   {
    "duration": 34,
    "start_time": "2021-10-04T15:08:41.571Z"
   },
   {
    "duration": 76,
    "start_time": "2021-10-04T15:08:41.608Z"
   },
   {
    "duration": 3,
    "start_time": "2021-10-04T15:08:41.687Z"
   },
   {
    "duration": 139,
    "start_time": "2021-10-04T15:08:41.693Z"
   },
   {
    "duration": 7,
    "start_time": "2021-10-04T15:08:41.835Z"
   },
   {
    "duration": 33117,
    "start_time": "2021-10-04T15:08:41.845Z"
   },
   {
    "duration": 6,
    "start_time": "2021-10-04T15:09:14.964Z"
   },
   {
    "duration": 97,
    "start_time": "2021-10-04T15:09:14.974Z"
   },
   {
    "duration": 3232,
    "start_time": "2021-10-04T15:10:52.778Z"
   },
   {
    "duration": 1941,
    "start_time": "2021-10-04T15:10:56.013Z"
   },
   {
    "duration": 183,
    "start_time": "2021-10-04T15:10:57.957Z"
   },
   {
    "duration": 1346,
    "start_time": "2021-10-04T15:10:58.143Z"
   },
   {
    "duration": 78,
    "start_time": "2021-10-04T15:10:59.492Z"
   },
   {
    "duration": 125,
    "start_time": "2021-10-04T15:10:59.573Z"
   },
   {
    "duration": 80,
    "start_time": "2021-10-04T15:10:59.701Z"
   },
   {
    "duration": 179,
    "start_time": "2021-10-04T15:10:59.787Z"
   },
   {
    "duration": 97,
    "start_time": "2021-10-04T15:10:59.970Z"
   },
   {
    "duration": 113,
    "start_time": "2021-10-04T15:11:00.070Z"
   },
   {
    "duration": 116,
    "start_time": "2021-10-04T15:11:00.185Z"
   },
   {
    "duration": 27,
    "start_time": "2021-10-04T15:11:00.303Z"
   },
   {
    "duration": 48,
    "start_time": "2021-10-04T15:11:00.333Z"
   },
   {
    "duration": 64,
    "start_time": "2021-10-04T15:11:00.384Z"
   },
   {
    "duration": 51,
    "start_time": "2021-10-04T15:11:00.450Z"
   },
   {
    "duration": 27,
    "start_time": "2021-10-04T15:11:00.503Z"
   },
   {
    "duration": 182,
    "start_time": "2021-10-04T15:11:00.532Z"
   },
   {
    "duration": 111,
    "start_time": "2021-10-04T15:11:00.717Z"
   },
   {
    "duration": 11,
    "start_time": "2021-10-04T15:11:00.830Z"
   },
   {
    "duration": 2679,
    "start_time": "2021-10-04T15:11:00.844Z"
   },
   {
    "duration": 160,
    "start_time": "2021-10-04T15:11:03.525Z"
   },
   {
    "duration": 2609,
    "start_time": "2021-10-04T15:11:03.688Z"
   },
   {
    "duration": 237,
    "start_time": "2021-10-04T15:11:06.302Z"
   },
   {
    "duration": 2859,
    "start_time": "2021-10-04T15:11:06.542Z"
   },
   {
    "duration": 60,
    "start_time": "2021-10-04T15:11:09.403Z"
   },
   {
    "duration": 441,
    "start_time": "2021-10-04T15:11:09.466Z"
   },
   {
    "duration": 27,
    "start_time": "2021-10-04T15:11:09.909Z"
   },
   {
    "duration": 39,
    "start_time": "2021-10-04T15:11:09.939Z"
   },
   {
    "duration": 45,
    "start_time": "2021-10-04T15:11:09.981Z"
   },
   {
    "duration": 4,
    "start_time": "2021-10-04T15:11:10.029Z"
   },
   {
    "duration": 112,
    "start_time": "2021-10-04T15:11:10.063Z"
   },
   {
    "duration": 8,
    "start_time": "2021-10-04T15:11:10.178Z"
   },
   {
    "duration": 466,
    "start_time": "2021-10-04T15:11:10.189Z"
   },
   {
    "duration": 386,
    "start_time": "2021-10-04T15:11:10.657Z"
   },
   {
    "duration": 542,
    "start_time": "2021-10-04T15:11:11.046Z"
   },
   {
    "duration": 426,
    "start_time": "2021-10-04T15:11:11.591Z"
   },
   {
    "duration": 502,
    "start_time": "2021-10-04T15:11:12.019Z"
   },
   {
    "duration": 396,
    "start_time": "2021-10-04T15:11:12.523Z"
   },
   {
    "duration": 27,
    "start_time": "2021-10-04T15:11:12.921Z"
   },
   {
    "duration": 1501,
    "start_time": "2021-10-04T15:11:12.950Z"
   },
   {
    "duration": 8,
    "start_time": "2021-10-04T15:11:14.454Z"
   },
   {
    "duration": 26,
    "start_time": "2021-10-04T15:11:14.465Z"
   },
   {
    "duration": 92,
    "start_time": "2021-10-04T15:11:14.493Z"
   },
   {
    "duration": 3,
    "start_time": "2021-10-04T15:11:14.588Z"
   },
   {
    "duration": 143,
    "start_time": "2021-10-04T15:11:14.594Z"
   },
   {
    "duration": 7,
    "start_time": "2021-10-04T15:11:14.740Z"
   },
   {
    "duration": 32512,
    "start_time": "2021-10-04T15:11:14.750Z"
   },
   {
    "duration": 5,
    "start_time": "2021-10-04T15:11:47.265Z"
   },
   {
    "duration": 190,
    "start_time": "2021-10-04T15:11:47.272Z"
   },
   {
    "duration": 96,
    "start_time": "2021-10-04T15:11:47.466Z"
   },
   {
    "duration": 56167,
    "start_time": "2021-10-04T15:11:47.565Z"
   },
   {
    "duration": 34,
    "start_time": "2021-10-04T15:12:43.735Z"
   },
   {
    "duration": 4,
    "start_time": "2021-10-04T15:12:43.772Z"
   },
   {
    "duration": 239868,
    "start_time": "2021-10-04T15:12:43.778Z"
   },
   {
    "duration": 248,
    "start_time": "2021-10-04T15:16:43.648Z"
   },
   {
    "duration": 5,
    "start_time": "2021-10-04T15:16:43.899Z"
   },
   {
    "duration": 293165,
    "start_time": "2021-10-04T15:16:43.906Z"
   },
   {
    "duration": 197,
    "start_time": "2021-10-04T15:21:37.073Z"
   },
   {
    "duration": 13,
    "start_time": "2021-10-04T15:21:37.272Z"
   },
   {
    "duration": 100,
    "start_time": "2021-10-04T15:39:33.116Z"
   },
   {
    "duration": 272,
    "start_time": "2021-10-04T15:43:49.611Z"
   },
   {
    "duration": 1895,
    "start_time": "2021-10-04T15:47:48.300Z"
   },
   {
    "duration": 292,
    "start_time": "2021-10-04T15:52:57.961Z"
   },
   {
    "duration": 3257,
    "start_time": "2021-10-04T15:53:45.608Z"
   },
   {
    "duration": 2678,
    "start_time": "2021-10-04T15:54:25.656Z"
   },
   {
    "duration": 2874,
    "start_time": "2021-10-04T15:54:39.075Z"
   },
   {
    "duration": 3736,
    "start_time": "2021-10-04T15:55:04.488Z"
   },
   {
    "duration": 6,
    "start_time": "2021-10-04T15:55:17.425Z"
   },
   {
    "duration": 6,
    "start_time": "2021-10-04T15:55:28.736Z"
   },
   {
    "duration": 5,
    "start_time": "2021-10-04T15:55:58.744Z"
   },
   {
    "duration": 5369,
    "start_time": "2021-10-04T15:56:29.664Z"
   },
   {
    "duration": 2572,
    "start_time": "2021-10-04T15:56:45.808Z"
   },
   {
    "duration": 3042,
    "start_time": "2021-10-04T15:57:27.528Z"
   },
   {
    "duration": 119,
    "start_time": "2021-10-04T16:07:52.967Z"
   },
   {
    "duration": 99,
    "start_time": "2021-10-04T16:10:43.041Z"
   },
   {
    "duration": 6134,
    "start_time": "2021-10-04T16:17:37.190Z"
   },
   {
    "duration": 3613,
    "start_time": "2021-10-04T16:17:43.327Z"
   },
   {
    "duration": 209,
    "start_time": "2021-10-04T16:17:46.943Z"
   },
   {
    "duration": 1554,
    "start_time": "2021-10-04T16:17:47.162Z"
   },
   {
    "duration": 67,
    "start_time": "2021-10-04T16:17:48.718Z"
   },
   {
    "duration": 113,
    "start_time": "2021-10-04T16:17:48.787Z"
   },
   {
    "duration": 81,
    "start_time": "2021-10-04T16:17:48.903Z"
   },
   {
    "duration": 192,
    "start_time": "2021-10-04T16:17:48.988Z"
   },
   {
    "duration": 87,
    "start_time": "2021-10-04T16:17:49.183Z"
   },
   {
    "duration": 124,
    "start_time": "2021-10-04T16:17:49.272Z"
   },
   {
    "duration": 113,
    "start_time": "2021-10-04T16:17:49.399Z"
   },
   {
    "duration": 27,
    "start_time": "2021-10-04T16:17:49.514Z"
   },
   {
    "duration": 53,
    "start_time": "2021-10-04T16:17:49.543Z"
   },
   {
    "duration": 27,
    "start_time": "2021-10-04T16:17:49.599Z"
   },
   {
    "duration": 59,
    "start_time": "2021-10-04T16:17:49.629Z"
   },
   {
    "duration": 7,
    "start_time": "2021-10-04T16:17:49.690Z"
   },
   {
    "duration": 195,
    "start_time": "2021-10-04T16:17:49.700Z"
   },
   {
    "duration": 169,
    "start_time": "2021-10-04T16:17:49.897Z"
   },
   {
    "duration": 6,
    "start_time": "2021-10-04T16:17:50.069Z"
   },
   {
    "duration": 2826,
    "start_time": "2021-10-04T16:17:50.079Z"
   },
   {
    "duration": 218,
    "start_time": "2021-10-04T16:17:52.909Z"
   },
   {
    "duration": 2825,
    "start_time": "2021-10-04T16:17:53.130Z"
   },
   {
    "duration": 232,
    "start_time": "2021-10-04T16:17:55.960Z"
   },
   {
    "duration": 2973,
    "start_time": "2021-10-04T16:17:56.195Z"
   },
   {
    "duration": 58,
    "start_time": "2021-10-04T16:17:59.172Z"
   },
   {
    "duration": 511,
    "start_time": "2021-10-04T16:17:59.233Z"
   },
   {
    "duration": 46,
    "start_time": "2021-10-04T16:17:59.747Z"
   },
   {
    "duration": 27,
    "start_time": "2021-10-04T16:17:59.797Z"
   },
   {
    "duration": 78,
    "start_time": "2021-10-04T16:17:59.829Z"
   },
   {
    "duration": 5,
    "start_time": "2021-10-04T16:17:59.911Z"
   },
   {
    "duration": 143,
    "start_time": "2021-10-04T16:17:59.919Z"
   },
   {
    "duration": 9,
    "start_time": "2021-10-04T16:18:00.070Z"
   },
   {
    "duration": 551,
    "start_time": "2021-10-04T16:18:00.081Z"
   },
   {
    "duration": 446,
    "start_time": "2021-10-04T16:18:00.635Z"
   },
   {
    "duration": 811,
    "start_time": "2021-10-04T16:18:01.085Z"
   },
   {
    "duration": 470,
    "start_time": "2021-10-04T16:18:01.900Z"
   },
   {
    "duration": 527,
    "start_time": "2021-10-04T16:18:02.375Z"
   },
   {
    "duration": 396,
    "start_time": "2021-10-04T16:18:02.905Z"
   },
   {
    "duration": 29,
    "start_time": "2021-10-04T16:18:03.303Z"
   },
   {
    "duration": 1593,
    "start_time": "2021-10-04T16:18:03.334Z"
   },
   {
    "duration": 3,
    "start_time": "2021-10-04T16:18:04.930Z"
   },
   {
    "duration": 45,
    "start_time": "2021-10-04T16:18:04.936Z"
   },
   {
    "duration": 63,
    "start_time": "2021-10-04T16:18:04.984Z"
   },
   {
    "duration": 11,
    "start_time": "2021-10-04T16:18:05.063Z"
   },
   {
    "duration": 146,
    "start_time": "2021-10-04T16:18:05.077Z"
   },
   {
    "duration": 8,
    "start_time": "2021-10-04T16:18:05.225Z"
   },
   {
    "duration": 33727,
    "start_time": "2021-10-04T16:18:05.236Z"
   },
   {
    "duration": 8,
    "start_time": "2021-10-04T16:18:38.966Z"
   },
   {
    "duration": 86,
    "start_time": "2021-10-04T16:18:38.978Z"
   },
   {
    "duration": 97,
    "start_time": "2021-10-04T16:18:39.067Z"
   },
   {
    "duration": 60817,
    "start_time": "2021-10-04T16:18:39.168Z"
   },
   {
    "duration": 29,
    "start_time": "2021-10-04T16:19:39.987Z"
   },
   {
    "duration": 4,
    "start_time": "2021-10-04T16:19:40.019Z"
   },
   {
    "duration": 243609,
    "start_time": "2021-10-04T16:19:40.026Z"
   },
   {
    "duration": 273,
    "start_time": "2021-10-04T16:23:43.637Z"
   },
   {
    "duration": 4,
    "start_time": "2021-10-04T16:23:43.913Z"
   },
   {
    "duration": 860293,
    "start_time": "2021-10-04T16:23:43.919Z"
   },
   {
    "duration": -131,
    "start_time": "2021-10-04T16:38:04.346Z"
   },
   {
    "duration": -134,
    "start_time": "2021-10-04T16:38:04.350Z"
   },
   {
    "duration": -136,
    "start_time": "2021-10-04T16:38:04.353Z"
   },
   {
    "duration": 5423,
    "start_time": "2021-10-04T16:41:24.780Z"
   },
   {
    "duration": 2051,
    "start_time": "2021-10-04T16:41:30.206Z"
   },
   {
    "duration": 216,
    "start_time": "2021-10-04T16:41:32.263Z"
   },
   {
    "duration": 1480,
    "start_time": "2021-10-04T16:41:32.482Z"
   },
   {
    "duration": 59,
    "start_time": "2021-10-04T16:41:33.965Z"
   },
   {
    "duration": 151,
    "start_time": "2021-10-04T16:41:34.027Z"
   },
   {
    "duration": 66,
    "start_time": "2021-10-04T16:41:34.180Z"
   },
   {
    "duration": 186,
    "start_time": "2021-10-04T16:41:34.250Z"
   },
   {
    "duration": 81,
    "start_time": "2021-10-04T16:41:34.439Z"
   },
   {
    "duration": 113,
    "start_time": "2021-10-04T16:41:34.523Z"
   },
   {
    "duration": 117,
    "start_time": "2021-10-04T16:41:34.639Z"
   },
   {
    "duration": 26,
    "start_time": "2021-10-04T16:41:34.763Z"
   },
   {
    "duration": 40,
    "start_time": "2021-10-04T16:41:34.793Z"
   },
   {
    "duration": 46,
    "start_time": "2021-10-04T16:41:34.837Z"
   },
   {
    "duration": 34,
    "start_time": "2021-10-04T16:41:34.885Z"
   },
   {
    "duration": 24,
    "start_time": "2021-10-04T16:41:34.922Z"
   },
   {
    "duration": 192,
    "start_time": "2021-10-04T16:41:34.949Z"
   },
   {
    "duration": 119,
    "start_time": "2021-10-04T16:41:35.143Z"
   },
   {
    "duration": 5,
    "start_time": "2021-10-04T16:41:35.265Z"
   },
   {
    "duration": 2559,
    "start_time": "2021-10-04T16:41:35.273Z"
   },
   {
    "duration": 175,
    "start_time": "2021-10-04T16:41:37.835Z"
   },
   {
    "duration": 2722,
    "start_time": "2021-10-04T16:41:38.014Z"
   },
   {
    "duration": 251,
    "start_time": "2021-10-04T16:41:40.745Z"
   },
   {
    "duration": 2644,
    "start_time": "2021-10-04T16:41:41.000Z"
   },
   {
    "duration": 58,
    "start_time": "2021-10-04T16:41:43.646Z"
   },
   {
    "duration": 458,
    "start_time": "2021-10-04T16:41:43.707Z"
   },
   {
    "duration": 26,
    "start_time": "2021-10-04T16:41:44.168Z"
   },
   {
    "duration": 17,
    "start_time": "2021-10-04T16:41:44.197Z"
   },
   {
    "duration": 88,
    "start_time": "2021-10-04T16:41:44.217Z"
   },
   {
    "duration": 4,
    "start_time": "2021-10-04T16:41:44.308Z"
   },
   {
    "duration": 110,
    "start_time": "2021-10-04T16:41:44.314Z"
   },
   {
    "duration": 7,
    "start_time": "2021-10-04T16:41:44.426Z"
   },
   {
    "duration": 558,
    "start_time": "2021-10-04T16:41:44.435Z"
   },
   {
    "duration": 390,
    "start_time": "2021-10-04T16:41:44.995Z"
   },
   {
    "duration": 656,
    "start_time": "2021-10-04T16:41:45.388Z"
   },
   {
    "duration": 434,
    "start_time": "2021-10-04T16:41:46.046Z"
   },
   {
    "duration": 527,
    "start_time": "2021-10-04T16:41:46.483Z"
   },
   {
    "duration": 403,
    "start_time": "2021-10-04T16:41:47.012Z"
   },
   {
    "duration": 45,
    "start_time": "2021-10-04T16:41:47.417Z"
   },
   {
    "duration": 1532,
    "start_time": "2021-10-04T16:41:47.464Z"
   },
   {
    "duration": 4,
    "start_time": "2021-10-04T16:41:48.998Z"
   },
   {
    "duration": 30,
    "start_time": "2021-10-04T16:41:49.004Z"
   },
   {
    "duration": 84,
    "start_time": "2021-10-04T16:41:49.037Z"
   },
   {
    "duration": 3,
    "start_time": "2021-10-04T16:41:49.123Z"
   },
   {
    "duration": 154,
    "start_time": "2021-10-04T16:41:49.129Z"
   },
   {
    "duration": 7,
    "start_time": "2021-10-04T16:41:49.285Z"
   },
   {
    "duration": 34070,
    "start_time": "2021-10-04T16:41:49.295Z"
   },
   {
    "duration": 5,
    "start_time": "2021-10-04T16:42:23.367Z"
   },
   {
    "duration": 94,
    "start_time": "2021-10-04T16:42:23.374Z"
   },
   {
    "duration": 97,
    "start_time": "2021-10-04T16:42:23.472Z"
   },
   {
    "duration": 55440,
    "start_time": "2021-10-04T16:42:23.572Z"
   },
   {
    "duration": 20,
    "start_time": "2021-10-04T16:43:19.015Z"
   },
   {
    "duration": 4,
    "start_time": "2021-10-04T16:43:19.037Z"
   },
   {
    "duration": 222743,
    "start_time": "2021-10-04T16:43:19.063Z"
   },
   {
    "duration": 282,
    "start_time": "2021-10-04T16:47:01.809Z"
   },
   {
    "duration": 4,
    "start_time": "2021-10-04T16:47:02.094Z"
   },
   {
    "duration": 187378,
    "start_time": "2021-10-04T16:47:02.100Z"
   },
   {
    "duration": 109,
    "start_time": "2021-10-04T16:50:09.562Z"
   },
   {
    "duration": 88,
    "start_time": "2021-10-04T16:50:09.674Z"
   },
   {
    "duration": 2922,
    "start_time": "2021-10-04T16:50:09.764Z"
   }
  ],
  "kernelspec": {
   "display_name": "Python 3 (ipykernel)",
   "language": "python",
   "name": "python3"
  },
  "language_info": {
   "codemirror_mode": {
    "name": "ipython",
    "version": 3
   },
   "file_extension": ".py",
   "mimetype": "text/x-python",
   "name": "python",
   "nbconvert_exporter": "python",
   "pygments_lexer": "ipython3",
   "version": "3.9.5"
  },
  "toc": {
   "base_numbering": 1,
   "nav_menu": {},
   "number_sections": true,
   "sideBar": true,
   "skip_h1_title": true,
   "title_cell": "Table of Contents",
   "title_sidebar": "Contents",
   "toc_cell": false,
   "toc_position": {
    "height": "calc(100% - 180px)",
    "left": "10px",
    "top": "150px",
    "width": "366.391px"
   },
   "toc_section_display": true,
   "toc_window_display": true
  }
 },
 "nbformat": 4,
 "nbformat_minor": 2
}
